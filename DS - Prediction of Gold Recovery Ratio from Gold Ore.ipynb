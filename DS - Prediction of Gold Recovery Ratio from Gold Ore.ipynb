{
 "cells": [
  {
   "cell_type": "markdown",
   "metadata": {},
   "source": [
    "# Prediction of Gold Recovery Ratio from Gold Ore"
   ]
  },
  {
   "cell_type": "markdown",
   "metadata": {},
   "source": [
    "provided data with the parameters of extraction and purification of gold from ore\n",
    "\n",
    "**TASK:** to prepare a prototype machine learning model for a company that develops solutions for the efficient operation of industrial enterprises and predict the recovery rate of gold from gold ore. the model should help optimize production so as not to launch an enterprise with unprofitable characteristics.\n",
    "\n",
    "**Recovery** is calculated using the formula:\n",
    "\n",
    "$$ Recovery = \\frac{C * (F - T)}{F * (C - T)} * 100\\% $$\n",
    "\n",
    "where:\n",
    "- C is the proportion of gold in the concentrate after flotation/refining\n",
    "- F is the share of gold in the raw material/concentrate before flotation/refining\n",
    "- T is the share of gold in final tailings after flotation/cleaning\n",
    "\n",
    "**quality metric** - sMAPE (Symmetric Mean Absolute Percentage Error)\n",
    "\n",
    "it is necessary to predict the values:\n",
    "- rough concentrate enrichment efficiency rougher.output.recovery\n",
    "- efficiency of final concentrate final.output.recovery\n",
    "\n",
    "final metric: final_sMAPE = 25% * sMAPE(rougher) + 75% * sMAPE(final)\n",
    "\n",
    "**Key skills and tools:** exploratory data analysis, data visualization, \n",
    "- Pandas, Sklearn"
   ]
  },
  {
   "cell_type": "markdown",
   "metadata": {
    "toc": true
   },
   "source": [
    "<h1>Table of Contents<span class=\"tocSkip\"></span></h1>\n",
    "<div class=\"toc\"><ul class=\"toc-item\"><li><span><a href=\"#Data-preprocessing\" data-toc-modified-id=\"Data-preprocessing-1\"><span class=\"toc-item-num\">1&nbsp;&nbsp;</span>Data preprocessing</a></span></li><li><span><a href=\"#Data-analysis\" data-toc-modified-id=\"Data-analysis-2\"><span class=\"toc-item-num\">2&nbsp;&nbsp;</span>Data analysis</a></span><ul class=\"toc-item\"><li><span><a href=\"#concentration-of-metals\" data-toc-modified-id=\"concentration-of-metals-2.1\"><span class=\"toc-item-num\">2.1&nbsp;&nbsp;</span>concentration of metals</a></span></li><li><span><a href=\"#size-distribution-of-raw-material-granules\" data-toc-modified-id=\"size-distribution-of-raw-material-granules-2.2\"><span class=\"toc-item-num\">2.2&nbsp;&nbsp;</span>size distribution of raw material granules</a></span><ul class=\"toc-item\"><li><span><a href=\"#rougher-stage\" data-toc-modified-id=\"rougher-stage-2.2.1\"><span class=\"toc-item-num\">2.2.1&nbsp;&nbsp;</span>rougher stage</a></span></li><li><span><a href=\"#primary_cleaner-stage\" data-toc-modified-id=\"primary_cleaner-stage-2.2.2\"><span class=\"toc-item-num\">2.2.2&nbsp;&nbsp;</span>primary_cleaner stage</a></span></li></ul></li><li><span><a href=\"#total-concentration-of-all-substances\" data-toc-modified-id=\"total-concentration-of-all-substances-2.3\"><span class=\"toc-item-num\">2.3&nbsp;&nbsp;</span>total concentration of all substances</a></span></li></ul></li><li><span><a href=\"#Model\" data-toc-modified-id=\"Model-3\"><span class=\"toc-item-num\">3&nbsp;&nbsp;</span>Model</a></span><ul class=\"toc-item\"><li><span><a href=\"#model-selection\" data-toc-modified-id=\"model-selection-3.1\"><span class=\"toc-item-num\">3.1&nbsp;&nbsp;</span>model selection</a></span></li><li><span><a href=\"#model-testing\" data-toc-modified-id=\"model-testing-3.2\"><span class=\"toc-item-num\">3.2&nbsp;&nbsp;</span>model testing</a></span></li></ul></li><li><span><a href=\"#Conclusion\" data-toc-modified-id=\"Conclusion-4\"><span class=\"toc-item-num\">4&nbsp;&nbsp;</span>Conclusion</a></span></li></ul></div>"
   ]
  },
  {
   "cell_type": "markdown",
   "metadata": {},
   "source": [
    "## Data preprocessing"
   ]
  },
  {
   "cell_type": "code",
   "execution_count": 1,
   "metadata": {},
   "outputs": [],
   "source": [
    "# DA\n",
    "import pandas as pd\n",
    "import numpy as np\n",
    "\n",
    "# visualization\n",
    "import matplotlib.pyplot as plt\n",
    "import seaborn as sns\n",
    "%matplotlib inline\n",
    "\n",
    "from scipy import stats as st\n",
    "\n",
    "# ML\n",
    "from sklearn.model_selection import train_test_split, GridSearchCV, cross_val_score, cross_val_predict\n",
    "from sklearn.linear_model import LinearRegression\n",
    "from sklearn.tree import DecisionTreeRegressor\n",
    "from sklearn.ensemble import RandomForestRegressor\n",
    "from sklearn.dummy import DummyRegressor\n",
    "from sklearn.metrics import mean_absolute_error\n",
    "\n",
    "# options\n",
    "pd.set_option('display.max_columns', None)\n",
    "pd.set_option('display.max_rows', None)\n",
    "pd.options.mode.chained_assignment = None\n",
    "import warnings\n",
    "warnings.filterwarnings('ignore')"
   ]
  },
  {
   "cell_type": "code",
   "execution_count": 2,
   "metadata": {},
   "outputs": [],
   "source": [
    "# fix RandomState\n",
    "STATE = np.random.RandomState(12345)"
   ]
  },
  {
   "cell_type": "markdown",
   "metadata": {},
   "source": [
    "**Data Description:**\n",
    "\n",
    "Technological process:\n",
    "- Rougher feed - feedstock\n",
    "- Rougher additions (or reagent additions) - flotation reagents: Xanthate, Sulphate, Depressant\n",
    "    - Xanthate ** - xanthate (promoter, or flotation activator);\n",
    "    - Sulphate - sulfate (in this production, sodium sulfide);\n",
    "    - Depressant - depressant (sodium silicate).\n",
    "- Rougher process - flotation\n",
    "- Rougher tails - rougher tails\n",
    "- Float banks - flotation unit\n",
    "- Cleaner process - cleaning\n",
    "- Rougher Au - rough gold concentrate\n",
    "- Final Au - final gold concentrate\n",
    "\n",
    "Stage parameters:\n",
    "- air amount — air volume\n",
    "- fluid levels - fluid level\n",
    "- feed size - feed granule size\n",
    "- feed rate - feed rate\n",
    "\n",
    "*Feature name:* [stage].[parameter_type].[parameter_name]\n",
    "\n",
    "Possible values for block [stage]:\n",
    "- `rougher` - flotation\n",
    "- `primary_cleaner` - primary cleaning\n",
    "- `secondary_cleaner ` - secondary cleaning\n",
    "- `final`—final characteristics\n",
    "\n",
    "Possible values for block [parameter_type]:\n",
    "- `input`— raw material parameters\n",
    "- `output ` - product parameters\n",
    "- `state` — parameters characterizing the current state of the stage\n",
    "- `calculation` — calculated characteristics\n",
    "\n",
    "The data is in three files:\n",
    "- gold_recovery_train.csv - training sample;\n",
    "- gold_recovery_test.csv - test sample;\n",
    "- gold_recovery_full.csv - initial data.\n",
    "\n",
    "The data is indexed by the date and time the information was received (the date attribute).\n",
    "Parameters adjacent in time are often similar.\n",
    "Some parameters are not available because they are measured and/or calculated much later. Because of this, the test set lacks some features that may be in the training set. Also, there are no target features in the test set.\n",
    "The initial dataset contains the training and test sets with all features."
   ]
  },
  {
   "cell_type": "code",
   "execution_count": 3,
   "metadata": {},
   "outputs": [],
   "source": [
    "# make a function that describes df\n",
    "def describe_func(df):\n",
    "    print('\\ndata type')\n",
    "    display(df.info())\n",
    "    print('\\nmissing values, %')\n",
    "    display(df.isna().mean()*100)\n",
    "    print('\\nduplicated')\n",
    "    print(df.duplicated().sum())"
   ]
  },
  {
   "cell_type": "code",
   "execution_count": 4,
   "metadata": {},
   "outputs": [
    {
     "data": {
      "text/html": [
       "<div>\n",
       "<style scoped>\n",
       "    .dataframe tbody tr th:only-of-type {\n",
       "        vertical-align: middle;\n",
       "    }\n",
       "\n",
       "    .dataframe tbody tr th {\n",
       "        vertical-align: top;\n",
       "    }\n",
       "\n",
       "    .dataframe thead th {\n",
       "        text-align: right;\n",
       "    }\n",
       "</style>\n",
       "<table border=\"1\" class=\"dataframe\">\n",
       "  <thead>\n",
       "    <tr style=\"text-align: right;\">\n",
       "      <th></th>\n",
       "      <th>final.output.concentrate_ag</th>\n",
       "      <th>final.output.concentrate_pb</th>\n",
       "      <th>final.output.concentrate_sol</th>\n",
       "      <th>final.output.concentrate_au</th>\n",
       "      <th>final.output.recovery</th>\n",
       "      <th>final.output.tail_ag</th>\n",
       "      <th>final.output.tail_pb</th>\n",
       "      <th>final.output.tail_sol</th>\n",
       "      <th>final.output.tail_au</th>\n",
       "      <th>primary_cleaner.input.sulfate</th>\n",
       "      <th>primary_cleaner.input.depressant</th>\n",
       "      <th>primary_cleaner.input.feed_size</th>\n",
       "      <th>primary_cleaner.input.xanthate</th>\n",
       "      <th>primary_cleaner.output.concentrate_ag</th>\n",
       "      <th>primary_cleaner.output.concentrate_pb</th>\n",
       "      <th>primary_cleaner.output.concentrate_sol</th>\n",
       "      <th>primary_cleaner.output.concentrate_au</th>\n",
       "      <th>primary_cleaner.output.tail_ag</th>\n",
       "      <th>primary_cleaner.output.tail_pb</th>\n",
       "      <th>primary_cleaner.output.tail_sol</th>\n",
       "      <th>primary_cleaner.output.tail_au</th>\n",
       "      <th>primary_cleaner.state.floatbank8_a_air</th>\n",
       "      <th>primary_cleaner.state.floatbank8_a_level</th>\n",
       "      <th>primary_cleaner.state.floatbank8_b_air</th>\n",
       "      <th>primary_cleaner.state.floatbank8_b_level</th>\n",
       "      <th>primary_cleaner.state.floatbank8_c_air</th>\n",
       "      <th>primary_cleaner.state.floatbank8_c_level</th>\n",
       "      <th>primary_cleaner.state.floatbank8_d_air</th>\n",
       "      <th>primary_cleaner.state.floatbank8_d_level</th>\n",
       "      <th>rougher.calculation.sulfate_to_au_concentrate</th>\n",
       "      <th>rougher.calculation.floatbank10_sulfate_to_au_feed</th>\n",
       "      <th>rougher.calculation.floatbank11_sulfate_to_au_feed</th>\n",
       "      <th>rougher.calculation.au_pb_ratio</th>\n",
       "      <th>rougher.input.feed_ag</th>\n",
       "      <th>rougher.input.feed_pb</th>\n",
       "      <th>rougher.input.feed_rate</th>\n",
       "      <th>rougher.input.feed_size</th>\n",
       "      <th>rougher.input.feed_sol</th>\n",
       "      <th>rougher.input.feed_au</th>\n",
       "      <th>rougher.input.floatbank10_sulfate</th>\n",
       "      <th>rougher.input.floatbank10_xanthate</th>\n",
       "      <th>rougher.input.floatbank11_sulfate</th>\n",
       "      <th>rougher.input.floatbank11_xanthate</th>\n",
       "      <th>rougher.output.concentrate_ag</th>\n",
       "      <th>rougher.output.concentrate_pb</th>\n",
       "      <th>rougher.output.concentrate_sol</th>\n",
       "      <th>rougher.output.concentrate_au</th>\n",
       "      <th>rougher.output.recovery</th>\n",
       "      <th>rougher.output.tail_ag</th>\n",
       "      <th>rougher.output.tail_pb</th>\n",
       "      <th>rougher.output.tail_sol</th>\n",
       "      <th>rougher.output.tail_au</th>\n",
       "      <th>rougher.state.floatbank10_a_air</th>\n",
       "      <th>rougher.state.floatbank10_a_level</th>\n",
       "      <th>rougher.state.floatbank10_b_air</th>\n",
       "      <th>rougher.state.floatbank10_b_level</th>\n",
       "      <th>rougher.state.floatbank10_c_air</th>\n",
       "      <th>rougher.state.floatbank10_c_level</th>\n",
       "      <th>rougher.state.floatbank10_d_air</th>\n",
       "      <th>rougher.state.floatbank10_d_level</th>\n",
       "      <th>rougher.state.floatbank10_e_air</th>\n",
       "      <th>rougher.state.floatbank10_e_level</th>\n",
       "      <th>rougher.state.floatbank10_f_air</th>\n",
       "      <th>rougher.state.floatbank10_f_level</th>\n",
       "      <th>secondary_cleaner.output.tail_ag</th>\n",
       "      <th>secondary_cleaner.output.tail_pb</th>\n",
       "      <th>secondary_cleaner.output.tail_sol</th>\n",
       "      <th>secondary_cleaner.output.tail_au</th>\n",
       "      <th>secondary_cleaner.state.floatbank2_a_air</th>\n",
       "      <th>secondary_cleaner.state.floatbank2_a_level</th>\n",
       "      <th>secondary_cleaner.state.floatbank2_b_air</th>\n",
       "      <th>secondary_cleaner.state.floatbank2_b_level</th>\n",
       "      <th>secondary_cleaner.state.floatbank3_a_air</th>\n",
       "      <th>secondary_cleaner.state.floatbank3_a_level</th>\n",
       "      <th>secondary_cleaner.state.floatbank3_b_air</th>\n",
       "      <th>secondary_cleaner.state.floatbank3_b_level</th>\n",
       "      <th>secondary_cleaner.state.floatbank4_a_air</th>\n",
       "      <th>secondary_cleaner.state.floatbank4_a_level</th>\n",
       "      <th>secondary_cleaner.state.floatbank4_b_air</th>\n",
       "      <th>secondary_cleaner.state.floatbank4_b_level</th>\n",
       "      <th>secondary_cleaner.state.floatbank5_a_air</th>\n",
       "      <th>secondary_cleaner.state.floatbank5_a_level</th>\n",
       "      <th>secondary_cleaner.state.floatbank5_b_air</th>\n",
       "      <th>secondary_cleaner.state.floatbank5_b_level</th>\n",
       "      <th>secondary_cleaner.state.floatbank6_a_air</th>\n",
       "      <th>secondary_cleaner.state.floatbank6_a_level</th>\n",
       "    </tr>\n",
       "    <tr>\n",
       "      <th>date</th>\n",
       "      <th></th>\n",
       "      <th></th>\n",
       "      <th></th>\n",
       "      <th></th>\n",
       "      <th></th>\n",
       "      <th></th>\n",
       "      <th></th>\n",
       "      <th></th>\n",
       "      <th></th>\n",
       "      <th></th>\n",
       "      <th></th>\n",
       "      <th></th>\n",
       "      <th></th>\n",
       "      <th></th>\n",
       "      <th></th>\n",
       "      <th></th>\n",
       "      <th></th>\n",
       "      <th></th>\n",
       "      <th></th>\n",
       "      <th></th>\n",
       "      <th></th>\n",
       "      <th></th>\n",
       "      <th></th>\n",
       "      <th></th>\n",
       "      <th></th>\n",
       "      <th></th>\n",
       "      <th></th>\n",
       "      <th></th>\n",
       "      <th></th>\n",
       "      <th></th>\n",
       "      <th></th>\n",
       "      <th></th>\n",
       "      <th></th>\n",
       "      <th></th>\n",
       "      <th></th>\n",
       "      <th></th>\n",
       "      <th></th>\n",
       "      <th></th>\n",
       "      <th></th>\n",
       "      <th></th>\n",
       "      <th></th>\n",
       "      <th></th>\n",
       "      <th></th>\n",
       "      <th></th>\n",
       "      <th></th>\n",
       "      <th></th>\n",
       "      <th></th>\n",
       "      <th></th>\n",
       "      <th></th>\n",
       "      <th></th>\n",
       "      <th></th>\n",
       "      <th></th>\n",
       "      <th></th>\n",
       "      <th></th>\n",
       "      <th></th>\n",
       "      <th></th>\n",
       "      <th></th>\n",
       "      <th></th>\n",
       "      <th></th>\n",
       "      <th></th>\n",
       "      <th></th>\n",
       "      <th></th>\n",
       "      <th></th>\n",
       "      <th></th>\n",
       "      <th></th>\n",
       "      <th></th>\n",
       "      <th></th>\n",
       "      <th></th>\n",
       "      <th></th>\n",
       "      <th></th>\n",
       "      <th></th>\n",
       "      <th></th>\n",
       "      <th></th>\n",
       "      <th></th>\n",
       "      <th></th>\n",
       "      <th></th>\n",
       "      <th></th>\n",
       "      <th></th>\n",
       "      <th></th>\n",
       "      <th></th>\n",
       "      <th></th>\n",
       "      <th></th>\n",
       "      <th></th>\n",
       "      <th></th>\n",
       "      <th></th>\n",
       "      <th></th>\n",
       "    </tr>\n",
       "  </thead>\n",
       "  <tbody>\n",
       "    <tr>\n",
       "      <th>2016-01-15 00:00:00</th>\n",
       "      <td>6.055403</td>\n",
       "      <td>9.889648</td>\n",
       "      <td>5.507324</td>\n",
       "      <td>42.192020</td>\n",
       "      <td>70.541216</td>\n",
       "      <td>10.411962</td>\n",
       "      <td>0.895447</td>\n",
       "      <td>16.904297</td>\n",
       "      <td>2.143149</td>\n",
       "      <td>127.092003</td>\n",
       "      <td>10.128295</td>\n",
       "      <td>7.25</td>\n",
       "      <td>0.988759</td>\n",
       "      <td>8.547551</td>\n",
       "      <td>10.389648</td>\n",
       "      <td>19.529297</td>\n",
       "      <td>34.174427</td>\n",
       "      <td>14.936526</td>\n",
       "      <td>2.534912</td>\n",
       "      <td>7.476074</td>\n",
       "      <td>2.106679</td>\n",
       "      <td>1549.775757</td>\n",
       "      <td>-498.912140</td>\n",
       "      <td>1551.434204</td>\n",
       "      <td>-516.403442</td>\n",
       "      <td>1549.873901</td>\n",
       "      <td>-498.666595</td>\n",
       "      <td>1554.367432</td>\n",
       "      <td>-493.428131</td>\n",
       "      <td>41885.707031</td>\n",
       "      <td>3481.779053</td>\n",
       "      <td>3520.337158</td>\n",
       "      <td>2.838687</td>\n",
       "      <td>6.100378</td>\n",
       "      <td>2.284912</td>\n",
       "      <td>523.546326</td>\n",
       "      <td>55.486599</td>\n",
       "      <td>36.808594</td>\n",
       "      <td>6.486150</td>\n",
       "      <td>11.986616</td>\n",
       "      <td>6.007990</td>\n",
       "      <td>11.836743</td>\n",
       "      <td>6.005818</td>\n",
       "      <td>11.500771</td>\n",
       "      <td>7.101074</td>\n",
       "      <td>28.029297</td>\n",
       "      <td>19.793808</td>\n",
       "      <td>87.107763</td>\n",
       "      <td>5.008018</td>\n",
       "      <td>0.508728</td>\n",
       "      <td>19.154297</td>\n",
       "      <td>1.170244</td>\n",
       "      <td>999.706909</td>\n",
       "      <td>-404.066986</td>\n",
       "      <td>1603.011353</td>\n",
       "      <td>-434.715027</td>\n",
       "      <td>1602.375000</td>\n",
       "      <td>-442.204468</td>\n",
       "      <td>1598.937256</td>\n",
       "      <td>-451.294128</td>\n",
       "      <td>1404.472046</td>\n",
       "      <td>-455.462982</td>\n",
       "      <td>1416.354980</td>\n",
       "      <td>-451.939636</td>\n",
       "      <td>14.500184</td>\n",
       "      <td>4.694824</td>\n",
       "      <td>8.764648</td>\n",
       "      <td>2.606185</td>\n",
       "      <td>25.853109</td>\n",
       "      <td>-498.526489</td>\n",
       "      <td>23.893660</td>\n",
       "      <td>-501.406281</td>\n",
       "      <td>23.961798</td>\n",
       "      <td>-495.262817</td>\n",
       "      <td>21.940409</td>\n",
       "      <td>-499.340973</td>\n",
       "      <td>14.016835</td>\n",
       "      <td>-502.488007</td>\n",
       "      <td>12.099931</td>\n",
       "      <td>-504.715942</td>\n",
       "      <td>9.925633</td>\n",
       "      <td>-498.310211</td>\n",
       "      <td>8.079666</td>\n",
       "      <td>-500.470978</td>\n",
       "      <td>14.151341</td>\n",
       "      <td>-605.841980</td>\n",
       "    </tr>\n",
       "    <tr>\n",
       "      <th>2016-01-15 01:00:00</th>\n",
       "      <td>6.029369</td>\n",
       "      <td>9.968944</td>\n",
       "      <td>5.257781</td>\n",
       "      <td>42.701629</td>\n",
       "      <td>69.266198</td>\n",
       "      <td>10.462676</td>\n",
       "      <td>0.927452</td>\n",
       "      <td>16.634514</td>\n",
       "      <td>2.224930</td>\n",
       "      <td>125.629232</td>\n",
       "      <td>10.296251</td>\n",
       "      <td>7.25</td>\n",
       "      <td>1.002663</td>\n",
       "      <td>8.558743</td>\n",
       "      <td>10.497069</td>\n",
       "      <td>19.369147</td>\n",
       "      <td>34.118526</td>\n",
       "      <td>16.250511</td>\n",
       "      <td>3.049646</td>\n",
       "      <td>6.733907</td>\n",
       "      <td>2.353017</td>\n",
       "      <td>1576.166671</td>\n",
       "      <td>-500.904965</td>\n",
       "      <td>1575.950626</td>\n",
       "      <td>-499.865889</td>\n",
       "      <td>1575.994189</td>\n",
       "      <td>-499.315107</td>\n",
       "      <td>1574.479259</td>\n",
       "      <td>-498.931665</td>\n",
       "      <td>42050.861809</td>\n",
       "      <td>3498.370979</td>\n",
       "      <td>3489.981857</td>\n",
       "      <td>2.858998</td>\n",
       "      <td>6.161113</td>\n",
       "      <td>2.266033</td>\n",
       "      <td>525.290581</td>\n",
       "      <td>57.278666</td>\n",
       "      <td>35.753385</td>\n",
       "      <td>6.478583</td>\n",
       "      <td>11.971193</td>\n",
       "      <td>6.005766</td>\n",
       "      <td>11.996163</td>\n",
       "      <td>6.012594</td>\n",
       "      <td>11.615865</td>\n",
       "      <td>7.278807</td>\n",
       "      <td>28.067063</td>\n",
       "      <td>20.050975</td>\n",
       "      <td>86.843261</td>\n",
       "      <td>4.955378</td>\n",
       "      <td>0.536689</td>\n",
       "      <td>18.965234</td>\n",
       "      <td>1.184827</td>\n",
       "      <td>1000.286398</td>\n",
       "      <td>-400.065196</td>\n",
       "      <td>1600.754587</td>\n",
       "      <td>-449.953435</td>\n",
       "      <td>1600.479580</td>\n",
       "      <td>-449.830646</td>\n",
       "      <td>1600.527589</td>\n",
       "      <td>-449.953649</td>\n",
       "      <td>1399.227084</td>\n",
       "      <td>-450.869848</td>\n",
       "      <td>1399.719514</td>\n",
       "      <td>-450.119001</td>\n",
       "      <td>14.265474</td>\n",
       "      <td>4.592547</td>\n",
       "      <td>9.001494</td>\n",
       "      <td>2.488248</td>\n",
       "      <td>25.880539</td>\n",
       "      <td>-499.989656</td>\n",
       "      <td>23.889530</td>\n",
       "      <td>-500.372428</td>\n",
       "      <td>23.970550</td>\n",
       "      <td>-500.085473</td>\n",
       "      <td>22.085714</td>\n",
       "      <td>-499.446897</td>\n",
       "      <td>13.992281</td>\n",
       "      <td>-505.503262</td>\n",
       "      <td>11.950531</td>\n",
       "      <td>-501.331529</td>\n",
       "      <td>10.039245</td>\n",
       "      <td>-500.169983</td>\n",
       "      <td>7.984757</td>\n",
       "      <td>-500.582168</td>\n",
       "      <td>13.998353</td>\n",
       "      <td>-599.787184</td>\n",
       "    </tr>\n",
       "    <tr>\n",
       "      <th>2016-01-15 02:00:00</th>\n",
       "      <td>6.055926</td>\n",
       "      <td>10.213995</td>\n",
       "      <td>5.383759</td>\n",
       "      <td>42.657501</td>\n",
       "      <td>68.116445</td>\n",
       "      <td>10.507046</td>\n",
       "      <td>0.953716</td>\n",
       "      <td>16.208849</td>\n",
       "      <td>2.257889</td>\n",
       "      <td>123.819808</td>\n",
       "      <td>11.316280</td>\n",
       "      <td>7.25</td>\n",
       "      <td>0.991265</td>\n",
       "      <td>8.603505</td>\n",
       "      <td>10.354494</td>\n",
       "      <td>19.167579</td>\n",
       "      <td>33.969464</td>\n",
       "      <td>16.491823</td>\n",
       "      <td>3.124664</td>\n",
       "      <td>6.471768</td>\n",
       "      <td>2.416800</td>\n",
       "      <td>1601.556163</td>\n",
       "      <td>-499.997791</td>\n",
       "      <td>1600.386685</td>\n",
       "      <td>-500.607762</td>\n",
       "      <td>1602.003542</td>\n",
       "      <td>-500.870069</td>\n",
       "      <td>1599.541515</td>\n",
       "      <td>-499.827444</td>\n",
       "      <td>42018.101184</td>\n",
       "      <td>3495.348910</td>\n",
       "      <td>3502.359819</td>\n",
       "      <td>2.945989</td>\n",
       "      <td>6.116455</td>\n",
       "      <td>2.159622</td>\n",
       "      <td>530.026610</td>\n",
       "      <td>57.510649</td>\n",
       "      <td>35.971630</td>\n",
       "      <td>6.362222</td>\n",
       "      <td>11.920603</td>\n",
       "      <td>6.197377</td>\n",
       "      <td>11.920305</td>\n",
       "      <td>6.204633</td>\n",
       "      <td>11.695753</td>\n",
       "      <td>7.216833</td>\n",
       "      <td>27.454037</td>\n",
       "      <td>19.737170</td>\n",
       "      <td>86.842308</td>\n",
       "      <td>4.843460</td>\n",
       "      <td>0.546416</td>\n",
       "      <td>18.808533</td>\n",
       "      <td>1.162562</td>\n",
       "      <td>999.719565</td>\n",
       "      <td>-400.074028</td>\n",
       "      <td>1599.337330</td>\n",
       "      <td>-450.008530</td>\n",
       "      <td>1599.672797</td>\n",
       "      <td>-449.954491</td>\n",
       "      <td>1599.849325</td>\n",
       "      <td>-449.954185</td>\n",
       "      <td>1399.180945</td>\n",
       "      <td>-449.937588</td>\n",
       "      <td>1400.316682</td>\n",
       "      <td>-450.527147</td>\n",
       "      <td>14.115662</td>\n",
       "      <td>4.624775</td>\n",
       "      <td>8.842896</td>\n",
       "      <td>2.458187</td>\n",
       "      <td>26.005245</td>\n",
       "      <td>-499.929616</td>\n",
       "      <td>23.886657</td>\n",
       "      <td>-499.951928</td>\n",
       "      <td>23.913535</td>\n",
       "      <td>-499.442343</td>\n",
       "      <td>23.957717</td>\n",
       "      <td>-499.901982</td>\n",
       "      <td>14.015015</td>\n",
       "      <td>-502.520901</td>\n",
       "      <td>11.912783</td>\n",
       "      <td>-501.133383</td>\n",
       "      <td>10.070913</td>\n",
       "      <td>-500.129135</td>\n",
       "      <td>8.013877</td>\n",
       "      <td>-500.517572</td>\n",
       "      <td>14.028663</td>\n",
       "      <td>-601.427363</td>\n",
       "    </tr>\n",
       "    <tr>\n",
       "      <th>2016-01-15 03:00:00</th>\n",
       "      <td>6.047977</td>\n",
       "      <td>9.977019</td>\n",
       "      <td>4.858634</td>\n",
       "      <td>42.689819</td>\n",
       "      <td>68.347543</td>\n",
       "      <td>10.422762</td>\n",
       "      <td>0.883763</td>\n",
       "      <td>16.532835</td>\n",
       "      <td>2.146849</td>\n",
       "      <td>122.270188</td>\n",
       "      <td>11.322140</td>\n",
       "      <td>7.25</td>\n",
       "      <td>0.996739</td>\n",
       "      <td>7.221879</td>\n",
       "      <td>8.496563</td>\n",
       "      <td>15.978538</td>\n",
       "      <td>28.260743</td>\n",
       "      <td>16.024359</td>\n",
       "      <td>2.960362</td>\n",
       "      <td>6.843791</td>\n",
       "      <td>2.262051</td>\n",
       "      <td>1599.968720</td>\n",
       "      <td>-500.951778</td>\n",
       "      <td>1600.659236</td>\n",
       "      <td>-499.677094</td>\n",
       "      <td>1600.304144</td>\n",
       "      <td>-500.727997</td>\n",
       "      <td>1600.449520</td>\n",
       "      <td>-500.052575</td>\n",
       "      <td>42029.447991</td>\n",
       "      <td>3498.578313</td>\n",
       "      <td>3499.162912</td>\n",
       "      <td>3.002340</td>\n",
       "      <td>6.043309</td>\n",
       "      <td>2.037807</td>\n",
       "      <td>542.590390</td>\n",
       "      <td>57.792734</td>\n",
       "      <td>36.862241</td>\n",
       "      <td>6.118189</td>\n",
       "      <td>11.630094</td>\n",
       "      <td>6.203177</td>\n",
       "      <td>11.692450</td>\n",
       "      <td>6.196578</td>\n",
       "      <td>11.915047</td>\n",
       "      <td>7.175616</td>\n",
       "      <td>27.341277</td>\n",
       "      <td>19.320810</td>\n",
       "      <td>87.226430</td>\n",
       "      <td>4.655288</td>\n",
       "      <td>0.542525</td>\n",
       "      <td>19.330200</td>\n",
       "      <td>1.079755</td>\n",
       "      <td>999.814770</td>\n",
       "      <td>-400.200179</td>\n",
       "      <td>1600.059442</td>\n",
       "      <td>-450.619948</td>\n",
       "      <td>1600.012842</td>\n",
       "      <td>-449.910497</td>\n",
       "      <td>1597.725177</td>\n",
       "      <td>-450.130127</td>\n",
       "      <td>1400.943157</td>\n",
       "      <td>-450.030142</td>\n",
       "      <td>1400.234743</td>\n",
       "      <td>-449.790835</td>\n",
       "      <td>13.732071</td>\n",
       "      <td>4.482453</td>\n",
       "      <td>9.122857</td>\n",
       "      <td>2.322062</td>\n",
       "      <td>25.942508</td>\n",
       "      <td>-499.176749</td>\n",
       "      <td>23.955516</td>\n",
       "      <td>-499.848796</td>\n",
       "      <td>23.966838</td>\n",
       "      <td>-500.008812</td>\n",
       "      <td>23.954443</td>\n",
       "      <td>-499.944710</td>\n",
       "      <td>14.036510</td>\n",
       "      <td>-500.857308</td>\n",
       "      <td>11.999550</td>\n",
       "      <td>-501.193686</td>\n",
       "      <td>9.970366</td>\n",
       "      <td>-499.201640</td>\n",
       "      <td>7.977324</td>\n",
       "      <td>-500.255908</td>\n",
       "      <td>14.005551</td>\n",
       "      <td>-599.996129</td>\n",
       "    </tr>\n",
       "    <tr>\n",
       "      <th>2016-01-15 04:00:00</th>\n",
       "      <td>6.148599</td>\n",
       "      <td>10.142511</td>\n",
       "      <td>4.939416</td>\n",
       "      <td>42.774141</td>\n",
       "      <td>66.927016</td>\n",
       "      <td>10.360302</td>\n",
       "      <td>0.792826</td>\n",
       "      <td>16.525686</td>\n",
       "      <td>2.055292</td>\n",
       "      <td>117.988169</td>\n",
       "      <td>11.913613</td>\n",
       "      <td>7.25</td>\n",
       "      <td>1.009869</td>\n",
       "      <td>9.089428</td>\n",
       "      <td>9.986786</td>\n",
       "      <td>19.199864</td>\n",
       "      <td>33.044932</td>\n",
       "      <td>16.480185</td>\n",
       "      <td>3.112100</td>\n",
       "      <td>6.550154</td>\n",
       "      <td>2.277073</td>\n",
       "      <td>1601.339707</td>\n",
       "      <td>-498.975456</td>\n",
       "      <td>1601.437854</td>\n",
       "      <td>-500.323246</td>\n",
       "      <td>1599.581894</td>\n",
       "      <td>-500.888152</td>\n",
       "      <td>1602.649541</td>\n",
       "      <td>-500.593010</td>\n",
       "      <td>42125.354245</td>\n",
       "      <td>3494.800771</td>\n",
       "      <td>3506.679315</td>\n",
       "      <td>3.169615</td>\n",
       "      <td>6.060915</td>\n",
       "      <td>1.786875</td>\n",
       "      <td>540.531893</td>\n",
       "      <td>56.047189</td>\n",
       "      <td>34.347666</td>\n",
       "      <td>5.663707</td>\n",
       "      <td>10.957755</td>\n",
       "      <td>6.198826</td>\n",
       "      <td>10.960521</td>\n",
       "      <td>6.194897</td>\n",
       "      <td>12.411054</td>\n",
       "      <td>7.240205</td>\n",
       "      <td>27.041023</td>\n",
       "      <td>19.216101</td>\n",
       "      <td>86.688794</td>\n",
       "      <td>4.552800</td>\n",
       "      <td>0.515438</td>\n",
       "      <td>19.267422</td>\n",
       "      <td>1.012642</td>\n",
       "      <td>999.678690</td>\n",
       "      <td>-399.752729</td>\n",
       "      <td>1600.208824</td>\n",
       "      <td>-449.599614</td>\n",
       "      <td>1600.357732</td>\n",
       "      <td>-450.034364</td>\n",
       "      <td>1599.759049</td>\n",
       "      <td>-449.909799</td>\n",
       "      <td>1401.560902</td>\n",
       "      <td>-448.877187</td>\n",
       "      <td>1401.160227</td>\n",
       "      <td>-450.407128</td>\n",
       "      <td>14.079996</td>\n",
       "      <td>4.470737</td>\n",
       "      <td>8.871028</td>\n",
       "      <td>2.330448</td>\n",
       "      <td>26.024787</td>\n",
       "      <td>-500.279091</td>\n",
       "      <td>23.955345</td>\n",
       "      <td>-500.593614</td>\n",
       "      <td>23.985703</td>\n",
       "      <td>-500.083811</td>\n",
       "      <td>23.958945</td>\n",
       "      <td>-499.990309</td>\n",
       "      <td>14.027298</td>\n",
       "      <td>-499.838632</td>\n",
       "      <td>11.953070</td>\n",
       "      <td>-501.053894</td>\n",
       "      <td>9.925709</td>\n",
       "      <td>-501.686727</td>\n",
       "      <td>7.894242</td>\n",
       "      <td>-500.356035</td>\n",
       "      <td>13.996647</td>\n",
       "      <td>-601.496691</td>\n",
       "    </tr>\n",
       "  </tbody>\n",
       "</table>\n",
       "</div>"
      ],
      "text/plain": [
       "                     final.output.concentrate_ag  final.output.concentrate_pb  \\\n",
       "date                                                                            \n",
       "2016-01-15 00:00:00                     6.055403                     9.889648   \n",
       "2016-01-15 01:00:00                     6.029369                     9.968944   \n",
       "2016-01-15 02:00:00                     6.055926                    10.213995   \n",
       "2016-01-15 03:00:00                     6.047977                     9.977019   \n",
       "2016-01-15 04:00:00                     6.148599                    10.142511   \n",
       "\n",
       "                     final.output.concentrate_sol  \\\n",
       "date                                                \n",
       "2016-01-15 00:00:00                      5.507324   \n",
       "2016-01-15 01:00:00                      5.257781   \n",
       "2016-01-15 02:00:00                      5.383759   \n",
       "2016-01-15 03:00:00                      4.858634   \n",
       "2016-01-15 04:00:00                      4.939416   \n",
       "\n",
       "                     final.output.concentrate_au  final.output.recovery  \\\n",
       "date                                                                      \n",
       "2016-01-15 00:00:00                    42.192020              70.541216   \n",
       "2016-01-15 01:00:00                    42.701629              69.266198   \n",
       "2016-01-15 02:00:00                    42.657501              68.116445   \n",
       "2016-01-15 03:00:00                    42.689819              68.347543   \n",
       "2016-01-15 04:00:00                    42.774141              66.927016   \n",
       "\n",
       "                     final.output.tail_ag  final.output.tail_pb  \\\n",
       "date                                                              \n",
       "2016-01-15 00:00:00             10.411962              0.895447   \n",
       "2016-01-15 01:00:00             10.462676              0.927452   \n",
       "2016-01-15 02:00:00             10.507046              0.953716   \n",
       "2016-01-15 03:00:00             10.422762              0.883763   \n",
       "2016-01-15 04:00:00             10.360302              0.792826   \n",
       "\n",
       "                     final.output.tail_sol  final.output.tail_au  \\\n",
       "date                                                               \n",
       "2016-01-15 00:00:00              16.904297              2.143149   \n",
       "2016-01-15 01:00:00              16.634514              2.224930   \n",
       "2016-01-15 02:00:00              16.208849              2.257889   \n",
       "2016-01-15 03:00:00              16.532835              2.146849   \n",
       "2016-01-15 04:00:00              16.525686              2.055292   \n",
       "\n",
       "                     primary_cleaner.input.sulfate  \\\n",
       "date                                                 \n",
       "2016-01-15 00:00:00                     127.092003   \n",
       "2016-01-15 01:00:00                     125.629232   \n",
       "2016-01-15 02:00:00                     123.819808   \n",
       "2016-01-15 03:00:00                     122.270188   \n",
       "2016-01-15 04:00:00                     117.988169   \n",
       "\n",
       "                     primary_cleaner.input.depressant  \\\n",
       "date                                                    \n",
       "2016-01-15 00:00:00                         10.128295   \n",
       "2016-01-15 01:00:00                         10.296251   \n",
       "2016-01-15 02:00:00                         11.316280   \n",
       "2016-01-15 03:00:00                         11.322140   \n",
       "2016-01-15 04:00:00                         11.913613   \n",
       "\n",
       "                     primary_cleaner.input.feed_size  \\\n",
       "date                                                   \n",
       "2016-01-15 00:00:00                             7.25   \n",
       "2016-01-15 01:00:00                             7.25   \n",
       "2016-01-15 02:00:00                             7.25   \n",
       "2016-01-15 03:00:00                             7.25   \n",
       "2016-01-15 04:00:00                             7.25   \n",
       "\n",
       "                     primary_cleaner.input.xanthate  \\\n",
       "date                                                  \n",
       "2016-01-15 00:00:00                        0.988759   \n",
       "2016-01-15 01:00:00                        1.002663   \n",
       "2016-01-15 02:00:00                        0.991265   \n",
       "2016-01-15 03:00:00                        0.996739   \n",
       "2016-01-15 04:00:00                        1.009869   \n",
       "\n",
       "                     primary_cleaner.output.concentrate_ag  \\\n",
       "date                                                         \n",
       "2016-01-15 00:00:00                               8.547551   \n",
       "2016-01-15 01:00:00                               8.558743   \n",
       "2016-01-15 02:00:00                               8.603505   \n",
       "2016-01-15 03:00:00                               7.221879   \n",
       "2016-01-15 04:00:00                               9.089428   \n",
       "\n",
       "                     primary_cleaner.output.concentrate_pb  \\\n",
       "date                                                         \n",
       "2016-01-15 00:00:00                              10.389648   \n",
       "2016-01-15 01:00:00                              10.497069   \n",
       "2016-01-15 02:00:00                              10.354494   \n",
       "2016-01-15 03:00:00                               8.496563   \n",
       "2016-01-15 04:00:00                               9.986786   \n",
       "\n",
       "                     primary_cleaner.output.concentrate_sol  \\\n",
       "date                                                          \n",
       "2016-01-15 00:00:00                               19.529297   \n",
       "2016-01-15 01:00:00                               19.369147   \n",
       "2016-01-15 02:00:00                               19.167579   \n",
       "2016-01-15 03:00:00                               15.978538   \n",
       "2016-01-15 04:00:00                               19.199864   \n",
       "\n",
       "                     primary_cleaner.output.concentrate_au  \\\n",
       "date                                                         \n",
       "2016-01-15 00:00:00                              34.174427   \n",
       "2016-01-15 01:00:00                              34.118526   \n",
       "2016-01-15 02:00:00                              33.969464   \n",
       "2016-01-15 03:00:00                              28.260743   \n",
       "2016-01-15 04:00:00                              33.044932   \n",
       "\n",
       "                     primary_cleaner.output.tail_ag  \\\n",
       "date                                                  \n",
       "2016-01-15 00:00:00                       14.936526   \n",
       "2016-01-15 01:00:00                       16.250511   \n",
       "2016-01-15 02:00:00                       16.491823   \n",
       "2016-01-15 03:00:00                       16.024359   \n",
       "2016-01-15 04:00:00                       16.480185   \n",
       "\n",
       "                     primary_cleaner.output.tail_pb  \\\n",
       "date                                                  \n",
       "2016-01-15 00:00:00                        2.534912   \n",
       "2016-01-15 01:00:00                        3.049646   \n",
       "2016-01-15 02:00:00                        3.124664   \n",
       "2016-01-15 03:00:00                        2.960362   \n",
       "2016-01-15 04:00:00                        3.112100   \n",
       "\n",
       "                     primary_cleaner.output.tail_sol  \\\n",
       "date                                                   \n",
       "2016-01-15 00:00:00                         7.476074   \n",
       "2016-01-15 01:00:00                         6.733907   \n",
       "2016-01-15 02:00:00                         6.471768   \n",
       "2016-01-15 03:00:00                         6.843791   \n",
       "2016-01-15 04:00:00                         6.550154   \n",
       "\n",
       "                     primary_cleaner.output.tail_au  \\\n",
       "date                                                  \n",
       "2016-01-15 00:00:00                        2.106679   \n",
       "2016-01-15 01:00:00                        2.353017   \n",
       "2016-01-15 02:00:00                        2.416800   \n",
       "2016-01-15 03:00:00                        2.262051   \n",
       "2016-01-15 04:00:00                        2.277073   \n",
       "\n",
       "                     primary_cleaner.state.floatbank8_a_air  \\\n",
       "date                                                          \n",
       "2016-01-15 00:00:00                             1549.775757   \n",
       "2016-01-15 01:00:00                             1576.166671   \n",
       "2016-01-15 02:00:00                             1601.556163   \n",
       "2016-01-15 03:00:00                             1599.968720   \n",
       "2016-01-15 04:00:00                             1601.339707   \n",
       "\n",
       "                     primary_cleaner.state.floatbank8_a_level  \\\n",
       "date                                                            \n",
       "2016-01-15 00:00:00                               -498.912140   \n",
       "2016-01-15 01:00:00                               -500.904965   \n",
       "2016-01-15 02:00:00                               -499.997791   \n",
       "2016-01-15 03:00:00                               -500.951778   \n",
       "2016-01-15 04:00:00                               -498.975456   \n",
       "\n",
       "                     primary_cleaner.state.floatbank8_b_air  \\\n",
       "date                                                          \n",
       "2016-01-15 00:00:00                             1551.434204   \n",
       "2016-01-15 01:00:00                             1575.950626   \n",
       "2016-01-15 02:00:00                             1600.386685   \n",
       "2016-01-15 03:00:00                             1600.659236   \n",
       "2016-01-15 04:00:00                             1601.437854   \n",
       "\n",
       "                     primary_cleaner.state.floatbank8_b_level  \\\n",
       "date                                                            \n",
       "2016-01-15 00:00:00                               -516.403442   \n",
       "2016-01-15 01:00:00                               -499.865889   \n",
       "2016-01-15 02:00:00                               -500.607762   \n",
       "2016-01-15 03:00:00                               -499.677094   \n",
       "2016-01-15 04:00:00                               -500.323246   \n",
       "\n",
       "                     primary_cleaner.state.floatbank8_c_air  \\\n",
       "date                                                          \n",
       "2016-01-15 00:00:00                             1549.873901   \n",
       "2016-01-15 01:00:00                             1575.994189   \n",
       "2016-01-15 02:00:00                             1602.003542   \n",
       "2016-01-15 03:00:00                             1600.304144   \n",
       "2016-01-15 04:00:00                             1599.581894   \n",
       "\n",
       "                     primary_cleaner.state.floatbank8_c_level  \\\n",
       "date                                                            \n",
       "2016-01-15 00:00:00                               -498.666595   \n",
       "2016-01-15 01:00:00                               -499.315107   \n",
       "2016-01-15 02:00:00                               -500.870069   \n",
       "2016-01-15 03:00:00                               -500.727997   \n",
       "2016-01-15 04:00:00                               -500.888152   \n",
       "\n",
       "                     primary_cleaner.state.floatbank8_d_air  \\\n",
       "date                                                          \n",
       "2016-01-15 00:00:00                             1554.367432   \n",
       "2016-01-15 01:00:00                             1574.479259   \n",
       "2016-01-15 02:00:00                             1599.541515   \n",
       "2016-01-15 03:00:00                             1600.449520   \n",
       "2016-01-15 04:00:00                             1602.649541   \n",
       "\n",
       "                     primary_cleaner.state.floatbank8_d_level  \\\n",
       "date                                                            \n",
       "2016-01-15 00:00:00                               -493.428131   \n",
       "2016-01-15 01:00:00                               -498.931665   \n",
       "2016-01-15 02:00:00                               -499.827444   \n",
       "2016-01-15 03:00:00                               -500.052575   \n",
       "2016-01-15 04:00:00                               -500.593010   \n",
       "\n",
       "                     rougher.calculation.sulfate_to_au_concentrate  \\\n",
       "date                                                                 \n",
       "2016-01-15 00:00:00                                   41885.707031   \n",
       "2016-01-15 01:00:00                                   42050.861809   \n",
       "2016-01-15 02:00:00                                   42018.101184   \n",
       "2016-01-15 03:00:00                                   42029.447991   \n",
       "2016-01-15 04:00:00                                   42125.354245   \n",
       "\n",
       "                     rougher.calculation.floatbank10_sulfate_to_au_feed  \\\n",
       "date                                                                      \n",
       "2016-01-15 00:00:00                                        3481.779053    \n",
       "2016-01-15 01:00:00                                        3498.370979    \n",
       "2016-01-15 02:00:00                                        3495.348910    \n",
       "2016-01-15 03:00:00                                        3498.578313    \n",
       "2016-01-15 04:00:00                                        3494.800771    \n",
       "\n",
       "                     rougher.calculation.floatbank11_sulfate_to_au_feed  \\\n",
       "date                                                                      \n",
       "2016-01-15 00:00:00                                        3520.337158    \n",
       "2016-01-15 01:00:00                                        3489.981857    \n",
       "2016-01-15 02:00:00                                        3502.359819    \n",
       "2016-01-15 03:00:00                                        3499.162912    \n",
       "2016-01-15 04:00:00                                        3506.679315    \n",
       "\n",
       "                     rougher.calculation.au_pb_ratio  rougher.input.feed_ag  \\\n",
       "date                                                                          \n",
       "2016-01-15 00:00:00                         2.838687               6.100378   \n",
       "2016-01-15 01:00:00                         2.858998               6.161113   \n",
       "2016-01-15 02:00:00                         2.945989               6.116455   \n",
       "2016-01-15 03:00:00                         3.002340               6.043309   \n",
       "2016-01-15 04:00:00                         3.169615               6.060915   \n",
       "\n",
       "                     rougher.input.feed_pb  rougher.input.feed_rate  \\\n",
       "date                                                                  \n",
       "2016-01-15 00:00:00               2.284912               523.546326   \n",
       "2016-01-15 01:00:00               2.266033               525.290581   \n",
       "2016-01-15 02:00:00               2.159622               530.026610   \n",
       "2016-01-15 03:00:00               2.037807               542.590390   \n",
       "2016-01-15 04:00:00               1.786875               540.531893   \n",
       "\n",
       "                     rougher.input.feed_size  rougher.input.feed_sol  \\\n",
       "date                                                                   \n",
       "2016-01-15 00:00:00                55.486599               36.808594   \n",
       "2016-01-15 01:00:00                57.278666               35.753385   \n",
       "2016-01-15 02:00:00                57.510649               35.971630   \n",
       "2016-01-15 03:00:00                57.792734               36.862241   \n",
       "2016-01-15 04:00:00                56.047189               34.347666   \n",
       "\n",
       "                     rougher.input.feed_au  rougher.input.floatbank10_sulfate  \\\n",
       "date                                                                            \n",
       "2016-01-15 00:00:00               6.486150                          11.986616   \n",
       "2016-01-15 01:00:00               6.478583                          11.971193   \n",
       "2016-01-15 02:00:00               6.362222                          11.920603   \n",
       "2016-01-15 03:00:00               6.118189                          11.630094   \n",
       "2016-01-15 04:00:00               5.663707                          10.957755   \n",
       "\n",
       "                     rougher.input.floatbank10_xanthate  \\\n",
       "date                                                      \n",
       "2016-01-15 00:00:00                            6.007990   \n",
       "2016-01-15 01:00:00                            6.005766   \n",
       "2016-01-15 02:00:00                            6.197377   \n",
       "2016-01-15 03:00:00                            6.203177   \n",
       "2016-01-15 04:00:00                            6.198826   \n",
       "\n",
       "                     rougher.input.floatbank11_sulfate  \\\n",
       "date                                                     \n",
       "2016-01-15 00:00:00                          11.836743   \n",
       "2016-01-15 01:00:00                          11.996163   \n",
       "2016-01-15 02:00:00                          11.920305   \n",
       "2016-01-15 03:00:00                          11.692450   \n",
       "2016-01-15 04:00:00                          10.960521   \n",
       "\n",
       "                     rougher.input.floatbank11_xanthate  \\\n",
       "date                                                      \n",
       "2016-01-15 00:00:00                            6.005818   \n",
       "2016-01-15 01:00:00                            6.012594   \n",
       "2016-01-15 02:00:00                            6.204633   \n",
       "2016-01-15 03:00:00                            6.196578   \n",
       "2016-01-15 04:00:00                            6.194897   \n",
       "\n",
       "                     rougher.output.concentrate_ag  \\\n",
       "date                                                 \n",
       "2016-01-15 00:00:00                      11.500771   \n",
       "2016-01-15 01:00:00                      11.615865   \n",
       "2016-01-15 02:00:00                      11.695753   \n",
       "2016-01-15 03:00:00                      11.915047   \n",
       "2016-01-15 04:00:00                      12.411054   \n",
       "\n",
       "                     rougher.output.concentrate_pb  \\\n",
       "date                                                 \n",
       "2016-01-15 00:00:00                       7.101074   \n",
       "2016-01-15 01:00:00                       7.278807   \n",
       "2016-01-15 02:00:00                       7.216833   \n",
       "2016-01-15 03:00:00                       7.175616   \n",
       "2016-01-15 04:00:00                       7.240205   \n",
       "\n",
       "                     rougher.output.concentrate_sol  \\\n",
       "date                                                  \n",
       "2016-01-15 00:00:00                       28.029297   \n",
       "2016-01-15 01:00:00                       28.067063   \n",
       "2016-01-15 02:00:00                       27.454037   \n",
       "2016-01-15 03:00:00                       27.341277   \n",
       "2016-01-15 04:00:00                       27.041023   \n",
       "\n",
       "                     rougher.output.concentrate_au  rougher.output.recovery  \\\n",
       "date                                                                          \n",
       "2016-01-15 00:00:00                      19.793808                87.107763   \n",
       "2016-01-15 01:00:00                      20.050975                86.843261   \n",
       "2016-01-15 02:00:00                      19.737170                86.842308   \n",
       "2016-01-15 03:00:00                      19.320810                87.226430   \n",
       "2016-01-15 04:00:00                      19.216101                86.688794   \n",
       "\n",
       "                     rougher.output.tail_ag  rougher.output.tail_pb  \\\n",
       "date                                                                  \n",
       "2016-01-15 00:00:00                5.008018                0.508728   \n",
       "2016-01-15 01:00:00                4.955378                0.536689   \n",
       "2016-01-15 02:00:00                4.843460                0.546416   \n",
       "2016-01-15 03:00:00                4.655288                0.542525   \n",
       "2016-01-15 04:00:00                4.552800                0.515438   \n",
       "\n",
       "                     rougher.output.tail_sol  rougher.output.tail_au  \\\n",
       "date                                                                   \n",
       "2016-01-15 00:00:00                19.154297                1.170244   \n",
       "2016-01-15 01:00:00                18.965234                1.184827   \n",
       "2016-01-15 02:00:00                18.808533                1.162562   \n",
       "2016-01-15 03:00:00                19.330200                1.079755   \n",
       "2016-01-15 04:00:00                19.267422                1.012642   \n",
       "\n",
       "                     rougher.state.floatbank10_a_air  \\\n",
       "date                                                   \n",
       "2016-01-15 00:00:00                       999.706909   \n",
       "2016-01-15 01:00:00                      1000.286398   \n",
       "2016-01-15 02:00:00                       999.719565   \n",
       "2016-01-15 03:00:00                       999.814770   \n",
       "2016-01-15 04:00:00                       999.678690   \n",
       "\n",
       "                     rougher.state.floatbank10_a_level  \\\n",
       "date                                                     \n",
       "2016-01-15 00:00:00                        -404.066986   \n",
       "2016-01-15 01:00:00                        -400.065196   \n",
       "2016-01-15 02:00:00                        -400.074028   \n",
       "2016-01-15 03:00:00                        -400.200179   \n",
       "2016-01-15 04:00:00                        -399.752729   \n",
       "\n",
       "                     rougher.state.floatbank10_b_air  \\\n",
       "date                                                   \n",
       "2016-01-15 00:00:00                      1603.011353   \n",
       "2016-01-15 01:00:00                      1600.754587   \n",
       "2016-01-15 02:00:00                      1599.337330   \n",
       "2016-01-15 03:00:00                      1600.059442   \n",
       "2016-01-15 04:00:00                      1600.208824   \n",
       "\n",
       "                     rougher.state.floatbank10_b_level  \\\n",
       "date                                                     \n",
       "2016-01-15 00:00:00                        -434.715027   \n",
       "2016-01-15 01:00:00                        -449.953435   \n",
       "2016-01-15 02:00:00                        -450.008530   \n",
       "2016-01-15 03:00:00                        -450.619948   \n",
       "2016-01-15 04:00:00                        -449.599614   \n",
       "\n",
       "                     rougher.state.floatbank10_c_air  \\\n",
       "date                                                   \n",
       "2016-01-15 00:00:00                      1602.375000   \n",
       "2016-01-15 01:00:00                      1600.479580   \n",
       "2016-01-15 02:00:00                      1599.672797   \n",
       "2016-01-15 03:00:00                      1600.012842   \n",
       "2016-01-15 04:00:00                      1600.357732   \n",
       "\n",
       "                     rougher.state.floatbank10_c_level  \\\n",
       "date                                                     \n",
       "2016-01-15 00:00:00                        -442.204468   \n",
       "2016-01-15 01:00:00                        -449.830646   \n",
       "2016-01-15 02:00:00                        -449.954491   \n",
       "2016-01-15 03:00:00                        -449.910497   \n",
       "2016-01-15 04:00:00                        -450.034364   \n",
       "\n",
       "                     rougher.state.floatbank10_d_air  \\\n",
       "date                                                   \n",
       "2016-01-15 00:00:00                      1598.937256   \n",
       "2016-01-15 01:00:00                      1600.527589   \n",
       "2016-01-15 02:00:00                      1599.849325   \n",
       "2016-01-15 03:00:00                      1597.725177   \n",
       "2016-01-15 04:00:00                      1599.759049   \n",
       "\n",
       "                     rougher.state.floatbank10_d_level  \\\n",
       "date                                                     \n",
       "2016-01-15 00:00:00                        -451.294128   \n",
       "2016-01-15 01:00:00                        -449.953649   \n",
       "2016-01-15 02:00:00                        -449.954185   \n",
       "2016-01-15 03:00:00                        -450.130127   \n",
       "2016-01-15 04:00:00                        -449.909799   \n",
       "\n",
       "                     rougher.state.floatbank10_e_air  \\\n",
       "date                                                   \n",
       "2016-01-15 00:00:00                      1404.472046   \n",
       "2016-01-15 01:00:00                      1399.227084   \n",
       "2016-01-15 02:00:00                      1399.180945   \n",
       "2016-01-15 03:00:00                      1400.943157   \n",
       "2016-01-15 04:00:00                      1401.560902   \n",
       "\n",
       "                     rougher.state.floatbank10_e_level  \\\n",
       "date                                                     \n",
       "2016-01-15 00:00:00                        -455.462982   \n",
       "2016-01-15 01:00:00                        -450.869848   \n",
       "2016-01-15 02:00:00                        -449.937588   \n",
       "2016-01-15 03:00:00                        -450.030142   \n",
       "2016-01-15 04:00:00                        -448.877187   \n",
       "\n",
       "                     rougher.state.floatbank10_f_air  \\\n",
       "date                                                   \n",
       "2016-01-15 00:00:00                      1416.354980   \n",
       "2016-01-15 01:00:00                      1399.719514   \n",
       "2016-01-15 02:00:00                      1400.316682   \n",
       "2016-01-15 03:00:00                      1400.234743   \n",
       "2016-01-15 04:00:00                      1401.160227   \n",
       "\n",
       "                     rougher.state.floatbank10_f_level  \\\n",
       "date                                                     \n",
       "2016-01-15 00:00:00                        -451.939636   \n",
       "2016-01-15 01:00:00                        -450.119001   \n",
       "2016-01-15 02:00:00                        -450.527147   \n",
       "2016-01-15 03:00:00                        -449.790835   \n",
       "2016-01-15 04:00:00                        -450.407128   \n",
       "\n",
       "                     secondary_cleaner.output.tail_ag  \\\n",
       "date                                                    \n",
       "2016-01-15 00:00:00                         14.500184   \n",
       "2016-01-15 01:00:00                         14.265474   \n",
       "2016-01-15 02:00:00                         14.115662   \n",
       "2016-01-15 03:00:00                         13.732071   \n",
       "2016-01-15 04:00:00                         14.079996   \n",
       "\n",
       "                     secondary_cleaner.output.tail_pb  \\\n",
       "date                                                    \n",
       "2016-01-15 00:00:00                          4.694824   \n",
       "2016-01-15 01:00:00                          4.592547   \n",
       "2016-01-15 02:00:00                          4.624775   \n",
       "2016-01-15 03:00:00                          4.482453   \n",
       "2016-01-15 04:00:00                          4.470737   \n",
       "\n",
       "                     secondary_cleaner.output.tail_sol  \\\n",
       "date                                                     \n",
       "2016-01-15 00:00:00                           8.764648   \n",
       "2016-01-15 01:00:00                           9.001494   \n",
       "2016-01-15 02:00:00                           8.842896   \n",
       "2016-01-15 03:00:00                           9.122857   \n",
       "2016-01-15 04:00:00                           8.871028   \n",
       "\n",
       "                     secondary_cleaner.output.tail_au  \\\n",
       "date                                                    \n",
       "2016-01-15 00:00:00                          2.606185   \n",
       "2016-01-15 01:00:00                          2.488248   \n",
       "2016-01-15 02:00:00                          2.458187   \n",
       "2016-01-15 03:00:00                          2.322062   \n",
       "2016-01-15 04:00:00                          2.330448   \n",
       "\n",
       "                     secondary_cleaner.state.floatbank2_a_air  \\\n",
       "date                                                            \n",
       "2016-01-15 00:00:00                                 25.853109   \n",
       "2016-01-15 01:00:00                                 25.880539   \n",
       "2016-01-15 02:00:00                                 26.005245   \n",
       "2016-01-15 03:00:00                                 25.942508   \n",
       "2016-01-15 04:00:00                                 26.024787   \n",
       "\n",
       "                     secondary_cleaner.state.floatbank2_a_level  \\\n",
       "date                                                              \n",
       "2016-01-15 00:00:00                                 -498.526489   \n",
       "2016-01-15 01:00:00                                 -499.989656   \n",
       "2016-01-15 02:00:00                                 -499.929616   \n",
       "2016-01-15 03:00:00                                 -499.176749   \n",
       "2016-01-15 04:00:00                                 -500.279091   \n",
       "\n",
       "                     secondary_cleaner.state.floatbank2_b_air  \\\n",
       "date                                                            \n",
       "2016-01-15 00:00:00                                 23.893660   \n",
       "2016-01-15 01:00:00                                 23.889530   \n",
       "2016-01-15 02:00:00                                 23.886657   \n",
       "2016-01-15 03:00:00                                 23.955516   \n",
       "2016-01-15 04:00:00                                 23.955345   \n",
       "\n",
       "                     secondary_cleaner.state.floatbank2_b_level  \\\n",
       "date                                                              \n",
       "2016-01-15 00:00:00                                 -501.406281   \n",
       "2016-01-15 01:00:00                                 -500.372428   \n",
       "2016-01-15 02:00:00                                 -499.951928   \n",
       "2016-01-15 03:00:00                                 -499.848796   \n",
       "2016-01-15 04:00:00                                 -500.593614   \n",
       "\n",
       "                     secondary_cleaner.state.floatbank3_a_air  \\\n",
       "date                                                            \n",
       "2016-01-15 00:00:00                                 23.961798   \n",
       "2016-01-15 01:00:00                                 23.970550   \n",
       "2016-01-15 02:00:00                                 23.913535   \n",
       "2016-01-15 03:00:00                                 23.966838   \n",
       "2016-01-15 04:00:00                                 23.985703   \n",
       "\n",
       "                     secondary_cleaner.state.floatbank3_a_level  \\\n",
       "date                                                              \n",
       "2016-01-15 00:00:00                                 -495.262817   \n",
       "2016-01-15 01:00:00                                 -500.085473   \n",
       "2016-01-15 02:00:00                                 -499.442343   \n",
       "2016-01-15 03:00:00                                 -500.008812   \n",
       "2016-01-15 04:00:00                                 -500.083811   \n",
       "\n",
       "                     secondary_cleaner.state.floatbank3_b_air  \\\n",
       "date                                                            \n",
       "2016-01-15 00:00:00                                 21.940409   \n",
       "2016-01-15 01:00:00                                 22.085714   \n",
       "2016-01-15 02:00:00                                 23.957717   \n",
       "2016-01-15 03:00:00                                 23.954443   \n",
       "2016-01-15 04:00:00                                 23.958945   \n",
       "\n",
       "                     secondary_cleaner.state.floatbank3_b_level  \\\n",
       "date                                                              \n",
       "2016-01-15 00:00:00                                 -499.340973   \n",
       "2016-01-15 01:00:00                                 -499.446897   \n",
       "2016-01-15 02:00:00                                 -499.901982   \n",
       "2016-01-15 03:00:00                                 -499.944710   \n",
       "2016-01-15 04:00:00                                 -499.990309   \n",
       "\n",
       "                     secondary_cleaner.state.floatbank4_a_air  \\\n",
       "date                                                            \n",
       "2016-01-15 00:00:00                                 14.016835   \n",
       "2016-01-15 01:00:00                                 13.992281   \n",
       "2016-01-15 02:00:00                                 14.015015   \n",
       "2016-01-15 03:00:00                                 14.036510   \n",
       "2016-01-15 04:00:00                                 14.027298   \n",
       "\n",
       "                     secondary_cleaner.state.floatbank4_a_level  \\\n",
       "date                                                              \n",
       "2016-01-15 00:00:00                                 -502.488007   \n",
       "2016-01-15 01:00:00                                 -505.503262   \n",
       "2016-01-15 02:00:00                                 -502.520901   \n",
       "2016-01-15 03:00:00                                 -500.857308   \n",
       "2016-01-15 04:00:00                                 -499.838632   \n",
       "\n",
       "                     secondary_cleaner.state.floatbank4_b_air  \\\n",
       "date                                                            \n",
       "2016-01-15 00:00:00                                 12.099931   \n",
       "2016-01-15 01:00:00                                 11.950531   \n",
       "2016-01-15 02:00:00                                 11.912783   \n",
       "2016-01-15 03:00:00                                 11.999550   \n",
       "2016-01-15 04:00:00                                 11.953070   \n",
       "\n",
       "                     secondary_cleaner.state.floatbank4_b_level  \\\n",
       "date                                                              \n",
       "2016-01-15 00:00:00                                 -504.715942   \n",
       "2016-01-15 01:00:00                                 -501.331529   \n",
       "2016-01-15 02:00:00                                 -501.133383   \n",
       "2016-01-15 03:00:00                                 -501.193686   \n",
       "2016-01-15 04:00:00                                 -501.053894   \n",
       "\n",
       "                     secondary_cleaner.state.floatbank5_a_air  \\\n",
       "date                                                            \n",
       "2016-01-15 00:00:00                                  9.925633   \n",
       "2016-01-15 01:00:00                                 10.039245   \n",
       "2016-01-15 02:00:00                                 10.070913   \n",
       "2016-01-15 03:00:00                                  9.970366   \n",
       "2016-01-15 04:00:00                                  9.925709   \n",
       "\n",
       "                     secondary_cleaner.state.floatbank5_a_level  \\\n",
       "date                                                              \n",
       "2016-01-15 00:00:00                                 -498.310211   \n",
       "2016-01-15 01:00:00                                 -500.169983   \n",
       "2016-01-15 02:00:00                                 -500.129135   \n",
       "2016-01-15 03:00:00                                 -499.201640   \n",
       "2016-01-15 04:00:00                                 -501.686727   \n",
       "\n",
       "                     secondary_cleaner.state.floatbank5_b_air  \\\n",
       "date                                                            \n",
       "2016-01-15 00:00:00                                  8.079666   \n",
       "2016-01-15 01:00:00                                  7.984757   \n",
       "2016-01-15 02:00:00                                  8.013877   \n",
       "2016-01-15 03:00:00                                  7.977324   \n",
       "2016-01-15 04:00:00                                  7.894242   \n",
       "\n",
       "                     secondary_cleaner.state.floatbank5_b_level  \\\n",
       "date                                                              \n",
       "2016-01-15 00:00:00                                 -500.470978   \n",
       "2016-01-15 01:00:00                                 -500.582168   \n",
       "2016-01-15 02:00:00                                 -500.517572   \n",
       "2016-01-15 03:00:00                                 -500.255908   \n",
       "2016-01-15 04:00:00                                 -500.356035   \n",
       "\n",
       "                     secondary_cleaner.state.floatbank6_a_air  \\\n",
       "date                                                            \n",
       "2016-01-15 00:00:00                                 14.151341   \n",
       "2016-01-15 01:00:00                                 13.998353   \n",
       "2016-01-15 02:00:00                                 14.028663   \n",
       "2016-01-15 03:00:00                                 14.005551   \n",
       "2016-01-15 04:00:00                                 13.996647   \n",
       "\n",
       "                     secondary_cleaner.state.floatbank6_a_level  \n",
       "date                                                             \n",
       "2016-01-15 00:00:00                                 -605.841980  \n",
       "2016-01-15 01:00:00                                 -599.787184  \n",
       "2016-01-15 02:00:00                                 -601.427363  \n",
       "2016-01-15 03:00:00                                 -599.996129  \n",
       "2016-01-15 04:00:00                                 -601.496691  "
      ]
     },
     "execution_count": 4,
     "metadata": {},
     "output_type": "execute_result"
    }
   ],
   "source": [
    "# load and study the train df\n",
    "df_train = pd.read_csv('data/gold_recovery_train.csv', sep=',', index_col = 'date')\n",
    "df_train.head()"
   ]
  },
  {
   "cell_type": "code",
   "execution_count": 5,
   "metadata": {},
   "outputs": [
    {
     "name": "stdout",
     "output_type": "stream",
     "text": [
      "\n",
      "data type\n",
      "<class 'pandas.core.frame.DataFrame'>\n",
      "Index: 14149 entries, 2016-01-15 00:00:00 to 2018-08-18 10:59:59\n",
      "Data columns (total 86 columns):\n",
      " #   Column                                              Non-Null Count  Dtype  \n",
      "---  ------                                              --------------  -----  \n",
      " 0   final.output.concentrate_ag                         14148 non-null  float64\n",
      " 1   final.output.concentrate_pb                         14148 non-null  float64\n",
      " 2   final.output.concentrate_sol                        13938 non-null  float64\n",
      " 3   final.output.concentrate_au                         14149 non-null  float64\n",
      " 4   final.output.recovery                               14149 non-null  float64\n",
      " 5   final.output.tail_ag                                14149 non-null  float64\n",
      " 6   final.output.tail_pb                                14049 non-null  float64\n",
      " 7   final.output.tail_sol                               14144 non-null  float64\n",
      " 8   final.output.tail_au                                14149 non-null  float64\n",
      " 9   primary_cleaner.input.sulfate                       14129 non-null  float64\n",
      " 10  primary_cleaner.input.depressant                    14117 non-null  float64\n",
      " 11  primary_cleaner.input.feed_size                     14149 non-null  float64\n",
      " 12  primary_cleaner.input.xanthate                      14049 non-null  float64\n",
      " 13  primary_cleaner.output.concentrate_ag               14149 non-null  float64\n",
      " 14  primary_cleaner.output.concentrate_pb               14063 non-null  float64\n",
      " 15  primary_cleaner.output.concentrate_sol              13863 non-null  float64\n",
      " 16  primary_cleaner.output.concentrate_au               14149 non-null  float64\n",
      " 17  primary_cleaner.output.tail_ag                      14148 non-null  float64\n",
      " 18  primary_cleaner.output.tail_pb                      14134 non-null  float64\n",
      " 19  primary_cleaner.output.tail_sol                     14103 non-null  float64\n",
      " 20  primary_cleaner.output.tail_au                      14149 non-null  float64\n",
      " 21  primary_cleaner.state.floatbank8_a_air              14145 non-null  float64\n",
      " 22  primary_cleaner.state.floatbank8_a_level            14148 non-null  float64\n",
      " 23  primary_cleaner.state.floatbank8_b_air              14145 non-null  float64\n",
      " 24  primary_cleaner.state.floatbank8_b_level            14148 non-null  float64\n",
      " 25  primary_cleaner.state.floatbank8_c_air              14147 non-null  float64\n",
      " 26  primary_cleaner.state.floatbank8_c_level            14148 non-null  float64\n",
      " 27  primary_cleaner.state.floatbank8_d_air              14146 non-null  float64\n",
      " 28  primary_cleaner.state.floatbank8_d_level            14148 non-null  float64\n",
      " 29  rougher.calculation.sulfate_to_au_concentrate       14148 non-null  float64\n",
      " 30  rougher.calculation.floatbank10_sulfate_to_au_feed  14148 non-null  float64\n",
      " 31  rougher.calculation.floatbank11_sulfate_to_au_feed  14148 non-null  float64\n",
      " 32  rougher.calculation.au_pb_ratio                     14149 non-null  float64\n",
      " 33  rougher.input.feed_ag                               14149 non-null  float64\n",
      " 34  rougher.input.feed_pb                               14049 non-null  float64\n",
      " 35  rougher.input.feed_rate                             14141 non-null  float64\n",
      " 36  rougher.input.feed_size                             14005 non-null  float64\n",
      " 37  rougher.input.feed_sol                              14071 non-null  float64\n",
      " 38  rougher.input.feed_au                               14149 non-null  float64\n",
      " 39  rougher.input.floatbank10_sulfate                   14120 non-null  float64\n",
      " 40  rougher.input.floatbank10_xanthate                  14141 non-null  float64\n",
      " 41  rougher.input.floatbank11_sulfate                   14113 non-null  float64\n",
      " 42  rougher.input.floatbank11_xanthate                  13721 non-null  float64\n",
      " 43  rougher.output.concentrate_ag                       14149 non-null  float64\n",
      " 44  rougher.output.concentrate_pb                       14149 non-null  float64\n",
      " 45  rougher.output.concentrate_sol                      14127 non-null  float64\n",
      " 46  rougher.output.concentrate_au                       14149 non-null  float64\n",
      " 47  rougher.output.recovery                             14149 non-null  float64\n",
      " 48  rougher.output.tail_ag                              14148 non-null  float64\n",
      " 49  rougher.output.tail_pb                              14149 non-null  float64\n",
      " 50  rougher.output.tail_sol                             14149 non-null  float64\n",
      " 51  rougher.output.tail_au                              14149 non-null  float64\n",
      " 52  rougher.state.floatbank10_a_air                     14148 non-null  float64\n",
      " 53  rougher.state.floatbank10_a_level                   14148 non-null  float64\n",
      " 54  rougher.state.floatbank10_b_air                     14148 non-null  float64\n",
      " 55  rougher.state.floatbank10_b_level                   14148 non-null  float64\n",
      " 56  rougher.state.floatbank10_c_air                     14148 non-null  float64\n",
      " 57  rougher.state.floatbank10_c_level                   14148 non-null  float64\n",
      " 58  rougher.state.floatbank10_d_air                     14149 non-null  float64\n",
      " 59  rougher.state.floatbank10_d_level                   14149 non-null  float64\n",
      " 60  rougher.state.floatbank10_e_air                     13713 non-null  float64\n",
      " 61  rougher.state.floatbank10_e_level                   14149 non-null  float64\n",
      " 62  rougher.state.floatbank10_f_air                     14149 non-null  float64\n",
      " 63  rougher.state.floatbank10_f_level                   14149 non-null  float64\n",
      " 64  secondary_cleaner.output.tail_ag                    14147 non-null  float64\n",
      " 65  secondary_cleaner.output.tail_pb                    14139 non-null  float64\n",
      " 66  secondary_cleaner.output.tail_sol                   12544 non-null  float64\n",
      " 67  secondary_cleaner.output.tail_au                    14149 non-null  float64\n",
      " 68  secondary_cleaner.state.floatbank2_a_air            13932 non-null  float64\n",
      " 69  secondary_cleaner.state.floatbank2_a_level          14148 non-null  float64\n",
      " 70  secondary_cleaner.state.floatbank2_b_air            14128 non-null  float64\n",
      " 71  secondary_cleaner.state.floatbank2_b_level          14148 non-null  float64\n",
      " 72  secondary_cleaner.state.floatbank3_a_air            14145 non-null  float64\n",
      " 73  secondary_cleaner.state.floatbank3_a_level          14148 non-null  float64\n",
      " 74  secondary_cleaner.state.floatbank3_b_air            14148 non-null  float64\n",
      " 75  secondary_cleaner.state.floatbank3_b_level          14148 non-null  float64\n",
      " 76  secondary_cleaner.state.floatbank4_a_air            14143 non-null  float64\n",
      " 77  secondary_cleaner.state.floatbank4_a_level          14148 non-null  float64\n",
      " 78  secondary_cleaner.state.floatbank4_b_air            14148 non-null  float64\n",
      " 79  secondary_cleaner.state.floatbank4_b_level          14148 non-null  float64\n",
      " 80  secondary_cleaner.state.floatbank5_a_air            14148 non-null  float64\n",
      " 81  secondary_cleaner.state.floatbank5_a_level          14148 non-null  float64\n",
      " 82  secondary_cleaner.state.floatbank5_b_air            14148 non-null  float64\n",
      " 83  secondary_cleaner.state.floatbank5_b_level          14148 non-null  float64\n",
      " 84  secondary_cleaner.state.floatbank6_a_air            14147 non-null  float64\n",
      " 85  secondary_cleaner.state.floatbank6_a_level          14148 non-null  float64\n",
      "dtypes: float64(86)\n",
      "memory usage: 9.4+ MB\n"
     ]
    },
    {
     "data": {
      "text/plain": [
       "None"
      ]
     },
     "metadata": {},
     "output_type": "display_data"
    },
    {
     "name": "stdout",
     "output_type": "stream",
     "text": [
      "\n",
      "missing values, %\n"
     ]
    },
    {
     "data": {
      "text/plain": [
       "final.output.concentrate_ag                            0.007068\n",
       "final.output.concentrate_pb                            0.007068\n",
       "final.output.concentrate_sol                           1.491271\n",
       "final.output.concentrate_au                            0.000000\n",
       "final.output.recovery                                  0.000000\n",
       "final.output.tail_ag                                   0.000000\n",
       "final.output.tail_pb                                   0.706764\n",
       "final.output.tail_sol                                  0.035338\n",
       "final.output.tail_au                                   0.000000\n",
       "primary_cleaner.input.sulfate                          0.141353\n",
       "primary_cleaner.input.depressant                       0.226164\n",
       "primary_cleaner.input.feed_size                        0.000000\n",
       "primary_cleaner.input.xanthate                         0.706764\n",
       "primary_cleaner.output.concentrate_ag                  0.000000\n",
       "primary_cleaner.output.concentrate_pb                  0.607817\n",
       "primary_cleaner.output.concentrate_sol                 2.021344\n",
       "primary_cleaner.output.concentrate_au                  0.000000\n",
       "primary_cleaner.output.tail_ag                         0.007068\n",
       "primary_cleaner.output.tail_pb                         0.106015\n",
       "primary_cleaner.output.tail_sol                        0.325111\n",
       "primary_cleaner.output.tail_au                         0.000000\n",
       "primary_cleaner.state.floatbank8_a_air                 0.028271\n",
       "primary_cleaner.state.floatbank8_a_level               0.007068\n",
       "primary_cleaner.state.floatbank8_b_air                 0.028271\n",
       "primary_cleaner.state.floatbank8_b_level               0.007068\n",
       "primary_cleaner.state.floatbank8_c_air                 0.014135\n",
       "primary_cleaner.state.floatbank8_c_level               0.007068\n",
       "primary_cleaner.state.floatbank8_d_air                 0.021203\n",
       "primary_cleaner.state.floatbank8_d_level               0.007068\n",
       "rougher.calculation.sulfate_to_au_concentrate          0.007068\n",
       "rougher.calculation.floatbank10_sulfate_to_au_feed     0.007068\n",
       "rougher.calculation.floatbank11_sulfate_to_au_feed     0.007068\n",
       "rougher.calculation.au_pb_ratio                        0.000000\n",
       "rougher.input.feed_ag                                  0.000000\n",
       "rougher.input.feed_pb                                  0.706764\n",
       "rougher.input.feed_rate                                0.056541\n",
       "rougher.input.feed_size                                1.017740\n",
       "rougher.input.feed_sol                                 0.551276\n",
       "rougher.input.feed_au                                  0.000000\n",
       "rougher.input.floatbank10_sulfate                      0.204961\n",
       "rougher.input.floatbank10_xanthate                     0.056541\n",
       "rougher.input.floatbank11_sulfate                      0.254435\n",
       "rougher.input.floatbank11_xanthate                     3.024949\n",
       "rougher.output.concentrate_ag                          0.000000\n",
       "rougher.output.concentrate_pb                          0.000000\n",
       "rougher.output.concentrate_sol                         0.155488\n",
       "rougher.output.concentrate_au                          0.000000\n",
       "rougher.output.recovery                                0.000000\n",
       "rougher.output.tail_ag                                 0.007068\n",
       "rougher.output.tail_pb                                 0.000000\n",
       "rougher.output.tail_sol                                0.000000\n",
       "rougher.output.tail_au                                 0.000000\n",
       "rougher.state.floatbank10_a_air                        0.007068\n",
       "rougher.state.floatbank10_a_level                      0.007068\n",
       "rougher.state.floatbank10_b_air                        0.007068\n",
       "rougher.state.floatbank10_b_level                      0.007068\n",
       "rougher.state.floatbank10_c_air                        0.007068\n",
       "rougher.state.floatbank10_c_level                      0.007068\n",
       "rougher.state.floatbank10_d_air                        0.000000\n",
       "rougher.state.floatbank10_d_level                      0.000000\n",
       "rougher.state.floatbank10_e_air                        3.081490\n",
       "rougher.state.floatbank10_e_level                      0.000000\n",
       "rougher.state.floatbank10_f_air                        0.000000\n",
       "rougher.state.floatbank10_f_level                      0.000000\n",
       "secondary_cleaner.output.tail_ag                       0.014135\n",
       "secondary_cleaner.output.tail_pb                       0.070676\n",
       "secondary_cleaner.output.tail_sol                     11.343558\n",
       "secondary_cleaner.output.tail_au                       0.000000\n",
       "secondary_cleaner.state.floatbank2_a_air               1.533677\n",
       "secondary_cleaner.state.floatbank2_a_level             0.007068\n",
       "secondary_cleaner.state.floatbank2_b_air               0.148420\n",
       "secondary_cleaner.state.floatbank2_b_level             0.007068\n",
       "secondary_cleaner.state.floatbank3_a_air               0.028271\n",
       "secondary_cleaner.state.floatbank3_a_level             0.007068\n",
       "secondary_cleaner.state.floatbank3_b_air               0.007068\n",
       "secondary_cleaner.state.floatbank3_b_level             0.007068\n",
       "secondary_cleaner.state.floatbank4_a_air               0.042406\n",
       "secondary_cleaner.state.floatbank4_a_level             0.007068\n",
       "secondary_cleaner.state.floatbank4_b_air               0.007068\n",
       "secondary_cleaner.state.floatbank4_b_level             0.007068\n",
       "secondary_cleaner.state.floatbank5_a_air               0.007068\n",
       "secondary_cleaner.state.floatbank5_a_level             0.007068\n",
       "secondary_cleaner.state.floatbank5_b_air               0.007068\n",
       "secondary_cleaner.state.floatbank5_b_level             0.007068\n",
       "secondary_cleaner.state.floatbank6_a_air               0.014135\n",
       "secondary_cleaner.state.floatbank6_a_level             0.007068\n",
       "dtype: float64"
      ]
     },
     "metadata": {},
     "output_type": "display_data"
    },
    {
     "name": "stdout",
     "output_type": "stream",
     "text": [
      "\n",
      "duplicated\n",
      "0\n"
     ]
    }
   ],
   "source": [
    "describe_func(df_train)"
   ]
  },
  {
   "cell_type": "code",
   "execution_count": 6,
   "metadata": {},
   "outputs": [
    {
     "data": {
      "text/html": [
       "<div>\n",
       "<style scoped>\n",
       "    .dataframe tbody tr th:only-of-type {\n",
       "        vertical-align: middle;\n",
       "    }\n",
       "\n",
       "    .dataframe tbody tr th {\n",
       "        vertical-align: top;\n",
       "    }\n",
       "\n",
       "    .dataframe thead th {\n",
       "        text-align: right;\n",
       "    }\n",
       "</style>\n",
       "<table border=\"1\" class=\"dataframe\">\n",
       "  <thead>\n",
       "    <tr style=\"text-align: right;\">\n",
       "      <th></th>\n",
       "      <th>primary_cleaner.input.sulfate</th>\n",
       "      <th>primary_cleaner.input.depressant</th>\n",
       "      <th>primary_cleaner.input.feed_size</th>\n",
       "      <th>primary_cleaner.input.xanthate</th>\n",
       "      <th>primary_cleaner.state.floatbank8_a_air</th>\n",
       "      <th>primary_cleaner.state.floatbank8_a_level</th>\n",
       "      <th>primary_cleaner.state.floatbank8_b_air</th>\n",
       "      <th>primary_cleaner.state.floatbank8_b_level</th>\n",
       "      <th>primary_cleaner.state.floatbank8_c_air</th>\n",
       "      <th>primary_cleaner.state.floatbank8_c_level</th>\n",
       "      <th>primary_cleaner.state.floatbank8_d_air</th>\n",
       "      <th>primary_cleaner.state.floatbank8_d_level</th>\n",
       "      <th>rougher.input.feed_ag</th>\n",
       "      <th>rougher.input.feed_pb</th>\n",
       "      <th>rougher.input.feed_rate</th>\n",
       "      <th>rougher.input.feed_size</th>\n",
       "      <th>rougher.input.feed_sol</th>\n",
       "      <th>rougher.input.feed_au</th>\n",
       "      <th>rougher.input.floatbank10_sulfate</th>\n",
       "      <th>rougher.input.floatbank10_xanthate</th>\n",
       "      <th>rougher.input.floatbank11_sulfate</th>\n",
       "      <th>rougher.input.floatbank11_xanthate</th>\n",
       "      <th>rougher.state.floatbank10_a_air</th>\n",
       "      <th>rougher.state.floatbank10_a_level</th>\n",
       "      <th>rougher.state.floatbank10_b_air</th>\n",
       "      <th>rougher.state.floatbank10_b_level</th>\n",
       "      <th>rougher.state.floatbank10_c_air</th>\n",
       "      <th>rougher.state.floatbank10_c_level</th>\n",
       "      <th>rougher.state.floatbank10_d_air</th>\n",
       "      <th>rougher.state.floatbank10_d_level</th>\n",
       "      <th>rougher.state.floatbank10_e_air</th>\n",
       "      <th>rougher.state.floatbank10_e_level</th>\n",
       "      <th>rougher.state.floatbank10_f_air</th>\n",
       "      <th>rougher.state.floatbank10_f_level</th>\n",
       "      <th>secondary_cleaner.state.floatbank2_a_air</th>\n",
       "      <th>secondary_cleaner.state.floatbank2_a_level</th>\n",
       "      <th>secondary_cleaner.state.floatbank2_b_air</th>\n",
       "      <th>secondary_cleaner.state.floatbank2_b_level</th>\n",
       "      <th>secondary_cleaner.state.floatbank3_a_air</th>\n",
       "      <th>secondary_cleaner.state.floatbank3_a_level</th>\n",
       "      <th>secondary_cleaner.state.floatbank3_b_air</th>\n",
       "      <th>secondary_cleaner.state.floatbank3_b_level</th>\n",
       "      <th>secondary_cleaner.state.floatbank4_a_air</th>\n",
       "      <th>secondary_cleaner.state.floatbank4_a_level</th>\n",
       "      <th>secondary_cleaner.state.floatbank4_b_air</th>\n",
       "      <th>secondary_cleaner.state.floatbank4_b_level</th>\n",
       "      <th>secondary_cleaner.state.floatbank5_a_air</th>\n",
       "      <th>secondary_cleaner.state.floatbank5_a_level</th>\n",
       "      <th>secondary_cleaner.state.floatbank5_b_air</th>\n",
       "      <th>secondary_cleaner.state.floatbank5_b_level</th>\n",
       "      <th>secondary_cleaner.state.floatbank6_a_air</th>\n",
       "      <th>secondary_cleaner.state.floatbank6_a_level</th>\n",
       "    </tr>\n",
       "    <tr>\n",
       "      <th>date</th>\n",
       "      <th></th>\n",
       "      <th></th>\n",
       "      <th></th>\n",
       "      <th></th>\n",
       "      <th></th>\n",
       "      <th></th>\n",
       "      <th></th>\n",
       "      <th></th>\n",
       "      <th></th>\n",
       "      <th></th>\n",
       "      <th></th>\n",
       "      <th></th>\n",
       "      <th></th>\n",
       "      <th></th>\n",
       "      <th></th>\n",
       "      <th></th>\n",
       "      <th></th>\n",
       "      <th></th>\n",
       "      <th></th>\n",
       "      <th></th>\n",
       "      <th></th>\n",
       "      <th></th>\n",
       "      <th></th>\n",
       "      <th></th>\n",
       "      <th></th>\n",
       "      <th></th>\n",
       "      <th></th>\n",
       "      <th></th>\n",
       "      <th></th>\n",
       "      <th></th>\n",
       "      <th></th>\n",
       "      <th></th>\n",
       "      <th></th>\n",
       "      <th></th>\n",
       "      <th></th>\n",
       "      <th></th>\n",
       "      <th></th>\n",
       "      <th></th>\n",
       "      <th></th>\n",
       "      <th></th>\n",
       "      <th></th>\n",
       "      <th></th>\n",
       "      <th></th>\n",
       "      <th></th>\n",
       "      <th></th>\n",
       "      <th></th>\n",
       "      <th></th>\n",
       "      <th></th>\n",
       "      <th></th>\n",
       "      <th></th>\n",
       "      <th></th>\n",
       "      <th></th>\n",
       "    </tr>\n",
       "  </thead>\n",
       "  <tbody>\n",
       "    <tr>\n",
       "      <th>2016-09-01 00:59:59</th>\n",
       "      <td>210.800909</td>\n",
       "      <td>14.993118</td>\n",
       "      <td>8.080000</td>\n",
       "      <td>1.005021</td>\n",
       "      <td>1398.981301</td>\n",
       "      <td>-500.225577</td>\n",
       "      <td>1399.144926</td>\n",
       "      <td>-499.919735</td>\n",
       "      <td>1400.102998</td>\n",
       "      <td>-500.704369</td>\n",
       "      <td>1399.001695</td>\n",
       "      <td>-499.485144</td>\n",
       "      <td>13.128569</td>\n",
       "      <td>5.636710</td>\n",
       "      <td>489.793655</td>\n",
       "      <td>62.710452</td>\n",
       "      <td>42.022440</td>\n",
       "      <td>12.084103</td>\n",
       "      <td>16.922877</td>\n",
       "      <td>6.153479</td>\n",
       "      <td>16.867518</td>\n",
       "      <td>6.150709</td>\n",
       "      <td>1001.849317</td>\n",
       "      <td>-350.301265</td>\n",
       "      <td>1249.738612</td>\n",
       "      <td>-399.107531</td>\n",
       "      <td>1249.750520</td>\n",
       "      <td>-399.396730</td>\n",
       "      <td>1198.287855</td>\n",
       "      <td>-399.488594</td>\n",
       "      <td>999.472250</td>\n",
       "      <td>-399.530962</td>\n",
       "      <td>949.566189</td>\n",
       "      <td>-398.180807</td>\n",
       "      <td>24.938200</td>\n",
       "      <td>-500.490963</td>\n",
       "      <td>14.947607</td>\n",
       "      <td>-500.013837</td>\n",
       "      <td>20.018166</td>\n",
       "      <td>-450.395995</td>\n",
       "      <td>13.987058</td>\n",
       "      <td>-449.831513</td>\n",
       "      <td>12.023554</td>\n",
       "      <td>-497.795834</td>\n",
       "      <td>8.016656</td>\n",
       "      <td>-501.289139</td>\n",
       "      <td>7.946562</td>\n",
       "      <td>-432.317850</td>\n",
       "      <td>4.872511</td>\n",
       "      <td>-500.037437</td>\n",
       "      <td>26.705889</td>\n",
       "      <td>-499.709414</td>\n",
       "    </tr>\n",
       "    <tr>\n",
       "      <th>2016-09-01 01:59:59</th>\n",
       "      <td>215.392455</td>\n",
       "      <td>14.987471</td>\n",
       "      <td>8.080000</td>\n",
       "      <td>0.990469</td>\n",
       "      <td>1398.777912</td>\n",
       "      <td>-500.057435</td>\n",
       "      <td>1398.055362</td>\n",
       "      <td>-499.778182</td>\n",
       "      <td>1396.151033</td>\n",
       "      <td>-499.240168</td>\n",
       "      <td>1399.508091</td>\n",
       "      <td>-500.416324</td>\n",
       "      <td>13.036280</td>\n",
       "      <td>5.526065</td>\n",
       "      <td>490.104534</td>\n",
       "      <td>61.961163</td>\n",
       "      <td>41.187903</td>\n",
       "      <td>11.918977</td>\n",
       "      <td>17.002532</td>\n",
       "      <td>5.999043</td>\n",
       "      <td>16.996063</td>\n",
       "      <td>6.002315</td>\n",
       "      <td>998.690785</td>\n",
       "      <td>-350.425704</td>\n",
       "      <td>1248.395457</td>\n",
       "      <td>-399.946025</td>\n",
       "      <td>1249.514451</td>\n",
       "      <td>-399.630810</td>\n",
       "      <td>1200.506459</td>\n",
       "      <td>-399.942434</td>\n",
       "      <td>1000.002114</td>\n",
       "      <td>-399.491528</td>\n",
       "      <td>950.200009</td>\n",
       "      <td>-405.787514</td>\n",
       "      <td>24.923466</td>\n",
       "      <td>-499.813963</td>\n",
       "      <td>14.930873</td>\n",
       "      <td>-500.764452</td>\n",
       "      <td>19.988503</td>\n",
       "      <td>-450.114024</td>\n",
       "      <td>14.092981</td>\n",
       "      <td>-450.059163</td>\n",
       "      <td>12.058140</td>\n",
       "      <td>-498.695773</td>\n",
       "      <td>8.130979</td>\n",
       "      <td>-499.634209</td>\n",
       "      <td>7.958270</td>\n",
       "      <td>-525.839648</td>\n",
       "      <td>4.878850</td>\n",
       "      <td>-500.162375</td>\n",
       "      <td>25.019940</td>\n",
       "      <td>-499.819438</td>\n",
       "    </tr>\n",
       "    <tr>\n",
       "      <th>2016-09-01 02:59:59</th>\n",
       "      <td>215.259946</td>\n",
       "      <td>12.884934</td>\n",
       "      <td>7.786667</td>\n",
       "      <td>0.996043</td>\n",
       "      <td>1398.493666</td>\n",
       "      <td>-500.868360</td>\n",
       "      <td>1398.860436</td>\n",
       "      <td>-499.764529</td>\n",
       "      <td>1398.075709</td>\n",
       "      <td>-502.151509</td>\n",
       "      <td>1399.497088</td>\n",
       "      <td>-499.715479</td>\n",
       "      <td>13.138412</td>\n",
       "      <td>5.426561</td>\n",
       "      <td>489.617969</td>\n",
       "      <td>66.903807</td>\n",
       "      <td>42.546294</td>\n",
       "      <td>12.091332</td>\n",
       "      <td>16.992520</td>\n",
       "      <td>5.850632</td>\n",
       "      <td>16.982096</td>\n",
       "      <td>5.853594</td>\n",
       "      <td>998.516720</td>\n",
       "      <td>-349.783538</td>\n",
       "      <td>1247.440748</td>\n",
       "      <td>-400.264330</td>\n",
       "      <td>1248.207204</td>\n",
       "      <td>-401.074405</td>\n",
       "      <td>1199.770026</td>\n",
       "      <td>-400.790582</td>\n",
       "      <td>999.925519</td>\n",
       "      <td>-399.236999</td>\n",
       "      <td>950.320481</td>\n",
       "      <td>-400.864340</td>\n",
       "      <td>24.908732</td>\n",
       "      <td>-500.304035</td>\n",
       "      <td>14.996511</td>\n",
       "      <td>-500.993821</td>\n",
       "      <td>20.039689</td>\n",
       "      <td>-450.263164</td>\n",
       "      <td>14.077881</td>\n",
       "      <td>-449.660997</td>\n",
       "      <td>11.962366</td>\n",
       "      <td>-498.767484</td>\n",
       "      <td>8.096893</td>\n",
       "      <td>-500.827423</td>\n",
       "      <td>8.071056</td>\n",
       "      <td>-500.801673</td>\n",
       "      <td>4.905125</td>\n",
       "      <td>-499.828510</td>\n",
       "      <td>24.994862</td>\n",
       "      <td>-500.622559</td>\n",
       "    </tr>\n",
       "    <tr>\n",
       "      <th>2016-09-01 03:59:59</th>\n",
       "      <td>215.336236</td>\n",
       "      <td>12.006805</td>\n",
       "      <td>7.640000</td>\n",
       "      <td>0.863514</td>\n",
       "      <td>1399.618111</td>\n",
       "      <td>-498.863574</td>\n",
       "      <td>1397.440120</td>\n",
       "      <td>-499.211024</td>\n",
       "      <td>1400.129303</td>\n",
       "      <td>-498.355873</td>\n",
       "      <td>1401.065165</td>\n",
       "      <td>-501.038738</td>\n",
       "      <td>12.400507</td>\n",
       "      <td>5.114758</td>\n",
       "      <td>476.618130</td>\n",
       "      <td>59.865919</td>\n",
       "      <td>41.060195</td>\n",
       "      <td>12.181597</td>\n",
       "      <td>16.532144</td>\n",
       "      <td>5.801935</td>\n",
       "      <td>16.515277</td>\n",
       "      <td>5.803657</td>\n",
       "      <td>1000.276604</td>\n",
       "      <td>-350.172597</td>\n",
       "      <td>1251.322675</td>\n",
       "      <td>-398.655289</td>\n",
       "      <td>1250.493702</td>\n",
       "      <td>-399.746728</td>\n",
       "      <td>1199.398691</td>\n",
       "      <td>-397.503052</td>\n",
       "      <td>1001.930679</td>\n",
       "      <td>-400.437573</td>\n",
       "      <td>950.735324</td>\n",
       "      <td>-399.802986</td>\n",
       "      <td>24.893998</td>\n",
       "      <td>-499.382374</td>\n",
       "      <td>14.916674</td>\n",
       "      <td>-499.862299</td>\n",
       "      <td>20.031100</td>\n",
       "      <td>-449.372570</td>\n",
       "      <td>14.013968</td>\n",
       "      <td>-449.526900</td>\n",
       "      <td>12.033091</td>\n",
       "      <td>-498.350935</td>\n",
       "      <td>8.074946</td>\n",
       "      <td>-499.474407</td>\n",
       "      <td>7.897085</td>\n",
       "      <td>-500.868509</td>\n",
       "      <td>4.931400</td>\n",
       "      <td>-499.963623</td>\n",
       "      <td>24.948919</td>\n",
       "      <td>-498.709987</td>\n",
       "    </tr>\n",
       "    <tr>\n",
       "      <th>2016-09-01 04:59:59</th>\n",
       "      <td>199.099327</td>\n",
       "      <td>10.682530</td>\n",
       "      <td>7.530000</td>\n",
       "      <td>0.805575</td>\n",
       "      <td>1401.268123</td>\n",
       "      <td>-500.808305</td>\n",
       "      <td>1398.128818</td>\n",
       "      <td>-499.504543</td>\n",
       "      <td>1402.172226</td>\n",
       "      <td>-500.810606</td>\n",
       "      <td>1399.480508</td>\n",
       "      <td>-499.374053</td>\n",
       "      <td>11.327427</td>\n",
       "      <td>4.767383</td>\n",
       "      <td>488.248117</td>\n",
       "      <td>63.315324</td>\n",
       "      <td>41.269161</td>\n",
       "      <td>11.290425</td>\n",
       "      <td>13.607257</td>\n",
       "      <td>5.738081</td>\n",
       "      <td>13.650053</td>\n",
       "      <td>5.739634</td>\n",
       "      <td>996.541302</td>\n",
       "      <td>-350.562517</td>\n",
       "      <td>1304.658848</td>\n",
       "      <td>-399.511519</td>\n",
       "      <td>1306.455515</td>\n",
       "      <td>-399.050685</td>\n",
       "      <td>1248.699349</td>\n",
       "      <td>-400.876894</td>\n",
       "      <td>1058.839106</td>\n",
       "      <td>-398.988239</td>\n",
       "      <td>949.645313</td>\n",
       "      <td>-399.277632</td>\n",
       "      <td>24.886905</td>\n",
       "      <td>-499.357375</td>\n",
       "      <td>14.979233</td>\n",
       "      <td>-500.186804</td>\n",
       "      <td>19.962364</td>\n",
       "      <td>-450.638828</td>\n",
       "      <td>14.009245</td>\n",
       "      <td>-450.022259</td>\n",
       "      <td>12.025367</td>\n",
       "      <td>-500.786497</td>\n",
       "      <td>8.054678</td>\n",
       "      <td>-500.397500</td>\n",
       "      <td>8.107890</td>\n",
       "      <td>-509.526725</td>\n",
       "      <td>4.957674</td>\n",
       "      <td>-500.360026</td>\n",
       "      <td>25.003331</td>\n",
       "      <td>-500.856333</td>\n",
       "    </tr>\n",
       "  </tbody>\n",
       "</table>\n",
       "</div>"
      ],
      "text/plain": [
       "                     primary_cleaner.input.sulfate  \\\n",
       "date                                                 \n",
       "2016-09-01 00:59:59                     210.800909   \n",
       "2016-09-01 01:59:59                     215.392455   \n",
       "2016-09-01 02:59:59                     215.259946   \n",
       "2016-09-01 03:59:59                     215.336236   \n",
       "2016-09-01 04:59:59                     199.099327   \n",
       "\n",
       "                     primary_cleaner.input.depressant  \\\n",
       "date                                                    \n",
       "2016-09-01 00:59:59                         14.993118   \n",
       "2016-09-01 01:59:59                         14.987471   \n",
       "2016-09-01 02:59:59                         12.884934   \n",
       "2016-09-01 03:59:59                         12.006805   \n",
       "2016-09-01 04:59:59                         10.682530   \n",
       "\n",
       "                     primary_cleaner.input.feed_size  \\\n",
       "date                                                   \n",
       "2016-09-01 00:59:59                         8.080000   \n",
       "2016-09-01 01:59:59                         8.080000   \n",
       "2016-09-01 02:59:59                         7.786667   \n",
       "2016-09-01 03:59:59                         7.640000   \n",
       "2016-09-01 04:59:59                         7.530000   \n",
       "\n",
       "                     primary_cleaner.input.xanthate  \\\n",
       "date                                                  \n",
       "2016-09-01 00:59:59                        1.005021   \n",
       "2016-09-01 01:59:59                        0.990469   \n",
       "2016-09-01 02:59:59                        0.996043   \n",
       "2016-09-01 03:59:59                        0.863514   \n",
       "2016-09-01 04:59:59                        0.805575   \n",
       "\n",
       "                     primary_cleaner.state.floatbank8_a_air  \\\n",
       "date                                                          \n",
       "2016-09-01 00:59:59                             1398.981301   \n",
       "2016-09-01 01:59:59                             1398.777912   \n",
       "2016-09-01 02:59:59                             1398.493666   \n",
       "2016-09-01 03:59:59                             1399.618111   \n",
       "2016-09-01 04:59:59                             1401.268123   \n",
       "\n",
       "                     primary_cleaner.state.floatbank8_a_level  \\\n",
       "date                                                            \n",
       "2016-09-01 00:59:59                               -500.225577   \n",
       "2016-09-01 01:59:59                               -500.057435   \n",
       "2016-09-01 02:59:59                               -500.868360   \n",
       "2016-09-01 03:59:59                               -498.863574   \n",
       "2016-09-01 04:59:59                               -500.808305   \n",
       "\n",
       "                     primary_cleaner.state.floatbank8_b_air  \\\n",
       "date                                                          \n",
       "2016-09-01 00:59:59                             1399.144926   \n",
       "2016-09-01 01:59:59                             1398.055362   \n",
       "2016-09-01 02:59:59                             1398.860436   \n",
       "2016-09-01 03:59:59                             1397.440120   \n",
       "2016-09-01 04:59:59                             1398.128818   \n",
       "\n",
       "                     primary_cleaner.state.floatbank8_b_level  \\\n",
       "date                                                            \n",
       "2016-09-01 00:59:59                               -499.919735   \n",
       "2016-09-01 01:59:59                               -499.778182   \n",
       "2016-09-01 02:59:59                               -499.764529   \n",
       "2016-09-01 03:59:59                               -499.211024   \n",
       "2016-09-01 04:59:59                               -499.504543   \n",
       "\n",
       "                     primary_cleaner.state.floatbank8_c_air  \\\n",
       "date                                                          \n",
       "2016-09-01 00:59:59                             1400.102998   \n",
       "2016-09-01 01:59:59                             1396.151033   \n",
       "2016-09-01 02:59:59                             1398.075709   \n",
       "2016-09-01 03:59:59                             1400.129303   \n",
       "2016-09-01 04:59:59                             1402.172226   \n",
       "\n",
       "                     primary_cleaner.state.floatbank8_c_level  \\\n",
       "date                                                            \n",
       "2016-09-01 00:59:59                               -500.704369   \n",
       "2016-09-01 01:59:59                               -499.240168   \n",
       "2016-09-01 02:59:59                               -502.151509   \n",
       "2016-09-01 03:59:59                               -498.355873   \n",
       "2016-09-01 04:59:59                               -500.810606   \n",
       "\n",
       "                     primary_cleaner.state.floatbank8_d_air  \\\n",
       "date                                                          \n",
       "2016-09-01 00:59:59                             1399.001695   \n",
       "2016-09-01 01:59:59                             1399.508091   \n",
       "2016-09-01 02:59:59                             1399.497088   \n",
       "2016-09-01 03:59:59                             1401.065165   \n",
       "2016-09-01 04:59:59                             1399.480508   \n",
       "\n",
       "                     primary_cleaner.state.floatbank8_d_level  \\\n",
       "date                                                            \n",
       "2016-09-01 00:59:59                               -499.485144   \n",
       "2016-09-01 01:59:59                               -500.416324   \n",
       "2016-09-01 02:59:59                               -499.715479   \n",
       "2016-09-01 03:59:59                               -501.038738   \n",
       "2016-09-01 04:59:59                               -499.374053   \n",
       "\n",
       "                     rougher.input.feed_ag  rougher.input.feed_pb  \\\n",
       "date                                                                \n",
       "2016-09-01 00:59:59              13.128569               5.636710   \n",
       "2016-09-01 01:59:59              13.036280               5.526065   \n",
       "2016-09-01 02:59:59              13.138412               5.426561   \n",
       "2016-09-01 03:59:59              12.400507               5.114758   \n",
       "2016-09-01 04:59:59              11.327427               4.767383   \n",
       "\n",
       "                     rougher.input.feed_rate  rougher.input.feed_size  \\\n",
       "date                                                                    \n",
       "2016-09-01 00:59:59               489.793655                62.710452   \n",
       "2016-09-01 01:59:59               490.104534                61.961163   \n",
       "2016-09-01 02:59:59               489.617969                66.903807   \n",
       "2016-09-01 03:59:59               476.618130                59.865919   \n",
       "2016-09-01 04:59:59               488.248117                63.315324   \n",
       "\n",
       "                     rougher.input.feed_sol  rougher.input.feed_au  \\\n",
       "date                                                                 \n",
       "2016-09-01 00:59:59               42.022440              12.084103   \n",
       "2016-09-01 01:59:59               41.187903              11.918977   \n",
       "2016-09-01 02:59:59               42.546294              12.091332   \n",
       "2016-09-01 03:59:59               41.060195              12.181597   \n",
       "2016-09-01 04:59:59               41.269161              11.290425   \n",
       "\n",
       "                     rougher.input.floatbank10_sulfate  \\\n",
       "date                                                     \n",
       "2016-09-01 00:59:59                          16.922877   \n",
       "2016-09-01 01:59:59                          17.002532   \n",
       "2016-09-01 02:59:59                          16.992520   \n",
       "2016-09-01 03:59:59                          16.532144   \n",
       "2016-09-01 04:59:59                          13.607257   \n",
       "\n",
       "                     rougher.input.floatbank10_xanthate  \\\n",
       "date                                                      \n",
       "2016-09-01 00:59:59                            6.153479   \n",
       "2016-09-01 01:59:59                            5.999043   \n",
       "2016-09-01 02:59:59                            5.850632   \n",
       "2016-09-01 03:59:59                            5.801935   \n",
       "2016-09-01 04:59:59                            5.738081   \n",
       "\n",
       "                     rougher.input.floatbank11_sulfate  \\\n",
       "date                                                     \n",
       "2016-09-01 00:59:59                          16.867518   \n",
       "2016-09-01 01:59:59                          16.996063   \n",
       "2016-09-01 02:59:59                          16.982096   \n",
       "2016-09-01 03:59:59                          16.515277   \n",
       "2016-09-01 04:59:59                          13.650053   \n",
       "\n",
       "                     rougher.input.floatbank11_xanthate  \\\n",
       "date                                                      \n",
       "2016-09-01 00:59:59                            6.150709   \n",
       "2016-09-01 01:59:59                            6.002315   \n",
       "2016-09-01 02:59:59                            5.853594   \n",
       "2016-09-01 03:59:59                            5.803657   \n",
       "2016-09-01 04:59:59                            5.739634   \n",
       "\n",
       "                     rougher.state.floatbank10_a_air  \\\n",
       "date                                                   \n",
       "2016-09-01 00:59:59                      1001.849317   \n",
       "2016-09-01 01:59:59                       998.690785   \n",
       "2016-09-01 02:59:59                       998.516720   \n",
       "2016-09-01 03:59:59                      1000.276604   \n",
       "2016-09-01 04:59:59                       996.541302   \n",
       "\n",
       "                     rougher.state.floatbank10_a_level  \\\n",
       "date                                                     \n",
       "2016-09-01 00:59:59                        -350.301265   \n",
       "2016-09-01 01:59:59                        -350.425704   \n",
       "2016-09-01 02:59:59                        -349.783538   \n",
       "2016-09-01 03:59:59                        -350.172597   \n",
       "2016-09-01 04:59:59                        -350.562517   \n",
       "\n",
       "                     rougher.state.floatbank10_b_air  \\\n",
       "date                                                   \n",
       "2016-09-01 00:59:59                      1249.738612   \n",
       "2016-09-01 01:59:59                      1248.395457   \n",
       "2016-09-01 02:59:59                      1247.440748   \n",
       "2016-09-01 03:59:59                      1251.322675   \n",
       "2016-09-01 04:59:59                      1304.658848   \n",
       "\n",
       "                     rougher.state.floatbank10_b_level  \\\n",
       "date                                                     \n",
       "2016-09-01 00:59:59                        -399.107531   \n",
       "2016-09-01 01:59:59                        -399.946025   \n",
       "2016-09-01 02:59:59                        -400.264330   \n",
       "2016-09-01 03:59:59                        -398.655289   \n",
       "2016-09-01 04:59:59                        -399.511519   \n",
       "\n",
       "                     rougher.state.floatbank10_c_air  \\\n",
       "date                                                   \n",
       "2016-09-01 00:59:59                      1249.750520   \n",
       "2016-09-01 01:59:59                      1249.514451   \n",
       "2016-09-01 02:59:59                      1248.207204   \n",
       "2016-09-01 03:59:59                      1250.493702   \n",
       "2016-09-01 04:59:59                      1306.455515   \n",
       "\n",
       "                     rougher.state.floatbank10_c_level  \\\n",
       "date                                                     \n",
       "2016-09-01 00:59:59                        -399.396730   \n",
       "2016-09-01 01:59:59                        -399.630810   \n",
       "2016-09-01 02:59:59                        -401.074405   \n",
       "2016-09-01 03:59:59                        -399.746728   \n",
       "2016-09-01 04:59:59                        -399.050685   \n",
       "\n",
       "                     rougher.state.floatbank10_d_air  \\\n",
       "date                                                   \n",
       "2016-09-01 00:59:59                      1198.287855   \n",
       "2016-09-01 01:59:59                      1200.506459   \n",
       "2016-09-01 02:59:59                      1199.770026   \n",
       "2016-09-01 03:59:59                      1199.398691   \n",
       "2016-09-01 04:59:59                      1248.699349   \n",
       "\n",
       "                     rougher.state.floatbank10_d_level  \\\n",
       "date                                                     \n",
       "2016-09-01 00:59:59                        -399.488594   \n",
       "2016-09-01 01:59:59                        -399.942434   \n",
       "2016-09-01 02:59:59                        -400.790582   \n",
       "2016-09-01 03:59:59                        -397.503052   \n",
       "2016-09-01 04:59:59                        -400.876894   \n",
       "\n",
       "                     rougher.state.floatbank10_e_air  \\\n",
       "date                                                   \n",
       "2016-09-01 00:59:59                       999.472250   \n",
       "2016-09-01 01:59:59                      1000.002114   \n",
       "2016-09-01 02:59:59                       999.925519   \n",
       "2016-09-01 03:59:59                      1001.930679   \n",
       "2016-09-01 04:59:59                      1058.839106   \n",
       "\n",
       "                     rougher.state.floatbank10_e_level  \\\n",
       "date                                                     \n",
       "2016-09-01 00:59:59                        -399.530962   \n",
       "2016-09-01 01:59:59                        -399.491528   \n",
       "2016-09-01 02:59:59                        -399.236999   \n",
       "2016-09-01 03:59:59                        -400.437573   \n",
       "2016-09-01 04:59:59                        -398.988239   \n",
       "\n",
       "                     rougher.state.floatbank10_f_air  \\\n",
       "date                                                   \n",
       "2016-09-01 00:59:59                       949.566189   \n",
       "2016-09-01 01:59:59                       950.200009   \n",
       "2016-09-01 02:59:59                       950.320481   \n",
       "2016-09-01 03:59:59                       950.735324   \n",
       "2016-09-01 04:59:59                       949.645313   \n",
       "\n",
       "                     rougher.state.floatbank10_f_level  \\\n",
       "date                                                     \n",
       "2016-09-01 00:59:59                        -398.180807   \n",
       "2016-09-01 01:59:59                        -405.787514   \n",
       "2016-09-01 02:59:59                        -400.864340   \n",
       "2016-09-01 03:59:59                        -399.802986   \n",
       "2016-09-01 04:59:59                        -399.277632   \n",
       "\n",
       "                     secondary_cleaner.state.floatbank2_a_air  \\\n",
       "date                                                            \n",
       "2016-09-01 00:59:59                                 24.938200   \n",
       "2016-09-01 01:59:59                                 24.923466   \n",
       "2016-09-01 02:59:59                                 24.908732   \n",
       "2016-09-01 03:59:59                                 24.893998   \n",
       "2016-09-01 04:59:59                                 24.886905   \n",
       "\n",
       "                     secondary_cleaner.state.floatbank2_a_level  \\\n",
       "date                                                              \n",
       "2016-09-01 00:59:59                                 -500.490963   \n",
       "2016-09-01 01:59:59                                 -499.813963   \n",
       "2016-09-01 02:59:59                                 -500.304035   \n",
       "2016-09-01 03:59:59                                 -499.382374   \n",
       "2016-09-01 04:59:59                                 -499.357375   \n",
       "\n",
       "                     secondary_cleaner.state.floatbank2_b_air  \\\n",
       "date                                                            \n",
       "2016-09-01 00:59:59                                 14.947607   \n",
       "2016-09-01 01:59:59                                 14.930873   \n",
       "2016-09-01 02:59:59                                 14.996511   \n",
       "2016-09-01 03:59:59                                 14.916674   \n",
       "2016-09-01 04:59:59                                 14.979233   \n",
       "\n",
       "                     secondary_cleaner.state.floatbank2_b_level  \\\n",
       "date                                                              \n",
       "2016-09-01 00:59:59                                 -500.013837   \n",
       "2016-09-01 01:59:59                                 -500.764452   \n",
       "2016-09-01 02:59:59                                 -500.993821   \n",
       "2016-09-01 03:59:59                                 -499.862299   \n",
       "2016-09-01 04:59:59                                 -500.186804   \n",
       "\n",
       "                     secondary_cleaner.state.floatbank3_a_air  \\\n",
       "date                                                            \n",
       "2016-09-01 00:59:59                                 20.018166   \n",
       "2016-09-01 01:59:59                                 19.988503   \n",
       "2016-09-01 02:59:59                                 20.039689   \n",
       "2016-09-01 03:59:59                                 20.031100   \n",
       "2016-09-01 04:59:59                                 19.962364   \n",
       "\n",
       "                     secondary_cleaner.state.floatbank3_a_level  \\\n",
       "date                                                              \n",
       "2016-09-01 00:59:59                                 -450.395995   \n",
       "2016-09-01 01:59:59                                 -450.114024   \n",
       "2016-09-01 02:59:59                                 -450.263164   \n",
       "2016-09-01 03:59:59                                 -449.372570   \n",
       "2016-09-01 04:59:59                                 -450.638828   \n",
       "\n",
       "                     secondary_cleaner.state.floatbank3_b_air  \\\n",
       "date                                                            \n",
       "2016-09-01 00:59:59                                 13.987058   \n",
       "2016-09-01 01:59:59                                 14.092981   \n",
       "2016-09-01 02:59:59                                 14.077881   \n",
       "2016-09-01 03:59:59                                 14.013968   \n",
       "2016-09-01 04:59:59                                 14.009245   \n",
       "\n",
       "                     secondary_cleaner.state.floatbank3_b_level  \\\n",
       "date                                                              \n",
       "2016-09-01 00:59:59                                 -449.831513   \n",
       "2016-09-01 01:59:59                                 -450.059163   \n",
       "2016-09-01 02:59:59                                 -449.660997   \n",
       "2016-09-01 03:59:59                                 -449.526900   \n",
       "2016-09-01 04:59:59                                 -450.022259   \n",
       "\n",
       "                     secondary_cleaner.state.floatbank4_a_air  \\\n",
       "date                                                            \n",
       "2016-09-01 00:59:59                                 12.023554   \n",
       "2016-09-01 01:59:59                                 12.058140   \n",
       "2016-09-01 02:59:59                                 11.962366   \n",
       "2016-09-01 03:59:59                                 12.033091   \n",
       "2016-09-01 04:59:59                                 12.025367   \n",
       "\n",
       "                     secondary_cleaner.state.floatbank4_a_level  \\\n",
       "date                                                              \n",
       "2016-09-01 00:59:59                                 -497.795834   \n",
       "2016-09-01 01:59:59                                 -498.695773   \n",
       "2016-09-01 02:59:59                                 -498.767484   \n",
       "2016-09-01 03:59:59                                 -498.350935   \n",
       "2016-09-01 04:59:59                                 -500.786497   \n",
       "\n",
       "                     secondary_cleaner.state.floatbank4_b_air  \\\n",
       "date                                                            \n",
       "2016-09-01 00:59:59                                  8.016656   \n",
       "2016-09-01 01:59:59                                  8.130979   \n",
       "2016-09-01 02:59:59                                  8.096893   \n",
       "2016-09-01 03:59:59                                  8.074946   \n",
       "2016-09-01 04:59:59                                  8.054678   \n",
       "\n",
       "                     secondary_cleaner.state.floatbank4_b_level  \\\n",
       "date                                                              \n",
       "2016-09-01 00:59:59                                 -501.289139   \n",
       "2016-09-01 01:59:59                                 -499.634209   \n",
       "2016-09-01 02:59:59                                 -500.827423   \n",
       "2016-09-01 03:59:59                                 -499.474407   \n",
       "2016-09-01 04:59:59                                 -500.397500   \n",
       "\n",
       "                     secondary_cleaner.state.floatbank5_a_air  \\\n",
       "date                                                            \n",
       "2016-09-01 00:59:59                                  7.946562   \n",
       "2016-09-01 01:59:59                                  7.958270   \n",
       "2016-09-01 02:59:59                                  8.071056   \n",
       "2016-09-01 03:59:59                                  7.897085   \n",
       "2016-09-01 04:59:59                                  8.107890   \n",
       "\n",
       "                     secondary_cleaner.state.floatbank5_a_level  \\\n",
       "date                                                              \n",
       "2016-09-01 00:59:59                                 -432.317850   \n",
       "2016-09-01 01:59:59                                 -525.839648   \n",
       "2016-09-01 02:59:59                                 -500.801673   \n",
       "2016-09-01 03:59:59                                 -500.868509   \n",
       "2016-09-01 04:59:59                                 -509.526725   \n",
       "\n",
       "                     secondary_cleaner.state.floatbank5_b_air  \\\n",
       "date                                                            \n",
       "2016-09-01 00:59:59                                  4.872511   \n",
       "2016-09-01 01:59:59                                  4.878850   \n",
       "2016-09-01 02:59:59                                  4.905125   \n",
       "2016-09-01 03:59:59                                  4.931400   \n",
       "2016-09-01 04:59:59                                  4.957674   \n",
       "\n",
       "                     secondary_cleaner.state.floatbank5_b_level  \\\n",
       "date                                                              \n",
       "2016-09-01 00:59:59                                 -500.037437   \n",
       "2016-09-01 01:59:59                                 -500.162375   \n",
       "2016-09-01 02:59:59                                 -499.828510   \n",
       "2016-09-01 03:59:59                                 -499.963623   \n",
       "2016-09-01 04:59:59                                 -500.360026   \n",
       "\n",
       "                     secondary_cleaner.state.floatbank6_a_air  \\\n",
       "date                                                            \n",
       "2016-09-01 00:59:59                                 26.705889   \n",
       "2016-09-01 01:59:59                                 25.019940   \n",
       "2016-09-01 02:59:59                                 24.994862   \n",
       "2016-09-01 03:59:59                                 24.948919   \n",
       "2016-09-01 04:59:59                                 25.003331   \n",
       "\n",
       "                     secondary_cleaner.state.floatbank6_a_level  \n",
       "date                                                             \n",
       "2016-09-01 00:59:59                                 -499.709414  \n",
       "2016-09-01 01:59:59                                 -499.819438  \n",
       "2016-09-01 02:59:59                                 -500.622559  \n",
       "2016-09-01 03:59:59                                 -498.709987  \n",
       "2016-09-01 04:59:59                                 -500.856333  "
      ]
     },
     "execution_count": 6,
     "metadata": {},
     "output_type": "execute_result"
    }
   ],
   "source": [
    "# # load and study the test df\n",
    "df_test = pd.read_csv('data/gold_recovery_test.csv', sep=',', index_col = 'date')\n",
    "df_test.head()"
   ]
  },
  {
   "cell_type": "code",
   "execution_count": 7,
   "metadata": {},
   "outputs": [
    {
     "name": "stdout",
     "output_type": "stream",
     "text": [
      "\n",
      "data type\n",
      "<class 'pandas.core.frame.DataFrame'>\n",
      "Index: 5290 entries, 2016-09-01 00:59:59 to 2017-12-31 23:59:59\n",
      "Data columns (total 52 columns):\n",
      " #   Column                                      Non-Null Count  Dtype  \n",
      "---  ------                                      --------------  -----  \n",
      " 0   primary_cleaner.input.sulfate               5286 non-null   float64\n",
      " 1   primary_cleaner.input.depressant            5285 non-null   float64\n",
      " 2   primary_cleaner.input.feed_size             5290 non-null   float64\n",
      " 3   primary_cleaner.input.xanthate              5286 non-null   float64\n",
      " 4   primary_cleaner.state.floatbank8_a_air      5290 non-null   float64\n",
      " 5   primary_cleaner.state.floatbank8_a_level    5290 non-null   float64\n",
      " 6   primary_cleaner.state.floatbank8_b_air      5290 non-null   float64\n",
      " 7   primary_cleaner.state.floatbank8_b_level    5290 non-null   float64\n",
      " 8   primary_cleaner.state.floatbank8_c_air      5290 non-null   float64\n",
      " 9   primary_cleaner.state.floatbank8_c_level    5290 non-null   float64\n",
      " 10  primary_cleaner.state.floatbank8_d_air      5290 non-null   float64\n",
      " 11  primary_cleaner.state.floatbank8_d_level    5290 non-null   float64\n",
      " 12  rougher.input.feed_ag                       5290 non-null   float64\n",
      " 13  rougher.input.feed_pb                       5290 non-null   float64\n",
      " 14  rougher.input.feed_rate                     5287 non-null   float64\n",
      " 15  rougher.input.feed_size                     5289 non-null   float64\n",
      " 16  rougher.input.feed_sol                      5269 non-null   float64\n",
      " 17  rougher.input.feed_au                       5290 non-null   float64\n",
      " 18  rougher.input.floatbank10_sulfate           5285 non-null   float64\n",
      " 19  rougher.input.floatbank10_xanthate          5290 non-null   float64\n",
      " 20  rougher.input.floatbank11_sulfate           5282 non-null   float64\n",
      " 21  rougher.input.floatbank11_xanthate          5265 non-null   float64\n",
      " 22  rougher.state.floatbank10_a_air             5290 non-null   float64\n",
      " 23  rougher.state.floatbank10_a_level           5290 non-null   float64\n",
      " 24  rougher.state.floatbank10_b_air             5290 non-null   float64\n",
      " 25  rougher.state.floatbank10_b_level           5290 non-null   float64\n",
      " 26  rougher.state.floatbank10_c_air             5290 non-null   float64\n",
      " 27  rougher.state.floatbank10_c_level           5290 non-null   float64\n",
      " 28  rougher.state.floatbank10_d_air             5290 non-null   float64\n",
      " 29  rougher.state.floatbank10_d_level           5290 non-null   float64\n",
      " 30  rougher.state.floatbank10_e_air             5290 non-null   float64\n",
      " 31  rougher.state.floatbank10_e_level           5290 non-null   float64\n",
      " 32  rougher.state.floatbank10_f_air             5290 non-null   float64\n",
      " 33  rougher.state.floatbank10_f_level           5290 non-null   float64\n",
      " 34  secondary_cleaner.state.floatbank2_a_air    5287 non-null   float64\n",
      " 35  secondary_cleaner.state.floatbank2_a_level  5290 non-null   float64\n",
      " 36  secondary_cleaner.state.floatbank2_b_air    5288 non-null   float64\n",
      " 37  secondary_cleaner.state.floatbank2_b_level  5290 non-null   float64\n",
      " 38  secondary_cleaner.state.floatbank3_a_air    5281 non-null   float64\n",
      " 39  secondary_cleaner.state.floatbank3_a_level  5290 non-null   float64\n",
      " 40  secondary_cleaner.state.floatbank3_b_air    5290 non-null   float64\n",
      " 41  secondary_cleaner.state.floatbank3_b_level  5290 non-null   float64\n",
      " 42  secondary_cleaner.state.floatbank4_a_air    5290 non-null   float64\n",
      " 43  secondary_cleaner.state.floatbank4_a_level  5290 non-null   float64\n",
      " 44  secondary_cleaner.state.floatbank4_b_air    5290 non-null   float64\n",
      " 45  secondary_cleaner.state.floatbank4_b_level  5290 non-null   float64\n",
      " 46  secondary_cleaner.state.floatbank5_a_air    5290 non-null   float64\n",
      " 47  secondary_cleaner.state.floatbank5_a_level  5290 non-null   float64\n",
      " 48  secondary_cleaner.state.floatbank5_b_air    5290 non-null   float64\n",
      " 49  secondary_cleaner.state.floatbank5_b_level  5290 non-null   float64\n",
      " 50  secondary_cleaner.state.floatbank6_a_air    5290 non-null   float64\n",
      " 51  secondary_cleaner.state.floatbank6_a_level  5290 non-null   float64\n",
      "dtypes: float64(52)\n",
      "memory usage: 2.1+ MB\n"
     ]
    },
    {
     "data": {
      "text/plain": [
       "None"
      ]
     },
     "metadata": {},
     "output_type": "display_data"
    },
    {
     "name": "stdout",
     "output_type": "stream",
     "text": [
      "\n",
      "missing values, %\n"
     ]
    },
    {
     "data": {
      "text/plain": [
       "primary_cleaner.input.sulfate                 0.075614\n",
       "primary_cleaner.input.depressant              0.094518\n",
       "primary_cleaner.input.feed_size               0.000000\n",
       "primary_cleaner.input.xanthate                0.075614\n",
       "primary_cleaner.state.floatbank8_a_air        0.000000\n",
       "primary_cleaner.state.floatbank8_a_level      0.000000\n",
       "primary_cleaner.state.floatbank8_b_air        0.000000\n",
       "primary_cleaner.state.floatbank8_b_level      0.000000\n",
       "primary_cleaner.state.floatbank8_c_air        0.000000\n",
       "primary_cleaner.state.floatbank8_c_level      0.000000\n",
       "primary_cleaner.state.floatbank8_d_air        0.000000\n",
       "primary_cleaner.state.floatbank8_d_level      0.000000\n",
       "rougher.input.feed_ag                         0.000000\n",
       "rougher.input.feed_pb                         0.000000\n",
       "rougher.input.feed_rate                       0.056711\n",
       "rougher.input.feed_size                       0.018904\n",
       "rougher.input.feed_sol                        0.396975\n",
       "rougher.input.feed_au                         0.000000\n",
       "rougher.input.floatbank10_sulfate             0.094518\n",
       "rougher.input.floatbank10_xanthate            0.000000\n",
       "rougher.input.floatbank11_sulfate             0.151229\n",
       "rougher.input.floatbank11_xanthate            0.472590\n",
       "rougher.state.floatbank10_a_air               0.000000\n",
       "rougher.state.floatbank10_a_level             0.000000\n",
       "rougher.state.floatbank10_b_air               0.000000\n",
       "rougher.state.floatbank10_b_level             0.000000\n",
       "rougher.state.floatbank10_c_air               0.000000\n",
       "rougher.state.floatbank10_c_level             0.000000\n",
       "rougher.state.floatbank10_d_air               0.000000\n",
       "rougher.state.floatbank10_d_level             0.000000\n",
       "rougher.state.floatbank10_e_air               0.000000\n",
       "rougher.state.floatbank10_e_level             0.000000\n",
       "rougher.state.floatbank10_f_air               0.000000\n",
       "rougher.state.floatbank10_f_level             0.000000\n",
       "secondary_cleaner.state.floatbank2_a_air      0.056711\n",
       "secondary_cleaner.state.floatbank2_a_level    0.000000\n",
       "secondary_cleaner.state.floatbank2_b_air      0.037807\n",
       "secondary_cleaner.state.floatbank2_b_level    0.000000\n",
       "secondary_cleaner.state.floatbank3_a_air      0.170132\n",
       "secondary_cleaner.state.floatbank3_a_level    0.000000\n",
       "secondary_cleaner.state.floatbank3_b_air      0.000000\n",
       "secondary_cleaner.state.floatbank3_b_level    0.000000\n",
       "secondary_cleaner.state.floatbank4_a_air      0.000000\n",
       "secondary_cleaner.state.floatbank4_a_level    0.000000\n",
       "secondary_cleaner.state.floatbank4_b_air      0.000000\n",
       "secondary_cleaner.state.floatbank4_b_level    0.000000\n",
       "secondary_cleaner.state.floatbank5_a_air      0.000000\n",
       "secondary_cleaner.state.floatbank5_a_level    0.000000\n",
       "secondary_cleaner.state.floatbank5_b_air      0.000000\n",
       "secondary_cleaner.state.floatbank5_b_level    0.000000\n",
       "secondary_cleaner.state.floatbank6_a_air      0.000000\n",
       "secondary_cleaner.state.floatbank6_a_level    0.000000\n",
       "dtype: float64"
      ]
     },
     "metadata": {},
     "output_type": "display_data"
    },
    {
     "name": "stdout",
     "output_type": "stream",
     "text": [
      "\n",
      "duplicated\n",
      "0\n"
     ]
    }
   ],
   "source": [
    "describe_func(df_test)"
   ]
  },
  {
   "cell_type": "code",
   "execution_count": 8,
   "metadata": {},
   "outputs": [
    {
     "data": {
      "text/html": [
       "<div>\n",
       "<style scoped>\n",
       "    .dataframe tbody tr th:only-of-type {\n",
       "        vertical-align: middle;\n",
       "    }\n",
       "\n",
       "    .dataframe tbody tr th {\n",
       "        vertical-align: top;\n",
       "    }\n",
       "\n",
       "    .dataframe thead th {\n",
       "        text-align: right;\n",
       "    }\n",
       "</style>\n",
       "<table border=\"1\" class=\"dataframe\">\n",
       "  <thead>\n",
       "    <tr style=\"text-align: right;\">\n",
       "      <th></th>\n",
       "      <th>final.output.concentrate_ag</th>\n",
       "      <th>final.output.concentrate_pb</th>\n",
       "      <th>final.output.concentrate_sol</th>\n",
       "      <th>final.output.concentrate_au</th>\n",
       "      <th>final.output.recovery</th>\n",
       "      <th>final.output.tail_ag</th>\n",
       "      <th>final.output.tail_pb</th>\n",
       "      <th>final.output.tail_sol</th>\n",
       "      <th>final.output.tail_au</th>\n",
       "      <th>primary_cleaner.input.sulfate</th>\n",
       "      <th>primary_cleaner.input.depressant</th>\n",
       "      <th>primary_cleaner.input.feed_size</th>\n",
       "      <th>primary_cleaner.input.xanthate</th>\n",
       "      <th>primary_cleaner.output.concentrate_ag</th>\n",
       "      <th>primary_cleaner.output.concentrate_pb</th>\n",
       "      <th>primary_cleaner.output.concentrate_sol</th>\n",
       "      <th>primary_cleaner.output.concentrate_au</th>\n",
       "      <th>primary_cleaner.output.tail_ag</th>\n",
       "      <th>primary_cleaner.output.tail_pb</th>\n",
       "      <th>primary_cleaner.output.tail_sol</th>\n",
       "      <th>primary_cleaner.output.tail_au</th>\n",
       "      <th>primary_cleaner.state.floatbank8_a_air</th>\n",
       "      <th>primary_cleaner.state.floatbank8_a_level</th>\n",
       "      <th>primary_cleaner.state.floatbank8_b_air</th>\n",
       "      <th>primary_cleaner.state.floatbank8_b_level</th>\n",
       "      <th>primary_cleaner.state.floatbank8_c_air</th>\n",
       "      <th>primary_cleaner.state.floatbank8_c_level</th>\n",
       "      <th>primary_cleaner.state.floatbank8_d_air</th>\n",
       "      <th>primary_cleaner.state.floatbank8_d_level</th>\n",
       "      <th>rougher.calculation.sulfate_to_au_concentrate</th>\n",
       "      <th>rougher.calculation.floatbank10_sulfate_to_au_feed</th>\n",
       "      <th>rougher.calculation.floatbank11_sulfate_to_au_feed</th>\n",
       "      <th>rougher.calculation.au_pb_ratio</th>\n",
       "      <th>rougher.input.feed_ag</th>\n",
       "      <th>rougher.input.feed_pb</th>\n",
       "      <th>rougher.input.feed_rate</th>\n",
       "      <th>rougher.input.feed_size</th>\n",
       "      <th>rougher.input.feed_sol</th>\n",
       "      <th>rougher.input.feed_au</th>\n",
       "      <th>rougher.input.floatbank10_sulfate</th>\n",
       "      <th>rougher.input.floatbank10_xanthate</th>\n",
       "      <th>rougher.input.floatbank11_sulfate</th>\n",
       "      <th>rougher.input.floatbank11_xanthate</th>\n",
       "      <th>rougher.output.concentrate_ag</th>\n",
       "      <th>rougher.output.concentrate_pb</th>\n",
       "      <th>rougher.output.concentrate_sol</th>\n",
       "      <th>rougher.output.concentrate_au</th>\n",
       "      <th>rougher.output.recovery</th>\n",
       "      <th>rougher.output.tail_ag</th>\n",
       "      <th>rougher.output.tail_pb</th>\n",
       "      <th>rougher.output.tail_sol</th>\n",
       "      <th>rougher.output.tail_au</th>\n",
       "      <th>rougher.state.floatbank10_a_air</th>\n",
       "      <th>rougher.state.floatbank10_a_level</th>\n",
       "      <th>rougher.state.floatbank10_b_air</th>\n",
       "      <th>rougher.state.floatbank10_b_level</th>\n",
       "      <th>rougher.state.floatbank10_c_air</th>\n",
       "      <th>rougher.state.floatbank10_c_level</th>\n",
       "      <th>rougher.state.floatbank10_d_air</th>\n",
       "      <th>rougher.state.floatbank10_d_level</th>\n",
       "      <th>rougher.state.floatbank10_e_air</th>\n",
       "      <th>rougher.state.floatbank10_e_level</th>\n",
       "      <th>rougher.state.floatbank10_f_air</th>\n",
       "      <th>rougher.state.floatbank10_f_level</th>\n",
       "      <th>secondary_cleaner.output.tail_ag</th>\n",
       "      <th>secondary_cleaner.output.tail_pb</th>\n",
       "      <th>secondary_cleaner.output.tail_sol</th>\n",
       "      <th>secondary_cleaner.output.tail_au</th>\n",
       "      <th>secondary_cleaner.state.floatbank2_a_air</th>\n",
       "      <th>secondary_cleaner.state.floatbank2_a_level</th>\n",
       "      <th>secondary_cleaner.state.floatbank2_b_air</th>\n",
       "      <th>secondary_cleaner.state.floatbank2_b_level</th>\n",
       "      <th>secondary_cleaner.state.floatbank3_a_air</th>\n",
       "      <th>secondary_cleaner.state.floatbank3_a_level</th>\n",
       "      <th>secondary_cleaner.state.floatbank3_b_air</th>\n",
       "      <th>secondary_cleaner.state.floatbank3_b_level</th>\n",
       "      <th>secondary_cleaner.state.floatbank4_a_air</th>\n",
       "      <th>secondary_cleaner.state.floatbank4_a_level</th>\n",
       "      <th>secondary_cleaner.state.floatbank4_b_air</th>\n",
       "      <th>secondary_cleaner.state.floatbank4_b_level</th>\n",
       "      <th>secondary_cleaner.state.floatbank5_a_air</th>\n",
       "      <th>secondary_cleaner.state.floatbank5_a_level</th>\n",
       "      <th>secondary_cleaner.state.floatbank5_b_air</th>\n",
       "      <th>secondary_cleaner.state.floatbank5_b_level</th>\n",
       "      <th>secondary_cleaner.state.floatbank6_a_air</th>\n",
       "      <th>secondary_cleaner.state.floatbank6_a_level</th>\n",
       "    </tr>\n",
       "    <tr>\n",
       "      <th>date</th>\n",
       "      <th></th>\n",
       "      <th></th>\n",
       "      <th></th>\n",
       "      <th></th>\n",
       "      <th></th>\n",
       "      <th></th>\n",
       "      <th></th>\n",
       "      <th></th>\n",
       "      <th></th>\n",
       "      <th></th>\n",
       "      <th></th>\n",
       "      <th></th>\n",
       "      <th></th>\n",
       "      <th></th>\n",
       "      <th></th>\n",
       "      <th></th>\n",
       "      <th></th>\n",
       "      <th></th>\n",
       "      <th></th>\n",
       "      <th></th>\n",
       "      <th></th>\n",
       "      <th></th>\n",
       "      <th></th>\n",
       "      <th></th>\n",
       "      <th></th>\n",
       "      <th></th>\n",
       "      <th></th>\n",
       "      <th></th>\n",
       "      <th></th>\n",
       "      <th></th>\n",
       "      <th></th>\n",
       "      <th></th>\n",
       "      <th></th>\n",
       "      <th></th>\n",
       "      <th></th>\n",
       "      <th></th>\n",
       "      <th></th>\n",
       "      <th></th>\n",
       "      <th></th>\n",
       "      <th></th>\n",
       "      <th></th>\n",
       "      <th></th>\n",
       "      <th></th>\n",
       "      <th></th>\n",
       "      <th></th>\n",
       "      <th></th>\n",
       "      <th></th>\n",
       "      <th></th>\n",
       "      <th></th>\n",
       "      <th></th>\n",
       "      <th></th>\n",
       "      <th></th>\n",
       "      <th></th>\n",
       "      <th></th>\n",
       "      <th></th>\n",
       "      <th></th>\n",
       "      <th></th>\n",
       "      <th></th>\n",
       "      <th></th>\n",
       "      <th></th>\n",
       "      <th></th>\n",
       "      <th></th>\n",
       "      <th></th>\n",
       "      <th></th>\n",
       "      <th></th>\n",
       "      <th></th>\n",
       "      <th></th>\n",
       "      <th></th>\n",
       "      <th></th>\n",
       "      <th></th>\n",
       "      <th></th>\n",
       "      <th></th>\n",
       "      <th></th>\n",
       "      <th></th>\n",
       "      <th></th>\n",
       "      <th></th>\n",
       "      <th></th>\n",
       "      <th></th>\n",
       "      <th></th>\n",
       "      <th></th>\n",
       "      <th></th>\n",
       "      <th></th>\n",
       "      <th></th>\n",
       "      <th></th>\n",
       "      <th></th>\n",
       "      <th></th>\n",
       "    </tr>\n",
       "  </thead>\n",
       "  <tbody>\n",
       "    <tr>\n",
       "      <th>2016-01-15 00:00:00</th>\n",
       "      <td>6.055403</td>\n",
       "      <td>9.889648</td>\n",
       "      <td>5.507324</td>\n",
       "      <td>42.192020</td>\n",
       "      <td>70.541216</td>\n",
       "      <td>10.411962</td>\n",
       "      <td>0.895447</td>\n",
       "      <td>16.904297</td>\n",
       "      <td>2.143149</td>\n",
       "      <td>127.092003</td>\n",
       "      <td>10.128295</td>\n",
       "      <td>7.25</td>\n",
       "      <td>0.988759</td>\n",
       "      <td>8.547551</td>\n",
       "      <td>10.389648</td>\n",
       "      <td>19.529297</td>\n",
       "      <td>34.174427</td>\n",
       "      <td>14.936526</td>\n",
       "      <td>2.534912</td>\n",
       "      <td>7.476074</td>\n",
       "      <td>2.106679</td>\n",
       "      <td>1549.775757</td>\n",
       "      <td>-498.912140</td>\n",
       "      <td>1551.434204</td>\n",
       "      <td>-516.403442</td>\n",
       "      <td>1549.873901</td>\n",
       "      <td>-498.666595</td>\n",
       "      <td>1554.367432</td>\n",
       "      <td>-493.428131</td>\n",
       "      <td>41885.707031</td>\n",
       "      <td>3481.779053</td>\n",
       "      <td>3520.337158</td>\n",
       "      <td>2.838687</td>\n",
       "      <td>6.100378</td>\n",
       "      <td>2.284912</td>\n",
       "      <td>523.546326</td>\n",
       "      <td>55.486599</td>\n",
       "      <td>36.808594</td>\n",
       "      <td>6.486150</td>\n",
       "      <td>11.986616</td>\n",
       "      <td>6.007990</td>\n",
       "      <td>11.836743</td>\n",
       "      <td>6.005818</td>\n",
       "      <td>11.500771</td>\n",
       "      <td>7.101074</td>\n",
       "      <td>28.029297</td>\n",
       "      <td>19.793808</td>\n",
       "      <td>87.107763</td>\n",
       "      <td>5.008018</td>\n",
       "      <td>0.508728</td>\n",
       "      <td>19.154297</td>\n",
       "      <td>1.170244</td>\n",
       "      <td>999.706909</td>\n",
       "      <td>-404.066986</td>\n",
       "      <td>1603.011353</td>\n",
       "      <td>-434.715027</td>\n",
       "      <td>1602.375000</td>\n",
       "      <td>-442.204468</td>\n",
       "      <td>1598.937256</td>\n",
       "      <td>-451.294128</td>\n",
       "      <td>1404.472046</td>\n",
       "      <td>-455.462982</td>\n",
       "      <td>1416.354980</td>\n",
       "      <td>-451.939636</td>\n",
       "      <td>14.500184</td>\n",
       "      <td>4.694824</td>\n",
       "      <td>8.764648</td>\n",
       "      <td>2.606185</td>\n",
       "      <td>25.853109</td>\n",
       "      <td>-498.526489</td>\n",
       "      <td>23.893660</td>\n",
       "      <td>-501.406281</td>\n",
       "      <td>23.961798</td>\n",
       "      <td>-495.262817</td>\n",
       "      <td>21.940409</td>\n",
       "      <td>-499.340973</td>\n",
       "      <td>14.016835</td>\n",
       "      <td>-502.488007</td>\n",
       "      <td>12.099931</td>\n",
       "      <td>-504.715942</td>\n",
       "      <td>9.925633</td>\n",
       "      <td>-498.310211</td>\n",
       "      <td>8.079666</td>\n",
       "      <td>-500.470978</td>\n",
       "      <td>14.151341</td>\n",
       "      <td>-605.841980</td>\n",
       "    </tr>\n",
       "    <tr>\n",
       "      <th>2016-01-15 01:00:00</th>\n",
       "      <td>6.029369</td>\n",
       "      <td>9.968944</td>\n",
       "      <td>5.257781</td>\n",
       "      <td>42.701629</td>\n",
       "      <td>69.266198</td>\n",
       "      <td>10.462676</td>\n",
       "      <td>0.927452</td>\n",
       "      <td>16.634514</td>\n",
       "      <td>2.224930</td>\n",
       "      <td>125.629232</td>\n",
       "      <td>10.296251</td>\n",
       "      <td>7.25</td>\n",
       "      <td>1.002663</td>\n",
       "      <td>8.558743</td>\n",
       "      <td>10.497069</td>\n",
       "      <td>19.369147</td>\n",
       "      <td>34.118526</td>\n",
       "      <td>16.250511</td>\n",
       "      <td>3.049646</td>\n",
       "      <td>6.733907</td>\n",
       "      <td>2.353017</td>\n",
       "      <td>1576.166671</td>\n",
       "      <td>-500.904965</td>\n",
       "      <td>1575.950626</td>\n",
       "      <td>-499.865889</td>\n",
       "      <td>1575.994189</td>\n",
       "      <td>-499.315107</td>\n",
       "      <td>1574.479259</td>\n",
       "      <td>-498.931665</td>\n",
       "      <td>42050.861809</td>\n",
       "      <td>3498.370979</td>\n",
       "      <td>3489.981857</td>\n",
       "      <td>2.858998</td>\n",
       "      <td>6.161113</td>\n",
       "      <td>2.266033</td>\n",
       "      <td>525.290581</td>\n",
       "      <td>57.278666</td>\n",
       "      <td>35.753385</td>\n",
       "      <td>6.478583</td>\n",
       "      <td>11.971193</td>\n",
       "      <td>6.005766</td>\n",
       "      <td>11.996163</td>\n",
       "      <td>6.012594</td>\n",
       "      <td>11.615865</td>\n",
       "      <td>7.278807</td>\n",
       "      <td>28.067063</td>\n",
       "      <td>20.050975</td>\n",
       "      <td>86.843261</td>\n",
       "      <td>4.955378</td>\n",
       "      <td>0.536689</td>\n",
       "      <td>18.965234</td>\n",
       "      <td>1.184827</td>\n",
       "      <td>1000.286398</td>\n",
       "      <td>-400.065196</td>\n",
       "      <td>1600.754587</td>\n",
       "      <td>-449.953435</td>\n",
       "      <td>1600.479580</td>\n",
       "      <td>-449.830646</td>\n",
       "      <td>1600.527589</td>\n",
       "      <td>-449.953649</td>\n",
       "      <td>1399.227084</td>\n",
       "      <td>-450.869848</td>\n",
       "      <td>1399.719514</td>\n",
       "      <td>-450.119001</td>\n",
       "      <td>14.265474</td>\n",
       "      <td>4.592547</td>\n",
       "      <td>9.001494</td>\n",
       "      <td>2.488248</td>\n",
       "      <td>25.880539</td>\n",
       "      <td>-499.989656</td>\n",
       "      <td>23.889530</td>\n",
       "      <td>-500.372428</td>\n",
       "      <td>23.970550</td>\n",
       "      <td>-500.085473</td>\n",
       "      <td>22.085714</td>\n",
       "      <td>-499.446897</td>\n",
       "      <td>13.992281</td>\n",
       "      <td>-505.503262</td>\n",
       "      <td>11.950531</td>\n",
       "      <td>-501.331529</td>\n",
       "      <td>10.039245</td>\n",
       "      <td>-500.169983</td>\n",
       "      <td>7.984757</td>\n",
       "      <td>-500.582168</td>\n",
       "      <td>13.998353</td>\n",
       "      <td>-599.787184</td>\n",
       "    </tr>\n",
       "    <tr>\n",
       "      <th>2016-01-15 02:00:00</th>\n",
       "      <td>6.055926</td>\n",
       "      <td>10.213995</td>\n",
       "      <td>5.383759</td>\n",
       "      <td>42.657501</td>\n",
       "      <td>68.116445</td>\n",
       "      <td>10.507046</td>\n",
       "      <td>0.953716</td>\n",
       "      <td>16.208849</td>\n",
       "      <td>2.257889</td>\n",
       "      <td>123.819808</td>\n",
       "      <td>11.316280</td>\n",
       "      <td>7.25</td>\n",
       "      <td>0.991265</td>\n",
       "      <td>8.603505</td>\n",
       "      <td>10.354494</td>\n",
       "      <td>19.167579</td>\n",
       "      <td>33.969464</td>\n",
       "      <td>16.491823</td>\n",
       "      <td>3.124664</td>\n",
       "      <td>6.471768</td>\n",
       "      <td>2.416800</td>\n",
       "      <td>1601.556163</td>\n",
       "      <td>-499.997791</td>\n",
       "      <td>1600.386685</td>\n",
       "      <td>-500.607762</td>\n",
       "      <td>1602.003542</td>\n",
       "      <td>-500.870069</td>\n",
       "      <td>1599.541515</td>\n",
       "      <td>-499.827444</td>\n",
       "      <td>42018.101184</td>\n",
       "      <td>3495.348910</td>\n",
       "      <td>3502.359819</td>\n",
       "      <td>2.945989</td>\n",
       "      <td>6.116455</td>\n",
       "      <td>2.159622</td>\n",
       "      <td>530.026610</td>\n",
       "      <td>57.510649</td>\n",
       "      <td>35.971630</td>\n",
       "      <td>6.362222</td>\n",
       "      <td>11.920603</td>\n",
       "      <td>6.197377</td>\n",
       "      <td>11.920305</td>\n",
       "      <td>6.204633</td>\n",
       "      <td>11.695753</td>\n",
       "      <td>7.216833</td>\n",
       "      <td>27.454037</td>\n",
       "      <td>19.737170</td>\n",
       "      <td>86.842308</td>\n",
       "      <td>4.843460</td>\n",
       "      <td>0.546416</td>\n",
       "      <td>18.808533</td>\n",
       "      <td>1.162562</td>\n",
       "      <td>999.719565</td>\n",
       "      <td>-400.074028</td>\n",
       "      <td>1599.337330</td>\n",
       "      <td>-450.008530</td>\n",
       "      <td>1599.672797</td>\n",
       "      <td>-449.954491</td>\n",
       "      <td>1599.849325</td>\n",
       "      <td>-449.954185</td>\n",
       "      <td>1399.180945</td>\n",
       "      <td>-449.937588</td>\n",
       "      <td>1400.316682</td>\n",
       "      <td>-450.527147</td>\n",
       "      <td>14.115662</td>\n",
       "      <td>4.624775</td>\n",
       "      <td>8.842896</td>\n",
       "      <td>2.458187</td>\n",
       "      <td>26.005245</td>\n",
       "      <td>-499.929616</td>\n",
       "      <td>23.886657</td>\n",
       "      <td>-499.951928</td>\n",
       "      <td>23.913535</td>\n",
       "      <td>-499.442343</td>\n",
       "      <td>23.957717</td>\n",
       "      <td>-499.901982</td>\n",
       "      <td>14.015015</td>\n",
       "      <td>-502.520901</td>\n",
       "      <td>11.912783</td>\n",
       "      <td>-501.133383</td>\n",
       "      <td>10.070913</td>\n",
       "      <td>-500.129135</td>\n",
       "      <td>8.013877</td>\n",
       "      <td>-500.517572</td>\n",
       "      <td>14.028663</td>\n",
       "      <td>-601.427363</td>\n",
       "    </tr>\n",
       "    <tr>\n",
       "      <th>2016-01-15 03:00:00</th>\n",
       "      <td>6.047977</td>\n",
       "      <td>9.977019</td>\n",
       "      <td>4.858634</td>\n",
       "      <td>42.689819</td>\n",
       "      <td>68.347543</td>\n",
       "      <td>10.422762</td>\n",
       "      <td>0.883763</td>\n",
       "      <td>16.532835</td>\n",
       "      <td>2.146849</td>\n",
       "      <td>122.270188</td>\n",
       "      <td>11.322140</td>\n",
       "      <td>7.25</td>\n",
       "      <td>0.996739</td>\n",
       "      <td>7.221879</td>\n",
       "      <td>8.496563</td>\n",
       "      <td>15.978538</td>\n",
       "      <td>28.260743</td>\n",
       "      <td>16.024359</td>\n",
       "      <td>2.960362</td>\n",
       "      <td>6.843791</td>\n",
       "      <td>2.262051</td>\n",
       "      <td>1599.968720</td>\n",
       "      <td>-500.951778</td>\n",
       "      <td>1600.659236</td>\n",
       "      <td>-499.677094</td>\n",
       "      <td>1600.304144</td>\n",
       "      <td>-500.727997</td>\n",
       "      <td>1600.449520</td>\n",
       "      <td>-500.052575</td>\n",
       "      <td>42029.447991</td>\n",
       "      <td>3498.578313</td>\n",
       "      <td>3499.162912</td>\n",
       "      <td>3.002340</td>\n",
       "      <td>6.043309</td>\n",
       "      <td>2.037807</td>\n",
       "      <td>542.590390</td>\n",
       "      <td>57.792734</td>\n",
       "      <td>36.862241</td>\n",
       "      <td>6.118189</td>\n",
       "      <td>11.630094</td>\n",
       "      <td>6.203177</td>\n",
       "      <td>11.692450</td>\n",
       "      <td>6.196578</td>\n",
       "      <td>11.915047</td>\n",
       "      <td>7.175616</td>\n",
       "      <td>27.341277</td>\n",
       "      <td>19.320810</td>\n",
       "      <td>87.226430</td>\n",
       "      <td>4.655288</td>\n",
       "      <td>0.542525</td>\n",
       "      <td>19.330200</td>\n",
       "      <td>1.079755</td>\n",
       "      <td>999.814770</td>\n",
       "      <td>-400.200179</td>\n",
       "      <td>1600.059442</td>\n",
       "      <td>-450.619948</td>\n",
       "      <td>1600.012842</td>\n",
       "      <td>-449.910497</td>\n",
       "      <td>1597.725177</td>\n",
       "      <td>-450.130127</td>\n",
       "      <td>1400.943157</td>\n",
       "      <td>-450.030142</td>\n",
       "      <td>1400.234743</td>\n",
       "      <td>-449.790835</td>\n",
       "      <td>13.732071</td>\n",
       "      <td>4.482453</td>\n",
       "      <td>9.122857</td>\n",
       "      <td>2.322062</td>\n",
       "      <td>25.942508</td>\n",
       "      <td>-499.176749</td>\n",
       "      <td>23.955516</td>\n",
       "      <td>-499.848796</td>\n",
       "      <td>23.966838</td>\n",
       "      <td>-500.008812</td>\n",
       "      <td>23.954443</td>\n",
       "      <td>-499.944710</td>\n",
       "      <td>14.036510</td>\n",
       "      <td>-500.857308</td>\n",
       "      <td>11.999550</td>\n",
       "      <td>-501.193686</td>\n",
       "      <td>9.970366</td>\n",
       "      <td>-499.201640</td>\n",
       "      <td>7.977324</td>\n",
       "      <td>-500.255908</td>\n",
       "      <td>14.005551</td>\n",
       "      <td>-599.996129</td>\n",
       "    </tr>\n",
       "    <tr>\n",
       "      <th>2016-01-15 04:00:00</th>\n",
       "      <td>6.148599</td>\n",
       "      <td>10.142511</td>\n",
       "      <td>4.939416</td>\n",
       "      <td>42.774141</td>\n",
       "      <td>66.927016</td>\n",
       "      <td>10.360302</td>\n",
       "      <td>0.792826</td>\n",
       "      <td>16.525686</td>\n",
       "      <td>2.055292</td>\n",
       "      <td>117.988169</td>\n",
       "      <td>11.913613</td>\n",
       "      <td>7.25</td>\n",
       "      <td>1.009869</td>\n",
       "      <td>9.089428</td>\n",
       "      <td>9.986786</td>\n",
       "      <td>19.199864</td>\n",
       "      <td>33.044932</td>\n",
       "      <td>16.480185</td>\n",
       "      <td>3.112100</td>\n",
       "      <td>6.550154</td>\n",
       "      <td>2.277073</td>\n",
       "      <td>1601.339707</td>\n",
       "      <td>-498.975456</td>\n",
       "      <td>1601.437854</td>\n",
       "      <td>-500.323246</td>\n",
       "      <td>1599.581894</td>\n",
       "      <td>-500.888152</td>\n",
       "      <td>1602.649541</td>\n",
       "      <td>-500.593010</td>\n",
       "      <td>42125.354245</td>\n",
       "      <td>3494.800771</td>\n",
       "      <td>3506.679315</td>\n",
       "      <td>3.169615</td>\n",
       "      <td>6.060915</td>\n",
       "      <td>1.786875</td>\n",
       "      <td>540.531893</td>\n",
       "      <td>56.047189</td>\n",
       "      <td>34.347666</td>\n",
       "      <td>5.663707</td>\n",
       "      <td>10.957755</td>\n",
       "      <td>6.198826</td>\n",
       "      <td>10.960521</td>\n",
       "      <td>6.194897</td>\n",
       "      <td>12.411054</td>\n",
       "      <td>7.240205</td>\n",
       "      <td>27.041023</td>\n",
       "      <td>19.216101</td>\n",
       "      <td>86.688794</td>\n",
       "      <td>4.552800</td>\n",
       "      <td>0.515438</td>\n",
       "      <td>19.267422</td>\n",
       "      <td>1.012642</td>\n",
       "      <td>999.678690</td>\n",
       "      <td>-399.752729</td>\n",
       "      <td>1600.208824</td>\n",
       "      <td>-449.599614</td>\n",
       "      <td>1600.357732</td>\n",
       "      <td>-450.034364</td>\n",
       "      <td>1599.759049</td>\n",
       "      <td>-449.909799</td>\n",
       "      <td>1401.560902</td>\n",
       "      <td>-448.877187</td>\n",
       "      <td>1401.160227</td>\n",
       "      <td>-450.407128</td>\n",
       "      <td>14.079996</td>\n",
       "      <td>4.470737</td>\n",
       "      <td>8.871028</td>\n",
       "      <td>2.330448</td>\n",
       "      <td>26.024787</td>\n",
       "      <td>-500.279091</td>\n",
       "      <td>23.955345</td>\n",
       "      <td>-500.593614</td>\n",
       "      <td>23.985703</td>\n",
       "      <td>-500.083811</td>\n",
       "      <td>23.958945</td>\n",
       "      <td>-499.990309</td>\n",
       "      <td>14.027298</td>\n",
       "      <td>-499.838632</td>\n",
       "      <td>11.953070</td>\n",
       "      <td>-501.053894</td>\n",
       "      <td>9.925709</td>\n",
       "      <td>-501.686727</td>\n",
       "      <td>7.894242</td>\n",
       "      <td>-500.356035</td>\n",
       "      <td>13.996647</td>\n",
       "      <td>-601.496691</td>\n",
       "    </tr>\n",
       "  </tbody>\n",
       "</table>\n",
       "</div>"
      ],
      "text/plain": [
       "                     final.output.concentrate_ag  final.output.concentrate_pb  \\\n",
       "date                                                                            \n",
       "2016-01-15 00:00:00                     6.055403                     9.889648   \n",
       "2016-01-15 01:00:00                     6.029369                     9.968944   \n",
       "2016-01-15 02:00:00                     6.055926                    10.213995   \n",
       "2016-01-15 03:00:00                     6.047977                     9.977019   \n",
       "2016-01-15 04:00:00                     6.148599                    10.142511   \n",
       "\n",
       "                     final.output.concentrate_sol  \\\n",
       "date                                                \n",
       "2016-01-15 00:00:00                      5.507324   \n",
       "2016-01-15 01:00:00                      5.257781   \n",
       "2016-01-15 02:00:00                      5.383759   \n",
       "2016-01-15 03:00:00                      4.858634   \n",
       "2016-01-15 04:00:00                      4.939416   \n",
       "\n",
       "                     final.output.concentrate_au  final.output.recovery  \\\n",
       "date                                                                      \n",
       "2016-01-15 00:00:00                    42.192020              70.541216   \n",
       "2016-01-15 01:00:00                    42.701629              69.266198   \n",
       "2016-01-15 02:00:00                    42.657501              68.116445   \n",
       "2016-01-15 03:00:00                    42.689819              68.347543   \n",
       "2016-01-15 04:00:00                    42.774141              66.927016   \n",
       "\n",
       "                     final.output.tail_ag  final.output.tail_pb  \\\n",
       "date                                                              \n",
       "2016-01-15 00:00:00             10.411962              0.895447   \n",
       "2016-01-15 01:00:00             10.462676              0.927452   \n",
       "2016-01-15 02:00:00             10.507046              0.953716   \n",
       "2016-01-15 03:00:00             10.422762              0.883763   \n",
       "2016-01-15 04:00:00             10.360302              0.792826   \n",
       "\n",
       "                     final.output.tail_sol  final.output.tail_au  \\\n",
       "date                                                               \n",
       "2016-01-15 00:00:00              16.904297              2.143149   \n",
       "2016-01-15 01:00:00              16.634514              2.224930   \n",
       "2016-01-15 02:00:00              16.208849              2.257889   \n",
       "2016-01-15 03:00:00              16.532835              2.146849   \n",
       "2016-01-15 04:00:00              16.525686              2.055292   \n",
       "\n",
       "                     primary_cleaner.input.sulfate  \\\n",
       "date                                                 \n",
       "2016-01-15 00:00:00                     127.092003   \n",
       "2016-01-15 01:00:00                     125.629232   \n",
       "2016-01-15 02:00:00                     123.819808   \n",
       "2016-01-15 03:00:00                     122.270188   \n",
       "2016-01-15 04:00:00                     117.988169   \n",
       "\n",
       "                     primary_cleaner.input.depressant  \\\n",
       "date                                                    \n",
       "2016-01-15 00:00:00                         10.128295   \n",
       "2016-01-15 01:00:00                         10.296251   \n",
       "2016-01-15 02:00:00                         11.316280   \n",
       "2016-01-15 03:00:00                         11.322140   \n",
       "2016-01-15 04:00:00                         11.913613   \n",
       "\n",
       "                     primary_cleaner.input.feed_size  \\\n",
       "date                                                   \n",
       "2016-01-15 00:00:00                             7.25   \n",
       "2016-01-15 01:00:00                             7.25   \n",
       "2016-01-15 02:00:00                             7.25   \n",
       "2016-01-15 03:00:00                             7.25   \n",
       "2016-01-15 04:00:00                             7.25   \n",
       "\n",
       "                     primary_cleaner.input.xanthate  \\\n",
       "date                                                  \n",
       "2016-01-15 00:00:00                        0.988759   \n",
       "2016-01-15 01:00:00                        1.002663   \n",
       "2016-01-15 02:00:00                        0.991265   \n",
       "2016-01-15 03:00:00                        0.996739   \n",
       "2016-01-15 04:00:00                        1.009869   \n",
       "\n",
       "                     primary_cleaner.output.concentrate_ag  \\\n",
       "date                                                         \n",
       "2016-01-15 00:00:00                               8.547551   \n",
       "2016-01-15 01:00:00                               8.558743   \n",
       "2016-01-15 02:00:00                               8.603505   \n",
       "2016-01-15 03:00:00                               7.221879   \n",
       "2016-01-15 04:00:00                               9.089428   \n",
       "\n",
       "                     primary_cleaner.output.concentrate_pb  \\\n",
       "date                                                         \n",
       "2016-01-15 00:00:00                              10.389648   \n",
       "2016-01-15 01:00:00                              10.497069   \n",
       "2016-01-15 02:00:00                              10.354494   \n",
       "2016-01-15 03:00:00                               8.496563   \n",
       "2016-01-15 04:00:00                               9.986786   \n",
       "\n",
       "                     primary_cleaner.output.concentrate_sol  \\\n",
       "date                                                          \n",
       "2016-01-15 00:00:00                               19.529297   \n",
       "2016-01-15 01:00:00                               19.369147   \n",
       "2016-01-15 02:00:00                               19.167579   \n",
       "2016-01-15 03:00:00                               15.978538   \n",
       "2016-01-15 04:00:00                               19.199864   \n",
       "\n",
       "                     primary_cleaner.output.concentrate_au  \\\n",
       "date                                                         \n",
       "2016-01-15 00:00:00                              34.174427   \n",
       "2016-01-15 01:00:00                              34.118526   \n",
       "2016-01-15 02:00:00                              33.969464   \n",
       "2016-01-15 03:00:00                              28.260743   \n",
       "2016-01-15 04:00:00                              33.044932   \n",
       "\n",
       "                     primary_cleaner.output.tail_ag  \\\n",
       "date                                                  \n",
       "2016-01-15 00:00:00                       14.936526   \n",
       "2016-01-15 01:00:00                       16.250511   \n",
       "2016-01-15 02:00:00                       16.491823   \n",
       "2016-01-15 03:00:00                       16.024359   \n",
       "2016-01-15 04:00:00                       16.480185   \n",
       "\n",
       "                     primary_cleaner.output.tail_pb  \\\n",
       "date                                                  \n",
       "2016-01-15 00:00:00                        2.534912   \n",
       "2016-01-15 01:00:00                        3.049646   \n",
       "2016-01-15 02:00:00                        3.124664   \n",
       "2016-01-15 03:00:00                        2.960362   \n",
       "2016-01-15 04:00:00                        3.112100   \n",
       "\n",
       "                     primary_cleaner.output.tail_sol  \\\n",
       "date                                                   \n",
       "2016-01-15 00:00:00                         7.476074   \n",
       "2016-01-15 01:00:00                         6.733907   \n",
       "2016-01-15 02:00:00                         6.471768   \n",
       "2016-01-15 03:00:00                         6.843791   \n",
       "2016-01-15 04:00:00                         6.550154   \n",
       "\n",
       "                     primary_cleaner.output.tail_au  \\\n",
       "date                                                  \n",
       "2016-01-15 00:00:00                        2.106679   \n",
       "2016-01-15 01:00:00                        2.353017   \n",
       "2016-01-15 02:00:00                        2.416800   \n",
       "2016-01-15 03:00:00                        2.262051   \n",
       "2016-01-15 04:00:00                        2.277073   \n",
       "\n",
       "                     primary_cleaner.state.floatbank8_a_air  \\\n",
       "date                                                          \n",
       "2016-01-15 00:00:00                             1549.775757   \n",
       "2016-01-15 01:00:00                             1576.166671   \n",
       "2016-01-15 02:00:00                             1601.556163   \n",
       "2016-01-15 03:00:00                             1599.968720   \n",
       "2016-01-15 04:00:00                             1601.339707   \n",
       "\n",
       "                     primary_cleaner.state.floatbank8_a_level  \\\n",
       "date                                                            \n",
       "2016-01-15 00:00:00                               -498.912140   \n",
       "2016-01-15 01:00:00                               -500.904965   \n",
       "2016-01-15 02:00:00                               -499.997791   \n",
       "2016-01-15 03:00:00                               -500.951778   \n",
       "2016-01-15 04:00:00                               -498.975456   \n",
       "\n",
       "                     primary_cleaner.state.floatbank8_b_air  \\\n",
       "date                                                          \n",
       "2016-01-15 00:00:00                             1551.434204   \n",
       "2016-01-15 01:00:00                             1575.950626   \n",
       "2016-01-15 02:00:00                             1600.386685   \n",
       "2016-01-15 03:00:00                             1600.659236   \n",
       "2016-01-15 04:00:00                             1601.437854   \n",
       "\n",
       "                     primary_cleaner.state.floatbank8_b_level  \\\n",
       "date                                                            \n",
       "2016-01-15 00:00:00                               -516.403442   \n",
       "2016-01-15 01:00:00                               -499.865889   \n",
       "2016-01-15 02:00:00                               -500.607762   \n",
       "2016-01-15 03:00:00                               -499.677094   \n",
       "2016-01-15 04:00:00                               -500.323246   \n",
       "\n",
       "                     primary_cleaner.state.floatbank8_c_air  \\\n",
       "date                                                          \n",
       "2016-01-15 00:00:00                             1549.873901   \n",
       "2016-01-15 01:00:00                             1575.994189   \n",
       "2016-01-15 02:00:00                             1602.003542   \n",
       "2016-01-15 03:00:00                             1600.304144   \n",
       "2016-01-15 04:00:00                             1599.581894   \n",
       "\n",
       "                     primary_cleaner.state.floatbank8_c_level  \\\n",
       "date                                                            \n",
       "2016-01-15 00:00:00                               -498.666595   \n",
       "2016-01-15 01:00:00                               -499.315107   \n",
       "2016-01-15 02:00:00                               -500.870069   \n",
       "2016-01-15 03:00:00                               -500.727997   \n",
       "2016-01-15 04:00:00                               -500.888152   \n",
       "\n",
       "                     primary_cleaner.state.floatbank8_d_air  \\\n",
       "date                                                          \n",
       "2016-01-15 00:00:00                             1554.367432   \n",
       "2016-01-15 01:00:00                             1574.479259   \n",
       "2016-01-15 02:00:00                             1599.541515   \n",
       "2016-01-15 03:00:00                             1600.449520   \n",
       "2016-01-15 04:00:00                             1602.649541   \n",
       "\n",
       "                     primary_cleaner.state.floatbank8_d_level  \\\n",
       "date                                                            \n",
       "2016-01-15 00:00:00                               -493.428131   \n",
       "2016-01-15 01:00:00                               -498.931665   \n",
       "2016-01-15 02:00:00                               -499.827444   \n",
       "2016-01-15 03:00:00                               -500.052575   \n",
       "2016-01-15 04:00:00                               -500.593010   \n",
       "\n",
       "                     rougher.calculation.sulfate_to_au_concentrate  \\\n",
       "date                                                                 \n",
       "2016-01-15 00:00:00                                   41885.707031   \n",
       "2016-01-15 01:00:00                                   42050.861809   \n",
       "2016-01-15 02:00:00                                   42018.101184   \n",
       "2016-01-15 03:00:00                                   42029.447991   \n",
       "2016-01-15 04:00:00                                   42125.354245   \n",
       "\n",
       "                     rougher.calculation.floatbank10_sulfate_to_au_feed  \\\n",
       "date                                                                      \n",
       "2016-01-15 00:00:00                                        3481.779053    \n",
       "2016-01-15 01:00:00                                        3498.370979    \n",
       "2016-01-15 02:00:00                                        3495.348910    \n",
       "2016-01-15 03:00:00                                        3498.578313    \n",
       "2016-01-15 04:00:00                                        3494.800771    \n",
       "\n",
       "                     rougher.calculation.floatbank11_sulfate_to_au_feed  \\\n",
       "date                                                                      \n",
       "2016-01-15 00:00:00                                        3520.337158    \n",
       "2016-01-15 01:00:00                                        3489.981857    \n",
       "2016-01-15 02:00:00                                        3502.359819    \n",
       "2016-01-15 03:00:00                                        3499.162912    \n",
       "2016-01-15 04:00:00                                        3506.679315    \n",
       "\n",
       "                     rougher.calculation.au_pb_ratio  rougher.input.feed_ag  \\\n",
       "date                                                                          \n",
       "2016-01-15 00:00:00                         2.838687               6.100378   \n",
       "2016-01-15 01:00:00                         2.858998               6.161113   \n",
       "2016-01-15 02:00:00                         2.945989               6.116455   \n",
       "2016-01-15 03:00:00                         3.002340               6.043309   \n",
       "2016-01-15 04:00:00                         3.169615               6.060915   \n",
       "\n",
       "                     rougher.input.feed_pb  rougher.input.feed_rate  \\\n",
       "date                                                                  \n",
       "2016-01-15 00:00:00               2.284912               523.546326   \n",
       "2016-01-15 01:00:00               2.266033               525.290581   \n",
       "2016-01-15 02:00:00               2.159622               530.026610   \n",
       "2016-01-15 03:00:00               2.037807               542.590390   \n",
       "2016-01-15 04:00:00               1.786875               540.531893   \n",
       "\n",
       "                     rougher.input.feed_size  rougher.input.feed_sol  \\\n",
       "date                                                                   \n",
       "2016-01-15 00:00:00                55.486599               36.808594   \n",
       "2016-01-15 01:00:00                57.278666               35.753385   \n",
       "2016-01-15 02:00:00                57.510649               35.971630   \n",
       "2016-01-15 03:00:00                57.792734               36.862241   \n",
       "2016-01-15 04:00:00                56.047189               34.347666   \n",
       "\n",
       "                     rougher.input.feed_au  rougher.input.floatbank10_sulfate  \\\n",
       "date                                                                            \n",
       "2016-01-15 00:00:00               6.486150                          11.986616   \n",
       "2016-01-15 01:00:00               6.478583                          11.971193   \n",
       "2016-01-15 02:00:00               6.362222                          11.920603   \n",
       "2016-01-15 03:00:00               6.118189                          11.630094   \n",
       "2016-01-15 04:00:00               5.663707                          10.957755   \n",
       "\n",
       "                     rougher.input.floatbank10_xanthate  \\\n",
       "date                                                      \n",
       "2016-01-15 00:00:00                            6.007990   \n",
       "2016-01-15 01:00:00                            6.005766   \n",
       "2016-01-15 02:00:00                            6.197377   \n",
       "2016-01-15 03:00:00                            6.203177   \n",
       "2016-01-15 04:00:00                            6.198826   \n",
       "\n",
       "                     rougher.input.floatbank11_sulfate  \\\n",
       "date                                                     \n",
       "2016-01-15 00:00:00                          11.836743   \n",
       "2016-01-15 01:00:00                          11.996163   \n",
       "2016-01-15 02:00:00                          11.920305   \n",
       "2016-01-15 03:00:00                          11.692450   \n",
       "2016-01-15 04:00:00                          10.960521   \n",
       "\n",
       "                     rougher.input.floatbank11_xanthate  \\\n",
       "date                                                      \n",
       "2016-01-15 00:00:00                            6.005818   \n",
       "2016-01-15 01:00:00                            6.012594   \n",
       "2016-01-15 02:00:00                            6.204633   \n",
       "2016-01-15 03:00:00                            6.196578   \n",
       "2016-01-15 04:00:00                            6.194897   \n",
       "\n",
       "                     rougher.output.concentrate_ag  \\\n",
       "date                                                 \n",
       "2016-01-15 00:00:00                      11.500771   \n",
       "2016-01-15 01:00:00                      11.615865   \n",
       "2016-01-15 02:00:00                      11.695753   \n",
       "2016-01-15 03:00:00                      11.915047   \n",
       "2016-01-15 04:00:00                      12.411054   \n",
       "\n",
       "                     rougher.output.concentrate_pb  \\\n",
       "date                                                 \n",
       "2016-01-15 00:00:00                       7.101074   \n",
       "2016-01-15 01:00:00                       7.278807   \n",
       "2016-01-15 02:00:00                       7.216833   \n",
       "2016-01-15 03:00:00                       7.175616   \n",
       "2016-01-15 04:00:00                       7.240205   \n",
       "\n",
       "                     rougher.output.concentrate_sol  \\\n",
       "date                                                  \n",
       "2016-01-15 00:00:00                       28.029297   \n",
       "2016-01-15 01:00:00                       28.067063   \n",
       "2016-01-15 02:00:00                       27.454037   \n",
       "2016-01-15 03:00:00                       27.341277   \n",
       "2016-01-15 04:00:00                       27.041023   \n",
       "\n",
       "                     rougher.output.concentrate_au  rougher.output.recovery  \\\n",
       "date                                                                          \n",
       "2016-01-15 00:00:00                      19.793808                87.107763   \n",
       "2016-01-15 01:00:00                      20.050975                86.843261   \n",
       "2016-01-15 02:00:00                      19.737170                86.842308   \n",
       "2016-01-15 03:00:00                      19.320810                87.226430   \n",
       "2016-01-15 04:00:00                      19.216101                86.688794   \n",
       "\n",
       "                     rougher.output.tail_ag  rougher.output.tail_pb  \\\n",
       "date                                                                  \n",
       "2016-01-15 00:00:00                5.008018                0.508728   \n",
       "2016-01-15 01:00:00                4.955378                0.536689   \n",
       "2016-01-15 02:00:00                4.843460                0.546416   \n",
       "2016-01-15 03:00:00                4.655288                0.542525   \n",
       "2016-01-15 04:00:00                4.552800                0.515438   \n",
       "\n",
       "                     rougher.output.tail_sol  rougher.output.tail_au  \\\n",
       "date                                                                   \n",
       "2016-01-15 00:00:00                19.154297                1.170244   \n",
       "2016-01-15 01:00:00                18.965234                1.184827   \n",
       "2016-01-15 02:00:00                18.808533                1.162562   \n",
       "2016-01-15 03:00:00                19.330200                1.079755   \n",
       "2016-01-15 04:00:00                19.267422                1.012642   \n",
       "\n",
       "                     rougher.state.floatbank10_a_air  \\\n",
       "date                                                   \n",
       "2016-01-15 00:00:00                       999.706909   \n",
       "2016-01-15 01:00:00                      1000.286398   \n",
       "2016-01-15 02:00:00                       999.719565   \n",
       "2016-01-15 03:00:00                       999.814770   \n",
       "2016-01-15 04:00:00                       999.678690   \n",
       "\n",
       "                     rougher.state.floatbank10_a_level  \\\n",
       "date                                                     \n",
       "2016-01-15 00:00:00                        -404.066986   \n",
       "2016-01-15 01:00:00                        -400.065196   \n",
       "2016-01-15 02:00:00                        -400.074028   \n",
       "2016-01-15 03:00:00                        -400.200179   \n",
       "2016-01-15 04:00:00                        -399.752729   \n",
       "\n",
       "                     rougher.state.floatbank10_b_air  \\\n",
       "date                                                   \n",
       "2016-01-15 00:00:00                      1603.011353   \n",
       "2016-01-15 01:00:00                      1600.754587   \n",
       "2016-01-15 02:00:00                      1599.337330   \n",
       "2016-01-15 03:00:00                      1600.059442   \n",
       "2016-01-15 04:00:00                      1600.208824   \n",
       "\n",
       "                     rougher.state.floatbank10_b_level  \\\n",
       "date                                                     \n",
       "2016-01-15 00:00:00                        -434.715027   \n",
       "2016-01-15 01:00:00                        -449.953435   \n",
       "2016-01-15 02:00:00                        -450.008530   \n",
       "2016-01-15 03:00:00                        -450.619948   \n",
       "2016-01-15 04:00:00                        -449.599614   \n",
       "\n",
       "                     rougher.state.floatbank10_c_air  \\\n",
       "date                                                   \n",
       "2016-01-15 00:00:00                      1602.375000   \n",
       "2016-01-15 01:00:00                      1600.479580   \n",
       "2016-01-15 02:00:00                      1599.672797   \n",
       "2016-01-15 03:00:00                      1600.012842   \n",
       "2016-01-15 04:00:00                      1600.357732   \n",
       "\n",
       "                     rougher.state.floatbank10_c_level  \\\n",
       "date                                                     \n",
       "2016-01-15 00:00:00                        -442.204468   \n",
       "2016-01-15 01:00:00                        -449.830646   \n",
       "2016-01-15 02:00:00                        -449.954491   \n",
       "2016-01-15 03:00:00                        -449.910497   \n",
       "2016-01-15 04:00:00                        -450.034364   \n",
       "\n",
       "                     rougher.state.floatbank10_d_air  \\\n",
       "date                                                   \n",
       "2016-01-15 00:00:00                      1598.937256   \n",
       "2016-01-15 01:00:00                      1600.527589   \n",
       "2016-01-15 02:00:00                      1599.849325   \n",
       "2016-01-15 03:00:00                      1597.725177   \n",
       "2016-01-15 04:00:00                      1599.759049   \n",
       "\n",
       "                     rougher.state.floatbank10_d_level  \\\n",
       "date                                                     \n",
       "2016-01-15 00:00:00                        -451.294128   \n",
       "2016-01-15 01:00:00                        -449.953649   \n",
       "2016-01-15 02:00:00                        -449.954185   \n",
       "2016-01-15 03:00:00                        -450.130127   \n",
       "2016-01-15 04:00:00                        -449.909799   \n",
       "\n",
       "                     rougher.state.floatbank10_e_air  \\\n",
       "date                                                   \n",
       "2016-01-15 00:00:00                      1404.472046   \n",
       "2016-01-15 01:00:00                      1399.227084   \n",
       "2016-01-15 02:00:00                      1399.180945   \n",
       "2016-01-15 03:00:00                      1400.943157   \n",
       "2016-01-15 04:00:00                      1401.560902   \n",
       "\n",
       "                     rougher.state.floatbank10_e_level  \\\n",
       "date                                                     \n",
       "2016-01-15 00:00:00                        -455.462982   \n",
       "2016-01-15 01:00:00                        -450.869848   \n",
       "2016-01-15 02:00:00                        -449.937588   \n",
       "2016-01-15 03:00:00                        -450.030142   \n",
       "2016-01-15 04:00:00                        -448.877187   \n",
       "\n",
       "                     rougher.state.floatbank10_f_air  \\\n",
       "date                                                   \n",
       "2016-01-15 00:00:00                      1416.354980   \n",
       "2016-01-15 01:00:00                      1399.719514   \n",
       "2016-01-15 02:00:00                      1400.316682   \n",
       "2016-01-15 03:00:00                      1400.234743   \n",
       "2016-01-15 04:00:00                      1401.160227   \n",
       "\n",
       "                     rougher.state.floatbank10_f_level  \\\n",
       "date                                                     \n",
       "2016-01-15 00:00:00                        -451.939636   \n",
       "2016-01-15 01:00:00                        -450.119001   \n",
       "2016-01-15 02:00:00                        -450.527147   \n",
       "2016-01-15 03:00:00                        -449.790835   \n",
       "2016-01-15 04:00:00                        -450.407128   \n",
       "\n",
       "                     secondary_cleaner.output.tail_ag  \\\n",
       "date                                                    \n",
       "2016-01-15 00:00:00                         14.500184   \n",
       "2016-01-15 01:00:00                         14.265474   \n",
       "2016-01-15 02:00:00                         14.115662   \n",
       "2016-01-15 03:00:00                         13.732071   \n",
       "2016-01-15 04:00:00                         14.079996   \n",
       "\n",
       "                     secondary_cleaner.output.tail_pb  \\\n",
       "date                                                    \n",
       "2016-01-15 00:00:00                          4.694824   \n",
       "2016-01-15 01:00:00                          4.592547   \n",
       "2016-01-15 02:00:00                          4.624775   \n",
       "2016-01-15 03:00:00                          4.482453   \n",
       "2016-01-15 04:00:00                          4.470737   \n",
       "\n",
       "                     secondary_cleaner.output.tail_sol  \\\n",
       "date                                                     \n",
       "2016-01-15 00:00:00                           8.764648   \n",
       "2016-01-15 01:00:00                           9.001494   \n",
       "2016-01-15 02:00:00                           8.842896   \n",
       "2016-01-15 03:00:00                           9.122857   \n",
       "2016-01-15 04:00:00                           8.871028   \n",
       "\n",
       "                     secondary_cleaner.output.tail_au  \\\n",
       "date                                                    \n",
       "2016-01-15 00:00:00                          2.606185   \n",
       "2016-01-15 01:00:00                          2.488248   \n",
       "2016-01-15 02:00:00                          2.458187   \n",
       "2016-01-15 03:00:00                          2.322062   \n",
       "2016-01-15 04:00:00                          2.330448   \n",
       "\n",
       "                     secondary_cleaner.state.floatbank2_a_air  \\\n",
       "date                                                            \n",
       "2016-01-15 00:00:00                                 25.853109   \n",
       "2016-01-15 01:00:00                                 25.880539   \n",
       "2016-01-15 02:00:00                                 26.005245   \n",
       "2016-01-15 03:00:00                                 25.942508   \n",
       "2016-01-15 04:00:00                                 26.024787   \n",
       "\n",
       "                     secondary_cleaner.state.floatbank2_a_level  \\\n",
       "date                                                              \n",
       "2016-01-15 00:00:00                                 -498.526489   \n",
       "2016-01-15 01:00:00                                 -499.989656   \n",
       "2016-01-15 02:00:00                                 -499.929616   \n",
       "2016-01-15 03:00:00                                 -499.176749   \n",
       "2016-01-15 04:00:00                                 -500.279091   \n",
       "\n",
       "                     secondary_cleaner.state.floatbank2_b_air  \\\n",
       "date                                                            \n",
       "2016-01-15 00:00:00                                 23.893660   \n",
       "2016-01-15 01:00:00                                 23.889530   \n",
       "2016-01-15 02:00:00                                 23.886657   \n",
       "2016-01-15 03:00:00                                 23.955516   \n",
       "2016-01-15 04:00:00                                 23.955345   \n",
       "\n",
       "                     secondary_cleaner.state.floatbank2_b_level  \\\n",
       "date                                                              \n",
       "2016-01-15 00:00:00                                 -501.406281   \n",
       "2016-01-15 01:00:00                                 -500.372428   \n",
       "2016-01-15 02:00:00                                 -499.951928   \n",
       "2016-01-15 03:00:00                                 -499.848796   \n",
       "2016-01-15 04:00:00                                 -500.593614   \n",
       "\n",
       "                     secondary_cleaner.state.floatbank3_a_air  \\\n",
       "date                                                            \n",
       "2016-01-15 00:00:00                                 23.961798   \n",
       "2016-01-15 01:00:00                                 23.970550   \n",
       "2016-01-15 02:00:00                                 23.913535   \n",
       "2016-01-15 03:00:00                                 23.966838   \n",
       "2016-01-15 04:00:00                                 23.985703   \n",
       "\n",
       "                     secondary_cleaner.state.floatbank3_a_level  \\\n",
       "date                                                              \n",
       "2016-01-15 00:00:00                                 -495.262817   \n",
       "2016-01-15 01:00:00                                 -500.085473   \n",
       "2016-01-15 02:00:00                                 -499.442343   \n",
       "2016-01-15 03:00:00                                 -500.008812   \n",
       "2016-01-15 04:00:00                                 -500.083811   \n",
       "\n",
       "                     secondary_cleaner.state.floatbank3_b_air  \\\n",
       "date                                                            \n",
       "2016-01-15 00:00:00                                 21.940409   \n",
       "2016-01-15 01:00:00                                 22.085714   \n",
       "2016-01-15 02:00:00                                 23.957717   \n",
       "2016-01-15 03:00:00                                 23.954443   \n",
       "2016-01-15 04:00:00                                 23.958945   \n",
       "\n",
       "                     secondary_cleaner.state.floatbank3_b_level  \\\n",
       "date                                                              \n",
       "2016-01-15 00:00:00                                 -499.340973   \n",
       "2016-01-15 01:00:00                                 -499.446897   \n",
       "2016-01-15 02:00:00                                 -499.901982   \n",
       "2016-01-15 03:00:00                                 -499.944710   \n",
       "2016-01-15 04:00:00                                 -499.990309   \n",
       "\n",
       "                     secondary_cleaner.state.floatbank4_a_air  \\\n",
       "date                                                            \n",
       "2016-01-15 00:00:00                                 14.016835   \n",
       "2016-01-15 01:00:00                                 13.992281   \n",
       "2016-01-15 02:00:00                                 14.015015   \n",
       "2016-01-15 03:00:00                                 14.036510   \n",
       "2016-01-15 04:00:00                                 14.027298   \n",
       "\n",
       "                     secondary_cleaner.state.floatbank4_a_level  \\\n",
       "date                                                              \n",
       "2016-01-15 00:00:00                                 -502.488007   \n",
       "2016-01-15 01:00:00                                 -505.503262   \n",
       "2016-01-15 02:00:00                                 -502.520901   \n",
       "2016-01-15 03:00:00                                 -500.857308   \n",
       "2016-01-15 04:00:00                                 -499.838632   \n",
       "\n",
       "                     secondary_cleaner.state.floatbank4_b_air  \\\n",
       "date                                                            \n",
       "2016-01-15 00:00:00                                 12.099931   \n",
       "2016-01-15 01:00:00                                 11.950531   \n",
       "2016-01-15 02:00:00                                 11.912783   \n",
       "2016-01-15 03:00:00                                 11.999550   \n",
       "2016-01-15 04:00:00                                 11.953070   \n",
       "\n",
       "                     secondary_cleaner.state.floatbank4_b_level  \\\n",
       "date                                                              \n",
       "2016-01-15 00:00:00                                 -504.715942   \n",
       "2016-01-15 01:00:00                                 -501.331529   \n",
       "2016-01-15 02:00:00                                 -501.133383   \n",
       "2016-01-15 03:00:00                                 -501.193686   \n",
       "2016-01-15 04:00:00                                 -501.053894   \n",
       "\n",
       "                     secondary_cleaner.state.floatbank5_a_air  \\\n",
       "date                                                            \n",
       "2016-01-15 00:00:00                                  9.925633   \n",
       "2016-01-15 01:00:00                                 10.039245   \n",
       "2016-01-15 02:00:00                                 10.070913   \n",
       "2016-01-15 03:00:00                                  9.970366   \n",
       "2016-01-15 04:00:00                                  9.925709   \n",
       "\n",
       "                     secondary_cleaner.state.floatbank5_a_level  \\\n",
       "date                                                              \n",
       "2016-01-15 00:00:00                                 -498.310211   \n",
       "2016-01-15 01:00:00                                 -500.169983   \n",
       "2016-01-15 02:00:00                                 -500.129135   \n",
       "2016-01-15 03:00:00                                 -499.201640   \n",
       "2016-01-15 04:00:00                                 -501.686727   \n",
       "\n",
       "                     secondary_cleaner.state.floatbank5_b_air  \\\n",
       "date                                                            \n",
       "2016-01-15 00:00:00                                  8.079666   \n",
       "2016-01-15 01:00:00                                  7.984757   \n",
       "2016-01-15 02:00:00                                  8.013877   \n",
       "2016-01-15 03:00:00                                  7.977324   \n",
       "2016-01-15 04:00:00                                  7.894242   \n",
       "\n",
       "                     secondary_cleaner.state.floatbank5_b_level  \\\n",
       "date                                                              \n",
       "2016-01-15 00:00:00                                 -500.470978   \n",
       "2016-01-15 01:00:00                                 -500.582168   \n",
       "2016-01-15 02:00:00                                 -500.517572   \n",
       "2016-01-15 03:00:00                                 -500.255908   \n",
       "2016-01-15 04:00:00                                 -500.356035   \n",
       "\n",
       "                     secondary_cleaner.state.floatbank6_a_air  \\\n",
       "date                                                            \n",
       "2016-01-15 00:00:00                                 14.151341   \n",
       "2016-01-15 01:00:00                                 13.998353   \n",
       "2016-01-15 02:00:00                                 14.028663   \n",
       "2016-01-15 03:00:00                                 14.005551   \n",
       "2016-01-15 04:00:00                                 13.996647   \n",
       "\n",
       "                     secondary_cleaner.state.floatbank6_a_level  \n",
       "date                                                             \n",
       "2016-01-15 00:00:00                                 -605.841980  \n",
       "2016-01-15 01:00:00                                 -599.787184  \n",
       "2016-01-15 02:00:00                                 -601.427363  \n",
       "2016-01-15 03:00:00                                 -599.996129  \n",
       "2016-01-15 04:00:00                                 -601.496691  "
      ]
     },
     "execution_count": 8,
     "metadata": {},
     "output_type": "execute_result"
    }
   ],
   "source": [
    "# # load and study the full df\n",
    "df_full = pd.read_csv('data/gold_recovery_full.csv', sep=',', index_col = 'date')\n",
    "df_full.head()"
   ]
  },
  {
   "cell_type": "code",
   "execution_count": 9,
   "metadata": {},
   "outputs": [
    {
     "name": "stdout",
     "output_type": "stream",
     "text": [
      "\n",
      "data type\n",
      "<class 'pandas.core.frame.DataFrame'>\n",
      "Index: 19439 entries, 2016-01-15 00:00:00 to 2018-08-18 10:59:59\n",
      "Data columns (total 86 columns):\n",
      " #   Column                                              Non-Null Count  Dtype  \n",
      "---  ------                                              --------------  -----  \n",
      " 0   final.output.concentrate_ag                         19438 non-null  float64\n",
      " 1   final.output.concentrate_pb                         19438 non-null  float64\n",
      " 2   final.output.concentrate_sol                        19228 non-null  float64\n",
      " 3   final.output.concentrate_au                         19439 non-null  float64\n",
      " 4   final.output.recovery                               19439 non-null  float64\n",
      " 5   final.output.tail_ag                                19438 non-null  float64\n",
      " 6   final.output.tail_pb                                19338 non-null  float64\n",
      " 7   final.output.tail_sol                               19433 non-null  float64\n",
      " 8   final.output.tail_au                                19439 non-null  float64\n",
      " 9   primary_cleaner.input.sulfate                       19415 non-null  float64\n",
      " 10  primary_cleaner.input.depressant                    19402 non-null  float64\n",
      " 11  primary_cleaner.input.feed_size                     19439 non-null  float64\n",
      " 12  primary_cleaner.input.xanthate                      19335 non-null  float64\n",
      " 13  primary_cleaner.output.concentrate_ag               19439 non-null  float64\n",
      " 14  primary_cleaner.output.concentrate_pb               19323 non-null  float64\n",
      " 15  primary_cleaner.output.concentrate_sol              19069 non-null  float64\n",
      " 16  primary_cleaner.output.concentrate_au               19439 non-null  float64\n",
      " 17  primary_cleaner.output.tail_ag                      19435 non-null  float64\n",
      " 18  primary_cleaner.output.tail_pb                      19418 non-null  float64\n",
      " 19  primary_cleaner.output.tail_sol                     19377 non-null  float64\n",
      " 20  primary_cleaner.output.tail_au                      19439 non-null  float64\n",
      " 21  primary_cleaner.state.floatbank8_a_air              19435 non-null  float64\n",
      " 22  primary_cleaner.state.floatbank8_a_level            19438 non-null  float64\n",
      " 23  primary_cleaner.state.floatbank8_b_air              19435 non-null  float64\n",
      " 24  primary_cleaner.state.floatbank8_b_level            19438 non-null  float64\n",
      " 25  primary_cleaner.state.floatbank8_c_air              19437 non-null  float64\n",
      " 26  primary_cleaner.state.floatbank8_c_level            19438 non-null  float64\n",
      " 27  primary_cleaner.state.floatbank8_d_air              19436 non-null  float64\n",
      " 28  primary_cleaner.state.floatbank8_d_level            19438 non-null  float64\n",
      " 29  rougher.calculation.sulfate_to_au_concentrate       19437 non-null  float64\n",
      " 30  rougher.calculation.floatbank10_sulfate_to_au_feed  19437 non-null  float64\n",
      " 31  rougher.calculation.floatbank11_sulfate_to_au_feed  19437 non-null  float64\n",
      " 32  rougher.calculation.au_pb_ratio                     19439 non-null  float64\n",
      " 33  rougher.input.feed_ag                               19439 non-null  float64\n",
      " 34  rougher.input.feed_pb                               19339 non-null  float64\n",
      " 35  rougher.input.feed_rate                             19428 non-null  float64\n",
      " 36  rougher.input.feed_size                             19294 non-null  float64\n",
      " 37  rougher.input.feed_sol                              19340 non-null  float64\n",
      " 38  rougher.input.feed_au                               19439 non-null  float64\n",
      " 39  rougher.input.floatbank10_sulfate                   19405 non-null  float64\n",
      " 40  rougher.input.floatbank10_xanthate                  19431 non-null  float64\n",
      " 41  rougher.input.floatbank11_sulfate                   19395 non-null  float64\n",
      " 42  rougher.input.floatbank11_xanthate                  18986 non-null  float64\n",
      " 43  rougher.output.concentrate_ag                       19439 non-null  float64\n",
      " 44  rougher.output.concentrate_pb                       19439 non-null  float64\n",
      " 45  rougher.output.concentrate_sol                      19416 non-null  float64\n",
      " 46  rougher.output.concentrate_au                       19439 non-null  float64\n",
      " 47  rougher.output.recovery                             19439 non-null  float64\n",
      " 48  rougher.output.tail_ag                              19438 non-null  float64\n",
      " 49  rougher.output.tail_pb                              19439 non-null  float64\n",
      " 50  rougher.output.tail_sol                             19439 non-null  float64\n",
      " 51  rougher.output.tail_au                              19439 non-null  float64\n",
      " 52  rougher.state.floatbank10_a_air                     19438 non-null  float64\n",
      " 53  rougher.state.floatbank10_a_level                   19438 non-null  float64\n",
      " 54  rougher.state.floatbank10_b_air                     19438 non-null  float64\n",
      " 55  rougher.state.floatbank10_b_level                   19438 non-null  float64\n",
      " 56  rougher.state.floatbank10_c_air                     19438 non-null  float64\n",
      " 57  rougher.state.floatbank10_c_level                   19438 non-null  float64\n",
      " 58  rougher.state.floatbank10_d_air                     19439 non-null  float64\n",
      " 59  rougher.state.floatbank10_d_level                   19439 non-null  float64\n",
      " 60  rougher.state.floatbank10_e_air                     19003 non-null  float64\n",
      " 61  rougher.state.floatbank10_e_level                   19439 non-null  float64\n",
      " 62  rougher.state.floatbank10_f_air                     19439 non-null  float64\n",
      " 63  rougher.state.floatbank10_f_level                   19439 non-null  float64\n",
      " 64  secondary_cleaner.output.tail_ag                    19437 non-null  float64\n",
      " 65  secondary_cleaner.output.tail_pb                    19427 non-null  float64\n",
      " 66  secondary_cleaner.output.tail_sol                   17691 non-null  float64\n",
      " 67  secondary_cleaner.output.tail_au                    19439 non-null  float64\n",
      " 68  secondary_cleaner.state.floatbank2_a_air            19219 non-null  float64\n",
      " 69  secondary_cleaner.state.floatbank2_a_level          19438 non-null  float64\n",
      " 70  secondary_cleaner.state.floatbank2_b_air            19416 non-null  float64\n",
      " 71  secondary_cleaner.state.floatbank2_b_level          19438 non-null  float64\n",
      " 72  secondary_cleaner.state.floatbank3_a_air            19426 non-null  float64\n",
      " 73  secondary_cleaner.state.floatbank3_a_level          19438 non-null  float64\n",
      " 74  secondary_cleaner.state.floatbank3_b_air            19438 non-null  float64\n",
      " 75  secondary_cleaner.state.floatbank3_b_level          19438 non-null  float64\n",
      " 76  secondary_cleaner.state.floatbank4_a_air            19433 non-null  float64\n",
      " 77  secondary_cleaner.state.floatbank4_a_level          19438 non-null  float64\n",
      " 78  secondary_cleaner.state.floatbank4_b_air            19438 non-null  float64\n",
      " 79  secondary_cleaner.state.floatbank4_b_level          19438 non-null  float64\n",
      " 80  secondary_cleaner.state.floatbank5_a_air            19438 non-null  float64\n",
      " 81  secondary_cleaner.state.floatbank5_a_level          19438 non-null  float64\n",
      " 82  secondary_cleaner.state.floatbank5_b_air            19438 non-null  float64\n",
      " 83  secondary_cleaner.state.floatbank5_b_level          19438 non-null  float64\n",
      " 84  secondary_cleaner.state.floatbank6_a_air            19437 non-null  float64\n",
      " 85  secondary_cleaner.state.floatbank6_a_level          19438 non-null  float64\n",
      "dtypes: float64(86)\n",
      "memory usage: 12.9+ MB\n"
     ]
    },
    {
     "data": {
      "text/plain": [
       "None"
      ]
     },
     "metadata": {},
     "output_type": "display_data"
    },
    {
     "name": "stdout",
     "output_type": "stream",
     "text": [
      "\n",
      "missing values, %\n"
     ]
    },
    {
     "data": {
      "text/plain": [
       "final.output.concentrate_ag                           0.005144\n",
       "final.output.concentrate_pb                           0.005144\n",
       "final.output.concentrate_sol                          1.085447\n",
       "final.output.concentrate_au                           0.000000\n",
       "final.output.recovery                                 0.000000\n",
       "final.output.tail_ag                                  0.005144\n",
       "final.output.tail_pb                                  0.519574\n",
       "final.output.tail_sol                                 0.030866\n",
       "final.output.tail_au                                  0.000000\n",
       "primary_cleaner.input.sulfate                         0.123463\n",
       "primary_cleaner.input.depressant                      0.190339\n",
       "primary_cleaner.input.feed_size                       0.000000\n",
       "primary_cleaner.input.xanthate                        0.535007\n",
       "primary_cleaner.output.concentrate_ag                 0.000000\n",
       "primary_cleaner.output.concentrate_pb                 0.596739\n",
       "primary_cleaner.output.concentrate_sol                1.903390\n",
       "primary_cleaner.output.concentrate_au                 0.000000\n",
       "primary_cleaner.output.tail_ag                        0.020577\n",
       "primary_cleaner.output.tail_pb                        0.108030\n",
       "primary_cleaner.output.tail_sol                       0.318946\n",
       "primary_cleaner.output.tail_au                        0.000000\n",
       "primary_cleaner.state.floatbank8_a_air                0.020577\n",
       "primary_cleaner.state.floatbank8_a_level              0.005144\n",
       "primary_cleaner.state.floatbank8_b_air                0.020577\n",
       "primary_cleaner.state.floatbank8_b_level              0.005144\n",
       "primary_cleaner.state.floatbank8_c_air                0.010289\n",
       "primary_cleaner.state.floatbank8_c_level              0.005144\n",
       "primary_cleaner.state.floatbank8_d_air                0.015433\n",
       "primary_cleaner.state.floatbank8_d_level              0.005144\n",
       "rougher.calculation.sulfate_to_au_concentrate         0.010289\n",
       "rougher.calculation.floatbank10_sulfate_to_au_feed    0.010289\n",
       "rougher.calculation.floatbank11_sulfate_to_au_feed    0.010289\n",
       "rougher.calculation.au_pb_ratio                       0.000000\n",
       "rougher.input.feed_ag                                 0.000000\n",
       "rougher.input.feed_pb                                 0.514430\n",
       "rougher.input.feed_rate                               0.056587\n",
       "rougher.input.feed_size                               0.745923\n",
       "rougher.input.feed_sol                                0.509285\n",
       "rougher.input.feed_au                                 0.000000\n",
       "rougher.input.floatbank10_sulfate                     0.174906\n",
       "rougher.input.floatbank10_xanthate                    0.041154\n",
       "rougher.input.floatbank11_sulfate                     0.226349\n",
       "rougher.input.floatbank11_xanthate                    2.330367\n",
       "rougher.output.concentrate_ag                         0.000000\n",
       "rougher.output.concentrate_pb                         0.000000\n",
       "rougher.output.concentrate_sol                        0.118319\n",
       "rougher.output.concentrate_au                         0.000000\n",
       "rougher.output.recovery                               0.000000\n",
       "rougher.output.tail_ag                                0.005144\n",
       "rougher.output.tail_pb                                0.000000\n",
       "rougher.output.tail_sol                               0.000000\n",
       "rougher.output.tail_au                                0.000000\n",
       "rougher.state.floatbank10_a_air                       0.005144\n",
       "rougher.state.floatbank10_a_level                     0.005144\n",
       "rougher.state.floatbank10_b_air                       0.005144\n",
       "rougher.state.floatbank10_b_level                     0.005144\n",
       "rougher.state.floatbank10_c_air                       0.005144\n",
       "rougher.state.floatbank10_c_level                     0.005144\n",
       "rougher.state.floatbank10_d_air                       0.000000\n",
       "rougher.state.floatbank10_d_level                     0.000000\n",
       "rougher.state.floatbank10_e_air                       2.242914\n",
       "rougher.state.floatbank10_e_level                     0.000000\n",
       "rougher.state.floatbank10_f_air                       0.000000\n",
       "rougher.state.floatbank10_f_level                     0.000000\n",
       "secondary_cleaner.output.tail_ag                      0.010289\n",
       "secondary_cleaner.output.tail_pb                      0.061732\n",
       "secondary_cleaner.output.tail_sol                     8.992232\n",
       "secondary_cleaner.output.tail_au                      0.000000\n",
       "secondary_cleaner.state.floatbank2_a_air              1.131745\n",
       "secondary_cleaner.state.floatbank2_a_level            0.005144\n",
       "secondary_cleaner.state.floatbank2_b_air              0.118319\n",
       "secondary_cleaner.state.floatbank2_b_level            0.005144\n",
       "secondary_cleaner.state.floatbank3_a_air              0.066876\n",
       "secondary_cleaner.state.floatbank3_a_level            0.005144\n",
       "secondary_cleaner.state.floatbank3_b_air              0.005144\n",
       "secondary_cleaner.state.floatbank3_b_level            0.005144\n",
       "secondary_cleaner.state.floatbank4_a_air              0.030866\n",
       "secondary_cleaner.state.floatbank4_a_level            0.005144\n",
       "secondary_cleaner.state.floatbank4_b_air              0.005144\n",
       "secondary_cleaner.state.floatbank4_b_level            0.005144\n",
       "secondary_cleaner.state.floatbank5_a_air              0.005144\n",
       "secondary_cleaner.state.floatbank5_a_level            0.005144\n",
       "secondary_cleaner.state.floatbank5_b_air              0.005144\n",
       "secondary_cleaner.state.floatbank5_b_level            0.005144\n",
       "secondary_cleaner.state.floatbank6_a_air              0.010289\n",
       "secondary_cleaner.state.floatbank6_a_level            0.005144\n",
       "dtype: float64"
      ]
     },
     "metadata": {},
     "output_type": "display_data"
    },
    {
     "name": "stdout",
     "output_type": "stream",
     "text": [
      "\n",
      "duplicated\n",
      "0\n"
     ]
    }
   ],
   "source": [
    "describe_func(df_full)"
   ]
  },
  {
   "cell_type": "code",
   "execution_count": 10,
   "metadata": {},
   "outputs": [],
   "source": [
    "# we know that parameters adjacent in time are often similar\n",
    "# so we fill in the gaps with the values specified in the adjacent cell\n",
    "df_train = df_train.fillna(method='pad')\n",
    "df_test = df_test.fillna(method='pad')\n",
    "df_full = df_full.fillna(method='pad')"
   ]
  },
  {
   "cell_type": "code",
   "execution_count": 11,
   "metadata": {},
   "outputs": [
    {
     "data": {
      "text/html": [
       "<div>\n",
       "<style scoped>\n",
       "    .dataframe tbody tr th:only-of-type {\n",
       "        vertical-align: middle;\n",
       "    }\n",
       "\n",
       "    .dataframe tbody tr th {\n",
       "        vertical-align: top;\n",
       "    }\n",
       "\n",
       "    .dataframe thead th {\n",
       "        text-align: right;\n",
       "    }\n",
       "</style>\n",
       "<table border=\"1\" class=\"dataframe\">\n",
       "  <thead>\n",
       "    <tr style=\"text-align: right;\">\n",
       "      <th></th>\n",
       "      <th>difference</th>\n",
       "    </tr>\n",
       "  </thead>\n",
       "  <tbody>\n",
       "    <tr>\n",
       "      <th>0</th>\n",
       "      <td>final.output.concentrate_ag</td>\n",
       "    </tr>\n",
       "    <tr>\n",
       "      <th>1</th>\n",
       "      <td>final.output.concentrate_au</td>\n",
       "    </tr>\n",
       "    <tr>\n",
       "      <th>2</th>\n",
       "      <td>final.output.concentrate_pb</td>\n",
       "    </tr>\n",
       "    <tr>\n",
       "      <th>3</th>\n",
       "      <td>final.output.concentrate_sol</td>\n",
       "    </tr>\n",
       "    <tr>\n",
       "      <th>4</th>\n",
       "      <td>final.output.recovery</td>\n",
       "    </tr>\n",
       "    <tr>\n",
       "      <th>5</th>\n",
       "      <td>final.output.tail_ag</td>\n",
       "    </tr>\n",
       "    <tr>\n",
       "      <th>6</th>\n",
       "      <td>final.output.tail_au</td>\n",
       "    </tr>\n",
       "    <tr>\n",
       "      <th>7</th>\n",
       "      <td>final.output.tail_pb</td>\n",
       "    </tr>\n",
       "    <tr>\n",
       "      <th>8</th>\n",
       "      <td>final.output.tail_sol</td>\n",
       "    </tr>\n",
       "    <tr>\n",
       "      <th>9</th>\n",
       "      <td>primary_cleaner.output.concentrate_ag</td>\n",
       "    </tr>\n",
       "    <tr>\n",
       "      <th>10</th>\n",
       "      <td>primary_cleaner.output.concentrate_au</td>\n",
       "    </tr>\n",
       "    <tr>\n",
       "      <th>11</th>\n",
       "      <td>primary_cleaner.output.concentrate_pb</td>\n",
       "    </tr>\n",
       "    <tr>\n",
       "      <th>12</th>\n",
       "      <td>primary_cleaner.output.concentrate_sol</td>\n",
       "    </tr>\n",
       "    <tr>\n",
       "      <th>13</th>\n",
       "      <td>primary_cleaner.output.tail_ag</td>\n",
       "    </tr>\n",
       "    <tr>\n",
       "      <th>14</th>\n",
       "      <td>primary_cleaner.output.tail_au</td>\n",
       "    </tr>\n",
       "    <tr>\n",
       "      <th>15</th>\n",
       "      <td>primary_cleaner.output.tail_pb</td>\n",
       "    </tr>\n",
       "    <tr>\n",
       "      <th>16</th>\n",
       "      <td>primary_cleaner.output.tail_sol</td>\n",
       "    </tr>\n",
       "    <tr>\n",
       "      <th>17</th>\n",
       "      <td>rougher.calculation.au_pb_ratio</td>\n",
       "    </tr>\n",
       "    <tr>\n",
       "      <th>18</th>\n",
       "      <td>rougher.calculation.floatbank10_sulfate_to_au_...</td>\n",
       "    </tr>\n",
       "    <tr>\n",
       "      <th>19</th>\n",
       "      <td>rougher.calculation.floatbank11_sulfate_to_au_...</td>\n",
       "    </tr>\n",
       "    <tr>\n",
       "      <th>20</th>\n",
       "      <td>rougher.calculation.sulfate_to_au_concentrate</td>\n",
       "    </tr>\n",
       "    <tr>\n",
       "      <th>21</th>\n",
       "      <td>rougher.output.concentrate_ag</td>\n",
       "    </tr>\n",
       "    <tr>\n",
       "      <th>22</th>\n",
       "      <td>rougher.output.concentrate_au</td>\n",
       "    </tr>\n",
       "    <tr>\n",
       "      <th>23</th>\n",
       "      <td>rougher.output.concentrate_pb</td>\n",
       "    </tr>\n",
       "    <tr>\n",
       "      <th>24</th>\n",
       "      <td>rougher.output.concentrate_sol</td>\n",
       "    </tr>\n",
       "    <tr>\n",
       "      <th>25</th>\n",
       "      <td>rougher.output.recovery</td>\n",
       "    </tr>\n",
       "    <tr>\n",
       "      <th>26</th>\n",
       "      <td>rougher.output.tail_ag</td>\n",
       "    </tr>\n",
       "    <tr>\n",
       "      <th>27</th>\n",
       "      <td>rougher.output.tail_au</td>\n",
       "    </tr>\n",
       "    <tr>\n",
       "      <th>28</th>\n",
       "      <td>rougher.output.tail_pb</td>\n",
       "    </tr>\n",
       "    <tr>\n",
       "      <th>29</th>\n",
       "      <td>rougher.output.tail_sol</td>\n",
       "    </tr>\n",
       "    <tr>\n",
       "      <th>30</th>\n",
       "      <td>secondary_cleaner.output.tail_ag</td>\n",
       "    </tr>\n",
       "    <tr>\n",
       "      <th>31</th>\n",
       "      <td>secondary_cleaner.output.tail_au</td>\n",
       "    </tr>\n",
       "    <tr>\n",
       "      <th>32</th>\n",
       "      <td>secondary_cleaner.output.tail_pb</td>\n",
       "    </tr>\n",
       "    <tr>\n",
       "      <th>33</th>\n",
       "      <td>secondary_cleaner.output.tail_sol</td>\n",
       "    </tr>\n",
       "  </tbody>\n",
       "</table>\n",
       "</div>"
      ],
      "text/plain": [
       "                                           difference\n",
       "0                         final.output.concentrate_ag\n",
       "1                         final.output.concentrate_au\n",
       "2                         final.output.concentrate_pb\n",
       "3                        final.output.concentrate_sol\n",
       "4                               final.output.recovery\n",
       "5                                final.output.tail_ag\n",
       "6                                final.output.tail_au\n",
       "7                                final.output.tail_pb\n",
       "8                               final.output.tail_sol\n",
       "9               primary_cleaner.output.concentrate_ag\n",
       "10              primary_cleaner.output.concentrate_au\n",
       "11              primary_cleaner.output.concentrate_pb\n",
       "12             primary_cleaner.output.concentrate_sol\n",
       "13                     primary_cleaner.output.tail_ag\n",
       "14                     primary_cleaner.output.tail_au\n",
       "15                     primary_cleaner.output.tail_pb\n",
       "16                    primary_cleaner.output.tail_sol\n",
       "17                    rougher.calculation.au_pb_ratio\n",
       "18  rougher.calculation.floatbank10_sulfate_to_au_...\n",
       "19  rougher.calculation.floatbank11_sulfate_to_au_...\n",
       "20      rougher.calculation.sulfate_to_au_concentrate\n",
       "21                      rougher.output.concentrate_ag\n",
       "22                      rougher.output.concentrate_au\n",
       "23                      rougher.output.concentrate_pb\n",
       "24                     rougher.output.concentrate_sol\n",
       "25                            rougher.output.recovery\n",
       "26                             rougher.output.tail_ag\n",
       "27                             rougher.output.tail_au\n",
       "28                             rougher.output.tail_pb\n",
       "29                            rougher.output.tail_sol\n",
       "30                   secondary_cleaner.output.tail_ag\n",
       "31                   secondary_cleaner.output.tail_au\n",
       "32                   secondary_cleaner.output.tail_pb\n",
       "33                  secondary_cleaner.output.tail_sol"
      ]
     },
     "execution_count": 11,
     "metadata": {},
     "output_type": "execute_result"
    }
   ],
   "source": [
    "# in the test sample there are no columns with the product parameter (output) at all stages \n",
    "# and the calculated characteristics\n",
    "pd.DataFrame(df_train.columns.difference(df_test.columns), columns=['difference'])"
   ]
  },
  {
   "cell_type": "code",
   "execution_count": 12,
   "metadata": {},
   "outputs": [
    {
     "name": "stdout",
     "output_type": "stream",
     "text": [
      "MAE:  9.73512347450521e-15\n"
     ]
    }
   ],
   "source": [
    "# check the calculation of Recovery\n",
    "C = df_train['rougher.output.concentrate_au']\n",
    "F = df_train['rougher.input.feed_au']\n",
    "T = df_train['rougher.output.tail_au']\n",
    "\n",
    "Recovery = (C * (F - T)) / (F * (C - T)) * 100\n",
    "\n",
    "print('MAE: ', mean_absolute_error(df_train['rougher.output.recovery'], Recovery))\n",
    "\n",
    "# MAE is close to zero, which means the enrichment efficiency is calculated correctly"
   ]
  },
  {
   "cell_type": "markdown",
   "metadata": {},
   "source": [
    "**CONCLUSION**\n",
    "\n",
    "- Missing values are filled with values from adjacent cells\n",
    "- no duplicates\n",
    "- in the test sample there are no columns with the product parameter (output) at all stages and the calculated characteristics\n",
    "- Recovery calculated correctly"
   ]
  },
  {
   "cell_type": "markdown",
   "metadata": {},
   "source": [
    "## Data analysis"
   ]
  },
  {
   "cell_type": "markdown",
   "metadata": {},
   "source": [
    "### concentration of metals\n",
    "\n",
    "let's see how the concentration of metals (Au, Ag, Pb) changes at various purification stages"
   ]
  },
  {
   "cell_type": "code",
   "execution_count": 13,
   "metadata": {},
   "outputs": [
    {
     "data": {
      "image/png": "[encoded data removed]",
      "text/plain": [
       "<Figure size 1500x700 with 1 Axes>"
      ]
     },
     "metadata": {},
     "output_type": "display_data"
    }
   ],
   "source": [
    "# concentrate_au - the concentration of silver decreases with each step\n",
    "\n",
    "au_list = ['rougher.input.feed_au', 'rougher.output.concentrate_au'\n",
    "           , 'primary_cleaner.output.concentrate_au', 'final.output.concentrate_au']\n",
    "sns.set_palette(\"pastel\")\n",
    "plt.figure(figsize=(15,7))\n",
    "sns.boxplot(data=df_train[au_list], order=au_list).set(xlabel='probe', ylabel='concentrate_au')\n",
    "plt.title('Au concentrate on different stages of cleaning')\n",
    "plt.show()"
   ]
  },
  {
   "cell_type": "code",
   "execution_count": 14,
   "metadata": {},
   "outputs": [
    {
     "data": {
      "image/png": "[encoded data removed]",
      "text/plain": [
       "<Figure size 1500x700 with 1 Axes>"
      ]
     },
     "metadata": {},
     "output_type": "display_data"
    }
   ],
   "source": [
    "# concentrate_ag - the concentration of silver after the first stage increases, then decreases with each stage\n",
    "\n",
    "ag_list = ['rougher.input.feed_ag', 'rougher.output.concentrate_ag'\n",
    "           , 'primary_cleaner.output.concentrate_ag', 'final.output.concentrate_ag']\n",
    "sns.set_palette(\"pastel\")\n",
    "plt.figure(figsize=(15,7))\n",
    "sns.boxplot(data=df_train[ag_list], order=ag_list).set(xlabel='probe', ylabel='concentrate_ag')\n",
    "plt.title('Ag concentrate on different stages of cleaning')\n",
    "plt.show()"
   ]
  },
  {
   "cell_type": "code",
   "execution_count": 15,
   "metadata": {},
   "outputs": [
    {
     "data": {
      "image/png": "[encoded data removed]",
      "text/plain": [
       "<Figure size 1500x700 with 1 Axes>"
      ]
     },
     "metadata": {},
     "output_type": "display_data"
    }
   ],
   "source": [
    "# concentrate_pb - lead concentration increases\n",
    "\n",
    "pb_list = ['rougher.input.feed_pb', 'rougher.output.concentrate_pb'\n",
    "           , 'primary_cleaner.output.concentrate_pb', 'final.output.concentrate_pb']\n",
    "sns.set_palette(\"pastel\")\n",
    "plt.figure(figsize=(15,7))\n",
    "sns.boxplot(data=df_train[pb_list], order=pb_list).set(xlabel='probe', ylabel='concentrate_pb')\n",
    "plt.title('Pb concentrate on different stages of cleaning')\n",
    "plt.show()"
   ]
  },
  {
   "cell_type": "code",
   "execution_count": 16,
   "metadata": {},
   "outputs": [
    {
     "data": {
      "image/png": "[encoded data removed]",
      "text/plain": [
       "<Figure size 1500x700 with 1 Axes>"
      ]
     },
     "metadata": {},
     "output_type": "display_data"
    }
   ],
   "source": [
    "# concentrate_sol - salt concentration decreases with each purification step\n",
    "\n",
    "sol_list = ['rougher.input.feed_sol', 'rougher.output.concentrate_sol'\n",
    "            , 'primary_cleaner.output.concentrate_sol', 'final.output.concentrate_sol']\n",
    "sns.set_palette(\"pastel\")\n",
    "plt.figure(figsize=(15,7))\n",
    "sns.boxplot(data=df_train[sol_list], order=sol_list).set(xlabel='probe', ylabel='concentrate_sol')\n",
    "plt.title('sol concentrate on different stages of cleaning')\n",
    "plt.show()"
   ]
  },
  {
   "cell_type": "markdown",
   "metadata": {},
   "source": [
    "**CONCLUSION**\n",
    "\n",
    "- the concentration of gold and lead increases with each stage of purification, while silver and salts, on the contrary, decrease\n",
    "- the change in the concentration of these metals corresponds to the technological processes of ore beneficiation\n",
    "- all indicators at all stages contain data outliers, this may be due to the peculiarities of the technological process or the imperfection of methods for measuring the composition"
   ]
  },
  {
   "cell_type": "markdown",
   "metadata": {},
   "source": [
    "### size distribution of raw material granules\n",
    "\n",
    "compare the size distributions of raw material granules on the training and test samples"
   ]
  },
  {
   "cell_type": "markdown",
   "metadata": {},
   "source": [
    "#### rougher stage"
   ]
  },
  {
   "cell_type": "code",
   "execution_count": 17,
   "metadata": {
    "scrolled": true
   },
   "outputs": [
    {
     "data": {
      "image/png": "[encoded data removed]",
      "text/plain": [
       "<Figure size 1000x600 with 1 Axes>"
      ]
     },
     "metadata": {},
     "output_type": "display_data"
    }
   ],
   "source": [
    "# we see a slight shift of the graph and histogram in the test sample relative to the training one\n",
    "\n",
    "df_train['rougher.input.feed_size'].hist(density=True, bins=150, figsize=(10,6), range=(0,200), alpha=0.7, label='df_train')\n",
    "df_test['rougher.input.feed_size'].hist(density=True, bins=150, figsize=(10,6), range=(0,200), alpha=0.7, label='df_test')\n",
    "plt.title('rougher.input.feed_size')\n",
    "plt.xlabel('feed_size')\n",
    "plt.ylabel('frequency')\n",
    "plt.legend(loc='upper right')\n",
    "plt.show()"
   ]
  },
  {
   "cell_type": "code",
   "execution_count": 18,
   "metadata": {},
   "outputs": [],
   "source": [
    "# remove outliers in order to improve the quality of the model\n",
    "df_train = df_train[df_train['rougher.input.feed_size'] < 125]\n",
    "df_test = df_test[df_test['rougher.input.feed_size'] < 125]"
   ]
  },
  {
   "cell_type": "code",
   "execution_count": 19,
   "metadata": {},
   "outputs": [
    {
     "name": "stdout",
     "output_type": "stream",
     "text": [
      "train set: mean = 58.55, median = 55.19\n",
      "\n",
      "test set: mean = 54.99, median = 50.64\n"
     ]
    }
   ],
   "source": [
    "# calculate the mean and median\n",
    "print(f\"train set: mean = {round(df_train['rougher.input.feed_size'].mean(),2)}, \\\n",
    "median = {round(df_train['rougher.input.feed_size'].median(),2)}\")\n",
    "print()\n",
    "print(f\"test set: mean = {round(df_test['rougher.input.feed_size'].mean(),2)}, \\\n",
    "median = {round(df_test['rougher.input.feed_size'].median(),2)}\")\n",
    "\n",
    "# mean and median differ by 4 and 5 units, we will perform a significance test to find out if this deviation is large"
   ]
  },
  {
   "cell_type": "code",
   "execution_count": 20,
   "metadata": {
    "scrolled": true
   },
   "outputs": [
    {
     "name": "stdout",
     "output_type": "stream",
     "text": [
      "p-value: 1.5958861047820864e-56\n",
      "\n",
      "mean value of raw material granule sizes on the training set: 59\n",
      "mean value of raw material granule sizes on the test set: 55\n",
      "\n",
      "We reject the null hypothesis: The average sizes of raw material granules on the training and test samples differ significantly\n"
     ]
    }
   ],
   "source": [
    "# hypotheses:\n",
    "\n",
    "# null hypothesis H0: The average sizes of raw material granules on the training and test samples are the same\n",
    "# alternative hypothesis H1: The average sizes of raw material granules on the training and test samples are NOT the same\n",
    "\n",
    "# take columns with granule sizes\n",
    "feed_train = df_train['rougher.input.feed_size'].reset_index(drop=True).dropna()\n",
    "feed_test = df_test['rougher.input.feed_size'].reset_index(drop=True).dropna()\n",
    "\n",
    "alpha = .05\n",
    "\n",
    "# test the hypothesis that the means of two independent populations are equal\n",
    "results = st.ttest_ind(feed_train, feed_test, equal_var = True)\n",
    "\n",
    "print('p-value:', results.pvalue)\n",
    "print()\n",
    "print('mean value of raw material granule sizes on the training set:', round(feed_train.mean()))\n",
    "print('mean value of raw material granule sizes on the test set:', round(feed_test.mean()))\n",
    "print()\n",
    "\n",
    "if results.pvalue < alpha:\n",
    "    print(\"We reject the null hypothesis: \\\n",
    "The average sizes of raw material granules on the training and test samples differ significantly\")\n",
    "else:\n",
    "    print(\"It was not possible to reject the null hypothesis:\\\n",
    "The average sizes of raw material granules on the training and test samples do NOT differ significantly\")"
   ]
  },
  {
   "cell_type": "markdown",
   "metadata": {},
   "source": [
    "**CONCLUSION**\n",
    "\n",
    "compared the size distributions of raw material granules on the training and test samples at the flotation stage:\n",
    "- training sample: mean = 58.55, median = 55.19\n",
    "- test sample: mean = 54.99, median = 50.64\n",
    "\n",
    "conducted a test for significance, which showed that the average sizes of raw material granules on the training and test samples differ significantly\n",
    "\n",
    "this conclusion may affect the evaluation of models"
   ]
  },
  {
   "cell_type": "markdown",
   "metadata": {},
   "source": [
    "#### primary_cleaner stage"
   ]
  },
  {
   "cell_type": "code",
   "execution_count": 21,
   "metadata": {},
   "outputs": [
    {
     "data": {
      "image/png": "[encoded data removed]",
      "text/plain": [
       "<Figure size 1000x600 with 1 Axes>"
      ]
     },
     "metadata": {},
     "output_type": "display_data"
    }
   ],
   "source": [
    "# compare histograms of raw material granule size at the purification stage\n",
    "\n",
    "df_train['primary_cleaner.input.feed_size'].hist(bins=100, figsize=(10,6), range=(3,12), alpha=0.7, label='df_train')\n",
    "df_test['primary_cleaner.input.feed_size'].hist(bins=100, figsize=(10,6), range=(3,12), alpha=0.7, label='df_test')\n",
    "plt.title('primary_cleaner.input.feed_size')\n",
    "plt.xlabel('feed_size')\n",
    "plt.ylabel('frequency')\n",
    "plt.legend(loc='upper right')\n",
    "plt.show()\n",
    "\n",
    "# we see that the distributions are similar"
   ]
  },
  {
   "cell_type": "markdown",
   "metadata": {},
   "source": [
    "**CONCLUSION**\n",
    "\n",
    "the size distributions of raw material granules on the training and test samples at the stage of primary purification do not differ much"
   ]
  },
  {
   "cell_type": "markdown",
   "metadata": {},
   "source": [
    "### total concentration of all substances\n",
    "\n",
    "we will study the total concentration of all substances at different stages: in raw materials, in rough and final concentrates"
   ]
  },
  {
   "cell_type": "code",
   "execution_count": 22,
   "metadata": {},
   "outputs": [
    {
     "data": {
      "image/png": "[encoded data removed]",
      "text/plain": [
       "<Figure size 1600x700 with 1 Axes>"
      ]
     },
     "metadata": {},
     "output_type": "display_data"
    }
   ],
   "source": [
    "# see the total concentration at different stages\n",
    "\n",
    "concentration = pd.DataFrame()\n",
    "concentration['input'] = df_train['rougher.input.feed_ag'] + df_train['rougher.input.feed_pb'] \\\n",
    "                       + df_train['rougher.input.feed_sol'] + df_train['rougher.input.feed_au']\n",
    "concentration['rougher'] = df_train.filter(like='rougher.output.concentrate', axis=1).sum(axis=1)\n",
    "concentration['primary_cleaner'] = df_train.filter(like='primary_cleaner.output.concentrate', axis=1).sum(axis=1)\n",
    "concentration['final'] = df_train.filter(like='final.output.concentrate', axis=1).sum(axis=1)\n",
    "\n",
    "sns.set_palette(\"pastel\")\n",
    "plt.figure(figsize=(16,7))\n",
    "sns.distplot(concentration[['input']], bins=100).set(xlabel='concentrate', ylabel='frequency')\n",
    "sns.distplot(concentration[['rougher']], bins=100).set(xlabel='concentrate', ylabel='frequency')\n",
    "sns.distplot(concentration[['primary_cleaner']], bins=100).set(xlabel='concentrate', ylabel='frequency')\n",
    "sns.distplot(concentration[['final']], bins=100).set(xlabel='concentrate', ylabel='frequency')\n",
    "plt.title('sum of concentrations on different stages of cleaning')\n",
    "plt.show()\n",
    "\n",
    "# see abnormal zero values"
   ]
  },
  {
   "cell_type": "code",
   "execution_count": 23,
   "metadata": {},
   "outputs": [
    {
     "name": "stdout",
     "output_type": "stream",
     "text": [
      "count zeros input 5\n",
      "count zeros rougher 301\n",
      "count zeros primary_cleaner 191\n",
      "count zeros final 58\n"
     ]
    }
   ],
   "source": [
    "# check the number of values close to zero\n",
    "for i in concentration.columns:\n",
    "    column = concentration[i]\n",
    "    count = (column <= 0.1).sum()\n",
    "    print('count zeros', i, count)"
   ]
  },
  {
   "cell_type": "code",
   "execution_count": 24,
   "metadata": {},
   "outputs": [],
   "source": [
    "# remove zero values in columns with concentration\n",
    "zero_columns_train = list(df_train.filter(like='concentrate', axis=1).columns)\n",
    "zero_columns_test = list(df_test.filter(like='concentrate', axis=1).columns)\n",
    "\n",
    "# replace zeros with nan\n",
    "for i in zero_columns_train:\n",
    "    df_train[i].mask(df_train[i] <= 0.1 , np.nan, inplace=True)\n",
    "for i in zero_columns_test:\n",
    "    df_test[i].mask(df_test[i] <= 0.1 , np.nan, inplace=True)    \n",
    "    \n",
    "# drop nan\n",
    "df_train.dropna(inplace=True)\n",
    "df_test.dropna(inplace=True)"
   ]
  },
  {
   "cell_type": "code",
   "execution_count": 25,
   "metadata": {},
   "outputs": [
    {
     "data": {
      "text/plain": [
       "((13433, 86), (5250, 52))"
      ]
     },
     "execution_count": 25,
     "metadata": {},
     "output_type": "execute_result"
    }
   ],
   "source": [
    "# check size, removed less than 1% of rows\n",
    "df_train.shape, df_test.shape"
   ]
  },
  {
   "cell_type": "code",
   "execution_count": 26,
   "metadata": {
    "scrolled": true
   },
   "outputs": [
    {
     "data": {
      "image/png": "[encoded data removed]",
      "text/plain": [
       "<Figure size 1600x700 with 1 Axes>"
      ]
     },
     "metadata": {},
     "output_type": "display_data"
    }
   ],
   "source": [
    "# check the result\n",
    "\n",
    "concentration = pd.DataFrame()\n",
    "concentration['input'] = df_train['rougher.input.feed_ag'] + df_train['rougher.input.feed_pb'] \\\n",
    "                       + df_train['rougher.input.feed_sol'] + df_train['rougher.input.feed_au']\n",
    "concentration['rougher'] = df_train.filter(like='rougher.output.concentrate', axis=1).sum(axis=1)\n",
    "concentration['primary_cleaner'] = df_train.filter(like='primary_cleaner.output.concentrate', axis=1).sum(axis=1)\n",
    "concentration['final'] = df_train.filter(like='final.output.concentrate', axis=1).sum(axis=1)\n",
    "\n",
    "sns.set_palette(\"pastel\")\n",
    "plt.figure(figsize=(16,7))\n",
    "sns.distplot(concentration[['input']], bins=100).set(xlabel='concentrate', ylabel='frequency')\n",
    "sns.distplot(concentration[['rougher']], bins=100).set(xlabel='concentrate', ylabel='frequency')\n",
    "sns.distplot(concentration[['primary_cleaner']], bins=100).set(xlabel='concentrate', ylabel='frequency')\n",
    "sns.distplot(concentration[['final']], bins=100).set(xlabel='concentrate', ylabel='frequency')\n",
    "plt.title('sum of concentrations on different stages of cleaning')\n",
    "plt.show()\n",
    "\n",
    "# we do not see abnormal null values"
   ]
  },
  {
   "cell_type": "markdown",
   "metadata": {},
   "source": [
    "**CONCLUSION**\n",
    "\n",
    "- studied the total concentration of all substances at different stages: the concentration increases after the flotation stage, then decreases and at the final stage returns to the flotation level\n",
    "- removed extreme values close to zero"
   ]
  },
  {
   "cell_type": "markdown",
   "metadata": {},
   "source": [
    "## Model"
   ]
  },
  {
   "cell_type": "code",
   "execution_count": 27,
   "metadata": {},
   "outputs": [],
   "source": [
    "# write the sMAPE formula, the final metric is the sum of two values:\n",
    "# - recovery of rough concentrate rougher.output.recovery\n",
    "# - recovery of final concentrate final.output.recovery\n",
    "\n",
    "def sMAPE(R_predict, R_valid, F_predict, F_valid):\n",
    "    rougher = 1/len(R_predict) * np.sum((2 * np.abs(R_valid - R_predict)) / (np.abs(R_predict) + np.abs(R_valid))*100)\n",
    "    final = 1/len(F_predict) * np.sum((2 * np.abs(F_valid - F_predict)) / (np.abs(F_predict) + np.abs(F_valid))*100)\n",
    "    sMAPE_final = 0.25 * rougher  +  0.75 * final\n",
    "    return round(sMAPE_final,2)"
   ]
  },
  {
   "cell_type": "code",
   "execution_count": 28,
   "metadata": {},
   "outputs": [],
   "source": [
    "# select target features\n",
    "target_rougher = df_train['rougher.output.recovery']\n",
    "target_final = df_train['final.output.recovery']\n",
    "\n",
    "# leave in the training sample only those features that are in the test sample\n",
    "df_train = df_train.loc[:, df_train.columns.isin(df_test.columns)]\n",
    "\n",
    "# select features for learning\n",
    "features_rougher = df_train.filter(like='rougher', axis=1)\n",
    "features_final = df_train.drop(features_rougher.columns, axis=1)"
   ]
  },
  {
   "cell_type": "markdown",
   "metadata": {},
   "source": [
    "### model selection"
   ]
  },
  {
   "cell_type": "code",
   "execution_count": 29,
   "metadata": {},
   "outputs": [
    {
     "name": "stdout",
     "output_type": "stream",
     "text": [
      "sMAPE for LinearRegression:  8.74\n"
     ]
    }
   ],
   "source": [
    "# build a LinearRegression model, evaluate the quality by cross-validation\n",
    "\n",
    "model_LR = LinearRegression()\n",
    "R_predict = cross_val_predict(model_LR, features_rougher, target_rougher, cv=5)\n",
    "F_predict = cross_val_predict(model_LR, features_final, target_final, cv=5)\n",
    "\n",
    "print('sMAPE for LinearRegression: ', sMAPE(R_predict, target_rougher, F_predict, target_final))"
   ]
  },
  {
   "cell_type": "code",
   "execution_count": 30,
   "metadata": {},
   "outputs": [
    {
     "name": "stdout",
     "output_type": "stream",
     "text": [
      "sMAPE for DecisionTreeRegressor: \n",
      "    depth  sMAPE\n",
      "0    1.0   9.31\n",
      "1    3.0   9.43\n",
      "2    5.0  10.73\n",
      "3    7.0  12.27\n",
      "6   13.0  13.61\n"
     ]
    }
   ],
   "source": [
    "# build a DecisionTreeRegressor model\n",
    "\n",
    "i = 0\n",
    "result = pd.DataFrame(columns=['depth', 'sMAPE'])\n",
    "\n",
    "for depth in range(1, 15, 2):\n",
    "    model_DTR = DecisionTreeRegressor(random_state=STATE, max_depth=depth)\n",
    "    R_predict = cross_val_predict(model_DTR, features_rougher, target_rougher, cv=5)\n",
    "    F_predict = cross_val_predict(model_DTR, features_final, target_final, cv=5)\n",
    "    result.loc[i] = [depth, sMAPE(R_predict, target_rougher, F_predict, target_final)]\n",
    "    i += 1\n",
    "\n",
    "print('sMAPE for DecisionTreeRegressor: \\n', result.sort_values('sMAPE').head())"
   ]
  },
  {
   "cell_type": "code",
   "execution_count": 31,
   "metadata": {},
   "outputs": [
    {
     "name": "stdout",
     "output_type": "stream",
     "text": [
      "sMAPE for RandomForestRegressor: \n",
      "     est  depth  sMAPE\n",
      "6   7.0    3.0   8.94\n",
      "10  9.0    3.0   8.94\n",
      "2   5.0    3.0   9.02\n",
      "5   7.0    2.0   9.02\n",
      "9   9.0    2.0   9.03\n"
     ]
    }
   ],
   "source": [
    "# build a RandomForestRegressor model\n",
    "\n",
    "i = 0\n",
    "result = pd.DataFrame(columns=['est', 'depth', 'sMAPE'])\n",
    "\n",
    "for est in range(5, 15, 2):\n",
    "    for depth in range (1, 5):\n",
    "        model_RFR = RandomForestRegressor(random_state=STATE, n_estimators=est, max_depth=depth)\n",
    "        R_predict = cross_val_predict(model_RFR, features_rougher, target_rougher, cv=5)\n",
    "        F_predict = cross_val_predict(model_RFR, features_final, target_final, cv=5)\n",
    "        result.loc[i] = [est, depth, sMAPE(R_predict, target_rougher, F_predict, target_final)]\n",
    "        i += 1\n",
    "\n",
    "print('sMAPE for RandomForestRegressor: \\n', result.sort_values('sMAPE').head())"
   ]
  },
  {
   "cell_type": "markdown",
   "metadata": {},
   "source": [
    "**CONCLUSION**\n",
    "\n",
    "the smallest value of sMAPE = 8.74 was obtained in LinearRegression model, we will choose it for further research"
   ]
  },
  {
   "cell_type": "markdown",
   "metadata": {},
   "source": [
    "### model testing"
   ]
  },
  {
   "cell_type": "code",
   "execution_count": 32,
   "metadata": {},
   "outputs": [],
   "source": [
    "# prepare samples for model testing\n",
    "\n",
    "# extract the features from the test set\n",
    "features_rougher_test = df_test.filter(like='rougher', axis=1)\n",
    "features_final_test = df_test.drop(features_rougher_test.columns, axis=1)\n",
    "\n",
    "# find target features from the total sample for values from the test sample\n",
    "df_full_test = df_full.query('index in @df_test.index')\n",
    "\n",
    "# select target features\n",
    "target_rougher_test = df_full_test['rougher.output.recovery']\n",
    "target_final_test = df_full_test['final.output.recovery']"
   ]
  },
  {
   "cell_type": "code",
   "execution_count": 33,
   "metadata": {},
   "outputs": [
    {
     "data": {
      "text/plain": [
       "((5250, 22), (5250,), (5250, 30), (5250,))"
      ]
     },
     "execution_count": 33,
     "metadata": {},
     "output_type": "execute_result"
    }
   ],
   "source": [
    "# check sample sizes\n",
    "features_rougher_test.shape, target_rougher_test.shape, features_final_test.shape, target_final_test.shape"
   ]
  },
  {
   "cell_type": "code",
   "execution_count": 34,
   "metadata": {},
   "outputs": [
    {
     "name": "stdout",
     "output_type": "stream",
     "text": [
      "sMAPE of the final model: 9.19\n"
     ]
    }
   ],
   "source": [
    "# make predictions\n",
    "\n",
    "model_LR.fit(features_rougher, target_rougher) \n",
    "R_predict = model_LR.predict(features_rougher_test) \n",
    "\n",
    "model_LR.fit(features_final, target_final)\n",
    "F_predict = model_LR.predict(features_final_test)\n",
    "\n",
    "print('sMAPE of the final model:', sMAPE(R_predict, target_rougher_test, F_predict, target_final_test))"
   ]
  },
  {
   "cell_type": "code",
   "execution_count": 35,
   "metadata": {},
   "outputs": [
    {
     "name": "stdout",
     "output_type": "stream",
     "text": [
      "sMAPE of the constant model: 9.71\n"
     ]
    }
   ],
   "source": [
    "# compare the results with the constant model \n",
    "# we take the predictive values equal to the arithmetic mean values of the target features\n",
    "\n",
    "model_DR = DummyRegressor(strategy='mean')\n",
    "\n",
    "model_DR.fit(features_rougher, target_rougher)\n",
    "R_predict = model_DR.predict(features_rougher_test)\n",
    "\n",
    "model_DR.fit(features_final, target_final)\n",
    "F_predict = model_DR.predict(features_final_test)\n",
    "\n",
    "print('sMAPE of the constant model:', sMAPE(R_predict, target_rougher_test, F_predict, target_final_test))"
   ]
  },
  {
   "cell_type": "markdown",
   "metadata": {},
   "source": [
    "**CONCLUSION**\n",
    "\n",
    "sMAPE value on test data = 9.19, the metric did not increase much, this is a good result\n",
    "constant model sMAPE value = 9.71, so our final model is better"
   ]
  },
  {
   "cell_type": "markdown",
   "metadata": {},
   "source": [
    "## Conclusion"
   ]
  },
  {
   "cell_type": "markdown",
   "metadata": {},
   "source": [
    "provided data with the parameters of extraction and purification of gold from ore\n",
    "\n",
    "**TASK:** to prepare a prototype of a machine learning model for a company that develops solutions for the efficient operation of industrial enterprises. the model should predict the recovery factor for gold from gold ore. the model should help optimize production so as not to launch an enterprise with unprofitable characteristics.\n",
    "\n",
    "it is necessary to predict the values:\n",
    "- efficiency of crude concentrate enrichment\n",
    "- final concentrate enrichment efficiency\n",
    "\n",
    "quality metric - sMAPE (Symmetric Mean Absolute Percentage Error, \"symmetric mean absolute percentage deviation\")\n",
    "    \n",
    "    \n",
    "**data preparation:**\n",
    "- missing values ​​are filled with values ​​from adjacent cells, no duplicates\n",
    "- in the test sample there are no columns with the product parameter at all stages and the calculated characteristics\n",
    "- enrichment efficiency calculated correctly\n",
    "\n",
    "**data analysis**\n",
    "- the concentration of gold and lead increases with each stage of purification, while silver and salts, on the contrary, decrease\n",
    "- the change in the concentration of these metals corresponds to the technological processes of ore beneficiation\n",
    "- all indicators at all stages contain data outliers, this may be due to the peculiarities of the technological process or the imperfection of methods for measuring the composition\n",
    "- the total concentration of all substances increases after the flotation stage, then decreases and returns to the flotation level at the final stage, extreme values ​​close to zero are removed\n",
    "\n",
    "raw material granule sizes:\n",
    "- conducted a test for significance, which showed that *average grain sizes of raw materials* on the training and test samples at the *flotation stage* differ significantly, this conclusion may affect the evaluation of the models\n",
    "- the size distributions of raw material granules on the training and test samples at the *primary cleaning stage* do not differ much\n",
    "\n",
    "**MODEL**\n",
    "\n",
    "- studied models LinearRegression, DecisionTreeRegressor, RandomForestRegressor\n",
    "- the LinearRegression model was chosen, it showed the smallest value of the metric sMAPE = 8.74 when selecting the model and sMAPE = 9.19 when checking on the test sample\n",
    "- when compared with the constant model, the final model showed better results (sMAPE in DummyRegressor = 9.71)"
   ]
  },
  {
   "cell_type": "code",
   "execution_count": null,
   "metadata": {},
   "outputs": [],
   "source": []
  }
 ],
 "metadata": {
  "ExecuteTimeLog": [
   {
    "duration": 1588,
    "start_time": "2022-08-10T07:55:24.841Z"
   },
   {
    "duration": 12,
    "start_time": "2022-08-10T07:59:13.996Z"
   },
   {
    "duration": 4,
    "start_time": "2022-08-10T07:59:14.124Z"
   },
   {
    "duration": 1364,
    "start_time": "2022-08-10T07:59:14.291Z"
   },
   {
    "duration": 608,
    "start_time": "2022-08-10T07:59:15.657Z"
   },
   {
    "duration": 2312,
    "start_time": "2022-08-10T07:59:16.267Z"
   },
   {
    "duration": 32608,
    "start_time": "2022-08-10T07:59:18.582Z"
   },
   {
    "duration": 1466,
    "start_time": "2022-08-10T08:29:23.348Z"
   },
   {
    "duration": 4,
    "start_time": "2022-08-10T08:29:24.816Z"
   },
   {
    "duration": 6,
    "start_time": "2022-08-10T08:29:24.822Z"
   },
   {
    "duration": 786,
    "start_time": "2022-08-10T08:29:24.829Z"
   },
   {
    "duration": 268,
    "start_time": "2022-08-10T08:29:25.618Z"
   },
   {
    "duration": 823,
    "start_time": "2022-08-10T08:29:25.898Z"
   },
   {
    "duration": 33770,
    "start_time": "2022-08-10T08:29:26.723Z"
   },
   {
    "duration": 1556,
    "start_time": "2022-08-10T15:48:49.832Z"
   },
   {
    "duration": 3,
    "start_time": "2022-08-10T15:48:51.390Z"
   },
   {
    "duration": 8,
    "start_time": "2022-08-10T15:48:51.395Z"
   },
   {
    "duration": 1680,
    "start_time": "2022-08-10T15:48:51.405Z"
   },
   {
    "duration": 382,
    "start_time": "2022-08-10T15:48:53.088Z"
   },
   {
    "duration": 1010,
    "start_time": "2022-08-10T15:48:53.471Z"
   },
   {
    "duration": 37468,
    "start_time": "2022-08-10T15:48:54.483Z"
   },
   {
    "duration": 1621,
    "start_time": "2022-08-11T18:06:44.804Z"
   },
   {
    "duration": 3,
    "start_time": "2022-08-11T18:06:46.427Z"
   },
   {
    "duration": 9,
    "start_time": "2022-08-11T18:06:46.432Z"
   },
   {
    "duration": 1708,
    "start_time": "2022-08-11T18:06:46.443Z"
   },
   {
    "duration": 368,
    "start_time": "2022-08-11T18:06:48.154Z"
   },
   {
    "duration": 1044,
    "start_time": "2022-08-11T18:06:48.524Z"
   },
   {
    "duration": 38217,
    "start_time": "2022-08-11T18:06:49.570Z"
   },
   {
    "duration": 5,
    "start_time": "2022-08-11T18:08:05.270Z"
   },
   {
    "duration": 437,
    "start_time": "2022-08-11T18:08:05.755Z"
   },
   {
    "duration": 295,
    "start_time": "2022-08-11T18:08:54.545Z"
   },
   {
    "duration": 306,
    "start_time": "2022-08-11T18:09:37.456Z"
   },
   {
    "duration": 144,
    "start_time": "2022-08-11T18:09:37.928Z"
   },
   {
    "duration": 105,
    "start_time": "2022-08-11T18:10:16.836Z"
   },
   {
    "duration": 42,
    "start_time": "2022-08-11T18:10:17.699Z"
   },
   {
    "duration": 379,
    "start_time": "2022-08-11T18:10:44.716Z"
   },
   {
    "duration": 123,
    "start_time": "2022-08-11T18:10:45.519Z"
   },
   {
    "duration": 351,
    "start_time": "2022-08-11T18:11:56.568Z"
   },
   {
    "duration": 301,
    "start_time": "2022-08-11T18:12:08.262Z"
   },
   {
    "duration": 144,
    "start_time": "2022-08-11T18:12:08.737Z"
   },
   {
    "duration": 112,
    "start_time": "2022-08-11T18:12:22.801Z"
   },
   {
    "duration": 43,
    "start_time": "2022-08-11T18:12:23.295Z"
   },
   {
    "duration": 407,
    "start_time": "2022-08-11T18:12:39.592Z"
   },
   {
    "duration": 141,
    "start_time": "2022-08-11T18:12:40.702Z"
   },
   {
    "duration": 83,
    "start_time": "2022-08-11T18:14:01.650Z"
   },
   {
    "duration": 97,
    "start_time": "2022-08-11T18:23:41.565Z"
   },
   {
    "duration": 69,
    "start_time": "2022-08-11T18:23:52.487Z"
   },
   {
    "duration": 673,
    "start_time": "2022-08-11T18:24:49.317Z"
   },
   {
    "duration": 1546,
    "start_time": "2022-08-11T18:29:02.633Z"
   },
   {
    "duration": 1348,
    "start_time": "2022-08-11T18:29:09.218Z"
   },
   {
    "duration": 663,
    "start_time": "2022-08-11T18:30:02.683Z"
   },
   {
    "duration": 10,
    "start_time": "2022-08-11T18:30:25.059Z"
   },
   {
    "duration": 11,
    "start_time": "2022-08-11T18:30:53.672Z"
   },
   {
    "duration": 11,
    "start_time": "2022-08-11T18:31:25.175Z"
   },
   {
    "duration": 12,
    "start_time": "2022-08-11T18:32:28.663Z"
   },
   {
    "duration": 6,
    "start_time": "2022-08-11T18:41:31.595Z"
   },
   {
    "duration": 28,
    "start_time": "2022-08-11T18:41:42.950Z"
   },
   {
    "duration": 6,
    "start_time": "2022-08-11T18:43:18.779Z"
   },
   {
    "duration": 6,
    "start_time": "2022-08-11T18:43:44.708Z"
   },
   {
    "duration": 1589,
    "start_time": "2022-08-11T18:49:50.476Z"
   },
   {
    "duration": 4,
    "start_time": "2022-08-11T18:49:52.067Z"
   },
   {
    "duration": 6,
    "start_time": "2022-08-11T18:49:52.072Z"
   },
   {
    "duration": 356,
    "start_time": "2022-08-11T18:49:52.080Z"
   },
   {
    "duration": 167,
    "start_time": "2022-08-11T18:49:52.438Z"
   },
   {
    "duration": 103,
    "start_time": "2022-08-11T18:49:52.607Z"
   },
   {
    "duration": 61,
    "start_time": "2022-08-11T18:49:52.711Z"
   },
   {
    "duration": 407,
    "start_time": "2022-08-11T18:49:52.774Z"
   },
   {
    "duration": 161,
    "start_time": "2022-08-11T18:49:53.183Z"
   },
   {
    "duration": 3,
    "start_time": "2022-08-11T18:49:53.347Z"
   },
   {
    "duration": 32,
    "start_time": "2022-08-11T18:49:53.351Z"
   },
   {
    "duration": 5,
    "start_time": "2022-08-11T18:49:53.384Z"
   },
   {
    "duration": 7,
    "start_time": "2022-08-11T18:49:53.390Z"
   },
   {
    "duration": 1514,
    "start_time": "2022-08-12T17:49:31.738Z"
   },
   {
    "duration": 3,
    "start_time": "2022-08-12T17:49:33.254Z"
   },
   {
    "duration": 9,
    "start_time": "2022-08-12T17:49:33.258Z"
   },
   {
    "duration": 909,
    "start_time": "2022-08-12T17:49:33.268Z"
   },
   {
    "duration": 146,
    "start_time": "2022-08-12T17:49:34.179Z"
   },
   {
    "duration": 484,
    "start_time": "2022-08-12T17:49:34.326Z"
   },
   {
    "duration": 35,
    "start_time": "2022-08-12T17:49:34.811Z"
   },
   {
    "duration": 1993,
    "start_time": "2022-08-12T17:49:34.848Z"
   },
   {
    "duration": 129,
    "start_time": "2022-08-12T17:49:36.843Z"
   },
   {
    "duration": 2,
    "start_time": "2022-08-12T17:49:36.974Z"
   },
   {
    "duration": 33,
    "start_time": "2022-08-12T17:49:36.978Z"
   },
   {
    "duration": 6,
    "start_time": "2022-08-12T17:49:37.012Z"
   },
   {
    "duration": 5,
    "start_time": "2022-08-12T17:49:37.019Z"
   },
   {
    "duration": 3,
    "start_time": "2022-08-12T17:55:02.751Z"
   },
   {
    "duration": 313,
    "start_time": "2022-08-12T17:55:03.432Z"
   },
   {
    "duration": 142,
    "start_time": "2022-08-12T17:55:03.942Z"
   },
   {
    "duration": 123,
    "start_time": "2022-08-12T17:55:04.689Z"
   },
   {
    "duration": 1391,
    "start_time": "2022-08-12T17:55:39.638Z"
   },
   {
    "duration": 3,
    "start_time": "2022-08-12T17:55:41.031Z"
   },
   {
    "duration": 11,
    "start_time": "2022-08-12T17:55:41.035Z"
   },
   {
    "duration": 322,
    "start_time": "2022-08-12T17:55:41.048Z"
   },
   {
    "duration": 182,
    "start_time": "2022-08-12T17:55:41.372Z"
   },
   {
    "duration": 95,
    "start_time": "2022-08-12T17:55:41.555Z"
   },
   {
    "duration": 65,
    "start_time": "2022-08-12T17:55:41.651Z"
   },
   {
    "duration": 405,
    "start_time": "2022-08-12T17:55:41.718Z"
   },
   {
    "duration": 153,
    "start_time": "2022-08-12T17:55:42.125Z"
   },
   {
    "duration": 3,
    "start_time": "2022-08-12T17:55:42.280Z"
   },
   {
    "duration": 32,
    "start_time": "2022-08-12T17:55:42.285Z"
   },
   {
    "duration": 5,
    "start_time": "2022-08-12T17:55:42.319Z"
   },
   {
    "duration": 7,
    "start_time": "2022-08-12T17:55:42.326Z"
   },
   {
    "duration": 410,
    "start_time": "2022-08-12T18:00:31.852Z"
   },
   {
    "duration": 306,
    "start_time": "2022-08-12T18:00:39.171Z"
   },
   {
    "duration": 295,
    "start_time": "2022-08-12T18:00:45.184Z"
   },
   {
    "duration": 143,
    "start_time": "2022-08-12T18:00:45.718Z"
   },
   {
    "duration": 13,
    "start_time": "2022-08-12T18:15:39.395Z"
   },
   {
    "duration": 1336,
    "start_time": "2022-08-12T18:18:59.803Z"
   },
   {
    "duration": 3,
    "start_time": "2022-08-12T18:19:01.141Z"
   },
   {
    "duration": 28,
    "start_time": "2022-08-12T18:19:01.146Z"
   },
   {
    "duration": 329,
    "start_time": "2022-08-12T18:19:01.177Z"
   },
   {
    "duration": 170,
    "start_time": "2022-08-12T18:19:01.508Z"
   },
   {
    "duration": 103,
    "start_time": "2022-08-12T18:19:01.680Z"
   },
   {
    "duration": 57,
    "start_time": "2022-08-12T18:19:01.785Z"
   },
   {
    "duration": 441,
    "start_time": "2022-08-12T18:19:01.844Z"
   },
   {
    "duration": 123,
    "start_time": "2022-08-12T18:19:02.287Z"
   },
   {
    "duration": 12,
    "start_time": "2022-08-12T18:19:02.412Z"
   },
   {
    "duration": 37,
    "start_time": "2022-08-12T18:19:02.426Z"
   },
   {
    "duration": 5,
    "start_time": "2022-08-12T18:19:02.465Z"
   },
   {
    "duration": 19,
    "start_time": "2022-08-12T18:19:02.497Z"
   },
   {
    "duration": 3,
    "start_time": "2022-08-12T18:19:02.517Z"
   },
   {
    "duration": 12,
    "start_time": "2022-08-12T18:19:29.086Z"
   },
   {
    "duration": 33,
    "start_time": "2022-08-12T18:19:29.734Z"
   },
   {
    "duration": 37,
    "start_time": "2022-08-12T18:20:06.239Z"
   },
   {
    "duration": 1308,
    "start_time": "2022-08-12T18:20:30.702Z"
   },
   {
    "duration": 3,
    "start_time": "2022-08-12T18:20:32.012Z"
   },
   {
    "duration": 6,
    "start_time": "2022-08-12T18:20:32.016Z"
   },
   {
    "duration": 308,
    "start_time": "2022-08-12T18:20:32.023Z"
   },
   {
    "duration": 150,
    "start_time": "2022-08-12T18:20:32.332Z"
   },
   {
    "duration": 91,
    "start_time": "2022-08-12T18:20:32.484Z"
   },
   {
    "duration": 44,
    "start_time": "2022-08-12T18:20:32.576Z"
   },
   {
    "duration": 349,
    "start_time": "2022-08-12T18:20:32.621Z"
   },
   {
    "duration": 132,
    "start_time": "2022-08-12T18:20:32.972Z"
   },
   {
    "duration": 14,
    "start_time": "2022-08-12T18:20:33.107Z"
   },
   {
    "duration": 36,
    "start_time": "2022-08-12T18:20:33.123Z"
   },
   {
    "duration": 5,
    "start_time": "2022-08-12T18:20:33.160Z"
   },
   {
    "duration": 40,
    "start_time": "2022-08-12T18:20:33.166Z"
   },
   {
    "duration": 3,
    "start_time": "2022-08-12T18:20:33.207Z"
   },
   {
    "duration": 34,
    "start_time": "2022-08-12T18:20:48.198Z"
   },
   {
    "duration": 39,
    "start_time": "2022-08-12T18:20:50.930Z"
   },
   {
    "duration": 7,
    "start_time": "2022-08-12T18:21:27.801Z"
   },
   {
    "duration": 127,
    "start_time": "2022-08-12T18:21:53.431Z"
   },
   {
    "duration": 9,
    "start_time": "2022-08-12T18:22:05.717Z"
   },
   {
    "duration": 9,
    "start_time": "2022-08-12T18:22:13.939Z"
   },
   {
    "duration": 6,
    "start_time": "2022-08-12T18:22:41.958Z"
   },
   {
    "duration": 3,
    "start_time": "2022-08-12T18:22:42.093Z"
   },
   {
    "duration": 3,
    "start_time": "2022-08-12T18:22:42.362Z"
   },
   {
    "duration": 323,
    "start_time": "2022-08-12T18:22:42.502Z"
   },
   {
    "duration": 151,
    "start_time": "2022-08-12T18:22:42.881Z"
   },
   {
    "duration": 104,
    "start_time": "2022-08-12T18:22:43.385Z"
   },
   {
    "duration": 34,
    "start_time": "2022-08-12T18:22:43.846Z"
   },
   {
    "duration": 458,
    "start_time": "2022-08-12T18:22:44.590Z"
   },
   {
    "duration": 115,
    "start_time": "2022-08-12T18:22:45.218Z"
   },
   {
    "duration": 12,
    "start_time": "2022-08-12T18:22:46.073Z"
   },
   {
    "duration": 8,
    "start_time": "2022-08-12T18:22:48.818Z"
   },
   {
    "duration": 19,
    "start_time": "2022-08-12T18:29:54.941Z"
   },
   {
    "duration": 7,
    "start_time": "2022-08-12T18:30:23.011Z"
   },
   {
    "duration": 60,
    "start_time": "2022-08-12T18:33:41.297Z"
   },
   {
    "duration": 5,
    "start_time": "2022-08-12T18:33:49.831Z"
   },
   {
    "duration": 51,
    "start_time": "2022-08-12T18:34:16.278Z"
   },
   {
    "duration": 6,
    "start_time": "2022-08-12T18:35:47.480Z"
   },
   {
    "duration": 15,
    "start_time": "2022-08-12T18:35:52.093Z"
   },
   {
    "duration": 1421,
    "start_time": "2022-08-12T18:38:03.612Z"
   },
   {
    "duration": 3,
    "start_time": "2022-08-12T18:38:05.035Z"
   },
   {
    "duration": 8,
    "start_time": "2022-08-12T18:38:05.039Z"
   },
   {
    "duration": 316,
    "start_time": "2022-08-12T18:38:05.048Z"
   },
   {
    "duration": 156,
    "start_time": "2022-08-12T18:38:05.366Z"
   },
   {
    "duration": 97,
    "start_time": "2022-08-12T18:38:05.524Z"
   },
   {
    "duration": 39,
    "start_time": "2022-08-12T18:38:05.622Z"
   },
   {
    "duration": 390,
    "start_time": "2022-08-12T18:38:05.663Z"
   },
   {
    "duration": 135,
    "start_time": "2022-08-12T18:38:06.055Z"
   },
   {
    "duration": 14,
    "start_time": "2022-08-12T18:38:06.208Z"
   },
   {
    "duration": 10,
    "start_time": "2022-08-12T18:38:06.224Z"
   },
   {
    "duration": 7,
    "start_time": "2022-08-12T18:38:06.236Z"
   },
   {
    "duration": 11,
    "start_time": "2022-08-12T18:38:06.245Z"
   },
   {
    "duration": 942,
    "start_time": "2022-08-12T18:54:54.311Z"
   },
   {
    "duration": 1918,
    "start_time": "2022-08-12T18:56:27.266Z"
   },
   {
    "duration": 2061,
    "start_time": "2022-08-12T18:57:22.677Z"
   },
   {
    "duration": 1896,
    "start_time": "2022-08-12T18:59:52.022Z"
   },
   {
    "duration": 5441,
    "start_time": "2022-08-12T19:00:40.915Z"
   },
   {
    "duration": 4959,
    "start_time": "2022-08-12T19:00:54.370Z"
   },
   {
    "duration": 1652,
    "start_time": "2022-08-12T19:06:56.339Z"
   },
   {
    "duration": 3,
    "start_time": "2022-08-12T19:09:06.076Z"
   },
   {
    "duration": 708,
    "start_time": "2022-08-12T19:09:10.382Z"
   },
   {
    "duration": 1841,
    "start_time": "2022-08-12T19:11:44.732Z"
   },
   {
    "duration": 1747,
    "start_time": "2022-08-12T19:12:27.402Z"
   },
   {
    "duration": 1842,
    "start_time": "2022-08-12T19:12:29.914Z"
   },
   {
    "duration": 1688,
    "start_time": "2022-08-12T19:12:38.553Z"
   },
   {
    "duration": 49,
    "start_time": "2022-08-12T19:15:46.709Z"
   },
   {
    "duration": 1745,
    "start_time": "2022-08-12T19:16:58.590Z"
   },
   {
    "duration": 1729,
    "start_time": "2022-08-12T19:17:25.984Z"
   },
   {
    "duration": 2050,
    "start_time": "2022-08-12T19:17:31.862Z"
   },
   {
    "duration": 1806,
    "start_time": "2022-08-12T19:17:51.299Z"
   },
   {
    "duration": 1730,
    "start_time": "2022-08-12T19:18:07.756Z"
   },
   {
    "duration": 1713,
    "start_time": "2022-08-12T19:18:31.582Z"
   },
   {
    "duration": 1754,
    "start_time": "2022-08-12T19:18:49.263Z"
   },
   {
    "duration": 1711,
    "start_time": "2022-08-12T19:18:56.410Z"
   },
   {
    "duration": 1734,
    "start_time": "2022-08-12T19:20:01.055Z"
   },
   {
    "duration": 1772,
    "start_time": "2022-08-12T19:20:07.571Z"
   },
   {
    "duration": 1866,
    "start_time": "2022-08-12T19:20:53.910Z"
   },
   {
    "duration": 1745,
    "start_time": "2022-08-12T19:21:29.664Z"
   },
   {
    "duration": 1304,
    "start_time": "2022-08-12T19:22:10.012Z"
   },
   {
    "duration": 3,
    "start_time": "2022-08-12T19:22:11.318Z"
   },
   {
    "duration": 8,
    "start_time": "2022-08-12T19:22:11.322Z"
   },
   {
    "duration": 300,
    "start_time": "2022-08-12T19:22:11.331Z"
   },
   {
    "duration": 140,
    "start_time": "2022-08-12T19:22:11.633Z"
   },
   {
    "duration": 90,
    "start_time": "2022-08-12T19:22:11.774Z"
   },
   {
    "duration": 38,
    "start_time": "2022-08-12T19:22:11.865Z"
   },
   {
    "duration": 342,
    "start_time": "2022-08-12T19:22:11.913Z"
   },
   {
    "duration": 122,
    "start_time": "2022-08-12T19:22:12.257Z"
   },
   {
    "duration": 12,
    "start_time": "2022-08-12T19:22:12.381Z"
   },
   {
    "duration": 11,
    "start_time": "2022-08-12T19:22:12.408Z"
   },
   {
    "duration": 8,
    "start_time": "2022-08-12T19:22:12.420Z"
   },
   {
    "duration": 1744,
    "start_time": "2022-08-12T19:22:12.429Z"
   },
   {
    "duration": 1805,
    "start_time": "2022-08-12T19:22:14.176Z"
   },
   {
    "duration": 1712,
    "start_time": "2022-08-12T19:22:15.982Z"
   },
   {
    "duration": 7,
    "start_time": "2022-08-12T19:22:17.703Z"
   },
   {
    "duration": 9,
    "start_time": "2022-08-12T19:22:17.711Z"
   },
   {
    "duration": 5,
    "start_time": "2022-08-12T19:22:17.721Z"
   },
   {
    "duration": 1964,
    "start_time": "2022-08-12T19:27:41.230Z"
   },
   {
    "duration": 1695,
    "start_time": "2022-08-12T19:31:27.929Z"
   },
   {
    "duration": 209,
    "start_time": "2022-08-12T19:38:57.044Z"
   },
   {
    "duration": 210,
    "start_time": "2022-08-12T19:40:02.923Z"
   },
   {
    "duration": 236,
    "start_time": "2022-08-12T19:40:17.389Z"
   },
   {
    "duration": 230,
    "start_time": "2022-08-12T19:40:29.254Z"
   },
   {
    "duration": 295,
    "start_time": "2022-08-12T19:41:27.782Z"
   },
   {
    "duration": 432,
    "start_time": "2022-08-12T19:42:45.080Z"
   },
   {
    "duration": 727,
    "start_time": "2022-08-12T19:42:55.863Z"
   },
   {
    "duration": 643,
    "start_time": "2022-08-12T19:43:36.293Z"
   },
   {
    "duration": 278,
    "start_time": "2022-08-12T19:43:54.310Z"
   },
   {
    "duration": 484,
    "start_time": "2022-08-12T19:44:26.031Z"
   },
   {
    "duration": 235,
    "start_time": "2022-08-12T19:45:28.876Z"
   },
   {
    "duration": 239,
    "start_time": "2022-08-12T19:45:35.058Z"
   },
   {
    "duration": 247,
    "start_time": "2022-08-12T19:46:17.198Z"
   },
   {
    "duration": 267,
    "start_time": "2022-08-12T19:46:29.142Z"
   },
   {
    "duration": 250,
    "start_time": "2022-08-12T19:46:38.911Z"
   },
   {
    "duration": 263,
    "start_time": "2022-08-12T19:47:21.175Z"
   },
   {
    "duration": 457,
    "start_time": "2022-08-12T19:48:15.076Z"
   },
   {
    "duration": 1410,
    "start_time": "2022-08-12T19:48:39.460Z"
   },
   {
    "duration": 3,
    "start_time": "2022-08-12T19:48:40.871Z"
   },
   {
    "duration": 7,
    "start_time": "2022-08-12T19:48:40.875Z"
   },
   {
    "duration": 349,
    "start_time": "2022-08-12T19:48:40.883Z"
   },
   {
    "duration": 163,
    "start_time": "2022-08-12T19:48:41.234Z"
   },
   {
    "duration": 106,
    "start_time": "2022-08-12T19:48:41.413Z"
   },
   {
    "duration": 36,
    "start_time": "2022-08-12T19:48:41.522Z"
   },
   {
    "duration": 400,
    "start_time": "2022-08-12T19:48:41.560Z"
   },
   {
    "duration": 157,
    "start_time": "2022-08-12T19:48:41.962Z"
   },
   {
    "duration": 15,
    "start_time": "2022-08-12T19:48:42.121Z"
   },
   {
    "duration": 16,
    "start_time": "2022-08-12T19:48:42.138Z"
   },
   {
    "duration": 9,
    "start_time": "2022-08-12T19:48:42.156Z"
   },
   {
    "duration": 2160,
    "start_time": "2022-08-12T19:48:42.166Z"
   },
   {
    "duration": 2043,
    "start_time": "2022-08-12T19:48:44.329Z"
   },
   {
    "duration": 2095,
    "start_time": "2022-08-12T19:48:46.373Z"
   },
   {
    "duration": 2177,
    "start_time": "2022-08-12T19:48:48.470Z"
   },
   {
    "duration": 298,
    "start_time": "2022-08-12T19:48:50.649Z"
   },
   {
    "duration": 2,
    "start_time": "2022-08-12T19:48:50.949Z"
   },
   {
    "duration": 4,
    "start_time": "2022-08-12T19:50:33.657Z"
   },
   {
    "duration": 6,
    "start_time": "2022-08-12T19:50:50.438Z"
   },
   {
    "duration": 5,
    "start_time": "2022-08-12T19:52:33.265Z"
   },
   {
    "duration": 6,
    "start_time": "2022-08-12T19:52:44.929Z"
   },
   {
    "duration": 151,
    "start_time": "2022-08-12T19:52:58.561Z"
   },
   {
    "duration": 6,
    "start_time": "2022-08-12T19:53:27.182Z"
   },
   {
    "duration": 8,
    "start_time": "2022-08-12T19:53:32.690Z"
   },
   {
    "duration": 56,
    "start_time": "2022-08-12T20:00:00.975Z"
   },
   {
    "duration": 50,
    "start_time": "2022-08-12T20:00:44.111Z"
   },
   {
    "duration": 58,
    "start_time": "2022-08-12T20:01:20.164Z"
   },
   {
    "duration": 6,
    "start_time": "2022-08-12T20:02:44.317Z"
   },
   {
    "duration": 129,
    "start_time": "2022-08-12T20:02:59.027Z"
   },
   {
    "duration": 4,
    "start_time": "2022-08-12T20:03:11.092Z"
   },
   {
    "duration": 6,
    "start_time": "2022-08-12T20:03:19.874Z"
   },
   {
    "duration": 45,
    "start_time": "2022-08-12T20:03:27.721Z"
   },
   {
    "duration": 5,
    "start_time": "2022-08-12T20:04:21.332Z"
   },
   {
    "duration": 50,
    "start_time": "2022-08-12T20:04:27.818Z"
   },
   {
    "duration": 5,
    "start_time": "2022-08-12T20:04:35.226Z"
   },
   {
    "duration": 5,
    "start_time": "2022-08-12T20:04:44.482Z"
   },
   {
    "duration": 5,
    "start_time": "2022-08-12T20:04:53.141Z"
   },
   {
    "duration": 8,
    "start_time": "2022-08-12T20:05:10.910Z"
   },
   {
    "duration": 5,
    "start_time": "2022-08-12T20:05:19.780Z"
   },
   {
    "duration": 8,
    "start_time": "2022-08-12T20:09:13.525Z"
   },
   {
    "duration": 12,
    "start_time": "2022-08-12T20:09:14.035Z"
   },
   {
    "duration": 10,
    "start_time": "2022-08-12T20:09:36.493Z"
   },
   {
    "duration": 7,
    "start_time": "2022-08-12T20:09:48.462Z"
   },
   {
    "duration": 8,
    "start_time": "2022-08-12T20:10:05.459Z"
   },
   {
    "duration": 1521,
    "start_time": "2022-08-12T20:13:43.926Z"
   },
   {
    "duration": 2,
    "start_time": "2022-08-12T20:13:45.449Z"
   },
   {
    "duration": 6,
    "start_time": "2022-08-12T20:13:45.453Z"
   },
   {
    "duration": 379,
    "start_time": "2022-08-12T20:13:45.460Z"
   },
   {
    "duration": 163,
    "start_time": "2022-08-12T20:13:45.842Z"
   },
   {
    "duration": 124,
    "start_time": "2022-08-12T20:13:46.013Z"
   },
   {
    "duration": 36,
    "start_time": "2022-08-12T20:13:46.140Z"
   },
   {
    "duration": 411,
    "start_time": "2022-08-12T20:13:46.178Z"
   },
   {
    "duration": 149,
    "start_time": "2022-08-12T20:13:46.590Z"
   },
   {
    "duration": 15,
    "start_time": "2022-08-12T20:13:46.741Z"
   },
   {
    "duration": 13,
    "start_time": "2022-08-12T20:13:46.758Z"
   },
   {
    "duration": 10,
    "start_time": "2022-08-12T20:13:46.773Z"
   },
   {
    "duration": 2268,
    "start_time": "2022-08-12T20:13:46.785Z"
   },
   {
    "duration": 2207,
    "start_time": "2022-08-12T20:13:49.056Z"
   },
   {
    "duration": 2205,
    "start_time": "2022-08-12T20:13:51.265Z"
   },
   {
    "duration": 2345,
    "start_time": "2022-08-12T20:13:53.472Z"
   },
   {
    "duration": 322,
    "start_time": "2022-08-12T20:13:55.819Z"
   },
   {
    "duration": 6,
    "start_time": "2022-08-12T20:13:56.144Z"
   },
   {
    "duration": 9,
    "start_time": "2022-08-12T20:13:56.152Z"
   },
   {
    "duration": 9,
    "start_time": "2022-08-12T20:13:56.163Z"
   },
   {
    "duration": 3,
    "start_time": "2022-08-12T20:23:43.545Z"
   },
   {
    "duration": 48,
    "start_time": "2022-08-12T20:26:18.640Z"
   },
   {
    "duration": 51,
    "start_time": "2022-08-12T20:26:36.137Z"
   },
   {
    "duration": 567,
    "start_time": "2022-08-12T20:26:48.407Z"
   },
   {
    "duration": 732,
    "start_time": "2022-08-12T20:27:00.214Z"
   },
   {
    "duration": 260,
    "start_time": "2022-08-12T20:28:01.838Z"
   },
   {
    "duration": 985,
    "start_time": "2022-08-12T20:28:59.592Z"
   },
   {
    "duration": 3,
    "start_time": "2022-08-12T20:30:22.265Z"
   },
   {
    "duration": 916,
    "start_time": "2022-08-12T20:30:25.888Z"
   },
   {
    "duration": 9,
    "start_time": "2022-08-12T20:30:35.964Z"
   },
   {
    "duration": 67,
    "start_time": "2022-08-12T20:31:18.384Z"
   },
   {
    "duration": 920,
    "start_time": "2022-08-12T20:32:34.947Z"
   },
   {
    "duration": 1072,
    "start_time": "2022-08-12T20:33:28.621Z"
   },
   {
    "duration": 1195,
    "start_time": "2022-08-12T20:36:22.042Z"
   },
   {
    "duration": 7,
    "start_time": "2022-08-12T20:36:30.326Z"
   },
   {
    "duration": 6,
    "start_time": "2022-08-12T20:36:49.782Z"
   },
   {
    "duration": 740,
    "start_time": "2022-08-12T20:36:55.934Z"
   },
   {
    "duration": 1065,
    "start_time": "2022-08-12T20:37:42.848Z"
   },
   {
    "duration": 5,
    "start_time": "2022-08-12T20:37:48.838Z"
   },
   {
    "duration": 2,
    "start_time": "2022-08-12T20:37:49.741Z"
   },
   {
    "duration": 687,
    "start_time": "2022-08-12T20:37:50.423Z"
   },
   {
    "duration": 1040,
    "start_time": "2022-08-12T20:39:37.993Z"
   },
   {
    "duration": 6,
    "start_time": "2022-08-12T20:39:45.063Z"
   },
   {
    "duration": 687,
    "start_time": "2022-08-12T20:39:56.538Z"
   },
   {
    "duration": 80,
    "start_time": "2022-08-12T20:40:18.167Z"
   },
   {
    "duration": 925,
    "start_time": "2022-08-12T20:40:37.981Z"
   },
   {
    "duration": 90,
    "start_time": "2022-08-12T20:41:15.472Z"
   },
   {
    "duration": 89,
    "start_time": "2022-08-12T20:41:27.571Z"
   },
   {
    "duration": 93,
    "start_time": "2022-08-12T20:41:50.865Z"
   },
   {
    "duration": 1064,
    "start_time": "2022-08-12T20:42:28.719Z"
   },
   {
    "duration": 84,
    "start_time": "2022-08-12T20:44:53.581Z"
   },
   {
    "duration": 1046,
    "start_time": "2022-08-12T20:45:22.119Z"
   },
   {
    "duration": 1120,
    "start_time": "2022-08-12T20:46:00.455Z"
   },
   {
    "duration": 999,
    "start_time": "2022-08-12T20:46:19.175Z"
   },
   {
    "duration": 1224,
    "start_time": "2022-08-12T20:46:24.695Z"
   },
   {
    "duration": 45,
    "start_time": "2022-08-12T20:46:43.646Z"
   },
   {
    "duration": 1214,
    "start_time": "2022-08-12T20:46:50.109Z"
   },
   {
    "duration": 1003,
    "start_time": "2022-08-12T20:46:56.375Z"
   },
   {
    "duration": 5,
    "start_time": "2022-08-12T20:47:19.315Z"
   },
   {
    "duration": 6,
    "start_time": "2022-08-12T20:47:24.195Z"
   },
   {
    "duration": 956,
    "start_time": "2022-08-12T20:48:59.487Z"
   },
   {
    "duration": 1300,
    "start_time": "2022-08-12T20:49:12.857Z"
   },
   {
    "duration": 2002,
    "start_time": "2022-08-12T20:49:32.156Z"
   },
   {
    "duration": 477,
    "start_time": "2022-08-12T20:49:59.146Z"
   },
   {
    "duration": 706,
    "start_time": "2022-08-12T20:50:07.055Z"
   },
   {
    "duration": 948,
    "start_time": "2022-08-12T20:50:13.836Z"
   },
   {
    "duration": 179,
    "start_time": "2022-08-12T20:53:15.846Z"
   },
   {
    "duration": 7,
    "start_time": "2022-08-12T20:53:23.732Z"
   },
   {
    "duration": 6,
    "start_time": "2022-08-12T20:54:47.571Z"
   },
   {
    "duration": 7,
    "start_time": "2022-08-12T20:55:04.442Z"
   },
   {
    "duration": 1397,
    "start_time": "2022-08-12T20:55:27.663Z"
   },
   {
    "duration": 3,
    "start_time": "2022-08-12T20:55:29.062Z"
   },
   {
    "duration": 21,
    "start_time": "2022-08-12T20:55:29.066Z"
   },
   {
    "duration": 295,
    "start_time": "2022-08-12T20:55:29.089Z"
   },
   {
    "duration": 148,
    "start_time": "2022-08-12T20:55:29.386Z"
   },
   {
    "duration": 91,
    "start_time": "2022-08-12T20:55:29.535Z"
   },
   {
    "duration": 50,
    "start_time": "2022-08-12T20:55:29.628Z"
   },
   {
    "duration": 372,
    "start_time": "2022-08-12T20:55:29.698Z"
   },
   {
    "duration": 126,
    "start_time": "2022-08-12T20:55:30.072Z"
   },
   {
    "duration": 13,
    "start_time": "2022-08-12T20:55:30.201Z"
   },
   {
    "duration": 57,
    "start_time": "2022-08-12T20:55:30.216Z"
   },
   {
    "duration": 47,
    "start_time": "2022-08-12T20:55:30.275Z"
   },
   {
    "duration": 2050,
    "start_time": "2022-08-12T20:55:30.324Z"
   },
   {
    "duration": 1839,
    "start_time": "2022-08-12T20:55:32.376Z"
   },
   {
    "duration": 2117,
    "start_time": "2022-08-12T20:55:34.217Z"
   },
   {
    "duration": 2110,
    "start_time": "2022-08-12T20:55:36.336Z"
   },
   {
    "duration": 261,
    "start_time": "2022-08-12T20:55:38.447Z"
   },
   {
    "duration": 5,
    "start_time": "2022-08-12T20:55:38.710Z"
   },
   {
    "duration": 8,
    "start_time": "2022-08-12T20:55:38.717Z"
   },
   {
    "duration": 811,
    "start_time": "2022-08-12T20:55:38.727Z"
   },
   {
    "duration": 6,
    "start_time": "2022-08-12T20:55:39.539Z"
   },
   {
    "duration": 8,
    "start_time": "2022-08-12T20:55:39.546Z"
   },
   {
    "duration": 3,
    "start_time": "2022-08-12T20:55:39.555Z"
   },
   {
    "duration": 3,
    "start_time": "2022-08-12T20:55:39.560Z"
   },
   {
    "duration": 1625,
    "start_time": "2022-08-13T09:15:56.323Z"
   },
   {
    "duration": 3,
    "start_time": "2022-08-13T09:15:57.950Z"
   },
   {
    "duration": 7,
    "start_time": "2022-08-13T09:15:57.955Z"
   },
   {
    "duration": 971,
    "start_time": "2022-08-13T09:15:57.963Z"
   },
   {
    "duration": 158,
    "start_time": "2022-08-13T09:15:58.937Z"
   },
   {
    "duration": 480,
    "start_time": "2022-08-13T09:15:59.096Z"
   },
   {
    "duration": 44,
    "start_time": "2022-08-13T09:15:59.578Z"
   },
   {
    "duration": 2061,
    "start_time": "2022-08-13T09:15:59.624Z"
   },
   {
    "duration": 155,
    "start_time": "2022-08-13T09:16:01.688Z"
   },
   {
    "duration": 18,
    "start_time": "2022-08-13T09:16:01.844Z"
   },
   {
    "duration": 31,
    "start_time": "2022-08-13T09:16:01.864Z"
   },
   {
    "duration": 13,
    "start_time": "2022-08-13T09:16:01.897Z"
   },
   {
    "duration": 1990,
    "start_time": "2022-08-13T09:16:01.912Z"
   },
   {
    "duration": 1750,
    "start_time": "2022-08-13T09:16:03.904Z"
   },
   {
    "duration": 2104,
    "start_time": "2022-08-13T09:16:05.655Z"
   },
   {
    "duration": 2013,
    "start_time": "2022-08-13T09:16:07.761Z"
   },
   {
    "duration": 294,
    "start_time": "2022-08-13T09:16:09.776Z"
   },
   {
    "duration": 5,
    "start_time": "2022-08-13T09:16:10.072Z"
   },
   {
    "duration": 10,
    "start_time": "2022-08-13T09:16:10.079Z"
   },
   {
    "duration": 997,
    "start_time": "2022-08-13T09:16:10.091Z"
   },
   {
    "duration": 6,
    "start_time": "2022-08-13T09:16:11.090Z"
   },
   {
    "duration": 21,
    "start_time": "2022-08-13T09:16:11.097Z"
   },
   {
    "duration": 6,
    "start_time": "2022-08-13T09:16:11.121Z"
   },
   {
    "duration": 4,
    "start_time": "2022-08-13T09:16:11.128Z"
   },
   {
    "duration": 962,
    "start_time": "2022-08-13T09:23:04.489Z"
   },
   {
    "duration": 5,
    "start_time": "2022-08-13T09:23:16.767Z"
   },
   {
    "duration": 6,
    "start_time": "2022-08-13T09:23:35.838Z"
   },
   {
    "duration": 16,
    "start_time": "2022-08-13T09:23:49.602Z"
   },
   {
    "duration": 1137,
    "start_time": "2022-08-13T09:24:17.145Z"
   },
   {
    "duration": 5,
    "start_time": "2022-08-13T09:24:18.284Z"
   },
   {
    "duration": 9,
    "start_time": "2022-08-13T09:24:18.432Z"
   },
   {
    "duration": 12,
    "start_time": "2022-08-13T09:24:20.563Z"
   },
   {
    "duration": 5,
    "start_time": "2022-08-13T09:24:23.569Z"
   },
   {
    "duration": 12,
    "start_time": "2022-08-13T09:24:46.962Z"
   },
   {
    "duration": 1060,
    "start_time": "2022-08-13T09:24:59.499Z"
   },
   {
    "duration": 5,
    "start_time": "2022-08-13T09:25:00.561Z"
   },
   {
    "duration": 5,
    "start_time": "2022-08-13T09:25:00.583Z"
   },
   {
    "duration": 14,
    "start_time": "2022-08-13T09:25:01.190Z"
   },
   {
    "duration": 204,
    "start_time": "2022-08-13T10:04:20.722Z"
   },
   {
    "duration": 80,
    "start_time": "2022-08-13T10:05:51.485Z"
   },
   {
    "duration": 122,
    "start_time": "2022-08-13T10:06:00.519Z"
   },
   {
    "duration": 7,
    "start_time": "2022-08-13T10:06:59.002Z"
   },
   {
    "duration": 3,
    "start_time": "2022-08-13T10:07:03.301Z"
   },
   {
    "duration": 4,
    "start_time": "2022-08-13T10:07:58.731Z"
   },
   {
    "duration": 15,
    "start_time": "2022-08-13T10:08:05.928Z"
   },
   {
    "duration": 4,
    "start_time": "2022-08-13T10:08:11.122Z"
   },
   {
    "duration": 4,
    "start_time": "2022-08-13T10:25:31.708Z"
   },
   {
    "duration": 10,
    "start_time": "2022-08-13T10:38:23.814Z"
   },
   {
    "duration": 3127,
    "start_time": "2022-08-13T10:45:15.917Z"
   },
   {
    "duration": 14,
    "start_time": "2022-08-13T10:45:45.285Z"
   },
   {
    "duration": 67,
    "start_time": "2022-08-13T10:45:58.353Z"
   },
   {
    "duration": 19,
    "start_time": "2022-08-13T10:46:13.128Z"
   },
   {
    "duration": 16,
    "start_time": "2022-08-13T10:46:23.963Z"
   },
   {
    "duration": 19,
    "start_time": "2022-08-13T10:46:39.685Z"
   },
   {
    "duration": 17,
    "start_time": "2022-08-13T10:46:47.419Z"
   },
   {
    "duration": 16758,
    "start_time": "2022-08-13T10:46:59.857Z"
   },
   {
    "duration": 12,
    "start_time": "2022-08-13T10:50:49.547Z"
   },
   {
    "duration": 75,
    "start_time": "2022-08-13T10:51:23.586Z"
   },
   {
    "duration": 12,
    "start_time": "2022-08-13T10:52:41.015Z"
   },
   {
    "duration": 37,
    "start_time": "2022-08-13T10:54:21.249Z"
   },
   {
    "duration": 36,
    "start_time": "2022-08-13T10:54:59.876Z"
   },
   {
    "duration": 10,
    "start_time": "2022-08-13T10:57:09.167Z"
   },
   {
    "duration": 43,
    "start_time": "2022-08-13T10:57:14.534Z"
   },
   {
    "duration": 5,
    "start_time": "2022-08-13T10:57:18.160Z"
   },
   {
    "duration": 30,
    "start_time": "2022-08-13T10:58:22.362Z"
   },
   {
    "duration": 840,
    "start_time": "2022-08-13T10:58:29.917Z"
   },
   {
    "duration": 6,
    "start_time": "2022-08-13T10:58:30.759Z"
   },
   {
    "duration": 6,
    "start_time": "2022-08-13T10:58:31.119Z"
   },
   {
    "duration": 10,
    "start_time": "2022-08-13T10:58:32.495Z"
   },
   {
    "duration": 18,
    "start_time": "2022-08-13T10:59:16.891Z"
   },
   {
    "duration": 934,
    "start_time": "2022-08-13T10:59:20.699Z"
   },
   {
    "duration": 5,
    "start_time": "2022-08-13T10:59:21.635Z"
   },
   {
    "duration": 8,
    "start_time": "2022-08-13T10:59:21.642Z"
   },
   {
    "duration": 11,
    "start_time": "2022-08-13T10:59:22.270Z"
   },
   {
    "duration": 19,
    "start_time": "2022-08-13T10:59:22.927Z"
   },
   {
    "duration": 25,
    "start_time": "2022-08-13T10:59:56.263Z"
   },
   {
    "duration": 27,
    "start_time": "2022-08-13T11:00:03.680Z"
   },
   {
    "duration": 20,
    "start_time": "2022-08-13T11:00:04.375Z"
   },
   {
    "duration": 2421,
    "start_time": "2022-08-13T11:00:42.347Z"
   },
   {
    "duration": 2668,
    "start_time": "2022-08-13T11:00:55.569Z"
   },
   {
    "duration": 2507,
    "start_time": "2022-08-13T11:01:02.922Z"
   },
   {
    "duration": 6,
    "start_time": "2022-08-13T11:01:45.199Z"
   },
   {
    "duration": 325,
    "start_time": "2022-08-13T11:01:50.398Z"
   },
   {
    "duration": 180,
    "start_time": "2022-08-13T11:02:29.006Z"
   },
   {
    "duration": 1205,
    "start_time": "2022-08-13T11:03:37.053Z"
   },
   {
    "duration": 33,
    "start_time": "2022-08-13T11:03:57.194Z"
   },
   {
    "duration": 336,
    "start_time": "2022-08-13T11:04:01.076Z"
   },
   {
    "duration": 114,
    "start_time": "2022-08-13T11:04:12.206Z"
   },
   {
    "duration": 14275,
    "start_time": "2022-08-13T11:04:27.678Z"
   },
   {
    "duration": 9,
    "start_time": "2022-08-13T11:05:24.491Z"
   },
   {
    "duration": 1436,
    "start_time": "2022-08-13T11:06:06.006Z"
   },
   {
    "duration": 3,
    "start_time": "2022-08-13T11:06:07.444Z"
   },
   {
    "duration": 8,
    "start_time": "2022-08-13T11:06:07.448Z"
   },
   {
    "duration": 308,
    "start_time": "2022-08-13T11:06:07.458Z"
   },
   {
    "duration": 153,
    "start_time": "2022-08-13T11:06:07.767Z"
   },
   {
    "duration": 100,
    "start_time": "2022-08-13T11:06:07.921Z"
   },
   {
    "duration": 33,
    "start_time": "2022-08-13T11:06:08.022Z"
   },
   {
    "duration": 378,
    "start_time": "2022-08-13T11:06:08.057Z"
   },
   {
    "duration": 128,
    "start_time": "2022-08-13T11:06:08.436Z"
   },
   {
    "duration": 16,
    "start_time": "2022-08-13T11:06:08.567Z"
   },
   {
    "duration": 25,
    "start_time": "2022-08-13T11:06:08.586Z"
   },
   {
    "duration": 11,
    "start_time": "2022-08-13T11:06:08.613Z"
   },
   {
    "duration": 1832,
    "start_time": "2022-08-13T11:06:08.626Z"
   },
   {
    "duration": 1642,
    "start_time": "2022-08-13T11:06:10.460Z"
   },
   {
    "duration": 1809,
    "start_time": "2022-08-13T11:06:12.108Z"
   },
   {
    "duration": 1718,
    "start_time": "2022-08-13T11:06:13.919Z"
   },
   {
    "duration": 283,
    "start_time": "2022-08-13T11:06:15.639Z"
   },
   {
    "duration": 6,
    "start_time": "2022-08-13T11:06:15.924Z"
   },
   {
    "duration": 12,
    "start_time": "2022-08-13T11:06:15.931Z"
   },
   {
    "duration": 865,
    "start_time": "2022-08-13T11:06:15.944Z"
   },
   {
    "duration": 5,
    "start_time": "2022-08-13T11:06:16.810Z"
   },
   {
    "duration": 7,
    "start_time": "2022-08-13T11:06:16.817Z"
   },
   {
    "duration": 28,
    "start_time": "2022-08-13T11:06:16.825Z"
   },
   {
    "duration": 3,
    "start_time": "2022-08-13T11:06:16.854Z"
   },
   {
    "duration": 15,
    "start_time": "2022-08-13T11:06:16.859Z"
   },
   {
    "duration": 8,
    "start_time": "2022-08-13T11:06:16.876Z"
   },
   {
    "duration": 115,
    "start_time": "2022-08-13T11:06:16.885Z"
   },
   {
    "duration": 2,
    "start_time": "2022-08-13T11:06:17.010Z"
   },
   {
    "duration": 34,
    "start_time": "2022-08-13T11:06:17.014Z"
   },
   {
    "duration": 12,
    "start_time": "2022-08-13T11:06:17.050Z"
   },
   {
    "duration": 103,
    "start_time": "2022-08-13T11:15:51.826Z"
   },
   {
    "duration": 6,
    "start_time": "2022-08-13T11:16:05.118Z"
   },
   {
    "duration": 48,
    "start_time": "2022-08-13T11:16:09.107Z"
   },
   {
    "duration": 10,
    "start_time": "2022-08-13T11:17:11.469Z"
   },
   {
    "duration": 6,
    "start_time": "2022-08-13T11:17:27.559Z"
   },
   {
    "duration": 24,
    "start_time": "2022-08-13T11:18:00.583Z"
   },
   {
    "duration": 39,
    "start_time": "2022-08-13T11:18:05.650Z"
   },
   {
    "duration": 34,
    "start_time": "2022-08-13T11:18:15.173Z"
   },
   {
    "duration": 9,
    "start_time": "2022-08-13T11:18:16.001Z"
   },
   {
    "duration": 9,
    "start_time": "2022-08-13T11:18:40.296Z"
   },
   {
    "duration": 32656,
    "start_time": "2022-08-13T11:26:50.367Z"
   },
   {
    "duration": 1606,
    "start_time": "2022-08-14T06:23:33.624Z"
   },
   {
    "duration": 3,
    "start_time": "2022-08-14T06:23:35.232Z"
   },
   {
    "duration": 947,
    "start_time": "2022-08-14T06:23:42.850Z"
   },
   {
    "duration": 4,
    "start_time": "2022-08-14T06:23:46.105Z"
   },
   {
    "duration": 312,
    "start_time": "2022-08-14T06:23:46.582Z"
   },
   {
    "duration": 127,
    "start_time": "2022-08-14T06:23:50.974Z"
   },
   {
    "duration": 481,
    "start_time": "2022-08-14T06:23:58.116Z"
   },
   {
    "duration": 40,
    "start_time": "2022-08-14T06:23:58.863Z"
   },
   {
    "duration": 2055,
    "start_time": "2022-08-14T06:24:04.028Z"
   },
   {
    "duration": 112,
    "start_time": "2022-08-14T06:24:06.085Z"
   },
   {
    "duration": 135,
    "start_time": "2022-08-14T06:24:06.199Z"
   },
   {
    "duration": 3,
    "start_time": "2022-08-14T06:25:32.130Z"
   },
   {
    "duration": 307,
    "start_time": "2022-08-14T06:25:32.556Z"
   },
   {
    "duration": 126,
    "start_time": "2022-08-14T06:25:32.889Z"
   },
   {
    "duration": 97,
    "start_time": "2022-08-14T06:25:33.074Z"
   },
   {
    "duration": 35,
    "start_time": "2022-08-14T06:25:33.233Z"
   },
   {
    "duration": 382,
    "start_time": "2022-08-14T06:25:33.390Z"
   },
   {
    "duration": 113,
    "start_time": "2022-08-14T06:25:33.773Z"
   },
   {
    "duration": 13,
    "start_time": "2022-08-14T06:25:33.887Z"
   },
   {
    "duration": 8,
    "start_time": "2022-08-14T06:25:33.972Z"
   },
   {
    "duration": 109,
    "start_time": "2022-08-14T06:26:36.970Z"
   },
   {
    "duration": 19,
    "start_time": "2022-08-14T06:26:46.566Z"
   },
   {
    "duration": 22,
    "start_time": "2022-08-14T06:36:38.961Z"
   },
   {
    "duration": 7,
    "start_time": "2022-08-14T06:37:48.502Z"
   },
   {
    "duration": 8,
    "start_time": "2022-08-14T06:37:53.913Z"
   },
   {
    "duration": 1424,
    "start_time": "2022-08-14T06:37:59.726Z"
   },
   {
    "duration": 2,
    "start_time": "2022-08-14T06:38:01.152Z"
   },
   {
    "duration": 14,
    "start_time": "2022-08-14T06:38:01.156Z"
   },
   {
    "duration": 319,
    "start_time": "2022-08-14T06:38:01.172Z"
   },
   {
    "duration": 138,
    "start_time": "2022-08-14T06:38:01.493Z"
   },
   {
    "duration": 97,
    "start_time": "2022-08-14T06:38:01.637Z"
   },
   {
    "duration": 37,
    "start_time": "2022-08-14T06:38:01.735Z"
   },
   {
    "duration": 409,
    "start_time": "2022-08-14T06:38:01.774Z"
   },
   {
    "duration": 106,
    "start_time": "2022-08-14T06:38:02.185Z"
   },
   {
    "duration": 20,
    "start_time": "2022-08-14T06:38:02.293Z"
   },
   {
    "duration": 7,
    "start_time": "2022-08-14T06:38:02.314Z"
   },
   {
    "duration": 30,
    "start_time": "2022-08-14T06:38:02.322Z"
   },
   {
    "duration": 115122,
    "start_time": "2022-08-14T06:38:02.353Z"
   },
   {
    "duration": 0,
    "start_time": "2022-08-14T06:39:57.477Z"
   },
   {
    "duration": 0,
    "start_time": "2022-08-14T06:39:57.479Z"
   },
   {
    "duration": 0,
    "start_time": "2022-08-14T06:39:57.479Z"
   },
   {
    "duration": 0,
    "start_time": "2022-08-14T06:39:57.480Z"
   },
   {
    "duration": 0,
    "start_time": "2022-08-14T06:39:57.481Z"
   },
   {
    "duration": 0,
    "start_time": "2022-08-14T06:39:57.482Z"
   },
   {
    "duration": 0,
    "start_time": "2022-08-14T06:39:57.483Z"
   },
   {
    "duration": 0,
    "start_time": "2022-08-14T06:39:57.484Z"
   },
   {
    "duration": 0,
    "start_time": "2022-08-14T06:39:57.485Z"
   },
   {
    "duration": 0,
    "start_time": "2022-08-14T06:39:57.486Z"
   },
   {
    "duration": 0,
    "start_time": "2022-08-14T06:39:57.488Z"
   },
   {
    "duration": 0,
    "start_time": "2022-08-14T06:39:57.489Z"
   },
   {
    "duration": 0,
    "start_time": "2022-08-14T06:39:57.490Z"
   },
   {
    "duration": 0,
    "start_time": "2022-08-14T06:39:57.491Z"
   },
   {
    "duration": 0,
    "start_time": "2022-08-14T06:39:57.492Z"
   },
   {
    "duration": 0,
    "start_time": "2022-08-14T06:39:57.493Z"
   },
   {
    "duration": 0,
    "start_time": "2022-08-14T06:39:57.494Z"
   },
   {
    "duration": 0,
    "start_time": "2022-08-14T06:39:57.495Z"
   },
   {
    "duration": 0,
    "start_time": "2022-08-14T06:39:57.496Z"
   },
   {
    "duration": 156,
    "start_time": "2022-08-14T06:40:03.734Z"
   },
   {
    "duration": 149,
    "start_time": "2022-08-14T06:40:16.991Z"
   },
   {
    "duration": 146,
    "start_time": "2022-08-14T06:40:38.214Z"
   },
   {
    "duration": 160,
    "start_time": "2022-08-14T06:40:38.754Z"
   },
   {
    "duration": 160,
    "start_time": "2022-08-14T06:40:39.299Z"
   },
   {
    "duration": 158,
    "start_time": "2022-08-14T06:40:39.968Z"
   },
   {
    "duration": 55,
    "start_time": "2022-08-14T07:30:39.951Z"
   },
   {
    "duration": 45,
    "start_time": "2022-08-14T07:30:45.911Z"
   },
   {
    "duration": 92,
    "start_time": "2022-08-14T07:31:15.875Z"
   },
   {
    "duration": 1355,
    "start_time": "2022-08-14T07:31:39.056Z"
   },
   {
    "duration": 3,
    "start_time": "2022-08-14T07:31:40.413Z"
   },
   {
    "duration": 7,
    "start_time": "2022-08-14T07:31:40.417Z"
   },
   {
    "duration": 298,
    "start_time": "2022-08-14T07:31:40.426Z"
   },
   {
    "duration": 134,
    "start_time": "2022-08-14T07:31:40.726Z"
   },
   {
    "duration": 90,
    "start_time": "2022-08-14T07:31:40.861Z"
   },
   {
    "duration": 29,
    "start_time": "2022-08-14T07:31:40.953Z"
   },
   {
    "duration": 365,
    "start_time": "2022-08-14T07:31:40.983Z"
   },
   {
    "duration": 115,
    "start_time": "2022-08-14T07:31:41.350Z"
   },
   {
    "duration": 21,
    "start_time": "2022-08-14T07:31:41.467Z"
   },
   {
    "duration": 51,
    "start_time": "2022-08-14T07:31:41.489Z"
   },
   {
    "duration": 25,
    "start_time": "2022-08-14T07:31:41.541Z"
   },
   {
    "duration": 71,
    "start_time": "2022-08-14T07:31:41.568Z"
   },
   {
    "duration": 0,
    "start_time": "2022-08-14T07:31:41.641Z"
   },
   {
    "duration": 0,
    "start_time": "2022-08-14T07:31:41.642Z"
   },
   {
    "duration": 0,
    "start_time": "2022-08-14T07:31:41.643Z"
   },
   {
    "duration": 0,
    "start_time": "2022-08-14T07:31:41.644Z"
   },
   {
    "duration": 0,
    "start_time": "2022-08-14T07:31:41.645Z"
   },
   {
    "duration": 0,
    "start_time": "2022-08-14T07:31:41.646Z"
   },
   {
    "duration": 0,
    "start_time": "2022-08-14T07:31:41.647Z"
   },
   {
    "duration": 0,
    "start_time": "2022-08-14T07:31:41.648Z"
   },
   {
    "duration": 0,
    "start_time": "2022-08-14T07:31:41.649Z"
   },
   {
    "duration": 0,
    "start_time": "2022-08-14T07:31:41.650Z"
   },
   {
    "duration": 0,
    "start_time": "2022-08-14T07:31:41.651Z"
   },
   {
    "duration": 0,
    "start_time": "2022-08-14T07:31:41.652Z"
   },
   {
    "duration": 0,
    "start_time": "2022-08-14T07:31:41.653Z"
   },
   {
    "duration": 0,
    "start_time": "2022-08-14T07:31:41.654Z"
   },
   {
    "duration": 0,
    "start_time": "2022-08-14T07:31:41.655Z"
   },
   {
    "duration": 0,
    "start_time": "2022-08-14T07:31:41.657Z"
   },
   {
    "duration": 0,
    "start_time": "2022-08-14T07:31:41.657Z"
   },
   {
    "duration": 0,
    "start_time": "2022-08-14T07:31:41.658Z"
   },
   {
    "duration": 0,
    "start_time": "2022-08-14T07:31:41.660Z"
   },
   {
    "duration": 46,
    "start_time": "2022-08-14T07:32:06.308Z"
   },
   {
    "duration": 49,
    "start_time": "2022-08-14T07:32:10.887Z"
   },
   {
    "duration": 68,
    "start_time": "2022-08-14T07:32:25.308Z"
   },
   {
    "duration": 98,
    "start_time": "2022-08-14T07:32:29.885Z"
   },
   {
    "duration": 67,
    "start_time": "2022-08-14T07:32:44.989Z"
   },
   {
    "duration": 44,
    "start_time": "2022-08-14T07:32:55.428Z"
   },
   {
    "duration": 42,
    "start_time": "2022-08-14T07:33:27.900Z"
   },
   {
    "duration": 54,
    "start_time": "2022-08-14T07:33:36.983Z"
   },
   {
    "duration": 156,
    "start_time": "2022-08-14T07:33:37.931Z"
   },
   {
    "duration": 159,
    "start_time": "2022-08-14T07:33:38.609Z"
   },
   {
    "duration": 47,
    "start_time": "2022-08-14T07:33:49.480Z"
   },
   {
    "duration": 48,
    "start_time": "2022-08-14T07:33:56.187Z"
   },
   {
    "duration": 211,
    "start_time": "2022-08-14T07:34:08.369Z"
   },
   {
    "duration": 149,
    "start_time": "2022-08-14T07:34:49.467Z"
   },
   {
    "duration": 101,
    "start_time": "2022-08-14T07:37:04.097Z"
   },
   {
    "duration": 151,
    "start_time": "2022-08-14T07:37:21.807Z"
   },
   {
    "duration": 154,
    "start_time": "2022-08-14T07:37:55.767Z"
   },
   {
    "duration": 23,
    "start_time": "2022-08-14T07:38:34.868Z"
   },
   {
    "duration": 160,
    "start_time": "2022-08-14T07:38:55.616Z"
   },
   {
    "duration": 152,
    "start_time": "2022-08-14T07:39:58.650Z"
   },
   {
    "duration": 162,
    "start_time": "2022-08-14T07:41:13.998Z"
   },
   {
    "duration": 194,
    "start_time": "2022-08-14T07:42:39.022Z"
   },
   {
    "duration": 172,
    "start_time": "2022-08-14T07:42:48.997Z"
   },
   {
    "duration": 164,
    "start_time": "2022-08-14T07:44:13.616Z"
   },
   {
    "duration": 969,
    "start_time": "2022-08-14T07:44:39.056Z"
   },
   {
    "duration": 371,
    "start_time": "2022-08-14T07:44:50.764Z"
   },
   {
    "duration": 1394,
    "start_time": "2022-08-14T07:45:45.828Z"
   },
   {
    "duration": 3,
    "start_time": "2022-08-14T07:45:47.224Z"
   },
   {
    "duration": 9,
    "start_time": "2022-08-14T07:45:47.228Z"
   },
   {
    "duration": 318,
    "start_time": "2022-08-14T07:45:47.238Z"
   },
   {
    "duration": 134,
    "start_time": "2022-08-14T07:45:47.558Z"
   },
   {
    "duration": 92,
    "start_time": "2022-08-14T07:45:47.697Z"
   },
   {
    "duration": 28,
    "start_time": "2022-08-14T07:45:47.791Z"
   },
   {
    "duration": 363,
    "start_time": "2022-08-14T07:45:47.821Z"
   },
   {
    "duration": 111,
    "start_time": "2022-08-14T07:45:48.185Z"
   },
   {
    "duration": 21,
    "start_time": "2022-08-14T07:45:48.298Z"
   },
   {
    "duration": 22,
    "start_time": "2022-08-14T07:45:48.321Z"
   },
   {
    "duration": 10,
    "start_time": "2022-08-14T07:45:48.345Z"
   },
   {
    "duration": 115,
    "start_time": "2022-08-14T07:45:48.356Z"
   },
   {
    "duration": 0,
    "start_time": "2022-08-14T07:45:48.473Z"
   },
   {
    "duration": 0,
    "start_time": "2022-08-14T07:45:48.474Z"
   },
   {
    "duration": 0,
    "start_time": "2022-08-14T07:45:48.475Z"
   },
   {
    "duration": 0,
    "start_time": "2022-08-14T07:45:48.476Z"
   },
   {
    "duration": 0,
    "start_time": "2022-08-14T07:45:48.477Z"
   },
   {
    "duration": 0,
    "start_time": "2022-08-14T07:45:48.478Z"
   },
   {
    "duration": 0,
    "start_time": "2022-08-14T07:45:48.479Z"
   },
   {
    "duration": 0,
    "start_time": "2022-08-14T07:45:48.480Z"
   },
   {
    "duration": 0,
    "start_time": "2022-08-14T07:45:48.481Z"
   },
   {
    "duration": 0,
    "start_time": "2022-08-14T07:45:48.483Z"
   },
   {
    "duration": 0,
    "start_time": "2022-08-14T07:45:48.483Z"
   },
   {
    "duration": 0,
    "start_time": "2022-08-14T07:45:48.485Z"
   },
   {
    "duration": 0,
    "start_time": "2022-08-14T07:45:48.486Z"
   },
   {
    "duration": 0,
    "start_time": "2022-08-14T07:45:48.487Z"
   },
   {
    "duration": 0,
    "start_time": "2022-08-14T07:45:48.488Z"
   },
   {
    "duration": 0,
    "start_time": "2022-08-14T07:45:48.489Z"
   },
   {
    "duration": 0,
    "start_time": "2022-08-14T07:45:48.490Z"
   },
   {
    "duration": 0,
    "start_time": "2022-08-14T07:45:48.491Z"
   },
   {
    "duration": 0,
    "start_time": "2022-08-14T07:45:48.492Z"
   },
   {
    "duration": 1339,
    "start_time": "2022-08-14T07:46:03.744Z"
   },
   {
    "duration": 2,
    "start_time": "2022-08-14T07:46:05.085Z"
   },
   {
    "duration": 6,
    "start_time": "2022-08-14T07:46:05.089Z"
   },
   {
    "duration": 296,
    "start_time": "2022-08-14T07:46:05.098Z"
   },
   {
    "duration": 136,
    "start_time": "2022-08-14T07:46:05.396Z"
   },
   {
    "duration": 103,
    "start_time": "2022-08-14T07:46:05.538Z"
   },
   {
    "duration": 32,
    "start_time": "2022-08-14T07:46:05.642Z"
   },
   {
    "duration": 378,
    "start_time": "2022-08-14T07:46:05.675Z"
   },
   {
    "duration": 119,
    "start_time": "2022-08-14T07:46:06.054Z"
   },
   {
    "duration": 20,
    "start_time": "2022-08-14T07:46:06.175Z"
   },
   {
    "duration": 9,
    "start_time": "2022-08-14T07:46:06.196Z"
   },
   {
    "duration": 9,
    "start_time": "2022-08-14T07:46:06.206Z"
   },
   {
    "duration": 192,
    "start_time": "2022-08-14T07:46:06.216Z"
   },
   {
    "duration": 167,
    "start_time": "2022-08-14T07:46:06.410Z"
   },
   {
    "duration": 234,
    "start_time": "2022-08-14T07:46:06.578Z"
   },
   {
    "duration": 168,
    "start_time": "2022-08-14T07:46:06.813Z"
   },
   {
    "duration": 262,
    "start_time": "2022-08-14T07:46:06.983Z"
   },
   {
    "duration": 6,
    "start_time": "2022-08-14T07:46:07.247Z"
   },
   {
    "duration": 14,
    "start_time": "2022-08-14T07:46:07.254Z"
   },
   {
    "duration": 1201,
    "start_time": "2022-08-14T07:46:07.269Z"
   },
   {
    "duration": 5,
    "start_time": "2022-08-14T07:46:08.471Z"
   },
   {
    "duration": 62,
    "start_time": "2022-08-14T07:46:08.478Z"
   },
   {
    "duration": 101,
    "start_time": "2022-08-14T07:46:08.542Z"
   },
   {
    "duration": 30536,
    "start_time": "2022-08-14T07:46:08.645Z"
   },
   {
    "duration": 3,
    "start_time": "2022-08-14T07:46:39.183Z"
   },
   {
    "duration": 17,
    "start_time": "2022-08-14T07:46:39.187Z"
   },
   {
    "duration": 5,
    "start_time": "2022-08-14T07:46:39.205Z"
   },
   {
    "duration": 3,
    "start_time": "2022-08-14T07:46:39.213Z"
   },
   {
    "duration": 5,
    "start_time": "2022-08-14T07:46:39.218Z"
   },
   {
    "duration": 1722,
    "start_time": "2022-08-14T07:46:39.224Z"
   },
   {
    "duration": 92,
    "start_time": "2022-08-14T07:46:40.948Z"
   },
   {
    "duration": 11,
    "start_time": "2022-08-14T07:46:41.042Z"
   },
   {
    "duration": 243,
    "start_time": "2022-08-14T07:48:24.331Z"
   },
   {
    "duration": 595,
    "start_time": "2022-08-14T07:51:48.168Z"
   },
   {
    "duration": 633,
    "start_time": "2022-08-14T07:52:01.164Z"
   },
   {
    "duration": 7,
    "start_time": "2022-08-14T07:52:16.772Z"
   },
   {
    "duration": 10,
    "start_time": "2022-08-14T07:52:17.919Z"
   },
   {
    "duration": 1049,
    "start_time": "2022-08-14T07:52:43.890Z"
   },
   {
    "duration": 645,
    "start_time": "2022-08-14T07:53:27.553Z"
   },
   {
    "duration": 606,
    "start_time": "2022-08-14T07:53:37.226Z"
   },
   {
    "duration": 618,
    "start_time": "2022-08-14T07:53:54.847Z"
   },
   {
    "duration": 576,
    "start_time": "2022-08-14T07:54:39.101Z"
   },
   {
    "duration": 630,
    "start_time": "2022-08-14T07:54:49.650Z"
   },
   {
    "duration": 1249,
    "start_time": "2022-08-14T07:55:08.284Z"
   },
   {
    "duration": 685,
    "start_time": "2022-08-14T07:55:21.691Z"
   },
   {
    "duration": 704,
    "start_time": "2022-08-14T07:55:43.744Z"
   },
   {
    "duration": 723,
    "start_time": "2022-08-14T07:56:00.368Z"
   },
   {
    "duration": 471,
    "start_time": "2022-08-14T07:56:21.560Z"
   },
   {
    "duration": 635,
    "start_time": "2022-08-14T07:57:23.818Z"
   },
   {
    "duration": 247,
    "start_time": "2022-08-14T07:58:09.159Z"
   },
   {
    "duration": 476,
    "start_time": "2022-08-14T07:58:18.425Z"
   },
   {
    "duration": 545,
    "start_time": "2022-08-14T08:03:46.045Z"
   },
   {
    "duration": 479,
    "start_time": "2022-08-14T08:04:03.655Z"
   },
   {
    "duration": 251,
    "start_time": "2022-08-14T08:04:31.548Z"
   },
   {
    "duration": 278,
    "start_time": "2022-08-14T08:04:44.006Z"
   },
   {
    "duration": 621,
    "start_time": "2022-08-14T08:05:53.399Z"
   },
   {
    "duration": 453,
    "start_time": "2022-08-14T08:09:14.714Z"
   },
   {
    "duration": 10,
    "start_time": "2022-08-14T08:10:50.866Z"
   },
   {
    "duration": 6,
    "start_time": "2022-08-14T08:10:53.521Z"
   },
   {
    "duration": 9,
    "start_time": "2022-08-14T08:10:55.103Z"
   },
   {
    "duration": 9,
    "start_time": "2022-08-14T08:11:10.653Z"
   },
   {
    "duration": 5,
    "start_time": "2022-08-14T08:11:31.564Z"
   },
   {
    "duration": 9,
    "start_time": "2022-08-14T08:11:32.248Z"
   },
   {
    "duration": 9,
    "start_time": "2022-08-14T08:11:56.422Z"
   },
   {
    "duration": 342,
    "start_time": "2022-08-14T08:12:37.187Z"
   },
   {
    "duration": 532,
    "start_time": "2022-08-14T08:12:48.860Z"
   },
   {
    "duration": 1346,
    "start_time": "2022-08-14T08:13:05.077Z"
   },
   {
    "duration": 3,
    "start_time": "2022-08-14T08:13:06.425Z"
   },
   {
    "duration": 11,
    "start_time": "2022-08-14T08:13:06.430Z"
   },
   {
    "duration": 311,
    "start_time": "2022-08-14T08:13:06.443Z"
   },
   {
    "duration": 154,
    "start_time": "2022-08-14T08:13:06.756Z"
   },
   {
    "duration": 96,
    "start_time": "2022-08-14T08:13:06.912Z"
   },
   {
    "duration": 37,
    "start_time": "2022-08-14T08:13:07.010Z"
   },
   {
    "duration": 375,
    "start_time": "2022-08-14T08:13:07.048Z"
   },
   {
    "duration": 117,
    "start_time": "2022-08-14T08:13:07.425Z"
   },
   {
    "duration": 22,
    "start_time": "2022-08-14T08:13:07.544Z"
   },
   {
    "duration": 9,
    "start_time": "2022-08-14T08:13:07.567Z"
   },
   {
    "duration": 9,
    "start_time": "2022-08-14T08:13:07.578Z"
   },
   {
    "duration": 224,
    "start_time": "2022-08-14T08:13:07.588Z"
   },
   {
    "duration": 179,
    "start_time": "2022-08-14T08:13:07.813Z"
   },
   {
    "duration": 252,
    "start_time": "2022-08-14T08:13:07.994Z"
   },
   {
    "duration": 176,
    "start_time": "2022-08-14T08:13:08.248Z"
   },
   {
    "duration": 576,
    "start_time": "2022-08-14T08:13:08.426Z"
   },
   {
    "duration": 14,
    "start_time": "2022-08-14T08:13:09.005Z"
   },
   {
    "duration": 22,
    "start_time": "2022-08-14T08:13:09.021Z"
   },
   {
    "duration": 19,
    "start_time": "2022-08-14T08:13:09.045Z"
   },
   {
    "duration": 396,
    "start_time": "2022-08-14T08:13:09.066Z"
   },
   {
    "duration": 994,
    "start_time": "2022-08-14T08:13:09.464Z"
   },
   {
    "duration": 6,
    "start_time": "2022-08-14T08:13:10.459Z"
   },
   {
    "duration": 16,
    "start_time": "2022-08-14T08:13:10.467Z"
   },
   {
    "duration": 39,
    "start_time": "2022-08-14T08:13:10.484Z"
   },
   {
    "duration": 31496,
    "start_time": "2022-08-14T08:13:10.525Z"
   },
   {
    "duration": 3,
    "start_time": "2022-08-14T08:13:42.022Z"
   },
   {
    "duration": 9,
    "start_time": "2022-08-14T08:13:42.028Z"
   },
   {
    "duration": 5,
    "start_time": "2022-08-14T08:13:42.038Z"
   },
   {
    "duration": 6,
    "start_time": "2022-08-14T08:13:42.044Z"
   },
   {
    "duration": 8,
    "start_time": "2022-08-14T08:13:42.051Z"
   },
   {
    "duration": 1880,
    "start_time": "2022-08-14T08:13:42.060Z"
   },
   {
    "duration": 98,
    "start_time": "2022-08-14T08:13:43.942Z"
   },
   {
    "duration": 17,
    "start_time": "2022-08-14T08:13:44.041Z"
   },
   {
    "duration": 1094,
    "start_time": "2022-08-14T08:15:42.725Z"
   },
   {
    "duration": 1485,
    "start_time": "2022-08-14T08:17:08.791Z"
   },
   {
    "duration": 5,
    "start_time": "2022-08-14T08:17:16.482Z"
   },
   {
    "duration": 7,
    "start_time": "2022-08-14T08:17:24.201Z"
   },
   {
    "duration": 910,
    "start_time": "2022-08-14T08:17:58.297Z"
   },
   {
    "duration": 1116,
    "start_time": "2022-08-14T08:19:51.529Z"
   },
   {
    "duration": 28,
    "start_time": "2022-08-14T08:25:28.257Z"
   },
   {
    "duration": 7,
    "start_time": "2022-08-14T08:25:30.311Z"
   },
   {
    "duration": 12,
    "start_time": "2022-08-14T08:25:49.655Z"
   },
   {
    "duration": 5,
    "start_time": "2022-08-14T08:27:45.777Z"
   },
   {
    "duration": 3,
    "start_time": "2022-08-14T08:28:04.558Z"
   },
   {
    "duration": 5,
    "start_time": "2022-08-14T08:28:09.131Z"
   },
   {
    "duration": 105,
    "start_time": "2022-08-14T08:29:22.444Z"
   },
   {
    "duration": 11,
    "start_time": "2022-08-14T08:29:37.866Z"
   },
   {
    "duration": 6,
    "start_time": "2022-08-14T08:29:56.024Z"
   },
   {
    "duration": 5,
    "start_time": "2022-08-14T08:30:05.013Z"
   },
   {
    "duration": 14,
    "start_time": "2022-08-14T08:30:09.421Z"
   },
   {
    "duration": 13,
    "start_time": "2022-08-14T08:30:14.609Z"
   },
   {
    "duration": 6,
    "start_time": "2022-08-14T08:31:02.991Z"
   },
   {
    "duration": 9,
    "start_time": "2022-08-14T08:31:53.500Z"
   },
   {
    "duration": 6,
    "start_time": "2022-08-14T08:31:57.998Z"
   },
   {
    "duration": 6,
    "start_time": "2022-08-14T08:32:01.135Z"
   },
   {
    "duration": 8,
    "start_time": "2022-08-14T08:33:21.176Z"
   },
   {
    "duration": 6,
    "start_time": "2022-08-14T08:33:25.616Z"
   },
   {
    "duration": 6,
    "start_time": "2022-08-14T08:33:29.646Z"
   },
   {
    "duration": 7,
    "start_time": "2022-08-14T08:35:08.742Z"
   },
   {
    "duration": 6,
    "start_time": "2022-08-14T08:35:14.084Z"
   },
   {
    "duration": 6,
    "start_time": "2022-08-14T08:35:14.759Z"
   },
   {
    "duration": 10,
    "start_time": "2022-08-14T08:35:45.921Z"
   },
   {
    "duration": 84,
    "start_time": "2022-08-14T08:35:53.446Z"
   },
   {
    "duration": 128,
    "start_time": "2022-08-14T08:35:58.099Z"
   },
   {
    "duration": 14,
    "start_time": "2022-08-14T08:36:12.529Z"
   },
   {
    "duration": 13,
    "start_time": "2022-08-14T08:36:21.191Z"
   },
   {
    "duration": 18,
    "start_time": "2022-08-14T08:36:28.941Z"
   },
   {
    "duration": 37,
    "start_time": "2022-08-14T08:36:33.948Z"
   },
   {
    "duration": 34,
    "start_time": "2022-08-14T08:36:57.262Z"
   },
   {
    "duration": 13,
    "start_time": "2022-08-14T08:37:43.272Z"
   },
   {
    "duration": 100,
    "start_time": "2022-08-14T08:37:54.861Z"
   },
   {
    "duration": 34,
    "start_time": "2022-08-14T08:37:56.159Z"
   },
   {
    "duration": 14,
    "start_time": "2022-08-14T08:41:22.355Z"
   },
   {
    "duration": 32,
    "start_time": "2022-08-14T08:41:23.891Z"
   },
   {
    "duration": 13,
    "start_time": "2022-08-14T08:41:50.133Z"
   },
   {
    "duration": 36,
    "start_time": "2022-08-14T08:41:50.833Z"
   },
   {
    "duration": 7,
    "start_time": "2022-08-14T08:42:08.020Z"
   },
   {
    "duration": 3,
    "start_time": "2022-08-14T08:42:08.142Z"
   },
   {
    "duration": 3,
    "start_time": "2022-08-14T08:42:08.413Z"
   },
   {
    "duration": 289,
    "start_time": "2022-08-14T08:42:08.534Z"
   },
   {
    "duration": 154,
    "start_time": "2022-08-14T08:42:08.825Z"
   },
   {
    "duration": 105,
    "start_time": "2022-08-14T08:42:08.981Z"
   },
   {
    "duration": 32,
    "start_time": "2022-08-14T08:42:09.088Z"
   },
   {
    "duration": 365,
    "start_time": "2022-08-14T08:42:09.137Z"
   },
   {
    "duration": 105,
    "start_time": "2022-08-14T08:42:09.504Z"
   },
   {
    "duration": 15,
    "start_time": "2022-08-14T08:42:09.611Z"
   },
   {
    "duration": 8,
    "start_time": "2022-08-14T08:42:09.637Z"
   },
   {
    "duration": 9,
    "start_time": "2022-08-14T08:42:09.687Z"
   },
   {
    "duration": 197,
    "start_time": "2022-08-14T08:42:10.221Z"
   },
   {
    "duration": 167,
    "start_time": "2022-08-14T08:42:10.419Z"
   },
   {
    "duration": 178,
    "start_time": "2022-08-14T08:42:10.588Z"
   },
   {
    "duration": 553,
    "start_time": "2022-08-14T08:42:10.768Z"
   },
   {
    "duration": 453,
    "start_time": "2022-08-14T08:42:11.690Z"
   },
   {
    "duration": 7,
    "start_time": "2022-08-14T08:42:12.145Z"
   },
   {
    "duration": 7,
    "start_time": "2022-08-14T08:42:12.433Z"
   },
   {
    "duration": 8,
    "start_time": "2022-08-14T08:42:12.896Z"
   },
   {
    "duration": 355,
    "start_time": "2022-08-14T08:42:14.224Z"
   },
   {
    "duration": 1031,
    "start_time": "2022-08-14T08:42:16.115Z"
   },
   {
    "duration": 6,
    "start_time": "2022-08-14T08:42:17.147Z"
   },
   {
    "duration": 7,
    "start_time": "2022-08-14T08:42:20.740Z"
   },
   {
    "duration": 6,
    "start_time": "2022-08-14T08:42:36.047Z"
   },
   {
    "duration": 13,
    "start_time": "2022-08-14T08:42:36.968Z"
   },
   {
    "duration": 12,
    "start_time": "2022-08-14T08:42:50.053Z"
   },
   {
    "duration": 14,
    "start_time": "2022-08-14T08:42:50.743Z"
   },
   {
    "duration": 6,
    "start_time": "2022-08-14T08:42:55.794Z"
   },
   {
    "duration": 8,
    "start_time": "2022-08-14T08:42:58.938Z"
   },
   {
    "duration": 15,
    "start_time": "2022-08-14T08:43:08.375Z"
   },
   {
    "duration": 11,
    "start_time": "2022-08-14T08:43:18.014Z"
   },
   {
    "duration": 9,
    "start_time": "2022-08-14T08:43:18.681Z"
   },
   {
    "duration": 50,
    "start_time": "2022-08-14T08:43:23.055Z"
   },
   {
    "duration": 8,
    "start_time": "2022-08-14T08:44:08.245Z"
   },
   {
    "duration": 837,
    "start_time": "2022-08-14T08:45:58.083Z"
   },
   {
    "duration": 857,
    "start_time": "2022-08-14T08:47:12.307Z"
   },
   {
    "duration": 0,
    "start_time": "2022-08-14T08:47:13.165Z"
   },
   {
    "duration": 8,
    "start_time": "2022-08-14T08:47:21.832Z"
   },
   {
    "duration": 875,
    "start_time": "2022-08-14T08:47:42.423Z"
   },
   {
    "duration": 29,
    "start_time": "2022-08-14T08:47:53.253Z"
   },
   {
    "duration": 1392,
    "start_time": "2022-08-14T08:49:09.881Z"
   },
   {
    "duration": 3,
    "start_time": "2022-08-14T08:49:11.275Z"
   },
   {
    "duration": 6,
    "start_time": "2022-08-14T08:49:11.279Z"
   },
   {
    "duration": 319,
    "start_time": "2022-08-14T08:49:11.287Z"
   },
   {
    "duration": 163,
    "start_time": "2022-08-14T08:49:11.608Z"
   },
   {
    "duration": 97,
    "start_time": "2022-08-14T08:49:11.773Z"
   },
   {
    "duration": 30,
    "start_time": "2022-08-14T08:49:11.872Z"
   },
   {
    "duration": 395,
    "start_time": "2022-08-14T08:49:11.903Z"
   },
   {
    "duration": 115,
    "start_time": "2022-08-14T08:49:12.300Z"
   },
   {
    "duration": 30,
    "start_time": "2022-08-14T08:49:12.417Z"
   },
   {
    "duration": 9,
    "start_time": "2022-08-14T08:49:12.449Z"
   },
   {
    "duration": 19,
    "start_time": "2022-08-14T08:49:12.459Z"
   },
   {
    "duration": 185,
    "start_time": "2022-08-14T08:49:12.479Z"
   },
   {
    "duration": 179,
    "start_time": "2022-08-14T08:49:12.666Z"
   },
   {
    "duration": 263,
    "start_time": "2022-08-14T08:49:12.847Z"
   },
   {
    "duration": 187,
    "start_time": "2022-08-14T08:49:13.112Z"
   },
   {
    "duration": 519,
    "start_time": "2022-08-14T08:49:13.301Z"
   },
   {
    "duration": 13,
    "start_time": "2022-08-14T08:49:13.822Z"
   },
   {
    "duration": 6,
    "start_time": "2022-08-14T08:49:13.836Z"
   },
   {
    "duration": 8,
    "start_time": "2022-08-14T08:49:13.844Z"
   },
   {
    "duration": 379,
    "start_time": "2022-08-14T08:49:13.854Z"
   },
   {
    "duration": 1175,
    "start_time": "2022-08-14T08:49:14.237Z"
   },
   {
    "duration": 6,
    "start_time": "2022-08-14T08:49:15.413Z"
   },
   {
    "duration": 19,
    "start_time": "2022-08-14T08:49:15.420Z"
   },
   {
    "duration": 129,
    "start_time": "2022-08-14T08:49:15.440Z"
   },
   {
    "duration": 0,
    "start_time": "2022-08-14T08:49:15.571Z"
   },
   {
    "duration": 0,
    "start_time": "2022-08-14T08:49:15.572Z"
   },
   {
    "duration": 0,
    "start_time": "2022-08-14T08:49:15.573Z"
   },
   {
    "duration": 1,
    "start_time": "2022-08-14T08:49:15.574Z"
   },
   {
    "duration": 0,
    "start_time": "2022-08-14T08:49:15.575Z"
   },
   {
    "duration": 0,
    "start_time": "2022-08-14T08:49:15.576Z"
   },
   {
    "duration": 0,
    "start_time": "2022-08-14T08:49:15.577Z"
   },
   {
    "duration": 0,
    "start_time": "2022-08-14T08:49:15.578Z"
   },
   {
    "duration": 33,
    "start_time": "2022-08-14T08:49:48.990Z"
   },
   {
    "duration": 3,
    "start_time": "2022-08-14T08:50:04.468Z"
   },
   {
    "duration": 1247,
    "start_time": "2022-08-14T08:50:25.118Z"
   },
   {
    "duration": 26,
    "start_time": "2022-08-14T08:50:44.970Z"
   },
   {
    "duration": 4,
    "start_time": "2022-08-14T08:50:45.596Z"
   },
   {
    "duration": 1197,
    "start_time": "2022-08-14T08:50:46.657Z"
   },
   {
    "duration": 7,
    "start_time": "2022-08-14T08:52:12.948Z"
   },
   {
    "duration": 1339,
    "start_time": "2022-08-14T08:52:19.153Z"
   },
   {
    "duration": 2,
    "start_time": "2022-08-14T08:52:20.494Z"
   },
   {
    "duration": 7,
    "start_time": "2022-08-14T08:52:20.498Z"
   },
   {
    "duration": 300,
    "start_time": "2022-08-14T08:52:20.507Z"
   },
   {
    "duration": 138,
    "start_time": "2022-08-14T08:52:20.809Z"
   },
   {
    "duration": 91,
    "start_time": "2022-08-14T08:52:20.948Z"
   },
   {
    "duration": 34,
    "start_time": "2022-08-14T08:52:21.041Z"
   },
   {
    "duration": 372,
    "start_time": "2022-08-14T08:52:21.077Z"
   },
   {
    "duration": 108,
    "start_time": "2022-08-14T08:52:21.450Z"
   },
   {
    "duration": 21,
    "start_time": "2022-08-14T08:52:21.560Z"
   },
   {
    "duration": 7,
    "start_time": "2022-08-14T08:52:21.583Z"
   },
   {
    "duration": 9,
    "start_time": "2022-08-14T08:52:21.591Z"
   },
   {
    "duration": 195,
    "start_time": "2022-08-14T08:52:21.601Z"
   },
   {
    "duration": 169,
    "start_time": "2022-08-14T08:52:21.797Z"
   },
   {
    "duration": 236,
    "start_time": "2022-08-14T08:52:21.967Z"
   },
   {
    "duration": 171,
    "start_time": "2022-08-14T08:52:22.205Z"
   },
   {
    "duration": 473,
    "start_time": "2022-08-14T08:52:22.377Z"
   },
   {
    "duration": 10,
    "start_time": "2022-08-14T08:52:22.852Z"
   },
   {
    "duration": 6,
    "start_time": "2022-08-14T08:52:22.864Z"
   },
   {
    "duration": 12,
    "start_time": "2022-08-14T08:52:22.871Z"
   },
   {
    "duration": 370,
    "start_time": "2022-08-14T08:52:22.885Z"
   },
   {
    "duration": 1131,
    "start_time": "2022-08-14T08:52:23.256Z"
   },
   {
    "duration": 5,
    "start_time": "2022-08-14T08:52:24.389Z"
   },
   {
    "duration": 7,
    "start_time": "2022-08-14T08:52:24.396Z"
   },
   {
    "duration": 43,
    "start_time": "2022-08-14T08:52:24.405Z"
   },
   {
    "duration": 3,
    "start_time": "2022-08-14T08:52:24.450Z"
   },
   {
    "duration": 1705,
    "start_time": "2022-08-14T08:52:24.454Z"
   },
   {
    "duration": 4,
    "start_time": "2022-08-14T08:52:26.163Z"
   },
   {
    "duration": 16,
    "start_time": "2022-08-14T08:52:26.168Z"
   },
   {
    "duration": 54,
    "start_time": "2022-08-14T08:52:26.185Z"
   },
   {
    "duration": 6,
    "start_time": "2022-08-14T08:52:26.241Z"
   },
   {
    "duration": 4,
    "start_time": "2022-08-14T08:52:26.249Z"
   },
   {
    "duration": 2087,
    "start_time": "2022-08-14T08:52:26.255Z"
   },
   {
    "duration": 96,
    "start_time": "2022-08-14T08:52:28.344Z"
   },
   {
    "duration": 11,
    "start_time": "2022-08-14T08:52:28.442Z"
   },
   {
    "duration": 1126,
    "start_time": "2022-08-14T08:55:50.597Z"
   },
   {
    "duration": 1141,
    "start_time": "2022-08-14T08:56:04.813Z"
   },
   {
    "duration": 3,
    "start_time": "2022-08-14T09:00:30.259Z"
   },
   {
    "duration": 105,
    "start_time": "2022-08-14T09:12:30.722Z"
   },
   {
    "duration": 11,
    "start_time": "2022-08-14T09:12:36.712Z"
   },
   {
    "duration": 11,
    "start_time": "2022-08-14T09:12:40.717Z"
   },
   {
    "duration": 10,
    "start_time": "2022-08-14T09:12:43.745Z"
   },
   {
    "duration": 7,
    "start_time": "2022-08-14T09:13:46.913Z"
   },
   {
    "duration": 24,
    "start_time": "2022-08-14T09:14:02.250Z"
   },
   {
    "duration": 1008,
    "start_time": "2022-08-14T09:18:28.722Z"
   },
   {
    "duration": 1443,
    "start_time": "2022-08-14T09:19:02.038Z"
   },
   {
    "duration": 3,
    "start_time": "2022-08-14T09:19:03.483Z"
   },
   {
    "duration": 9,
    "start_time": "2022-08-14T09:19:03.487Z"
   },
   {
    "duration": 314,
    "start_time": "2022-08-14T09:19:03.497Z"
   },
   {
    "duration": 134,
    "start_time": "2022-08-14T09:19:03.812Z"
   },
   {
    "duration": 93,
    "start_time": "2022-08-14T09:19:03.948Z"
   },
   {
    "duration": 30,
    "start_time": "2022-08-14T09:19:04.042Z"
   },
   {
    "duration": 373,
    "start_time": "2022-08-14T09:19:04.073Z"
   },
   {
    "duration": 118,
    "start_time": "2022-08-14T09:19:04.448Z"
   },
   {
    "duration": 20,
    "start_time": "2022-08-14T09:19:04.569Z"
   },
   {
    "duration": 7,
    "start_time": "2022-08-14T09:19:04.591Z"
   },
   {
    "duration": 9,
    "start_time": "2022-08-14T09:19:04.600Z"
   },
   {
    "duration": 187,
    "start_time": "2022-08-14T09:19:04.610Z"
   },
   {
    "duration": 165,
    "start_time": "2022-08-14T09:19:04.798Z"
   },
   {
    "duration": 240,
    "start_time": "2022-08-14T09:19:04.965Z"
   },
   {
    "duration": 164,
    "start_time": "2022-08-14T09:19:05.207Z"
   },
   {
    "duration": 474,
    "start_time": "2022-08-14T09:19:05.372Z"
   },
   {
    "duration": 11,
    "start_time": "2022-08-14T09:19:05.847Z"
   },
   {
    "duration": 14,
    "start_time": "2022-08-14T09:19:05.860Z"
   },
   {
    "duration": 8,
    "start_time": "2022-08-14T09:19:05.876Z"
   },
   {
    "duration": 365,
    "start_time": "2022-08-14T09:19:05.886Z"
   },
   {
    "duration": 1121,
    "start_time": "2022-08-14T09:19:06.253Z"
   },
   {
    "duration": 6,
    "start_time": "2022-08-14T09:19:07.376Z"
   },
   {
    "duration": 28,
    "start_time": "2022-08-14T09:19:07.383Z"
   },
   {
    "duration": 4,
    "start_time": "2022-08-14T09:19:07.413Z"
   },
   {
    "duration": 1198,
    "start_time": "2022-08-14T09:19:07.418Z"
   },
   {
    "duration": 4,
    "start_time": "2022-08-14T09:19:08.618Z"
   },
   {
    "duration": 1696,
    "start_time": "2022-08-14T09:19:08.624Z"
   },
   {
    "duration": 0,
    "start_time": "2022-08-14T09:19:10.322Z"
   },
   {
    "duration": 0,
    "start_time": "2022-08-14T09:19:10.324Z"
   },
   {
    "duration": 0,
    "start_time": "2022-08-14T09:19:10.325Z"
   },
   {
    "duration": 0,
    "start_time": "2022-08-14T09:19:10.327Z"
   },
   {
    "duration": 737,
    "start_time": "2022-08-14T09:23:36.591Z"
   },
   {
    "duration": 1350,
    "start_time": "2022-08-14T09:23:45.280Z"
   },
   {
    "duration": 2,
    "start_time": "2022-08-14T09:23:46.632Z"
   },
   {
    "duration": 7,
    "start_time": "2022-08-14T09:23:46.636Z"
   },
   {
    "duration": 311,
    "start_time": "2022-08-14T09:23:46.645Z"
   },
   {
    "duration": 138,
    "start_time": "2022-08-14T09:23:46.958Z"
   },
   {
    "duration": 90,
    "start_time": "2022-08-14T09:23:47.097Z"
   },
   {
    "duration": 30,
    "start_time": "2022-08-14T09:23:47.189Z"
   },
   {
    "duration": 377,
    "start_time": "2022-08-14T09:23:47.220Z"
   },
   {
    "duration": 110,
    "start_time": "2022-08-14T09:23:47.599Z"
   },
   {
    "duration": 31,
    "start_time": "2022-08-14T09:23:47.711Z"
   },
   {
    "duration": 8,
    "start_time": "2022-08-14T09:23:47.743Z"
   },
   {
    "duration": 25,
    "start_time": "2022-08-14T09:23:47.752Z"
   },
   {
    "duration": 168,
    "start_time": "2022-08-14T09:23:47.778Z"
   },
   {
    "duration": 190,
    "start_time": "2022-08-14T09:23:47.948Z"
   },
   {
    "duration": 254,
    "start_time": "2022-08-14T09:23:48.140Z"
   },
   {
    "duration": 179,
    "start_time": "2022-08-14T09:23:48.396Z"
   },
   {
    "duration": 515,
    "start_time": "2022-08-14T09:23:48.577Z"
   },
   {
    "duration": 11,
    "start_time": "2022-08-14T09:23:49.094Z"
   },
   {
    "duration": 7,
    "start_time": "2022-08-14T09:23:49.107Z"
   },
   {
    "duration": 7,
    "start_time": "2022-08-14T09:23:49.115Z"
   },
   {
    "duration": 350,
    "start_time": "2022-08-14T09:23:49.138Z"
   },
   {
    "duration": 1097,
    "start_time": "2022-08-14T09:23:49.489Z"
   },
   {
    "duration": 7,
    "start_time": "2022-08-14T09:23:50.587Z"
   },
   {
    "duration": 36,
    "start_time": "2022-08-14T09:23:50.595Z"
   },
   {
    "duration": 7,
    "start_time": "2022-08-14T09:23:50.632Z"
   },
   {
    "duration": 1091,
    "start_time": "2022-08-14T09:23:50.641Z"
   },
   {
    "duration": 5,
    "start_time": "2022-08-14T09:23:51.734Z"
   },
   {
    "duration": 15,
    "start_time": "2022-08-14T09:23:51.742Z"
   },
   {
    "duration": 6,
    "start_time": "2022-08-14T09:23:51.758Z"
   },
   {
    "duration": 6,
    "start_time": "2022-08-14T09:23:51.765Z"
   },
   {
    "duration": 7,
    "start_time": "2022-08-14T09:23:51.772Z"
   },
   {
    "duration": 99,
    "start_time": "2022-08-14T09:23:51.781Z"
   },
   {
    "duration": 101,
    "start_time": "2022-08-14T09:24:49.484Z"
   },
   {
    "duration": 4,
    "start_time": "2022-08-14T09:24:58.343Z"
   },
   {
    "duration": 5,
    "start_time": "2022-08-14T09:28:24.513Z"
   },
   {
    "duration": 13,
    "start_time": "2022-08-14T09:28:31.560Z"
   },
   {
    "duration": 16,
    "start_time": "2022-08-14T09:28:37.947Z"
   },
   {
    "duration": 9,
    "start_time": "2022-08-14T09:35:20.328Z"
   },
   {
    "duration": 7,
    "start_time": "2022-08-14T09:39:03.083Z"
   },
   {
    "duration": 2423,
    "start_time": "2022-08-14T09:39:10.620Z"
   },
   {
    "duration": 1976,
    "start_time": "2022-08-14T09:39:21.864Z"
   },
   {
    "duration": 2013,
    "start_time": "2022-08-14T09:39:49.540Z"
   },
   {
    "duration": 2291,
    "start_time": "2022-08-14T09:40:11.957Z"
   },
   {
    "duration": 1903,
    "start_time": "2022-08-14T09:40:30.547Z"
   },
   {
    "duration": 4,
    "start_time": "2022-08-14T09:43:29.005Z"
   },
   {
    "duration": 1174,
    "start_time": "2022-08-14T09:43:29.462Z"
   },
   {
    "duration": 0,
    "start_time": "2022-08-14T09:43:30.637Z"
   },
   {
    "duration": 1361,
    "start_time": "2022-08-14T09:43:37.131Z"
   },
   {
    "duration": 2,
    "start_time": "2022-08-14T09:43:38.494Z"
   },
   {
    "duration": 9,
    "start_time": "2022-08-14T09:43:38.497Z"
   },
   {
    "duration": 297,
    "start_time": "2022-08-14T09:43:38.507Z"
   },
   {
    "duration": 150,
    "start_time": "2022-08-14T09:43:38.806Z"
   },
   {
    "duration": 115,
    "start_time": "2022-08-14T09:43:38.958Z"
   },
   {
    "duration": 31,
    "start_time": "2022-08-14T09:43:39.075Z"
   },
   {
    "duration": 365,
    "start_time": "2022-08-14T09:43:39.108Z"
   },
   {
    "duration": 114,
    "start_time": "2022-08-14T09:43:39.475Z"
   },
   {
    "duration": 21,
    "start_time": "2022-08-14T09:43:39.591Z"
   },
   {
    "duration": 24,
    "start_time": "2022-08-14T09:43:39.614Z"
   },
   {
    "duration": 8,
    "start_time": "2022-08-14T09:43:39.640Z"
   },
   {
    "duration": 190,
    "start_time": "2022-08-14T09:43:39.649Z"
   },
   {
    "duration": 169,
    "start_time": "2022-08-14T09:43:39.842Z"
   },
   {
    "duration": 267,
    "start_time": "2022-08-14T09:43:40.013Z"
   },
   {
    "duration": 177,
    "start_time": "2022-08-14T09:43:40.283Z"
   },
   {
    "duration": 451,
    "start_time": "2022-08-14T09:43:40.461Z"
   },
   {
    "duration": 11,
    "start_time": "2022-08-14T09:43:40.913Z"
   },
   {
    "duration": 14,
    "start_time": "2022-08-14T09:43:40.925Z"
   },
   {
    "duration": 7,
    "start_time": "2022-08-14T09:43:40.940Z"
   },
   {
    "duration": 359,
    "start_time": "2022-08-14T09:43:40.949Z"
   },
   {
    "duration": 1134,
    "start_time": "2022-08-14T09:43:41.310Z"
   },
   {
    "duration": 7,
    "start_time": "2022-08-14T09:43:42.445Z"
   },
   {
    "duration": 30,
    "start_time": "2022-08-14T09:43:42.454Z"
   },
   {
    "duration": 3,
    "start_time": "2022-08-14T09:43:42.486Z"
   },
   {
    "duration": 1156,
    "start_time": "2022-08-14T09:43:42.491Z"
   },
   {
    "duration": 4,
    "start_time": "2022-08-14T09:43:43.648Z"
   },
   {
    "duration": 14,
    "start_time": "2022-08-14T09:43:43.654Z"
   },
   {
    "duration": 1969,
    "start_time": "2022-08-14T09:43:43.670Z"
   },
   {
    "duration": 3,
    "start_time": "2022-08-14T09:43:45.641Z"
   },
   {
    "duration": 9,
    "start_time": "2022-08-14T09:43:45.646Z"
   },
   {
    "duration": 5,
    "start_time": "2022-08-14T09:43:45.656Z"
   },
   {
    "duration": 111,
    "start_time": "2022-08-14T09:43:45.662Z"
   },
   {
    "duration": 12,
    "start_time": "2022-08-14T10:03:18.224Z"
   },
   {
    "duration": 10763,
    "start_time": "2022-08-14T10:03:32.918Z"
   },
   {
    "duration": 17902,
    "start_time": "2022-08-14T10:04:20.537Z"
   },
   {
    "duration": 13750,
    "start_time": "2022-08-14T10:05:09.634Z"
   },
   {
    "duration": 10840,
    "start_time": "2022-08-14T10:05:41.223Z"
   },
   {
    "duration": 269413,
    "start_time": "2022-08-14T10:07:47.763Z"
   },
   {
    "duration": 295190,
    "start_time": "2022-08-14T10:12:23.566Z"
   },
   {
    "duration": 163904,
    "start_time": "2022-08-14T10:17:29.879Z"
   },
   {
    "duration": 11423,
    "start_time": "2022-08-14T10:20:28.490Z"
   },
   {
    "duration": 52347,
    "start_time": "2022-08-14T10:21:34.308Z"
   },
   {
    "duration": 15917,
    "start_time": "2022-08-14T10:22:27.296Z"
   },
   {
    "duration": 26,
    "start_time": "2022-08-14T10:22:48.500Z"
   },
   {
    "duration": 3870,
    "start_time": "2022-08-14T10:23:05.394Z"
   },
   {
    "duration": 22378,
    "start_time": "2022-08-14T10:23:25.027Z"
   },
   {
    "duration": 25093,
    "start_time": "2022-08-14T10:23:53.308Z"
   },
   {
    "duration": 56699,
    "start_time": "2022-08-14T10:25:10.614Z"
   },
   {
    "duration": 1335,
    "start_time": "2022-08-14T10:27:00.674Z"
   },
   {
    "duration": 4,
    "start_time": "2022-08-14T10:27:02.011Z"
   },
   {
    "duration": 9,
    "start_time": "2022-08-14T10:27:02.016Z"
   },
   {
    "duration": 298,
    "start_time": "2022-08-14T10:27:02.026Z"
   },
   {
    "duration": 139,
    "start_time": "2022-08-14T10:27:02.325Z"
   },
   {
    "duration": 95,
    "start_time": "2022-08-14T10:27:02.465Z"
   },
   {
    "duration": 29,
    "start_time": "2022-08-14T10:27:02.561Z"
   },
   {
    "duration": 364,
    "start_time": "2022-08-14T10:27:02.592Z"
   },
   {
    "duration": 109,
    "start_time": "2022-08-14T10:27:02.958Z"
   },
   {
    "duration": 20,
    "start_time": "2022-08-14T10:27:03.070Z"
   },
   {
    "duration": 8,
    "start_time": "2022-08-14T10:27:03.092Z"
   },
   {
    "duration": 9,
    "start_time": "2022-08-14T10:27:03.101Z"
   },
   {
    "duration": 197,
    "start_time": "2022-08-14T10:27:03.112Z"
   },
   {
    "duration": 168,
    "start_time": "2022-08-14T10:27:03.310Z"
   },
   {
    "duration": 244,
    "start_time": "2022-08-14T10:27:03.479Z"
   },
   {
    "duration": 166,
    "start_time": "2022-08-14T10:27:03.725Z"
   },
   {
    "duration": 486,
    "start_time": "2022-08-14T10:27:03.893Z"
   },
   {
    "duration": 11,
    "start_time": "2022-08-14T10:27:04.380Z"
   },
   {
    "duration": 6,
    "start_time": "2022-08-14T10:27:04.392Z"
   },
   {
    "duration": 15,
    "start_time": "2022-08-14T10:27:04.400Z"
   },
   {
    "duration": 355,
    "start_time": "2022-08-14T10:27:04.416Z"
   },
   {
    "duration": 1134,
    "start_time": "2022-08-14T10:27:04.772Z"
   },
   {
    "duration": 7,
    "start_time": "2022-08-14T10:27:05.907Z"
   },
   {
    "duration": 34,
    "start_time": "2022-08-14T10:27:05.915Z"
   },
   {
    "duration": 3,
    "start_time": "2022-08-14T10:27:05.951Z"
   },
   {
    "duration": 1157,
    "start_time": "2022-08-14T10:27:05.956Z"
   },
   {
    "duration": 4,
    "start_time": "2022-08-14T10:27:07.115Z"
   },
   {
    "duration": 22,
    "start_time": "2022-08-14T10:27:07.122Z"
   },
   {
    "duration": 1498,
    "start_time": "2022-08-14T10:27:07.146Z"
   },
   {
    "duration": 11011,
    "start_time": "2022-08-14T10:27:08.646Z"
   },
   {
    "duration": 59249,
    "start_time": "2022-08-14T10:27:19.659Z"
   },
   {
    "duration": 6,
    "start_time": "2022-08-14T10:28:18.909Z"
   },
   {
    "duration": 71982,
    "start_time": "2022-08-14T10:29:15.083Z"
   },
   {
    "duration": 103,
    "start_time": "2022-08-14T10:30:27.066Z"
   },
   {
    "duration": 5,
    "start_time": "2022-08-14T10:32:25.419Z"
   },
   {
    "duration": 5,
    "start_time": "2022-08-14T10:33:28.430Z"
   },
   {
    "duration": 16,
    "start_time": "2022-08-14T10:33:28.869Z"
   },
   {
    "duration": 17,
    "start_time": "2022-08-14T10:39:43.516Z"
   },
   {
    "duration": 16,
    "start_time": "2022-08-14T10:43:15.753Z"
   },
   {
    "duration": 6,
    "start_time": "2022-08-14T10:43:28.355Z"
   },
   {
    "duration": 15,
    "start_time": "2022-08-14T10:45:15.158Z"
   },
   {
    "duration": 46,
    "start_time": "2022-08-14T10:50:34.826Z"
   },
   {
    "duration": 11183,
    "start_time": "2022-08-14T10:50:40.035Z"
   },
   {
    "duration": 11301,
    "start_time": "2022-08-14T10:51:00.321Z"
   },
   {
    "duration": 1822,
    "start_time": "2022-08-14T10:51:11.624Z"
   },
   {
    "duration": 361,
    "start_time": "2022-08-14T10:52:01.685Z"
   },
   {
    "duration": 16,
    "start_time": "2022-08-14T10:52:10.508Z"
   },
   {
    "duration": 344,
    "start_time": "2022-08-14T10:52:11.201Z"
   },
   {
    "duration": 4,
    "start_time": "2022-08-14T10:52:56.071Z"
   },
   {
    "duration": 14,
    "start_time": "2022-08-14T10:53:32.797Z"
   },
   {
    "duration": 4,
    "start_time": "2022-08-14T10:53:33.272Z"
   },
   {
    "duration": 4,
    "start_time": "2022-08-14T10:53:37.044Z"
   },
   {
    "duration": 353,
    "start_time": "2022-08-14T10:53:38.287Z"
   },
   {
    "duration": 4,
    "start_time": "2022-08-14T10:54:22.719Z"
   },
   {
    "duration": 5,
    "start_time": "2022-08-14T10:54:40.021Z"
   },
   {
    "duration": 415,
    "start_time": "2022-08-14T10:54:40.622Z"
   },
   {
    "duration": 236,
    "start_time": "2022-08-14T10:55:06.903Z"
   },
   {
    "duration": 1412,
    "start_time": "2022-08-14T10:59:11.037Z"
   },
   {
    "duration": 2,
    "start_time": "2022-08-14T10:59:12.451Z"
   },
   {
    "duration": 5,
    "start_time": "2022-08-14T10:59:12.455Z"
   },
   {
    "duration": 308,
    "start_time": "2022-08-14T10:59:12.462Z"
   },
   {
    "duration": 139,
    "start_time": "2022-08-14T10:59:12.771Z"
   },
   {
    "duration": 93,
    "start_time": "2022-08-14T10:59:12.911Z"
   },
   {
    "duration": 40,
    "start_time": "2022-08-14T10:59:13.005Z"
   },
   {
    "duration": 369,
    "start_time": "2022-08-14T10:59:13.046Z"
   },
   {
    "duration": 109,
    "start_time": "2022-08-14T10:59:13.417Z"
   },
   {
    "duration": 19,
    "start_time": "2022-08-14T10:59:13.538Z"
   },
   {
    "duration": 7,
    "start_time": "2022-08-14T10:59:13.559Z"
   },
   {
    "duration": 8,
    "start_time": "2022-08-14T10:59:13.568Z"
   },
   {
    "duration": 204,
    "start_time": "2022-08-14T10:59:13.578Z"
   },
   {
    "duration": 169,
    "start_time": "2022-08-14T10:59:13.783Z"
   },
   {
    "duration": 242,
    "start_time": "2022-08-14T10:59:13.954Z"
   },
   {
    "duration": 180,
    "start_time": "2022-08-14T10:59:14.198Z"
   },
   {
    "duration": 483,
    "start_time": "2022-08-14T10:59:14.380Z"
   },
   {
    "duration": 12,
    "start_time": "2022-08-14T10:59:14.865Z"
   },
   {
    "duration": 6,
    "start_time": "2022-08-14T10:59:14.878Z"
   },
   {
    "duration": 7,
    "start_time": "2022-08-14T10:59:14.886Z"
   },
   {
    "duration": 377,
    "start_time": "2022-08-14T10:59:14.894Z"
   },
   {
    "duration": 1143,
    "start_time": "2022-08-14T10:59:15.273Z"
   },
   {
    "duration": 7,
    "start_time": "2022-08-14T10:59:16.418Z"
   },
   {
    "duration": 26,
    "start_time": "2022-08-14T10:59:16.438Z"
   },
   {
    "duration": 4,
    "start_time": "2022-08-14T10:59:16.466Z"
   },
   {
    "duration": 1117,
    "start_time": "2022-08-14T10:59:16.472Z"
   },
   {
    "duration": 4,
    "start_time": "2022-08-14T10:59:17.591Z"
   },
   {
    "duration": 30,
    "start_time": "2022-08-14T10:59:17.599Z"
   },
   {
    "duration": 2215,
    "start_time": "2022-08-14T10:59:17.630Z"
   },
   {
    "duration": 11035,
    "start_time": "2022-08-14T10:59:19.847Z"
   },
   {
    "duration": 70857,
    "start_time": "2022-08-14T10:59:30.884Z"
   },
   {
    "duration": 17,
    "start_time": "2022-08-14T11:00:41.742Z"
   },
   {
    "duration": 30,
    "start_time": "2022-08-14T11:00:41.761Z"
   },
   {
    "duration": 347,
    "start_time": "2022-08-14T11:00:41.792Z"
   },
   {
    "duration": 97,
    "start_time": "2022-08-14T11:00:42.143Z"
   },
   {
    "duration": 3,
    "start_time": "2022-08-14T11:00:42.242Z"
   },
   {
    "duration": 27,
    "start_time": "2022-08-14T11:00:42.246Z"
   },
   {
    "duration": 331,
    "start_time": "2022-08-14T11:00:42.275Z"
   },
   {
    "duration": 1375,
    "start_time": "2022-08-14T11:00:53.345Z"
   },
   {
    "duration": 3,
    "start_time": "2022-08-14T11:00:54.721Z"
   },
   {
    "duration": 6,
    "start_time": "2022-08-14T11:00:54.725Z"
   },
   {
    "duration": 321,
    "start_time": "2022-08-14T11:00:54.733Z"
   },
   {
    "duration": 138,
    "start_time": "2022-08-14T11:00:55.056Z"
   },
   {
    "duration": 106,
    "start_time": "2022-08-14T11:00:55.195Z"
   },
   {
    "duration": 39,
    "start_time": "2022-08-14T11:00:55.302Z"
   },
   {
    "duration": 412,
    "start_time": "2022-08-14T11:00:55.343Z"
   },
   {
    "duration": 115,
    "start_time": "2022-08-14T11:00:55.757Z"
   },
   {
    "duration": 20,
    "start_time": "2022-08-14T11:00:55.873Z"
   },
   {
    "duration": 8,
    "start_time": "2022-08-14T11:00:55.894Z"
   },
   {
    "duration": 10,
    "start_time": "2022-08-14T11:00:55.903Z"
   },
   {
    "duration": 195,
    "start_time": "2022-08-14T11:00:55.914Z"
   },
   {
    "duration": 171,
    "start_time": "2022-08-14T11:00:56.112Z"
   },
   {
    "duration": 230,
    "start_time": "2022-08-14T11:00:56.285Z"
   },
   {
    "duration": 164,
    "start_time": "2022-08-14T11:00:56.516Z"
   },
   {
    "duration": 458,
    "start_time": "2022-08-14T11:00:56.681Z"
   },
   {
    "duration": 11,
    "start_time": "2022-08-14T11:00:57.140Z"
   },
   {
    "duration": 6,
    "start_time": "2022-08-14T11:00:57.153Z"
   },
   {
    "duration": 7,
    "start_time": "2022-08-14T11:00:57.161Z"
   },
   {
    "duration": 357,
    "start_time": "2022-08-14T11:00:57.169Z"
   },
   {
    "duration": 1064,
    "start_time": "2022-08-14T11:00:57.527Z"
   },
   {
    "duration": 7,
    "start_time": "2022-08-14T11:00:58.593Z"
   },
   {
    "duration": 40,
    "start_time": "2022-08-14T11:00:58.601Z"
   },
   {
    "duration": 3,
    "start_time": "2022-08-14T11:00:58.643Z"
   },
   {
    "duration": 1416,
    "start_time": "2022-08-14T11:00:58.648Z"
   },
   {
    "duration": 3,
    "start_time": "2022-08-14T11:01:00.066Z"
   },
   {
    "duration": 73,
    "start_time": "2022-08-14T11:01:00.071Z"
   },
   {
    "duration": 2293,
    "start_time": "2022-08-14T11:01:00.146Z"
   },
   {
    "duration": 11254,
    "start_time": "2022-08-14T11:01:02.441Z"
   },
   {
    "duration": 70389,
    "start_time": "2022-08-14T11:01:13.697Z"
   },
   {
    "duration": 18,
    "start_time": "2022-08-14T11:02:24.088Z"
   },
   {
    "duration": 11,
    "start_time": "2022-08-14T11:02:24.107Z"
   },
   {
    "duration": 318,
    "start_time": "2022-08-14T11:02:24.119Z"
   },
   {
    "duration": 1581,
    "start_time": "2022-08-14T18:07:35.910Z"
   },
   {
    "duration": 2,
    "start_time": "2022-08-14T18:07:37.493Z"
   },
   {
    "duration": 7,
    "start_time": "2022-08-14T18:07:37.497Z"
   },
   {
    "duration": 896,
    "start_time": "2022-08-14T18:07:37.506Z"
   },
   {
    "duration": 147,
    "start_time": "2022-08-14T18:07:38.404Z"
   },
   {
    "duration": 453,
    "start_time": "2022-08-14T18:07:38.557Z"
   },
   {
    "duration": 34,
    "start_time": "2022-08-14T18:07:39.011Z"
   },
   {
    "duration": 1888,
    "start_time": "2022-08-14T18:07:39.047Z"
   },
   {
    "duration": 102,
    "start_time": "2022-08-14T18:07:40.937Z"
   },
   {
    "duration": 24,
    "start_time": "2022-08-14T18:07:41.041Z"
   },
   {
    "duration": 8,
    "start_time": "2022-08-14T18:07:41.067Z"
   },
   {
    "duration": 10,
    "start_time": "2022-08-14T18:07:41.076Z"
   },
   {
    "duration": 197,
    "start_time": "2022-08-14T18:07:41.088Z"
   },
   {
    "duration": 181,
    "start_time": "2022-08-14T18:07:41.287Z"
   },
   {
    "duration": 256,
    "start_time": "2022-08-14T18:07:41.470Z"
   },
   {
    "duration": 184,
    "start_time": "2022-08-14T18:07:41.727Z"
   },
   {
    "duration": 523,
    "start_time": "2022-08-14T18:07:41.913Z"
   },
   {
    "duration": 19,
    "start_time": "2022-08-14T18:07:42.438Z"
   },
   {
    "duration": 6,
    "start_time": "2022-08-14T18:07:42.459Z"
   },
   {
    "duration": 8,
    "start_time": "2022-08-14T18:07:42.466Z"
   },
   {
    "duration": 393,
    "start_time": "2022-08-14T18:07:42.475Z"
   },
   {
    "duration": 1192,
    "start_time": "2022-08-14T18:07:42.870Z"
   },
   {
    "duration": 7,
    "start_time": "2022-08-14T18:07:44.064Z"
   },
   {
    "duration": 27,
    "start_time": "2022-08-14T18:07:44.072Z"
   },
   {
    "duration": 3,
    "start_time": "2022-08-14T18:07:44.101Z"
   },
   {
    "duration": 1283,
    "start_time": "2022-08-14T18:07:44.106Z"
   },
   {
    "duration": 6,
    "start_time": "2022-08-14T18:07:45.391Z"
   },
   {
    "duration": 31,
    "start_time": "2022-08-14T18:07:45.399Z"
   },
   {
    "duration": 1629,
    "start_time": "2022-08-14T18:07:45.432Z"
   },
   {
    "duration": 11032,
    "start_time": "2022-08-14T18:07:47.063Z"
   },
   {
    "duration": 71225,
    "start_time": "2022-08-14T18:07:58.096Z"
   },
   {
    "duration": 18,
    "start_time": "2022-08-14T18:09:09.322Z"
   },
   {
    "duration": 15,
    "start_time": "2022-08-14T18:09:09.342Z"
   },
   {
    "duration": 199,
    "start_time": "2022-08-14T18:09:09.359Z"
   },
   {
    "duration": 197,
    "start_time": "2022-08-14T18:09:09.561Z"
   },
   {
    "duration": 9,
    "start_time": "2022-08-14T18:12:25.781Z"
   },
   {
    "duration": 7,
    "start_time": "2022-08-14T18:12:31.072Z"
   },
   {
    "duration": 10,
    "start_time": "2022-08-14T18:12:36.166Z"
   },
   {
    "duration": 9,
    "start_time": "2022-08-14T18:12:54.022Z"
   },
   {
    "duration": 9,
    "start_time": "2022-08-14T18:16:39.904Z"
   },
   {
    "duration": 80,
    "start_time": "2022-08-14T18:16:43.846Z"
   },
   {
    "duration": 47,
    "start_time": "2022-08-14T18:16:53.483Z"
   },
   {
    "duration": 68,
    "start_time": "2022-08-14T18:17:35.379Z"
   },
   {
    "duration": 1385,
    "start_time": "2022-08-14T18:17:41.451Z"
   },
   {
    "duration": 2,
    "start_time": "2022-08-14T18:17:42.839Z"
   },
   {
    "duration": 5,
    "start_time": "2022-08-14T18:17:42.843Z"
   },
   {
    "duration": 322,
    "start_time": "2022-08-14T18:17:42.849Z"
   },
   {
    "duration": 141,
    "start_time": "2022-08-14T18:17:43.173Z"
   },
   {
    "duration": 107,
    "start_time": "2022-08-14T18:17:43.315Z"
   },
   {
    "duration": 45,
    "start_time": "2022-08-14T18:17:43.424Z"
   },
   {
    "duration": 373,
    "start_time": "2022-08-14T18:17:43.470Z"
   },
   {
    "duration": 115,
    "start_time": "2022-08-14T18:17:43.845Z"
   },
   {
    "duration": 22,
    "start_time": "2022-08-14T18:17:43.962Z"
   },
   {
    "duration": 8,
    "start_time": "2022-08-14T18:17:43.985Z"
   },
   {
    "duration": 11,
    "start_time": "2022-08-14T18:17:43.994Z"
   },
   {
    "duration": 202,
    "start_time": "2022-08-14T18:17:44.007Z"
   },
   {
    "duration": 181,
    "start_time": "2022-08-14T18:17:44.212Z"
   },
   {
    "duration": 252,
    "start_time": "2022-08-14T18:17:44.395Z"
   },
   {
    "duration": 183,
    "start_time": "2022-08-14T18:17:44.648Z"
   },
   {
    "duration": 584,
    "start_time": "2022-08-14T18:17:44.833Z"
   },
   {
    "duration": 14,
    "start_time": "2022-08-14T18:17:45.419Z"
   },
   {
    "duration": 7,
    "start_time": "2022-08-14T18:17:45.434Z"
   },
   {
    "duration": 23,
    "start_time": "2022-08-14T18:17:45.442Z"
   },
   {
    "duration": 432,
    "start_time": "2022-08-14T18:17:45.466Z"
   },
   {
    "duration": 1221,
    "start_time": "2022-08-14T18:17:45.899Z"
   },
   {
    "duration": 7,
    "start_time": "2022-08-14T18:17:47.121Z"
   },
   {
    "duration": 42,
    "start_time": "2022-08-14T18:17:47.129Z"
   },
   {
    "duration": 4,
    "start_time": "2022-08-14T18:17:47.173Z"
   },
   {
    "duration": 1259,
    "start_time": "2022-08-14T18:17:47.178Z"
   },
   {
    "duration": 4,
    "start_time": "2022-08-14T18:17:48.438Z"
   },
   {
    "duration": 18,
    "start_time": "2022-08-14T18:17:48.444Z"
   },
   {
    "duration": 1412,
    "start_time": "2022-08-14T18:17:48.463Z"
   },
   {
    "duration": 11195,
    "start_time": "2022-08-14T18:17:49.958Z"
   },
   {
    "duration": 71513,
    "start_time": "2022-08-14T18:18:01.154Z"
   },
   {
    "duration": 19,
    "start_time": "2022-08-14T18:19:12.669Z"
   },
   {
    "duration": 6,
    "start_time": "2022-08-14T18:19:12.690Z"
   },
   {
    "duration": 363,
    "start_time": "2022-08-14T18:19:12.697Z"
   },
   {
    "duration": 95,
    "start_time": "2022-08-14T18:19:13.062Z"
   },
   {
    "duration": 46,
    "start_time": "2022-08-14T18:19:13.159Z"
   },
   {
    "duration": 1449,
    "start_time": "2022-08-14T18:20:26.126Z"
   },
   {
    "duration": 3,
    "start_time": "2022-08-14T18:20:27.577Z"
   },
   {
    "duration": 7,
    "start_time": "2022-08-14T18:20:27.581Z"
   },
   {
    "duration": 339,
    "start_time": "2022-08-14T18:20:27.589Z"
   },
   {
    "duration": 152,
    "start_time": "2022-08-14T18:20:27.930Z"
   },
   {
    "duration": 105,
    "start_time": "2022-08-14T18:20:28.085Z"
   },
   {
    "duration": 31,
    "start_time": "2022-08-14T18:20:28.192Z"
   },
   {
    "duration": 387,
    "start_time": "2022-08-14T18:20:28.225Z"
   },
   {
    "duration": 126,
    "start_time": "2022-08-14T18:20:28.613Z"
   },
   {
    "duration": 30,
    "start_time": "2022-08-14T18:20:28.741Z"
   },
   {
    "duration": 8,
    "start_time": "2022-08-14T18:20:28.773Z"
   },
   {
    "duration": 12,
    "start_time": "2022-08-14T18:20:28.782Z"
   },
   {
    "duration": 206,
    "start_time": "2022-08-14T18:20:28.795Z"
   },
   {
    "duration": 187,
    "start_time": "2022-08-14T18:20:29.004Z"
   },
   {
    "duration": 273,
    "start_time": "2022-08-14T18:20:29.193Z"
   },
   {
    "duration": 182,
    "start_time": "2022-08-14T18:20:29.468Z"
   },
   {
    "duration": 535,
    "start_time": "2022-08-14T18:20:29.652Z"
   },
   {
    "duration": 12,
    "start_time": "2022-08-14T18:20:30.189Z"
   },
   {
    "duration": 17,
    "start_time": "2022-08-14T18:20:30.202Z"
   },
   {
    "duration": 20,
    "start_time": "2022-08-14T18:20:30.221Z"
   },
   {
    "duration": 428,
    "start_time": "2022-08-14T18:20:30.242Z"
   },
   {
    "duration": 1239,
    "start_time": "2022-08-14T18:20:30.672Z"
   },
   {
    "duration": 6,
    "start_time": "2022-08-14T18:20:31.913Z"
   },
   {
    "duration": 39,
    "start_time": "2022-08-14T18:20:31.920Z"
   },
   {
    "duration": 3,
    "start_time": "2022-08-14T18:20:31.961Z"
   },
   {
    "duration": 1224,
    "start_time": "2022-08-14T18:20:31.966Z"
   },
   {
    "duration": 4,
    "start_time": "2022-08-14T18:20:33.192Z"
   },
   {
    "duration": 20,
    "start_time": "2022-08-14T18:20:33.197Z"
   },
   {
    "duration": 1640,
    "start_time": "2022-08-14T18:20:33.218Z"
   },
   {
    "duration": 11228,
    "start_time": "2022-08-14T18:20:34.861Z"
   },
   {
    "duration": 71381,
    "start_time": "2022-08-14T18:20:46.090Z"
   },
   {
    "duration": 18,
    "start_time": "2022-08-14T18:21:57.473Z"
   },
   {
    "duration": 10,
    "start_time": "2022-08-14T18:21:57.493Z"
   },
   {
    "duration": 255,
    "start_time": "2022-08-14T18:21:57.505Z"
   },
   {
    "duration": 99,
    "start_time": "2022-08-14T18:21:57.762Z"
   }
  ],
  "kernelspec": {
   "display_name": "Python 3 (ipykernel)",
   "language": "python",
   "name": "python3"
  },
  "language_info": {
   "codemirror_mode": {
    "name": "ipython",
    "version": 3
   },
   "file_extension": ".py",
   "mimetype": "text/x-python",
   "name": "python",
   "nbconvert_exporter": "python",
   "pygments_lexer": "ipython3",
   "version": "3.10.7"
  },
  "toc": {
   "base_numbering": 1,
   "nav_menu": {},
   "number_sections": true,
   "sideBar": true,
   "skip_h1_title": true,
   "title_cell": "Table of Contents",
   "title_sidebar": "Table of Contents",
   "toc_cell": true,
   "toc_position": {
    "height": "calc(100% - 180px)",
    "left": "10px",
    "top": "150px",
    "width": "206.5px"
   },
   "toc_section_display": true,
   "toc_window_display": true
  }
 },
 "nbformat": 4,
 "nbformat_minor": 2
}
