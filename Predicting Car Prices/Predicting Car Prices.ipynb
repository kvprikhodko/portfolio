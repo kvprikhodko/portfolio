{
 "cells": [
  {
   "cell_type": "markdown",
   "metadata": {},
   "source": [
    "# Predicting Car Prices"
   ]
  },
  {
   "cell_type": "markdown",
   "metadata": {},
   "source": [
    "A used car service is developing an app to attract new customers. In it, you can quickly find out the market value of your car. Historical data is available: technical characteristics, configurations and prices of vehicles.\n",
    "\n",
    "**Task:** build a model to determine the price. What matters to the customer are: the quality of prediction, the speed of prediction, the training time. To assess the quality of models, it is necessary to apply the RMSE metric, the value of the metric must be less than 2500."
   ]
  },
  {
   "cell_type": "markdown",
   "metadata": {},
   "source": [
    "**Data Description:**\n",
    "\n",
    "*features*\n",
    "* `DateCrawled` — date of downloading the profile from the database\n",
    "* `VehicleType` — car body type\n",
    "* `RegistrationYear` — year of car registration\n",
    "* `Gearbox` — gearbox type\n",
    "* `Power` — power (hp)\n",
    "* `Model` — car model\n",
    "* `Kilometer` — mileage (km)\n",
    "* `RegistrationMonth` — month of car registration\n",
    "* `FuelType` — type of fuel\n",
    "* `Brand` — car brand\n",
    "* `NotRepaired` — was the car under repair or not\n",
    "* `DateCreated` — date of creation of the questionnaire\n",
    "* `NumberOfPictures` - the number of photos of the car\n",
    "* `PostalCode` — postal code of the owner of the profile (user)\n",
    "* `LastSeen` — date of last user activity\n",
    "\n",
    "*target*\n",
    "* `Price` — price (EUR)"
   ]
  },
  {
   "cell_type": "markdown",
   "metadata": {
    "toc": true
   },
   "source": [
    "<h1>Table of Contents<span class=\"tocSkip\"></span></h1>\n",
    "<div class=\"toc\"><ul class=\"toc-item\"><li><span><a href=\"#Data-preprocessing\" data-toc-modified-id=\"Data-preprocessing-1\"><span class=\"toc-item-num\">1&nbsp;&nbsp;</span>Data preprocessing</a></span></li><li><span><a href=\"#Model-selection\" data-toc-modified-id=\"Model-selection-2\"><span class=\"toc-item-num\">2&nbsp;&nbsp;</span>Model selection</a></span><ul class=\"toc-item\"><li><span><a href=\"#LinearRegression\" data-toc-modified-id=\"LinearRegression-2.1\"><span class=\"toc-item-num\">2.1&nbsp;&nbsp;</span>LinearRegression</a></span></li><li><span><a href=\"#DecisionTreeRegressor\" data-toc-modified-id=\"DecisionTreeRegressor-2.2\"><span class=\"toc-item-num\">2.2&nbsp;&nbsp;</span>DecisionTreeRegressor</a></span></li><li><span><a href=\"#RandomForestRegressor\" data-toc-modified-id=\"RandomForestRegressor-2.3\"><span class=\"toc-item-num\">2.3&nbsp;&nbsp;</span>RandomForestRegressor</a></span></li><li><span><a href=\"#XGBRegressor\" data-toc-modified-id=\"XGBRegressor-2.4\"><span class=\"toc-item-num\">2.4&nbsp;&nbsp;</span>XGBRegressor</a></span></li><li><span><a href=\"#LGBMRegressor\" data-toc-modified-id=\"LGBMRegressor-2.5\"><span class=\"toc-item-num\">2.5&nbsp;&nbsp;</span>LGBMRegressor</a></span></li></ul></li><li><span><a href=\"#Final-model-testing\" data-toc-modified-id=\"Final-model-testing-3\"><span class=\"toc-item-num\">3&nbsp;&nbsp;</span>Final model testing</a></span></li><li><span><a href=\"#Conclusions\" data-toc-modified-id=\"Conclusions-4\"><span class=\"toc-item-num\">4&nbsp;&nbsp;</span>Conclusions</a></span></li></ul></div>"
   ]
  },
  {
   "cell_type": "markdown",
   "metadata": {},
   "source": [
    "## Data preprocessing"
   ]
  },
  {
   "cell_type": "code",
   "execution_count": 1,
   "metadata": {},
   "outputs": [],
   "source": [
    "import pandas as pd\n",
    "import numpy as np\n",
    "import matplotlib.pyplot as plt\n",
    "import re\n",
    "import time\n",
    "\n",
    "# regression\n",
    "from sklearn.linear_model import LinearRegression\n",
    "from sklearn.tree import DecisionTreeRegressor\n",
    "from sklearn.ensemble import RandomForestRegressor\n",
    "from xgboost import XGBRegressor\n",
    "from lightgbm import LGBMRegressor\n",
    "\n",
    "from sklearn.preprocessing import OrdinalEncoder\n",
    "from sklearn.model_selection import train_test_split\n",
    "from sklearn.model_selection import GridSearchCV\n",
    "from sklearn.model_selection import cross_val_score\n",
    "from sklearn.metrics import mean_squared_error as MSE\n",
    "\n",
    "pd.set_option('display.max_columns', None)\n",
    "pd.options.display.float_format = '{:.3f}'.format\n",
    "pd.options.mode.chained_assignment = None"
   ]
  },
  {
   "cell_type": "code",
   "execution_count": 2,
   "metadata": {},
   "outputs": [
    {
     "data": {
      "text/html": [
       "<div>\n",
       "<style scoped>\n",
       "    .dataframe tbody tr th:only-of-type {\n",
       "        vertical-align: middle;\n",
       "    }\n",
       "\n",
       "    .dataframe tbody tr th {\n",
       "        vertical-align: top;\n",
       "    }\n",
       "\n",
       "    .dataframe thead th {\n",
       "        text-align: right;\n",
       "    }\n",
       "</style>\n",
       "<table border=\"1\" class=\"dataframe\">\n",
       "  <thead>\n",
       "    <tr style=\"text-align: right;\">\n",
       "      <th></th>\n",
       "      <th>DateCrawled</th>\n",
       "      <th>Price</th>\n",
       "      <th>VehicleType</th>\n",
       "      <th>RegistrationYear</th>\n",
       "      <th>Gearbox</th>\n",
       "      <th>Power</th>\n",
       "      <th>Model</th>\n",
       "      <th>Kilometer</th>\n",
       "      <th>RegistrationMonth</th>\n",
       "      <th>FuelType</th>\n",
       "      <th>Brand</th>\n",
       "      <th>NotRepaired</th>\n",
       "      <th>DateCreated</th>\n",
       "      <th>NumberOfPictures</th>\n",
       "      <th>PostalCode</th>\n",
       "      <th>LastSeen</th>\n",
       "    </tr>\n",
       "  </thead>\n",
       "  <tbody>\n",
       "    <tr>\n",
       "      <th>0</th>\n",
       "      <td>2016-03-24 11:52:17</td>\n",
       "      <td>480</td>\n",
       "      <td>NaN</td>\n",
       "      <td>1993</td>\n",
       "      <td>manual</td>\n",
       "      <td>0</td>\n",
       "      <td>golf</td>\n",
       "      <td>150000</td>\n",
       "      <td>0</td>\n",
       "      <td>petrol</td>\n",
       "      <td>volkswagen</td>\n",
       "      <td>NaN</td>\n",
       "      <td>2016-03-24 00:00:00</td>\n",
       "      <td>0</td>\n",
       "      <td>70435</td>\n",
       "      <td>2016-04-07 03:16:57</td>\n",
       "    </tr>\n",
       "    <tr>\n",
       "      <th>1</th>\n",
       "      <td>2016-03-24 10:58:45</td>\n",
       "      <td>18300</td>\n",
       "      <td>coupe</td>\n",
       "      <td>2011</td>\n",
       "      <td>manual</td>\n",
       "      <td>190</td>\n",
       "      <td>NaN</td>\n",
       "      <td>125000</td>\n",
       "      <td>5</td>\n",
       "      <td>gasoline</td>\n",
       "      <td>audi</td>\n",
       "      <td>yes</td>\n",
       "      <td>2016-03-24 00:00:00</td>\n",
       "      <td>0</td>\n",
       "      <td>66954</td>\n",
       "      <td>2016-04-07 01:46:50</td>\n",
       "    </tr>\n",
       "    <tr>\n",
       "      <th>2</th>\n",
       "      <td>2016-03-14 12:52:21</td>\n",
       "      <td>9800</td>\n",
       "      <td>suv</td>\n",
       "      <td>2004</td>\n",
       "      <td>auto</td>\n",
       "      <td>163</td>\n",
       "      <td>grand</td>\n",
       "      <td>125000</td>\n",
       "      <td>8</td>\n",
       "      <td>gasoline</td>\n",
       "      <td>jeep</td>\n",
       "      <td>NaN</td>\n",
       "      <td>2016-03-14 00:00:00</td>\n",
       "      <td>0</td>\n",
       "      <td>90480</td>\n",
       "      <td>2016-04-05 12:47:46</td>\n",
       "    </tr>\n",
       "    <tr>\n",
       "      <th>3</th>\n",
       "      <td>2016-03-17 16:54:04</td>\n",
       "      <td>1500</td>\n",
       "      <td>small</td>\n",
       "      <td>2001</td>\n",
       "      <td>manual</td>\n",
       "      <td>75</td>\n",
       "      <td>golf</td>\n",
       "      <td>150000</td>\n",
       "      <td>6</td>\n",
       "      <td>petrol</td>\n",
       "      <td>volkswagen</td>\n",
       "      <td>no</td>\n",
       "      <td>2016-03-17 00:00:00</td>\n",
       "      <td>0</td>\n",
       "      <td>91074</td>\n",
       "      <td>2016-03-17 17:40:17</td>\n",
       "    </tr>\n",
       "    <tr>\n",
       "      <th>4</th>\n",
       "      <td>2016-03-31 17:25:20</td>\n",
       "      <td>3600</td>\n",
       "      <td>small</td>\n",
       "      <td>2008</td>\n",
       "      <td>manual</td>\n",
       "      <td>69</td>\n",
       "      <td>fabia</td>\n",
       "      <td>90000</td>\n",
       "      <td>7</td>\n",
       "      <td>gasoline</td>\n",
       "      <td>skoda</td>\n",
       "      <td>no</td>\n",
       "      <td>2016-03-31 00:00:00</td>\n",
       "      <td>0</td>\n",
       "      <td>60437</td>\n",
       "      <td>2016-04-06 10:17:21</td>\n",
       "    </tr>\n",
       "  </tbody>\n",
       "</table>\n",
       "</div>"
      ],
      "text/plain": [
       "           DateCrawled  Price VehicleType  RegistrationYear Gearbox  Power  \\\n",
       "0  2016-03-24 11:52:17    480         NaN              1993  manual      0   \n",
       "1  2016-03-24 10:58:45  18300       coupe              2011  manual    190   \n",
       "2  2016-03-14 12:52:21   9800         suv              2004    auto    163   \n",
       "3  2016-03-17 16:54:04   1500       small              2001  manual     75   \n",
       "4  2016-03-31 17:25:20   3600       small              2008  manual     69   \n",
       "\n",
       "   Model  Kilometer  RegistrationMonth  FuelType       Brand NotRepaired  \\\n",
       "0   golf     150000                  0    petrol  volkswagen         NaN   \n",
       "1    NaN     125000                  5  gasoline        audi         yes   \n",
       "2  grand     125000                  8  gasoline        jeep         NaN   \n",
       "3   golf     150000                  6    petrol  volkswagen          no   \n",
       "4  fabia      90000                  7  gasoline       skoda          no   \n",
       "\n",
       "           DateCreated  NumberOfPictures  PostalCode             LastSeen  \n",
       "0  2016-03-24 00:00:00                 0       70435  2016-04-07 03:16:57  \n",
       "1  2016-03-24 00:00:00                 0       66954  2016-04-07 01:46:50  \n",
       "2  2016-03-14 00:00:00                 0       90480  2016-04-05 12:47:46  \n",
       "3  2016-03-17 00:00:00                 0       91074  2016-03-17 17:40:17  \n",
       "4  2016-03-31 00:00:00                 0       60437  2016-04-06 10:17:21  "
      ]
     },
     "execution_count": 2,
     "metadata": {},
     "output_type": "execute_result"
    }
   ],
   "source": [
    "df = pd.read_csv('data/autos.csv', sep=',')\n",
    "\n",
    "# save shape \n",
    "total_entries = df.shape[0]\n",
    "\n",
    "df.head()"
   ]
  },
  {
   "cell_type": "code",
   "execution_count": 3,
   "metadata": {},
   "outputs": [
    {
     "data": {
      "text/plain": [
       "Index(['date_crawled', 'price', 'vehicle_type', 'registration_year', 'gearbox',\n",
       "       'power', 'model', 'kilometer', 'registration_month', 'fuel_type',\n",
       "       'brand', 'not_repaired', 'date_created', 'number_of_pictures',\n",
       "       'postal_code', 'last_seen'],\n",
       "      dtype='object')"
      ]
     },
     "execution_count": 3,
     "metadata": {},
     "output_type": "execute_result"
    }
   ],
   "source": [
    "# format columns\n",
    "df.columns = [re.sub(r\"(\\w)([A-Z])\", r\"\\1_\\2\", it).lower() for it in df.columns]\n",
    "df.columns"
   ]
  },
  {
   "cell_type": "code",
   "execution_count": 4,
   "metadata": {},
   "outputs": [
    {
     "name": "stdout",
     "output_type": "stream",
     "text": [
      "<class 'pandas.core.frame.DataFrame'>\n",
      "RangeIndex: 354369 entries, 0 to 354368\n",
      "Data columns (total 16 columns):\n",
      " #   Column              Non-Null Count   Dtype \n",
      "---  ------              --------------   ----- \n",
      " 0   date_crawled        354369 non-null  object\n",
      " 1   price               354369 non-null  int64 \n",
      " 2   vehicle_type        316879 non-null  object\n",
      " 3   registration_year   354369 non-null  int64 \n",
      " 4   gearbox             334536 non-null  object\n",
      " 5   power               354369 non-null  int64 \n",
      " 6   model               334664 non-null  object\n",
      " 7   kilometer           354369 non-null  int64 \n",
      " 8   registration_month  354369 non-null  int64 \n",
      " 9   fuel_type           321474 non-null  object\n",
      " 10  brand               354369 non-null  object\n",
      " 11  not_repaired        283215 non-null  object\n",
      " 12  date_created        354369 non-null  object\n",
      " 13  number_of_pictures  354369 non-null  int64 \n",
      " 14  postal_code         354369 non-null  int64 \n",
      " 15  last_seen           354369 non-null  object\n",
      "dtypes: int64(7), object(9)\n",
      "memory usage: 43.3+ MB\n"
     ]
    }
   ],
   "source": [
    "# check type of columns\n",
    "df.info()"
   ]
  },
  {
   "cell_type": "code",
   "execution_count": 5,
   "metadata": {},
   "outputs": [],
   "source": [
    "# delete extra columns that are not useful for analysis\n",
    "df = df.drop(['date_crawled', 'date_created', 'last_seen', 'postal_code', 'registration_month'], axis=1)\n",
    "# replace the values in the not_repaired column with 1 and 0\n",
    "df['not_repaired'] = df['not_repaired'].replace(['yes', 'no'], [1, 0])"
   ]
  },
  {
   "cell_type": "code",
   "execution_count": 6,
   "metadata": {},
   "outputs": [
    {
     "data": {
      "text/html": [
       "<div>\n",
       "<style scoped>\n",
       "    .dataframe tbody tr th:only-of-type {\n",
       "        vertical-align: middle;\n",
       "    }\n",
       "\n",
       "    .dataframe tbody tr th {\n",
       "        vertical-align: top;\n",
       "    }\n",
       "\n",
       "    .dataframe thead th {\n",
       "        text-align: right;\n",
       "    }\n",
       "</style>\n",
       "<table border=\"1\" class=\"dataframe\">\n",
       "  <thead>\n",
       "    <tr style=\"text-align: right;\">\n",
       "      <th></th>\n",
       "      <th>count</th>\n",
       "      <th>mean</th>\n",
       "      <th>std</th>\n",
       "      <th>min</th>\n",
       "      <th>25%</th>\n",
       "      <th>50%</th>\n",
       "      <th>75%</th>\n",
       "      <th>max</th>\n",
       "    </tr>\n",
       "  </thead>\n",
       "  <tbody>\n",
       "    <tr>\n",
       "      <th>price</th>\n",
       "      <td>354369.000</td>\n",
       "      <td>4416.657</td>\n",
       "      <td>4514.159</td>\n",
       "      <td>0.000</td>\n",
       "      <td>1050.000</td>\n",
       "      <td>2700.000</td>\n",
       "      <td>6400.000</td>\n",
       "      <td>20000.000</td>\n",
       "    </tr>\n",
       "    <tr>\n",
       "      <th>registration_year</th>\n",
       "      <td>354369.000</td>\n",
       "      <td>2004.234</td>\n",
       "      <td>90.228</td>\n",
       "      <td>1000.000</td>\n",
       "      <td>1999.000</td>\n",
       "      <td>2003.000</td>\n",
       "      <td>2008.000</td>\n",
       "      <td>9999.000</td>\n",
       "    </tr>\n",
       "    <tr>\n",
       "      <th>power</th>\n",
       "      <td>354369.000</td>\n",
       "      <td>110.094</td>\n",
       "      <td>189.850</td>\n",
       "      <td>0.000</td>\n",
       "      <td>69.000</td>\n",
       "      <td>105.000</td>\n",
       "      <td>143.000</td>\n",
       "      <td>20000.000</td>\n",
       "    </tr>\n",
       "    <tr>\n",
       "      <th>kilometer</th>\n",
       "      <td>354369.000</td>\n",
       "      <td>128211.173</td>\n",
       "      <td>37905.342</td>\n",
       "      <td>5000.000</td>\n",
       "      <td>125000.000</td>\n",
       "      <td>150000.000</td>\n",
       "      <td>150000.000</td>\n",
       "      <td>150000.000</td>\n",
       "    </tr>\n",
       "    <tr>\n",
       "      <th>not_repaired</th>\n",
       "      <td>283215.000</td>\n",
       "      <td>0.127</td>\n",
       "      <td>0.333</td>\n",
       "      <td>0.000</td>\n",
       "      <td>0.000</td>\n",
       "      <td>0.000</td>\n",
       "      <td>0.000</td>\n",
       "      <td>1.000</td>\n",
       "    </tr>\n",
       "    <tr>\n",
       "      <th>number_of_pictures</th>\n",
       "      <td>354369.000</td>\n",
       "      <td>0.000</td>\n",
       "      <td>0.000</td>\n",
       "      <td>0.000</td>\n",
       "      <td>0.000</td>\n",
       "      <td>0.000</td>\n",
       "      <td>0.000</td>\n",
       "      <td>0.000</td>\n",
       "    </tr>\n",
       "  </tbody>\n",
       "</table>\n",
       "</div>"
      ],
      "text/plain": [
       "                        count       mean       std      min        25%  \\\n",
       "price              354369.000   4416.657  4514.159    0.000   1050.000   \n",
       "registration_year  354369.000   2004.234    90.228 1000.000   1999.000   \n",
       "power              354369.000    110.094   189.850    0.000     69.000   \n",
       "kilometer          354369.000 128211.173 37905.342 5000.000 125000.000   \n",
       "not_repaired       283215.000      0.127     0.333    0.000      0.000   \n",
       "number_of_pictures 354369.000      0.000     0.000    0.000      0.000   \n",
       "\n",
       "                          50%        75%        max  \n",
       "price                2700.000   6400.000  20000.000  \n",
       "registration_year    2003.000   2008.000   9999.000  \n",
       "power                 105.000    143.000  20000.000  \n",
       "kilometer          150000.000 150000.000 150000.000  \n",
       "not_repaired            0.000      0.000      1.000  \n",
       "number_of_pictures      0.000      0.000      0.000  "
      ]
     },
     "metadata": {},
     "output_type": "display_data"
    },
    {
     "data": {
      "image/png": "[encoded data removed]",
      "text/plain": [
       "<Figure size 1600x900 with 6 Axes>"
      ]
     },
     "metadata": {},
     "output_type": "display_data"
    }
   ],
   "source": [
    "# check the data for anomalies\n",
    "display(df.describe().T)\n",
    "\n",
    "df.hist(figsize=(16, 9), bins=70, alpha=.7)\n",
    "plt.show()"
   ]
  },
  {
   "cell_type": "code",
   "execution_count": 7,
   "metadata": {},
   "outputs": [
    {
     "data": {
      "image/png": "[encoded data removed]",
      "text/plain": [
       "<Figure size 1600x900 with 6 Axes>"
      ]
     },
     "metadata": {},
     "output_type": "display_data"
    }
   ],
   "source": [
    "# remove outliers in the data, remove the number_of_pictures column there are only nulls\n",
    "# most of the mileage values are 150 000 km., this can interfere with the analysis\n",
    "df = df.query('price > 10 and 1980 < registration_year <= 2016 and 30 < power <= 350').reset_index(drop=True)\n",
    "df = df.drop(['number_of_pictures'], axis=1)\n",
    "              \n",
    "# check\n",
    "df.hist(figsize=(16, 9), bins=50, alpha=.7)\n",
    "plt.show()"
   ]
  },
  {
   "cell_type": "code",
   "execution_count": 8,
   "metadata": {},
   "outputs": [
    {
     "data": {
      "text/plain": [
       "price                0.000\n",
       "vehicle_type         3.674\n",
       "registration_year    0.000\n",
       "gearbox              1.763\n",
       "power                0.000\n",
       "model                3.550\n",
       "kilometer            0.000\n",
       "fuel_type            5.178\n",
       "brand                0.000\n",
       "not_repaired        14.372\n",
       "dtype: float64"
      ]
     },
     "execution_count": 8,
     "metadata": {},
     "output_type": "execute_result"
    }
   ],
   "source": [
    "# empty values are in categorical variables\n",
    "df.isna().mean() * 100"
   ]
  },
  {
   "cell_type": "code",
   "execution_count": 9,
   "metadata": {
    "scrolled": true
   },
   "outputs": [
    {
     "name": "stdout",
     "output_type": "stream",
     "text": [
      "\n",
      "brand:\n",
      " volkswagen        63487\n",
      "opel              32155\n",
      "bmw               31928\n",
      "mercedes_benz     26667\n",
      "audi              25368\n",
      "ford              20473\n",
      "renault           13853\n",
      "peugeot            9383\n",
      "fiat               7474\n",
      "seat               5828\n",
      "skoda              4933\n",
      "mazda              4713\n",
      "smart              4471\n",
      "citroen            4151\n",
      "nissan             4033\n",
      "toyota             3999\n",
      "hyundai            3104\n",
      "mini               2955\n",
      "volvo              2773\n",
      "mitsubishi         2488\n",
      "honda              2351\n",
      "kia                2085\n",
      "suzuki             1959\n",
      "alfa_romeo         1926\n",
      "chevrolet          1376\n",
      "sonstige_autos     1250\n",
      "chrysler           1141\n",
      "dacia               799\n",
      "subaru              641\n",
      "daihatsu            615\n",
      "jeep                551\n",
      "porsche             533\n",
      "saab                467\n",
      "land_rover          444\n",
      "daewoo              408\n",
      "jaguar              394\n",
      "lancia              365\n",
      "rover               361\n",
      "lada                141\n",
      "trabant              21\n",
      "Name: brand, dtype: int64\n",
      "\n",
      "model:\n",
      " golf                  24607\n",
      "other                 19013\n",
      "3er                   17302\n",
      "polo                  10655\n",
      "NaN                   10368\n",
      "                      ...  \n",
      "samara                    5\n",
      "601                       4\n",
      "range_rover_evoque        2\n",
      "rangerover                2\n",
      "serie_2                   1\n",
      "Name: model, Length: 249, dtype: int64\n",
      "\n",
      "gearbox:\n",
      " manual    229450\n",
      "auto       57464\n",
      "NaN         5150\n",
      "Name: gearbox, dtype: int64\n",
      "\n",
      "fuel_type:\n",
      " petrol      184054\n",
      "gasoline     87496\n",
      "NaN          15123\n",
      "lpg           4623\n",
      "cng            479\n",
      "hybrid         201\n",
      "other           52\n",
      "electric        36\n",
      "Name: fuel_type, dtype: int64\n",
      "\n",
      "vehicle_type:\n",
      " sedan          81601\n",
      "small          69490\n",
      "wagon          58894\n",
      "bus            26065\n",
      "convertible    18324\n",
      "coupe          13952\n",
      "NaN            10730\n",
      "suv            10704\n",
      "other           2304\n",
      "Name: vehicle_type, dtype: int64\n"
     ]
    }
   ],
   "source": [
    "# look at the categorical variables and how they can be filled\n",
    "print('\\nbrand:\\n', df.brand.value_counts(dropna=False))\n",
    "print('\\nmodel:\\n', df.model.value_counts(dropna=False))\n",
    "print('\\ngearbox:\\n', df.gearbox.value_counts(dropna=False))\n",
    "print('\\nfuel_type:\\n', df.fuel_type.value_counts(dropna=False))\n",
    "print('\\nvehicle_type:\\n', df.vehicle_type.value_counts(dropna=False))"
   ]
  },
  {
   "cell_type": "code",
   "execution_count": 10,
   "metadata": {},
   "outputs": [
    {
     "data": {
      "text/html": [
       "<div>\n",
       "<style scoped>\n",
       "    .dataframe tbody tr th:only-of-type {\n",
       "        vertical-align: middle;\n",
       "    }\n",
       "\n",
       "    .dataframe tbody tr th {\n",
       "        vertical-align: top;\n",
       "    }\n",
       "\n",
       "    .dataframe thead th {\n",
       "        text-align: right;\n",
       "    }\n",
       "</style>\n",
       "<table border=\"1\" class=\"dataframe\">\n",
       "  <thead>\n",
       "    <tr style=\"text-align: right;\">\n",
       "      <th></th>\n",
       "      <th></th>\n",
       "      <th></th>\n",
       "      <th></th>\n",
       "      <th></th>\n",
       "      <th>kilometer</th>\n",
       "      <th>not_repaired</th>\n",
       "      <th>power</th>\n",
       "      <th>price</th>\n",
       "      <th>registration_year</th>\n",
       "    </tr>\n",
       "    <tr>\n",
       "      <th>brand</th>\n",
       "      <th>model</th>\n",
       "      <th>gearbox</th>\n",
       "      <th>fuel_type</th>\n",
       "      <th>vehicle_type</th>\n",
       "      <th></th>\n",
       "      <th></th>\n",
       "      <th></th>\n",
       "      <th></th>\n",
       "      <th></th>\n",
       "    </tr>\n",
       "  </thead>\n",
       "  <tbody>\n",
       "    <tr>\n",
       "      <th rowspan=\"20\" valign=\"top\">alfa_romeo</th>\n",
       "      <th rowspan=\"4\" valign=\"top\">145</th>\n",
       "      <th rowspan=\"4\" valign=\"top\">manual</th>\n",
       "      <th rowspan=\"4\" valign=\"top\">petrol</th>\n",
       "      <th>coupe</th>\n",
       "      <td>100000.000</td>\n",
       "      <td>0.000</td>\n",
       "      <td>103.000</td>\n",
       "      <td>750.000</td>\n",
       "      <td>1999.000</td>\n",
       "    </tr>\n",
       "    <tr>\n",
       "      <th>other</th>\n",
       "      <td>100000.000</td>\n",
       "      <td>0.000</td>\n",
       "      <td>100.000</td>\n",
       "      <td>500.000</td>\n",
       "      <td>1995.000</td>\n",
       "    </tr>\n",
       "    <tr>\n",
       "      <th>sedan</th>\n",
       "      <td>138750.000</td>\n",
       "      <td>0.167</td>\n",
       "      <td>120.917</td>\n",
       "      <td>1560.750</td>\n",
       "      <td>1998.500</td>\n",
       "    </tr>\n",
       "    <tr>\n",
       "      <th>small</th>\n",
       "      <td>136111.111</td>\n",
       "      <td>0.250</td>\n",
       "      <td>108.889</td>\n",
       "      <td>820.611</td>\n",
       "      <td>1998.111</td>\n",
       "    </tr>\n",
       "    <tr>\n",
       "      <th rowspan=\"16\" valign=\"top\">147</th>\n",
       "      <th rowspan=\"3\" valign=\"top\">auto</th>\n",
       "      <th rowspan=\"3\" valign=\"top\">petrol</th>\n",
       "      <th>coupe</th>\n",
       "      <td>150000.000</td>\n",
       "      <td>1.000</td>\n",
       "      <td>150.000</td>\n",
       "      <td>800.000</td>\n",
       "      <td>2001.000</td>\n",
       "    </tr>\n",
       "    <tr>\n",
       "      <th>sedan</th>\n",
       "      <td>138461.538</td>\n",
       "      <td>0.083</td>\n",
       "      <td>150.000</td>\n",
       "      <td>2544.923</td>\n",
       "      <td>2002.231</td>\n",
       "    </tr>\n",
       "    <tr>\n",
       "      <th>small</th>\n",
       "      <td>145000.000</td>\n",
       "      <td>0.500</td>\n",
       "      <td>150.000</td>\n",
       "      <td>938.000</td>\n",
       "      <td>2000.800</td>\n",
       "    </tr>\n",
       "    <tr>\n",
       "      <th rowspan=\"13\" valign=\"top\">manual</th>\n",
       "      <th rowspan=\"5\" valign=\"top\">gasoline</th>\n",
       "      <th>coupe</th>\n",
       "      <td>141666.667</td>\n",
       "      <td>0.000</td>\n",
       "      <td>131.667</td>\n",
       "      <td>3023.000</td>\n",
       "      <td>2005.333</td>\n",
       "    </tr>\n",
       "    <tr>\n",
       "      <th>other</th>\n",
       "      <td>150000.000</td>\n",
       "      <td>0.500</td>\n",
       "      <td>122.000</td>\n",
       "      <td>1525.000</td>\n",
       "      <td>2003.500</td>\n",
       "    </tr>\n",
       "    <tr>\n",
       "      <th>sedan</th>\n",
       "      <td>144944.444</td>\n",
       "      <td>0.118</td>\n",
       "      <td>129.367</td>\n",
       "      <td>2754.233</td>\n",
       "      <td>2004.778</td>\n",
       "    </tr>\n",
       "    <tr>\n",
       "      <th>small</th>\n",
       "      <td>144687.500</td>\n",
       "      <td>0.167</td>\n",
       "      <td>125.125</td>\n",
       "      <td>2351.250</td>\n",
       "      <td>2003.500</td>\n",
       "    </tr>\n",
       "    <tr>\n",
       "      <th>wagon</th>\n",
       "      <td>150000.000</td>\n",
       "      <td>0.000</td>\n",
       "      <td>116.000</td>\n",
       "      <td>2499.000</td>\n",
       "      <td>2002.000</td>\n",
       "    </tr>\n",
       "    <tr>\n",
       "      <th rowspan=\"3\" valign=\"top\">lpg</th>\n",
       "      <th>coupe</th>\n",
       "      <td>150000.000</td>\n",
       "      <td>NaN</td>\n",
       "      <td>105.000</td>\n",
       "      <td>1600.000</td>\n",
       "      <td>2002.000</td>\n",
       "    </tr>\n",
       "    <tr>\n",
       "      <th>sedan</th>\n",
       "      <td>150000.000</td>\n",
       "      <td>0.400</td>\n",
       "      <td>124.500</td>\n",
       "      <td>1793.750</td>\n",
       "      <td>2002.500</td>\n",
       "    </tr>\n",
       "    <tr>\n",
       "      <th>small</th>\n",
       "      <td>150000.000</td>\n",
       "      <td>0.000</td>\n",
       "      <td>105.000</td>\n",
       "      <td>1900.000</td>\n",
       "      <td>2005.000</td>\n",
       "    </tr>\n",
       "    <tr>\n",
       "      <th rowspan=\"5\" valign=\"top\">petrol</th>\n",
       "      <th>coupe</th>\n",
       "      <td>139705.882</td>\n",
       "      <td>0.250</td>\n",
       "      <td>118.000</td>\n",
       "      <td>2200.588</td>\n",
       "      <td>2003.353</td>\n",
       "    </tr>\n",
       "    <tr>\n",
       "      <th>other</th>\n",
       "      <td>141666.667</td>\n",
       "      <td>0.000</td>\n",
       "      <td>110.000</td>\n",
       "      <td>1566.333</td>\n",
       "      <td>2002.333</td>\n",
       "    </tr>\n",
       "    <tr>\n",
       "      <th>sedan</th>\n",
       "      <td>128568.282</td>\n",
       "      <td>0.161</td>\n",
       "      <td>116.705</td>\n",
       "      <td>2464.727</td>\n",
       "      <td>2003.612</td>\n",
       "    </tr>\n",
       "    <tr>\n",
       "      <th>small</th>\n",
       "      <td>134833.333</td>\n",
       "      <td>0.311</td>\n",
       "      <td>111.117</td>\n",
       "      <td>1937.383</td>\n",
       "      <td>2003.083</td>\n",
       "    </tr>\n",
       "    <tr>\n",
       "      <th>wagon</th>\n",
       "      <td>80000.000</td>\n",
       "      <td>0.000</td>\n",
       "      <td>200.000</td>\n",
       "      <td>10950.000</td>\n",
       "      <td>2009.000</td>\n",
       "    </tr>\n",
       "  </tbody>\n",
       "</table>\n",
       "</div>"
      ],
      "text/plain": [
       "                                                 kilometer  not_repaired  \\\n",
       "brand      model gearbox fuel_type vehicle_type                            \n",
       "alfa_romeo 145   manual  petrol    coupe        100000.000         0.000   \n",
       "                                   other        100000.000         0.000   \n",
       "                                   sedan        138750.000         0.167   \n",
       "                                   small        136111.111         0.250   \n",
       "           147   auto    petrol    coupe        150000.000         1.000   \n",
       "                                   sedan        138461.538         0.083   \n",
       "                                   small        145000.000         0.500   \n",
       "                 manual  gasoline  coupe        141666.667         0.000   \n",
       "                                   other        150000.000         0.500   \n",
       "                                   sedan        144944.444         0.118   \n",
       "                                   small        144687.500         0.167   \n",
       "                                   wagon        150000.000         0.000   \n",
       "                         lpg       coupe        150000.000           NaN   \n",
       "                                   sedan        150000.000         0.400   \n",
       "                                   small        150000.000         0.000   \n",
       "                         petrol    coupe        139705.882         0.250   \n",
       "                                   other        141666.667         0.000   \n",
       "                                   sedan        128568.282         0.161   \n",
       "                                   small        134833.333         0.311   \n",
       "                                   wagon         80000.000         0.000   \n",
       "\n",
       "                                                  power     price  \\\n",
       "brand      model gearbox fuel_type vehicle_type                     \n",
       "alfa_romeo 145   manual  petrol    coupe        103.000   750.000   \n",
       "                                   other        100.000   500.000   \n",
       "                                   sedan        120.917  1560.750   \n",
       "                                   small        108.889   820.611   \n",
       "           147   auto    petrol    coupe        150.000   800.000   \n",
       "                                   sedan        150.000  2544.923   \n",
       "                                   small        150.000   938.000   \n",
       "                 manual  gasoline  coupe        131.667  3023.000   \n",
       "                                   other        122.000  1525.000   \n",
       "                                   sedan        129.367  2754.233   \n",
       "                                   small        125.125  2351.250   \n",
       "                                   wagon        116.000  2499.000   \n",
       "                         lpg       coupe        105.000  1600.000   \n",
       "                                   sedan        124.500  1793.750   \n",
       "                                   small        105.000  1900.000   \n",
       "                         petrol    coupe        118.000  2200.588   \n",
       "                                   other        110.000  1566.333   \n",
       "                                   sedan        116.705  2464.727   \n",
       "                                   small        111.117  1937.383   \n",
       "                                   wagon        200.000 10950.000   \n",
       "\n",
       "                                                 registration_year  \n",
       "brand      model gearbox fuel_type vehicle_type                     \n",
       "alfa_romeo 145   manual  petrol    coupe                  1999.000  \n",
       "                                   other                  1995.000  \n",
       "                                   sedan                  1998.500  \n",
       "                                   small                  1998.111  \n",
       "           147   auto    petrol    coupe                  2001.000  \n",
       "                                   sedan                  2002.231  \n",
       "                                   small                  2000.800  \n",
       "                 manual  gasoline  coupe                  2005.333  \n",
       "                                   other                  2003.500  \n",
       "                                   sedan                  2004.778  \n",
       "                                   small                  2003.500  \n",
       "                                   wagon                  2002.000  \n",
       "                         lpg       coupe                  2002.000  \n",
       "                                   sedan                  2002.500  \n",
       "                                   small                  2005.000  \n",
       "                         petrol    coupe                  2003.353  \n",
       "                                   other                  2002.333  \n",
       "                                   sedan                  2003.612  \n",
       "                                   small                  2003.083  \n",
       "                                   wagon                  2009.000  "
      ]
     },
     "execution_count": 10,
     "metadata": {},
     "output_type": "execute_result"
    }
   ],
   "source": [
    "# configurations are very different, so it is difficult to fill empty values with specific values\n",
    "cars = pd.pivot_table(df, index=['brand', 'model', 'gearbox', 'fuel_type', 'vehicle_type'])\n",
    "cars.head(20)"
   ]
  },
  {
   "cell_type": "code",
   "execution_count": 11,
   "metadata": {},
   "outputs": [],
   "source": [
    "# fill empty values with the word 'other' (it is often found among values) or the most popular value\n",
    "\n",
    "# other values are now around 10%\n",
    "df['model'] = df['model'].fillna('other')\n",
    "# fill as manual as most popular\n",
    "df['gearbox'] = df['gearbox'].fillna('manual')\n",
    "# replace with the most popular and combine gasoline\n",
    "df['fuel_type'] = df['fuel_type'].fillna('petrol').replace(['gasoline'], ['petrol']) \n",
    "# replace  other\n",
    "df['vehicle_type'] = df['vehicle_type'].fillna('other') \n",
    "# replace 0 (the most popular value), but it's strange that most cars with mileage of 150 thousand were not in repair\n",
    "df['not_repaired'] = df['not_repaired'].fillna(0).astype(int) "
   ]
  },
  {
   "cell_type": "code",
   "execution_count": 12,
   "metadata": {},
   "outputs": [
    {
     "data": {
      "text/plain": [
       "price               0.000\n",
       "vehicle_type        0.000\n",
       "registration_year   0.000\n",
       "gearbox             0.000\n",
       "power               0.000\n",
       "model               0.000\n",
       "kilometer           0.000\n",
       "fuel_type           0.000\n",
       "brand               0.000\n",
       "not_repaired        0.000\n",
       "dtype: float64"
      ]
     },
     "execution_count": 12,
     "metadata": {},
     "output_type": "execute_result"
    }
   ],
   "source": [
    "# check\n",
    "df.isna().mean() * 100"
   ]
  },
  {
   "cell_type": "code",
   "execution_count": 13,
   "metadata": {},
   "outputs": [
    {
     "name": "stdout",
     "output_type": "stream",
     "text": [
      "\n",
      "brand:\n",
      " volkswagen       63487\n",
      "other            55448\n",
      "opel             32155\n",
      "bmw              31928\n",
      "mercedes_benz    26667\n",
      "audi             25368\n",
      "ford             20473\n",
      "renault          13853\n",
      "peugeot           9383\n",
      "fiat              7474\n",
      "seat              5828\n",
      "Name: brand, dtype: int64\n",
      "\n",
      "model:\n",
      " other       172366\n",
      "golf         24607\n",
      "3er          17302\n",
      "polo         10655\n",
      "corsa        10087\n",
      "astra         9063\n",
      "a4            8769\n",
      "passat        8764\n",
      "c_klasse      7282\n",
      "5er           7053\n",
      "e_klasse      5815\n",
      "a3            5242\n",
      "focus         5059\n",
      "Name: model, dtype: int64\n"
     ]
    }
   ],
   "source": [
    "# leave the most popular brands and models, replace the rest with 'other'\n",
    "# otherwise the model will take a very long time to train\n",
    "# this will reduce the quality of the model, but at the training stage it is important for us to compare them\n",
    "\n",
    "df['brand'] = np.where(df['brand'].map(df['brand'].value_counts()) <= 5000, 'other', df.brand)\n",
    "df['model'] = np.where(df['model'].map(df['model'].value_counts()) <= 5000, 'other', df.model)\n",
    "\n",
    "print('\\nbrand:\\n', df.brand.value_counts(dropna=False))\n",
    "print('\\nmodel:\\n', df.model.value_counts(dropna=False))"
   ]
  },
  {
   "cell_type": "code",
   "execution_count": 14,
   "metadata": {},
   "outputs": [
    {
     "name": "stdout",
     "output_type": "stream",
     "text": [
      "sum of duplicates: 52207\n"
     ]
    }
   ],
   "source": [
    "# check and remove duplicates\n",
    "print('sum of duplicates:', df.duplicated().sum())\n",
    "\n",
    "df = df.drop_duplicates().reset_index(drop=True)"
   ]
  },
  {
   "cell_type": "code",
   "execution_count": 15,
   "metadata": {},
   "outputs": [
    {
     "name": "stdout",
     "output_type": "stream",
     "text": [
      "original df: 354369\n",
      "final df: 239857\n",
      "deleted rows, %: -32.0\n"
     ]
    }
   ],
   "source": [
    "# check how many rows we removed\n",
    "print('original df:', total_entries)\n",
    "print('final df:', df.shape[0])\n",
    "print('deleted rows, %:', (round((df.shape[0] / total_entries - 1)*100,0)))"
   ]
  },
  {
   "cell_type": "markdown",
   "metadata": {},
   "source": [
    "32% of the rows have been removed, half of them are duplicates (because we removed the columns that made the row unique - date of creation, upload, last activity), so this is ok for our project"
   ]
  },
  {
   "cell_type": "code",
   "execution_count": 16,
   "metadata": {},
   "outputs": [
    {
     "data": {
      "text/html": [
       "<div>\n",
       "<style scoped>\n",
       "    .dataframe tbody tr th:only-of-type {\n",
       "        vertical-align: middle;\n",
       "    }\n",
       "\n",
       "    .dataframe tbody tr th {\n",
       "        vertical-align: top;\n",
       "    }\n",
       "\n",
       "    .dataframe thead th {\n",
       "        text-align: right;\n",
       "    }\n",
       "</style>\n",
       "<table border=\"1\" class=\"dataframe\">\n",
       "  <thead>\n",
       "    <tr style=\"text-align: right;\">\n",
       "      <th></th>\n",
       "      <th>price</th>\n",
       "      <th>vehicle_type</th>\n",
       "      <th>registration_year</th>\n",
       "      <th>gearbox</th>\n",
       "      <th>power</th>\n",
       "      <th>model</th>\n",
       "      <th>kilometer</th>\n",
       "      <th>fuel_type</th>\n",
       "      <th>brand</th>\n",
       "      <th>not_repaired</th>\n",
       "    </tr>\n",
       "  </thead>\n",
       "  <tbody>\n",
       "    <tr>\n",
       "      <th>201074</th>\n",
       "      <td>9299</td>\n",
       "      <td>other</td>\n",
       "      <td>2010</td>\n",
       "      <td>manual</td>\n",
       "      <td>122</td>\n",
       "      <td>golf</td>\n",
       "      <td>90000</td>\n",
       "      <td>petrol</td>\n",
       "      <td>volkswagen</td>\n",
       "      <td>0</td>\n",
       "    </tr>\n",
       "    <tr>\n",
       "      <th>15342</th>\n",
       "      <td>4650</td>\n",
       "      <td>bus</td>\n",
       "      <td>2006</td>\n",
       "      <td>auto</td>\n",
       "      <td>150</td>\n",
       "      <td>other</td>\n",
       "      <td>150000</td>\n",
       "      <td>petrol</td>\n",
       "      <td>opel</td>\n",
       "      <td>0</td>\n",
       "    </tr>\n",
       "    <tr>\n",
       "      <th>130434</th>\n",
       "      <td>7680</td>\n",
       "      <td>wagon</td>\n",
       "      <td>2006</td>\n",
       "      <td>manual</td>\n",
       "      <td>140</td>\n",
       "      <td>a4</td>\n",
       "      <td>150000</td>\n",
       "      <td>petrol</td>\n",
       "      <td>audi</td>\n",
       "      <td>0</td>\n",
       "    </tr>\n",
       "    <tr>\n",
       "      <th>44933</th>\n",
       "      <td>1500</td>\n",
       "      <td>sedan</td>\n",
       "      <td>1999</td>\n",
       "      <td>manual</td>\n",
       "      <td>88</td>\n",
       "      <td>other</td>\n",
       "      <td>125000</td>\n",
       "      <td>petrol</td>\n",
       "      <td>other</td>\n",
       "      <td>0</td>\n",
       "    </tr>\n",
       "    <tr>\n",
       "      <th>214047</th>\n",
       "      <td>2999</td>\n",
       "      <td>sedan</td>\n",
       "      <td>1999</td>\n",
       "      <td>manual</td>\n",
       "      <td>101</td>\n",
       "      <td>golf</td>\n",
       "      <td>150000</td>\n",
       "      <td>petrol</td>\n",
       "      <td>volkswagen</td>\n",
       "      <td>1</td>\n",
       "    </tr>\n",
       "  </tbody>\n",
       "</table>\n",
       "</div>"
      ],
      "text/plain": [
       "        price vehicle_type  registration_year gearbox  power  model  \\\n",
       "201074   9299        other               2010  manual    122   golf   \n",
       "15342    4650          bus               2006    auto    150  other   \n",
       "130434   7680        wagon               2006  manual    140     a4   \n",
       "44933    1500        sedan               1999  manual     88  other   \n",
       "214047   2999        sedan               1999  manual    101   golf   \n",
       "\n",
       "        kilometer fuel_type       brand  not_repaired  \n",
       "201074      90000    petrol  volkswagen             0  \n",
       "15342      150000    petrol        opel             0  \n",
       "130434     150000    petrol        audi             0  \n",
       "44933      125000    petrol       other             0  \n",
       "214047     150000    petrol  volkswagen             1  "
      ]
     },
     "execution_count": 16,
     "metadata": {},
     "output_type": "execute_result"
    }
   ],
   "source": [
    "# check final df\n",
    "df.sample(5)"
   ]
  },
  {
   "cell_type": "markdown",
   "metadata": {},
   "source": [
    "**CONCLUSION**\n",
    "\n",
    "- uploaded data on the sale of cars: prices, specifications, equipment\n",
    "- empty values are filled with the most frequently occurring value or category 'other'\n",
    "- removed outliers and anomalous values, uninformative columns and duplicates\n",
    "- in total, 32% of rows were deleted, which we consider acceptable for such a volume of data\n",
    "\n",
    "some columns require clarification from the customer:\n",
    "- more than half of the values in the 'kilometer' column are equal to 150 thousand km, which means that there may be cars with more mileage, I would like to see this and take it into account in the model\n",
    "- in the 'not_repaired' column, most cars are not repaired, despite the fact that most cars are with high mileage, the quality of the values of this column is questionable\n",
    "- columns have empty values and 'other' values, how can they be minimized"
   ]
  },
  {
   "cell_type": "markdown",
   "metadata": {},
   "source": [
    "## Model selection"
   ]
  },
  {
   "cell_type": "code",
   "execution_count": 17,
   "metadata": {},
   "outputs": [],
   "source": [
    "# select a list of categorical variables \n",
    "categories = ['vehicle_type', 'gearbox', 'model', 'fuel_type', 'brand']"
   ]
  },
  {
   "cell_type": "code",
   "execution_count": 18,
   "metadata": {},
   "outputs": [],
   "source": [
    "# split features and target\n",
    "features = df.drop(['price'], axis=1)\n",
    "target = df['price']"
   ]
  },
  {
   "cell_type": "code",
   "execution_count": 19,
   "metadata": {},
   "outputs": [],
   "source": [
    "# split into training (60%), validation (20%) and test sets (20%)\n",
    "features_train, features_valid, target_train, target_valid = train_test_split(\n",
    "                                            features, target, test_size=0.4, random_state=12345)\n",
    "\n",
    "features_valid, features_test, target_valid, target_test= train_test_split(\n",
    "                                            features_valid, target_valid, test_size=0.5, random_state=12345)"
   ]
  },
  {
   "cell_type": "code",
   "execution_count": 20,
   "metadata": {},
   "outputs": [
    {
     "name": "stdout",
     "output_type": "stream",
     "text": [
      "TRAIN\n",
      "features_train: (143914, 9)\n",
      "target_train: (143914,)\n",
      "VALID\n",
      "features_valid: (47971, 9)\n",
      "target_valid: (47971,)\n",
      "TEST\n",
      "features_test: (47972, 9)\n",
      "target_test: (47972,)\n"
     ]
    }
   ],
   "source": [
    "# check the size of the samples\n",
    "print('TRAIN')\n",
    "print('features_train:', features_train.shape)\n",
    "print('target_train:', target_train.shape)\n",
    "print('VALID')\n",
    "print('features_valid:', features_valid.shape)\n",
    "print('target_valid:', target_valid.shape)\n",
    "print('TEST')\n",
    "print('features_test:', features_test.shape)\n",
    "print('target_test:', target_test.shape)"
   ]
  },
  {
   "cell_type": "code",
   "execution_count": 21,
   "metadata": {},
   "outputs": [
    {
     "data": {
      "text/html": [
       "<div>\n",
       "<style scoped>\n",
       "    .dataframe tbody tr th:only-of-type {\n",
       "        vertical-align: middle;\n",
       "    }\n",
       "\n",
       "    .dataframe tbody tr th {\n",
       "        vertical-align: top;\n",
       "    }\n",
       "\n",
       "    .dataframe thead th {\n",
       "        text-align: right;\n",
       "    }\n",
       "</style>\n",
       "<table border=\"1\" class=\"dataframe\">\n",
       "  <thead>\n",
       "    <tr style=\"text-align: right;\">\n",
       "      <th></th>\n",
       "      <th>model</th>\n",
       "      <th>RMSE</th>\n",
       "      <th>fit_time</th>\n",
       "      <th>predict_time</th>\n",
       "    </tr>\n",
       "  </thead>\n",
       "  <tbody>\n",
       "    <tr>\n",
       "      <th>0</th>\n",
       "      <td>LinearRegression</td>\n",
       "      <td>None</td>\n",
       "      <td>None</td>\n",
       "      <td>None</td>\n",
       "    </tr>\n",
       "    <tr>\n",
       "      <th>1</th>\n",
       "      <td>DecisionTreeRegressor</td>\n",
       "      <td>None</td>\n",
       "      <td>None</td>\n",
       "      <td>None</td>\n",
       "    </tr>\n",
       "    <tr>\n",
       "      <th>2</th>\n",
       "      <td>RandomForestRegressor</td>\n",
       "      <td>None</td>\n",
       "      <td>None</td>\n",
       "      <td>None</td>\n",
       "    </tr>\n",
       "    <tr>\n",
       "      <th>3</th>\n",
       "      <td>XGBRegressor</td>\n",
       "      <td>None</td>\n",
       "      <td>None</td>\n",
       "      <td>None</td>\n",
       "    </tr>\n",
       "    <tr>\n",
       "      <th>4</th>\n",
       "      <td>LGBMRegressor</td>\n",
       "      <td>None</td>\n",
       "      <td>None</td>\n",
       "      <td>None</td>\n",
       "    </tr>\n",
       "  </tbody>\n",
       "</table>\n",
       "</div>"
      ],
      "text/plain": [
       "                   model  RMSE fit_time predict_time\n",
       "0       LinearRegression  None     None         None\n",
       "1  DecisionTreeRegressor  None     None         None\n",
       "2  RandomForestRegressor  None     None         None\n",
       "3           XGBRegressor  None     None         None\n",
       "4          LGBMRegressor  None     None         None"
      ]
     },
     "execution_count": 21,
     "metadata": {},
     "output_type": "execute_result"
    }
   ],
   "source": [
    "# make a table to compare the results of the models\n",
    "data =[\n",
    "       ['LinearRegression', None, None, None],\n",
    "       ['DecisionTreeRegressor', None, None, None], \n",
    "       ['RandomForestRegressor', None, None, None],\n",
    "       ['XGBRegressor', None, None, None],\n",
    "       ['LGBMRegressor', None, None, None]\n",
    "      ]\n",
    "\n",
    "model_results = pd.DataFrame(data, columns=['model', 'RMSE', 'fit_time', 'predict_time'])\n",
    "model_results"
   ]
  },
  {
   "cell_type": "markdown",
   "metadata": {},
   "source": [
    "### LinearRegression"
   ]
  },
  {
   "cell_type": "code",
   "execution_count": 22,
   "metadata": {},
   "outputs": [
    {
     "name": "stdout",
     "output_type": "stream",
     "text": [
      "(143914, 39)\n"
     ]
    },
    {
     "data": {
      "text/html": [
       "<div>\n",
       "<style scoped>\n",
       "    .dataframe tbody tr th:only-of-type {\n",
       "        vertical-align: middle;\n",
       "    }\n",
       "\n",
       "    .dataframe tbody tr th {\n",
       "        vertical-align: top;\n",
       "    }\n",
       "\n",
       "    .dataframe thead th {\n",
       "        text-align: right;\n",
       "    }\n",
       "</style>\n",
       "<table border=\"1\" class=\"dataframe\">\n",
       "  <thead>\n",
       "    <tr style=\"text-align: right;\">\n",
       "      <th></th>\n",
       "      <th>registration_year</th>\n",
       "      <th>power</th>\n",
       "      <th>kilometer</th>\n",
       "      <th>not_repaired</th>\n",
       "      <th>vehicle_type_convertible</th>\n",
       "      <th>vehicle_type_coupe</th>\n",
       "      <th>vehicle_type_other</th>\n",
       "      <th>vehicle_type_sedan</th>\n",
       "      <th>vehicle_type_small</th>\n",
       "      <th>vehicle_type_suv</th>\n",
       "      <th>vehicle_type_wagon</th>\n",
       "      <th>gearbox_manual</th>\n",
       "      <th>model_5er</th>\n",
       "      <th>model_a3</th>\n",
       "      <th>model_a4</th>\n",
       "      <th>model_astra</th>\n",
       "      <th>model_c_klasse</th>\n",
       "      <th>model_corsa</th>\n",
       "      <th>model_e_klasse</th>\n",
       "      <th>model_focus</th>\n",
       "      <th>model_golf</th>\n",
       "      <th>model_other</th>\n",
       "      <th>model_passat</th>\n",
       "      <th>model_polo</th>\n",
       "      <th>fuel_type_electric</th>\n",
       "      <th>fuel_type_hybrid</th>\n",
       "      <th>fuel_type_lpg</th>\n",
       "      <th>fuel_type_other</th>\n",
       "      <th>fuel_type_petrol</th>\n",
       "      <th>brand_bmw</th>\n",
       "      <th>brand_fiat</th>\n",
       "      <th>brand_ford</th>\n",
       "      <th>brand_mercedes_benz</th>\n",
       "      <th>brand_opel</th>\n",
       "      <th>brand_other</th>\n",
       "      <th>brand_peugeot</th>\n",
       "      <th>brand_renault</th>\n",
       "      <th>brand_seat</th>\n",
       "      <th>brand_volkswagen</th>\n",
       "    </tr>\n",
       "  </thead>\n",
       "  <tbody>\n",
       "    <tr>\n",
       "      <th>69330</th>\n",
       "      <td>2006</td>\n",
       "      <td>170</td>\n",
       "      <td>150000</td>\n",
       "      <td>0</td>\n",
       "      <td>0</td>\n",
       "      <td>1</td>\n",
       "      <td>0</td>\n",
       "      <td>0</td>\n",
       "      <td>0</td>\n",
       "      <td>0</td>\n",
       "      <td>0</td>\n",
       "      <td>1</td>\n",
       "      <td>0</td>\n",
       "      <td>0</td>\n",
       "      <td>0</td>\n",
       "      <td>0</td>\n",
       "      <td>0</td>\n",
       "      <td>0</td>\n",
       "      <td>0</td>\n",
       "      <td>0</td>\n",
       "      <td>0</td>\n",
       "      <td>1</td>\n",
       "      <td>0</td>\n",
       "      <td>0</td>\n",
       "      <td>0</td>\n",
       "      <td>0</td>\n",
       "      <td>0</td>\n",
       "      <td>0</td>\n",
       "      <td>1</td>\n",
       "      <td>0</td>\n",
       "      <td>0</td>\n",
       "      <td>0</td>\n",
       "      <td>0</td>\n",
       "      <td>0</td>\n",
       "      <td>0</td>\n",
       "      <td>0</td>\n",
       "      <td>0</td>\n",
       "      <td>1</td>\n",
       "      <td>0</td>\n",
       "    </tr>\n",
       "    <tr>\n",
       "      <th>14665</th>\n",
       "      <td>2010</td>\n",
       "      <td>75</td>\n",
       "      <td>50000</td>\n",
       "      <td>0</td>\n",
       "      <td>0</td>\n",
       "      <td>0</td>\n",
       "      <td>0</td>\n",
       "      <td>0</td>\n",
       "      <td>1</td>\n",
       "      <td>0</td>\n",
       "      <td>0</td>\n",
       "      <td>1</td>\n",
       "      <td>0</td>\n",
       "      <td>0</td>\n",
       "      <td>0</td>\n",
       "      <td>0</td>\n",
       "      <td>0</td>\n",
       "      <td>0</td>\n",
       "      <td>0</td>\n",
       "      <td>0</td>\n",
       "      <td>0</td>\n",
       "      <td>1</td>\n",
       "      <td>0</td>\n",
       "      <td>0</td>\n",
       "      <td>0</td>\n",
       "      <td>0</td>\n",
       "      <td>0</td>\n",
       "      <td>0</td>\n",
       "      <td>1</td>\n",
       "      <td>0</td>\n",
       "      <td>0</td>\n",
       "      <td>0</td>\n",
       "      <td>0</td>\n",
       "      <td>0</td>\n",
       "      <td>1</td>\n",
       "      <td>0</td>\n",
       "      <td>0</td>\n",
       "      <td>0</td>\n",
       "      <td>0</td>\n",
       "    </tr>\n",
       "    <tr>\n",
       "      <th>44649</th>\n",
       "      <td>1996</td>\n",
       "      <td>100</td>\n",
       "      <td>150000</td>\n",
       "      <td>0</td>\n",
       "      <td>0</td>\n",
       "      <td>0</td>\n",
       "      <td>0</td>\n",
       "      <td>0</td>\n",
       "      <td>0</td>\n",
       "      <td>0</td>\n",
       "      <td>1</td>\n",
       "      <td>0</td>\n",
       "      <td>0</td>\n",
       "      <td>0</td>\n",
       "      <td>0</td>\n",
       "      <td>1</td>\n",
       "      <td>0</td>\n",
       "      <td>0</td>\n",
       "      <td>0</td>\n",
       "      <td>0</td>\n",
       "      <td>0</td>\n",
       "      <td>0</td>\n",
       "      <td>0</td>\n",
       "      <td>0</td>\n",
       "      <td>0</td>\n",
       "      <td>0</td>\n",
       "      <td>0</td>\n",
       "      <td>0</td>\n",
       "      <td>1</td>\n",
       "      <td>0</td>\n",
       "      <td>0</td>\n",
       "      <td>0</td>\n",
       "      <td>0</td>\n",
       "      <td>1</td>\n",
       "      <td>0</td>\n",
       "      <td>0</td>\n",
       "      <td>0</td>\n",
       "      <td>0</td>\n",
       "      <td>0</td>\n",
       "    </tr>\n",
       "    <tr>\n",
       "      <th>194157</th>\n",
       "      <td>2000</td>\n",
       "      <td>193</td>\n",
       "      <td>150000</td>\n",
       "      <td>0</td>\n",
       "      <td>0</td>\n",
       "      <td>0</td>\n",
       "      <td>0</td>\n",
       "      <td>0</td>\n",
       "      <td>0</td>\n",
       "      <td>0</td>\n",
       "      <td>1</td>\n",
       "      <td>0</td>\n",
       "      <td>0</td>\n",
       "      <td>0</td>\n",
       "      <td>0</td>\n",
       "      <td>0</td>\n",
       "      <td>0</td>\n",
       "      <td>0</td>\n",
       "      <td>0</td>\n",
       "      <td>0</td>\n",
       "      <td>0</td>\n",
       "      <td>0</td>\n",
       "      <td>0</td>\n",
       "      <td>0</td>\n",
       "      <td>0</td>\n",
       "      <td>0</td>\n",
       "      <td>0</td>\n",
       "      <td>0</td>\n",
       "      <td>1</td>\n",
       "      <td>1</td>\n",
       "      <td>0</td>\n",
       "      <td>0</td>\n",
       "      <td>0</td>\n",
       "      <td>0</td>\n",
       "      <td>0</td>\n",
       "      <td>0</td>\n",
       "      <td>0</td>\n",
       "      <td>0</td>\n",
       "      <td>0</td>\n",
       "    </tr>\n",
       "    <tr>\n",
       "      <th>137046</th>\n",
       "      <td>1998</td>\n",
       "      <td>75</td>\n",
       "      <td>125000</td>\n",
       "      <td>0</td>\n",
       "      <td>0</td>\n",
       "      <td>0</td>\n",
       "      <td>0</td>\n",
       "      <td>1</td>\n",
       "      <td>0</td>\n",
       "      <td>0</td>\n",
       "      <td>0</td>\n",
       "      <td>1</td>\n",
       "      <td>0</td>\n",
       "      <td>0</td>\n",
       "      <td>0</td>\n",
       "      <td>0</td>\n",
       "      <td>0</td>\n",
       "      <td>0</td>\n",
       "      <td>0</td>\n",
       "      <td>0</td>\n",
       "      <td>0</td>\n",
       "      <td>1</td>\n",
       "      <td>0</td>\n",
       "      <td>0</td>\n",
       "      <td>0</td>\n",
       "      <td>0</td>\n",
       "      <td>0</td>\n",
       "      <td>0</td>\n",
       "      <td>1</td>\n",
       "      <td>0</td>\n",
       "      <td>0</td>\n",
       "      <td>0</td>\n",
       "      <td>0</td>\n",
       "      <td>0</td>\n",
       "      <td>1</td>\n",
       "      <td>0</td>\n",
       "      <td>0</td>\n",
       "      <td>0</td>\n",
       "      <td>0</td>\n",
       "    </tr>\n",
       "  </tbody>\n",
       "</table>\n",
       "</div>"
      ],
      "text/plain": [
       "        registration_year  power  kilometer  not_repaired  \\\n",
       "69330                2006    170     150000             0   \n",
       "14665                2010     75      50000             0   \n",
       "44649                1996    100     150000             0   \n",
       "194157               2000    193     150000             0   \n",
       "137046               1998     75     125000             0   \n",
       "\n",
       "        vehicle_type_convertible  vehicle_type_coupe  vehicle_type_other  \\\n",
       "69330                          0                   1                   0   \n",
       "14665                          0                   0                   0   \n",
       "44649                          0                   0                   0   \n",
       "194157                         0                   0                   0   \n",
       "137046                         0                   0                   0   \n",
       "\n",
       "        vehicle_type_sedan  vehicle_type_small  vehicle_type_suv  \\\n",
       "69330                    0                   0                 0   \n",
       "14665                    0                   1                 0   \n",
       "44649                    0                   0                 0   \n",
       "194157                   0                   0                 0   \n",
       "137046                   1                   0                 0   \n",
       "\n",
       "        vehicle_type_wagon  gearbox_manual  model_5er  model_a3  model_a4  \\\n",
       "69330                    0               1          0         0         0   \n",
       "14665                    0               1          0         0         0   \n",
       "44649                    1               0          0         0         0   \n",
       "194157                   1               0          0         0         0   \n",
       "137046                   0               1          0         0         0   \n",
       "\n",
       "        model_astra  model_c_klasse  model_corsa  model_e_klasse  model_focus  \\\n",
       "69330             0               0            0               0            0   \n",
       "14665             0               0            0               0            0   \n",
       "44649             1               0            0               0            0   \n",
       "194157            0               0            0               0            0   \n",
       "137046            0               0            0               0            0   \n",
       "\n",
       "        model_golf  model_other  model_passat  model_polo  fuel_type_electric  \\\n",
       "69330            0            1             0           0                   0   \n",
       "14665            0            1             0           0                   0   \n",
       "44649            0            0             0           0                   0   \n",
       "194157           0            0             0           0                   0   \n",
       "137046           0            1             0           0                   0   \n",
       "\n",
       "        fuel_type_hybrid  fuel_type_lpg  fuel_type_other  fuel_type_petrol  \\\n",
       "69330                  0              0                0                 1   \n",
       "14665                  0              0                0                 1   \n",
       "44649                  0              0                0                 1   \n",
       "194157                 0              0                0                 1   \n",
       "137046                 0              0                0                 1   \n",
       "\n",
       "        brand_bmw  brand_fiat  brand_ford  brand_mercedes_benz  brand_opel  \\\n",
       "69330           0           0           0                    0           0   \n",
       "14665           0           0           0                    0           0   \n",
       "44649           0           0           0                    0           1   \n",
       "194157          1           0           0                    0           0   \n",
       "137046          0           0           0                    0           0   \n",
       "\n",
       "        brand_other  brand_peugeot  brand_renault  brand_seat  \\\n",
       "69330             0              0              0           1   \n",
       "14665             1              0              0           0   \n",
       "44649             0              0              0           0   \n",
       "194157            0              0              0           0   \n",
       "137046            1              0              0           0   \n",
       "\n",
       "        brand_volkswagen  \n",
       "69330                  0  \n",
       "14665                  0  \n",
       "44649                  0  \n",
       "194157                 0  \n",
       "137046                 0  "
      ]
     },
     "execution_count": 22,
     "metadata": {},
     "output_type": "execute_result"
    }
   ],
   "source": [
    "# use One-Hot Encoding to transform categorical variables for a linear model\n",
    "# in order not to fall into the dummy trap, use the argument drop_first=True\n",
    "features_train_dum = pd.get_dummies(features_train, columns=categories, drop_first=True)\n",
    "features_valid_dum = pd.get_dummies(features_valid, columns=categories, drop_first=True)\n",
    "features_test_dum = pd.get_dummies(features_test, columns=categories, drop_first=True)\n",
    "\n",
    "# now we have 39 columns (due to the large number of car models)\n",
    "print(features_train_dum.shape)\n",
    "features_train_dum.head()"
   ]
  },
  {
   "cell_type": "code",
   "execution_count": 23,
   "metadata": {},
   "outputs": [
    {
     "name": "stdout",
     "output_type": "stream",
     "text": [
      "CPU times: user 1.18 s, sys: 157 ms, total: 1.34 s\n",
      "Wall time: 443 ms\n"
     ]
    }
   ],
   "source": [
    "%%time\n",
    "start = time.time()\n",
    "\n",
    "model_lr = LinearRegression()\n",
    "model_lr.fit(features_train_dum, target_train)\n",
    "\n",
    "end = time.time()\n",
    "model_results.iloc[0,2] = round(end - start, 3)"
   ]
  },
  {
   "cell_type": "code",
   "execution_count": 24,
   "metadata": {},
   "outputs": [
    {
     "name": "stdout",
     "output_type": "stream",
     "text": [
      "CPU times: user 105 ms, sys: 76.7 ms, total: 182 ms\n",
      "Wall time: 43 ms\n"
     ]
    }
   ],
   "source": [
    "%%time\n",
    "start = time.time()\n",
    "\n",
    "predictions = model_lr.predict(features_valid_dum)\n",
    "\n",
    "end = time.time()\n",
    "model_results.iloc[0,3] = round(end - start, 3)"
   ]
  },
  {
   "cell_type": "code",
   "execution_count": 25,
   "metadata": {},
   "outputs": [
    {
     "name": "stdout",
     "output_type": "stream",
     "text": [
      "RMSE: 2719.751\n"
     ]
    }
   ],
   "source": [
    "result = MSE(target_valid, predictions)**0.5\n",
    "model_results.iloc[0,1] = round(result)\n",
    "print(\"RMSE:\", round(result, 3))"
   ]
  },
  {
   "cell_type": "code",
   "execution_count": 26,
   "metadata": {},
   "outputs": [
    {
     "data": {
      "text/plain": [
       "model           LinearRegression\n",
       "RMSE                        2720\n",
       "fit_time                   0.443\n",
       "predict_time               0.043\n",
       "Name: 0, dtype: object"
      ]
     },
     "execution_count": 26,
     "metadata": {},
     "output_type": "execute_result"
    }
   ],
   "source": [
    "model_results.loc[0]"
   ]
  },
  {
   "cell_type": "markdown",
   "metadata": {},
   "source": [
    "the model works fast, but the final RMSE is above the threshold of 2500"
   ]
  },
  {
   "cell_type": "markdown",
   "metadata": {},
   "source": [
    "### DecisionTreeRegressor"
   ]
  },
  {
   "cell_type": "code",
   "execution_count": 27,
   "metadata": {},
   "outputs": [
    {
     "data": {
      "text/html": [
       "<div>\n",
       "<style scoped>\n",
       "    .dataframe tbody tr th:only-of-type {\n",
       "        vertical-align: middle;\n",
       "    }\n",
       "\n",
       "    .dataframe tbody tr th {\n",
       "        vertical-align: top;\n",
       "    }\n",
       "\n",
       "    .dataframe thead th {\n",
       "        text-align: right;\n",
       "    }\n",
       "</style>\n",
       "<table border=\"1\" class=\"dataframe\">\n",
       "  <thead>\n",
       "    <tr style=\"text-align: right;\">\n",
       "      <th></th>\n",
       "      <th>vehicle_type</th>\n",
       "      <th>registration_year</th>\n",
       "      <th>gearbox</th>\n",
       "      <th>power</th>\n",
       "      <th>model</th>\n",
       "      <th>kilometer</th>\n",
       "      <th>fuel_type</th>\n",
       "      <th>brand</th>\n",
       "      <th>not_repaired</th>\n",
       "    </tr>\n",
       "  </thead>\n",
       "  <tbody>\n",
       "    <tr>\n",
       "      <th>35376</th>\n",
       "      <td>4</td>\n",
       "      <td>2008</td>\n",
       "      <td>1</td>\n",
       "      <td>150</td>\n",
       "      <td>4</td>\n",
       "      <td>125000</td>\n",
       "      <td>5</td>\n",
       "      <td>5</td>\n",
       "      <td>0</td>\n",
       "    </tr>\n",
       "    <tr>\n",
       "      <th>166316</th>\n",
       "      <td>3</td>\n",
       "      <td>2002</td>\n",
       "      <td>1</td>\n",
       "      <td>44</td>\n",
       "      <td>10</td>\n",
       "      <td>150000</td>\n",
       "      <td>5</td>\n",
       "      <td>2</td>\n",
       "      <td>0</td>\n",
       "    </tr>\n",
       "    <tr>\n",
       "      <th>5929</th>\n",
       "      <td>2</td>\n",
       "      <td>1992</td>\n",
       "      <td>1</td>\n",
       "      <td>45</td>\n",
       "      <td>12</td>\n",
       "      <td>150000</td>\n",
       "      <td>5</td>\n",
       "      <td>10</td>\n",
       "      <td>0</td>\n",
       "    </tr>\n",
       "    <tr>\n",
       "      <th>19629</th>\n",
       "      <td>4</td>\n",
       "      <td>1997</td>\n",
       "      <td>1</td>\n",
       "      <td>60</td>\n",
       "      <td>9</td>\n",
       "      <td>150000</td>\n",
       "      <td>5</td>\n",
       "      <td>10</td>\n",
       "      <td>0</td>\n",
       "    </tr>\n",
       "    <tr>\n",
       "      <th>217331</th>\n",
       "      <td>7</td>\n",
       "      <td>2010</td>\n",
       "      <td>1</td>\n",
       "      <td>160</td>\n",
       "      <td>3</td>\n",
       "      <td>150000</td>\n",
       "      <td>5</td>\n",
       "      <td>0</td>\n",
       "      <td>0</td>\n",
       "    </tr>\n",
       "  </tbody>\n",
       "</table>\n",
       "</div>"
      ],
      "text/plain": [
       "        vehicle_type  registration_year  gearbox  power  model  kilometer  \\\n",
       "35376              4               2008        1    150      4     125000   \n",
       "166316             3               2002        1     44     10     150000   \n",
       "5929               2               1992        1     45     12     150000   \n",
       "19629              4               1997        1     60      9     150000   \n",
       "217331             7               2010        1    160      3     150000   \n",
       "\n",
       "        fuel_type  brand  not_repaired  \n",
       "35376           5      5             0  \n",
       "166316          5      2             0  \n",
       "5929            5     10             0  \n",
       "19629           5     10             0  \n",
       "217331          5      0             0  "
      ]
     },
     "execution_count": 27,
     "metadata": {},
     "output_type": "execute_result"
    }
   ],
   "source": [
    "# use OrdinalEncoder for the rest of the models\n",
    "# otherwise there are too many columns and the models will take a long time to train\n",
    "enc = OrdinalEncoder(dtype=int)\n",
    "enc.fit(df[categories])\n",
    "\n",
    "features_train[categories] = enc.transform(features_train[categories])\n",
    "features_valid[categories] = enc.transform(features_valid[categories])\n",
    "features_test[categories] = enc.transform(features_test[categories])\n",
    "\n",
    "features_test.head()"
   ]
  },
  {
   "cell_type": "code",
   "execution_count": 28,
   "metadata": {},
   "outputs": [
    {
     "name": "stdout",
     "output_type": "stream",
     "text": [
      "2018.4383334434956\n",
      "{'max_depth': 10}\n",
      "CPU times: user 998 ms, sys: 22.4 ms, total: 1.02 s\n",
      "Wall time: 1.02 s\n"
     ]
    }
   ],
   "source": [
    "%%time\n",
    "\n",
    "parameters = {\n",
    "    'max_depth': [10, 15, 20]\n",
    "}\n",
    "\n",
    "model_dt = DecisionTreeRegressor()\n",
    "gs = GridSearchCV(model_dt, parameters, scoring='neg_root_mean_squared_error', cv=2)\n",
    "gs.fit(features_train, target_train)\n",
    "\n",
    "print(gs.best_score_*(-1))\n",
    "print(gs.best_params_)"
   ]
  },
  {
   "cell_type": "code",
   "execution_count": 29,
   "metadata": {},
   "outputs": [
    {
     "name": "stdout",
     "output_type": "stream",
     "text": [
      "CPU times: user 190 ms, sys: 2.02 ms, total: 192 ms\n",
      "Wall time: 190 ms\n"
     ]
    }
   ],
   "source": [
    "%%time\n",
    "start = time.time()\n",
    "\n",
    "best_model_dt = DecisionTreeRegressor(**gs.best_params_, random_state=12345)\n",
    "best_model_dt.fit(features_train, target_train)\n",
    "\n",
    "end = time.time()\n",
    "model_results.iloc[1,2] = round(end - start, 3)"
   ]
  },
  {
   "cell_type": "code",
   "execution_count": 30,
   "metadata": {},
   "outputs": [
    {
     "name": "stdout",
     "output_type": "stream",
     "text": [
      "CPU times: user 8.53 ms, sys: 1.83 ms, total: 10.4 ms\n",
      "Wall time: 8.82 ms\n"
     ]
    }
   ],
   "source": [
    "%%time\n",
    "start = time.time()\n",
    "\n",
    "predictions = best_model_dt.predict(features_valid)\n",
    "\n",
    "end = time.time()\n",
    "model_results.iloc[1,3] = round(end - start, 3)"
   ]
  },
  {
   "cell_type": "code",
   "execution_count": 31,
   "metadata": {},
   "outputs": [
    {
     "name": "stdout",
     "output_type": "stream",
     "text": [
      "RMSE: 2004.569\n",
      "model parameters: DecisionTreeRegressor(max_depth=10, random_state=12345)\n"
     ]
    }
   ],
   "source": [
    "result = MSE(target_valid, predictions)**0.5\n",
    "model_results.iloc[1,1] = round(result)\n",
    "print(\"RMSE:\", round(result, 3))\n",
    "print('model parameters:', best_model_dt)"
   ]
  },
  {
   "cell_type": "code",
   "execution_count": 32,
   "metadata": {},
   "outputs": [
    {
     "data": {
      "text/plain": [
       "model           DecisionTreeRegressor\n",
       "RMSE                             2005\n",
       "fit_time                        0.190\n",
       "predict_time                    0.009\n",
       "Name: 1, dtype: object"
      ]
     },
     "execution_count": 32,
     "metadata": {},
     "output_type": "execute_result"
    }
   ],
   "source": [
    "model_results.loc[1]"
   ]
  },
  {
   "cell_type": "markdown",
   "metadata": {},
   "source": [
    "### RandomForestRegressor"
   ]
  },
  {
   "cell_type": "code",
   "execution_count": 33,
   "metadata": {},
   "outputs": [
    {
     "name": "stdout",
     "output_type": "stream",
     "text": [
      "-1764.190807860783\n",
      "{'max_depth': 15, 'n_estimators': 350}\n",
      "CPU times: user 5min 17s, sys: 2.95 s, total: 5min 20s\n",
      "Wall time: 5min 21s\n"
     ]
    }
   ],
   "source": [
    "%%time\n",
    "\n",
    "parameters = {\n",
    "    'n_estimators': [300, 350],\n",
    "    'max_depth': [15, 20]\n",
    "}\n",
    "\n",
    "model_rf = RandomForestRegressor()\n",
    "gs = GridSearchCV(model_rf, parameters, scoring='neg_root_mean_squared_error', cv=2)\n",
    "gs.fit(features_train, target_train)\n",
    "\n",
    "print(gs.best_score_)\n",
    "print(gs.best_params_)"
   ]
  },
  {
   "cell_type": "code",
   "execution_count": 34,
   "metadata": {},
   "outputs": [
    {
     "name": "stdout",
     "output_type": "stream",
     "text": [
      "CPU times: user 58.2 s, sys: 346 ms, total: 58.5 s\n",
      "Wall time: 58.9 s\n"
     ]
    }
   ],
   "source": [
    "%%time\n",
    "start = time.time()\n",
    "\n",
    "best_model_rf = RandomForestRegressor(**gs.best_params_, random_state=12345)\n",
    "best_model_rf.fit(features_train, target_train)\n",
    "\n",
    "end = time.time()\n",
    "model_results.iloc[2,2] = round(end - start, 3)"
   ]
  },
  {
   "cell_type": "code",
   "execution_count": 35,
   "metadata": {},
   "outputs": [
    {
     "name": "stdout",
     "output_type": "stream",
     "text": [
      "CPU times: user 2.43 s, sys: 6.27 ms, total: 2.44 s\n",
      "Wall time: 2.44 s\n"
     ]
    }
   ],
   "source": [
    "%%time\n",
    "start = time.time()\n",
    "# сделаем предсказания\n",
    "predictions = best_model_rf.predict(features_valid) \n",
    "\n",
    "end = time.time()\n",
    "model_results.iloc[2,3] = round(end - start, 3)"
   ]
  },
  {
   "cell_type": "code",
   "execution_count": 36,
   "metadata": {},
   "outputs": [
    {
     "name": "stdout",
     "output_type": "stream",
     "text": [
      "RMSE: 1737.118\n",
      "model parameters: RandomForestRegressor(max_depth=15, n_estimators=350, random_state=12345)\n"
     ]
    }
   ],
   "source": [
    "result = MSE(target_valid, predictions)**0.5\n",
    "model_results.iloc[2,1] = round(result)\n",
    "print(\"RMSE:\", round(result, 3))\n",
    "print('model parameters:', best_model_rf)"
   ]
  },
  {
   "cell_type": "code",
   "execution_count": 37,
   "metadata": {},
   "outputs": [
    {
     "data": {
      "text/plain": [
       "model           RandomForestRegressor\n",
       "RMSE                             1737\n",
       "fit_time                       58.870\n",
       "predict_time                    2.439\n",
       "Name: 2, dtype: object"
      ]
     },
     "execution_count": 37,
     "metadata": {},
     "output_type": "execute_result"
    }
   ],
   "source": [
    "model_results.loc[2]"
   ]
  },
  {
   "cell_type": "markdown",
   "metadata": {},
   "source": [
    "### XGBRegressor"
   ]
  },
  {
   "cell_type": "code",
   "execution_count": 38,
   "metadata": {},
   "outputs": [
    {
     "name": "stdout",
     "output_type": "stream",
     "text": [
      "-1706.7438516705274\n",
      "{'max_depth': 7, 'n_estimators': 150}\n",
      "CPU times: user 3min 25s, sys: 3.28 s, total: 3min 28s\n",
      "Wall time: 18.5 s\n"
     ]
    }
   ],
   "source": [
    "%%time\n",
    "\n",
    "parameters = {\n",
    "    'n_estimators': [50, 150],\n",
    "    'max_depth': [7, 10]\n",
    "}\n",
    "\n",
    "model_xgb = XGBRegressor()\n",
    "gs = GridSearchCV(model_xgb, parameters, scoring='neg_root_mean_squared_error', cv=2)\n",
    "gs.fit(features_train, target_train)\n",
    "\n",
    "print(gs.best_score_)\n",
    "print(gs.best_params_)"
   ]
  },
  {
   "cell_type": "code",
   "execution_count": 39,
   "metadata": {},
   "outputs": [
    {
     "name": "stdout",
     "output_type": "stream",
     "text": [
      "CPU times: user 47.2 s, sys: 899 ms, total: 48.1 s\n",
      "Wall time: 4.38 s\n"
     ]
    }
   ],
   "source": [
    "%%time\n",
    "start = time.time()\n",
    "\n",
    "best_model_xgb = XGBRegressor(**gs.best_params_, random_state=12345)\n",
    "best_model_xgb.fit(features_train, target_train)\n",
    "\n",
    "end = time.time()\n",
    "model_results.iloc[3,2] = round(end - start, 3)"
   ]
  },
  {
   "cell_type": "code",
   "execution_count": 40,
   "metadata": {},
   "outputs": [
    {
     "name": "stdout",
     "output_type": "stream",
     "text": [
      "CPU times: user 344 ms, sys: 7.16 ms, total: 351 ms\n",
      "Wall time: 31.4 ms\n"
     ]
    }
   ],
   "source": [
    "%%time\n",
    "start = time.time()\n",
    "\n",
    "predictions = best_model_xgb.predict(features_valid) \n",
    "\n",
    "end = time.time()\n",
    "model_results.iloc[3,3] = round(end - start, 3)"
   ]
  },
  {
   "cell_type": "code",
   "execution_count": 41,
   "metadata": {},
   "outputs": [
    {
     "name": "stdout",
     "output_type": "stream",
     "text": [
      "RMSE: 1693.245\n",
      "model parameters: XGBRegressor(base_score=0.5, booster='gbtree', callbacks=None,\n",
      "             colsample_bylevel=1, colsample_bynode=1, colsample_bytree=1,\n",
      "             early_stopping_rounds=None, enable_categorical=False,\n",
      "             eval_metric=None, gamma=0, gpu_id=-1, grow_policy='depthwise',\n",
      "             importance_type=None, interaction_constraints='',\n",
      "             learning_rate=0.300000012, max_bin=256, max_cat_to_onehot=4,\n",
      "             max_delta_step=0, max_depth=7, max_leaves=0, min_child_weight=1,\n",
      "             missing=nan, monotone_constraints='()', n_estimators=150, n_jobs=0,\n",
      "             num_parallel_tree=1, predictor='auto', random_state=12345,\n",
      "             reg_alpha=0, reg_lambda=1, ...)\n"
     ]
    }
   ],
   "source": [
    "result = MSE(target_valid, predictions)**0.5\n",
    "model_results.iloc[3,1] = round(result)\n",
    "print(\"RMSE:\", round(result, 3))\n",
    "print('model parameters:', best_model_xgb)"
   ]
  },
  {
   "cell_type": "code",
   "execution_count": 42,
   "metadata": {},
   "outputs": [
    {
     "data": {
      "text/plain": [
       "model           XGBRegressor\n",
       "RMSE                    1693\n",
       "fit_time               4.375\n",
       "predict_time           0.031\n",
       "Name: 3, dtype: object"
      ]
     },
     "execution_count": 42,
     "metadata": {},
     "output_type": "execute_result"
    }
   ],
   "source": [
    "model_results.loc[3]"
   ]
  },
  {
   "cell_type": "markdown",
   "metadata": {},
   "source": [
    "### LGBMRegressor"
   ]
  },
  {
   "cell_type": "code",
   "execution_count": 43,
   "metadata": {},
   "outputs": [
    {
     "name": "stdout",
     "output_type": "stream",
     "text": [
      "-1685.2465340626784\n",
      "{'max_depth': 15, 'n_estimators': 550}\n",
      "CPU times: user 1min 48s, sys: 2.51 s, total: 1min 51s\n",
      "Wall time: 10.1 s\n"
     ]
    }
   ],
   "source": [
    "%%time\n",
    "\n",
    "parameters = {\n",
    "    'n_estimators': [400, 550],\n",
    "    'max_depth': [15, 20]\n",
    "}\n",
    "\n",
    "model_lgm = LGBMRegressor()\n",
    "gs = GridSearchCV(model_lgm, parameters, scoring='neg_root_mean_squared_error', cv=2)\n",
    "gs.fit(features_train, target_train)\n",
    "\n",
    "print(gs.best_score_)\n",
    "print(gs.best_params_)"
   ]
  },
  {
   "cell_type": "code",
   "execution_count": 44,
   "metadata": {},
   "outputs": [
    {
     "name": "stdout",
     "output_type": "stream",
     "text": [
      "CPU times: user 22.1 s, sys: 1.2 s, total: 23.3 s\n",
      "Wall time: 2.45 s\n"
     ]
    }
   ],
   "source": [
    "%%time\n",
    "start = time.time()\n",
    "\n",
    "best_model_lgm = LGBMRegressor(**gs.best_params_, random_state=12345)\n",
    "best_model_lgm.fit(features_train, target_train)\n",
    "\n",
    "end = time.time()\n",
    "model_results.iloc[4,2] = round(end - start, 3)"
   ]
  },
  {
   "cell_type": "code",
   "execution_count": 45,
   "metadata": {},
   "outputs": [
    {
     "name": "stdout",
     "output_type": "stream",
     "text": [
      "CPU times: user 2.13 s, sys: 17.5 ms, total: 2.15 s\n",
      "Wall time: 184 ms\n"
     ]
    }
   ],
   "source": [
    "%%time\n",
    "start = time.time()\n",
    "\n",
    "predictions = best_model_lgm.predict(features_valid)\n",
    "\n",
    "end = time.time()\n",
    "model_results.iloc[4,3] = round(end - start, 3)"
   ]
  },
  {
   "cell_type": "code",
   "execution_count": 46,
   "metadata": {},
   "outputs": [
    {
     "name": "stdout",
     "output_type": "stream",
     "text": [
      "RMSE: 1684.163\n",
      "model parameters: LGBMRegressor(max_depth=15, n_estimators=550, random_state=12345)\n"
     ]
    }
   ],
   "source": [
    "result = MSE(target_valid, predictions)**0.5\n",
    "model_results.iloc[4,1] = round(result)\n",
    "print(\"RMSE:\", round(result, 3))\n",
    "print('model parameters:', best_model_lgm)"
   ]
  },
  {
   "cell_type": "code",
   "execution_count": 47,
   "metadata": {},
   "outputs": [
    {
     "data": {
      "text/plain": [
       "model           LGBMRegressor\n",
       "RMSE                     1684\n",
       "fit_time                2.455\n",
       "predict_time            0.183\n",
       "Name: 4, dtype: object"
      ]
     },
     "execution_count": 47,
     "metadata": {},
     "output_type": "execute_result"
    }
   ],
   "source": [
    "model_results.loc[4]"
   ]
  },
  {
   "cell_type": "markdown",
   "metadata": {},
   "source": [
    "**CONCLUSION**\n",
    "\n",
    "studied 5 regression models:\n",
    "1. LinearRegression\n",
    "2. DecisionTreeRegressor ('max_depth': 10)\n",
    "3. RandomForestRegressor ('max_depth': 15, 'n_estimators': 350)\n",
    "4. XGBRegressor ('max_depth': 7, 'n_estimators': 150)\n",
    "5. LGBMRegressor ('max_depth': 15, 'n_estimators': 550)"
   ]
  },
  {
   "cell_type": "code",
   "execution_count": 48,
   "metadata": {},
   "outputs": [
    {
     "data": {
      "text/html": [
       "<div>\n",
       "<style scoped>\n",
       "    .dataframe tbody tr th:only-of-type {\n",
       "        vertical-align: middle;\n",
       "    }\n",
       "\n",
       "    .dataframe tbody tr th {\n",
       "        vertical-align: top;\n",
       "    }\n",
       "\n",
       "    .dataframe thead th {\n",
       "        text-align: right;\n",
       "    }\n",
       "</style>\n",
       "<table border=\"1\" class=\"dataframe\">\n",
       "  <thead>\n",
       "    <tr style=\"text-align: right;\">\n",
       "      <th></th>\n",
       "      <th>model</th>\n",
       "      <th>RMSE</th>\n",
       "      <th>fit_time</th>\n",
       "      <th>predict_time</th>\n",
       "    </tr>\n",
       "  </thead>\n",
       "  <tbody>\n",
       "    <tr>\n",
       "      <th>0</th>\n",
       "      <td>LinearRegression</td>\n",
       "      <td>2720</td>\n",
       "      <td>0.443</td>\n",
       "      <td>0.043</td>\n",
       "    </tr>\n",
       "    <tr>\n",
       "      <th>1</th>\n",
       "      <td>DecisionTreeRegressor</td>\n",
       "      <td>2005</td>\n",
       "      <td>0.190</td>\n",
       "      <td>0.009</td>\n",
       "    </tr>\n",
       "    <tr>\n",
       "      <th>2</th>\n",
       "      <td>RandomForestRegressor</td>\n",
       "      <td>1737</td>\n",
       "      <td>58.870</td>\n",
       "      <td>2.439</td>\n",
       "    </tr>\n",
       "    <tr>\n",
       "      <th>3</th>\n",
       "      <td>XGBRegressor</td>\n",
       "      <td>1693</td>\n",
       "      <td>4.375</td>\n",
       "      <td>0.031</td>\n",
       "    </tr>\n",
       "    <tr>\n",
       "      <th>4</th>\n",
       "      <td>LGBMRegressor</td>\n",
       "      <td>1684</td>\n",
       "      <td>2.455</td>\n",
       "      <td>0.183</td>\n",
       "    </tr>\n",
       "  </tbody>\n",
       "</table>\n",
       "</div>"
      ],
      "text/plain": [
       "                   model  RMSE fit_time predict_time\n",
       "0       LinearRegression  2720    0.443        0.043\n",
       "1  DecisionTreeRegressor  2005    0.190        0.009\n",
       "2  RandomForestRegressor  1737   58.870        2.439\n",
       "3           XGBRegressor  1693    4.375        0.031\n",
       "4          LGBMRegressor  1684    2.455        0.183"
      ]
     },
     "execution_count": 48,
     "metadata": {},
     "output_type": "execute_result"
    }
   ],
   "source": [
    "# final results of models\n",
    "model_results"
   ]
  },
  {
   "cell_type": "code",
   "execution_count": 49,
   "metadata": {},
   "outputs": [
    {
     "name": "stdout",
     "output_type": "stream",
     "text": [
      "best by RMSE - LGBMRegressor:\n"
     ]
    },
    {
     "data": {
      "text/html": [
       "<div>\n",
       "<style scoped>\n",
       "    .dataframe tbody tr th:only-of-type {\n",
       "        vertical-align: middle;\n",
       "    }\n",
       "\n",
       "    .dataframe tbody tr th {\n",
       "        vertical-align: top;\n",
       "    }\n",
       "\n",
       "    .dataframe thead th {\n",
       "        text-align: right;\n",
       "    }\n",
       "</style>\n",
       "<table border=\"1\" class=\"dataframe\">\n",
       "  <thead>\n",
       "    <tr style=\"text-align: right;\">\n",
       "      <th></th>\n",
       "      <th>model</th>\n",
       "      <th>RMSE</th>\n",
       "    </tr>\n",
       "  </thead>\n",
       "  <tbody>\n",
       "    <tr>\n",
       "      <th>4</th>\n",
       "      <td>LGBMRegressor</td>\n",
       "      <td>1684</td>\n",
       "    </tr>\n",
       "    <tr>\n",
       "      <th>3</th>\n",
       "      <td>XGBRegressor</td>\n",
       "      <td>1693</td>\n",
       "    </tr>\n",
       "    <tr>\n",
       "      <th>2</th>\n",
       "      <td>RandomForestRegressor</td>\n",
       "      <td>1737</td>\n",
       "    </tr>\n",
       "    <tr>\n",
       "      <th>1</th>\n",
       "      <td>DecisionTreeRegressor</td>\n",
       "      <td>2005</td>\n",
       "    </tr>\n",
       "    <tr>\n",
       "      <th>0</th>\n",
       "      <td>LinearRegression</td>\n",
       "      <td>2720</td>\n",
       "    </tr>\n",
       "  </tbody>\n",
       "</table>\n",
       "</div>"
      ],
      "text/plain": [
       "                   model  RMSE\n",
       "4          LGBMRegressor  1684\n",
       "3           XGBRegressor  1693\n",
       "2  RandomForestRegressor  1737\n",
       "1  DecisionTreeRegressor  2005\n",
       "0       LinearRegression  2720"
      ]
     },
     "metadata": {},
     "output_type": "display_data"
    },
    {
     "name": "stdout",
     "output_type": "stream",
     "text": [
      "best by fitting time - DecisionTreeRegressor:\n"
     ]
    },
    {
     "data": {
      "text/html": [
       "<div>\n",
       "<style scoped>\n",
       "    .dataframe tbody tr th:only-of-type {\n",
       "        vertical-align: middle;\n",
       "    }\n",
       "\n",
       "    .dataframe tbody tr th {\n",
       "        vertical-align: top;\n",
       "    }\n",
       "\n",
       "    .dataframe thead th {\n",
       "        text-align: right;\n",
       "    }\n",
       "</style>\n",
       "<table border=\"1\" class=\"dataframe\">\n",
       "  <thead>\n",
       "    <tr style=\"text-align: right;\">\n",
       "      <th></th>\n",
       "      <th>model</th>\n",
       "      <th>fit_time</th>\n",
       "    </tr>\n",
       "  </thead>\n",
       "  <tbody>\n",
       "    <tr>\n",
       "      <th>1</th>\n",
       "      <td>DecisionTreeRegressor</td>\n",
       "      <td>0.190</td>\n",
       "    </tr>\n",
       "    <tr>\n",
       "      <th>0</th>\n",
       "      <td>LinearRegression</td>\n",
       "      <td>0.443</td>\n",
       "    </tr>\n",
       "    <tr>\n",
       "      <th>4</th>\n",
       "      <td>LGBMRegressor</td>\n",
       "      <td>2.455</td>\n",
       "    </tr>\n",
       "    <tr>\n",
       "      <th>3</th>\n",
       "      <td>XGBRegressor</td>\n",
       "      <td>4.375</td>\n",
       "    </tr>\n",
       "    <tr>\n",
       "      <th>2</th>\n",
       "      <td>RandomForestRegressor</td>\n",
       "      <td>58.870</td>\n",
       "    </tr>\n",
       "  </tbody>\n",
       "</table>\n",
       "</div>"
      ],
      "text/plain": [
       "                   model fit_time\n",
       "1  DecisionTreeRegressor    0.190\n",
       "0       LinearRegression    0.443\n",
       "4          LGBMRegressor    2.455\n",
       "3           XGBRegressor    4.375\n",
       "2  RandomForestRegressor   58.870"
      ]
     },
     "metadata": {},
     "output_type": "display_data"
    },
    {
     "name": "stdout",
     "output_type": "stream",
     "text": [
      "best by prediction time - DecisionTreeRegressor:\n"
     ]
    },
    {
     "data": {
      "text/html": [
       "<div>\n",
       "<style scoped>\n",
       "    .dataframe tbody tr th:only-of-type {\n",
       "        vertical-align: middle;\n",
       "    }\n",
       "\n",
       "    .dataframe tbody tr th {\n",
       "        vertical-align: top;\n",
       "    }\n",
       "\n",
       "    .dataframe thead th {\n",
       "        text-align: right;\n",
       "    }\n",
       "</style>\n",
       "<table border=\"1\" class=\"dataframe\">\n",
       "  <thead>\n",
       "    <tr style=\"text-align: right;\">\n",
       "      <th></th>\n",
       "      <th>model</th>\n",
       "      <th>predict_time</th>\n",
       "    </tr>\n",
       "  </thead>\n",
       "  <tbody>\n",
       "    <tr>\n",
       "      <th>1</th>\n",
       "      <td>DecisionTreeRegressor</td>\n",
       "      <td>0.009</td>\n",
       "    </tr>\n",
       "    <tr>\n",
       "      <th>3</th>\n",
       "      <td>XGBRegressor</td>\n",
       "      <td>0.031</td>\n",
       "    </tr>\n",
       "    <tr>\n",
       "      <th>0</th>\n",
       "      <td>LinearRegression</td>\n",
       "      <td>0.043</td>\n",
       "    </tr>\n",
       "    <tr>\n",
       "      <th>4</th>\n",
       "      <td>LGBMRegressor</td>\n",
       "      <td>0.183</td>\n",
       "    </tr>\n",
       "    <tr>\n",
       "      <th>2</th>\n",
       "      <td>RandomForestRegressor</td>\n",
       "      <td>2.439</td>\n",
       "    </tr>\n",
       "  </tbody>\n",
       "</table>\n",
       "</div>"
      ],
      "text/plain": [
       "                   model predict_time\n",
       "1  DecisionTreeRegressor        0.009\n",
       "3           XGBRegressor        0.031\n",
       "0       LinearRegression        0.043\n",
       "4          LGBMRegressor        0.183\n",
       "2  RandomForestRegressor        2.439"
      ]
     },
     "metadata": {},
     "output_type": "display_data"
    }
   ],
   "source": [
    "print('best by RMSE - LGBMRegressor:')\n",
    "display(model_results[['model', 'RMSE']].sort_values(by='RMSE'))\n",
    "print('best by fitting time - DecisionTreeRegressor:')\n",
    "display(model_results[['model', 'fit_time']].sort_values(by='fit_time'))\n",
    "print('best by prediction time - DecisionTreeRegressor:')\n",
    "display(model_results[['model', 'predict_time']].sort_values(by='predict_time'))"
   ]
  },
  {
   "cell_type": "markdown",
   "metadata": {},
   "source": [
    "for further analysis, we will choose the DecisionTreeRegressor model, since it has a high learning and prediction rate and a suitable RMSE metric"
   ]
  },
  {
   "cell_type": "markdown",
   "metadata": {},
   "source": [
    "## Final model testing"
   ]
  },
  {
   "cell_type": "code",
   "execution_count": 50,
   "metadata": {},
   "outputs": [
    {
     "name": "stdout",
     "output_type": "stream",
     "text": [
      "cross_val_score: [1954. 2009. 1976. 1991. 1971.]\n",
      "MEAN cross_val_score: 1980\n"
     ]
    }
   ],
   "source": [
    "# check the accuracy of model predictions using cross-validation on the validation set\n",
    "cross_val_result = cross_val_score(best_model_dt, features_train, target_train, \n",
    "                                   cv=5, scoring='neg_root_mean_squared_error')\n",
    "\n",
    "print('cross_val_score:', np.around(cross_val_result*(-1)))\n",
    "print('MEAN cross_val_score:', round(cross_val_result.mean()*(-1)))"
   ]
  },
  {
   "cell_type": "markdown",
   "metadata": {},
   "source": [
    "cross-validation gives similar RMSE metrics, which means the model works the same on different samples"
   ]
  },
  {
   "cell_type": "code",
   "execution_count": 51,
   "metadata": {},
   "outputs": [
    {
     "name": "stdout",
     "output_type": "stream",
     "text": [
      "RMSE test: 1957\n",
      "RMSE valid: 2005\n"
     ]
    }
   ],
   "source": [
    "# check the RMSE metric on the test set and compare it with the metric on the validation set\n",
    "predictions_test_dt = best_model_dt.predict(features_test) \n",
    "result = MSE(target_test, predictions_test_dt) ** 0.5\n",
    "\n",
    "print(\"RMSE test:\", round(result))\n",
    "print(\"RMSE valid:\", model_results.loc[1][1])"
   ]
  },
  {
   "cell_type": "markdown",
   "metadata": {},
   "source": [
    "RMSE metrics on test and validation data do not differ much, which means that the model works adequately"
   ]
  },
  {
   "cell_type": "code",
   "execution_count": 52,
   "metadata": {},
   "outputs": [
    {
     "data": {
      "text/html": [
       "<div>\n",
       "<style scoped>\n",
       "    .dataframe tbody tr th:only-of-type {\n",
       "        vertical-align: middle;\n",
       "    }\n",
       "\n",
       "    .dataframe tbody tr th {\n",
       "        vertical-align: top;\n",
       "    }\n",
       "\n",
       "    .dataframe thead th {\n",
       "        text-align: right;\n",
       "    }\n",
       "</style>\n",
       "<table border=\"1\" class=\"dataframe\">\n",
       "  <thead>\n",
       "    <tr style=\"text-align: right;\">\n",
       "      <th></th>\n",
       "      <th>%</th>\n",
       "    </tr>\n",
       "  </thead>\n",
       "  <tbody>\n",
       "    <tr>\n",
       "      <th>registration_year</th>\n",
       "      <td>0.603</td>\n",
       "    </tr>\n",
       "    <tr>\n",
       "      <th>power</th>\n",
       "      <td>0.286</td>\n",
       "    </tr>\n",
       "    <tr>\n",
       "      <th>kilometer</th>\n",
       "      <td>0.048</td>\n",
       "    </tr>\n",
       "    <tr>\n",
       "      <th>brand</th>\n",
       "      <td>0.024</td>\n",
       "    </tr>\n",
       "    <tr>\n",
       "      <th>vehicle_type</th>\n",
       "      <td>0.024</td>\n",
       "    </tr>\n",
       "    <tr>\n",
       "      <th>not_repaired</th>\n",
       "      <td>0.011</td>\n",
       "    </tr>\n",
       "  </tbody>\n",
       "</table>\n",
       "</div>"
      ],
      "text/plain": [
       "                      %\n",
       "registration_year 0.603\n",
       "power             0.286\n",
       "kilometer         0.048\n",
       "brand             0.024\n",
       "vehicle_type      0.024\n",
       "not_repaired      0.011"
      ]
     },
     "metadata": {},
     "output_type": "display_data"
    },
    {
     "data": {
      "image/png": "[encoded data removed]",
      "text/plain": [
       "<Figure size 700x300 with 1 Axes>"
      ]
     },
     "metadata": {},
     "output_type": "display_data"
    }
   ],
   "source": [
    "# let's see which features most affect the prediction of the model\n",
    "feature_importances_dt = pd.DataFrame(best_model_dt.feature_importances_, \n",
    "                              index=features_valid.columns, columns=['%']).sort_values(ascending=False, by='%')\n",
    "\n",
    "display(feature_importances_dt.head(6))\n",
    "\n",
    "feature_importances_dt.sort_values(by='%').plot.barh(y='%', figsize=(7, 3), color='green', alpha=.6)\n",
    "plt.title('Feature Importances')\n",
    "plt.show()"
   ]
  },
  {
   "cell_type": "markdown",
   "metadata": {},
   "source": [
    "The most important features in the model that affect the target feature - the price of the car, are:\n",
    "- year of car registration\n",
    "- power, h.p. \n",
    "- mileage, km.\n",
    "- brand \n",
    "- car vehicle type (vehicle_type)\n",
    "- was the car under repair or not"
   ]
  },
  {
   "cell_type": "markdown",
   "metadata": {},
   "source": [
    "## Conclusions"
   ]
  },
  {
   "cell_type": "markdown",
   "metadata": {},
   "source": [
    "**Data**\n",
    "\n",
    "- uploaded data on the sale of cars: prices, specifications, equipment\n",
    "- empty values ​​are filled with the most frequently occurring value or category 'other'\n",
    "- removed outliers and anomalous values, uninformative columns and duplicates\n",
    "- in total, 32% of rows were deleted, which we consider acceptable for such a volume of data, the total sample was 302 thousand observations\n",
    "\n",
    "some columns require clarification from the customer:\n",
    "- more than half of the values ​​in the 'kilometer' column are equal to 150 thousand km, which means that there may be cars with more mileage, I would like to see this and take it into account in the model\n",
    "- in the 'not_repaired' column, most cars are not repaired, despite the fact that most cars are with high mileage, the quality of the values ​​of this column is questionable\n",
    "- columns have empty values ​​and 'other' values, how can they be minimized\n",
    "\n",
    "**Models**\n",
    "\n",
    "studied 5 regression models:"
   ]
  },
  {
   "cell_type": "code",
   "execution_count": 53,
   "metadata": {},
   "outputs": [
    {
     "data": {
      "text/html": [
       "<div>\n",
       "<style scoped>\n",
       "    .dataframe tbody tr th:only-of-type {\n",
       "        vertical-align: middle;\n",
       "    }\n",
       "\n",
       "    .dataframe tbody tr th {\n",
       "        vertical-align: top;\n",
       "    }\n",
       "\n",
       "    .dataframe thead th {\n",
       "        text-align: right;\n",
       "    }\n",
       "</style>\n",
       "<table border=\"1\" class=\"dataframe\">\n",
       "  <thead>\n",
       "    <tr style=\"text-align: right;\">\n",
       "      <th></th>\n",
       "      <th>model</th>\n",
       "      <th>RMSE</th>\n",
       "      <th>fit_time</th>\n",
       "      <th>predict_time</th>\n",
       "    </tr>\n",
       "  </thead>\n",
       "  <tbody>\n",
       "    <tr>\n",
       "      <th>0</th>\n",
       "      <td>LinearRegression</td>\n",
       "      <td>2720</td>\n",
       "      <td>0.443</td>\n",
       "      <td>0.043</td>\n",
       "    </tr>\n",
       "    <tr>\n",
       "      <th>1</th>\n",
       "      <td>DecisionTreeRegressor</td>\n",
       "      <td>2005</td>\n",
       "      <td>0.190</td>\n",
       "      <td>0.009</td>\n",
       "    </tr>\n",
       "    <tr>\n",
       "      <th>2</th>\n",
       "      <td>RandomForestRegressor</td>\n",
       "      <td>1737</td>\n",
       "      <td>58.870</td>\n",
       "      <td>2.439</td>\n",
       "    </tr>\n",
       "    <tr>\n",
       "      <th>3</th>\n",
       "      <td>XGBRegressor</td>\n",
       "      <td>1693</td>\n",
       "      <td>4.375</td>\n",
       "      <td>0.031</td>\n",
       "    </tr>\n",
       "    <tr>\n",
       "      <th>4</th>\n",
       "      <td>LGBMRegressor</td>\n",
       "      <td>1684</td>\n",
       "      <td>2.455</td>\n",
       "      <td>0.183</td>\n",
       "    </tr>\n",
       "  </tbody>\n",
       "</table>\n",
       "</div>"
      ],
      "text/plain": [
       "                   model  RMSE fit_time predict_time\n",
       "0       LinearRegression  2720    0.443        0.043\n",
       "1  DecisionTreeRegressor  2005    0.190        0.009\n",
       "2  RandomForestRegressor  1737   58.870        2.439\n",
       "3           XGBRegressor  1693    4.375        0.031\n",
       "4          LGBMRegressor  1684    2.455        0.183"
      ]
     },
     "execution_count": 53,
     "metadata": {},
     "output_type": "execute_result"
    }
   ],
   "source": [
    "# final model results\n",
    "model_results"
   ]
  },
  {
   "cell_type": "markdown",
   "metadata": {},
   "source": [
    "- best model by RMSE metric - LGBMRegressor\n",
    "- the model with the highest learning rate - DecisionTreeRegressor\n",
    "- model with the highest prediction rate - DecisionTreeRegressor\n",
    "\n",
    "**Final model**\n",
    "\n",
    "The **DecisionTreeRegressor** model was chosen as the final model, which has a high learning and prediction rate and a low RMSE (Root Mean Square Error) metric\n",
    "\n",
    "- cross-validation gives similar RMSE metrics, so the model works the same on different samples: cross_val_score = {1954. 2009. 1976. 1991. 1971.}, MEAN cross_val_score = 1980\n",
    "- RMSE metrics on test (=2005) and validation data (=1957) do not differ much, which means that the model works adequately\n",
    "\n",
    "The most important features in the model that affect the target feature - the price of the car, are:\n",
    "- year of car registration\n",
    "- power, h.p. \n",
    "- mileage, km.\n",
    "- brand \n",
    "- car vehicle type (vehicle_type)\n",
    "- was the car under repair or not"
   ]
  },
  {
   "cell_type": "code",
   "execution_count": null,
   "metadata": {},
   "outputs": [],
   "source": []
  }
 ],
 "metadata": {
  "ExecuteTimeLog": [
   {
    "duration": 1448,
    "start_time": "2022-09-07T15:42:04.224Z"
   },
   {
    "duration": 52,
    "start_time": "2022-09-07T15:42:07.335Z"
   },
   {
    "duration": 998,
    "start_time": "2022-09-07T15:42:08.709Z"
   },
   {
    "duration": 115,
    "start_time": "2022-09-07T15:42:20.992Z"
   },
   {
    "duration": 3,
    "start_time": "2022-09-07T15:44:37.586Z"
   },
   {
    "duration": 4,
    "start_time": "2022-09-07T15:46:37.012Z"
   },
   {
    "duration": 118,
    "start_time": "2022-09-07T15:49:59.848Z"
   },
   {
    "duration": 1190,
    "start_time": "2022-09-07T15:50:27.861Z"
   },
   {
    "duration": 716,
    "start_time": "2022-09-07T15:50:29.053Z"
   },
   {
    "duration": 4,
    "start_time": "2022-09-07T15:50:29.771Z"
   },
   {
    "duration": 114,
    "start_time": "2022-09-07T15:50:29.777Z"
   },
   {
    "duration": 120,
    "start_time": "2022-09-07T15:50:29.892Z"
   },
   {
    "duration": 90,
    "start_time": "2022-09-07T15:52:50.302Z"
   },
   {
    "duration": 85,
    "start_time": "2022-09-07T15:52:58.126Z"
   },
   {
    "duration": 392,
    "start_time": "2022-09-07T15:53:11.864Z"
   },
   {
    "duration": 93,
    "start_time": "2022-09-07T15:55:06.090Z"
   },
   {
    "duration": 100,
    "start_time": "2022-09-07T15:55:09.015Z"
   },
   {
    "duration": 21,
    "start_time": "2022-09-07T15:55:22.202Z"
   },
   {
    "duration": 87,
    "start_time": "2022-09-07T15:56:00.263Z"
   },
   {
    "duration": 23,
    "start_time": "2022-09-07T15:56:05.637Z"
   },
   {
    "duration": 105,
    "start_time": "2022-09-07T15:57:01.677Z"
   },
   {
    "duration": 22,
    "start_time": "2022-09-07T15:57:04.721Z"
   },
   {
    "duration": 253,
    "start_time": "2022-09-07T15:58:45.809Z"
   },
   {
    "duration": 274,
    "start_time": "2022-09-07T15:58:54.834Z"
   },
   {
    "duration": 32,
    "start_time": "2022-09-07T16:03:20.032Z"
   },
   {
    "duration": 141,
    "start_time": "2022-09-07T16:03:20.644Z"
   },
   {
    "duration": 73,
    "start_time": "2022-09-07T16:03:27.105Z"
   },
   {
    "duration": 28,
    "start_time": "2022-09-07T16:03:52.569Z"
   },
   {
    "duration": 30,
    "start_time": "2022-09-07T16:14:46.173Z"
   },
   {
    "duration": 33,
    "start_time": "2022-09-07T16:15:12.027Z"
   },
   {
    "duration": 32,
    "start_time": "2022-09-07T16:17:28.649Z"
   },
   {
    "duration": 82,
    "start_time": "2022-09-07T16:17:29.264Z"
   },
   {
    "duration": 391,
    "start_time": "2022-09-07T16:23:52.918Z"
   },
   {
    "duration": 2440,
    "start_time": "2022-09-07T16:24:10.679Z"
   },
   {
    "duration": 14,
    "start_time": "2022-09-07T16:25:46.095Z"
   },
   {
    "duration": 30,
    "start_time": "2022-09-07T16:25:56.629Z"
   },
   {
    "duration": 230,
    "start_time": "2022-09-07T16:26:02.580Z"
   },
   {
    "duration": 20,
    "start_time": "2022-09-07T16:26:08.166Z"
   },
   {
    "duration": 23,
    "start_time": "2022-09-07T16:26:28.269Z"
   },
   {
    "duration": 73,
    "start_time": "2022-09-07T16:26:29.401Z"
   },
   {
    "duration": 2,
    "start_time": "2022-09-07T16:26:30.727Z"
   },
   {
    "duration": 160,
    "start_time": "2022-09-07T16:26:31.196Z"
   },
   {
    "duration": 21,
    "start_time": "2022-09-07T16:26:34.377Z"
   },
   {
    "duration": 30,
    "start_time": "2022-09-07T16:27:00.241Z"
   },
   {
    "duration": 616,
    "start_time": "2022-09-07T16:27:02.717Z"
   },
   {
    "duration": 2258,
    "start_time": "2022-09-07T16:27:07.394Z"
   },
   {
    "duration": 152,
    "start_time": "2022-09-07T16:27:18.846Z"
   },
   {
    "duration": 229,
    "start_time": "2022-09-07T16:27:19.555Z"
   },
   {
    "duration": 17874,
    "start_time": "2022-09-07T16:27:21.225Z"
   },
   {
    "duration": 18438,
    "start_time": "2022-09-07T16:28:52.468Z"
   },
   {
    "duration": 9,
    "start_time": "2022-09-07T16:32:46.300Z"
   },
   {
    "duration": 2577,
    "start_time": "2022-09-07T16:33:14.261Z"
   },
   {
    "duration": 7434,
    "start_time": "2022-09-07T16:33:18.999Z"
   },
   {
    "duration": 11,
    "start_time": "2022-09-07T16:36:05.680Z"
   },
   {
    "duration": 322,
    "start_time": "2022-09-07T16:39:25.909Z"
   },
   {
    "duration": 8,
    "start_time": "2022-09-07T16:42:19.303Z"
   },
   {
    "duration": 4,
    "start_time": "2022-09-07T16:42:26.777Z"
   },
   {
    "duration": 2,
    "start_time": "2022-09-07T16:42:36.302Z"
   },
   {
    "duration": 4,
    "start_time": "2022-09-07T16:43:57.168Z"
   },
   {
    "duration": 329,
    "start_time": "2022-09-07T16:44:31.138Z"
   },
   {
    "duration": 328,
    "start_time": "2022-09-07T16:44:45.466Z"
   },
   {
    "duration": 9281,
    "start_time": "2022-09-07T16:45:14.435Z"
   },
   {
    "duration": 18671,
    "start_time": "2022-09-07T16:45:27.349Z"
   },
   {
    "duration": 2579,
    "start_time": "2022-09-07T16:45:46.100Z"
   },
   {
    "duration": 7426,
    "start_time": "2022-09-07T16:45:48.680Z"
   },
   {
    "duration": 8893,
    "start_time": "2022-09-07T16:45:56.108Z"
   },
   {
    "duration": 3,
    "start_time": "2022-09-07T16:47:09.277Z"
   },
   {
    "duration": 9,
    "start_time": "2022-09-07T16:48:12.319Z"
   },
   {
    "duration": 36180,
    "start_time": "2022-09-07T16:48:45.147Z"
   },
   {
    "duration": 65170,
    "start_time": "2022-09-07T16:50:04.834Z"
   },
   {
    "duration": 8769,
    "start_time": "2022-09-07T16:52:36.038Z"
   },
   {
    "duration": 35507,
    "start_time": "2022-09-07T16:53:36.868Z"
   },
   {
    "duration": 1434,
    "start_time": "2022-09-07T16:54:52.798Z"
   },
   {
    "duration": 812,
    "start_time": "2022-09-07T16:54:54.234Z"
   },
   {
    "duration": 4,
    "start_time": "2022-09-07T16:54:55.047Z"
   },
   {
    "duration": 125,
    "start_time": "2022-09-07T16:54:55.052Z"
   },
   {
    "duration": 270,
    "start_time": "2022-09-07T16:54:55.180Z"
   },
   {
    "duration": 80,
    "start_time": "2022-09-07T16:54:55.451Z"
   },
   {
    "duration": 30,
    "start_time": "2022-09-07T16:54:55.532Z"
   },
   {
    "duration": 90,
    "start_time": "2022-09-07T16:54:55.563Z"
   },
   {
    "duration": 2,
    "start_time": "2022-09-07T16:54:55.655Z"
   },
   {
    "duration": 220,
    "start_time": "2022-09-07T16:54:55.658Z"
   },
   {
    "duration": 19,
    "start_time": "2022-09-07T16:54:55.880Z"
   },
   {
    "duration": 38,
    "start_time": "2022-09-07T16:54:55.900Z"
   },
   {
    "duration": 638,
    "start_time": "2022-09-07T16:54:55.939Z"
   },
   {
    "duration": 328,
    "start_time": "2022-09-07T16:54:56.580Z"
   },
   {
    "duration": 98,
    "start_time": "2022-09-07T16:54:56.910Z"
   },
   {
    "duration": 244,
    "start_time": "2022-09-07T16:54:57.010Z"
   },
   {
    "duration": 18264,
    "start_time": "2022-09-07T16:54:57.255Z"
   },
   {
    "duration": 2597,
    "start_time": "2022-09-07T16:55:15.520Z"
   },
   {
    "duration": 7669,
    "start_time": "2022-09-07T16:55:18.118Z"
   },
   {
    "duration": 62635,
    "start_time": "2022-09-07T16:55:25.789Z"
   },
   {
    "duration": 194,
    "start_time": "2022-09-07T16:56:28.425Z"
   },
   {
    "duration": 34749,
    "start_time": "2022-09-07T16:56:28.621Z"
   },
   {
    "duration": 12,
    "start_time": "2022-09-07T16:57:03.373Z"
   },
   {
    "duration": 12,
    "start_time": "2022-09-07T16:57:10.794Z"
   },
   {
    "duration": 10040,
    "start_time": "2022-09-07T16:57:35.659Z"
   },
   {
    "duration": 49,
    "start_time": "2022-09-07T17:01:45.618Z"
   },
   {
    "duration": 18238,
    "start_time": "2022-09-07T17:03:59.279Z"
   },
   {
    "duration": 18769,
    "start_time": "2022-09-07T17:04:22.956Z"
   },
   {
    "duration": 18751,
    "start_time": "2022-09-07T17:04:59.247Z"
   },
   {
    "duration": 20448,
    "start_time": "2022-09-07T17:06:24.576Z"
   },
   {
    "duration": 1370,
    "start_time": "2022-09-07T17:08:26.171Z"
   },
   {
    "duration": 0,
    "start_time": "2022-09-07T17:08:27.543Z"
   },
   {
    "duration": 0,
    "start_time": "2022-09-07T17:08:27.545Z"
   },
   {
    "duration": 0,
    "start_time": "2022-09-07T17:08:27.546Z"
   },
   {
    "duration": 0,
    "start_time": "2022-09-07T17:08:27.547Z"
   },
   {
    "duration": 0,
    "start_time": "2022-09-07T17:08:27.548Z"
   },
   {
    "duration": 0,
    "start_time": "2022-09-07T17:08:27.549Z"
   },
   {
    "duration": 0,
    "start_time": "2022-09-07T17:08:27.550Z"
   },
   {
    "duration": 0,
    "start_time": "2022-09-07T17:08:27.551Z"
   },
   {
    "duration": 0,
    "start_time": "2022-09-07T17:08:27.552Z"
   },
   {
    "duration": 0,
    "start_time": "2022-09-07T17:08:27.553Z"
   },
   {
    "duration": 0,
    "start_time": "2022-09-07T17:08:27.554Z"
   },
   {
    "duration": 0,
    "start_time": "2022-09-07T17:08:27.555Z"
   },
   {
    "duration": 0,
    "start_time": "2022-09-07T17:08:27.556Z"
   },
   {
    "duration": 0,
    "start_time": "2022-09-07T17:08:27.557Z"
   },
   {
    "duration": 0,
    "start_time": "2022-09-07T17:08:27.557Z"
   },
   {
    "duration": 0,
    "start_time": "2022-09-07T17:08:27.558Z"
   },
   {
    "duration": 0,
    "start_time": "2022-09-07T17:08:27.559Z"
   },
   {
    "duration": 1,
    "start_time": "2022-09-07T17:08:27.559Z"
   },
   {
    "duration": 0,
    "start_time": "2022-09-07T17:08:27.561Z"
   },
   {
    "duration": 0,
    "start_time": "2022-09-07T17:08:27.561Z"
   },
   {
    "duration": 0,
    "start_time": "2022-09-07T17:08:27.563Z"
   },
   {
    "duration": 0,
    "start_time": "2022-09-07T17:08:27.564Z"
   },
   {
    "duration": 1430,
    "start_time": "2022-09-07T17:08:58.778Z"
   },
   {
    "duration": 772,
    "start_time": "2022-09-07T17:09:00.210Z"
   },
   {
    "duration": 5,
    "start_time": "2022-09-07T17:09:00.983Z"
   },
   {
    "duration": 114,
    "start_time": "2022-09-07T17:09:00.998Z"
   },
   {
    "duration": 264,
    "start_time": "2022-09-07T17:09:01.114Z"
   },
   {
    "duration": 115,
    "start_time": "2022-09-07T17:09:01.379Z"
   },
   {
    "duration": 73,
    "start_time": "2022-09-07T17:09:01.495Z"
   },
   {
    "duration": 100,
    "start_time": "2022-09-07T17:09:01.569Z"
   },
   {
    "duration": 2,
    "start_time": "2022-09-07T17:09:01.670Z"
   },
   {
    "duration": 177,
    "start_time": "2022-09-07T17:09:01.674Z"
   },
   {
    "duration": 18,
    "start_time": "2022-09-07T17:09:01.852Z"
   },
   {
    "duration": 234,
    "start_time": "2022-09-07T17:09:01.871Z"
   },
   {
    "duration": 143,
    "start_time": "2022-09-07T17:09:02.106Z"
   },
   {
    "duration": 646,
    "start_time": "2022-09-07T17:09:02.251Z"
   },
   {
    "duration": 156,
    "start_time": "2022-09-07T17:09:02.899Z"
   },
   {
    "duration": 241,
    "start_time": "2022-09-07T17:09:03.057Z"
   },
   {
    "duration": 2,
    "start_time": "2022-09-07T17:09:03.300Z"
   },
   {
    "duration": 19310,
    "start_time": "2022-09-07T17:09:03.303Z"
   },
   {
    "duration": 2716,
    "start_time": "2022-09-07T17:09:22.614Z"
   },
   {
    "duration": 7474,
    "start_time": "2022-09-07T17:09:25.332Z"
   },
   {
    "duration": 62212,
    "start_time": "2022-09-07T17:09:32.807Z"
   },
   {
    "duration": 9292,
    "start_time": "2022-09-07T17:10:35.021Z"
   },
   {
    "duration": 35494,
    "start_time": "2022-09-07T17:10:44.399Z"
   },
   {
    "duration": 1745,
    "start_time": "2022-09-08T11:00:51.129Z"
   },
   {
    "duration": 143,
    "start_time": "2022-09-08T11:01:16.264Z"
   },
   {
    "duration": 1545,
    "start_time": "2022-09-08T11:01:25.307Z"
   },
   {
    "duration": 1041,
    "start_time": "2022-09-08T11:01:26.854Z"
   },
   {
    "duration": 5,
    "start_time": "2022-09-08T11:01:27.897Z"
   },
   {
    "duration": 136,
    "start_time": "2022-09-08T11:01:27.905Z"
   },
   {
    "duration": 276,
    "start_time": "2022-09-08T11:01:28.043Z"
   },
   {
    "duration": 75,
    "start_time": "2022-09-08T11:01:28.321Z"
   },
   {
    "duration": 34,
    "start_time": "2022-09-08T11:01:28.408Z"
   },
   {
    "duration": 84,
    "start_time": "2022-09-08T11:01:28.444Z"
   },
   {
    "duration": 2,
    "start_time": "2022-09-08T11:01:28.529Z"
   },
   {
    "duration": 201,
    "start_time": "2022-09-08T11:01:28.534Z"
   },
   {
    "duration": 17,
    "start_time": "2022-09-08T11:01:28.736Z"
   },
   {
    "duration": 225,
    "start_time": "2022-09-08T11:01:28.754Z"
   },
   {
    "duration": 134,
    "start_time": "2022-09-08T11:01:28.980Z"
   },
   {
    "duration": 646,
    "start_time": "2022-09-08T11:01:29.115Z"
   },
   {
    "duration": 206,
    "start_time": "2022-09-08T11:01:29.762Z"
   },
   {
    "duration": 281,
    "start_time": "2022-09-08T11:01:29.970Z"
   },
   {
    "duration": 3,
    "start_time": "2022-09-08T11:01:30.252Z"
   },
   {
    "duration": 22875,
    "start_time": "2022-09-08T11:01:30.256Z"
   },
   {
    "duration": 82,
    "start_time": "2022-09-08T11:01:53.132Z"
   },
   {
    "duration": 2570,
    "start_time": "2022-09-08T11:01:53.218Z"
   },
   {
    "duration": 7398,
    "start_time": "2022-09-08T11:01:55.789Z"
   },
   {
    "duration": 61924,
    "start_time": "2022-09-08T11:02:03.188Z"
   },
   {
    "duration": 9101,
    "start_time": "2022-09-08T11:03:05.114Z"
   },
   {
    "duration": 34574,
    "start_time": "2022-09-08T11:03:14.216Z"
   },
   {
    "duration": 120,
    "start_time": "2022-09-08T11:03:48.793Z"
   },
   {
    "duration": 11,
    "start_time": "2022-09-08T11:04:04.071Z"
   },
   {
    "duration": 3,
    "start_time": "2022-09-08T11:04:14.374Z"
   },
   {
    "duration": 718,
    "start_time": "2022-09-08T11:04:14.379Z"
   },
   {
    "duration": 4,
    "start_time": "2022-09-08T11:04:15.098Z"
   },
   {
    "duration": 108,
    "start_time": "2022-09-08T11:04:15.109Z"
   },
   {
    "duration": 206,
    "start_time": "2022-09-08T11:04:15.219Z"
   },
   {
    "duration": 72,
    "start_time": "2022-09-08T11:04:15.426Z"
   },
   {
    "duration": 29,
    "start_time": "2022-09-08T11:04:15.499Z"
   },
   {
    "duration": 80,
    "start_time": "2022-09-08T11:04:15.530Z"
   },
   {
    "duration": 2,
    "start_time": "2022-09-08T11:04:15.611Z"
   },
   {
    "duration": 176,
    "start_time": "2022-09-08T11:04:15.615Z"
   },
   {
    "duration": 17,
    "start_time": "2022-09-08T11:04:15.792Z"
   },
   {
    "duration": 202,
    "start_time": "2022-09-08T11:04:18.982Z"
   },
   {
    "duration": 139,
    "start_time": "2022-09-08T11:04:20.563Z"
   },
   {
    "duration": 148,
    "start_time": "2022-09-08T11:04:32.166Z"
   },
   {
    "duration": 131,
    "start_time": "2022-09-08T11:04:38.680Z"
   },
   {
    "duration": 132,
    "start_time": "2022-09-08T11:04:48.206Z"
   },
   {
    "duration": 139,
    "start_time": "2022-09-08T11:04:52.830Z"
   },
   {
    "duration": 130,
    "start_time": "2022-09-08T11:04:57.929Z"
   },
   {
    "duration": 130,
    "start_time": "2022-09-08T11:05:33.372Z"
   },
   {
    "duration": 144,
    "start_time": "2022-09-08T11:05:56.086Z"
   },
   {
    "duration": 130,
    "start_time": "2022-09-08T11:06:07.757Z"
   },
   {
    "duration": 129,
    "start_time": "2022-09-08T11:06:12.864Z"
   },
   {
    "duration": 12,
    "start_time": "2022-09-08T11:20:36.802Z"
   },
   {
    "duration": 2,
    "start_time": "2022-09-08T11:20:45.769Z"
   },
   {
    "duration": 60,
    "start_time": "2022-09-08T11:22:35.201Z"
   },
   {
    "duration": 4,
    "start_time": "2022-09-08T11:23:08.633Z"
   },
   {
    "duration": 287142,
    "start_time": "2022-09-08T11:23:14.145Z"
   },
   {
    "duration": 249,
    "start_time": "2022-09-08T11:28:22.030Z"
   },
   {
    "duration": 57,
    "start_time": "2022-09-08T11:28:26.679Z"
   },
   {
    "duration": 11,
    "start_time": "2022-09-08T11:28:34.228Z"
   },
   {
    "duration": 10,
    "start_time": "2022-09-08T11:28:38.778Z"
   },
   {
    "duration": 12,
    "start_time": "2022-09-08T11:29:03.833Z"
   },
   {
    "duration": 3,
    "start_time": "2022-09-08T11:29:09.528Z"
   },
   {
    "duration": 3,
    "start_time": "2022-09-08T11:29:13.337Z"
   },
   {
    "duration": 475335,
    "start_time": "2022-09-08T11:29:18.490Z"
   },
   {
    "duration": 2,
    "start_time": "2022-09-08T11:37:13.828Z"
   },
   {
    "duration": 197,
    "start_time": "2022-09-08T11:37:13.832Z"
   },
   {
    "duration": 4,
    "start_time": "2022-09-08T11:45:27.122Z"
   },
   {
    "duration": 48881,
    "start_time": "2022-09-08T11:45:35.636Z"
   },
   {
    "duration": 1463,
    "start_time": "2022-09-08T11:46:55.962Z"
   },
   {
    "duration": 840,
    "start_time": "2022-09-08T11:47:01.931Z"
   },
   {
    "duration": 9,
    "start_time": "2022-09-08T11:47:04.031Z"
   },
   {
    "duration": 148,
    "start_time": "2022-09-08T11:47:08.501Z"
   },
   {
    "duration": 116,
    "start_time": "2022-09-08T11:48:01.238Z"
   },
   {
    "duration": 123,
    "start_time": "2022-09-08T11:48:50.298Z"
   },
   {
    "duration": 978,
    "start_time": "2022-09-08T11:49:06.222Z"
   },
   {
    "duration": 196,
    "start_time": "2022-09-08T11:49:51.709Z"
   },
   {
    "duration": 187,
    "start_time": "2022-09-08T11:50:27.978Z"
   },
   {
    "duration": 6,
    "start_time": "2022-09-08T11:50:42.626Z"
   },
   {
    "duration": 8,
    "start_time": "2022-09-08T11:50:59.030Z"
   },
   {
    "duration": 8,
    "start_time": "2022-09-08T11:51:18.603Z"
   },
   {
    "duration": 167,
    "start_time": "2022-09-08T11:51:45.017Z"
   },
   {
    "duration": 126,
    "start_time": "2022-09-08T11:51:54.651Z"
   },
   {
    "duration": 134,
    "start_time": "2022-09-08T11:53:02.192Z"
   },
   {
    "duration": 28,
    "start_time": "2022-09-08T11:53:33.602Z"
   },
   {
    "duration": 84,
    "start_time": "2022-09-08T11:53:36.044Z"
   },
   {
    "duration": 811,
    "start_time": "2022-09-08T11:53:37.322Z"
   },
   {
    "duration": 241,
    "start_time": "2022-09-08T11:53:54.180Z"
   },
   {
    "duration": 1343,
    "start_time": "2022-09-08T11:55:03.853Z"
   },
   {
    "duration": 1202,
    "start_time": "2022-09-08T11:55:11.805Z"
   },
   {
    "duration": 1094,
    "start_time": "2022-09-08T11:55:31.460Z"
   },
   {
    "duration": 1158,
    "start_time": "2022-09-08T11:55:52.475Z"
   },
   {
    "duration": 1179,
    "start_time": "2022-09-08T11:56:03.150Z"
   },
   {
    "duration": 1232,
    "start_time": "2022-09-08T11:56:33.222Z"
   },
   {
    "duration": 1069,
    "start_time": "2022-09-08T11:56:44.941Z"
   },
   {
    "duration": 1325,
    "start_time": "2022-09-08T11:56:54.116Z"
   },
   {
    "duration": 134,
    "start_time": "2022-09-08T12:00:07.742Z"
   },
   {
    "duration": 107,
    "start_time": "2022-09-08T12:01:08.976Z"
   },
   {
    "duration": 1040,
    "start_time": "2022-09-08T12:01:15.493Z"
   },
   {
    "duration": 149,
    "start_time": "2022-09-08T12:01:47.093Z"
   },
   {
    "duration": 4,
    "start_time": "2022-09-08T12:01:54.533Z"
   },
   {
    "duration": 769,
    "start_time": "2022-09-08T12:01:55.150Z"
   },
   {
    "duration": 5,
    "start_time": "2022-09-08T12:01:55.924Z"
   },
   {
    "duration": 120,
    "start_time": "2022-09-08T12:01:55.930Z"
   },
   {
    "duration": 2,
    "start_time": "2022-09-08T12:01:56.262Z"
   },
   {
    "duration": 116,
    "start_time": "2022-09-08T12:01:56.687Z"
   },
   {
    "duration": 31,
    "start_time": "2022-09-08T12:01:57.194Z"
   },
   {
    "duration": 1075,
    "start_time": "2022-09-08T12:01:58.087Z"
   },
   {
    "duration": 1113,
    "start_time": "2022-09-08T12:01:59.164Z"
   },
   {
    "duration": 149,
    "start_time": "2022-09-08T12:02:00.279Z"
   },
   {
    "duration": 7,
    "start_time": "2022-09-08T12:04:02.088Z"
   },
   {
    "duration": 13,
    "start_time": "2022-09-08T12:05:08.687Z"
   },
   {
    "duration": 49,
    "start_time": "2022-09-08T12:05:49.942Z"
   },
   {
    "duration": 1705,
    "start_time": "2022-09-08T12:05:54.051Z"
   },
   {
    "duration": 830,
    "start_time": "2022-09-08T12:05:56.137Z"
   },
   {
    "duration": 8,
    "start_time": "2022-09-08T12:05:59.979Z"
   },
   {
    "duration": 152,
    "start_time": "2022-09-08T12:06:01.033Z"
   },
   {
    "duration": 210,
    "start_time": "2022-09-08T12:06:09.937Z"
   },
   {
    "duration": 24,
    "start_time": "2022-09-08T12:06:11.177Z"
   },
   {
    "duration": 1136,
    "start_time": "2022-09-08T12:06:16.055Z"
   },
   {
    "duration": 923,
    "start_time": "2022-09-08T12:06:26.141Z"
   },
   {
    "duration": 82,
    "start_time": "2022-09-08T12:06:54.442Z"
   },
   {
    "duration": 5,
    "start_time": "2022-09-08T12:07:25.928Z"
   },
   {
    "duration": 801,
    "start_time": "2022-09-08T12:07:26.232Z"
   },
   {
    "duration": 5,
    "start_time": "2022-09-08T12:07:27.036Z"
   },
   {
    "duration": 128,
    "start_time": "2022-09-08T12:07:27.042Z"
   },
   {
    "duration": 16,
    "start_time": "2022-09-08T12:07:27.172Z"
   },
   {
    "duration": 1054,
    "start_time": "2022-09-08T12:07:27.417Z"
   },
   {
    "duration": 786,
    "start_time": "2022-09-08T12:07:28.473Z"
   },
   {
    "duration": 140,
    "start_time": "2022-09-08T12:07:31.545Z"
   },
   {
    "duration": 6,
    "start_time": "2022-09-08T12:07:46.198Z"
   },
   {
    "duration": 783,
    "start_time": "2022-09-08T12:07:46.512Z"
   },
   {
    "duration": 5,
    "start_time": "2022-09-08T12:07:47.297Z"
   },
   {
    "duration": 156,
    "start_time": "2022-09-08T12:07:47.304Z"
   },
   {
    "duration": 18,
    "start_time": "2022-09-08T12:07:47.462Z"
   },
   {
    "duration": 1258,
    "start_time": "2022-09-08T12:07:47.482Z"
   },
   {
    "duration": 812,
    "start_time": "2022-09-08T12:07:48.743Z"
   },
   {
    "duration": 9,
    "start_time": "2022-09-08T12:10:04.636Z"
   },
   {
    "duration": 130,
    "start_time": "2022-09-08T12:11:03.096Z"
   },
   {
    "duration": 5,
    "start_time": "2022-09-08T12:11:08.172Z"
   },
   {
    "duration": 711,
    "start_time": "2022-09-08T12:11:08.643Z"
   },
   {
    "duration": 6,
    "start_time": "2022-09-08T12:11:09.356Z"
   },
   {
    "duration": 123,
    "start_time": "2022-09-08T12:11:09.363Z"
   },
   {
    "duration": 15,
    "start_time": "2022-09-08T12:11:09.533Z"
   },
   {
    "duration": 1135,
    "start_time": "2022-09-08T12:11:09.947Z"
   },
   {
    "duration": 696,
    "start_time": "2022-09-08T12:11:11.084Z"
   },
   {
    "duration": 135,
    "start_time": "2022-09-08T12:11:13.968Z"
   },
   {
    "duration": 84,
    "start_time": "2022-09-08T12:11:42.707Z"
   },
   {
    "duration": 140,
    "start_time": "2022-09-08T12:11:50.283Z"
   },
   {
    "duration": 4,
    "start_time": "2022-09-08T12:12:21.840Z"
   },
   {
    "duration": 803,
    "start_time": "2022-09-08T12:12:22.160Z"
   },
   {
    "duration": 4,
    "start_time": "2022-09-08T12:12:22.965Z"
   },
   {
    "duration": 373,
    "start_time": "2022-09-08T12:12:24.022Z"
   },
   {
    "duration": 9,
    "start_time": "2022-09-08T12:13:38.535Z"
   },
   {
    "duration": 845,
    "start_time": "2022-09-08T12:13:39.204Z"
   },
   {
    "duration": 5,
    "start_time": "2022-09-08T12:13:40.054Z"
   },
   {
    "duration": 1002,
    "start_time": "2022-09-08T12:13:40.243Z"
   },
   {
    "duration": 126,
    "start_time": "2022-09-08T12:13:41.247Z"
   },
   {
    "duration": 45,
    "start_time": "2022-09-08T12:13:47.582Z"
   },
   {
    "duration": 1175,
    "start_time": "2022-09-08T12:13:48.160Z"
   },
   {
    "duration": 805,
    "start_time": "2022-09-08T12:13:49.338Z"
   },
   {
    "duration": 192,
    "start_time": "2022-09-08T12:13:50.152Z"
   },
   {
    "duration": 10,
    "start_time": "2022-09-08T12:13:50.347Z"
   },
   {
    "duration": 104,
    "start_time": "2022-09-08T12:13:50.359Z"
   },
   {
    "duration": 28,
    "start_time": "2022-09-08T12:13:56.507Z"
   },
   {
    "duration": 4,
    "start_time": "2022-09-08T12:15:05.868Z"
   },
   {
    "duration": 71,
    "start_time": "2022-09-08T12:16:01.633Z"
   },
   {
    "duration": 5,
    "start_time": "2022-09-08T12:16:15.837Z"
   },
   {
    "duration": 25,
    "start_time": "2022-09-08T12:17:08.802Z"
   },
   {
    "duration": 4,
    "start_time": "2022-09-08T12:17:16.297Z"
   },
   {
    "duration": 5,
    "start_time": "2022-09-08T12:17:56.837Z"
   },
   {
    "duration": 19,
    "start_time": "2022-09-08T12:18:34.074Z"
   },
   {
    "duration": 137,
    "start_time": "2022-09-08T12:19:13.345Z"
   },
   {
    "duration": 185,
    "start_time": "2022-09-08T12:23:30.484Z"
   },
   {
    "duration": 155,
    "start_time": "2022-09-08T12:23:59.298Z"
   },
   {
    "duration": 108,
    "start_time": "2022-09-08T12:24:25.683Z"
   },
   {
    "duration": 107,
    "start_time": "2022-09-08T12:24:29.689Z"
   },
   {
    "duration": 115,
    "start_time": "2022-09-08T12:24:49.768Z"
   },
   {
    "duration": 112,
    "start_time": "2022-09-08T12:25:29.767Z"
   },
   {
    "duration": 161,
    "start_time": "2022-09-08T12:25:49.797Z"
   },
   {
    "duration": 178,
    "start_time": "2022-09-08T12:26:30.205Z"
   },
   {
    "duration": 162,
    "start_time": "2022-09-08T12:27:07.077Z"
   },
   {
    "duration": 162,
    "start_time": "2022-09-08T12:27:14.055Z"
   },
   {
    "duration": 167,
    "start_time": "2022-09-08T12:30:56.033Z"
   },
   {
    "duration": 184,
    "start_time": "2022-09-08T12:31:04.650Z"
   },
   {
    "duration": 161,
    "start_time": "2022-09-08T12:31:33.728Z"
   },
   {
    "duration": 5,
    "start_time": "2022-09-08T12:35:08.795Z"
   },
   {
    "duration": 758,
    "start_time": "2022-09-08T12:35:09.474Z"
   },
   {
    "duration": 5,
    "start_time": "2022-09-08T12:35:10.235Z"
   },
   {
    "duration": 817,
    "start_time": "2022-09-08T12:35:10.373Z"
   },
   {
    "duration": 135,
    "start_time": "2022-09-08T12:35:11.192Z"
   },
   {
    "duration": 71,
    "start_time": "2022-09-08T12:35:11.358Z"
   },
   {
    "duration": 1330,
    "start_time": "2022-09-08T12:35:11.845Z"
   },
   {
    "duration": 871,
    "start_time": "2022-09-08T12:35:13.176Z"
   },
   {
    "duration": 52,
    "start_time": "2022-09-08T12:35:17.634Z"
   },
   {
    "duration": 127,
    "start_time": "2022-09-08T12:35:18.344Z"
   },
   {
    "duration": 181,
    "start_time": "2022-09-08T12:35:24.906Z"
   },
   {
    "duration": 133,
    "start_time": "2022-09-08T12:35:28.042Z"
   },
   {
    "duration": 133,
    "start_time": "2022-09-08T12:37:01.432Z"
   },
   {
    "duration": 139,
    "start_time": "2022-09-08T12:37:17.533Z"
   },
   {
    "duration": 5,
    "start_time": "2022-09-08T12:37:40.423Z"
   },
   {
    "duration": 15,
    "start_time": "2022-09-08T12:37:41.280Z"
   },
   {
    "duration": 5,
    "start_time": "2022-09-08T12:37:46.844Z"
   },
   {
    "duration": 5,
    "start_time": "2022-09-08T12:37:51.422Z"
   },
   {
    "duration": 4,
    "start_time": "2022-09-08T12:37:59.273Z"
   },
   {
    "duration": 15,
    "start_time": "2022-09-08T12:38:06.340Z"
   },
   {
    "duration": 15,
    "start_time": "2022-09-08T12:38:32.361Z"
   },
   {
    "duration": 51,
    "start_time": "2022-09-08T12:38:53.242Z"
   },
   {
    "duration": 135,
    "start_time": "2022-09-08T12:38:53.935Z"
   },
   {
    "duration": 251,
    "start_time": "2022-09-08T12:40:34.503Z"
   },
   {
    "duration": 44,
    "start_time": "2022-09-08T12:42:22.675Z"
   },
   {
    "duration": 38,
    "start_time": "2022-09-08T12:43:16.604Z"
   },
   {
    "duration": 90,
    "start_time": "2022-09-08T12:52:10.757Z"
   },
   {
    "duration": 128,
    "start_time": "2022-09-08T12:52:14.519Z"
   },
   {
    "duration": 53,
    "start_time": "2022-09-08T12:53:41.330Z"
   },
   {
    "duration": 110,
    "start_time": "2022-09-08T12:53:55.456Z"
   },
   {
    "duration": 85,
    "start_time": "2022-09-08T12:53:56.252Z"
   },
   {
    "duration": 16,
    "start_time": "2022-09-08T12:54:02.076Z"
   },
   {
    "duration": 4,
    "start_time": "2022-09-08T12:54:21.731Z"
   },
   {
    "duration": 745,
    "start_time": "2022-09-08T12:54:21.990Z"
   },
   {
    "duration": 6,
    "start_time": "2022-09-08T12:54:22.737Z"
   },
   {
    "duration": 1003,
    "start_time": "2022-09-08T12:54:22.745Z"
   },
   {
    "duration": 136,
    "start_time": "2022-09-08T12:54:23.750Z"
   },
   {
    "duration": 86,
    "start_time": "2022-09-08T12:54:23.888Z"
   },
   {
    "duration": 1244,
    "start_time": "2022-09-08T12:54:23.975Z"
   },
   {
    "duration": 875,
    "start_time": "2022-09-08T12:54:25.221Z"
   },
   {
    "duration": 52,
    "start_time": "2022-09-08T12:54:28.333Z"
   },
   {
    "duration": 129,
    "start_time": "2022-09-08T12:54:29.164Z"
   },
   {
    "duration": 149,
    "start_time": "2022-09-08T12:54:30.222Z"
   },
   {
    "duration": 105,
    "start_time": "2022-09-08T12:54:33.300Z"
   },
   {
    "duration": 59,
    "start_time": "2022-09-08T12:54:33.937Z"
   },
   {
    "duration": 19,
    "start_time": "2022-09-08T12:54:40.282Z"
   },
   {
    "duration": 107,
    "start_time": "2022-09-08T12:54:58.271Z"
   },
   {
    "duration": 74,
    "start_time": "2022-09-08T12:54:58.804Z"
   },
   {
    "duration": 7,
    "start_time": "2022-09-08T12:55:04.071Z"
   },
   {
    "duration": 750,
    "start_time": "2022-09-08T12:55:04.403Z"
   },
   {
    "duration": 5,
    "start_time": "2022-09-08T12:55:05.155Z"
   },
   {
    "duration": 935,
    "start_time": "2022-09-08T12:55:05.161Z"
   },
   {
    "duration": 125,
    "start_time": "2022-09-08T12:55:06.099Z"
   },
   {
    "duration": 72,
    "start_time": "2022-09-08T12:55:06.226Z"
   },
   {
    "duration": 1109,
    "start_time": "2022-09-08T12:55:06.301Z"
   },
   {
    "duration": 982,
    "start_time": "2022-09-08T12:55:07.412Z"
   },
   {
    "duration": 65,
    "start_time": "2022-09-08T12:55:08.396Z"
   },
   {
    "duration": 170,
    "start_time": "2022-09-08T12:55:08.463Z"
   },
   {
    "duration": 140,
    "start_time": "2022-09-08T12:55:08.636Z"
   },
   {
    "duration": 123,
    "start_time": "2022-09-08T12:55:08.779Z"
   },
   {
    "duration": 87,
    "start_time": "2022-09-08T12:55:08.904Z"
   },
   {
    "duration": 4,
    "start_time": "2022-09-08T12:55:08.993Z"
   },
   {
    "duration": 20,
    "start_time": "2022-09-08T12:55:10.094Z"
   },
   {
    "duration": 120,
    "start_time": "2022-09-08T12:55:18.538Z"
   },
   {
    "duration": 5,
    "start_time": "2022-09-08T12:56:44.055Z"
   },
   {
    "duration": 744,
    "start_time": "2022-09-08T12:56:44.405Z"
   },
   {
    "duration": 4,
    "start_time": "2022-09-08T12:56:45.151Z"
   },
   {
    "duration": 828,
    "start_time": "2022-09-08T12:56:45.157Z"
   },
   {
    "duration": 134,
    "start_time": "2022-09-08T12:56:45.987Z"
   },
   {
    "duration": 139,
    "start_time": "2022-09-08T12:56:46.130Z"
   },
   {
    "duration": 1111,
    "start_time": "2022-09-08T12:56:46.744Z"
   },
   {
    "duration": 6,
    "start_time": "2022-09-08T12:57:24.439Z"
   },
   {
    "duration": 858,
    "start_time": "2022-09-08T12:57:24.684Z"
   },
   {
    "duration": 5,
    "start_time": "2022-09-08T12:57:25.543Z"
   },
   {
    "duration": 848,
    "start_time": "2022-09-08T12:57:25.550Z"
   },
   {
    "duration": 143,
    "start_time": "2022-09-08T12:57:26.400Z"
   },
   {
    "duration": 201,
    "start_time": "2022-09-08T12:57:26.545Z"
   },
   {
    "duration": 1302,
    "start_time": "2022-09-08T12:57:26.748Z"
   },
   {
    "duration": 990,
    "start_time": "2022-09-08T12:57:28.052Z"
   },
   {
    "duration": 66,
    "start_time": "2022-09-08T12:57:29.045Z"
   },
   {
    "duration": 168,
    "start_time": "2022-09-08T12:57:29.113Z"
   },
   {
    "duration": 148,
    "start_time": "2022-09-08T12:57:29.284Z"
   },
   {
    "duration": 81,
    "start_time": "2022-09-08T12:57:43.053Z"
   },
   {
    "duration": 85,
    "start_time": "2022-09-08T12:57:43.821Z"
   },
   {
    "duration": 5117,
    "start_time": "2022-09-08T13:01:40.478Z"
   },
   {
    "duration": 5664,
    "start_time": "2022-09-08T13:02:01.298Z"
   },
   {
    "duration": 712,
    "start_time": "2022-09-08T13:02:19.441Z"
   },
   {
    "duration": 13,
    "start_time": "2022-09-08T13:30:21.678Z"
   },
   {
    "duration": 1224,
    "start_time": "2022-09-08T13:32:53.571Z"
   },
   {
    "duration": 411,
    "start_time": "2022-09-08T13:32:59.872Z"
   },
   {
    "duration": 1413,
    "start_time": "2022-09-08T13:33:00.285Z"
   },
   {
    "duration": 5,
    "start_time": "2022-09-08T13:33:01.700Z"
   },
   {
    "duration": 1182,
    "start_time": "2022-09-08T13:33:01.707Z"
   },
   {
    "duration": 156,
    "start_time": "2022-09-08T13:33:02.892Z"
   },
   {
    "duration": 220,
    "start_time": "2022-09-08T13:33:03.050Z"
   },
   {
    "duration": 1291,
    "start_time": "2022-09-08T13:33:03.272Z"
   },
   {
    "duration": 63192,
    "start_time": "2022-09-08T13:33:04.564Z"
   },
   {
    "duration": 0,
    "start_time": "2022-09-08T13:34:07.760Z"
   },
   {
    "duration": 1576,
    "start_time": "2022-09-08T13:34:43.255Z"
   },
   {
    "duration": 847,
    "start_time": "2022-09-08T13:34:45.576Z"
   },
   {
    "duration": 11,
    "start_time": "2022-09-08T13:34:46.425Z"
   },
   {
    "duration": 1143,
    "start_time": "2022-09-08T13:34:46.807Z"
   },
   {
    "duration": 137,
    "start_time": "2022-09-08T13:34:47.952Z"
   },
   {
    "duration": 180,
    "start_time": "2022-09-08T13:34:48.090Z"
   },
   {
    "duration": 1317,
    "start_time": "2022-09-08T13:34:48.802Z"
   },
   {
    "duration": 2499,
    "start_time": "2022-09-08T13:34:51.345Z"
   },
   {
    "duration": 141,
    "start_time": "2022-09-08T13:35:06.849Z"
   },
   {
    "duration": 996,
    "start_time": "2022-09-08T13:35:50.150Z"
   },
   {
    "duration": 415,
    "start_time": "2022-09-08T13:36:26.558Z"
   },
   {
    "duration": 598,
    "start_time": "2022-09-08T13:36:32.153Z"
   },
   {
    "duration": 545,
    "start_time": "2022-09-08T13:37:25.540Z"
   },
   {
    "duration": 289,
    "start_time": "2022-09-08T13:37:42.853Z"
   },
   {
    "duration": 6,
    "start_time": "2022-09-08T13:40:10.736Z"
   },
   {
    "duration": 904,
    "start_time": "2022-09-08T13:40:11.545Z"
   },
   {
    "duration": 6,
    "start_time": "2022-09-08T13:40:12.452Z"
   },
   {
    "duration": 928,
    "start_time": "2022-09-08T13:40:12.473Z"
   },
   {
    "duration": 156,
    "start_time": "2022-09-08T13:40:13.403Z"
   },
   {
    "duration": 146,
    "start_time": "2022-09-08T13:40:13.751Z"
   },
   {
    "duration": 1256,
    "start_time": "2022-09-08T13:40:14.444Z"
   },
   {
    "duration": 1033,
    "start_time": "2022-09-08T13:40:15.702Z"
   },
   {
    "duration": 55,
    "start_time": "2022-09-08T13:40:16.743Z"
   },
   {
    "duration": 158,
    "start_time": "2022-09-08T13:40:16.997Z"
   },
   {
    "duration": 168,
    "start_time": "2022-09-08T13:40:18.078Z"
   },
   {
    "duration": 92,
    "start_time": "2022-09-08T13:40:21.736Z"
   },
   {
    "duration": 89,
    "start_time": "2022-09-08T13:40:22.612Z"
   },
   {
    "duration": 1593,
    "start_time": "2022-09-08T13:40:52.984Z"
   },
   {
    "duration": 874,
    "start_time": "2022-09-08T13:40:54.580Z"
   },
   {
    "duration": 5,
    "start_time": "2022-09-08T13:40:55.455Z"
   },
   {
    "duration": 1030,
    "start_time": "2022-09-08T13:40:55.462Z"
   },
   {
    "duration": 133,
    "start_time": "2022-09-08T13:40:56.494Z"
   },
   {
    "duration": 171,
    "start_time": "2022-09-08T13:40:56.629Z"
   },
   {
    "duration": 1237,
    "start_time": "2022-09-08T13:40:56.802Z"
   },
   {
    "duration": 946,
    "start_time": "2022-09-08T13:40:58.041Z"
   },
   {
    "duration": 91,
    "start_time": "2022-09-08T13:40:58.989Z"
   },
   {
    "duration": 149,
    "start_time": "2022-09-08T13:40:59.082Z"
   },
   {
    "duration": 149,
    "start_time": "2022-09-08T13:40:59.232Z"
   },
   {
    "duration": 115,
    "start_time": "2022-09-08T13:41:00.533Z"
   },
   {
    "duration": 76,
    "start_time": "2022-09-08T13:41:01.370Z"
   },
   {
    "duration": 5,
    "start_time": "2022-09-08T13:41:02.651Z"
   },
   {
    "duration": 27,
    "start_time": "2022-09-08T13:41:03.408Z"
   },
   {
    "duration": 206,
    "start_time": "2022-09-08T13:42:37.841Z"
   },
   {
    "duration": 549,
    "start_time": "2022-09-08T13:42:38.940Z"
   },
   {
    "duration": 269,
    "start_time": "2022-09-08T13:42:55.946Z"
   },
   {
    "duration": 90,
    "start_time": "2022-09-08T13:43:40.037Z"
   },
   {
    "duration": 236,
    "start_time": "2022-09-08T13:43:40.846Z"
   },
   {
    "duration": 71684,
    "start_time": "2022-09-08T13:43:44.335Z"
   },
   {
    "duration": 4,
    "start_time": "2022-09-08T13:55:37.039Z"
   },
   {
    "duration": 827,
    "start_time": "2022-09-08T13:55:37.753Z"
   },
   {
    "duration": 5,
    "start_time": "2022-09-08T13:55:38.582Z"
   },
   {
    "duration": 867,
    "start_time": "2022-09-08T13:55:39.039Z"
   },
   {
    "duration": 143,
    "start_time": "2022-09-08T13:55:39.916Z"
   },
   {
    "duration": 164,
    "start_time": "2022-09-08T13:55:40.061Z"
   },
   {
    "duration": 1441,
    "start_time": "2022-09-08T13:55:40.488Z"
   },
   {
    "duration": 1266,
    "start_time": "2022-09-08T13:55:41.934Z"
   },
   {
    "duration": 90,
    "start_time": "2022-09-08T13:55:43.202Z"
   },
   {
    "duration": 196,
    "start_time": "2022-09-08T13:55:43.294Z"
   },
   {
    "duration": 181,
    "start_time": "2022-09-08T13:55:43.492Z"
   },
   {
    "duration": 122,
    "start_time": "2022-09-08T13:55:43.675Z"
   },
   {
    "duration": 102,
    "start_time": "2022-09-08T13:55:43.799Z"
   },
   {
    "duration": 5,
    "start_time": "2022-09-08T13:55:44.484Z"
   },
   {
    "duration": 22,
    "start_time": "2022-09-08T13:55:45.183Z"
   },
   {
    "duration": 2,
    "start_time": "2022-09-08T13:55:47.583Z"
   },
   {
    "duration": 576,
    "start_time": "2022-09-08T13:55:48.295Z"
   },
   {
    "duration": 152,
    "start_time": "2022-09-08T13:55:58.375Z"
   },
   {
    "duration": 211,
    "start_time": "2022-09-08T13:55:59.437Z"
   },
   {
    "duration": 2,
    "start_time": "2022-09-08T13:56:00.672Z"
   },
   {
    "duration": 70668,
    "start_time": "2022-09-08T13:57:17.570Z"
   },
   {
    "duration": 177,
    "start_time": "2022-09-08T13:58:28.243Z"
   },
   {
    "duration": 6,
    "start_time": "2022-09-08T13:58:28.428Z"
   },
   {
    "duration": 3,
    "start_time": "2022-09-08T14:07:03.333Z"
   },
   {
    "duration": 6,
    "start_time": "2022-09-08T14:07:14.408Z"
   },
   {
    "duration": 30953,
    "start_time": "2022-09-08T14:08:26.802Z"
   },
   {
    "duration": 1468,
    "start_time": "2022-09-08T15:18:51.722Z"
   },
   {
    "duration": 762,
    "start_time": "2022-09-08T15:18:53.192Z"
   },
   {
    "duration": 5,
    "start_time": "2022-09-08T15:18:53.955Z"
   },
   {
    "duration": 935,
    "start_time": "2022-09-08T15:18:53.962Z"
   },
   {
    "duration": 128,
    "start_time": "2022-09-08T15:18:54.899Z"
   },
   {
    "duration": 151,
    "start_time": "2022-09-08T15:18:55.029Z"
   },
   {
    "duration": 1130,
    "start_time": "2022-09-08T15:18:55.182Z"
   },
   {
    "duration": 862,
    "start_time": "2022-09-08T15:18:56.314Z"
   },
   {
    "duration": 58,
    "start_time": "2022-09-08T15:18:57.177Z"
   },
   {
    "duration": 127,
    "start_time": "2022-09-08T15:18:57.236Z"
   },
   {
    "duration": 135,
    "start_time": "2022-09-08T15:18:57.365Z"
   },
   {
    "duration": 79,
    "start_time": "2022-09-08T15:18:57.502Z"
   },
   {
    "duration": 58,
    "start_time": "2022-09-08T15:18:57.583Z"
   },
   {
    "duration": 5,
    "start_time": "2022-09-08T15:18:57.643Z"
   },
   {
    "duration": 26,
    "start_time": "2022-09-08T15:18:57.650Z"
   },
   {
    "duration": 34,
    "start_time": "2022-09-08T15:18:59.732Z"
   },
   {
    "duration": 20,
    "start_time": "2022-09-08T15:19:05.801Z"
   },
   {
    "duration": 22,
    "start_time": "2022-09-08T15:20:10.422Z"
   },
   {
    "duration": 1467,
    "start_time": "2022-09-08T15:20:50.181Z"
   },
   {
    "duration": 770,
    "start_time": "2022-09-08T15:20:51.650Z"
   },
   {
    "duration": 5,
    "start_time": "2022-09-08T15:20:52.422Z"
   },
   {
    "duration": 949,
    "start_time": "2022-09-08T15:20:52.429Z"
   },
   {
    "duration": 107,
    "start_time": "2022-09-08T15:20:53.380Z"
   },
   {
    "duration": 146,
    "start_time": "2022-09-08T15:20:53.489Z"
   },
   {
    "duration": 1156,
    "start_time": "2022-09-08T15:20:53.636Z"
   },
   {
    "duration": 899,
    "start_time": "2022-09-08T15:20:54.794Z"
   },
   {
    "duration": 56,
    "start_time": "2022-09-08T15:20:55.695Z"
   },
   {
    "duration": 134,
    "start_time": "2022-09-08T15:20:55.753Z"
   },
   {
    "duration": 147,
    "start_time": "2022-09-08T15:20:55.889Z"
   },
   {
    "duration": 83,
    "start_time": "2022-09-08T15:20:56.037Z"
   },
   {
    "duration": 50,
    "start_time": "2022-09-08T15:20:56.122Z"
   },
   {
    "duration": 4,
    "start_time": "2022-09-08T15:20:56.174Z"
   },
   {
    "duration": 40,
    "start_time": "2022-09-08T15:20:56.179Z"
   },
   {
    "duration": 16,
    "start_time": "2022-09-08T15:20:56.220Z"
   },
   {
    "duration": 36,
    "start_time": "2022-09-08T15:21:25.546Z"
   },
   {
    "duration": 3,
    "start_time": "2022-09-08T15:21:29.812Z"
   },
   {
    "duration": 233,
    "start_time": "2022-09-08T15:21:30.135Z"
   },
   {
    "duration": 47,
    "start_time": "2022-09-08T15:21:30.842Z"
   },
   {
    "duration": 52,
    "start_time": "2022-09-08T15:21:33.732Z"
   },
   {
    "duration": 2,
    "start_time": "2022-09-08T15:21:34.438Z"
   },
   {
    "duration": 6044,
    "start_time": "2022-09-08T15:21:35.366Z"
   },
   {
    "duration": 209,
    "start_time": "2022-09-08T15:21:41.412Z"
   },
   {
    "duration": 5,
    "start_time": "2022-09-08T15:21:41.709Z"
   },
   {
    "duration": 3,
    "start_time": "2022-09-08T15:21:55.407Z"
   },
   {
    "duration": 7453,
    "start_time": "2022-09-08T15:21:57.585Z"
   },
   {
    "duration": 290891,
    "start_time": "2022-09-08T15:22:19.268Z"
   },
   {
    "duration": 1152,
    "start_time": "2022-09-08T15:27:10.161Z"
   },
   {
    "duration": 4,
    "start_time": "2022-09-08T15:27:25.421Z"
   },
   {
    "duration": 723,
    "start_time": "2022-09-08T15:27:25.774Z"
   },
   {
    "duration": 10,
    "start_time": "2022-09-08T15:27:26.499Z"
   },
   {
    "duration": 766,
    "start_time": "2022-09-08T15:27:26.510Z"
   },
   {
    "duration": 116,
    "start_time": "2022-09-08T15:27:27.278Z"
   },
   {
    "duration": 127,
    "start_time": "2022-09-08T15:27:27.395Z"
   },
   {
    "duration": 1128,
    "start_time": "2022-09-08T15:27:27.523Z"
   },
   {
    "duration": 950,
    "start_time": "2022-09-08T15:27:28.653Z"
   },
   {
    "duration": 50,
    "start_time": "2022-09-08T15:27:29.604Z"
   },
   {
    "duration": 133,
    "start_time": "2022-09-08T15:27:29.656Z"
   },
   {
    "duration": 134,
    "start_time": "2022-09-08T15:27:29.790Z"
   },
   {
    "duration": 75,
    "start_time": "2022-09-08T15:27:29.926Z"
   },
   {
    "duration": 50,
    "start_time": "2022-09-08T15:27:30.010Z"
   },
   {
    "duration": 5,
    "start_time": "2022-09-08T15:27:30.061Z"
   },
   {
    "duration": 17,
    "start_time": "2022-09-08T15:27:30.069Z"
   },
   {
    "duration": 33,
    "start_time": "2022-09-08T15:27:31.301Z"
   },
   {
    "duration": 2,
    "start_time": "2022-09-08T15:27:36.508Z"
   },
   {
    "duration": 144,
    "start_time": "2022-09-08T15:27:36.959Z"
   },
   {
    "duration": 15,
    "start_time": "2022-09-08T15:27:38.183Z"
   },
   {
    "duration": 29,
    "start_time": "2022-09-08T15:27:39.501Z"
   },
   {
    "duration": 2,
    "start_time": "2022-09-08T15:27:40.241Z"
   },
   {
    "duration": 2969,
    "start_time": "2022-09-08T15:27:42.149Z"
   },
   {
    "duration": 20,
    "start_time": "2022-09-08T15:27:54.894Z"
   },
   {
    "duration": 4,
    "start_time": "2022-09-08T15:27:57.543Z"
   },
   {
    "duration": 2,
    "start_time": "2022-09-08T15:28:01.668Z"
   },
   {
    "duration": 6548,
    "start_time": "2022-09-08T15:28:09.567Z"
   },
   {
    "duration": 4060,
    "start_time": "2022-09-08T15:28:32.968Z"
   },
   {
    "duration": 4678,
    "start_time": "2022-09-08T15:28:44.536Z"
   },
   {
    "duration": 130820,
    "start_time": "2022-09-08T15:29:00.313Z"
   },
   {
    "duration": 4982,
    "start_time": "2022-09-08T15:31:16.513Z"
   },
   {
    "duration": 5922,
    "start_time": "2022-09-08T15:32:46.758Z"
   },
   {
    "duration": 28073,
    "start_time": "2022-09-08T15:34:33.292Z"
   },
   {
    "duration": 218,
    "start_time": "2022-09-08T15:35:01.367Z"
   },
   {
    "duration": 4,
    "start_time": "2022-09-08T15:35:01.587Z"
   },
   {
    "duration": 55,
    "start_time": "2022-09-08T15:36:48.819Z"
   },
   {
    "duration": 132459,
    "start_time": "2022-09-08T15:36:57.262Z"
   },
   {
    "duration": 8757,
    "start_time": "2022-09-08T15:39:09.723Z"
   },
   {
    "duration": 60,
    "start_time": "2022-09-08T15:39:18.482Z"
   },
   {
    "duration": 4,
    "start_time": "2022-09-08T15:39:18.544Z"
   },
   {
    "duration": 6,
    "start_time": "2022-09-08T15:39:55.247Z"
   },
   {
    "duration": 10,
    "start_time": "2022-09-08T15:42:46.501Z"
   },
   {
    "duration": 103218,
    "start_time": "2022-09-08T15:42:58.784Z"
   },
   {
    "duration": 102661,
    "start_time": "2022-09-08T15:46:13.680Z"
   },
   {
    "duration": 213,
    "start_time": "2022-09-08T15:54:37.201Z"
   },
   {
    "duration": 4,
    "start_time": "2022-09-08T15:54:38.449Z"
   },
   {
    "duration": 12,
    "start_time": "2022-09-08T15:55:32.599Z"
   },
   {
    "duration": 5,
    "start_time": "2022-09-08T15:55:38.437Z"
   },
   {
    "duration": 10,
    "start_time": "2022-09-08T15:55:46.577Z"
   },
   {
    "duration": 102587,
    "start_time": "2022-09-08T15:56:03.368Z"
   },
   {
    "duration": 221224,
    "start_time": "2022-09-08T15:57:45.957Z"
   },
   {
    "duration": 3129,
    "start_time": "2022-09-08T16:01:27.184Z"
   },
   {
    "duration": 1456,
    "start_time": "2022-09-08T16:01:41.293Z"
   },
   {
    "duration": 775,
    "start_time": "2022-09-08T16:01:42.750Z"
   },
   {
    "duration": 5,
    "start_time": "2022-09-08T16:01:43.527Z"
   },
   {
    "duration": 919,
    "start_time": "2022-09-08T16:01:43.533Z"
   },
   {
    "duration": 111,
    "start_time": "2022-09-08T16:01:44.454Z"
   },
   {
    "duration": 146,
    "start_time": "2022-09-08T16:01:44.566Z"
   },
   {
    "duration": 1160,
    "start_time": "2022-09-08T16:01:44.713Z"
   },
   {
    "duration": 895,
    "start_time": "2022-09-08T16:01:45.875Z"
   },
   {
    "duration": 63,
    "start_time": "2022-09-08T16:01:46.772Z"
   },
   {
    "duration": 125,
    "start_time": "2022-09-08T16:01:46.837Z"
   },
   {
    "duration": 146,
    "start_time": "2022-09-08T16:01:46.964Z"
   },
   {
    "duration": 73,
    "start_time": "2022-09-08T16:01:47.111Z"
   },
   {
    "duration": 59,
    "start_time": "2022-09-08T16:01:47.185Z"
   },
   {
    "duration": 26,
    "start_time": "2022-09-08T16:01:47.245Z"
   },
   {
    "duration": 19,
    "start_time": "2022-09-08T16:01:47.273Z"
   },
   {
    "duration": 30,
    "start_time": "2022-09-08T16:01:47.294Z"
   },
   {
    "duration": 2,
    "start_time": "2022-09-08T16:01:47.517Z"
   },
   {
    "duration": 146,
    "start_time": "2022-09-08T16:01:48.259Z"
   },
   {
    "duration": 20,
    "start_time": "2022-09-08T16:01:49.297Z"
   },
   {
    "duration": 30,
    "start_time": "2022-09-08T16:01:50.297Z"
   },
   {
    "duration": 3,
    "start_time": "2022-09-08T16:01:51.117Z"
   },
   {
    "duration": 2603,
    "start_time": "2022-09-08T16:01:52.314Z"
   },
   {
    "duration": 15092,
    "start_time": "2022-09-08T16:01:54.918Z"
   },
   {
    "duration": 18,
    "start_time": "2022-09-08T16:03:08.555Z"
   },
   {
    "duration": 4,
    "start_time": "2022-09-08T16:03:09.544Z"
   },
   {
    "duration": 49702,
    "start_time": "2022-09-08T16:05:25.725Z"
   },
   {
    "duration": 116,
    "start_time": "2022-09-08T16:06:40.881Z"
   },
   {
    "duration": 9,
    "start_time": "2022-09-08T16:07:08.094Z"
   },
   {
    "duration": 4,
    "start_time": "2022-09-08T16:07:14.827Z"
   },
   {
    "duration": 4,
    "start_time": "2022-09-08T16:08:03.343Z"
   },
   {
    "duration": 4,
    "start_time": "2022-09-08T16:08:35.927Z"
   },
   {
    "duration": 2298,
    "start_time": "2022-09-08T16:08:52.214Z"
   },
   {
    "duration": 13393,
    "start_time": "2022-09-08T16:08:57.823Z"
   },
   {
    "duration": 99,
    "start_time": "2022-09-08T16:09:11.218Z"
   },
   {
    "duration": 97,
    "start_time": "2022-09-08T16:09:11.320Z"
   },
   {
    "duration": 5890,
    "start_time": "2022-09-08T16:09:50.107Z"
   },
   {
    "duration": 25638,
    "start_time": "2022-09-08T16:09:55.999Z"
   },
   {
    "duration": 99839,
    "start_time": "2022-09-08T16:10:21.638Z"
   },
   {
    "duration": 217,
    "start_time": "2022-09-08T16:12:01.479Z"
   },
   {
    "duration": 4,
    "start_time": "2022-09-08T16:12:01.697Z"
   },
   {
    "duration": 197,
    "start_time": "2022-09-08T16:12:01.702Z"
   },
   {
    "duration": 526338,
    "start_time": "2022-09-08T16:15:16.948Z"
   },
   {
    "duration": 22803,
    "start_time": "2022-09-08T16:27:34.258Z"
   },
   {
    "duration": 89634,
    "start_time": "2022-09-08T16:27:57.063Z"
   },
   {
    "duration": 194,
    "start_time": "2022-09-08T16:29:26.698Z"
   },
   {
    "duration": 4,
    "start_time": "2022-09-08T16:29:26.893Z"
   },
   {
    "duration": 926934,
    "start_time": "2022-09-08T16:31:56.892Z"
   },
   {
    "duration": 64,
    "start_time": "2022-09-08T16:47:23.828Z"
   },
   {
    "duration": 680,
    "start_time": "2022-09-08T16:47:23.894Z"
   },
   {
    "duration": 0,
    "start_time": "2022-09-08T16:47:24.576Z"
   },
   {
    "duration": 0,
    "start_time": "2022-09-08T16:47:24.578Z"
   },
   {
    "duration": 1387,
    "start_time": "2022-09-08T16:47:28.841Z"
   },
   {
    "duration": 763,
    "start_time": "2022-09-08T16:47:30.229Z"
   },
   {
    "duration": 5,
    "start_time": "2022-09-08T16:47:30.993Z"
   },
   {
    "duration": 949,
    "start_time": "2022-09-08T16:47:30.999Z"
   },
   {
    "duration": 110,
    "start_time": "2022-09-08T16:47:31.950Z"
   },
   {
    "duration": 148,
    "start_time": "2022-09-08T16:47:32.061Z"
   },
   {
    "duration": 1188,
    "start_time": "2022-09-08T16:47:32.210Z"
   },
   {
    "duration": 916,
    "start_time": "2022-09-08T16:47:33.400Z"
   },
   {
    "duration": 51,
    "start_time": "2022-09-08T16:47:34.318Z"
   },
   {
    "duration": 134,
    "start_time": "2022-09-08T16:47:34.370Z"
   },
   {
    "duration": 144,
    "start_time": "2022-09-08T16:47:34.509Z"
   },
   {
    "duration": 102,
    "start_time": "2022-09-08T16:47:34.655Z"
   },
   {
    "duration": 62,
    "start_time": "2022-09-08T16:47:34.759Z"
   },
   {
    "duration": 5,
    "start_time": "2022-09-08T16:47:34.823Z"
   },
   {
    "duration": 30,
    "start_time": "2022-09-08T16:47:34.830Z"
   },
   {
    "duration": 18,
    "start_time": "2022-09-08T16:47:34.862Z"
   },
   {
    "duration": 2,
    "start_time": "2022-09-08T16:47:34.882Z"
   },
   {
    "duration": 108,
    "start_time": "2022-09-08T16:47:34.908Z"
   },
   {
    "duration": 7,
    "start_time": "2022-09-08T16:47:35.018Z"
   },
   {
    "duration": 15,
    "start_time": "2022-09-08T16:47:35.026Z"
   },
   {
    "duration": 3,
    "start_time": "2022-09-08T16:47:35.042Z"
   },
   {
    "duration": 966,
    "start_time": "2022-09-08T16:47:35.047Z"
   },
   {
    "duration": 3498,
    "start_time": "2022-09-08T16:47:36.015Z"
   },
   {
    "duration": 99,
    "start_time": "2022-09-08T16:47:39.514Z"
   },
   {
    "duration": 8,
    "start_time": "2022-09-08T16:47:39.615Z"
   },
   {
    "duration": 875,
    "start_time": "2022-09-08T16:47:39.708Z"
   },
   {
    "duration": 2432,
    "start_time": "2022-09-08T16:47:40.584Z"
   },
   {
    "duration": 9568,
    "start_time": "2022-09-08T16:47:43.017Z"
   },
   {
    "duration": 41,
    "start_time": "2022-09-08T16:47:52.587Z"
   },
   {
    "duration": 4,
    "start_time": "2022-09-08T16:47:52.630Z"
   },
   {
    "duration": 194650,
    "start_time": "2022-09-08T16:47:52.636Z"
   },
   {
    "duration": 8475,
    "start_time": "2022-09-08T16:51:07.288Z"
   },
   {
    "duration": 32345,
    "start_time": "2022-09-08T16:51:15.765Z"
   },
   {
    "duration": 125,
    "start_time": "2022-09-08T16:51:48.111Z"
   },
   {
    "duration": 4,
    "start_time": "2022-09-08T16:51:48.237Z"
   },
   {
    "duration": 429842,
    "start_time": "2022-09-08T16:51:48.242Z"
   },
   {
    "duration": 54,
    "start_time": "2022-09-08T16:58:58.086Z"
   },
   {
    "duration": 10,
    "start_time": "2022-09-08T16:58:58.141Z"
   },
   {
    "duration": 0,
    "start_time": "2022-09-08T16:58:58.153Z"
   },
   {
    "duration": 0,
    "start_time": "2022-09-08T16:58:58.154Z"
   },
   {
    "duration": 0,
    "start_time": "2022-09-08T16:58:58.155Z"
   },
   {
    "duration": 0,
    "start_time": "2022-09-08T16:58:58.157Z"
   },
   {
    "duration": 0,
    "start_time": "2022-09-08T16:58:58.158Z"
   },
   {
    "duration": 0,
    "start_time": "2022-09-08T16:58:58.159Z"
   },
   {
    "duration": 0,
    "start_time": "2022-09-08T16:58:58.161Z"
   },
   {
    "duration": 0,
    "start_time": "2022-09-08T16:58:58.162Z"
   },
   {
    "duration": 0,
    "start_time": "2022-09-08T16:58:58.163Z"
   },
   {
    "duration": 0,
    "start_time": "2022-09-08T16:58:58.164Z"
   },
   {
    "duration": 0,
    "start_time": "2022-09-08T16:58:58.166Z"
   },
   {
    "duration": 0,
    "start_time": "2022-09-08T16:58:58.166Z"
   },
   {
    "duration": 1468,
    "start_time": "2022-09-08T16:59:31.294Z"
   },
   {
    "duration": 760,
    "start_time": "2022-09-08T16:59:32.764Z"
   },
   {
    "duration": 4,
    "start_time": "2022-09-08T16:59:33.526Z"
   },
   {
    "duration": 924,
    "start_time": "2022-09-08T16:59:33.532Z"
   },
   {
    "duration": 108,
    "start_time": "2022-09-08T16:59:34.457Z"
   },
   {
    "duration": 144,
    "start_time": "2022-09-08T16:59:34.567Z"
   },
   {
    "duration": 1162,
    "start_time": "2022-09-08T16:59:34.713Z"
   },
   {
    "duration": 916,
    "start_time": "2022-09-08T16:59:35.876Z"
   },
   {
    "duration": 51,
    "start_time": "2022-09-08T16:59:36.793Z"
   },
   {
    "duration": 141,
    "start_time": "2022-09-08T16:59:36.847Z"
   },
   {
    "duration": 140,
    "start_time": "2022-09-08T16:59:36.990Z"
   },
   {
    "duration": 93,
    "start_time": "2022-09-08T16:59:37.132Z"
   },
   {
    "duration": 49,
    "start_time": "2022-09-08T16:59:37.226Z"
   },
   {
    "duration": 4,
    "start_time": "2022-09-08T16:59:37.277Z"
   },
   {
    "duration": 33,
    "start_time": "2022-09-08T16:59:37.282Z"
   },
   {
    "duration": 14,
    "start_time": "2022-09-08T16:59:37.316Z"
   },
   {
    "duration": 99,
    "start_time": "2022-09-08T16:59:37.331Z"
   },
   {
    "duration": 5,
    "start_time": "2022-09-08T16:59:37.431Z"
   },
   {
    "duration": 12,
    "start_time": "2022-09-08T16:59:37.437Z"
   },
   {
    "duration": 6,
    "start_time": "2022-09-08T16:59:37.450Z"
   },
   {
    "duration": 4,
    "start_time": "2022-09-08T16:59:37.458Z"
   },
   {
    "duration": 453,
    "start_time": "2022-09-08T16:59:37.464Z"
   },
   {
    "duration": 3193,
    "start_time": "2022-09-08T16:59:37.919Z"
   },
   {
    "duration": 104,
    "start_time": "2022-09-08T16:59:41.114Z"
   },
   {
    "duration": 92,
    "start_time": "2022-09-08T16:59:41.220Z"
   },
   {
    "duration": 725,
    "start_time": "2022-09-08T16:59:41.314Z"
   },
   {
    "duration": 1883,
    "start_time": "2022-09-08T16:59:42.041Z"
   },
   {
    "duration": 8198,
    "start_time": "2022-09-08T16:59:43.927Z"
   },
   {
    "duration": 28,
    "start_time": "2022-09-08T16:59:52.127Z"
   },
   {
    "duration": 4,
    "start_time": "2022-09-08T16:59:52.156Z"
   },
   {
    "duration": 148623,
    "start_time": "2022-09-08T16:59:52.162Z"
   },
   {
    "duration": 4925,
    "start_time": "2022-09-08T17:02:20.787Z"
   },
   {
    "duration": 19816,
    "start_time": "2022-09-08T17:02:25.713Z"
   },
   {
    "duration": 66,
    "start_time": "2022-09-08T17:02:45.531Z"
   },
   {
    "duration": 12,
    "start_time": "2022-09-08T17:02:45.599Z"
   },
   {
    "duration": 268699,
    "start_time": "2022-09-08T17:02:45.612Z"
   },
   {
    "duration": 71,
    "start_time": "2022-09-08T17:07:14.313Z"
   },
   {
    "duration": 9,
    "start_time": "2022-09-08T17:07:14.385Z"
   },
   {
    "duration": 0,
    "start_time": "2022-09-08T17:07:14.396Z"
   },
   {
    "duration": 0,
    "start_time": "2022-09-08T17:07:14.397Z"
   },
   {
    "duration": 0,
    "start_time": "2022-09-08T17:07:14.398Z"
   },
   {
    "duration": 0,
    "start_time": "2022-09-08T17:07:14.399Z"
   },
   {
    "duration": 0,
    "start_time": "2022-09-08T17:07:14.400Z"
   },
   {
    "duration": 0,
    "start_time": "2022-09-08T17:07:14.401Z"
   },
   {
    "duration": 0,
    "start_time": "2022-09-08T17:07:14.401Z"
   },
   {
    "duration": 0,
    "start_time": "2022-09-08T17:07:14.402Z"
   },
   {
    "duration": 0,
    "start_time": "2022-09-08T17:07:14.403Z"
   },
   {
    "duration": 0,
    "start_time": "2022-09-08T17:07:14.404Z"
   },
   {
    "duration": 0,
    "start_time": "2022-09-08T17:07:14.405Z"
   },
   {
    "duration": 0,
    "start_time": "2022-09-08T17:07:14.406Z"
   },
   {
    "duration": 0,
    "start_time": "2022-09-08T17:07:14.406Z"
   },
   {
    "duration": 0,
    "start_time": "2022-09-08T17:07:14.407Z"
   },
   {
    "duration": 1377,
    "start_time": "2022-09-08T17:07:18.634Z"
   },
   {
    "duration": 760,
    "start_time": "2022-09-08T17:07:20.013Z"
   },
   {
    "duration": 4,
    "start_time": "2022-09-08T17:07:20.775Z"
   },
   {
    "duration": 862,
    "start_time": "2022-09-08T17:07:20.781Z"
   },
   {
    "duration": 112,
    "start_time": "2022-09-08T17:07:21.645Z"
   },
   {
    "duration": 141,
    "start_time": "2022-09-08T17:07:21.758Z"
   },
   {
    "duration": 1164,
    "start_time": "2022-09-08T17:07:21.901Z"
   },
   {
    "duration": 890,
    "start_time": "2022-09-08T17:07:23.067Z"
   },
   {
    "duration": 55,
    "start_time": "2022-09-08T17:07:23.959Z"
   },
   {
    "duration": 135,
    "start_time": "2022-09-08T17:07:24.015Z"
   },
   {
    "duration": 153,
    "start_time": "2022-09-08T17:07:24.152Z"
   },
   {
    "duration": 76,
    "start_time": "2022-09-08T17:07:24.307Z"
   },
   {
    "duration": 63,
    "start_time": "2022-09-08T17:07:24.384Z"
   },
   {
    "duration": 5,
    "start_time": "2022-09-08T17:07:24.450Z"
   },
   {
    "duration": 29,
    "start_time": "2022-09-08T17:07:24.457Z"
   },
   {
    "duration": 41,
    "start_time": "2022-09-08T17:07:24.488Z"
   },
   {
    "duration": 42,
    "start_time": "2022-09-08T17:07:24.531Z"
   },
   {
    "duration": 4,
    "start_time": "2022-09-08T17:07:24.574Z"
   },
   {
    "duration": 13,
    "start_time": "2022-09-08T17:07:24.580Z"
   },
   {
    "duration": 16,
    "start_time": "2022-09-08T17:07:24.594Z"
   },
   {
    "duration": 10,
    "start_time": "2022-09-08T17:07:24.612Z"
   },
   {
    "duration": 90,
    "start_time": "2022-09-08T17:07:24.623Z"
   },
   {
    "duration": 1296,
    "start_time": "2022-09-08T17:07:24.714Z"
   },
   {
    "duration": 7,
    "start_time": "2022-09-08T17:07:26.012Z"
   },
   {
    "duration": 91,
    "start_time": "2022-09-08T17:07:26.020Z"
   },
   {
    "duration": 715,
    "start_time": "2022-09-08T17:07:26.113Z"
   },
   {
    "duration": 2054,
    "start_time": "2022-09-08T17:07:26.830Z"
   },
   {
    "duration": 8307,
    "start_time": "2022-09-08T17:07:28.886Z"
   },
   {
    "duration": 52,
    "start_time": "2022-09-08T17:07:37.194Z"
   },
   {
    "duration": 4,
    "start_time": "2022-09-08T17:07:37.248Z"
   },
   {
    "duration": 178384,
    "start_time": "2022-09-08T17:07:37.253Z"
   },
   {
    "duration": 5632,
    "start_time": "2022-09-08T17:10:35.638Z"
   },
   {
    "duration": 24075,
    "start_time": "2022-09-08T17:10:41.271Z"
   },
   {
    "duration": 147,
    "start_time": "2022-09-08T17:11:05.351Z"
   },
   {
    "duration": 10,
    "start_time": "2022-09-08T17:11:05.500Z"
   },
   {
    "duration": 667929,
    "start_time": "2022-09-08T17:11:05.511Z"
   },
   {
    "duration": 4400,
    "start_time": "2022-09-08T17:22:13.441Z"
   },
   {
    "duration": 1416,
    "start_time": "2022-09-08T17:22:19.883Z"
   },
   {
    "duration": 752,
    "start_time": "2022-09-08T17:22:21.301Z"
   },
   {
    "duration": 5,
    "start_time": "2022-09-08T17:22:22.054Z"
   },
   {
    "duration": 926,
    "start_time": "2022-09-08T17:22:22.060Z"
   },
   {
    "duration": 105,
    "start_time": "2022-09-08T17:22:22.988Z"
   },
   {
    "duration": 148,
    "start_time": "2022-09-08T17:22:23.095Z"
   },
   {
    "duration": 1137,
    "start_time": "2022-09-08T17:22:23.244Z"
   },
   {
    "duration": 866,
    "start_time": "2022-09-08T17:22:24.382Z"
   },
   {
    "duration": 60,
    "start_time": "2022-09-08T17:22:25.250Z"
   },
   {
    "duration": 125,
    "start_time": "2022-09-08T17:22:25.312Z"
   },
   {
    "duration": 145,
    "start_time": "2022-09-08T17:22:25.439Z"
   },
   {
    "duration": 78,
    "start_time": "2022-09-08T17:22:25.586Z"
   },
   {
    "duration": 57,
    "start_time": "2022-09-08T17:22:25.666Z"
   },
   {
    "duration": 4,
    "start_time": "2022-09-08T17:22:25.726Z"
   },
   {
    "duration": 39,
    "start_time": "2022-09-08T17:22:25.732Z"
   },
   {
    "duration": 15,
    "start_time": "2022-09-08T17:22:25.773Z"
   },
   {
    "duration": 34,
    "start_time": "2022-09-08T17:22:25.789Z"
   },
   {
    "duration": 4,
    "start_time": "2022-09-08T17:22:25.824Z"
   },
   {
    "duration": 23,
    "start_time": "2022-09-08T17:22:25.829Z"
   },
   {
    "duration": 13,
    "start_time": "2022-09-08T17:22:25.853Z"
   },
   {
    "duration": 12,
    "start_time": "2022-09-08T17:22:25.867Z"
   },
   {
    "duration": 30,
    "start_time": "2022-09-08T17:22:25.880Z"
   },
   {
    "duration": 1199,
    "start_time": "2022-09-08T17:22:25.913Z"
   },
   {
    "duration": 7,
    "start_time": "2022-09-08T17:22:27.114Z"
   },
   {
    "duration": 89,
    "start_time": "2022-09-08T17:22:27.123Z"
   },
   {
    "duration": 225,
    "start_time": "2022-09-08T17:22:27.213Z"
   },
   {
    "duration": 12,
    "start_time": "2022-09-08T17:22:27.439Z"
   },
   {
    "duration": 57,
    "start_time": "2022-09-08T17:22:27.452Z"
   },
   {
    "duration": 5,
    "start_time": "2022-09-08T17:22:27.510Z"
   },
   {
    "duration": 19,
    "start_time": "2022-09-08T17:22:27.516Z"
   },
   {
    "duration": 24757,
    "start_time": "2022-09-08T17:22:27.536Z"
   },
   {
    "duration": 1218,
    "start_time": "2022-09-08T17:22:52.294Z"
   },
   {
    "duration": 4743,
    "start_time": "2022-09-08T17:22:53.513Z"
   },
   {
    "duration": 37,
    "start_time": "2022-09-08T17:22:58.258Z"
   },
   {
    "duration": 12,
    "start_time": "2022-09-08T17:22:58.297Z"
   },
   {
    "duration": 122616,
    "start_time": "2022-09-08T17:22:58.311Z"
   },
   {
    "duration": 1400,
    "start_time": "2022-09-08T17:25:00.929Z"
   },
   {
    "duration": 7280,
    "start_time": "2022-09-08T17:25:02.330Z"
   },
   {
    "duration": 14,
    "start_time": "2022-09-08T17:25:09.612Z"
   },
   {
    "duration": 12,
    "start_time": "2022-09-08T17:25:09.708Z"
   },
   {
    "duration": 17793,
    "start_time": "2022-09-08T17:25:09.723Z"
   },
   {
    "duration": 294,
    "start_time": "2022-09-08T17:25:27.518Z"
   },
   {
    "duration": 1303,
    "start_time": "2022-09-08T17:25:27.814Z"
   },
   {
    "duration": 8,
    "start_time": "2022-09-08T17:25:29.208Z"
   },
   {
    "duration": 10,
    "start_time": "2022-09-08T17:25:29.218Z"
   },
   {
    "duration": 211,
    "start_time": "2022-09-08T17:25:29.229Z"
   },
   {
    "duration": 9,
    "start_time": "2022-09-08T17:25:29.442Z"
   },
   {
    "duration": 0,
    "start_time": "2022-09-08T17:25:29.452Z"
   },
   {
    "duration": 0,
    "start_time": "2022-09-08T17:25:29.454Z"
   },
   {
    "duration": 0,
    "start_time": "2022-09-08T17:25:29.455Z"
   },
   {
    "duration": 0,
    "start_time": "2022-09-08T17:25:29.456Z"
   },
   {
    "duration": 0,
    "start_time": "2022-09-08T17:25:29.456Z"
   },
   {
    "duration": 0,
    "start_time": "2022-09-08T17:25:29.457Z"
   },
   {
    "duration": 66973,
    "start_time": "2022-09-08T17:27:35.267Z"
   },
   {
    "duration": 27,
    "start_time": "2022-09-08T17:28:42.241Z"
   },
   {
    "duration": 0,
    "start_time": "2022-09-08T17:28:42.270Z"
   },
   {
    "duration": 0,
    "start_time": "2022-09-08T17:28:42.271Z"
   },
   {
    "duration": 0,
    "start_time": "2022-09-08T17:28:42.272Z"
   },
   {
    "duration": 4,
    "start_time": "2022-09-08T17:30:57.330Z"
   },
   {
    "duration": 1111,
    "start_time": "2022-09-08T17:32:02.990Z"
   },
   {
    "duration": 4,
    "start_time": "2022-09-08T17:32:12.851Z"
   },
   {
    "duration": 70,
    "start_time": "2022-09-08T17:32:16.485Z"
   },
   {
    "duration": 905,
    "start_time": "2022-09-08T17:32:37.349Z"
   },
   {
    "duration": 6,
    "start_time": "2022-09-08T17:32:38.256Z"
   },
   {
    "duration": 664,
    "start_time": "2022-09-08T17:32:48.738Z"
   },
   {
    "duration": 5,
    "start_time": "2022-09-08T17:32:52.223Z"
   },
   {
    "duration": 3,
    "start_time": "2022-09-08T17:32:53.121Z"
   },
   {
    "duration": 11,
    "start_time": "2022-09-08T17:32:57.958Z"
   },
   {
    "duration": 3,
    "start_time": "2022-09-08T17:33:23.292Z"
   },
   {
    "duration": 5,
    "start_time": "2022-09-08T17:33:31.053Z"
   },
   {
    "duration": 6,
    "start_time": "2022-09-08T17:33:51.158Z"
   },
   {
    "duration": 6,
    "start_time": "2022-09-08T17:33:58.858Z"
   },
   {
    "duration": 1400,
    "start_time": "2022-09-08T17:36:55.486Z"
   },
   {
    "duration": 753,
    "start_time": "2022-09-08T17:36:56.888Z"
   },
   {
    "duration": 5,
    "start_time": "2022-09-08T17:36:57.642Z"
   },
   {
    "duration": 890,
    "start_time": "2022-09-08T17:36:57.650Z"
   },
   {
    "duration": 108,
    "start_time": "2022-09-08T17:36:58.541Z"
   },
   {
    "duration": 144,
    "start_time": "2022-09-08T17:36:58.651Z"
   },
   {
    "duration": 1111,
    "start_time": "2022-09-08T17:36:58.797Z"
   },
   {
    "duration": 907,
    "start_time": "2022-09-08T17:36:59.909Z"
   },
   {
    "duration": 53,
    "start_time": "2022-09-08T17:37:00.817Z"
   },
   {
    "duration": 129,
    "start_time": "2022-09-08T17:37:00.873Z"
   },
   {
    "duration": 147,
    "start_time": "2022-09-08T17:37:01.003Z"
   },
   {
    "duration": 82,
    "start_time": "2022-09-08T17:37:01.152Z"
   },
   {
    "duration": 50,
    "start_time": "2022-09-08T17:37:01.236Z"
   },
   {
    "duration": 20,
    "start_time": "2022-09-08T17:37:01.288Z"
   },
   {
    "duration": 25,
    "start_time": "2022-09-08T17:37:01.310Z"
   },
   {
    "duration": 15,
    "start_time": "2022-09-08T17:37:01.337Z"
   },
   {
    "duration": 30,
    "start_time": "2022-09-08T17:37:01.353Z"
   },
   {
    "duration": 5,
    "start_time": "2022-09-08T17:37:01.385Z"
   },
   {
    "duration": 8,
    "start_time": "2022-09-08T17:37:01.409Z"
   },
   {
    "duration": 19,
    "start_time": "2022-09-08T17:37:01.418Z"
   },
   {
    "duration": 25,
    "start_time": "2022-09-08T17:37:01.438Z"
   },
   {
    "duration": 46,
    "start_time": "2022-09-08T17:37:01.464Z"
   },
   {
    "duration": 1600,
    "start_time": "2022-09-08T17:37:01.512Z"
   },
   {
    "duration": 96,
    "start_time": "2022-09-08T17:37:03.115Z"
   },
   {
    "duration": 96,
    "start_time": "2022-09-08T17:37:03.215Z"
   },
   {
    "duration": 353,
    "start_time": "2022-09-08T17:37:03.312Z"
   },
   {
    "duration": 23,
    "start_time": "2022-09-08T17:37:03.666Z"
   },
   {
    "duration": 100,
    "start_time": "2022-09-08T17:37:03.692Z"
   },
   {
    "duration": 15,
    "start_time": "2022-09-08T17:37:03.794Z"
   },
   {
    "duration": 6,
    "start_time": "2022-09-08T17:37:03.811Z"
   },
   {
    "duration": 162887,
    "start_time": "2022-09-08T17:37:03.819Z"
   },
   {
    "duration": 5765,
    "start_time": "2022-09-08T17:39:46.708Z"
   },
   {
    "duration": 24357,
    "start_time": "2022-09-08T17:39:52.475Z"
   },
   {
    "duration": 153,
    "start_time": "2022-09-08T17:40:16.833Z"
   },
   {
    "duration": 3,
    "start_time": "2022-09-08T17:40:16.988Z"
   },
   {
    "duration": 118436,
    "start_time": "2022-09-08T17:40:16.992Z"
   },
   {
    "duration": 1796,
    "start_time": "2022-09-08T17:42:15.430Z"
   },
   {
    "duration": 7893,
    "start_time": "2022-09-08T17:42:17.228Z"
   },
   {
    "duration": 9,
    "start_time": "2022-09-08T17:42:25.122Z"
   },
   {
    "duration": 80,
    "start_time": "2022-09-08T17:42:25.132Z"
   },
   {
    "duration": 20305,
    "start_time": "2022-09-08T17:42:25.213Z"
   },
   {
    "duration": 690,
    "start_time": "2022-09-08T17:42:45.520Z"
   },
   {
    "duration": 2702,
    "start_time": "2022-09-08T17:42:46.212Z"
   },
   {
    "duration": 99,
    "start_time": "2022-09-08T17:42:48.916Z"
   },
   {
    "duration": 8,
    "start_time": "2022-09-08T17:42:49.018Z"
   },
   {
    "duration": 109249,
    "start_time": "2022-09-08T17:42:49.027Z"
   },
   {
    "duration": 757,
    "start_time": "2022-09-08T17:44:38.277Z"
   },
   {
    "duration": 7,
    "start_time": "2022-09-08T17:44:39.035Z"
   },
   {
    "duration": 7,
    "start_time": "2022-09-08T17:44:39.043Z"
   },
   {
    "duration": 122,
    "start_time": "2022-09-08T17:44:39.052Z"
   },
   {
    "duration": 0,
    "start_time": "2022-09-08T17:44:39.176Z"
   },
   {
    "duration": 0,
    "start_time": "2022-09-08T17:44:39.177Z"
   },
   {
    "duration": 11,
    "start_time": "2022-09-08T17:45:05.009Z"
   },
   {
    "duration": 148,
    "start_time": "2022-09-08T17:45:23.527Z"
   },
   {
    "duration": 149,
    "start_time": "2022-09-08T17:45:33.381Z"
   },
   {
    "duration": 155,
    "start_time": "2022-09-08T17:45:53.810Z"
   },
   {
    "duration": 165,
    "start_time": "2022-09-08T17:46:19.050Z"
   },
   {
    "duration": 162,
    "start_time": "2022-09-08T17:46:33.838Z"
   },
   {
    "duration": 4,
    "start_time": "2022-09-08T17:46:38.709Z"
   },
   {
    "duration": 5,
    "start_time": "2022-09-08T17:46:39.499Z"
   },
   {
    "duration": 1432,
    "start_time": "2022-09-08T17:47:03.248Z"
   },
   {
    "duration": 767,
    "start_time": "2022-09-08T17:47:04.681Z"
   },
   {
    "duration": 4,
    "start_time": "2022-09-08T17:47:05.450Z"
   },
   {
    "duration": 840,
    "start_time": "2022-09-08T17:47:05.456Z"
   },
   {
    "duration": 112,
    "start_time": "2022-09-08T17:47:06.298Z"
   },
   {
    "duration": 132,
    "start_time": "2022-09-08T17:47:06.411Z"
   },
   {
    "duration": 1087,
    "start_time": "2022-09-08T17:47:06.545Z"
   },
   {
    "duration": 870,
    "start_time": "2022-09-08T17:47:07.634Z"
   },
   {
    "duration": 50,
    "start_time": "2022-09-08T17:47:08.508Z"
   },
   {
    "duration": 123,
    "start_time": "2022-09-08T17:47:08.560Z"
   },
   {
    "duration": 145,
    "start_time": "2022-09-08T17:47:08.684Z"
   },
   {
    "duration": 82,
    "start_time": "2022-09-08T17:47:08.831Z"
   },
   {
    "duration": 47,
    "start_time": "2022-09-08T17:47:08.914Z"
   },
   {
    "duration": 4,
    "start_time": "2022-09-08T17:47:08.963Z"
   },
   {
    "duration": 25,
    "start_time": "2022-09-08T17:47:08.968Z"
   },
   {
    "duration": 14,
    "start_time": "2022-09-08T17:47:08.995Z"
   },
   {
    "duration": 472,
    "start_time": "2022-09-08T17:47:09.011Z"
   },
   {
    "duration": 133,
    "start_time": "2022-09-08T17:47:09.485Z"
   },
   {
    "duration": 271,
    "start_time": "2022-09-08T17:47:09.620Z"
   },
   {
    "duration": 5,
    "start_time": "2022-09-08T17:47:09.892Z"
   },
   {
    "duration": 11,
    "start_time": "2022-09-08T17:47:09.898Z"
   },
   {
    "duration": 11600,
    "start_time": "2022-09-08T17:47:09.910Z"
   },
   {
    "duration": 46406,
    "start_time": "2022-09-08T17:47:21.512Z"
   },
   {
    "duration": 102,
    "start_time": "2022-09-08T17:48:08.008Z"
   },
   {
    "duration": 97,
    "start_time": "2022-09-08T17:48:08.112Z"
   },
   {
    "duration": 39431,
    "start_time": "2022-09-08T17:48:08.210Z"
   },
   {
    "duration": 3348,
    "start_time": "2022-09-08T17:48:47.642Z"
   },
   {
    "duration": 13846,
    "start_time": "2022-09-08T17:48:50.994Z"
   },
   {
    "duration": 100,
    "start_time": "2022-09-08T17:49:04.841Z"
   },
   {
    "duration": 4,
    "start_time": "2022-09-08T17:49:04.943Z"
   },
   {
    "duration": 7772394,
    "start_time": "2022-09-08T17:49:04.948Z"
   },
   {
    "duration": 59,
    "start_time": "2022-09-08T19:58:37.344Z"
   },
   {
    "duration": 10,
    "start_time": "2022-09-08T19:58:37.405Z"
   },
   {
    "duration": 0,
    "start_time": "2022-09-08T19:58:37.416Z"
   },
   {
    "duration": 0,
    "start_time": "2022-09-08T19:58:37.417Z"
   },
   {
    "duration": 0,
    "start_time": "2022-09-08T19:58:37.418Z"
   },
   {
    "duration": 0,
    "start_time": "2022-09-08T19:58:37.419Z"
   },
   {
    "duration": 0,
    "start_time": "2022-09-08T19:58:37.420Z"
   },
   {
    "duration": 0,
    "start_time": "2022-09-08T19:58:37.421Z"
   },
   {
    "duration": 0,
    "start_time": "2022-09-08T19:58:37.422Z"
   },
   {
    "duration": 0,
    "start_time": "2022-09-08T19:58:37.423Z"
   },
   {
    "duration": 0,
    "start_time": "2022-09-08T19:58:37.424Z"
   },
   {
    "duration": 0,
    "start_time": "2022-09-08T19:58:37.424Z"
   },
   {
    "duration": 0,
    "start_time": "2022-09-08T19:58:37.425Z"
   },
   {
    "duration": 0,
    "start_time": "2022-09-08T19:58:37.426Z"
   },
   {
    "duration": 0,
    "start_time": "2022-09-08T19:58:37.427Z"
   },
   {
    "duration": 0,
    "start_time": "2022-09-08T19:58:37.428Z"
   },
   {
    "duration": 0,
    "start_time": "2022-09-08T19:58:37.429Z"
   },
   {
    "duration": 0,
    "start_time": "2022-09-08T19:58:37.429Z"
   },
   {
    "duration": 0,
    "start_time": "2022-09-08T19:58:37.430Z"
   },
   {
    "duration": 0,
    "start_time": "2022-09-08T19:58:37.430Z"
   },
   {
    "duration": 0,
    "start_time": "2022-09-08T19:58:37.431Z"
   },
   {
    "duration": 0,
    "start_time": "2022-09-08T19:58:37.432Z"
   },
   {
    "duration": 1391,
    "start_time": "2022-09-08T19:58:40.610Z"
   },
   {
    "duration": 752,
    "start_time": "2022-09-08T19:58:42.003Z"
   },
   {
    "duration": 5,
    "start_time": "2022-09-08T19:58:42.756Z"
   },
   {
    "duration": 872,
    "start_time": "2022-09-08T19:58:42.763Z"
   },
   {
    "duration": 117,
    "start_time": "2022-09-08T19:58:43.636Z"
   },
   {
    "duration": 160,
    "start_time": "2022-09-08T19:58:43.755Z"
   },
   {
    "duration": 1094,
    "start_time": "2022-09-08T19:58:43.917Z"
   },
   {
    "duration": 858,
    "start_time": "2022-09-08T19:58:45.012Z"
   },
   {
    "duration": 53,
    "start_time": "2022-09-08T19:58:45.872Z"
   },
   {
    "duration": 118,
    "start_time": "2022-09-08T19:58:45.928Z"
   },
   {
    "duration": 140,
    "start_time": "2022-09-08T19:58:46.047Z"
   },
   {
    "duration": 82,
    "start_time": "2022-09-08T19:58:46.189Z"
   },
   {
    "duration": 53,
    "start_time": "2022-09-08T19:58:46.273Z"
   },
   {
    "duration": 4,
    "start_time": "2022-09-08T19:58:46.327Z"
   },
   {
    "duration": 18,
    "start_time": "2022-09-08T19:58:46.332Z"
   },
   {
    "duration": 1,
    "start_time": "2022-09-08T19:58:46.352Z"
   },
   {
    "duration": 487,
    "start_time": "2022-09-08T19:58:46.355Z"
   },
   {
    "duration": 128,
    "start_time": "2022-09-08T19:58:46.844Z"
   },
   {
    "duration": 265,
    "start_time": "2022-09-08T19:58:46.974Z"
   },
   {
    "duration": 6,
    "start_time": "2022-09-08T19:58:47.240Z"
   },
   {
    "duration": 11,
    "start_time": "2022-09-08T19:58:47.247Z"
   },
   {
    "duration": 12549,
    "start_time": "2022-09-08T19:58:47.259Z"
   },
   {
    "duration": 47901,
    "start_time": "2022-09-08T19:58:59.810Z"
   },
   {
    "duration": 140,
    "start_time": "2022-09-08T19:59:47.713Z"
   },
   {
    "duration": 57,
    "start_time": "2022-09-08T19:59:47.855Z"
   },
   {
    "duration": 44571,
    "start_time": "2022-09-08T19:59:47.914Z"
   },
   {
    "duration": 3501,
    "start_time": "2022-09-08T20:00:32.487Z"
   },
   {
    "duration": 13969,
    "start_time": "2022-09-08T20:00:35.992Z"
   },
   {
    "duration": 99,
    "start_time": "2022-09-08T20:00:49.962Z"
   },
   {
    "duration": 3,
    "start_time": "2022-09-08T20:00:50.063Z"
   },
   {
    "duration": 1361,
    "start_time": "2022-09-08T20:37:09.629Z"
   },
   {
    "duration": 739,
    "start_time": "2022-09-08T20:37:10.992Z"
   },
   {
    "duration": 5,
    "start_time": "2022-09-08T20:37:11.735Z"
   },
   {
    "duration": 895,
    "start_time": "2022-09-08T20:37:11.743Z"
   },
   {
    "duration": 121,
    "start_time": "2022-09-08T20:37:12.640Z"
   },
   {
    "duration": 149,
    "start_time": "2022-09-08T20:37:12.763Z"
   },
   {
    "duration": 1082,
    "start_time": "2022-09-08T20:37:12.914Z"
   },
   {
    "duration": 872,
    "start_time": "2022-09-08T20:37:13.998Z"
   },
   {
    "duration": 55,
    "start_time": "2022-09-08T20:37:14.872Z"
   },
   {
    "duration": 121,
    "start_time": "2022-09-08T20:37:14.929Z"
   },
   {
    "duration": 143,
    "start_time": "2022-09-08T20:37:15.052Z"
   },
   {
    "duration": 74,
    "start_time": "2022-09-08T20:37:15.196Z"
   },
   {
    "duration": 59,
    "start_time": "2022-09-08T20:37:15.272Z"
   },
   {
    "duration": 8,
    "start_time": "2022-09-08T20:37:15.332Z"
   },
   {
    "duration": 18,
    "start_time": "2022-09-08T20:37:15.341Z"
   },
   {
    "duration": 24,
    "start_time": "2022-09-08T20:37:15.361Z"
   },
   {
    "duration": 234,
    "start_time": "2022-09-08T20:37:15.387Z"
   },
   {
    "duration": 34,
    "start_time": "2022-09-08T20:37:15.622Z"
   },
   {
    "duration": 163,
    "start_time": "2022-09-08T20:37:15.657Z"
   },
   {
    "duration": 13,
    "start_time": "2022-09-08T20:37:15.822Z"
   },
   {
    "duration": 7,
    "start_time": "2022-09-08T20:37:15.836Z"
   },
   {
    "duration": 3473,
    "start_time": "2022-09-08T20:37:15.844Z"
   },
   {
    "duration": 15298,
    "start_time": "2022-09-08T20:37:19.318Z"
   },
   {
    "duration": 200,
    "start_time": "2022-09-08T20:37:34.618Z"
   },
   {
    "duration": 188,
    "start_time": "2022-09-08T20:37:34.820Z"
   },
   {
    "duration": 11067,
    "start_time": "2022-09-08T20:37:35.010Z"
   },
   {
    "duration": 772,
    "start_time": "2022-09-08T20:37:46.079Z"
   },
   {
    "duration": 3061,
    "start_time": "2022-09-08T20:37:46.853Z"
   },
   {
    "duration": 29,
    "start_time": "2022-09-08T20:37:49.916Z"
   },
   {
    "duration": 4,
    "start_time": "2022-09-08T20:37:49.947Z"
   },
   {
    "duration": 561619,
    "start_time": "2022-09-08T20:37:49.953Z"
   },
   {
    "duration": 52777,
    "start_time": "2022-09-08T20:47:11.574Z"
   },
   {
    "duration": 200205,
    "start_time": "2022-09-08T20:48:04.352Z"
   },
   {
    "duration": 465,
    "start_time": "2022-09-08T20:51:24.558Z"
   },
   {
    "duration": 4,
    "start_time": "2022-09-08T20:51:25.024Z"
   },
   {
    "duration": 49,
    "start_time": "2022-09-09T05:37:40.289Z"
   },
   {
    "duration": 1585,
    "start_time": "2022-09-09T05:37:46.849Z"
   },
   {
    "duration": 1123,
    "start_time": "2022-09-09T05:37:48.435Z"
   },
   {
    "duration": 4,
    "start_time": "2022-09-09T05:37:49.560Z"
   },
   {
    "duration": 980,
    "start_time": "2022-09-09T05:37:49.566Z"
   },
   {
    "duration": 126,
    "start_time": "2022-09-09T05:37:50.548Z"
   },
   {
    "duration": 150,
    "start_time": "2022-09-09T05:37:50.675Z"
   },
   {
    "duration": 1168,
    "start_time": "2022-09-09T05:37:50.827Z"
   },
   {
    "duration": 902,
    "start_time": "2022-09-09T05:37:51.997Z"
   },
   {
    "duration": 64,
    "start_time": "2022-09-09T05:37:52.902Z"
   },
   {
    "duration": 136,
    "start_time": "2022-09-09T05:37:52.969Z"
   },
   {
    "duration": 157,
    "start_time": "2022-09-09T05:37:53.106Z"
   },
   {
    "duration": 88,
    "start_time": "2022-09-09T05:37:53.264Z"
   },
   {
    "duration": 56,
    "start_time": "2022-09-09T05:37:53.354Z"
   },
   {
    "duration": 264,
    "start_time": "2022-09-09T05:37:53.421Z"
   },
   {
    "duration": 148,
    "start_time": "2022-09-09T05:38:32.240Z"
   },
   {
    "duration": 28,
    "start_time": "2022-09-09T05:38:48.712Z"
   },
   {
    "duration": 733,
    "start_time": "2022-09-09T05:41:39.729Z"
   },
   {
    "duration": 23,
    "start_time": "2022-09-09T05:41:42.937Z"
   },
   {
    "duration": 23,
    "start_time": "2022-09-09T05:42:26.740Z"
   },
   {
    "duration": 14,
    "start_time": "2022-09-09T05:42:37.040Z"
   },
   {
    "duration": 4,
    "start_time": "2022-09-09T05:42:54.533Z"
   },
   {
    "duration": 767,
    "start_time": "2022-09-09T05:42:54.539Z"
   },
   {
    "duration": 4,
    "start_time": "2022-09-09T05:42:55.308Z"
   },
   {
    "duration": 827,
    "start_time": "2022-09-09T05:42:55.321Z"
   },
   {
    "duration": 118,
    "start_time": "2022-09-09T05:42:56.150Z"
   },
   {
    "duration": 124,
    "start_time": "2022-09-09T05:42:56.269Z"
   },
   {
    "duration": 1251,
    "start_time": "2022-09-09T05:42:56.394Z"
   },
   {
    "duration": 880,
    "start_time": "2022-09-09T05:42:57.646Z"
   },
   {
    "duration": 57,
    "start_time": "2022-09-09T05:42:58.528Z"
   },
   {
    "duration": 143,
    "start_time": "2022-09-09T05:42:58.587Z"
   },
   {
    "duration": 139,
    "start_time": "2022-09-09T05:42:58.732Z"
   },
   {
    "duration": 103,
    "start_time": "2022-09-09T05:42:58.873Z"
   },
   {
    "duration": 58,
    "start_time": "2022-09-09T05:45:00.880Z"
   },
   {
    "duration": 154,
    "start_time": "2022-09-09T05:45:30.815Z"
   },
   {
    "duration": 28,
    "start_time": "2022-09-09T05:45:35.550Z"
   },
   {
    "duration": 29,
    "start_time": "2022-09-09T05:45:41.099Z"
   },
   {
    "duration": 157,
    "start_time": "2022-09-09T05:45:50.693Z"
   },
   {
    "duration": 11,
    "start_time": "2022-09-09T05:45:52.100Z"
   },
   {
    "duration": 6,
    "start_time": "2022-09-09T05:46:02.099Z"
   },
   {
    "duration": 9,
    "start_time": "2022-09-09T05:46:11.640Z"
   },
   {
    "duration": 5,
    "start_time": "2022-09-09T05:46:13.847Z"
   },
   {
    "duration": 11,
    "start_time": "2022-09-09T05:48:21.200Z"
   },
   {
    "duration": 5,
    "start_time": "2022-09-09T05:48:27.453Z"
   },
   {
    "duration": 691,
    "start_time": "2022-09-09T05:48:27.460Z"
   },
   {
    "duration": 5,
    "start_time": "2022-09-09T05:48:28.152Z"
   },
   {
    "duration": 930,
    "start_time": "2022-09-09T05:48:28.158Z"
   },
   {
    "duration": 125,
    "start_time": "2022-09-09T05:48:29.090Z"
   },
   {
    "duration": 116,
    "start_time": "2022-09-09T05:48:29.222Z"
   },
   {
    "duration": 1063,
    "start_time": "2022-09-09T05:48:29.340Z"
   },
   {
    "duration": 991,
    "start_time": "2022-09-09T05:48:30.405Z"
   },
   {
    "duration": 66,
    "start_time": "2022-09-09T05:48:31.398Z"
   },
   {
    "duration": 127,
    "start_time": "2022-09-09T05:48:31.466Z"
   },
   {
    "duration": 131,
    "start_time": "2022-09-09T05:48:31.594Z"
   },
   {
    "duration": 76,
    "start_time": "2022-09-09T05:48:31.726Z"
   },
   {
    "duration": 56,
    "start_time": "2022-09-09T05:48:36.330Z"
   },
   {
    "duration": 9,
    "start_time": "2022-09-09T05:48:37.753Z"
   },
   {
    "duration": 149,
    "start_time": "2022-09-09T05:48:46.573Z"
   },
   {
    "duration": 161,
    "start_time": "2022-09-09T05:48:56.571Z"
   },
   {
    "duration": 162,
    "start_time": "2022-09-09T05:49:15.628Z"
   },
   {
    "duration": 16,
    "start_time": "2022-09-09T05:49:19.146Z"
   },
   {
    "duration": 28,
    "start_time": "2022-09-09T05:49:31.739Z"
   },
   {
    "duration": 40,
    "start_time": "2022-09-09T05:49:51.462Z"
   },
   {
    "duration": 4,
    "start_time": "2022-09-09T05:50:18.392Z"
   },
   {
    "duration": 742,
    "start_time": "2022-09-09T05:50:18.398Z"
   },
   {
    "duration": 5,
    "start_time": "2022-09-09T05:50:19.143Z"
   },
   {
    "duration": 842,
    "start_time": "2022-09-09T05:50:19.150Z"
   },
   {
    "duration": 132,
    "start_time": "2022-09-09T05:50:19.993Z"
   },
   {
    "duration": 121,
    "start_time": "2022-09-09T05:50:20.126Z"
   },
   {
    "duration": 1136,
    "start_time": "2022-09-09T05:50:20.249Z"
   },
   {
    "duration": 1035,
    "start_time": "2022-09-09T05:50:21.387Z"
   },
   {
    "duration": 61,
    "start_time": "2022-09-09T05:50:22.424Z"
   },
   {
    "duration": 141,
    "start_time": "2022-09-09T05:50:22.487Z"
   },
   {
    "duration": 128,
    "start_time": "2022-09-09T05:50:22.629Z"
   },
   {
    "duration": 80,
    "start_time": "2022-09-09T05:50:22.759Z"
   },
   {
    "duration": 56,
    "start_time": "2022-09-09T05:50:22.840Z"
   },
   {
    "duration": 62,
    "start_time": "2022-09-09T05:50:27.448Z"
   },
   {
    "duration": 75,
    "start_time": "2022-09-09T05:50:30.757Z"
   },
   {
    "duration": 715,
    "start_time": "2022-09-09T05:50:45.141Z"
   },
   {
    "duration": 25,
    "start_time": "2022-09-09T05:50:46.976Z"
   },
   {
    "duration": 5,
    "start_time": "2022-09-09T05:51:43.486Z"
   },
   {
    "duration": 685,
    "start_time": "2022-09-09T05:51:43.493Z"
   },
   {
    "duration": 5,
    "start_time": "2022-09-09T05:51:44.180Z"
   },
   {
    "duration": 845,
    "start_time": "2022-09-09T05:51:44.187Z"
   },
   {
    "duration": 128,
    "start_time": "2022-09-09T05:51:45.034Z"
   },
   {
    "duration": 153,
    "start_time": "2022-09-09T05:51:45.164Z"
   },
   {
    "duration": 1168,
    "start_time": "2022-09-09T05:51:45.319Z"
   },
   {
    "duration": 1021,
    "start_time": "2022-09-09T05:51:46.489Z"
   },
   {
    "duration": 69,
    "start_time": "2022-09-09T05:51:47.512Z"
   },
   {
    "duration": 138,
    "start_time": "2022-09-09T05:51:47.584Z"
   },
   {
    "duration": 130,
    "start_time": "2022-09-09T05:51:47.723Z"
   },
   {
    "duration": 85,
    "start_time": "2022-09-09T05:51:47.855Z"
   },
   {
    "duration": 115,
    "start_time": "2022-09-09T05:52:49.867Z"
   },
   {
    "duration": 78,
    "start_time": "2022-09-09T05:53:05.460Z"
   },
   {
    "duration": 100,
    "start_time": "2022-09-09T05:53:11.327Z"
   },
   {
    "duration": 76,
    "start_time": "2022-09-09T05:53:29.445Z"
   },
   {
    "duration": 74,
    "start_time": "2022-09-09T05:53:41.897Z"
   },
   {
    "duration": 30,
    "start_time": "2022-09-09T05:53:48.494Z"
   },
   {
    "duration": 30,
    "start_time": "2022-09-09T05:54:03.475Z"
   },
   {
    "duration": 82,
    "start_time": "2022-09-09T05:54:09.939Z"
   },
   {
    "duration": 504,
    "start_time": "2022-09-09T05:57:07.220Z"
   },
   {
    "duration": 1004,
    "start_time": "2022-09-09T05:57:46.734Z"
   },
   {
    "duration": 51,
    "start_time": "2022-09-09T06:00:16.836Z"
   },
   {
    "duration": 111,
    "start_time": "2022-09-09T06:00:50.142Z"
   },
   {
    "duration": 6,
    "start_time": "2022-09-09T06:00:58.766Z"
   },
   {
    "duration": 778,
    "start_time": "2022-09-09T06:00:58.774Z"
   },
   {
    "duration": 4,
    "start_time": "2022-09-09T06:00:59.554Z"
   },
   {
    "duration": 813,
    "start_time": "2022-09-09T06:00:59.560Z"
   },
   {
    "duration": 120,
    "start_time": "2022-09-09T06:01:00.374Z"
   },
   {
    "duration": 143,
    "start_time": "2022-09-09T06:01:00.496Z"
   },
   {
    "duration": 1276,
    "start_time": "2022-09-09T06:01:00.641Z"
   },
   {
    "duration": 1022,
    "start_time": "2022-09-09T06:01:01.919Z"
   },
   {
    "duration": 59,
    "start_time": "2022-09-09T06:01:02.943Z"
   },
   {
    "duration": 147,
    "start_time": "2022-09-09T06:01:03.004Z"
   },
   {
    "duration": 140,
    "start_time": "2022-09-09T06:01:03.153Z"
   },
   {
    "duration": 85,
    "start_time": "2022-09-09T06:01:03.295Z"
   },
   {
    "duration": 63,
    "start_time": "2022-09-09T06:01:03.381Z"
   },
   {
    "duration": 29,
    "start_time": "2022-09-09T06:01:03.446Z"
   },
   {
    "duration": 134,
    "start_time": "2022-09-09T06:01:12.698Z"
   },
   {
    "duration": 112,
    "start_time": "2022-09-09T06:01:24.841Z"
   },
   {
    "duration": 50,
    "start_time": "2022-09-09T06:01:32.576Z"
   },
   {
    "duration": 96,
    "start_time": "2022-09-09T06:01:52.739Z"
   },
   {
    "duration": 147,
    "start_time": "2022-09-09T06:02:56.787Z"
   },
   {
    "duration": 29,
    "start_time": "2022-09-09T06:03:02.438Z"
   },
   {
    "duration": 33,
    "start_time": "2022-09-09T06:03:05.913Z"
   },
   {
    "duration": 171,
    "start_time": "2022-09-09T06:03:20.499Z"
   },
   {
    "duration": 29,
    "start_time": "2022-09-09T06:03:21.242Z"
   },
   {
    "duration": 153,
    "start_time": "2022-09-09T06:03:32.960Z"
   },
   {
    "duration": 29,
    "start_time": "2022-09-09T06:03:35.893Z"
   },
   {
    "duration": 152,
    "start_time": "2022-09-09T06:03:55.967Z"
   },
   {
    "duration": 24,
    "start_time": "2022-09-09T06:03:56.672Z"
   },
   {
    "duration": 24,
    "start_time": "2022-09-09T06:05:57.236Z"
   },
   {
    "duration": 4,
    "start_time": "2022-09-09T06:06:06.177Z"
   },
   {
    "duration": 725,
    "start_time": "2022-09-09T06:06:06.183Z"
   },
   {
    "duration": 5,
    "start_time": "2022-09-09T06:06:06.909Z"
   },
   {
    "duration": 893,
    "start_time": "2022-09-09T06:06:06.922Z"
   },
   {
    "duration": 137,
    "start_time": "2022-09-09T06:06:07.817Z"
   },
   {
    "duration": 129,
    "start_time": "2022-09-09T06:06:07.956Z"
   },
   {
    "duration": 1255,
    "start_time": "2022-09-09T06:06:08.087Z"
   },
   {
    "duration": 1124,
    "start_time": "2022-09-09T06:06:09.345Z"
   },
   {
    "duration": 74,
    "start_time": "2022-09-09T06:06:10.471Z"
   },
   {
    "duration": 137,
    "start_time": "2022-09-09T06:06:10.547Z"
   },
   {
    "duration": 152,
    "start_time": "2022-09-09T06:06:10.686Z"
   },
   {
    "duration": 88,
    "start_time": "2022-09-09T06:06:10.840Z"
   },
   {
    "duration": 61,
    "start_time": "2022-09-09T06:06:10.930Z"
   },
   {
    "duration": 30,
    "start_time": "2022-09-09T06:06:13.193Z"
   },
   {
    "duration": 613,
    "start_time": "2022-09-09T06:06:23.682Z"
   },
   {
    "duration": 74,
    "start_time": "2022-09-09T06:06:37.193Z"
   },
   {
    "duration": 29,
    "start_time": "2022-09-09T06:06:49.886Z"
   },
   {
    "duration": 29,
    "start_time": "2022-09-09T06:09:03.548Z"
   },
   {
    "duration": 75,
    "start_time": "2022-09-09T06:09:30.154Z"
   },
   {
    "duration": 74,
    "start_time": "2022-09-09T06:09:46.660Z"
   },
   {
    "duration": 74,
    "start_time": "2022-09-09T06:10:27.961Z"
   },
   {
    "duration": 77,
    "start_time": "2022-09-09T06:10:37.038Z"
   },
   {
    "duration": 160,
    "start_time": "2022-09-09T06:10:53.673Z"
   },
   {
    "duration": 50,
    "start_time": "2022-09-09T06:11:17.683Z"
   },
   {
    "duration": 30,
    "start_time": "2022-09-09T06:11:26.945Z"
   },
   {
    "duration": 4,
    "start_time": "2022-09-09T06:11:56.194Z"
   },
   {
    "duration": 727,
    "start_time": "2022-09-09T06:11:56.200Z"
   },
   {
    "duration": 5,
    "start_time": "2022-09-09T06:11:56.928Z"
   },
   {
    "duration": 880,
    "start_time": "2022-09-09T06:11:56.935Z"
   },
   {
    "duration": 136,
    "start_time": "2022-09-09T06:11:57.817Z"
   },
   {
    "duration": 130,
    "start_time": "2022-09-09T06:11:57.955Z"
   },
   {
    "duration": 1179,
    "start_time": "2022-09-09T06:11:58.086Z"
   },
   {
    "duration": 1061,
    "start_time": "2022-09-09T06:11:59.267Z"
   },
   {
    "duration": 61,
    "start_time": "2022-09-09T06:12:00.330Z"
   },
   {
    "duration": 158,
    "start_time": "2022-09-09T06:12:00.392Z"
   },
   {
    "duration": 132,
    "start_time": "2022-09-09T06:12:00.552Z"
   },
   {
    "duration": 84,
    "start_time": "2022-09-09T06:12:00.686Z"
   },
   {
    "duration": 60,
    "start_time": "2022-09-09T06:12:00.772Z"
   },
   {
    "duration": 61,
    "start_time": "2022-09-09T06:12:00.834Z"
   },
   {
    "duration": 40,
    "start_time": "2022-09-09T06:12:00.896Z"
   },
   {
    "duration": 95,
    "start_time": "2022-09-09T06:12:49.805Z"
   },
   {
    "duration": 155,
    "start_time": "2022-09-09T06:13:10.174Z"
   },
   {
    "duration": 1466,
    "start_time": "2022-09-09T06:14:23.892Z"
   },
   {
    "duration": 809,
    "start_time": "2022-09-09T06:14:25.359Z"
   },
   {
    "duration": 5,
    "start_time": "2022-09-09T06:14:26.169Z"
   },
   {
    "duration": 1015,
    "start_time": "2022-09-09T06:14:26.176Z"
   },
   {
    "duration": 123,
    "start_time": "2022-09-09T06:14:27.193Z"
   },
   {
    "duration": 149,
    "start_time": "2022-09-09T06:14:27.321Z"
   },
   {
    "duration": 1215,
    "start_time": "2022-09-09T06:14:27.471Z"
   },
   {
    "duration": 1013,
    "start_time": "2022-09-09T06:14:28.688Z"
   },
   {
    "duration": 58,
    "start_time": "2022-09-09T06:14:29.702Z"
   },
   {
    "duration": 139,
    "start_time": "2022-09-09T06:14:29.764Z"
   },
   {
    "duration": 255,
    "start_time": "2022-09-09T06:14:29.905Z"
   },
   {
    "duration": 175,
    "start_time": "2022-09-09T06:14:30.162Z"
   },
   {
    "duration": 107,
    "start_time": "2022-09-09T06:14:30.339Z"
   },
   {
    "duration": 318,
    "start_time": "2022-09-09T06:14:30.448Z"
   },
   {
    "duration": 4,
    "start_time": "2022-09-09T06:14:30.767Z"
   },
   {
    "duration": 36,
    "start_time": "2022-09-09T06:14:30.823Z"
   },
   {
    "duration": 107,
    "start_time": "2022-09-09T06:14:30.861Z"
   },
   {
    "duration": 117,
    "start_time": "2022-09-09T06:14:31.023Z"
   },
   {
    "duration": 29,
    "start_time": "2022-09-09T06:14:31.142Z"
   },
   {
    "duration": 67,
    "start_time": "2022-09-09T06:14:31.173Z"
   },
   {
    "duration": 7,
    "start_time": "2022-09-09T06:14:31.242Z"
   },
   {
    "duration": 6,
    "start_time": "2022-09-09T06:14:31.251Z"
   },
   {
    "duration": 268,
    "start_time": "2022-09-09T06:14:31.259Z"
   },
   {
    "duration": 1698,
    "start_time": "2022-09-09T06:14:31.529Z"
   },
   {
    "duration": 9,
    "start_time": "2022-09-09T06:14:33.322Z"
   },
   {
    "duration": 90,
    "start_time": "2022-09-09T06:14:33.335Z"
   },
   {
    "duration": 2616,
    "start_time": "2022-09-09T06:14:33.428Z"
   },
   {
    "duration": 176,
    "start_time": "2022-09-09T06:14:36.047Z"
   },
   {
    "duration": 679,
    "start_time": "2022-09-09T06:14:36.225Z"
   },
   {
    "duration": 17,
    "start_time": "2022-09-09T06:14:36.905Z"
   },
   {
    "duration": 5,
    "start_time": "2022-09-09T06:14:36.923Z"
   },
   {
    "duration": 11325,
    "start_time": "2022-09-09T06:14:36.929Z"
   },
   {
    "duration": 115,
    "start_time": "2022-09-09T06:14:48.256Z"
   },
   {
    "duration": 12,
    "start_time": "2022-09-09T06:14:48.373Z"
   },
   {
    "duration": 0,
    "start_time": "2022-09-09T06:14:48.386Z"
   },
   {
    "duration": 0,
    "start_time": "2022-09-09T06:14:48.388Z"
   },
   {
    "duration": 0,
    "start_time": "2022-09-09T06:14:48.388Z"
   },
   {
    "duration": 0,
    "start_time": "2022-09-09T06:14:48.389Z"
   },
   {
    "duration": 0,
    "start_time": "2022-09-09T06:14:48.390Z"
   },
   {
    "duration": 0,
    "start_time": "2022-09-09T06:14:48.392Z"
   },
   {
    "duration": 0,
    "start_time": "2022-09-09T06:14:48.393Z"
   },
   {
    "duration": 0,
    "start_time": "2022-09-09T06:14:48.393Z"
   },
   {
    "duration": 0,
    "start_time": "2022-09-09T06:14:48.394Z"
   },
   {
    "duration": 0,
    "start_time": "2022-09-09T06:14:48.395Z"
   },
   {
    "duration": 0,
    "start_time": "2022-09-09T06:14:48.396Z"
   },
   {
    "duration": 0,
    "start_time": "2022-09-09T06:14:48.397Z"
   },
   {
    "duration": 0,
    "start_time": "2022-09-09T06:14:48.398Z"
   },
   {
    "duration": 0,
    "start_time": "2022-09-09T06:14:48.398Z"
   },
   {
    "duration": 0,
    "start_time": "2022-09-09T06:14:48.399Z"
   },
   {
    "duration": 0,
    "start_time": "2022-09-09T06:14:48.400Z"
   },
   {
    "duration": 0,
    "start_time": "2022-09-09T06:14:48.401Z"
   },
   {
    "duration": 0,
    "start_time": "2022-09-09T06:14:48.402Z"
   },
   {
    "duration": 0,
    "start_time": "2022-09-09T06:14:48.403Z"
   },
   {
    "duration": 0,
    "start_time": "2022-09-09T06:14:48.404Z"
   },
   {
    "duration": 5,
    "start_time": "2022-09-09T06:14:55.944Z"
   },
   {
    "duration": 779,
    "start_time": "2022-09-09T06:14:56.226Z"
   },
   {
    "duration": 5,
    "start_time": "2022-09-09T06:14:57.006Z"
   },
   {
    "duration": 907,
    "start_time": "2022-09-09T06:14:57.022Z"
   },
   {
    "duration": 120,
    "start_time": "2022-09-09T06:14:57.931Z"
   },
   {
    "duration": 129,
    "start_time": "2022-09-09T06:14:58.052Z"
   },
   {
    "duration": 1307,
    "start_time": "2022-09-09T06:14:58.183Z"
   },
   {
    "duration": 1050,
    "start_time": "2022-09-09T06:14:59.492Z"
   },
   {
    "duration": 61,
    "start_time": "2022-09-09T06:15:00.543Z"
   },
   {
    "duration": 142,
    "start_time": "2022-09-09T06:15:00.622Z"
   },
   {
    "duration": 135,
    "start_time": "2022-09-09T06:15:00.765Z"
   },
   {
    "duration": 84,
    "start_time": "2022-09-09T06:15:00.901Z"
   },
   {
    "duration": 65,
    "start_time": "2022-09-09T06:15:00.987Z"
   },
   {
    "duration": 172,
    "start_time": "2022-09-09T06:15:01.054Z"
   },
   {
    "duration": 6,
    "start_time": "2022-09-09T06:15:01.670Z"
   },
   {
    "duration": 1364,
    "start_time": "2022-09-09T06:15:21.451Z"
   },
   {
    "duration": 817,
    "start_time": "2022-09-09T06:15:22.816Z"
   },
   {
    "duration": 6,
    "start_time": "2022-09-09T06:15:23.634Z"
   },
   {
    "duration": 1040,
    "start_time": "2022-09-09T06:15:23.642Z"
   },
   {
    "duration": 123,
    "start_time": "2022-09-09T06:15:24.683Z"
   },
   {
    "duration": 148,
    "start_time": "2022-09-09T06:15:24.808Z"
   },
   {
    "duration": 1967,
    "start_time": "2022-09-09T06:15:24.958Z"
   },
   {
    "duration": 1017,
    "start_time": "2022-09-09T06:15:26.926Z"
   },
   {
    "duration": 65,
    "start_time": "2022-09-09T06:15:27.944Z"
   },
   {
    "duration": 131,
    "start_time": "2022-09-09T06:15:28.022Z"
   },
   {
    "duration": 159,
    "start_time": "2022-09-09T06:15:28.155Z"
   },
   {
    "duration": 78,
    "start_time": "2022-09-09T06:15:28.316Z"
   },
   {
    "duration": 62,
    "start_time": "2022-09-09T06:15:28.396Z"
   },
   {
    "duration": 162,
    "start_time": "2022-09-09T06:15:28.460Z"
   },
   {
    "duration": 5,
    "start_time": "2022-09-09T06:15:28.623Z"
   },
   {
    "duration": 31,
    "start_time": "2022-09-09T06:15:28.630Z"
   },
   {
    "duration": 33,
    "start_time": "2022-09-09T06:15:28.663Z"
   },
   {
    "duration": 71,
    "start_time": "2022-09-09T06:15:28.698Z"
   },
   {
    "duration": 9,
    "start_time": "2022-09-09T06:15:28.770Z"
   },
   {
    "duration": 24,
    "start_time": "2022-09-09T06:15:28.780Z"
   },
   {
    "duration": 20,
    "start_time": "2022-09-09T06:15:28.805Z"
   },
   {
    "duration": 8,
    "start_time": "2022-09-09T06:15:28.827Z"
   },
   {
    "duration": 296,
    "start_time": "2022-09-09T06:15:28.836Z"
   },
   {
    "duration": 2392,
    "start_time": "2022-09-09T06:15:29.134Z"
   },
   {
    "duration": 99,
    "start_time": "2022-09-09T06:15:31.528Z"
   },
   {
    "duration": 104,
    "start_time": "2022-09-09T06:15:31.631Z"
   },
   {
    "duration": 3330,
    "start_time": "2022-09-09T06:15:31.736Z"
   },
   {
    "duration": 224,
    "start_time": "2022-09-09T06:15:35.070Z"
   },
   {
    "duration": 856,
    "start_time": "2022-09-09T06:15:35.295Z"
   },
   {
    "duration": 10,
    "start_time": "2022-09-09T06:15:36.153Z"
   },
   {
    "duration": 4,
    "start_time": "2022-09-09T06:15:36.165Z"
   },
   {
    "duration": 202308,
    "start_time": "2022-09-09T06:15:36.170Z"
   },
   {
    "duration": 14886,
    "start_time": "2022-09-09T06:18:58.479Z"
   },
   {
    "duration": 54228,
    "start_time": "2022-09-09T06:19:13.367Z"
   },
   {
    "duration": 335,
    "start_time": "2022-09-09T06:20:07.596Z"
   },
   {
    "duration": 5,
    "start_time": "2022-09-09T06:20:07.933Z"
   },
   {
    "duration": 1552,
    "start_time": "2022-09-09T06:27:51.548Z"
   },
   {
    "duration": 903,
    "start_time": "2022-09-09T06:27:53.102Z"
   },
   {
    "duration": 5,
    "start_time": "2022-09-09T06:27:54.006Z"
   },
   {
    "duration": 1119,
    "start_time": "2022-09-09T06:27:54.023Z"
   },
   {
    "duration": 121,
    "start_time": "2022-09-09T06:27:55.144Z"
   },
   {
    "duration": 147,
    "start_time": "2022-09-09T06:27:55.267Z"
   },
   {
    "duration": 1333,
    "start_time": "2022-09-09T06:27:55.416Z"
   },
   {
    "duration": 1036,
    "start_time": "2022-09-09T06:27:56.751Z"
   },
   {
    "duration": 64,
    "start_time": "2022-09-09T06:27:57.788Z"
   },
   {
    "duration": 139,
    "start_time": "2022-09-09T06:27:57.854Z"
   },
   {
    "duration": 151,
    "start_time": "2022-09-09T06:27:57.994Z"
   },
   {
    "duration": 84,
    "start_time": "2022-09-09T06:27:58.147Z"
   },
   {
    "duration": 61,
    "start_time": "2022-09-09T06:27:58.233Z"
   },
   {
    "duration": 162,
    "start_time": "2022-09-09T06:27:58.296Z"
   },
   {
    "duration": 4,
    "start_time": "2022-09-09T06:27:58.460Z"
   },
   {
    "duration": 25,
    "start_time": "2022-09-09T06:27:58.466Z"
   },
   {
    "duration": 44,
    "start_time": "2022-09-09T06:27:58.493Z"
   },
   {
    "duration": 52,
    "start_time": "2022-09-09T06:27:58.538Z"
   },
   {
    "duration": 6,
    "start_time": "2022-09-09T06:27:58.591Z"
   },
   {
    "duration": 38,
    "start_time": "2022-09-09T06:27:58.599Z"
   },
   {
    "duration": 7,
    "start_time": "2022-09-09T06:27:58.638Z"
   },
   {
    "duration": 3,
    "start_time": "2022-09-09T06:27:58.647Z"
   },
   {
    "duration": 384,
    "start_time": "2022-09-09T06:27:58.652Z"
   },
   {
    "duration": 3485,
    "start_time": "2022-09-09T06:27:59.038Z"
   },
   {
    "duration": 13,
    "start_time": "2022-09-09T06:28:02.526Z"
   },
   {
    "duration": 114,
    "start_time": "2022-09-09T06:28:02.622Z"
   },
   {
    "duration": 651,
    "start_time": "2022-09-09T06:28:02.738Z"
   },
   {
    "duration": 133,
    "start_time": "2022-09-09T06:28:03.394Z"
   },
   {
    "duration": 558,
    "start_time": "2022-09-09T06:28:03.529Z"
   },
   {
    "duration": 10,
    "start_time": "2022-09-09T06:28:04.089Z"
   },
   {
    "duration": 10,
    "start_time": "2022-09-09T06:28:04.101Z"
   },
   {
    "duration": 38372,
    "start_time": "2022-09-09T06:28:04.128Z"
   },
   {
    "duration": 9356,
    "start_time": "2022-09-09T06:28:42.502Z"
   },
   {
    "duration": 35902,
    "start_time": "2022-09-09T06:28:51.860Z"
   },
   {
    "duration": 244,
    "start_time": "2022-09-09T06:29:27.764Z"
   },
   {
    "duration": 5,
    "start_time": "2022-09-09T06:29:28.010Z"
   },
   {
    "duration": 189552,
    "start_time": "2022-09-09T06:29:28.022Z"
   },
   {
    "duration": 42290,
    "start_time": "2022-09-09T06:32:37.576Z"
   },
   {
    "duration": 124495,
    "start_time": "2022-09-09T06:33:19.868Z"
   },
   {
    "duration": 74,
    "start_time": "2022-09-09T06:35:24.365Z"
   },
   {
    "duration": 82,
    "start_time": "2022-09-09T06:35:24.441Z"
   },
   {
    "duration": 16006,
    "start_time": "2022-09-09T06:35:24.525Z"
   },
   {
    "duration": 4995,
    "start_time": "2022-09-09T06:35:40.533Z"
   },
   {
    "duration": 12893,
    "start_time": "2022-09-09T06:35:45.530Z"
   },
   {
    "duration": 108,
    "start_time": "2022-09-09T06:35:58.425Z"
   },
   {
    "duration": 6,
    "start_time": "2022-09-09T06:35:58.535Z"
   },
   {
    "duration": 31886,
    "start_time": "2022-09-09T06:35:58.542Z"
   },
   {
    "duration": 8087,
    "start_time": "2022-09-09T06:36:30.430Z"
   },
   {
    "duration": 35,
    "start_time": "2022-09-09T06:36:38.519Z"
   },
   {
    "duration": 4,
    "start_time": "2022-09-09T06:36:38.555Z"
   },
   {
    "duration": 240,
    "start_time": "2022-09-09T06:36:38.561Z"
   },
   {
    "duration": 257,
    "start_time": "2022-09-09T06:36:38.802Z"
   },
   {
    "duration": 5,
    "start_time": "2022-09-09T06:36:39.060Z"
   },
   {
    "duration": 15,
    "start_time": "2022-09-09T06:36:39.067Z"
   },
   {
    "duration": 4,
    "start_time": "2022-09-09T07:18:02.029Z"
   },
   {
    "duration": 1457,
    "start_time": "2022-09-09T07:30:36.150Z"
   },
   {
    "duration": 847,
    "start_time": "2022-09-09T07:30:37.609Z"
   },
   {
    "duration": 5,
    "start_time": "2022-09-09T07:30:38.457Z"
   },
   {
    "duration": 1178,
    "start_time": "2022-09-09T07:30:38.464Z"
   },
   {
    "duration": 125,
    "start_time": "2022-09-09T07:30:39.643Z"
   },
   {
    "duration": 154,
    "start_time": "2022-09-09T07:30:39.770Z"
   },
   {
    "duration": 1214,
    "start_time": "2022-09-09T07:30:39.926Z"
   },
   {
    "duration": 926,
    "start_time": "2022-09-09T07:30:41.142Z"
   },
   {
    "duration": 64,
    "start_time": "2022-09-09T07:30:42.070Z"
   },
   {
    "duration": 143,
    "start_time": "2022-09-09T07:30:42.138Z"
   },
   {
    "duration": 152,
    "start_time": "2022-09-09T07:30:42.283Z"
   },
   {
    "duration": 91,
    "start_time": "2022-09-09T07:30:42.437Z"
   },
   {
    "duration": 57,
    "start_time": "2022-09-09T07:30:42.529Z"
   },
   {
    "duration": 167,
    "start_time": "2022-09-09T07:30:42.588Z"
   },
   {
    "duration": 5,
    "start_time": "2022-09-09T07:30:42.757Z"
   },
   {
    "duration": 27,
    "start_time": "2022-09-09T07:30:42.764Z"
   },
   {
    "duration": 34,
    "start_time": "2022-09-09T07:30:42.793Z"
   },
   {
    "duration": 42,
    "start_time": "2022-09-09T07:30:42.830Z"
   },
   {
    "duration": 7,
    "start_time": "2022-09-09T07:30:42.874Z"
   },
   {
    "duration": 40,
    "start_time": "2022-09-09T07:30:42.882Z"
   },
   {
    "duration": 6,
    "start_time": "2022-09-09T07:30:42.924Z"
   },
   {
    "duration": 14,
    "start_time": "2022-09-09T07:30:42.931Z"
   },
   {
    "duration": 375,
    "start_time": "2022-09-09T07:30:42.947Z"
   },
   {
    "duration": 1701,
    "start_time": "2022-09-09T07:30:43.324Z"
   },
   {
    "duration": 7,
    "start_time": "2022-09-09T07:30:45.029Z"
   },
   {
    "duration": 100,
    "start_time": "2022-09-09T07:30:45.037Z"
   },
   {
    "duration": 289,
    "start_time": "2022-09-09T07:30:45.223Z"
   },
   {
    "duration": 78,
    "start_time": "2022-09-09T07:30:45.523Z"
   },
   {
    "duration": 357,
    "start_time": "2022-09-09T07:30:45.602Z"
   },
   {
    "duration": 7,
    "start_time": "2022-09-09T07:30:45.961Z"
   },
   {
    "duration": 6,
    "start_time": "2022-09-09T07:30:45.970Z"
   },
   {
    "duration": 21172,
    "start_time": "2022-09-09T07:30:45.978Z"
   },
   {
    "duration": 6160,
    "start_time": "2022-09-09T07:31:07.152Z"
   },
   {
    "duration": 25205,
    "start_time": "2022-09-09T07:31:13.314Z"
   },
   {
    "duration": 199,
    "start_time": "2022-09-09T07:31:38.522Z"
   },
   {
    "duration": 4,
    "start_time": "2022-09-09T07:31:38.723Z"
   },
   {
    "duration": 66249,
    "start_time": "2022-09-09T07:31:38.729Z"
   },
   {
    "duration": 14907,
    "start_time": "2022-09-09T07:32:44.980Z"
   },
   {
    "duration": 162650,
    "start_time": "2022-09-09T07:32:59.889Z"
   },
   {
    "duration": 88,
    "start_time": "2022-09-09T07:35:42.540Z"
   },
   {
    "duration": 4,
    "start_time": "2022-09-09T07:35:42.630Z"
   },
   {
    "duration": 27690,
    "start_time": "2022-09-09T07:35:42.636Z"
   },
   {
    "duration": 3507,
    "start_time": "2022-09-09T07:36:10.327Z"
   },
   {
    "duration": 79789,
    "start_time": "2022-09-09T07:36:13.835Z"
   },
   {
    "duration": 204,
    "start_time": "2022-09-09T07:37:33.626Z"
   },
   {
    "duration": 4,
    "start_time": "2022-09-09T07:37:33.832Z"
   },
   {
    "duration": 1474,
    "start_time": "2022-09-09T07:47:37.584Z"
   },
   {
    "duration": 778,
    "start_time": "2022-09-09T07:47:39.060Z"
   },
   {
    "duration": 5,
    "start_time": "2022-09-09T07:47:39.840Z"
   },
   {
    "duration": 1024,
    "start_time": "2022-09-09T07:47:39.846Z"
   },
   {
    "duration": 129,
    "start_time": "2022-09-09T07:47:40.871Z"
   },
   {
    "duration": 221,
    "start_time": "2022-09-09T07:47:41.002Z"
   },
   {
    "duration": 1156,
    "start_time": "2022-09-09T07:47:41.225Z"
   },
   {
    "duration": 945,
    "start_time": "2022-09-09T07:47:42.383Z"
   },
   {
    "duration": 57,
    "start_time": "2022-09-09T07:47:43.330Z"
   },
   {
    "duration": 139,
    "start_time": "2022-09-09T07:47:43.390Z"
   },
   {
    "duration": 152,
    "start_time": "2022-09-09T07:47:43.530Z"
   },
   {
    "duration": 81,
    "start_time": "2022-09-09T07:47:43.683Z"
   },
   {
    "duration": 57,
    "start_time": "2022-09-09T07:47:43.766Z"
   },
   {
    "duration": 167,
    "start_time": "2022-09-09T07:47:43.825Z"
   },
   {
    "duration": 5,
    "start_time": "2022-09-09T07:47:43.993Z"
   },
   {
    "duration": 24,
    "start_time": "2022-09-09T07:47:43.999Z"
   },
   {
    "duration": 24,
    "start_time": "2022-09-09T07:47:44.024Z"
   },
   {
    "duration": 39,
    "start_time": "2022-09-09T07:47:44.049Z"
   },
   {
    "duration": 7,
    "start_time": "2022-09-09T07:47:44.089Z"
   },
   {
    "duration": 20,
    "start_time": "2022-09-09T07:47:44.123Z"
   },
   {
    "duration": 5,
    "start_time": "2022-09-09T07:47:44.145Z"
   },
   {
    "duration": 22,
    "start_time": "2022-09-09T07:47:44.152Z"
   },
   {
    "duration": 251,
    "start_time": "2022-09-09T07:47:44.175Z"
   },
   {
    "duration": 2494,
    "start_time": "2022-09-09T07:47:44.428Z"
   },
   {
    "duration": 9,
    "start_time": "2022-09-09T07:47:46.925Z"
   },
   {
    "duration": 209,
    "start_time": "2022-09-09T07:47:46.936Z"
   },
   {
    "duration": 277,
    "start_time": "2022-09-09T07:47:47.147Z"
   },
   {
    "duration": 83,
    "start_time": "2022-09-09T07:47:47.428Z"
   },
   {
    "duration": 323,
    "start_time": "2022-09-09T07:47:47.522Z"
   },
   {
    "duration": 6,
    "start_time": "2022-09-09T07:47:47.847Z"
   },
   {
    "duration": 13,
    "start_time": "2022-09-09T07:47:47.855Z"
   },
   {
    "duration": 21945,
    "start_time": "2022-09-09T07:47:47.869Z"
   },
   {
    "duration": 6142,
    "start_time": "2022-09-09T07:48:09.815Z"
   },
   {
    "duration": 25213,
    "start_time": "2022-09-09T07:48:15.958Z"
   },
   {
    "duration": 177,
    "start_time": "2022-09-09T07:48:41.172Z"
   },
   {
    "duration": 4,
    "start_time": "2022-09-09T07:48:41.351Z"
   },
   {
    "duration": 866517,
    "start_time": "2022-09-09T07:48:41.356Z"
   },
   {
    "duration": 133677,
    "start_time": "2022-09-09T08:03:07.875Z"
   },
   {
    "duration": 1466,
    "start_time": "2022-09-09T08:11:53.129Z"
   },
   {
    "duration": 843,
    "start_time": "2022-09-09T08:11:54.597Z"
   },
   {
    "duration": 5,
    "start_time": "2022-09-09T08:11:55.442Z"
   },
   {
    "duration": 1022,
    "start_time": "2022-09-09T08:11:55.450Z"
   },
   {
    "duration": 130,
    "start_time": "2022-09-09T08:11:56.474Z"
   },
   {
    "duration": 149,
    "start_time": "2022-09-09T08:11:56.606Z"
   },
   {
    "duration": 1238,
    "start_time": "2022-09-09T08:11:56.757Z"
   },
   {
    "duration": 1008,
    "start_time": "2022-09-09T08:11:57.997Z"
   },
   {
    "duration": 116,
    "start_time": "2022-09-09T08:11:59.007Z"
   },
   {
    "duration": 135,
    "start_time": "2022-09-09T08:11:59.126Z"
   },
   {
    "duration": 149,
    "start_time": "2022-09-09T08:11:59.263Z"
   },
   {
    "duration": 116,
    "start_time": "2022-09-09T08:11:59.414Z"
   },
   {
    "duration": 56,
    "start_time": "2022-09-09T08:11:59.531Z"
   },
   {
    "duration": 166,
    "start_time": "2022-09-09T08:11:59.589Z"
   },
   {
    "duration": 6,
    "start_time": "2022-09-09T08:11:59.756Z"
   },
   {
    "duration": 28,
    "start_time": "2022-09-09T08:11:59.763Z"
   },
   {
    "duration": 32,
    "start_time": "2022-09-09T08:11:59.792Z"
   },
   {
    "duration": 48,
    "start_time": "2022-09-09T08:11:59.826Z"
   },
   {
    "duration": 6,
    "start_time": "2022-09-09T08:11:59.876Z"
   },
   {
    "duration": 36,
    "start_time": "2022-09-09T08:11:59.886Z"
   },
   {
    "duration": 6,
    "start_time": "2022-09-09T08:11:59.924Z"
   },
   {
    "duration": 18,
    "start_time": "2022-09-09T08:11:59.931Z"
   },
   {
    "duration": 193,
    "start_time": "2022-09-09T08:12:03.931Z"
   },
   {
    "duration": 1586,
    "start_time": "2022-09-09T08:12:04.845Z"
   },
   {
    "duration": 94,
    "start_time": "2022-09-09T08:12:06.435Z"
   },
   {
    "duration": 94,
    "start_time": "2022-09-09T08:12:06.532Z"
   },
   {
    "duration": 1359,
    "start_time": "2022-09-09T08:12:08.497Z"
   },
   {
    "duration": 5,
    "start_time": "2022-09-09T08:12:20.124Z"
   },
   {
    "duration": 99,
    "start_time": "2022-09-09T08:12:39.726Z"
   },
   {
    "duration": 1537,
    "start_time": "2022-09-09T08:12:40.189Z"
   },
   {
    "duration": 95,
    "start_time": "2022-09-09T08:12:41.729Z"
   },
   {
    "duration": 104,
    "start_time": "2022-09-09T08:12:41.826Z"
   },
   {
    "duration": 5,
    "start_time": "2022-09-09T08:12:41.995Z"
   },
   {
    "duration": 5,
    "start_time": "2022-09-09T08:12:57.927Z"
   },
   {
    "duration": 790,
    "start_time": "2022-09-09T08:12:58.774Z"
   },
   {
    "duration": 5,
    "start_time": "2022-09-09T08:12:59.567Z"
   },
   {
    "duration": 953,
    "start_time": "2022-09-09T08:12:59.574Z"
   },
   {
    "duration": 156,
    "start_time": "2022-09-09T08:13:00.530Z"
   },
   {
    "duration": 135,
    "start_time": "2022-09-09T08:13:00.687Z"
   },
   {
    "duration": 1404,
    "start_time": "2022-09-09T08:13:00.824Z"
   },
   {
    "duration": 1034,
    "start_time": "2022-09-09T08:13:02.230Z"
   },
   {
    "duration": 68,
    "start_time": "2022-09-09T08:13:03.266Z"
   },
   {
    "duration": 158,
    "start_time": "2022-09-09T08:13:03.337Z"
   },
   {
    "duration": 157,
    "start_time": "2022-09-09T08:13:03.498Z"
   },
   {
    "duration": 104,
    "start_time": "2022-09-09T08:13:03.657Z"
   },
   {
    "duration": 64,
    "start_time": "2022-09-09T08:13:03.763Z"
   },
   {
    "duration": 177,
    "start_time": "2022-09-09T08:13:03.829Z"
   },
   {
    "duration": 168,
    "start_time": "2022-09-09T08:13:04.008Z"
   },
   {
    "duration": 29,
    "start_time": "2022-09-09T08:13:04.178Z"
   },
   {
    "duration": 39,
    "start_time": "2022-09-09T08:13:04.209Z"
   },
   {
    "duration": 49,
    "start_time": "2022-09-09T08:13:04.250Z"
   },
   {
    "duration": 29,
    "start_time": "2022-09-09T08:13:04.301Z"
   },
   {
    "duration": 36,
    "start_time": "2022-09-09T08:13:04.332Z"
   },
   {
    "duration": 16,
    "start_time": "2022-09-09T08:13:04.371Z"
   },
   {
    "duration": 12,
    "start_time": "2022-09-09T08:13:04.389Z"
   },
   {
    "duration": 144,
    "start_time": "2022-09-09T08:13:04.402Z"
   },
   {
    "duration": 3296,
    "start_time": "2022-09-09T08:13:04.629Z"
   },
   {
    "duration": 9,
    "start_time": "2022-09-09T08:13:07.927Z"
   },
   {
    "duration": 90,
    "start_time": "2022-09-09T08:13:07.937Z"
   },
   {
    "duration": 97,
    "start_time": "2022-09-09T08:13:08.029Z"
   },
   {
    "duration": 1389,
    "start_time": "2022-09-09T08:13:32.174Z"
   },
   {
    "duration": 772,
    "start_time": "2022-09-09T08:13:33.565Z"
   },
   {
    "duration": 5,
    "start_time": "2022-09-09T08:13:34.338Z"
   },
   {
    "duration": 1011,
    "start_time": "2022-09-09T08:13:34.346Z"
   },
   {
    "duration": 119,
    "start_time": "2022-09-09T08:13:35.359Z"
   },
   {
    "duration": 150,
    "start_time": "2022-09-09T08:13:35.480Z"
   },
   {
    "duration": 1261,
    "start_time": "2022-09-09T08:13:35.632Z"
   },
   {
    "duration": 996,
    "start_time": "2022-09-09T08:13:36.895Z"
   },
   {
    "duration": 67,
    "start_time": "2022-09-09T08:13:37.892Z"
   },
   {
    "duration": 158,
    "start_time": "2022-09-09T08:13:37.962Z"
   },
   {
    "duration": 159,
    "start_time": "2022-09-09T08:13:38.122Z"
   },
   {
    "duration": 87,
    "start_time": "2022-09-09T08:13:38.283Z"
   },
   {
    "duration": 59,
    "start_time": "2022-09-09T08:13:38.371Z"
   },
   {
    "duration": 162,
    "start_time": "2022-09-09T08:13:38.432Z"
   },
   {
    "duration": 4,
    "start_time": "2022-09-09T08:13:38.596Z"
   },
   {
    "duration": 30,
    "start_time": "2022-09-09T08:13:38.601Z"
   },
   {
    "duration": 37,
    "start_time": "2022-09-09T08:13:38.633Z"
   },
   {
    "duration": 56,
    "start_time": "2022-09-09T08:13:38.672Z"
   },
   {
    "duration": 6,
    "start_time": "2022-09-09T08:13:38.730Z"
   },
   {
    "duration": 15,
    "start_time": "2022-09-09T08:13:38.738Z"
   },
   {
    "duration": 5,
    "start_time": "2022-09-09T08:13:38.754Z"
   },
   {
    "duration": 12,
    "start_time": "2022-09-09T08:13:38.761Z"
   },
   {
    "duration": 148,
    "start_time": "2022-09-09T08:13:38.775Z"
   },
   {
    "duration": 1512,
    "start_time": "2022-09-09T08:13:38.924Z"
   },
   {
    "duration": 90,
    "start_time": "2022-09-09T08:13:40.441Z"
   },
   {
    "duration": 196,
    "start_time": "2022-09-09T08:13:40.533Z"
   },
   {
    "duration": 6,
    "start_time": "2022-09-09T08:13:40.733Z"
   },
   {
    "duration": 251,
    "start_time": "2022-09-09T08:14:03.574Z"
   },
   {
    "duration": 1705,
    "start_time": "2022-09-09T08:14:03.923Z"
   },
   {
    "duration": 99,
    "start_time": "2022-09-09T08:14:05.635Z"
   },
   {
    "duration": 84,
    "start_time": "2022-09-09T08:14:05.739Z"
   },
   {
    "duration": 16,
    "start_time": "2022-09-09T08:14:05.826Z"
   },
   {
    "duration": 6,
    "start_time": "2022-09-09T08:14:21.660Z"
   },
   {
    "duration": 6,
    "start_time": "2022-09-09T08:14:22.685Z"
   },
   {
    "duration": 7,
    "start_time": "2022-09-09T08:14:33.862Z"
   },
   {
    "duration": 5,
    "start_time": "2022-09-09T08:14:34.711Z"
   },
   {
    "duration": 6,
    "start_time": "2022-09-09T08:14:42.236Z"
   },
   {
    "duration": 6,
    "start_time": "2022-09-09T08:14:43.126Z"
   },
   {
    "duration": 11,
    "start_time": "2022-09-09T08:15:01.690Z"
   },
   {
    "duration": 1452,
    "start_time": "2022-09-09T08:16:49.646Z"
   },
   {
    "duration": 1730,
    "start_time": "2022-09-09T08:16:51.100Z"
   },
   {
    "duration": 6,
    "start_time": "2022-09-09T08:16:52.833Z"
   },
   {
    "duration": 1657,
    "start_time": "2022-09-09T08:16:52.842Z"
   },
   {
    "duration": 134,
    "start_time": "2022-09-09T08:16:54.501Z"
   },
   {
    "duration": 186,
    "start_time": "2022-09-09T08:16:54.637Z"
   },
   {
    "duration": 1281,
    "start_time": "2022-09-09T08:16:54.825Z"
   },
   {
    "duration": 958,
    "start_time": "2022-09-09T08:16:56.108Z"
   },
   {
    "duration": 75,
    "start_time": "2022-09-09T08:16:57.069Z"
   },
   {
    "duration": 166,
    "start_time": "2022-09-09T08:16:57.146Z"
   },
   {
    "duration": 168,
    "start_time": "2022-09-09T08:16:57.314Z"
   },
   {
    "duration": 114,
    "start_time": "2022-09-09T08:16:57.484Z"
   },
   {
    "duration": 100,
    "start_time": "2022-09-09T08:16:57.600Z"
   },
   {
    "duration": 248,
    "start_time": "2022-09-09T08:16:57.702Z"
   },
   {
    "duration": 5,
    "start_time": "2022-09-09T08:16:57.953Z"
   },
   {
    "duration": 25,
    "start_time": "2022-09-09T08:16:57.960Z"
   },
   {
    "duration": 49,
    "start_time": "2022-09-09T08:16:57.987Z"
   },
   {
    "duration": 62,
    "start_time": "2022-09-09T08:16:58.039Z"
   },
   {
    "duration": 24,
    "start_time": "2022-09-09T08:16:58.103Z"
   },
   {
    "duration": 26,
    "start_time": "2022-09-09T08:16:58.129Z"
   },
   {
    "duration": 9,
    "start_time": "2022-09-09T08:16:58.157Z"
   },
   {
    "duration": 13,
    "start_time": "2022-09-09T08:16:58.168Z"
   },
   {
    "duration": 152,
    "start_time": "2022-09-09T08:16:58.182Z"
   },
   {
    "duration": 2092,
    "start_time": "2022-09-09T08:16:58.336Z"
   },
   {
    "duration": 188,
    "start_time": "2022-09-09T08:17:00.435Z"
   },
   {
    "duration": 113,
    "start_time": "2022-09-09T08:17:00.625Z"
   },
   {
    "duration": 9,
    "start_time": "2022-09-09T08:17:00.740Z"
   },
   {
    "duration": 296,
    "start_time": "2022-09-09T08:17:00.754Z"
   },
   {
    "duration": 93,
    "start_time": "2022-09-09T08:17:01.053Z"
   },
   {
    "duration": 201,
    "start_time": "2022-09-09T08:17:01.148Z"
   },
   {
    "duration": 10,
    "start_time": "2022-09-09T08:17:01.351Z"
   },
   {
    "duration": 17,
    "start_time": "2022-09-09T08:17:01.363Z"
   },
   {
    "duration": 21780,
    "start_time": "2022-09-09T08:17:01.382Z"
   },
   {
    "duration": 6659,
    "start_time": "2022-09-09T08:17:23.164Z"
   },
   {
    "duration": 2827,
    "start_time": "2022-09-09T08:17:35.901Z"
   },
   {
    "duration": 884,
    "start_time": "2022-09-09T08:17:38.730Z"
   },
   {
    "duration": 9,
    "start_time": "2022-09-09T08:17:39.617Z"
   },
   {
    "duration": 1018,
    "start_time": "2022-09-09T08:17:39.629Z"
   },
   {
    "duration": 216,
    "start_time": "2022-09-09T08:17:40.650Z"
   },
   {
    "duration": 155,
    "start_time": "2022-09-09T08:17:40.867Z"
   },
   {
    "duration": 1372,
    "start_time": "2022-09-09T08:17:41.024Z"
   },
   {
    "duration": 1016,
    "start_time": "2022-09-09T08:17:42.398Z"
   },
   {
    "duration": 58,
    "start_time": "2022-09-09T08:17:43.422Z"
   },
   {
    "duration": 147,
    "start_time": "2022-09-09T08:17:43.483Z"
   },
   {
    "duration": 156,
    "start_time": "2022-09-09T08:17:43.631Z"
   },
   {
    "duration": 90,
    "start_time": "2022-09-09T08:17:43.788Z"
   },
   {
    "duration": 60,
    "start_time": "2022-09-09T08:17:43.880Z"
   },
   {
    "duration": 163,
    "start_time": "2022-09-09T08:17:43.942Z"
   },
   {
    "duration": 5,
    "start_time": "2022-09-09T08:17:44.107Z"
   },
   {
    "duration": 31,
    "start_time": "2022-09-09T08:17:44.122Z"
   },
   {
    "duration": 24,
    "start_time": "2022-09-09T08:17:44.154Z"
   },
   {
    "duration": 56,
    "start_time": "2022-09-09T08:17:44.180Z"
   },
   {
    "duration": 6,
    "start_time": "2022-09-09T08:17:44.237Z"
   },
   {
    "duration": 16,
    "start_time": "2022-09-09T08:17:44.245Z"
   },
   {
    "duration": 7,
    "start_time": "2022-09-09T08:17:44.263Z"
   },
   {
    "duration": 17,
    "start_time": "2022-09-09T08:17:44.272Z"
   },
   {
    "duration": 133,
    "start_time": "2022-09-09T08:17:44.291Z"
   },
   {
    "duration": 1596,
    "start_time": "2022-09-09T08:17:44.426Z"
   },
   {
    "duration": 12,
    "start_time": "2022-09-09T08:17:46.025Z"
   },
   {
    "duration": 92,
    "start_time": "2022-09-09T08:17:46.042Z"
   },
   {
    "duration": 91,
    "start_time": "2022-09-09T08:17:46.141Z"
   },
   {
    "duration": 410,
    "start_time": "2022-09-09T08:17:46.237Z"
   },
   {
    "duration": 89,
    "start_time": "2022-09-09T08:17:46.649Z"
   },
   {
    "duration": 177,
    "start_time": "2022-09-09T08:17:46.740Z"
   },
   {
    "duration": 10,
    "start_time": "2022-09-09T08:17:46.918Z"
   },
   {
    "duration": 12,
    "start_time": "2022-09-09T08:17:46.930Z"
   },
   {
    "duration": 23382,
    "start_time": "2022-09-09T08:17:46.943Z"
   },
   {
    "duration": 6905,
    "start_time": "2022-09-09T08:18:10.329Z"
   },
   {
    "duration": 14008,
    "start_time": "2022-09-09T08:18:17.236Z"
   },
   {
    "duration": 188,
    "start_time": "2022-09-09T08:18:31.246Z"
   },
   {
    "duration": 6,
    "start_time": "2022-09-09T08:18:31.436Z"
   },
   {
    "duration": 1631,
    "start_time": "2022-09-09T08:24:25.964Z"
   },
   {
    "duration": 928,
    "start_time": "2022-09-09T08:24:27.598Z"
   },
   {
    "duration": 5,
    "start_time": "2022-09-09T08:24:28.528Z"
   },
   {
    "duration": 1308,
    "start_time": "2022-09-09T08:24:28.535Z"
   },
   {
    "duration": 193,
    "start_time": "2022-09-09T08:24:29.845Z"
   },
   {
    "duration": 239,
    "start_time": "2022-09-09T08:24:30.040Z"
   },
   {
    "duration": 1494,
    "start_time": "2022-09-09T08:24:30.281Z"
   },
   {
    "duration": 1177,
    "start_time": "2022-09-09T08:24:31.777Z"
   },
   {
    "duration": 87,
    "start_time": "2022-09-09T08:24:32.957Z"
   },
   {
    "duration": 180,
    "start_time": "2022-09-09T08:24:33.047Z"
   },
   {
    "duration": 223,
    "start_time": "2022-09-09T08:24:33.229Z"
   },
   {
    "duration": 107,
    "start_time": "2022-09-09T08:24:33.454Z"
   },
   {
    "duration": 72,
    "start_time": "2022-09-09T08:24:33.564Z"
   },
   {
    "duration": 179,
    "start_time": "2022-09-09T08:24:33.638Z"
   },
   {
    "duration": 7,
    "start_time": "2022-09-09T08:24:33.818Z"
   },
   {
    "duration": 41,
    "start_time": "2022-09-09T08:24:33.827Z"
   },
   {
    "duration": 30,
    "start_time": "2022-09-09T08:24:33.870Z"
   },
   {
    "duration": 72,
    "start_time": "2022-09-09T08:24:33.902Z"
   },
   {
    "duration": 7,
    "start_time": "2022-09-09T08:24:33.976Z"
   },
   {
    "duration": 20,
    "start_time": "2022-09-09T08:24:33.985Z"
   },
   {
    "duration": 19,
    "start_time": "2022-09-09T08:24:34.007Z"
   },
   {
    "duration": 19,
    "start_time": "2022-09-09T08:24:34.032Z"
   },
   {
    "duration": 1090,
    "start_time": "2022-09-09T08:24:34.053Z"
   },
   {
    "duration": 1305,
    "start_time": "2022-09-09T08:24:35.148Z"
   },
   {
    "duration": 93,
    "start_time": "2022-09-09T08:24:36.457Z"
   },
   {
    "duration": 71,
    "start_time": "2022-09-09T08:24:36.555Z"
   },
   {
    "duration": 63,
    "start_time": "2022-09-09T08:24:36.628Z"
   },
   {
    "duration": 0,
    "start_time": "2022-09-09T08:24:36.693Z"
   },
   {
    "duration": 0,
    "start_time": "2022-09-09T08:24:36.695Z"
   },
   {
    "duration": 0,
    "start_time": "2022-09-09T08:24:36.696Z"
   },
   {
    "duration": 0,
    "start_time": "2022-09-09T08:24:36.697Z"
   },
   {
    "duration": 0,
    "start_time": "2022-09-09T08:24:36.699Z"
   },
   {
    "duration": 0,
    "start_time": "2022-09-09T08:24:36.700Z"
   },
   {
    "duration": 0,
    "start_time": "2022-09-09T08:24:36.702Z"
   },
   {
    "duration": 0,
    "start_time": "2022-09-09T08:24:36.703Z"
   },
   {
    "duration": 0,
    "start_time": "2022-09-09T08:24:36.704Z"
   },
   {
    "duration": 0,
    "start_time": "2022-09-09T08:24:36.721Z"
   },
   {
    "duration": 0,
    "start_time": "2022-09-09T08:24:36.723Z"
   },
   {
    "duration": 0,
    "start_time": "2022-09-09T08:24:36.725Z"
   },
   {
    "duration": 0,
    "start_time": "2022-09-09T08:24:36.727Z"
   },
   {
    "duration": 0,
    "start_time": "2022-09-09T08:24:36.728Z"
   },
   {
    "duration": 0,
    "start_time": "2022-09-09T08:24:36.730Z"
   },
   {
    "duration": 0,
    "start_time": "2022-09-09T08:24:36.732Z"
   },
   {
    "duration": 0,
    "start_time": "2022-09-09T08:24:36.733Z"
   },
   {
    "duration": 0,
    "start_time": "2022-09-09T08:24:36.735Z"
   },
   {
    "duration": 0,
    "start_time": "2022-09-09T08:24:36.736Z"
   },
   {
    "duration": 0,
    "start_time": "2022-09-09T08:24:36.737Z"
   },
   {
    "duration": 0,
    "start_time": "2022-09-09T08:24:36.738Z"
   },
   {
    "duration": 0,
    "start_time": "2022-09-09T08:24:36.740Z"
   },
   {
    "duration": 0,
    "start_time": "2022-09-09T08:24:36.741Z"
   },
   {
    "duration": 0,
    "start_time": "2022-09-09T08:24:36.742Z"
   },
   {
    "duration": 0,
    "start_time": "2022-09-09T08:24:36.746Z"
   },
   {
    "duration": 0,
    "start_time": "2022-09-09T08:24:36.748Z"
   },
   {
    "duration": 0,
    "start_time": "2022-09-09T08:24:36.750Z"
   },
   {
    "duration": 0,
    "start_time": "2022-09-09T08:24:36.752Z"
   },
   {
    "duration": 0,
    "start_time": "2022-09-09T08:24:36.754Z"
   },
   {
    "duration": 0,
    "start_time": "2022-09-09T08:24:36.755Z"
   },
   {
    "duration": 0,
    "start_time": "2022-09-09T08:24:36.756Z"
   },
   {
    "duration": 0,
    "start_time": "2022-09-09T08:24:36.758Z"
   },
   {
    "duration": 0,
    "start_time": "2022-09-09T08:24:36.759Z"
   },
   {
    "duration": 0,
    "start_time": "2022-09-09T08:24:36.760Z"
   },
   {
    "duration": 0,
    "start_time": "2022-09-09T08:24:36.762Z"
   },
   {
    "duration": 0,
    "start_time": "2022-09-09T08:24:36.763Z"
   },
   {
    "duration": 1953,
    "start_time": "2022-09-09T08:30:15.550Z"
   },
   {
    "duration": 1082,
    "start_time": "2022-09-09T08:30:17.506Z"
   },
   {
    "duration": 6,
    "start_time": "2022-09-09T08:30:18.590Z"
   },
   {
    "duration": 1409,
    "start_time": "2022-09-09T08:30:18.598Z"
   },
   {
    "duration": 172,
    "start_time": "2022-09-09T08:30:20.009Z"
   },
   {
    "duration": 165,
    "start_time": "2022-09-09T08:30:20.184Z"
   },
   {
    "duration": 1328,
    "start_time": "2022-09-09T08:30:20.351Z"
   },
   {
    "duration": 1073,
    "start_time": "2022-09-09T08:30:21.681Z"
   },
   {
    "duration": 73,
    "start_time": "2022-09-09T08:30:22.756Z"
   },
   {
    "duration": 183,
    "start_time": "2022-09-09T08:30:22.832Z"
   },
   {
    "duration": 164,
    "start_time": "2022-09-09T08:30:23.023Z"
   },
   {
    "duration": 109,
    "start_time": "2022-09-09T08:30:23.189Z"
   },
   {
    "duration": 63,
    "start_time": "2022-09-09T08:30:23.300Z"
   },
   {
    "duration": 282,
    "start_time": "2022-09-09T08:30:23.365Z"
   },
   {
    "duration": 5,
    "start_time": "2022-09-09T08:30:23.648Z"
   },
   {
    "duration": 75,
    "start_time": "2022-09-09T08:30:23.655Z"
   },
   {
    "duration": 63,
    "start_time": "2022-09-09T08:30:23.732Z"
   },
   {
    "duration": 113,
    "start_time": "2022-09-09T08:30:23.797Z"
   },
   {
    "duration": 7,
    "start_time": "2022-09-09T08:30:23.913Z"
   },
   {
    "duration": 73,
    "start_time": "2022-09-09T08:30:23.923Z"
   },
   {
    "duration": 22,
    "start_time": "2022-09-09T08:30:23.998Z"
   },
   {
    "duration": 39,
    "start_time": "2022-09-09T08:30:24.023Z"
   },
   {
    "duration": 158,
    "start_time": "2022-09-09T08:30:24.065Z"
   },
   {
    "duration": 897,
    "start_time": "2022-09-09T08:30:24.226Z"
   },
   {
    "duration": 100,
    "start_time": "2022-09-09T08:30:25.126Z"
   },
   {
    "duration": 124,
    "start_time": "2022-09-09T08:30:25.229Z"
   },
   {
    "duration": 47,
    "start_time": "2022-09-09T08:30:25.354Z"
   },
   {
    "duration": 364,
    "start_time": "2022-09-09T08:30:25.406Z"
   },
   {
    "duration": 88,
    "start_time": "2022-09-09T08:30:25.774Z"
   },
   {
    "duration": 194,
    "start_time": "2022-09-09T08:30:25.864Z"
   },
   {
    "duration": 8,
    "start_time": "2022-09-09T08:30:26.060Z"
   },
   {
    "duration": 51,
    "start_time": "2022-09-09T08:30:26.070Z"
   },
   {
    "duration": 50,
    "start_time": "2022-09-09T08:30:26.123Z"
   },
   {
    "duration": 138770,
    "start_time": "2022-09-09T08:30:26.176Z"
   },
   {
    "duration": 26779,
    "start_time": "2022-09-09T08:32:44.948Z"
   },
   {
    "duration": 50105,
    "start_time": "2022-09-09T08:33:11.729Z"
   },
   {
    "duration": 697,
    "start_time": "2022-09-09T08:34:01.836Z"
   },
   {
    "duration": 8,
    "start_time": "2022-09-09T08:34:02.535Z"
   },
   {
    "duration": 29,
    "start_time": "2022-09-09T08:34:02.544Z"
   },
   {
    "duration": 1489,
    "start_time": "2022-09-09T08:39:38.239Z"
   },
   {
    "duration": 920,
    "start_time": "2022-09-09T08:39:39.731Z"
   },
   {
    "duration": 5,
    "start_time": "2022-09-09T08:39:40.652Z"
   },
   {
    "duration": 2413,
    "start_time": "2022-09-09T08:39:40.658Z"
   },
   {
    "duration": 305,
    "start_time": "2022-09-09T08:39:43.124Z"
   },
   {
    "duration": 332,
    "start_time": "2022-09-09T08:39:43.431Z"
   },
   {
    "duration": 2601,
    "start_time": "2022-09-09T08:39:43.765Z"
   },
   {
    "duration": 2303,
    "start_time": "2022-09-09T08:39:46.367Z"
   },
   {
    "duration": 130,
    "start_time": "2022-09-09T08:39:48.723Z"
   },
   {
    "duration": 396,
    "start_time": "2022-09-09T08:39:48.855Z"
   },
   {
    "duration": 398,
    "start_time": "2022-09-09T08:39:49.253Z"
   },
   {
    "duration": 201,
    "start_time": "2022-09-09T08:39:49.653Z"
   },
   {
    "duration": 188,
    "start_time": "2022-09-09T08:39:49.856Z"
   },
   {
    "duration": 396,
    "start_time": "2022-09-09T08:39:50.047Z"
   },
   {
    "duration": 5,
    "start_time": "2022-09-09T08:39:50.445Z"
   },
   {
    "duration": 73,
    "start_time": "2022-09-09T08:39:50.452Z"
   },
   {
    "duration": 34,
    "start_time": "2022-09-09T08:39:50.536Z"
   },
   {
    "duration": 96,
    "start_time": "2022-09-09T08:39:50.572Z"
   },
   {
    "duration": 61,
    "start_time": "2022-09-09T08:39:50.670Z"
   },
   {
    "duration": 26,
    "start_time": "2022-09-09T08:39:50.739Z"
   },
   {
    "duration": 5,
    "start_time": "2022-09-09T08:39:50.768Z"
   },
   {
    "duration": 58,
    "start_time": "2022-09-09T08:39:50.775Z"
   },
   {
    "duration": 605,
    "start_time": "2022-09-09T08:39:50.835Z"
   },
   {
    "duration": 2285,
    "start_time": "2022-09-09T08:39:51.443Z"
   },
   {
    "duration": 90,
    "start_time": "2022-09-09T08:39:53.733Z"
   },
   {
    "duration": 132,
    "start_time": "2022-09-09T08:39:53.826Z"
   },
   {
    "duration": 13,
    "start_time": "2022-09-09T08:39:53.960Z"
   },
   {
    "duration": 754,
    "start_time": "2022-09-09T08:39:53.976Z"
   },
   {
    "duration": 202,
    "start_time": "2022-09-09T08:39:54.732Z"
   },
   {
    "duration": 488,
    "start_time": "2022-09-09T08:39:54.937Z"
   },
   {
    "duration": 13,
    "start_time": "2022-09-09T08:39:55.427Z"
   },
   {
    "duration": 11,
    "start_time": "2022-09-09T08:39:55.442Z"
   },
   {
    "duration": 6,
    "start_time": "2022-09-09T08:39:55.454Z"
   },
   {
    "duration": 27840,
    "start_time": "2022-09-09T08:39:55.462Z"
   },
   {
    "duration": 6687,
    "start_time": "2022-09-09T08:40:23.303Z"
   },
   {
    "duration": 13857,
    "start_time": "2022-09-09T08:40:29.992Z"
   },
   {
    "duration": 191,
    "start_time": "2022-09-09T08:40:43.851Z"
   },
   {
    "duration": 5,
    "start_time": "2022-09-09T08:40:44.044Z"
   },
   {
    "duration": 8,
    "start_time": "2022-09-09T08:40:44.050Z"
   },
   {
    "duration": 1434,
    "start_time": "2022-09-09T08:52:15.995Z"
   },
   {
    "duration": 785,
    "start_time": "2022-09-09T08:52:17.431Z"
   },
   {
    "duration": 6,
    "start_time": "2022-09-09T08:52:18.221Z"
   },
   {
    "duration": 1051,
    "start_time": "2022-09-09T08:52:18.230Z"
   },
   {
    "duration": 124,
    "start_time": "2022-09-09T08:52:19.282Z"
   },
   {
    "duration": 141,
    "start_time": "2022-09-09T08:52:19.408Z"
   },
   {
    "duration": 1242,
    "start_time": "2022-09-09T08:52:19.550Z"
   },
   {
    "duration": 1022,
    "start_time": "2022-09-09T08:52:20.794Z"
   },
   {
    "duration": 70,
    "start_time": "2022-09-09T08:52:21.818Z"
   },
   {
    "duration": 183,
    "start_time": "2022-09-09T08:52:21.891Z"
   },
   {
    "duration": 185,
    "start_time": "2022-09-09T08:52:22.076Z"
   },
   {
    "duration": 96,
    "start_time": "2022-09-09T08:52:22.262Z"
   },
   {
    "duration": 64,
    "start_time": "2022-09-09T08:52:22.360Z"
   },
   {
    "duration": 181,
    "start_time": "2022-09-09T08:52:22.426Z"
   },
   {
    "duration": 5,
    "start_time": "2022-09-09T08:52:22.608Z"
   },
   {
    "duration": 30,
    "start_time": "2022-09-09T08:52:22.621Z"
   },
   {
    "duration": 15,
    "start_time": "2022-09-09T08:52:22.653Z"
   },
   {
    "duration": 31,
    "start_time": "2022-09-09T08:52:22.669Z"
   },
   {
    "duration": 4,
    "start_time": "2022-09-09T08:52:22.702Z"
   },
   {
    "duration": 36,
    "start_time": "2022-09-09T08:52:22.707Z"
   },
   {
    "duration": 16,
    "start_time": "2022-09-09T08:52:22.745Z"
   },
   {
    "duration": 22,
    "start_time": "2022-09-09T08:52:22.763Z"
   },
   {
    "duration": 44,
    "start_time": "2022-09-09T08:52:22.786Z"
   },
   {
    "duration": 1094,
    "start_time": "2022-09-09T08:52:22.832Z"
   },
   {
    "duration": 19,
    "start_time": "2022-09-09T08:52:23.928Z"
   },
   {
    "duration": 177,
    "start_time": "2022-09-09T08:52:23.950Z"
   },
   {
    "duration": 19,
    "start_time": "2022-09-09T08:52:24.129Z"
   },
   {
    "duration": 88,
    "start_time": "2022-09-09T08:52:24.152Z"
   },
   {
    "duration": 21,
    "start_time": "2022-09-09T08:52:24.242Z"
   },
   {
    "duration": 66,
    "start_time": "2022-09-09T08:52:24.265Z"
   },
   {
    "duration": 9,
    "start_time": "2022-09-09T08:52:24.333Z"
   },
   {
    "duration": 6,
    "start_time": "2022-09-09T08:52:24.344Z"
   },
   {
    "duration": 20,
    "start_time": "2022-09-09T08:52:24.353Z"
   },
   {
    "duration": 5467,
    "start_time": "2022-09-09T08:52:24.375Z"
   },
   {
    "duration": 1696,
    "start_time": "2022-09-09T08:52:29.844Z"
   },
   {
    "duration": 3702,
    "start_time": "2022-09-09T08:52:31.542Z"
   },
   {
    "duration": 63,
    "start_time": "2022-09-09T08:52:35.246Z"
   },
   {
    "duration": 15,
    "start_time": "2022-09-09T08:52:35.311Z"
   },
   {
    "duration": 21,
    "start_time": "2022-09-09T08:52:35.328Z"
   },
   {
    "duration": 296120,
    "start_time": "2022-09-09T08:52:35.350Z"
   },
   {
    "duration": 4496,
    "start_time": "2022-09-09T08:57:31.472Z"
   },
   {
    "duration": 165701,
    "start_time": "2022-09-09T08:57:35.970Z"
   },
   {
    "duration": 17,
    "start_time": "2022-09-09T09:00:21.723Z"
   },
   {
    "duration": 34,
    "start_time": "2022-09-09T09:00:21.741Z"
   },
   {
    "duration": 68,
    "start_time": "2022-09-09T09:00:21.777Z"
   },
   {
    "duration": 1247984,
    "start_time": "2022-09-09T09:00:21.846Z"
   },
   {
    "duration": 1192,
    "start_time": "2022-09-09T09:21:09.832Z"
   },
   {
    "duration": 3509,
    "start_time": "2022-09-09T09:21:11.025Z"
   },
   {
    "duration": 91,
    "start_time": "2022-09-09T09:21:14.535Z"
   },
   {
    "duration": 4,
    "start_time": "2022-09-09T09:21:14.628Z"
   },
   {
    "duration": 6,
    "start_time": "2022-09-09T09:21:14.634Z"
   },
   {
    "duration": 307662,
    "start_time": "2022-09-09T09:21:14.641Z"
   },
   {
    "duration": 5854,
    "start_time": "2022-09-09T09:26:22.305Z"
   },
   {
    "duration": 14974,
    "start_time": "2022-09-09T09:26:28.160Z"
   },
   {
    "duration": 16,
    "start_time": "2022-09-09T09:26:43.136Z"
   },
   {
    "duration": 5,
    "start_time": "2022-09-09T09:26:43.153Z"
   },
   {
    "duration": 9,
    "start_time": "2022-09-09T09:26:43.160Z"
   },
   {
    "duration": 11,
    "start_time": "2022-09-09T09:26:43.171Z"
   },
   {
    "duration": 39,
    "start_time": "2022-09-09T09:26:43.184Z"
   },
   {
    "duration": 9,
    "start_time": "2022-09-09T09:26:43.225Z"
   },
   {
    "duration": 12,
    "start_time": "2022-09-09T09:26:43.235Z"
   },
   {
    "duration": 1013,
    "start_time": "2022-09-09T09:26:43.249Z"
   },
   {
    "duration": 0,
    "start_time": "2022-09-09T09:26:44.264Z"
   },
   {
    "duration": 0,
    "start_time": "2022-09-09T09:26:44.265Z"
   },
   {
    "duration": 0,
    "start_time": "2022-09-09T09:26:44.266Z"
   },
   {
    "duration": 0,
    "start_time": "2022-09-09T09:26:44.267Z"
   },
   {
    "duration": 8,
    "start_time": "2022-09-09T09:28:35.900Z"
   },
   {
    "duration": 1485,
    "start_time": "2022-09-09T09:32:41.141Z"
   },
   {
    "duration": 805,
    "start_time": "2022-09-09T09:32:42.628Z"
   },
   {
    "duration": 6,
    "start_time": "2022-09-09T09:32:43.435Z"
   },
   {
    "duration": 1043,
    "start_time": "2022-09-09T09:32:43.443Z"
   },
   {
    "duration": 137,
    "start_time": "2022-09-09T09:32:44.488Z"
   },
   {
    "duration": 168,
    "start_time": "2022-09-09T09:32:44.627Z"
   },
   {
    "duration": 1311,
    "start_time": "2022-09-09T09:32:44.797Z"
   },
   {
    "duration": 969,
    "start_time": "2022-09-09T09:32:46.110Z"
   },
   {
    "duration": 66,
    "start_time": "2022-09-09T09:32:47.082Z"
   },
   {
    "duration": 161,
    "start_time": "2022-09-09T09:32:47.150Z"
   },
   {
    "duration": 177,
    "start_time": "2022-09-09T09:32:47.312Z"
   },
   {
    "duration": 104,
    "start_time": "2022-09-09T09:32:47.490Z"
   },
   {
    "duration": 65,
    "start_time": "2022-09-09T09:32:47.595Z"
   },
   {
    "duration": 195,
    "start_time": "2022-09-09T09:32:47.662Z"
   },
   {
    "duration": 4,
    "start_time": "2022-09-09T09:32:47.859Z"
   },
   {
    "duration": 83,
    "start_time": "2022-09-09T09:32:47.864Z"
   },
   {
    "duration": 50,
    "start_time": "2022-09-09T09:32:47.949Z"
   },
   {
    "duration": 224,
    "start_time": "2022-09-09T09:32:48.001Z"
   },
   {
    "duration": 27,
    "start_time": "2022-09-09T09:32:48.227Z"
   },
   {
    "duration": 94,
    "start_time": "2022-09-09T09:32:48.256Z"
   },
   {
    "duration": 5,
    "start_time": "2022-09-09T09:32:48.351Z"
   },
   {
    "duration": 33,
    "start_time": "2022-09-09T09:32:48.358Z"
   },
   {
    "duration": 1749,
    "start_time": "2022-09-09T09:32:48.393Z"
   },
   {
    "duration": 2300,
    "start_time": "2022-09-09T09:32:50.223Z"
   },
   {
    "duration": 99,
    "start_time": "2022-09-09T09:32:52.528Z"
   },
   {
    "duration": 203,
    "start_time": "2022-09-09T09:32:52.629Z"
   },
   {
    "duration": 21,
    "start_time": "2022-09-09T09:32:52.834Z"
   },
   {
    "duration": 2418,
    "start_time": "2022-09-09T09:32:52.861Z"
   },
   {
    "duration": 956,
    "start_time": "2022-09-09T09:32:55.281Z"
   },
   {
    "duration": 1710,
    "start_time": "2022-09-09T09:32:56.239Z"
   },
   {
    "duration": 25,
    "start_time": "2022-09-09T09:32:57.950Z"
   },
   {
    "duration": 6,
    "start_time": "2022-09-09T09:32:57.977Z"
   },
   {
    "duration": 13,
    "start_time": "2022-09-09T09:32:57.985Z"
   },
   {
    "duration": 984834,
    "start_time": "2022-09-09T09:32:58.000Z"
   },
   {
    "duration": 226769,
    "start_time": "2022-09-09T09:49:22.836Z"
   },
   {
    "duration": 408649,
    "start_time": "2022-09-09T09:53:09.607Z"
   },
   {
    "duration": 6085,
    "start_time": "2022-09-09T09:59:58.258Z"
   },
   {
    "duration": 6,
    "start_time": "2022-09-09T10:00:04.345Z"
   },
   {
    "duration": 6,
    "start_time": "2022-09-09T10:00:04.352Z"
   },
   {
    "duration": 1831080,
    "start_time": "2022-09-09T10:00:04.360Z"
   },
   {
    "duration": 486577,
    "start_time": "2022-09-09T10:30:35.442Z"
   },
   {
    "duration": 1343233,
    "start_time": "2022-09-09T10:38:42.020Z"
   },
   {
    "duration": 770,
    "start_time": "2022-09-09T11:01:05.255Z"
   },
   {
    "duration": 6,
    "start_time": "2022-09-09T11:01:06.026Z"
   },
   {
    "duration": 24,
    "start_time": "2022-09-09T11:01:06.033Z"
   },
   {
    "duration": 1594,
    "start_time": "2022-09-09T11:03:18.419Z"
   },
   {
    "duration": 808,
    "start_time": "2022-09-09T11:03:20.016Z"
   },
   {
    "duration": 5,
    "start_time": "2022-09-09T11:03:20.825Z"
   },
   {
    "duration": 1044,
    "start_time": "2022-09-09T11:03:20.832Z"
   },
   {
    "duration": 123,
    "start_time": "2022-09-09T11:03:21.878Z"
   },
   {
    "duration": 161,
    "start_time": "2022-09-09T11:03:22.003Z"
   },
   {
    "duration": 1663,
    "start_time": "2022-09-09T11:03:22.166Z"
   },
   {
    "duration": 1588,
    "start_time": "2022-09-09T11:03:23.830Z"
   },
   {
    "duration": 58,
    "start_time": "2022-09-09T11:03:25.422Z"
   },
   {
    "duration": 149,
    "start_time": "2022-09-09T11:03:25.482Z"
   },
   {
    "duration": 186,
    "start_time": "2022-09-09T11:03:25.633Z"
   },
   {
    "duration": 82,
    "start_time": "2022-09-09T11:03:25.821Z"
   },
   {
    "duration": 63,
    "start_time": "2022-09-09T11:03:25.905Z"
   },
   {
    "duration": 159,
    "start_time": "2022-09-09T11:03:25.970Z"
   },
   {
    "duration": 6,
    "start_time": "2022-09-09T11:03:26.131Z"
   },
   {
    "duration": 32,
    "start_time": "2022-09-09T11:03:26.139Z"
   },
   {
    "duration": 2,
    "start_time": "2022-09-09T11:03:26.173Z"
   },
   {
    "duration": 169,
    "start_time": "2022-09-09T11:03:26.177Z"
   },
   {
    "duration": 18,
    "start_time": "2022-09-09T11:03:26.348Z"
   },
   {
    "duration": 97,
    "start_time": "2022-09-09T11:03:26.368Z"
   },
   {
    "duration": 6,
    "start_time": "2022-09-09T11:03:26.466Z"
   },
   {
    "duration": 12,
    "start_time": "2022-09-09T11:03:26.473Z"
   },
   {
    "duration": 1037,
    "start_time": "2022-09-09T11:03:26.486Z"
   },
   {
    "duration": 5,
    "start_time": "2022-09-09T11:03:27.525Z"
   },
   {
    "duration": 0,
    "start_time": "2022-09-09T11:03:27.534Z"
   },
   {
    "duration": 0,
    "start_time": "2022-09-09T11:03:27.535Z"
   },
   {
    "duration": 0,
    "start_time": "2022-09-09T11:03:27.536Z"
   },
   {
    "duration": 0,
    "start_time": "2022-09-09T11:03:27.538Z"
   },
   {
    "duration": 0,
    "start_time": "2022-09-09T11:03:27.540Z"
   },
   {
    "duration": 0,
    "start_time": "2022-09-09T11:03:27.541Z"
   },
   {
    "duration": 0,
    "start_time": "2022-09-09T11:03:27.542Z"
   },
   {
    "duration": 0,
    "start_time": "2022-09-09T11:03:27.543Z"
   },
   {
    "duration": 0,
    "start_time": "2022-09-09T11:03:27.545Z"
   },
   {
    "duration": 0,
    "start_time": "2022-09-09T11:03:27.546Z"
   },
   {
    "duration": 0,
    "start_time": "2022-09-09T11:03:27.547Z"
   },
   {
    "duration": 0,
    "start_time": "2022-09-09T11:03:27.549Z"
   },
   {
    "duration": 0,
    "start_time": "2022-09-09T11:03:27.551Z"
   },
   {
    "duration": 0,
    "start_time": "2022-09-09T11:03:27.552Z"
   },
   {
    "duration": 0,
    "start_time": "2022-09-09T11:03:27.555Z"
   },
   {
    "duration": 0,
    "start_time": "2022-09-09T11:03:27.557Z"
   },
   {
    "duration": 0,
    "start_time": "2022-09-09T11:03:27.559Z"
   },
   {
    "duration": 0,
    "start_time": "2022-09-09T11:03:27.561Z"
   },
   {
    "duration": 0,
    "start_time": "2022-09-09T11:03:27.562Z"
   },
   {
    "duration": 0,
    "start_time": "2022-09-09T11:03:27.563Z"
   },
   {
    "duration": 0,
    "start_time": "2022-09-09T11:03:27.564Z"
   },
   {
    "duration": 0,
    "start_time": "2022-09-09T11:03:27.565Z"
   },
   {
    "duration": 0,
    "start_time": "2022-09-09T11:03:27.566Z"
   },
   {
    "duration": 0,
    "start_time": "2022-09-09T11:03:27.568Z"
   },
   {
    "duration": 0,
    "start_time": "2022-09-09T11:03:27.622Z"
   },
   {
    "duration": 0,
    "start_time": "2022-09-09T11:03:27.624Z"
   },
   {
    "duration": 0,
    "start_time": "2022-09-09T11:03:27.625Z"
   },
   {
    "duration": 0,
    "start_time": "2022-09-09T11:03:27.626Z"
   },
   {
    "duration": 0,
    "start_time": "2022-09-09T11:03:27.627Z"
   },
   {
    "duration": 0,
    "start_time": "2022-09-09T11:03:27.629Z"
   },
   {
    "duration": 0,
    "start_time": "2022-09-09T11:03:27.630Z"
   },
   {
    "duration": 0,
    "start_time": "2022-09-09T11:03:27.631Z"
   },
   {
    "duration": 0,
    "start_time": "2022-09-09T11:03:27.632Z"
   },
   {
    "duration": 1,
    "start_time": "2022-09-09T11:03:27.633Z"
   },
   {
    "duration": 0,
    "start_time": "2022-09-09T11:03:27.638Z"
   },
   {
    "duration": 0,
    "start_time": "2022-09-09T11:03:27.639Z"
   },
   {
    "duration": 0,
    "start_time": "2022-09-09T11:03:27.641Z"
   },
   {
    "duration": 0,
    "start_time": "2022-09-09T11:03:27.643Z"
   },
   {
    "duration": 0,
    "start_time": "2022-09-09T11:03:27.644Z"
   },
   {
    "duration": 2205,
    "start_time": "2022-09-09T11:03:58.022Z"
   },
   {
    "duration": 1455,
    "start_time": "2022-09-09T11:04:05.687Z"
   },
   {
    "duration": 812,
    "start_time": "2022-09-09T11:04:07.144Z"
   },
   {
    "duration": 6,
    "start_time": "2022-09-09T11:04:07.957Z"
   },
   {
    "duration": 1059,
    "start_time": "2022-09-09T11:04:07.965Z"
   },
   {
    "duration": 152,
    "start_time": "2022-09-09T11:04:09.026Z"
   },
   {
    "duration": 143,
    "start_time": "2022-09-09T11:04:09.179Z"
   },
   {
    "duration": 1244,
    "start_time": "2022-09-09T11:04:09.324Z"
   },
   {
    "duration": 955,
    "start_time": "2022-09-09T11:04:10.570Z"
   },
   {
    "duration": 57,
    "start_time": "2022-09-09T11:04:11.527Z"
   },
   {
    "duration": 160,
    "start_time": "2022-09-09T11:04:11.588Z"
   },
   {
    "duration": 159,
    "start_time": "2022-09-09T11:04:11.750Z"
   },
   {
    "duration": 108,
    "start_time": "2022-09-09T11:04:11.910Z"
   },
   {
    "duration": 62,
    "start_time": "2022-09-09T11:04:12.023Z"
   },
   {
    "duration": 167,
    "start_time": "2022-09-09T11:04:12.087Z"
   },
   {
    "duration": 5,
    "start_time": "2022-09-09T11:04:12.257Z"
   },
   {
    "duration": 19,
    "start_time": "2022-09-09T11:04:12.264Z"
   },
   {
    "duration": 2,
    "start_time": "2022-09-09T11:04:12.285Z"
   },
   {
    "duration": 166,
    "start_time": "2022-09-09T11:04:12.289Z"
   },
   {
    "duration": 18,
    "start_time": "2022-09-09T11:04:12.456Z"
   },
   {
    "duration": 99,
    "start_time": "2022-09-09T11:04:12.475Z"
   },
   {
    "duration": 8,
    "start_time": "2022-09-09T11:04:12.578Z"
   },
   {
    "duration": 16,
    "start_time": "2022-09-09T11:04:12.587Z"
   },
   {
    "duration": 1126,
    "start_time": "2022-09-09T11:04:12.605Z"
   },
   {
    "duration": 2489,
    "start_time": "2022-09-09T11:04:13.733Z"
   },
   {
    "duration": 108,
    "start_time": "2022-09-09T11:04:16.225Z"
   },
   {
    "duration": 96,
    "start_time": "2022-09-09T11:04:16.335Z"
   },
   {
    "duration": 88,
    "start_time": "2022-09-09T11:04:16.434Z"
   },
   {
    "duration": 3233,
    "start_time": "2022-09-09T11:04:16.526Z"
   },
   {
    "duration": 846,
    "start_time": "2022-09-09T11:04:19.761Z"
   },
   {
    "duration": 2,
    "start_time": "2022-09-09T11:04:20.609Z"
   },
   {
    "duration": 21,
    "start_time": "2022-09-09T11:04:20.622Z"
   },
   {
    "duration": 5,
    "start_time": "2022-09-09T11:04:20.644Z"
   },
   {
    "duration": 16,
    "start_time": "2022-09-09T11:04:20.651Z"
   },
   {
    "duration": 184358,
    "start_time": "2022-09-09T11:04:20.668Z"
   },
   {
    "duration": 68344,
    "start_time": "2022-09-09T11:07:25.027Z"
   },
   {
    "duration": 3,
    "start_time": "2022-09-09T11:08:33.372Z"
   },
   {
    "duration": 1731,
    "start_time": "2022-09-09T11:08:33.377Z"
   },
   {
    "duration": 12,
    "start_time": "2022-09-09T11:08:35.110Z"
   },
   {
    "duration": 14,
    "start_time": "2022-09-09T11:08:35.124Z"
   },
   {
    "duration": 1166787,
    "start_time": "2022-09-09T11:08:35.140Z"
   },
   {
    "duration": 328099,
    "start_time": "2022-09-09T11:28:01.929Z"
   },
   {
    "duration": 4,
    "start_time": "2022-09-09T11:33:30.029Z"
   },
   {
    "duration": 507,
    "start_time": "2022-09-09T11:33:30.035Z"
   },
   {
    "duration": 8,
    "start_time": "2022-09-09T11:33:30.545Z"
   },
   {
    "duration": 25,
    "start_time": "2022-09-09T11:33:30.555Z"
   },
   {
    "duration": 1621950,
    "start_time": "2022-09-09T11:33:30.582Z"
   },
   {
    "duration": 311188,
    "start_time": "2022-09-09T12:00:32.535Z"
   },
   {
    "duration": 3,
    "start_time": "2022-09-09T12:05:43.725Z"
   },
   {
    "duration": 493,
    "start_time": "2022-09-09T12:05:43.730Z"
   },
   {
    "duration": 5,
    "start_time": "2022-09-09T12:05:44.225Z"
   },
   {
    "duration": 9,
    "start_time": "2022-09-09T12:05:44.232Z"
   },
   {
    "duration": 970583,
    "start_time": "2022-09-09T12:05:44.243Z"
   },
   {
    "duration": 200,
    "start_time": "2022-09-09T12:41:45.323Z"
   },
   {
    "duration": 1650,
    "start_time": "2022-09-09T12:42:52.828Z"
   },
   {
    "duration": 1152,
    "start_time": "2022-09-09T12:42:54.480Z"
   },
   {
    "duration": 5,
    "start_time": "2022-09-09T12:42:55.633Z"
   },
   {
    "duration": 1000,
    "start_time": "2022-09-09T12:42:55.640Z"
   },
   {
    "duration": 134,
    "start_time": "2022-09-09T12:42:56.642Z"
   },
   {
    "duration": 153,
    "start_time": "2022-09-09T12:42:56.777Z"
   },
   {
    "duration": 1294,
    "start_time": "2022-09-09T12:42:56.932Z"
   },
   {
    "duration": 1115,
    "start_time": "2022-09-09T12:42:58.228Z"
   },
   {
    "duration": 78,
    "start_time": "2022-09-09T12:42:59.345Z"
   },
   {
    "duration": 198,
    "start_time": "2022-09-09T12:42:59.425Z"
   },
   {
    "duration": 190,
    "start_time": "2022-09-09T12:42:59.625Z"
   },
   {
    "duration": 127,
    "start_time": "2022-09-09T12:42:59.823Z"
   },
   {
    "duration": 80,
    "start_time": "2022-09-09T12:42:59.951Z"
   },
   {
    "duration": 175,
    "start_time": "2022-09-09T12:43:00.034Z"
   },
   {
    "duration": 4,
    "start_time": "2022-09-09T12:43:00.211Z"
   },
   {
    "duration": 25,
    "start_time": "2022-09-09T12:43:00.216Z"
   },
   {
    "duration": 2,
    "start_time": "2022-09-09T12:43:00.243Z"
   },
   {
    "duration": 157,
    "start_time": "2022-09-09T12:43:00.247Z"
   },
   {
    "duration": 26,
    "start_time": "2022-09-09T12:43:00.406Z"
   },
   {
    "duration": 127,
    "start_time": "2022-09-09T12:43:00.434Z"
   },
   {
    "duration": 7,
    "start_time": "2022-09-09T12:43:00.562Z"
   },
   {
    "duration": 19,
    "start_time": "2022-09-09T12:43:00.571Z"
   },
   {
    "duration": 1133,
    "start_time": "2022-09-09T12:43:00.592Z"
   },
   {
    "duration": 2307,
    "start_time": "2022-09-09T12:43:01.727Z"
   },
   {
    "duration": 94,
    "start_time": "2022-09-09T12:43:04.037Z"
   },
   {
    "duration": 192,
    "start_time": "2022-09-09T12:43:04.134Z"
   },
   {
    "duration": 9,
    "start_time": "2022-09-09T12:43:04.327Z"
   },
   {
    "duration": 3172,
    "start_time": "2022-09-09T12:43:04.338Z"
   },
   {
    "duration": 919,
    "start_time": "2022-09-09T12:43:07.512Z"
   },
   {
    "duration": 1669,
    "start_time": "2022-09-09T12:43:08.433Z"
   },
   {
    "duration": 31,
    "start_time": "2022-09-09T12:43:10.104Z"
   },
   {
    "duration": 6,
    "start_time": "2022-09-09T12:43:10.137Z"
   },
   {
    "duration": 15,
    "start_time": "2022-09-09T12:43:10.144Z"
   },
   {
    "duration": 182450,
    "start_time": "2022-09-09T12:43:10.161Z"
   },
   {
    "duration": 67236,
    "start_time": "2022-09-09T12:46:12.612Z"
   },
   {
    "duration": 5,
    "start_time": "2022-09-09T12:47:19.849Z"
   },
   {
    "duration": 0,
    "start_time": "2022-09-09T12:47:19.856Z"
   },
   {
    "duration": 0,
    "start_time": "2022-09-09T12:47:19.857Z"
   },
   {
    "duration": 0,
    "start_time": "2022-09-09T12:47:19.858Z"
   },
   {
    "duration": 0,
    "start_time": "2022-09-09T12:47:19.859Z"
   },
   {
    "duration": 0,
    "start_time": "2022-09-09T12:47:19.860Z"
   },
   {
    "duration": 0,
    "start_time": "2022-09-09T12:47:19.861Z"
   },
   {
    "duration": 0,
    "start_time": "2022-09-09T12:47:19.862Z"
   },
   {
    "duration": 0,
    "start_time": "2022-09-09T12:47:19.864Z"
   },
   {
    "duration": 0,
    "start_time": "2022-09-09T12:47:19.865Z"
   },
   {
    "duration": 0,
    "start_time": "2022-09-09T12:47:19.865Z"
   },
   {
    "duration": 0,
    "start_time": "2022-09-09T12:47:19.866Z"
   },
   {
    "duration": 0,
    "start_time": "2022-09-09T12:47:19.868Z"
   },
   {
    "duration": 0,
    "start_time": "2022-09-09T12:47:19.869Z"
   },
   {
    "duration": 0,
    "start_time": "2022-09-09T12:47:19.870Z"
   },
   {
    "duration": 0,
    "start_time": "2022-09-09T12:47:19.871Z"
   },
   {
    "duration": 0,
    "start_time": "2022-09-09T12:47:19.872Z"
   },
   {
    "duration": 0,
    "start_time": "2022-09-09T12:47:19.873Z"
   },
   {
    "duration": 0,
    "start_time": "2022-09-09T12:47:19.874Z"
   },
   {
    "duration": 0,
    "start_time": "2022-09-09T12:47:19.875Z"
   },
   {
    "duration": 0,
    "start_time": "2022-09-09T12:47:19.877Z"
   },
   {
    "duration": 0,
    "start_time": "2022-09-09T12:47:19.878Z"
   },
   {
    "duration": 0,
    "start_time": "2022-09-09T12:47:19.879Z"
   },
   {
    "duration": 0,
    "start_time": "2022-09-09T12:47:19.923Z"
   },
   {
    "duration": 0,
    "start_time": "2022-09-09T12:47:19.924Z"
   },
   {
    "duration": 0,
    "start_time": "2022-09-09T12:47:19.925Z"
   },
   {
    "duration": 0,
    "start_time": "2022-09-09T12:47:19.926Z"
   },
   {
    "duration": 0,
    "start_time": "2022-09-09T12:47:19.928Z"
   },
   {
    "duration": 1644,
    "start_time": "2022-09-11T05:02:28.670Z"
   },
   {
    "duration": 1020,
    "start_time": "2022-09-11T05:02:30.316Z"
   },
   {
    "duration": 5,
    "start_time": "2022-09-11T05:02:31.338Z"
   },
   {
    "duration": 884,
    "start_time": "2022-09-11T05:02:31.345Z"
   },
   {
    "duration": 124,
    "start_time": "2022-09-11T05:02:32.230Z"
   },
   {
    "duration": 131,
    "start_time": "2022-09-11T05:02:32.355Z"
   },
   {
    "duration": 1168,
    "start_time": "2022-09-11T05:02:32.488Z"
   },
   {
    "duration": 933,
    "start_time": "2022-09-11T05:02:33.658Z"
   },
   {
    "duration": 59,
    "start_time": "2022-09-11T05:02:34.593Z"
   },
   {
    "duration": 136,
    "start_time": "2022-09-11T05:02:34.654Z"
   },
   {
    "duration": 148,
    "start_time": "2022-09-11T05:02:34.792Z"
   },
   {
    "duration": 85,
    "start_time": "2022-09-11T05:02:34.942Z"
   },
   {
    "duration": 65,
    "start_time": "2022-09-11T05:02:35.029Z"
   },
   {
    "duration": 176,
    "start_time": "2022-09-11T05:02:35.096Z"
   },
   {
    "duration": 5,
    "start_time": "2022-09-11T05:02:35.274Z"
   },
   {
    "duration": 20,
    "start_time": "2022-09-11T05:02:35.280Z"
   },
   {
    "duration": 20,
    "start_time": "2022-09-11T05:02:35.302Z"
   },
   {
    "duration": 155,
    "start_time": "2022-09-11T05:02:35.324Z"
   },
   {
    "duration": 16,
    "start_time": "2022-09-11T05:02:35.481Z"
   },
   {
    "duration": 84,
    "start_time": "2022-09-11T05:02:35.498Z"
   },
   {
    "duration": 6,
    "start_time": "2022-09-11T05:02:35.584Z"
   },
   {
    "duration": 12,
    "start_time": "2022-09-11T05:02:35.591Z"
   },
   {
    "duration": 1228,
    "start_time": "2022-09-11T05:02:35.605Z"
   },
   {
    "duration": 2597,
    "start_time": "2022-09-11T05:02:36.835Z"
   },
   {
    "duration": 96,
    "start_time": "2022-09-11T05:02:39.434Z"
   },
   {
    "duration": 220,
    "start_time": "2022-09-11T05:02:39.532Z"
   },
   {
    "duration": 8,
    "start_time": "2022-09-11T05:02:39.754Z"
   },
   {
    "duration": 2950,
    "start_time": "2022-09-11T05:02:39.766Z"
   },
   {
    "duration": 787,
    "start_time": "2022-09-11T05:02:42.718Z"
   },
   {
    "duration": 1560,
    "start_time": "2022-09-11T05:02:43.507Z"
   },
   {
    "duration": 30,
    "start_time": "2022-09-11T05:02:45.069Z"
   },
   {
    "duration": 5,
    "start_time": "2022-09-11T05:02:45.101Z"
   },
   {
    "duration": 5,
    "start_time": "2022-09-11T05:02:45.122Z"
   },
   {
    "duration": 168265,
    "start_time": "2022-09-11T05:02:45.129Z"
   },
   {
    "duration": 62721,
    "start_time": "2022-09-11T05:05:33.396Z"
   },
   {
    "duration": 6,
    "start_time": "2022-09-11T05:06:36.119Z"
   },
   {
    "duration": 0,
    "start_time": "2022-09-11T05:06:36.127Z"
   },
   {
    "duration": 0,
    "start_time": "2022-09-11T05:06:36.128Z"
   },
   {
    "duration": 0,
    "start_time": "2022-09-11T05:06:36.130Z"
   },
   {
    "duration": 0,
    "start_time": "2022-09-11T05:06:36.131Z"
   },
   {
    "duration": 0,
    "start_time": "2022-09-11T05:06:36.133Z"
   },
   {
    "duration": 0,
    "start_time": "2022-09-11T05:06:36.135Z"
   },
   {
    "duration": 0,
    "start_time": "2022-09-11T05:06:36.136Z"
   },
   {
    "duration": 0,
    "start_time": "2022-09-11T05:06:36.137Z"
   },
   {
    "duration": 0,
    "start_time": "2022-09-11T05:06:36.138Z"
   },
   {
    "duration": 0,
    "start_time": "2022-09-11T05:06:36.140Z"
   },
   {
    "duration": 0,
    "start_time": "2022-09-11T05:06:36.141Z"
   },
   {
    "duration": 0,
    "start_time": "2022-09-11T05:06:36.142Z"
   },
   {
    "duration": 0,
    "start_time": "2022-09-11T05:06:36.144Z"
   },
   {
    "duration": 0,
    "start_time": "2022-09-11T05:06:36.145Z"
   },
   {
    "duration": 0,
    "start_time": "2022-09-11T05:06:36.146Z"
   },
   {
    "duration": 0,
    "start_time": "2022-09-11T05:06:36.148Z"
   },
   {
    "duration": 0,
    "start_time": "2022-09-11T05:06:36.149Z"
   },
   {
    "duration": 0,
    "start_time": "2022-09-11T05:06:36.150Z"
   },
   {
    "duration": 0,
    "start_time": "2022-09-11T05:06:36.151Z"
   },
   {
    "duration": 0,
    "start_time": "2022-09-11T05:06:36.153Z"
   },
   {
    "duration": 0,
    "start_time": "2022-09-11T05:06:36.154Z"
   },
   {
    "duration": 0,
    "start_time": "2022-09-11T05:06:36.155Z"
   },
   {
    "duration": 0,
    "start_time": "2022-09-11T05:06:36.156Z"
   },
   {
    "duration": 0,
    "start_time": "2022-09-11T05:06:36.157Z"
   },
   {
    "duration": 0,
    "start_time": "2022-09-11T05:06:36.158Z"
   },
   {
    "duration": 0,
    "start_time": "2022-09-11T05:06:36.160Z"
   },
   {
    "duration": 0,
    "start_time": "2022-09-11T05:06:36.160Z"
   },
   {
    "duration": 1740,
    "start_time": "2022-09-11T05:07:11.469Z"
   },
   {
    "duration": 881,
    "start_time": "2022-09-11T05:07:13.212Z"
   },
   {
    "duration": 6,
    "start_time": "2022-09-11T05:07:14.094Z"
   },
   {
    "duration": 1048,
    "start_time": "2022-09-11T05:07:14.102Z"
   },
   {
    "duration": 133,
    "start_time": "2022-09-11T05:07:15.152Z"
   },
   {
    "duration": 147,
    "start_time": "2022-09-11T05:07:15.287Z"
   },
   {
    "duration": 1244,
    "start_time": "2022-09-11T05:07:15.436Z"
   },
   {
    "duration": 962,
    "start_time": "2022-09-11T05:07:16.682Z"
   },
   {
    "duration": 57,
    "start_time": "2022-09-11T05:07:17.646Z"
   },
   {
    "duration": 142,
    "start_time": "2022-09-11T05:07:17.705Z"
   },
   {
    "duration": 152,
    "start_time": "2022-09-11T05:07:17.848Z"
   },
   {
    "duration": 88,
    "start_time": "2022-09-11T05:07:18.002Z"
   },
   {
    "duration": 63,
    "start_time": "2022-09-11T05:07:18.091Z"
   },
   {
    "duration": 389,
    "start_time": "2022-09-11T05:07:18.156Z"
   },
   {
    "duration": 5,
    "start_time": "2022-09-11T05:07:18.547Z"
   },
   {
    "duration": 90,
    "start_time": "2022-09-11T05:07:18.554Z"
   },
   {
    "duration": 12,
    "start_time": "2022-09-11T05:07:18.646Z"
   },
   {
    "duration": 388,
    "start_time": "2022-09-11T05:07:18.660Z"
   },
   {
    "duration": 21,
    "start_time": "2022-09-11T05:07:19.050Z"
   },
   {
    "duration": 207,
    "start_time": "2022-09-11T05:07:19.124Z"
   },
   {
    "duration": 6,
    "start_time": "2022-09-11T05:07:19.333Z"
   },
   {
    "duration": 13,
    "start_time": "2022-09-11T05:07:19.341Z"
   },
   {
    "duration": 2186,
    "start_time": "2022-09-11T05:07:19.356Z"
   },
   {
    "duration": 2503,
    "start_time": "2022-09-11T05:07:21.622Z"
   },
   {
    "duration": 100,
    "start_time": "2022-09-11T05:07:24.130Z"
   },
   {
    "duration": 103,
    "start_time": "2022-09-11T05:07:24.232Z"
   },
   {
    "duration": 89,
    "start_time": "2022-09-11T05:07:24.337Z"
   },
   {
    "duration": 3019,
    "start_time": "2022-09-11T05:07:24.429Z"
   },
   {
    "duration": 827,
    "start_time": "2022-09-11T05:07:27.449Z"
   },
   {
    "duration": 1605,
    "start_time": "2022-09-11T05:07:28.278Z"
   },
   {
    "duration": 22,
    "start_time": "2022-09-11T05:07:29.885Z"
   },
   {
    "duration": 16,
    "start_time": "2022-09-11T05:07:29.909Z"
   },
   {
    "duration": 10,
    "start_time": "2022-09-11T05:07:29.926Z"
   },
   {
    "duration": 175937,
    "start_time": "2022-09-11T05:07:29.937Z"
   },
   {
    "duration": 63702,
    "start_time": "2022-09-11T05:10:25.876Z"
   },
   {
    "duration": 116392,
    "start_time": "2022-09-11T05:11:29.580Z"
   },
   {
    "duration": 1669,
    "start_time": "2022-09-11T05:13:25.973Z"
   },
   {
    "duration": 5,
    "start_time": "2022-09-11T05:13:27.643Z"
   },
   {
    "duration": 7,
    "start_time": "2022-09-11T05:13:27.650Z"
   },
   {
    "duration": 1248956,
    "start_time": "2022-09-11T05:13:27.658Z"
   },
   {
    "duration": 341731,
    "start_time": "2022-09-11T05:34:16.615Z"
   },
   {
    "duration": 923100,
    "start_time": "2022-09-11T05:39:58.348Z"
   },
   {
    "duration": 485,
    "start_time": "2022-09-11T05:55:21.449Z"
   },
   {
    "duration": 5,
    "start_time": "2022-09-11T05:55:21.936Z"
   },
   {
    "duration": 6,
    "start_time": "2022-09-11T05:55:21.942Z"
   },
   {
    "duration": 522975,
    "start_time": "2022-09-11T05:55:21.949Z"
   },
   {
    "duration": 182198,
    "start_time": "2022-09-11T06:04:04.926Z"
   },
   {
    "duration": 338711,
    "start_time": "2022-09-11T06:07:07.125Z"
   },
   {
    "duration": 406,
    "start_time": "2022-09-11T06:12:45.838Z"
   },
   {
    "duration": 81,
    "start_time": "2022-09-11T06:12:46.245Z"
   },
   {
    "duration": 17,
    "start_time": "2022-09-11T06:12:46.328Z"
   },
   {
    "duration": 978307,
    "start_time": "2022-09-11T06:12:46.347Z"
   },
   {
    "duration": 97,
    "start_time": "2022-09-11T11:56:40.159Z"
   },
   {
    "duration": 1447,
    "start_time": "2022-09-11T11:56:49.393Z"
   },
   {
    "duration": 1043,
    "start_time": "2022-09-11T11:56:50.842Z"
   },
   {
    "duration": 4,
    "start_time": "2022-09-11T11:56:51.887Z"
   },
   {
    "duration": 938,
    "start_time": "2022-09-11T11:56:51.893Z"
   },
   {
    "duration": 162,
    "start_time": "2022-09-11T11:56:52.833Z"
   },
   {
    "duration": 196,
    "start_time": "2022-09-11T11:56:52.997Z"
   },
   {
    "duration": 1333,
    "start_time": "2022-09-11T11:56:53.194Z"
   },
   {
    "duration": 973,
    "start_time": "2022-09-11T11:56:54.529Z"
   },
   {
    "duration": 63,
    "start_time": "2022-09-11T11:56:55.504Z"
   },
   {
    "duration": 142,
    "start_time": "2022-09-11T11:56:55.569Z"
   },
   {
    "duration": 156,
    "start_time": "2022-09-11T11:56:55.713Z"
   },
   {
    "duration": 87,
    "start_time": "2022-09-11T11:56:55.871Z"
   },
   {
    "duration": 68,
    "start_time": "2022-09-11T11:56:55.960Z"
   },
   {
    "duration": 168,
    "start_time": "2022-09-11T11:56:56.030Z"
   },
   {
    "duration": 4,
    "start_time": "2022-09-11T11:56:56.200Z"
   },
   {
    "duration": 36,
    "start_time": "2022-09-11T11:56:56.206Z"
   },
   {
    "duration": 8,
    "start_time": "2022-09-11T11:56:56.244Z"
   },
   {
    "duration": 167,
    "start_time": "2022-09-11T11:56:56.253Z"
   },
   {
    "duration": 17,
    "start_time": "2022-09-11T11:56:56.422Z"
   },
   {
    "duration": 92,
    "start_time": "2022-09-11T11:56:56.441Z"
   },
   {
    "duration": 5,
    "start_time": "2022-09-11T11:56:56.534Z"
   },
   {
    "duration": 29,
    "start_time": "2022-09-11T11:56:56.541Z"
   },
   {
    "duration": 867,
    "start_time": "2022-09-11T11:56:56.571Z"
   },
   {
    "duration": 2795,
    "start_time": "2022-09-11T11:56:57.441Z"
   },
   {
    "duration": 187,
    "start_time": "2022-09-11T11:57:00.238Z"
   },
   {
    "duration": 98,
    "start_time": "2022-09-11T11:57:00.427Z"
   },
   {
    "duration": 27,
    "start_time": "2022-09-11T11:57:00.527Z"
   },
   {
    "duration": 3168,
    "start_time": "2022-09-11T11:57:00.558Z"
   },
   {
    "duration": 833,
    "start_time": "2022-09-11T11:57:03.728Z"
   },
   {
    "duration": 1590,
    "start_time": "2022-09-11T11:57:04.563Z"
   },
   {
    "duration": 22,
    "start_time": "2022-09-11T11:57:06.155Z"
   },
   {
    "duration": 5,
    "start_time": "2022-09-11T11:57:06.178Z"
   },
   {
    "duration": 11,
    "start_time": "2022-09-11T11:57:06.185Z"
   },
   {
    "duration": 166051,
    "start_time": "2022-09-11T11:57:06.197Z"
   },
   {
    "duration": 63707,
    "start_time": "2022-09-11T11:59:52.249Z"
   },
   {
    "duration": 117748,
    "start_time": "2022-09-11T12:00:55.957Z"
   },
   {
    "duration": 1703,
    "start_time": "2022-09-11T12:02:53.708Z"
   },
   {
    "duration": 11,
    "start_time": "2022-09-11T12:02:55.412Z"
   },
   {
    "duration": 10,
    "start_time": "2022-09-11T12:02:55.424Z"
   },
   {
    "duration": 1267032,
    "start_time": "2022-09-11T12:02:55.435Z"
   },
   {
    "duration": 349937,
    "start_time": "2022-09-11T12:24:02.469Z"
   },
   {
    "duration": 940935,
    "start_time": "2022-09-11T12:29:52.409Z"
   },
   {
    "duration": 476,
    "start_time": "2022-09-11T12:45:33.346Z"
   },
   {
    "duration": 5,
    "start_time": "2022-09-11T12:45:33.824Z"
   },
   {
    "duration": 10,
    "start_time": "2022-09-11T12:45:33.830Z"
   },
   {
    "duration": 607783,
    "start_time": "2022-09-11T12:45:33.841Z"
   },
   {
    "duration": 147303,
    "start_time": "2022-09-11T12:55:41.626Z"
   },
   {
    "duration": 565328,
    "start_time": "2022-09-11T12:58:08.931Z"
   },
   {
    "duration": 476,
    "start_time": "2022-09-11T13:07:34.261Z"
   },
   {
    "duration": 5,
    "start_time": "2022-09-11T13:07:34.738Z"
   },
   {
    "duration": 8,
    "start_time": "2022-09-11T13:07:34.745Z"
   },
   {
    "duration": 1729,
    "start_time": "2022-09-12T06:43:47.195Z"
   },
   {
    "duration": 1048,
    "start_time": "2022-09-12T06:43:48.927Z"
   },
   {
    "duration": 5,
    "start_time": "2022-09-12T06:43:49.977Z"
   },
   {
    "duration": 949,
    "start_time": "2022-09-12T06:43:49.984Z"
   },
   {
    "duration": 125,
    "start_time": "2022-09-12T06:43:50.934Z"
   },
   {
    "duration": 151,
    "start_time": "2022-09-12T06:43:51.061Z"
   },
   {
    "duration": 1222,
    "start_time": "2022-09-12T06:43:51.214Z"
   },
   {
    "duration": 961,
    "start_time": "2022-09-12T06:43:52.438Z"
   },
   {
    "duration": 65,
    "start_time": "2022-09-12T06:43:53.401Z"
   },
   {
    "duration": 143,
    "start_time": "2022-09-12T06:43:53.469Z"
   },
   {
    "duration": 153,
    "start_time": "2022-09-12T06:43:53.614Z"
   },
   {
    "duration": 95,
    "start_time": "2022-09-12T06:43:53.769Z"
   },
   {
    "duration": 60,
    "start_time": "2022-09-12T06:43:53.866Z"
   },
   {
    "duration": 166,
    "start_time": "2022-09-12T06:43:53.927Z"
   },
   {
    "duration": 5,
    "start_time": "2022-09-12T06:43:54.095Z"
   },
   {
    "duration": 18,
    "start_time": "2022-09-12T06:43:54.101Z"
   },
   {
    "duration": 4,
    "start_time": "2022-09-12T06:43:54.121Z"
   },
   {
    "duration": 131,
    "start_time": "2022-09-12T06:43:54.146Z"
   },
   {
    "duration": 17,
    "start_time": "2022-09-12T06:43:54.279Z"
   },
   {
    "duration": 96,
    "start_time": "2022-09-12T06:43:54.298Z"
   },
   {
    "duration": 7,
    "start_time": "2022-09-12T06:43:54.395Z"
   },
   {
    "duration": 18,
    "start_time": "2022-09-12T06:43:54.404Z"
   },
   {
    "duration": 1025,
    "start_time": "2022-09-12T06:43:54.423Z"
   },
   {
    "duration": 2210,
    "start_time": "2022-09-12T06:43:55.450Z"
   },
   {
    "duration": 12,
    "start_time": "2022-09-12T06:43:57.748Z"
   },
   {
    "duration": 102,
    "start_time": "2022-09-12T06:43:57.848Z"
   },
   {
    "duration": 17,
    "start_time": "2022-09-12T06:43:57.952Z"
   },
   {
    "duration": 3012,
    "start_time": "2022-09-12T06:43:57.972Z"
   },
   {
    "duration": 903,
    "start_time": "2022-09-12T06:44:00.986Z"
   },
   {
    "duration": 1624,
    "start_time": "2022-09-12T06:44:01.891Z"
   },
   {
    "duration": 31,
    "start_time": "2022-09-12T06:44:03.517Z"
   },
   {
    "duration": 5,
    "start_time": "2022-09-12T06:44:03.549Z"
   },
   {
    "duration": 11,
    "start_time": "2022-09-12T06:44:03.555Z"
   },
   {
    "duration": 177848,
    "start_time": "2022-09-12T06:44:03.567Z"
   },
   {
    "duration": 63612,
    "start_time": "2022-09-12T06:47:01.417Z"
   },
   {
    "duration": 117683,
    "start_time": "2022-09-12T06:48:05.030Z"
   },
   {
    "duration": 1708,
    "start_time": "2022-09-12T06:50:02.715Z"
   },
   {
    "duration": 5,
    "start_time": "2022-09-12T06:50:04.425Z"
   },
   {
    "duration": 15,
    "start_time": "2022-09-12T06:50:04.432Z"
   },
   {
    "duration": 322231,
    "start_time": "2022-09-12T06:50:04.449Z"
   },
   {
    "duration": 122756,
    "start_time": "2022-09-12T06:55:26.682Z"
   },
   {
    "duration": 501428,
    "start_time": "2022-09-12T06:57:29.440Z"
   },
   {
    "duration": 494,
    "start_time": "2022-09-12T07:05:50.869Z"
   },
   {
    "duration": 7,
    "start_time": "2022-09-12T07:05:51.366Z"
   },
   {
    "duration": 72,
    "start_time": "2022-09-12T07:05:51.375Z"
   },
   {
    "duration": 583200,
    "start_time": "2022-09-12T07:05:51.450Z"
   },
   {
    "duration": 3708,
    "start_time": "2022-09-12T07:15:34.652Z"
   },
   {
    "duration": 247497,
    "start_time": "2022-09-12T07:15:38.362Z"
   },
   {
    "duration": 490,
    "start_time": "2022-09-12T07:19:45.860Z"
   },
   {
    "duration": 6,
    "start_time": "2022-09-12T07:19:46.353Z"
   },
   {
    "duration": 10,
    "start_time": "2022-09-12T07:19:46.361Z"
   },
   {
    "duration": 971582,
    "start_time": "2022-09-12T07:19:46.373Z"
   },
   {
    "duration": 105,
    "start_time": "2022-09-12T07:48:24.322Z"
   },
   {
    "duration": 1725,
    "start_time": "2022-09-12T07:48:29.717Z"
   },
   {
    "duration": 1080,
    "start_time": "2022-09-12T07:48:31.444Z"
   },
   {
    "duration": 13,
    "start_time": "2022-09-12T07:48:32.527Z"
   },
   {
    "duration": 968,
    "start_time": "2022-09-12T07:48:32.542Z"
   },
   {
    "duration": 124,
    "start_time": "2022-09-12T07:48:33.512Z"
   },
   {
    "duration": 147,
    "start_time": "2022-09-12T07:48:33.646Z"
   },
   {
    "duration": 1218,
    "start_time": "2022-09-12T07:48:33.795Z"
   },
   {
    "duration": 1058,
    "start_time": "2022-09-12T07:48:35.015Z"
   },
   {
    "duration": 59,
    "start_time": "2022-09-12T07:48:36.075Z"
   },
   {
    "duration": 162,
    "start_time": "2022-09-12T07:48:36.148Z"
   },
   {
    "duration": 179,
    "start_time": "2022-09-12T07:48:36.312Z"
   },
   {
    "duration": 83,
    "start_time": "2022-09-12T07:48:36.493Z"
   },
   {
    "duration": 57,
    "start_time": "2022-09-12T07:48:36.578Z"
   },
   {
    "duration": 152,
    "start_time": "2022-09-12T07:48:36.647Z"
   },
   {
    "duration": 5,
    "start_time": "2022-09-12T07:48:36.801Z"
   },
   {
    "duration": 17,
    "start_time": "2022-09-12T07:48:36.808Z"
   },
   {
    "duration": 3,
    "start_time": "2022-09-12T07:48:36.826Z"
   },
   {
    "duration": 151,
    "start_time": "2022-09-12T07:48:36.847Z"
   },
   {
    "duration": 18,
    "start_time": "2022-09-12T07:48:37.000Z"
   },
   {
    "duration": 99,
    "start_time": "2022-09-12T07:48:37.019Z"
   },
   {
    "duration": 6,
    "start_time": "2022-09-12T07:48:37.119Z"
   },
   {
    "duration": 21,
    "start_time": "2022-09-12T07:48:37.126Z"
   },
   {
    "duration": 817,
    "start_time": "2022-09-12T07:48:37.149Z"
   },
   {
    "duration": 2108,
    "start_time": "2022-09-12T07:48:38.046Z"
   },
   {
    "duration": 193,
    "start_time": "2022-09-12T07:48:40.157Z"
   },
   {
    "duration": 95,
    "start_time": "2022-09-12T07:48:40.353Z"
   },
   {
    "duration": 23,
    "start_time": "2022-09-12T07:48:40.449Z"
   },
   {
    "duration": 3041,
    "start_time": "2022-09-12T07:48:40.476Z"
   },
   {
    "duration": 843,
    "start_time": "2022-09-12T07:48:43.519Z"
   },
   {
    "duration": 1610,
    "start_time": "2022-09-12T07:48:44.364Z"
   },
   {
    "duration": 24,
    "start_time": "2022-09-12T07:48:45.975Z"
   },
   {
    "duration": 4,
    "start_time": "2022-09-12T07:48:46.001Z"
   },
   {
    "duration": 8,
    "start_time": "2022-09-12T07:48:46.007Z"
   },
   {
    "duration": 1393,
    "start_time": "2022-09-12T07:48:59.596Z"
   },
   {
    "duration": 849,
    "start_time": "2022-09-12T07:49:00.991Z"
   },
   {
    "duration": 4,
    "start_time": "2022-09-12T07:49:01.847Z"
   },
   {
    "duration": 1060,
    "start_time": "2022-09-12T07:49:01.853Z"
   },
   {
    "duration": 132,
    "start_time": "2022-09-12T07:49:02.915Z"
   },
   {
    "duration": 147,
    "start_time": "2022-09-12T07:49:03.049Z"
   },
   {
    "duration": 1216,
    "start_time": "2022-09-12T07:49:03.197Z"
   },
   {
    "duration": 962,
    "start_time": "2022-09-12T07:49:04.415Z"
   },
   {
    "duration": 72,
    "start_time": "2022-09-12T07:49:05.379Z"
   },
   {
    "duration": 145,
    "start_time": "2022-09-12T07:49:05.454Z"
   },
   {
    "duration": 156,
    "start_time": "2022-09-12T07:49:05.601Z"
   },
   {
    "duration": 89,
    "start_time": "2022-09-12T07:49:05.759Z"
   },
   {
    "duration": 61,
    "start_time": "2022-09-12T07:49:05.850Z"
   },
   {
    "duration": 166,
    "start_time": "2022-09-12T07:49:05.912Z"
   },
   {
    "duration": 4,
    "start_time": "2022-09-12T07:49:06.080Z"
   },
   {
    "duration": 20,
    "start_time": "2022-09-12T07:49:06.086Z"
   },
   {
    "duration": 2,
    "start_time": "2022-09-12T07:49:06.108Z"
   },
   {
    "duration": 185,
    "start_time": "2022-09-12T07:49:06.112Z"
   },
   {
    "duration": 21,
    "start_time": "2022-09-12T07:49:06.299Z"
   },
   {
    "duration": 116,
    "start_time": "2022-09-12T07:49:06.322Z"
   },
   {
    "duration": 11,
    "start_time": "2022-09-12T07:49:06.440Z"
   },
   {
    "duration": 17,
    "start_time": "2022-09-12T07:49:06.453Z"
   },
   {
    "duration": 884,
    "start_time": "2022-09-12T07:49:06.472Z"
   },
   {
    "duration": 2388,
    "start_time": "2022-09-12T07:49:07.359Z"
   },
   {
    "duration": 100,
    "start_time": "2022-09-12T07:49:09.750Z"
   },
   {
    "duration": 96,
    "start_time": "2022-09-12T07:49:09.852Z"
   },
   {
    "duration": 5,
    "start_time": "2022-09-12T07:49:09.951Z"
   },
   {
    "duration": 3122,
    "start_time": "2022-09-12T07:49:09.961Z"
   },
   {
    "duration": 840,
    "start_time": "2022-09-12T07:49:13.085Z"
   },
   {
    "duration": 1620,
    "start_time": "2022-09-12T07:49:13.927Z"
   },
   {
    "duration": 22,
    "start_time": "2022-09-12T07:49:15.549Z"
   },
   {
    "duration": 4,
    "start_time": "2022-09-12T07:49:15.573Z"
   },
   {
    "duration": 7,
    "start_time": "2022-09-12T07:49:15.579Z"
   },
   {
    "duration": 173136,
    "start_time": "2022-09-12T07:49:15.587Z"
   },
   {
    "duration": 63314,
    "start_time": "2022-09-12T07:52:08.725Z"
   },
   {
    "duration": 119237,
    "start_time": "2022-09-12T07:53:12.041Z"
   },
   {
    "duration": 1719,
    "start_time": "2022-09-12T07:55:11.280Z"
   },
   {
    "duration": 5,
    "start_time": "2022-09-12T07:55:13.001Z"
   },
   {
    "duration": 40,
    "start_time": "2022-09-12T07:55:13.008Z"
   },
   {
    "duration": 335810,
    "start_time": "2022-09-12T07:55:13.050Z"
   },
   {
    "duration": 110211,
    "start_time": "2022-09-12T08:00:48.862Z"
   },
   {
    "duration": 231277,
    "start_time": "2022-09-12T08:02:39.075Z"
   },
   {
    "duration": 414,
    "start_time": "2022-09-12T08:06:30.354Z"
   },
   {
    "duration": 80,
    "start_time": "2022-09-12T08:06:30.769Z"
   },
   {
    "duration": 26,
    "start_time": "2022-09-12T08:06:30.851Z"
   },
   {
    "duration": 22767,
    "start_time": "2022-09-12T08:06:30.879Z"
   },
   {
    "duration": 19210,
    "start_time": "2022-09-12T08:06:53.648Z"
   },
   {
    "duration": 23591,
    "start_time": "2022-09-12T08:07:12.860Z"
   },
   {
    "duration": 494,
    "start_time": "2022-09-12T08:07:36.453Z"
   },
   {
    "duration": 6,
    "start_time": "2022-09-12T08:07:36.949Z"
   },
   {
    "duration": 5,
    "start_time": "2022-09-12T08:08:14.102Z"
   },
   {
    "duration": 1627,
    "start_time": "2022-09-12T08:08:50.362Z"
   },
   {
    "duration": 816,
    "start_time": "2022-09-12T08:08:51.991Z"
   },
   {
    "duration": 5,
    "start_time": "2022-09-12T08:08:52.808Z"
   },
   {
    "duration": 1009,
    "start_time": "2022-09-12T08:08:52.815Z"
   },
   {
    "duration": 133,
    "start_time": "2022-09-12T08:08:53.825Z"
   },
   {
    "duration": 149,
    "start_time": "2022-09-12T08:08:53.959Z"
   },
   {
    "duration": 1205,
    "start_time": "2022-09-12T08:08:54.110Z"
   },
   {
    "duration": 1006,
    "start_time": "2022-09-12T08:08:55.316Z"
   },
   {
    "duration": 79,
    "start_time": "2022-09-12T08:08:56.323Z"
   },
   {
    "duration": 169,
    "start_time": "2022-09-12T08:08:56.404Z"
   },
   {
    "duration": 154,
    "start_time": "2022-09-12T08:08:56.575Z"
   },
   {
    "duration": 84,
    "start_time": "2022-09-12T08:08:56.730Z"
   },
   {
    "duration": 63,
    "start_time": "2022-09-12T08:08:56.816Z"
   },
   {
    "duration": 166,
    "start_time": "2022-09-12T08:08:56.881Z"
   },
   {
    "duration": 5,
    "start_time": "2022-09-12T08:08:57.048Z"
   },
   {
    "duration": 24,
    "start_time": "2022-09-12T08:08:57.054Z"
   },
   {
    "duration": 3,
    "start_time": "2022-09-12T08:08:57.079Z"
   },
   {
    "duration": 153,
    "start_time": "2022-09-12T08:08:57.084Z"
   },
   {
    "duration": 24,
    "start_time": "2022-09-12T08:08:57.239Z"
   },
   {
    "duration": 95,
    "start_time": "2022-09-12T08:08:57.265Z"
   },
   {
    "duration": 9,
    "start_time": "2022-09-12T08:08:57.361Z"
   },
   {
    "duration": 24,
    "start_time": "2022-09-12T08:08:57.371Z"
   },
   {
    "duration": 860,
    "start_time": "2022-09-12T08:08:57.396Z"
   },
   {
    "duration": 2390,
    "start_time": "2022-09-12T08:08:58.258Z"
   },
   {
    "duration": 99,
    "start_time": "2022-09-12T08:09:00.651Z"
   },
   {
    "duration": 197,
    "start_time": "2022-09-12T08:09:00.753Z"
   },
   {
    "duration": 17,
    "start_time": "2022-09-12T08:09:00.951Z"
   },
   {
    "duration": 3547,
    "start_time": "2022-09-12T08:09:00.971Z"
   },
   {
    "duration": 907,
    "start_time": "2022-09-12T08:09:04.520Z"
   },
   {
    "duration": 1781,
    "start_time": "2022-09-12T08:09:05.428Z"
   },
   {
    "duration": 23,
    "start_time": "2022-09-12T08:09:07.211Z"
   },
   {
    "duration": 14,
    "start_time": "2022-09-12T08:09:07.235Z"
   },
   {
    "duration": 7,
    "start_time": "2022-09-12T08:09:07.251Z"
   },
   {
    "duration": 958350,
    "start_time": "2022-09-12T08:09:07.260Z"
   },
   {
    "duration": 224819,
    "start_time": "2022-09-12T08:25:05.612Z"
   },
   {
    "duration": 413681,
    "start_time": "2022-09-12T08:28:50.433Z"
   },
   {
    "duration": 5948,
    "start_time": "2022-09-12T08:35:44.115Z"
   },
   {
    "duration": 5,
    "start_time": "2022-09-12T08:35:50.066Z"
   },
   {
    "duration": 11,
    "start_time": "2022-09-12T08:35:50.073Z"
   },
   {
    "duration": 1437,
    "start_time": "2022-09-12T11:42:46.539Z"
   },
   {
    "duration": 849,
    "start_time": "2022-09-12T11:42:47.978Z"
   },
   {
    "duration": 5,
    "start_time": "2022-09-12T11:42:48.829Z"
   },
   {
    "duration": 1087,
    "start_time": "2022-09-12T11:42:48.835Z"
   },
   {
    "duration": 135,
    "start_time": "2022-09-12T11:42:49.925Z"
   },
   {
    "duration": 170,
    "start_time": "2022-09-12T11:42:50.062Z"
   },
   {
    "duration": 1239,
    "start_time": "2022-09-12T11:42:50.234Z"
   },
   {
    "duration": 972,
    "start_time": "2022-09-12T11:42:51.474Z"
   },
   {
    "duration": 60,
    "start_time": "2022-09-12T11:42:52.448Z"
   },
   {
    "duration": 150,
    "start_time": "2022-09-12T11:42:52.510Z"
   },
   {
    "duration": 164,
    "start_time": "2022-09-12T11:42:52.662Z"
   },
   {
    "duration": 91,
    "start_time": "2022-09-12T11:42:52.827Z"
   },
   {
    "duration": 64,
    "start_time": "2022-09-12T11:42:52.920Z"
   },
   {
    "duration": 194,
    "start_time": "2022-09-12T11:42:52.987Z"
   },
   {
    "duration": 5,
    "start_time": "2022-09-12T11:42:53.183Z"
   },
   {
    "duration": 60,
    "start_time": "2022-09-12T11:42:53.190Z"
   },
   {
    "duration": 3,
    "start_time": "2022-09-12T11:42:53.251Z"
   },
   {
    "duration": 183,
    "start_time": "2022-09-12T11:42:53.256Z"
   },
   {
    "duration": 22,
    "start_time": "2022-09-12T11:42:53.440Z"
   },
   {
    "duration": 90,
    "start_time": "2022-09-12T11:42:53.464Z"
   },
   {
    "duration": 7,
    "start_time": "2022-09-12T11:42:53.556Z"
   },
   {
    "duration": 19,
    "start_time": "2022-09-12T11:42:53.564Z"
   },
   {
    "duration": 1065,
    "start_time": "2022-09-12T11:42:53.585Z"
   },
   {
    "duration": 2701,
    "start_time": "2022-09-12T11:42:54.652Z"
   },
   {
    "duration": 100,
    "start_time": "2022-09-12T11:42:57.355Z"
   },
   {
    "duration": 100,
    "start_time": "2022-09-12T11:42:57.458Z"
   },
   {
    "duration": 87,
    "start_time": "2022-09-12T11:42:57.562Z"
   },
   {
    "duration": 3442,
    "start_time": "2022-09-12T11:42:57.651Z"
   },
   {
    "duration": 972,
    "start_time": "2022-09-12T11:43:01.095Z"
   },
   {
    "duration": 1798,
    "start_time": "2022-09-12T11:43:02.069Z"
   },
   {
    "duration": 23,
    "start_time": "2022-09-12T11:43:03.869Z"
   },
   {
    "duration": 6,
    "start_time": "2022-09-12T11:43:03.893Z"
   },
   {
    "duration": 8,
    "start_time": "2022-09-12T11:43:03.900Z"
   },
   {
    "duration": 985187,
    "start_time": "2022-09-12T11:43:03.910Z"
   },
   {
    "duration": 224021,
    "start_time": "2022-09-12T11:59:29.099Z"
   },
   {
    "duration": 436332,
    "start_time": "2022-09-12T12:03:13.122Z"
   },
   {
    "duration": 5846,
    "start_time": "2022-09-12T12:10:29.456Z"
   },
   {
    "duration": 5,
    "start_time": "2022-09-12T12:10:35.304Z"
   },
   {
    "duration": 17,
    "start_time": "2022-09-12T12:10:35.311Z"
   },
   {
    "duration": 1086983,
    "start_time": "2022-09-12T12:10:35.330Z"
   },
   {
    "duration": 178075,
    "start_time": "2022-09-12T12:28:42.316Z"
   },
   {
    "duration": 343467,
    "start_time": "2022-09-12T12:31:40.392Z"
   },
   {
    "duration": 702,
    "start_time": "2022-09-12T12:37:23.861Z"
   },
   {
    "duration": 5,
    "start_time": "2022-09-12T12:37:24.565Z"
   },
   {
    "duration": 14,
    "start_time": "2022-09-12T12:37:24.572Z"
   },
   {
    "duration": 153961,
    "start_time": "2022-09-12T12:37:24.587Z"
   },
   {
    "duration": 16506,
    "start_time": "2022-09-12T12:39:58.550Z"
   },
   {
    "duration": 41590,
    "start_time": "2022-09-12T12:40:15.058Z"
   },
   {
    "duration": 1819,
    "start_time": "2022-09-12T12:40:56.650Z"
   },
   {
    "duration": 5,
    "start_time": "2022-09-12T12:41:10.943Z"
   },
   {
    "duration": 5,
    "start_time": "2022-09-12T12:41:13.437Z"
   },
   {
    "duration": 113,
    "start_time": "2022-09-12T12:53:10.434Z"
   },
   {
    "duration": 1799,
    "start_time": "2022-09-12T12:55:10.233Z"
   },
   {
    "duration": 1113,
    "start_time": "2022-09-12T12:55:12.034Z"
   },
   {
    "duration": 5,
    "start_time": "2022-09-12T12:55:13.149Z"
   },
   {
    "duration": 1119,
    "start_time": "2022-09-12T12:55:13.156Z"
   },
   {
    "duration": 137,
    "start_time": "2022-09-12T12:55:14.276Z"
   },
   {
    "duration": 173,
    "start_time": "2022-09-12T12:55:14.415Z"
   },
   {
    "duration": 1285,
    "start_time": "2022-09-12T12:55:14.590Z"
   },
   {
    "duration": 1055,
    "start_time": "2022-09-12T12:55:15.876Z"
   },
   {
    "duration": 64,
    "start_time": "2022-09-12T12:55:16.933Z"
   },
   {
    "duration": 146,
    "start_time": "2022-09-12T12:55:17.000Z"
   },
   {
    "duration": 158,
    "start_time": "2022-09-12T12:55:17.148Z"
   },
   {
    "duration": 97,
    "start_time": "2022-09-12T12:55:17.307Z"
   },
   {
    "duration": 66,
    "start_time": "2022-09-12T12:55:17.406Z"
   },
   {
    "duration": 163,
    "start_time": "2022-09-12T12:55:17.474Z"
   },
   {
    "duration": 9,
    "start_time": "2022-09-12T12:55:17.638Z"
   },
   {
    "duration": 23,
    "start_time": "2022-09-12T12:55:17.649Z"
   },
   {
    "duration": 16,
    "start_time": "2022-09-12T12:55:17.674Z"
   },
   {
    "duration": 30,
    "start_time": "2022-09-12T12:55:17.691Z"
   },
   {
    "duration": 24,
    "start_time": "2022-09-12T12:55:17.723Z"
   },
   {
    "duration": 11,
    "start_time": "2022-09-12T12:55:17.749Z"
   },
   {
    "duration": 5,
    "start_time": "2022-09-12T12:55:17.762Z"
   },
   {
    "duration": 12,
    "start_time": "2022-09-12T12:55:17.768Z"
   },
   {
    "duration": 167,
    "start_time": "2022-09-12T12:55:17.782Z"
   },
   {
    "duration": 795,
    "start_time": "2022-09-12T12:55:17.952Z"
   },
   {
    "duration": 12,
    "start_time": "2022-09-12T12:55:18.749Z"
   },
   {
    "duration": 101,
    "start_time": "2022-09-12T12:55:18.848Z"
   },
   {
    "duration": 14,
    "start_time": "2022-09-12T12:55:18.950Z"
   },
   {
    "duration": 223,
    "start_time": "2022-09-12T12:55:18.969Z"
   },
   {
    "duration": 54,
    "start_time": "2022-09-12T12:55:19.193Z"
   },
   {
    "duration": 132,
    "start_time": "2022-09-12T12:55:19.249Z"
   },
   {
    "duration": 7,
    "start_time": "2022-09-12T12:55:19.383Z"
   },
   {
    "duration": 8,
    "start_time": "2022-09-12T12:55:19.392Z"
   },
   {
    "duration": 9,
    "start_time": "2022-09-12T12:55:19.402Z"
   },
   {
    "duration": 51059,
    "start_time": "2022-09-12T12:55:19.412Z"
   },
   {
    "duration": 10179,
    "start_time": "2022-09-12T12:56:10.473Z"
   },
   {
    "duration": 20053,
    "start_time": "2022-09-12T12:56:20.653Z"
   },
   {
    "duration": 296,
    "start_time": "2022-09-12T12:56:40.712Z"
   },
   {
    "duration": 4,
    "start_time": "2022-09-12T12:56:41.010Z"
   },
   {
    "duration": 8,
    "start_time": "2022-09-12T12:56:41.016Z"
   },
   {
    "duration": 1587,
    "start_time": "2022-09-12T13:03:53.796Z"
   },
   {
    "duration": 921,
    "start_time": "2022-09-12T13:03:55.385Z"
   },
   {
    "duration": 9,
    "start_time": "2022-09-12T13:03:56.308Z"
   },
   {
    "duration": 1126,
    "start_time": "2022-09-12T13:03:56.319Z"
   },
   {
    "duration": 161,
    "start_time": "2022-09-12T13:03:57.449Z"
   },
   {
    "duration": 169,
    "start_time": "2022-09-12T13:03:57.612Z"
   },
   {
    "duration": 1265,
    "start_time": "2022-09-12T13:03:57.782Z"
   },
   {
    "duration": 985,
    "start_time": "2022-09-12T13:03:59.051Z"
   },
   {
    "duration": 77,
    "start_time": "2022-09-12T13:04:00.039Z"
   },
   {
    "duration": 179,
    "start_time": "2022-09-12T13:04:00.119Z"
   },
   {
    "duration": 183,
    "start_time": "2022-09-12T13:04:00.300Z"
   },
   {
    "duration": 98,
    "start_time": "2022-09-12T13:04:00.485Z"
   },
   {
    "duration": 70,
    "start_time": "2022-09-12T13:04:00.585Z"
   },
   {
    "duration": 186,
    "start_time": "2022-09-12T13:04:00.661Z"
   },
   {
    "duration": 7,
    "start_time": "2022-09-12T13:04:00.850Z"
   },
   {
    "duration": 55,
    "start_time": "2022-09-12T13:04:00.860Z"
   },
   {
    "duration": 13,
    "start_time": "2022-09-12T13:04:00.916Z"
   },
   {
    "duration": 182,
    "start_time": "2022-09-12T13:04:00.931Z"
   },
   {
    "duration": 20,
    "start_time": "2022-09-12T13:04:01.115Z"
   },
   {
    "duration": 110,
    "start_time": "2022-09-12T13:04:01.137Z"
   },
   {
    "duration": 10,
    "start_time": "2022-09-12T13:04:01.250Z"
   },
   {
    "duration": 35,
    "start_time": "2022-09-12T13:04:01.263Z"
   },
   {
    "duration": 1459,
    "start_time": "2022-09-12T13:04:01.299Z"
   },
   {
    "duration": 4387,
    "start_time": "2022-09-12T13:04:02.761Z"
   },
   {
    "duration": 101,
    "start_time": "2022-09-12T13:04:07.152Z"
   },
   {
    "duration": 143,
    "start_time": "2022-09-12T13:04:07.258Z"
   },
   {
    "duration": 31,
    "start_time": "2022-09-12T13:04:07.403Z"
   },
   {
    "duration": 3740,
    "start_time": "2022-09-12T13:04:07.436Z"
   },
   {
    "duration": 988,
    "start_time": "2022-09-12T13:04:11.178Z"
   },
   {
    "duration": 1726,
    "start_time": "2022-09-12T13:04:12.169Z"
   },
   {
    "duration": 24,
    "start_time": "2022-09-12T13:04:13.898Z"
   },
   {
    "duration": 5,
    "start_time": "2022-09-12T13:04:13.923Z"
   },
   {
    "duration": 5,
    "start_time": "2022-09-12T13:04:13.946Z"
   },
   {
    "duration": 949706,
    "start_time": "2022-09-12T13:04:13.953Z"
   },
   {
    "duration": 229663,
    "start_time": "2022-09-12T13:20:03.661Z"
   },
   {
    "duration": 402515,
    "start_time": "2022-09-12T13:23:53.326Z"
   },
   {
    "duration": 5454,
    "start_time": "2022-09-12T13:30:35.842Z"
   },
   {
    "duration": 5,
    "start_time": "2022-09-12T13:30:41.298Z"
   },
   {
    "duration": 6,
    "start_time": "2022-09-12T13:30:41.306Z"
   },
   {
    "duration": 2228799,
    "start_time": "2022-09-12T13:30:41.314Z"
   },
   {
    "duration": 181704,
    "start_time": "2022-09-12T14:07:50.117Z"
   },
   {
    "duration": 1683,
    "start_time": "2022-09-12T14:15:14.287Z"
   },
   {
    "duration": 929,
    "start_time": "2022-09-12T14:15:15.972Z"
   },
   {
    "duration": 5,
    "start_time": "2022-09-12T14:15:16.904Z"
   },
   {
    "duration": 1135,
    "start_time": "2022-09-12T14:15:16.910Z"
   },
   {
    "duration": 131,
    "start_time": "2022-09-12T14:15:18.048Z"
   },
   {
    "duration": 162,
    "start_time": "2022-09-12T14:15:18.181Z"
   },
   {
    "duration": 1317,
    "start_time": "2022-09-12T14:15:18.346Z"
   },
   {
    "duration": 1004,
    "start_time": "2022-09-12T14:15:19.665Z"
   },
   {
    "duration": 60,
    "start_time": "2022-09-12T14:15:20.671Z"
   },
   {
    "duration": 150,
    "start_time": "2022-09-12T14:15:20.732Z"
   },
   {
    "duration": 163,
    "start_time": "2022-09-12T14:15:20.884Z"
   },
   {
    "duration": 81,
    "start_time": "2022-09-12T14:15:21.049Z"
   },
   {
    "duration": 72,
    "start_time": "2022-09-12T14:15:21.132Z"
   },
   {
    "duration": 163,
    "start_time": "2022-09-12T14:15:21.207Z"
   },
   {
    "duration": 5,
    "start_time": "2022-09-12T14:15:21.371Z"
   },
   {
    "duration": 28,
    "start_time": "2022-09-12T14:15:21.378Z"
   },
   {
    "duration": 2,
    "start_time": "2022-09-12T14:15:21.408Z"
   },
   {
    "duration": 168,
    "start_time": "2022-09-12T14:15:21.412Z"
   },
   {
    "duration": 19,
    "start_time": "2022-09-12T14:15:21.582Z"
   },
   {
    "duration": 98,
    "start_time": "2022-09-12T14:15:21.603Z"
   },
   {
    "duration": 6,
    "start_time": "2022-09-12T14:15:21.702Z"
   },
   {
    "duration": 13,
    "start_time": "2022-09-12T14:15:21.710Z"
   },
   {
    "duration": 844,
    "start_time": "2022-09-12T14:15:21.724Z"
   },
   {
    "duration": 2310,
    "start_time": "2022-09-12T14:15:22.648Z"
   },
   {
    "duration": 185,
    "start_time": "2022-09-12T14:15:24.962Z"
   },
   {
    "duration": 101,
    "start_time": "2022-09-12T14:15:25.149Z"
   },
   {
    "duration": 24,
    "start_time": "2022-09-12T14:15:25.252Z"
   },
   {
    "duration": 3195,
    "start_time": "2022-09-12T14:15:25.278Z"
   },
   {
    "duration": 838,
    "start_time": "2022-09-12T14:15:28.475Z"
   },
   {
    "duration": 1705,
    "start_time": "2022-09-12T14:15:29.315Z"
   },
   {
    "duration": 34,
    "start_time": "2022-09-12T14:15:31.021Z"
   },
   {
    "duration": 5,
    "start_time": "2022-09-12T14:15:31.057Z"
   },
   {
    "duration": 14,
    "start_time": "2022-09-12T14:15:31.064Z"
   },
   {
    "duration": 3397805,
    "start_time": "2022-09-12T14:15:31.080Z"
   },
   {
    "duration": 241334,
    "start_time": "2022-09-12T15:12:08.887Z"
   },
   {
    "duration": 455271,
    "start_time": "2022-09-12T15:16:10.222Z"
   },
   {
    "duration": 6508,
    "start_time": "2022-09-12T15:23:45.495Z"
   },
   {
    "duration": 5,
    "start_time": "2022-09-12T15:23:52.005Z"
   },
   {
    "duration": 9,
    "start_time": "2022-09-12T15:23:52.011Z"
   },
   {
    "duration": 1499,
    "start_time": "2022-09-12T15:24:39.076Z"
   },
   {
    "duration": 825,
    "start_time": "2022-09-12T15:24:40.577Z"
   },
   {
    "duration": 5,
    "start_time": "2022-09-12T15:24:41.404Z"
   },
   {
    "duration": 1138,
    "start_time": "2022-09-12T15:24:41.411Z"
   },
   {
    "duration": 124,
    "start_time": "2022-09-12T15:24:42.551Z"
   },
   {
    "duration": 159,
    "start_time": "2022-09-12T15:24:42.677Z"
   },
   {
    "duration": 1317,
    "start_time": "2022-09-12T15:24:42.838Z"
   },
   {
    "duration": 1114,
    "start_time": "2022-09-12T15:24:44.160Z"
   },
   {
    "duration": 58,
    "start_time": "2022-09-12T15:24:45.275Z"
   },
   {
    "duration": 173,
    "start_time": "2022-09-12T15:24:45.335Z"
   },
   {
    "duration": 193,
    "start_time": "2022-09-12T15:24:45.510Z"
   },
   {
    "duration": 88,
    "start_time": "2022-09-12T15:24:45.705Z"
   },
   {
    "duration": 65,
    "start_time": "2022-09-12T15:24:45.794Z"
   },
   {
    "duration": 160,
    "start_time": "2022-09-12T15:24:45.860Z"
   },
   {
    "duration": 4,
    "start_time": "2022-09-12T15:24:46.022Z"
   },
   {
    "duration": 40,
    "start_time": "2022-09-12T15:24:46.028Z"
   },
   {
    "duration": 3,
    "start_time": "2022-09-12T15:24:46.071Z"
   },
   {
    "duration": 190,
    "start_time": "2022-09-12T15:24:46.076Z"
   },
   {
    "duration": 26,
    "start_time": "2022-09-12T15:24:46.268Z"
   },
   {
    "duration": 115,
    "start_time": "2022-09-12T15:24:46.296Z"
   },
   {
    "duration": 7,
    "start_time": "2022-09-12T15:24:46.413Z"
   },
   {
    "duration": 19,
    "start_time": "2022-09-12T15:24:46.422Z"
   },
   {
    "duration": 1802,
    "start_time": "2022-09-12T15:24:46.449Z"
   },
   {
    "duration": 3510,
    "start_time": "2022-09-12T15:24:48.254Z"
   },
   {
    "duration": 191,
    "start_time": "2022-09-12T15:24:51.766Z"
   },
   {
    "duration": 99,
    "start_time": "2022-09-12T15:24:52.047Z"
   },
   {
    "duration": 6,
    "start_time": "2022-09-12T15:24:52.148Z"
   },
   {
    "duration": 3233,
    "start_time": "2022-09-12T15:24:52.160Z"
   },
   {
    "duration": 971,
    "start_time": "2022-09-12T15:24:55.395Z"
   },
   {
    "duration": 1921,
    "start_time": "2022-09-12T15:24:56.368Z"
   },
   {
    "duration": 22,
    "start_time": "2022-09-12T15:24:58.290Z"
   },
   {
    "duration": 5,
    "start_time": "2022-09-12T15:24:58.313Z"
   },
   {
    "duration": 7,
    "start_time": "2022-09-12T15:24:58.319Z"
   },
   {
    "duration": 192,
    "start_time": "2022-09-12T15:24:58.328Z"
   },
   {
    "duration": 57,
    "start_time": "2022-09-12T15:24:58.521Z"
   },
   {
    "duration": 78,
    "start_time": "2022-09-12T15:24:58.580Z"
   },
   {
    "duration": 60,
    "start_time": "2022-09-12T15:24:58.660Z"
   },
   {
    "duration": 4,
    "start_time": "2022-09-12T15:24:58.722Z"
   },
   {
    "duration": 10,
    "start_time": "2022-09-12T15:24:58.728Z"
   },
   {
    "duration": 66,
    "start_time": "2022-09-12T15:24:58.739Z"
   },
   {
    "duration": 63,
    "start_time": "2022-09-12T15:24:58.807Z"
   },
   {
    "duration": 61,
    "start_time": "2022-09-12T15:24:58.872Z"
   },
   {
    "duration": 61,
    "start_time": "2022-09-12T15:24:58.934Z"
   },
   {
    "duration": 5,
    "start_time": "2022-09-12T15:24:58.997Z"
   },
   {
    "duration": 14,
    "start_time": "2022-09-12T15:24:59.004Z"
   },
   {
    "duration": 85,
    "start_time": "2022-09-12T15:24:59.019Z"
   },
   {
    "duration": 66,
    "start_time": "2022-09-12T15:24:59.106Z"
   },
   {
    "duration": 59,
    "start_time": "2022-09-12T15:24:59.174Z"
   },
   {
    "duration": 58,
    "start_time": "2022-09-12T15:24:59.234Z"
   },
   {
    "duration": 6,
    "start_time": "2022-09-12T15:24:59.294Z"
   },
   {
    "duration": 25,
    "start_time": "2022-09-12T15:24:59.301Z"
   },
   {
    "duration": 86,
    "start_time": "2022-09-12T15:24:59.328Z"
   },
   {
    "duration": 70,
    "start_time": "2022-09-12T15:24:59.416Z"
   },
   {
    "duration": 4,
    "start_time": "2022-09-12T15:24:59.488Z"
   },
   {
    "duration": 0,
    "start_time": "2022-09-12T15:24:59.493Z"
   },
   {
    "duration": 0,
    "start_time": "2022-09-12T15:24:59.495Z"
   },
   {
    "duration": 0,
    "start_time": "2022-09-12T15:24:59.496Z"
   },
   {
    "duration": 0,
    "start_time": "2022-09-12T15:24:59.497Z"
   },
   {
    "duration": 0,
    "start_time": "2022-09-12T15:24:59.498Z"
   },
   {
    "duration": 0,
    "start_time": "2022-09-12T15:24:59.499Z"
   },
   {
    "duration": 0,
    "start_time": "2022-09-12T15:24:59.500Z"
   },
   {
    "duration": 0,
    "start_time": "2022-09-12T15:24:59.501Z"
   },
   {
    "duration": 0,
    "start_time": "2022-09-12T15:24:59.502Z"
   },
   {
    "duration": 1574,
    "start_time": "2022-09-12T15:27:43.185Z"
   },
   {
    "duration": 912,
    "start_time": "2022-09-12T15:27:44.762Z"
   },
   {
    "duration": 7,
    "start_time": "2022-09-12T15:27:45.675Z"
   },
   {
    "duration": 1162,
    "start_time": "2022-09-12T15:27:45.684Z"
   },
   {
    "duration": 155,
    "start_time": "2022-09-12T15:27:46.848Z"
   },
   {
    "duration": 171,
    "start_time": "2022-09-12T15:27:47.004Z"
   },
   {
    "duration": 1306,
    "start_time": "2022-09-12T15:27:47.177Z"
   },
   {
    "duration": 1043,
    "start_time": "2022-09-12T15:27:48.485Z"
   },
   {
    "duration": 64,
    "start_time": "2022-09-12T15:27:49.529Z"
   },
   {
    "duration": 145,
    "start_time": "2022-09-12T15:27:49.595Z"
   },
   {
    "duration": 170,
    "start_time": "2022-09-12T15:27:49.749Z"
   },
   {
    "duration": 94,
    "start_time": "2022-09-12T15:27:49.920Z"
   },
   {
    "duration": 78,
    "start_time": "2022-09-12T15:27:50.016Z"
   },
   {
    "duration": 176,
    "start_time": "2022-09-12T15:27:50.096Z"
   },
   {
    "duration": 4,
    "start_time": "2022-09-12T15:27:50.274Z"
   },
   {
    "duration": 20,
    "start_time": "2022-09-12T15:27:50.280Z"
   },
   {
    "duration": 2,
    "start_time": "2022-09-12T15:27:50.302Z"
   },
   {
    "duration": 151,
    "start_time": "2022-09-12T15:27:50.305Z"
   },
   {
    "duration": 20,
    "start_time": "2022-09-12T15:27:50.459Z"
   },
   {
    "duration": 97,
    "start_time": "2022-09-12T15:27:50.481Z"
   },
   {
    "duration": 6,
    "start_time": "2022-09-12T15:27:50.579Z"
   },
   {
    "duration": 16,
    "start_time": "2022-09-12T15:27:50.586Z"
   },
   {
    "duration": 1662,
    "start_time": "2022-09-12T15:27:50.604Z"
   },
   {
    "duration": 4599,
    "start_time": "2022-09-12T15:27:52.349Z"
   },
   {
    "duration": 102,
    "start_time": "2022-09-12T15:27:56.951Z"
   },
   {
    "duration": 208,
    "start_time": "2022-09-12T15:27:57.055Z"
   },
   {
    "duration": 12,
    "start_time": "2022-09-12T15:27:57.265Z"
   },
   {
    "duration": 3415,
    "start_time": "2022-09-12T15:27:57.281Z"
   },
   {
    "duration": 1000,
    "start_time": "2022-09-12T15:28:00.698Z"
   },
   {
    "duration": 1931,
    "start_time": "2022-09-12T15:28:01.700Z"
   },
   {
    "duration": 39,
    "start_time": "2022-09-12T15:28:03.633Z"
   },
   {
    "duration": 6,
    "start_time": "2022-09-12T15:28:03.675Z"
   },
   {
    "duration": 14,
    "start_time": "2022-09-12T15:28:03.683Z"
   },
   {
    "duration": 1055027,
    "start_time": "2022-09-12T15:28:03.699Z"
   },
   {
    "duration": 242166,
    "start_time": "2022-09-12T15:45:38.728Z"
   },
   {
    "duration": 449666,
    "start_time": "2022-09-12T15:49:40.895Z"
   },
   {
    "duration": 6546,
    "start_time": "2022-09-12T15:57:10.564Z"
   },
   {
    "duration": 4,
    "start_time": "2022-09-12T15:57:17.112Z"
   },
   {
    "duration": 9,
    "start_time": "2022-09-12T15:57:17.118Z"
   },
   {
    "duration": 3279587,
    "start_time": "2022-09-12T15:57:17.128Z"
   },
   {
    "duration": 520665,
    "start_time": "2022-09-12T16:51:56.717Z"
   },
   {
    "duration": 447688,
    "start_time": "2022-09-12T17:00:37.384Z"
   },
   {
    "duration": 804,
    "start_time": "2022-09-12T17:08:05.073Z"
   },
   {
    "duration": 6,
    "start_time": "2022-09-12T17:08:05.878Z"
   },
   {
    "duration": 9,
    "start_time": "2022-09-12T17:08:05.885Z"
   },
   {
    "duration": 1678,
    "start_time": "2022-09-12T17:08:52.157Z"
   },
   {
    "duration": 1478,
    "start_time": "2022-09-12T23:36:10.143Z"
   },
   {
    "duration": 3201,
    "start_time": "2022-09-12T23:36:11.623Z"
   },
   {
    "duration": 5,
    "start_time": "2022-09-12T23:36:14.825Z"
   },
   {
    "duration": 875,
    "start_time": "2022-09-12T23:36:14.831Z"
   },
   {
    "duration": 102,
    "start_time": "2022-09-12T23:36:15.709Z"
   },
   {
    "duration": 139,
    "start_time": "2022-09-12T23:36:15.813Z"
   },
   {
    "duration": 1129,
    "start_time": "2022-09-12T23:36:15.954Z"
   },
   {
    "duration": 943,
    "start_time": "2022-09-12T23:36:17.084Z"
   },
   {
    "duration": 53,
    "start_time": "2022-09-12T23:36:18.029Z"
   },
   {
    "duration": 124,
    "start_time": "2022-09-12T23:36:18.083Z"
   },
   {
    "duration": 143,
    "start_time": "2022-09-12T23:36:18.209Z"
   },
   {
    "duration": 71,
    "start_time": "2022-09-12T23:36:18.354Z"
   },
   {
    "duration": 44,
    "start_time": "2022-09-12T23:36:18.427Z"
   },
   {
    "duration": 135,
    "start_time": "2022-09-12T23:36:18.473Z"
   },
   {
    "duration": 4,
    "start_time": "2022-09-12T23:36:18.609Z"
   },
   {
    "duration": 18,
    "start_time": "2022-09-12T23:36:18.614Z"
   },
   {
    "duration": 2,
    "start_time": "2022-09-12T23:36:18.633Z"
   },
   {
    "duration": 146,
    "start_time": "2022-09-12T23:36:18.636Z"
   },
   {
    "duration": 23,
    "start_time": "2022-09-12T23:36:18.784Z"
   },
   {
    "duration": 76,
    "start_time": "2022-09-12T23:36:18.808Z"
   },
   {
    "duration": 5,
    "start_time": "2022-09-12T23:36:18.885Z"
   },
   {
    "duration": 9,
    "start_time": "2022-09-12T23:36:18.905Z"
   },
   {
    "duration": 797,
    "start_time": "2022-09-12T23:36:18.916Z"
   },
   {
    "duration": 1995,
    "start_time": "2022-09-12T23:36:19.715Z"
   },
   {
    "duration": 96,
    "start_time": "2022-09-12T23:36:21.712Z"
   },
   {
    "duration": 98,
    "start_time": "2022-09-12T23:36:21.810Z"
   },
   {
    "duration": 95,
    "start_time": "2022-09-12T23:36:21.910Z"
   },
   {
    "duration": 3006,
    "start_time": "2022-09-12T23:36:22.007Z"
   },
   {
    "duration": 731,
    "start_time": "2022-09-12T23:36:25.015Z"
   },
   {
    "duration": 1407,
    "start_time": "2022-09-12T23:36:25.748Z"
   },
   {
    "duration": 21,
    "start_time": "2022-09-12T23:36:27.156Z"
   },
   {
    "duration": 4,
    "start_time": "2022-09-12T23:36:27.178Z"
   },
   {
    "duration": 5,
    "start_time": "2022-09-12T23:36:27.184Z"
   },
   {
    "duration": 619923,
    "start_time": "2022-09-12T23:36:27.205Z"
   },
   {
    "duration": 106,
    "start_time": "2022-09-12T23:46:47.129Z"
   },
   {
    "duration": 80,
    "start_time": "2022-09-12T23:46:47.237Z"
   },
   {
    "duration": 85,
    "start_time": "2022-09-12T23:46:47.319Z"
   },
   {
    "duration": 6,
    "start_time": "2022-09-12T23:46:47.406Z"
   },
   {
    "duration": 14,
    "start_time": "2022-09-12T23:46:47.413Z"
   },
   {
    "duration": 1435,
    "start_time": "2022-09-12T23:47:12.379Z"
   },
   {
    "duration": 168,
    "start_time": "2022-09-12T23:47:17.489Z"
   },
   {
    "duration": 5,
    "start_time": "2022-09-12T23:47:23.621Z"
   },
   {
    "duration": 762,
    "start_time": "2022-09-12T23:47:23.897Z"
   },
   {
    "duration": 4,
    "start_time": "2022-09-12T23:47:24.661Z"
   },
   {
    "duration": 914,
    "start_time": "2022-09-12T23:47:24.667Z"
   },
   {
    "duration": 103,
    "start_time": "2022-09-12T23:47:25.583Z"
   },
   {
    "duration": 133,
    "start_time": "2022-09-12T23:47:25.688Z"
   },
   {
    "duration": 1117,
    "start_time": "2022-09-12T23:47:25.822Z"
   },
   {
    "duration": 954,
    "start_time": "2022-09-12T23:47:26.940Z"
   },
   {
    "duration": 63,
    "start_time": "2022-09-12T23:47:27.895Z"
   },
   {
    "duration": 119,
    "start_time": "2022-09-12T23:47:27.959Z"
   },
   {
    "duration": 139,
    "start_time": "2022-09-12T23:47:28.080Z"
   },
   {
    "duration": 68,
    "start_time": "2022-09-12T23:47:28.220Z"
   },
   {
    "duration": 55,
    "start_time": "2022-09-12T23:47:28.289Z"
   },
   {
    "duration": 131,
    "start_time": "2022-09-12T23:47:28.345Z"
   },
   {
    "duration": 3,
    "start_time": "2022-09-12T23:47:28.478Z"
   },
   {
    "duration": 24,
    "start_time": "2022-09-12T23:47:28.482Z"
   },
   {
    "duration": 2,
    "start_time": "2022-09-12T23:47:28.507Z"
   },
   {
    "duration": 130,
    "start_time": "2022-09-12T23:47:28.511Z"
   },
   {
    "duration": 16,
    "start_time": "2022-09-12T23:47:28.643Z"
   },
   {
    "duration": 87,
    "start_time": "2022-09-12T23:47:32.712Z"
   },
   {
    "duration": 104,
    "start_time": "2022-09-12T23:47:37.254Z"
   },
   {
    "duration": 13,
    "start_time": "2022-09-12T23:47:48.304Z"
   },
   {
    "duration": 74,
    "start_time": "2022-09-12T23:47:48.691Z"
   },
   {
    "duration": 5,
    "start_time": "2022-09-12T23:47:49.043Z"
   },
   {
    "duration": 10,
    "start_time": "2022-09-12T23:47:49.426Z"
   },
   {
    "duration": 1320,
    "start_time": "2022-09-12T23:48:08.468Z"
   },
   {
    "duration": 723,
    "start_time": "2022-09-12T23:48:09.789Z"
   },
   {
    "duration": 4,
    "start_time": "2022-09-12T23:48:10.513Z"
   },
   {
    "duration": 894,
    "start_time": "2022-09-12T23:48:10.519Z"
   },
   {
    "duration": 104,
    "start_time": "2022-09-12T23:48:11.415Z"
   },
   {
    "duration": 136,
    "start_time": "2022-09-12T23:48:11.521Z"
   },
   {
    "duration": 1108,
    "start_time": "2022-09-12T23:48:11.659Z"
   },
   {
    "duration": 867,
    "start_time": "2022-09-12T23:48:12.768Z"
   },
   {
    "duration": 45,
    "start_time": "2022-09-12T23:48:13.637Z"
   },
   {
    "duration": 111,
    "start_time": "2022-09-12T23:48:13.684Z"
   },
   {
    "duration": 134,
    "start_time": "2022-09-12T23:48:13.805Z"
   },
   {
    "duration": 68,
    "start_time": "2022-09-12T23:48:13.940Z"
   },
   {
    "duration": 44,
    "start_time": "2022-09-12T23:48:14.010Z"
   },
   {
    "duration": 134,
    "start_time": "2022-09-12T23:48:14.055Z"
   },
   {
    "duration": 4,
    "start_time": "2022-09-12T23:48:14.190Z"
   },
   {
    "duration": 16,
    "start_time": "2022-09-12T23:48:14.205Z"
   },
   {
    "duration": 3,
    "start_time": "2022-09-12T23:48:14.223Z"
   },
   {
    "duration": 142,
    "start_time": "2022-09-12T23:48:14.228Z"
   },
   {
    "duration": 17,
    "start_time": "2022-09-12T23:48:14.372Z"
   },
   {
    "duration": 85,
    "start_time": "2022-09-12T23:48:14.391Z"
   },
   {
    "duration": 4,
    "start_time": "2022-09-12T23:48:14.478Z"
   },
   {
    "duration": 22,
    "start_time": "2022-09-12T23:48:14.484Z"
   },
   {
    "duration": 802,
    "start_time": "2022-09-12T23:48:14.507Z"
   },
   {
    "duration": 1998,
    "start_time": "2022-09-12T23:48:15.311Z"
   },
   {
    "duration": 100,
    "start_time": "2022-09-12T23:48:17.312Z"
   },
   {
    "duration": 100,
    "start_time": "2022-09-12T23:48:17.413Z"
   },
   {
    "duration": 8,
    "start_time": "2022-09-12T23:48:17.605Z"
   },
   {
    "duration": 2857,
    "start_time": "2022-09-12T23:48:17.616Z"
   },
   {
    "duration": 814,
    "start_time": "2022-09-12T23:48:20.475Z"
   },
   {
    "duration": 1547,
    "start_time": "2022-09-12T23:48:21.290Z"
   },
   {
    "duration": 24,
    "start_time": "2022-09-12T23:48:22.838Z"
   },
   {
    "duration": 5,
    "start_time": "2022-09-12T23:48:22.864Z"
   },
   {
    "duration": 7,
    "start_time": "2022-09-12T23:48:22.870Z"
   },
   {
    "duration": 854930,
    "start_time": "2022-09-12T23:48:22.879Z"
   },
   {
    "duration": 201861,
    "start_time": "2022-09-13T00:02:37.811Z"
   },
   {
    "duration": 380981,
    "start_time": "2022-09-13T00:05:59.674Z"
   },
   {
    "duration": 5985,
    "start_time": "2022-09-13T00:12:20.657Z"
   },
   {
    "duration": 5,
    "start_time": "2022-09-13T00:12:26.643Z"
   },
   {
    "duration": 24,
    "start_time": "2022-09-13T00:12:26.649Z"
   },
   {
    "duration": 1131934,
    "start_time": "2022-09-13T00:12:26.675Z"
   },
   {
    "duration": 197420,
    "start_time": "2022-09-13T00:31:18.611Z"
   },
   {
    "duration": 348139,
    "start_time": "2022-09-13T00:34:36.033Z"
   },
   {
    "duration": 632,
    "start_time": "2022-09-13T00:40:24.174Z"
   },
   {
    "duration": 4,
    "start_time": "2022-09-13T00:40:24.808Z"
   },
   {
    "duration": 5,
    "start_time": "2022-09-13T00:40:24.814Z"
   },
   {
    "duration": 103493,
    "start_time": "2022-09-13T00:40:24.821Z"
   },
   {
    "duration": 17402,
    "start_time": "2022-09-13T00:42:08.316Z"
   },
   {
    "duration": 34710,
    "start_time": "2022-09-13T00:42:25.719Z"
   },
   {
    "duration": 1797,
    "start_time": "2022-09-13T00:43:00.431Z"
   },
   {
    "duration": 8,
    "start_time": "2022-09-13T00:43:02.229Z"
   },
   {
    "duration": 16,
    "start_time": "2022-09-13T00:43:02.238Z"
   },
   {
    "duration": 146293,
    "start_time": "2022-09-13T00:43:02.255Z"
   },
   {
    "duration": 55,
    "start_time": "2022-09-13T00:45:28.550Z"
   },
   {
    "duration": 0,
    "start_time": "2022-09-13T00:45:28.607Z"
   },
   {
    "duration": 0,
    "start_time": "2022-09-13T00:45:28.608Z"
   },
   {
    "duration": 0,
    "start_time": "2022-09-13T00:45:28.609Z"
   },
   {
    "duration": 0,
    "start_time": "2022-09-13T00:45:28.610Z"
   },
   {
    "duration": 0,
    "start_time": "2022-09-13T00:45:28.611Z"
   },
   {
    "duration": 0,
    "start_time": "2022-09-13T00:45:28.612Z"
   },
   {
    "duration": 0,
    "start_time": "2022-09-13T00:45:28.613Z"
   },
   {
    "duration": 0,
    "start_time": "2022-09-13T00:45:28.614Z"
   },
   {
    "duration": 0,
    "start_time": "2022-09-13T00:45:28.615Z"
   },
   {
    "duration": 163,
    "start_time": "2022-09-13T00:46:11.570Z"
   },
   {
    "duration": 1560,
    "start_time": "2022-09-13T00:46:22.884Z"
   },
   {
    "duration": 2837,
    "start_time": "2022-09-13T00:46:24.445Z"
   },
   {
    "duration": 6,
    "start_time": "2022-09-13T00:46:27.283Z"
   },
   {
    "duration": 950,
    "start_time": "2022-09-13T00:46:27.292Z"
   },
   {
    "duration": 108,
    "start_time": "2022-09-13T00:46:28.244Z"
   },
   {
    "duration": 135,
    "start_time": "2022-09-13T00:46:28.354Z"
   },
   {
    "duration": 1107,
    "start_time": "2022-09-13T00:46:28.490Z"
   },
   {
    "duration": 880,
    "start_time": "2022-09-13T00:46:29.599Z"
   },
   {
    "duration": 48,
    "start_time": "2022-09-13T00:46:30.481Z"
   },
   {
    "duration": 114,
    "start_time": "2022-09-13T00:46:30.531Z"
   },
   {
    "duration": 140,
    "start_time": "2022-09-13T00:46:30.647Z"
   },
   {
    "duration": 67,
    "start_time": "2022-09-13T00:46:30.789Z"
   },
   {
    "duration": 52,
    "start_time": "2022-09-13T00:46:30.858Z"
   },
   {
    "duration": 130,
    "start_time": "2022-09-13T00:46:30.912Z"
   },
   {
    "duration": 3,
    "start_time": "2022-09-13T00:46:31.044Z"
   },
   {
    "duration": 21,
    "start_time": "2022-09-13T00:46:31.049Z"
   },
   {
    "duration": 3,
    "start_time": "2022-09-13T00:46:31.071Z"
   },
   {
    "duration": 146,
    "start_time": "2022-09-13T00:46:31.075Z"
   },
   {
    "duration": 17,
    "start_time": "2022-09-13T00:46:31.222Z"
   },
   {
    "duration": 93,
    "start_time": "2022-09-13T00:46:31.241Z"
   },
   {
    "duration": 4,
    "start_time": "2022-09-13T00:46:31.336Z"
   },
   {
    "duration": 14,
    "start_time": "2022-09-13T00:46:31.342Z"
   },
   {
    "duration": 761,
    "start_time": "2022-09-13T00:46:31.358Z"
   },
   {
    "duration": 2289,
    "start_time": "2022-09-13T00:46:32.121Z"
   },
   {
    "duration": 96,
    "start_time": "2022-09-13T00:46:34.412Z"
   },
   {
    "duration": 96,
    "start_time": "2022-09-13T00:46:34.510Z"
   },
   {
    "duration": 102,
    "start_time": "2022-09-13T00:46:34.607Z"
   },
   {
    "duration": 3678,
    "start_time": "2022-09-13T00:46:34.712Z"
   },
   {
    "duration": 744,
    "start_time": "2022-09-13T00:46:38.392Z"
   },
   {
    "duration": 1415,
    "start_time": "2022-09-13T00:46:39.138Z"
   },
   {
    "duration": 21,
    "start_time": "2022-09-13T00:46:40.555Z"
   },
   {
    "duration": 5,
    "start_time": "2022-09-13T00:46:40.577Z"
   },
   {
    "duration": 23,
    "start_time": "2022-09-13T00:46:40.583Z"
   },
   {
    "duration": 904141,
    "start_time": "2022-09-13T00:46:40.607Z"
   },
   {
    "duration": 229566,
    "start_time": "2022-09-13T01:01:44.750Z"
   },
   {
    "duration": 383514,
    "start_time": "2022-09-13T01:05:34.317Z"
   },
   {
    "duration": 5646,
    "start_time": "2022-09-13T01:11:57.834Z"
   },
   {
    "duration": 6,
    "start_time": "2022-09-13T01:12:03.482Z"
   },
   {
    "duration": 9,
    "start_time": "2022-09-13T01:12:03.489Z"
   },
   {
    "duration": 1150817,
    "start_time": "2022-09-13T01:12:03.506Z"
   },
   {
    "duration": 197091,
    "start_time": "2022-09-13T01:31:14.325Z"
   },
   {
    "duration": 326210,
    "start_time": "2022-09-13T01:34:31.418Z"
   },
   {
    "duration": 691,
    "start_time": "2022-09-13T01:39:57.629Z"
   },
   {
    "duration": 6,
    "start_time": "2022-09-13T01:39:58.321Z"
   },
   {
    "duration": 6,
    "start_time": "2022-09-13T01:39:58.328Z"
   },
   {
    "duration": 94178,
    "start_time": "2022-09-13T01:39:58.335Z"
   },
   {
    "duration": 15903,
    "start_time": "2022-09-13T01:41:32.515Z"
   },
   {
    "duration": 40387,
    "start_time": "2022-09-13T01:41:48.420Z"
   },
   {
    "duration": 1720,
    "start_time": "2022-09-13T01:42:28.809Z"
   },
   {
    "duration": 5,
    "start_time": "2022-09-13T01:42:30.531Z"
   },
   {
    "duration": 68,
    "start_time": "2022-09-13T01:42:30.538Z"
   },
   {
    "duration": 145350,
    "start_time": "2022-09-13T01:42:30.608Z"
   },
   {
    "duration": 113,
    "start_time": "2022-09-13T01:48:38.211Z"
   },
   {
    "duration": 1346,
    "start_time": "2022-09-13T01:48:47.759Z"
   },
   {
    "duration": 2834,
    "start_time": "2022-09-13T01:48:49.107Z"
   },
   {
    "duration": 6,
    "start_time": "2022-09-13T01:48:51.942Z"
   },
   {
    "duration": 961,
    "start_time": "2022-09-13T01:48:51.950Z"
   },
   {
    "duration": 100,
    "start_time": "2022-09-13T01:48:52.913Z"
   },
   {
    "duration": 139,
    "start_time": "2022-09-13T01:48:53.014Z"
   },
   {
    "duration": 1134,
    "start_time": "2022-09-13T01:48:53.155Z"
   },
   {
    "duration": 875,
    "start_time": "2022-09-13T01:48:54.290Z"
   },
   {
    "duration": 48,
    "start_time": "2022-09-13T01:48:55.166Z"
   },
   {
    "duration": 110,
    "start_time": "2022-09-13T01:48:55.216Z"
   },
   {
    "duration": 135,
    "start_time": "2022-09-13T01:48:55.328Z"
   },
   {
    "duration": 75,
    "start_time": "2022-09-13T01:48:55.464Z"
   },
   {
    "duration": 44,
    "start_time": "2022-09-13T01:48:55.541Z"
   },
   {
    "duration": 135,
    "start_time": "2022-09-13T01:48:55.587Z"
   },
   {
    "duration": 4,
    "start_time": "2022-09-13T01:48:55.724Z"
   },
   {
    "duration": 18,
    "start_time": "2022-09-13T01:48:55.730Z"
   },
   {
    "duration": 2,
    "start_time": "2022-09-13T01:48:55.750Z"
   },
   {
    "duration": 149,
    "start_time": "2022-09-13T01:48:55.753Z"
   },
   {
    "duration": 17,
    "start_time": "2022-09-13T01:48:55.905Z"
   },
   {
    "duration": 89,
    "start_time": "2022-09-13T01:48:55.924Z"
   },
   {
    "duration": 6,
    "start_time": "2022-09-13T01:48:56.014Z"
   },
   {
    "duration": 10,
    "start_time": "2022-09-13T01:48:56.022Z"
   },
   {
    "duration": 780,
    "start_time": "2022-09-13T01:48:56.033Z"
   },
   {
    "duration": 2098,
    "start_time": "2022-09-13T01:48:56.815Z"
   },
   {
    "duration": 98,
    "start_time": "2022-09-13T01:48:58.915Z"
   },
   {
    "duration": 91,
    "start_time": "2022-09-13T01:48:59.015Z"
   },
   {
    "duration": 7,
    "start_time": "2022-09-13T01:48:59.108Z"
   },
   {
    "duration": 2921,
    "start_time": "2022-09-13T01:48:59.204Z"
   },
   {
    "duration": 827,
    "start_time": "2022-09-13T01:49:02.127Z"
   },
   {
    "duration": 1502,
    "start_time": "2022-09-13T01:49:02.956Z"
   },
   {
    "duration": 21,
    "start_time": "2022-09-13T01:49:04.460Z"
   },
   {
    "duration": 5,
    "start_time": "2022-09-13T01:49:04.483Z"
   },
   {
    "duration": 17,
    "start_time": "2022-09-13T01:49:04.489Z"
   },
   {
    "duration": 889186,
    "start_time": "2022-09-13T01:49:04.507Z"
   },
   {
    "duration": 195990,
    "start_time": "2022-09-13T02:03:53.695Z"
   },
   {
    "duration": 376461,
    "start_time": "2022-09-13T02:07:09.686Z"
   },
   {
    "duration": 5690,
    "start_time": "2022-09-13T02:13:26.149Z"
   },
   {
    "duration": 5,
    "start_time": "2022-09-13T02:13:31.840Z"
   },
   {
    "duration": 10,
    "start_time": "2022-09-13T02:13:31.846Z"
   },
   {
    "duration": 957430,
    "start_time": "2022-09-13T02:13:31.857Z"
   },
   {
    "duration": 155927,
    "start_time": "2022-09-13T02:29:29.289Z"
   },
   {
    "duration": 384900,
    "start_time": "2022-09-13T02:32:05.217Z"
   },
   {
    "duration": 695,
    "start_time": "2022-09-13T02:38:30.119Z"
   },
   {
    "duration": 4,
    "start_time": "2022-09-13T02:38:30.816Z"
   },
   {
    "duration": 14,
    "start_time": "2022-09-13T02:38:30.822Z"
   },
   {
    "duration": 98076,
    "start_time": "2022-09-13T02:38:30.837Z"
   },
   {
    "duration": 18409,
    "start_time": "2022-09-13T02:40:08.915Z"
   },
   {
    "duration": 38425,
    "start_time": "2022-09-13T02:40:27.326Z"
   },
   {
    "duration": 1766,
    "start_time": "2022-09-13T02:41:05.753Z"
   },
   {
    "duration": 5,
    "start_time": "2022-09-13T02:41:07.520Z"
   },
   {
    "duration": 7,
    "start_time": "2022-09-13T02:41:07.526Z"
   },
   {
    "duration": 253,
    "start_time": "2022-09-13T09:35:58.325Z"
   },
   {
    "duration": 1721,
    "start_time": "2022-09-13T09:37:49.176Z"
   },
   {
    "duration": 2617,
    "start_time": "2022-09-13T09:37:50.899Z"
   },
   {
    "duration": 5,
    "start_time": "2022-09-13T09:37:53.518Z"
   },
   {
    "duration": 936,
    "start_time": "2022-09-13T09:37:53.525Z"
   },
   {
    "duration": 102,
    "start_time": "2022-09-13T09:37:54.462Z"
   },
   {
    "duration": 134,
    "start_time": "2022-09-13T09:37:54.565Z"
   },
   {
    "duration": 1172,
    "start_time": "2022-09-13T09:37:54.700Z"
   },
   {
    "duration": 911,
    "start_time": "2022-09-13T09:37:55.873Z"
   },
   {
    "duration": 49,
    "start_time": "2022-09-13T09:37:56.785Z"
   },
   {
    "duration": 117,
    "start_time": "2022-09-13T09:37:56.836Z"
   },
   {
    "duration": 144,
    "start_time": "2022-09-13T09:37:56.954Z"
   },
   {
    "duration": 69,
    "start_time": "2022-09-13T09:37:57.099Z"
   },
   {
    "duration": 56,
    "start_time": "2022-09-13T09:37:57.169Z"
   },
   {
    "duration": 160,
    "start_time": "2022-09-13T09:37:57.227Z"
   },
   {
    "duration": 5,
    "start_time": "2022-09-13T09:37:57.389Z"
   },
   {
    "duration": 30,
    "start_time": "2022-09-13T09:37:57.406Z"
   },
   {
    "duration": 2,
    "start_time": "2022-09-13T09:37:57.438Z"
   },
   {
    "duration": 183,
    "start_time": "2022-09-13T09:37:57.442Z"
   },
   {
    "duration": 19,
    "start_time": "2022-09-13T09:37:57.627Z"
   },
   {
    "duration": 97,
    "start_time": "2022-09-13T09:37:57.648Z"
   },
   {
    "duration": 6,
    "start_time": "2022-09-13T09:37:57.748Z"
   },
   {
    "duration": 23,
    "start_time": "2022-09-13T09:37:57.756Z"
   },
   {
    "duration": 1027,
    "start_time": "2022-09-13T09:37:57.781Z"
   },
   {
    "duration": 101,
    "start_time": "2022-09-13T09:37:58.810Z"
   },
   {
    "duration": 92,
    "start_time": "2022-09-13T09:37:58.913Z"
   },
   {
    "duration": 9,
    "start_time": "2022-09-13T09:37:59.007Z"
   },
   {
    "duration": 3037,
    "start_time": "2022-09-13T09:37:59.017Z"
   },
   {
    "duration": 834,
    "start_time": "2022-09-13T09:38:02.057Z"
   },
   {
    "duration": 27,
    "start_time": "2022-09-13T09:38:02.893Z"
   },
   {
    "duration": 5,
    "start_time": "2022-09-13T09:38:02.922Z"
   },
   {
    "duration": 5,
    "start_time": "2022-09-13T09:38:02.928Z"
   },
   {
    "duration": 864025,
    "start_time": "2022-09-13T09:38:02.935Z"
   },
   {
    "duration": 194686,
    "start_time": "2022-09-13T09:52:26.962Z"
   },
   {
    "duration": 4980,
    "start_time": "2022-09-13T09:55:41.650Z"
   },
   {
    "duration": 4,
    "start_time": "2022-09-13T09:55:46.632Z"
   },
   {
    "duration": 9,
    "start_time": "2022-09-13T09:55:46.638Z"
   },
   {
    "duration": 1306384,
    "start_time": "2022-09-13T09:55:46.648Z"
   },
   {
    "duration": 161403,
    "start_time": "2022-09-13T10:17:33.033Z"
   },
   {
    "duration": 677,
    "start_time": "2022-09-13T10:20:14.438Z"
   },
   {
    "duration": 4,
    "start_time": "2022-09-13T10:20:15.117Z"
   },
   {
    "duration": 10,
    "start_time": "2022-09-13T10:20:15.122Z"
   },
   {
    "duration": 108573,
    "start_time": "2022-09-13T10:20:15.133Z"
   },
   {
    "duration": 14104,
    "start_time": "2022-09-13T10:22:03.708Z"
   },
   {
    "duration": 1807,
    "start_time": "2022-09-13T10:22:17.814Z"
   },
   {
    "duration": 5,
    "start_time": "2022-09-13T10:22:19.622Z"
   },
   {
    "duration": 6,
    "start_time": "2022-09-13T10:22:19.628Z"
   },
   {
    "duration": 1646,
    "start_time": "2022-09-13T10:35:56.816Z"
   },
   {
    "duration": 2908,
    "start_time": "2022-09-13T10:35:58.464Z"
   },
   {
    "duration": 5,
    "start_time": "2022-09-13T10:36:01.374Z"
   },
   {
    "duration": 1048,
    "start_time": "2022-09-13T10:36:01.381Z"
   },
   {
    "duration": 135,
    "start_time": "2022-09-13T10:36:02.432Z"
   },
   {
    "duration": 160,
    "start_time": "2022-09-13T10:36:02.569Z"
   },
   {
    "duration": 1397,
    "start_time": "2022-09-13T10:36:02.732Z"
   },
   {
    "duration": 1048,
    "start_time": "2022-09-13T10:36:04.130Z"
   },
   {
    "duration": 62,
    "start_time": "2022-09-13T10:36:05.180Z"
   },
   {
    "duration": 126,
    "start_time": "2022-09-13T10:36:05.245Z"
   },
   {
    "duration": 167,
    "start_time": "2022-09-13T10:36:05.373Z"
   },
   {
    "duration": 88,
    "start_time": "2022-09-13T10:36:05.542Z"
   },
   {
    "duration": 47,
    "start_time": "2022-09-13T10:36:05.632Z"
   },
   {
    "duration": 152,
    "start_time": "2022-09-13T10:36:05.681Z"
   },
   {
    "duration": 5,
    "start_time": "2022-09-13T10:36:05.834Z"
   },
   {
    "duration": 19,
    "start_time": "2022-09-13T10:36:05.840Z"
   },
   {
    "duration": 2,
    "start_time": "2022-09-13T10:36:05.860Z"
   },
   {
    "duration": 179,
    "start_time": "2022-09-13T10:36:05.864Z"
   },
   {
    "duration": 18,
    "start_time": "2022-09-13T10:36:06.045Z"
   },
   {
    "duration": 107,
    "start_time": "2022-09-13T10:36:06.065Z"
   },
   {
    "duration": 5,
    "start_time": "2022-09-13T10:36:06.174Z"
   },
   {
    "duration": 25,
    "start_time": "2022-09-13T10:36:06.180Z"
   },
   {
    "duration": 1316,
    "start_time": "2022-09-13T10:36:06.207Z"
   },
   {
    "duration": 87,
    "start_time": "2022-09-13T10:36:07.532Z"
   },
   {
    "duration": 91,
    "start_time": "2022-09-13T10:36:07.620Z"
   },
   {
    "duration": 15,
    "start_time": "2022-09-13T10:36:07.713Z"
   },
   {
    "duration": 4631,
    "start_time": "2022-09-13T10:36:07.730Z"
   },
   {
    "duration": 956,
    "start_time": "2022-09-13T10:36:12.365Z"
   },
   {
    "duration": 28,
    "start_time": "2022-09-13T10:36:13.323Z"
   },
   {
    "duration": 5,
    "start_time": "2022-09-13T10:36:13.352Z"
   },
   {
    "duration": 8,
    "start_time": "2022-09-13T10:36:13.359Z"
   },
   {
    "duration": 969300,
    "start_time": "2022-09-13T10:36:13.368Z"
   },
   {
    "duration": 204551,
    "start_time": "2022-09-13T10:52:22.670Z"
   },
   {
    "duration": 5534,
    "start_time": "2022-09-13T10:55:47.223Z"
   },
   {
    "duration": 5,
    "start_time": "2022-09-13T10:55:52.759Z"
   },
   {
    "duration": 8,
    "start_time": "2022-09-13T10:55:52.765Z"
   },
   {
    "duration": 2193828,
    "start_time": "2022-09-13T10:55:52.774Z"
   },
   {
    "duration": 42227,
    "start_time": "2022-09-13T11:32:26.605Z"
   },
   {
    "duration": 86,
    "start_time": "2022-09-13T11:33:08.834Z"
   },
   {
    "duration": 5,
    "start_time": "2022-09-13T11:33:08.924Z"
   },
   {
    "duration": 9,
    "start_time": "2022-09-13T11:33:08.931Z"
   },
   {
    "duration": 456661,
    "start_time": "2022-09-13T11:33:08.942Z"
   },
   {
    "duration": 127,
    "start_time": "2022-09-13T11:40:45.604Z"
   },
   {
    "duration": 238,
    "start_time": "2022-09-13T11:40:45.733Z"
   },
   {
    "duration": 5,
    "start_time": "2022-09-13T11:40:45.972Z"
   },
   {
    "duration": 7,
    "start_time": "2022-09-13T11:40:45.978Z"
   },
   {
    "duration": 7,
    "start_time": "2022-09-13T11:40:45.987Z"
   },
   {
    "duration": 7,
    "start_time": "2022-09-13T11:40:45.995Z"
   },
   {
    "duration": 6,
    "start_time": "2022-09-13T11:40:46.003Z"
   },
   {
    "duration": 5,
    "start_time": "2022-09-13T11:40:46.011Z"
   },
   {
    "duration": 12,
    "start_time": "2022-09-13T11:40:46.017Z"
   },
   {
    "duration": 20,
    "start_time": "2022-09-13T11:40:46.031Z"
   },
   {
    "duration": 3,
    "start_time": "2022-09-13T11:40:46.052Z"
   },
   {
    "duration": 4,
    "start_time": "2022-09-13T11:40:46.056Z"
   },
   {
    "duration": 7,
    "start_time": "2022-09-13T11:40:46.062Z"
   },
   {
    "duration": 7,
    "start_time": "2022-09-13T11:40:46.070Z"
   },
   {
    "duration": 16,
    "start_time": "2022-09-13T11:40:46.078Z"
   },
   {
    "duration": 15,
    "start_time": "2022-09-13T11:40:46.109Z"
   },
   {
    "duration": 149,
    "start_time": "2022-09-13T11:40:46.131Z"
   },
   {
    "duration": 2007681,
    "start_time": "2022-09-13T11:40:54.454Z"
   },
   {
    "duration": 104,
    "start_time": "2022-09-13T12:14:22.138Z"
   },
   {
    "duration": 118,
    "start_time": "2022-09-13T12:14:22.244Z"
   },
   {
    "duration": 4,
    "start_time": "2022-09-13T12:14:22.364Z"
   },
   {
    "duration": 37,
    "start_time": "2022-09-13T12:14:22.369Z"
   },
   {
    "duration": 3,
    "start_time": "2022-09-13T12:14:22.408Z"
   },
   {
    "duration": 21,
    "start_time": "2022-09-13T12:14:22.413Z"
   },
   {
    "duration": 3,
    "start_time": "2022-09-13T12:14:26.002Z"
   },
   {
    "duration": 3,
    "start_time": "2022-09-13T12:14:27.407Z"
   },
   {
    "duration": 161,
    "start_time": "2022-09-13T12:14:27.863Z"
   },
   {
    "duration": 2,
    "start_time": "2022-09-13T12:14:28.466Z"
   },
   {
    "duration": 2,
    "start_time": "2022-09-13T12:14:33.046Z"
   },
   {
    "duration": 8,
    "start_time": "2022-09-13T12:14:37.384Z"
   },
   {
    "duration": 1533,
    "start_time": "2022-09-13T12:15:04.163Z"
   },
   {
    "duration": 854,
    "start_time": "2022-09-13T12:15:05.698Z"
   },
   {
    "duration": 6,
    "start_time": "2022-09-13T12:15:06.560Z"
   },
   {
    "duration": 1097,
    "start_time": "2022-09-13T12:15:06.568Z"
   },
   {
    "duration": 116,
    "start_time": "2022-09-13T12:15:07.667Z"
   },
   {
    "duration": 182,
    "start_time": "2022-09-13T12:15:07.785Z"
   },
   {
    "duration": 1318,
    "start_time": "2022-09-13T12:15:07.969Z"
   },
   {
    "duration": 1051,
    "start_time": "2022-09-13T12:15:09.289Z"
   },
   {
    "duration": 49,
    "start_time": "2022-09-13T12:15:10.342Z"
   },
   {
    "duration": 129,
    "start_time": "2022-09-13T12:15:10.394Z"
   },
   {
    "duration": 160,
    "start_time": "2022-09-13T12:15:10.525Z"
   },
   {
    "duration": 73,
    "start_time": "2022-09-13T12:15:10.687Z"
   },
   {
    "duration": 57,
    "start_time": "2022-09-13T12:15:10.762Z"
   },
   {
    "duration": 163,
    "start_time": "2022-09-13T12:15:10.821Z"
   },
   {
    "duration": 4,
    "start_time": "2022-09-13T12:15:10.985Z"
   },
   {
    "duration": 41,
    "start_time": "2022-09-13T12:15:10.990Z"
   },
   {
    "duration": 2,
    "start_time": "2022-09-13T12:15:11.033Z"
   },
   {
    "duration": 152,
    "start_time": "2022-09-13T12:15:11.036Z"
   },
   {
    "duration": 25,
    "start_time": "2022-09-13T12:15:11.191Z"
   },
   {
    "duration": 93,
    "start_time": "2022-09-13T12:15:11.218Z"
   },
   {
    "duration": 7,
    "start_time": "2022-09-13T12:15:11.313Z"
   },
   {
    "duration": 25,
    "start_time": "2022-09-13T12:15:11.322Z"
   },
   {
    "duration": 1659,
    "start_time": "2022-09-13T12:15:11.349Z"
   },
   {
    "duration": 20,
    "start_time": "2022-09-13T12:15:13.010Z"
   },
   {
    "duration": 8,
    "start_time": "2022-09-13T12:15:13.107Z"
   },
   {
    "duration": 92,
    "start_time": "2022-09-13T12:15:13.117Z"
   },
   {
    "duration": 4337,
    "start_time": "2022-09-13T12:15:13.212Z"
   },
   {
    "duration": 999,
    "start_time": "2022-09-13T12:15:17.553Z"
   },
   {
    "duration": 23,
    "start_time": "2022-09-13T12:15:18.553Z"
   },
   {
    "duration": 6,
    "start_time": "2022-09-13T12:15:18.577Z"
   },
   {
    "duration": 26,
    "start_time": "2022-09-13T12:15:18.584Z"
   },
   {
    "duration": 942877,
    "start_time": "2022-09-13T12:15:18.612Z"
   },
   {
    "duration": 209588,
    "start_time": "2022-09-13T12:31:01.491Z"
   },
   {
    "duration": 5591,
    "start_time": "2022-09-13T12:34:31.081Z"
   },
   {
    "duration": 5,
    "start_time": "2022-09-13T12:34:36.674Z"
   },
   {
    "duration": 8,
    "start_time": "2022-09-13T12:34:36.681Z"
   },
   {
    "duration": 874341,
    "start_time": "2022-09-13T12:34:36.690Z"
   },
   {
    "duration": 170635,
    "start_time": "2022-09-13T12:49:11.033Z"
   },
   {
    "duration": 641,
    "start_time": "2022-09-13T12:52:01.670Z"
   },
   {
    "duration": 8,
    "start_time": "2022-09-13T12:52:02.313Z"
   },
   {
    "duration": 6,
    "start_time": "2022-09-13T12:52:02.322Z"
   },
   {
    "duration": 221481,
    "start_time": "2022-09-13T12:52:02.329Z"
   },
   {
    "duration": 13800,
    "start_time": "2022-09-13T12:55:43.812Z"
   },
   {
    "duration": 1823,
    "start_time": "2022-09-13T12:55:57.614Z"
   },
   {
    "duration": 5,
    "start_time": "2022-09-13T12:55:59.439Z"
   },
   {
    "duration": 7,
    "start_time": "2022-09-13T12:55:59.445Z"
   },
   {
    "duration": 53,
    "start_time": "2022-09-13T12:55:59.453Z"
   },
   {
    "duration": 19,
    "start_time": "2022-09-13T12:55:59.507Z"
   },
   {
    "duration": 2,
    "start_time": "2022-09-13T12:55:59.528Z"
   },
   {
    "duration": 9,
    "start_time": "2022-09-13T12:55:59.532Z"
   },
   {
    "duration": 6,
    "start_time": "2022-09-13T12:55:59.543Z"
   },
   {
    "duration": 9,
    "start_time": "2022-09-13T12:55:59.550Z"
   },
   {
    "duration": 20,
    "start_time": "2022-09-13T13:10:16.965Z"
   },
   {
    "duration": 3189,
    "start_time": "2022-09-13T13:11:18.062Z"
   },
   {
    "duration": 24,
    "start_time": "2022-09-13T13:11:31.759Z"
   },
   {
    "duration": 101,
    "start_time": "2022-09-13T13:11:33.020Z"
   },
   {
    "duration": 3219,
    "start_time": "2022-09-13T13:11:48.518Z"
   },
   {
    "duration": 27,
    "start_time": "2022-09-13T13:11:51.796Z"
   },
   {
    "duration": 6,
    "start_time": "2022-09-13T13:11:54.149Z"
   },
   {
    "duration": 25,
    "start_time": "2022-09-13T13:12:00.373Z"
   },
   {
    "duration": 6,
    "start_time": "2022-09-13T13:15:24.090Z"
   },
   {
    "duration": 6,
    "start_time": "2022-09-13T13:15:34.272Z"
   },
   {
    "duration": 3110,
    "start_time": "2022-09-13T13:21:58.156Z"
   },
   {
    "duration": 24,
    "start_time": "2022-09-13T13:22:01.267Z"
   },
   {
    "duration": 6,
    "start_time": "2022-09-13T13:22:01.561Z"
   },
   {
    "duration": 7,
    "start_time": "2022-09-13T13:22:04.184Z"
   },
   {
    "duration": 21,
    "start_time": "2022-09-13T13:24:44.741Z"
   },
   {
    "duration": 3286,
    "start_time": "2022-09-13T13:24:45.192Z"
   },
   {
    "duration": 27,
    "start_time": "2022-09-13T13:24:48.480Z"
   },
   {
    "duration": 10,
    "start_time": "2022-09-13T13:24:48.509Z"
   },
   {
    "duration": 16,
    "start_time": "2022-09-13T13:24:48.521Z"
   },
   {
    "duration": 1940,
    "start_time": "2022-09-14T09:54:44.590Z"
   },
   {
    "duration": 1182,
    "start_time": "2022-09-14T09:54:46.532Z"
   },
   {
    "duration": 6,
    "start_time": "2022-09-14T09:54:47.716Z"
   },
   {
    "duration": 937,
    "start_time": "2022-09-14T09:54:47.724Z"
   },
   {
    "duration": 100,
    "start_time": "2022-09-14T09:54:48.663Z"
   },
   {
    "duration": 177,
    "start_time": "2022-09-14T09:54:48.765Z"
   },
   {
    "duration": 1314,
    "start_time": "2022-09-14T09:54:48.944Z"
   },
   {
    "duration": 908,
    "start_time": "2022-09-14T09:54:50.260Z"
   },
   {
    "duration": 61,
    "start_time": "2022-09-14T09:54:54.362Z"
   },
   {
    "duration": 206,
    "start_time": "2022-09-14T09:54:55.153Z"
   },
   {
    "duration": 208,
    "start_time": "2022-09-14T09:55:16.524Z"
   },
   {
    "duration": 86,
    "start_time": "2022-09-14T09:55:17.007Z"
   },
   {
    "duration": 85,
    "start_time": "2022-09-14T09:55:17.643Z"
   },
   {
    "duration": 148,
    "start_time": "2022-09-14T09:55:18.360Z"
   },
   {
    "duration": 6,
    "start_time": "2022-09-14T09:55:18.716Z"
   },
   {
    "duration": 18,
    "start_time": "2022-09-14T09:55:19.308Z"
   },
   {
    "duration": 123,
    "start_time": "2022-09-14T09:55:55.797Z"
   },
   {
    "duration": 4,
    "start_time": "2022-09-14T10:02:23.556Z"
   },
   {
    "duration": 884,
    "start_time": "2022-09-14T10:02:23.880Z"
   },
   {
    "duration": 6,
    "start_time": "2022-09-14T10:02:24.766Z"
   },
   {
    "duration": 8,
    "start_time": "2022-09-14T10:02:24.774Z"
   },
   {
    "duration": 163,
    "start_time": "2022-09-14T10:02:24.784Z"
   },
   {
    "duration": 168,
    "start_time": "2022-09-14T10:02:24.949Z"
   },
   {
    "duration": 1378,
    "start_time": "2022-09-14T10:02:25.220Z"
   },
   {
    "duration": 964,
    "start_time": "2022-09-14T10:02:26.600Z"
   },
   {
    "duration": 67,
    "start_time": "2022-09-14T10:02:27.566Z"
   },
   {
    "duration": 126,
    "start_time": "2022-09-14T10:02:27.635Z"
   },
   {
    "duration": 149,
    "start_time": "2022-09-14T10:02:27.762Z"
   },
   {
    "duration": 72,
    "start_time": "2022-09-14T10:02:27.915Z"
   },
   {
    "duration": 63,
    "start_time": "2022-09-14T10:02:27.988Z"
   },
   {
    "duration": 147,
    "start_time": "2022-09-14T10:02:28.053Z"
   },
   {
    "duration": 223,
    "start_time": "2022-09-14T10:02:28.333Z"
   },
   {
    "duration": 4,
    "start_time": "2022-09-14T10:02:28.874Z"
   },
   {
    "duration": 15,
    "start_time": "2022-09-14T10:02:29.738Z"
   },
   {
    "duration": 1758,
    "start_time": "2022-09-14T10:02:43.923Z"
   },
   {
    "duration": 792,
    "start_time": "2022-09-14T10:02:45.682Z"
   },
   {
    "duration": 6,
    "start_time": "2022-09-14T10:02:46.476Z"
   },
   {
    "duration": 22,
    "start_time": "2022-09-14T10:02:46.485Z"
   },
   {
    "duration": 121,
    "start_time": "2022-09-14T10:02:46.509Z"
   },
   {
    "duration": 154,
    "start_time": "2022-09-14T10:02:46.631Z"
   },
   {
    "duration": 1469,
    "start_time": "2022-09-14T10:02:46.787Z"
   },
   {
    "duration": 1032,
    "start_time": "2022-09-14T10:02:48.258Z"
   },
   {
    "duration": 70,
    "start_time": "2022-09-14T10:02:49.293Z"
   },
   {
    "duration": 161,
    "start_time": "2022-09-14T10:02:49.365Z"
   },
   {
    "duration": 171,
    "start_time": "2022-09-14T10:02:49.529Z"
   },
   {
    "duration": 77,
    "start_time": "2022-09-14T10:02:49.704Z"
   },
   {
    "duration": 87,
    "start_time": "2022-09-14T10:02:49.783Z"
   },
   {
    "duration": 165,
    "start_time": "2022-09-14T10:02:50.697Z"
   },
   {
    "duration": 236,
    "start_time": "2022-09-14T10:02:50.864Z"
   },
   {
    "duration": 6,
    "start_time": "2022-09-14T10:02:51.102Z"
   },
   {
    "duration": 16,
    "start_time": "2022-09-14T10:02:52.624Z"
   },
   {
    "duration": 6,
    "start_time": "2022-09-14T10:06:00.624Z"
   },
   {
    "duration": 1633,
    "start_time": "2022-09-14T10:11:39.972Z"
   },
   {
    "duration": 869,
    "start_time": "2022-09-14T10:11:41.611Z"
   },
   {
    "duration": 6,
    "start_time": "2022-09-14T10:11:42.482Z"
   },
   {
    "duration": 19,
    "start_time": "2022-09-14T10:11:42.490Z"
   },
   {
    "duration": 140,
    "start_time": "2022-09-14T10:11:42.515Z"
   },
   {
    "duration": 170,
    "start_time": "2022-09-14T10:11:42.656Z"
   },
   {
    "duration": 1330,
    "start_time": "2022-09-14T10:11:42.828Z"
   },
   {
    "duration": 1092,
    "start_time": "2022-09-14T10:11:44.161Z"
   },
   {
    "duration": 52,
    "start_time": "2022-09-14T10:11:45.255Z"
   },
   {
    "duration": 137,
    "start_time": "2022-09-14T10:11:45.309Z"
   },
   {
    "duration": 165,
    "start_time": "2022-09-14T10:11:45.448Z"
   },
   {
    "duration": 80,
    "start_time": "2022-09-14T10:11:45.615Z"
   },
   {
    "duration": 59,
    "start_time": "2022-09-14T10:11:45.697Z"
   },
   {
    "duration": 196,
    "start_time": "2022-09-14T10:11:45.758Z"
   },
   {
    "duration": 297,
    "start_time": "2022-09-14T10:11:45.956Z"
   },
   {
    "duration": 6,
    "start_time": "2022-09-14T10:11:46.255Z"
   },
   {
    "duration": 25,
    "start_time": "2022-09-14T10:11:46.263Z"
   },
   {
    "duration": 4,
    "start_time": "2022-09-14T10:18:16.632Z"
   },
   {
    "duration": 5,
    "start_time": "2022-09-14T10:20:10.632Z"
   },
   {
    "duration": 783,
    "start_time": "2022-09-14T10:20:11.131Z"
   },
   {
    "duration": 9,
    "start_time": "2022-09-14T10:20:11.916Z"
   },
   {
    "duration": 13,
    "start_time": "2022-09-14T10:20:11.928Z"
   },
   {
    "duration": 120,
    "start_time": "2022-09-14T10:20:12.321Z"
   },
   {
    "duration": 227,
    "start_time": "2022-09-14T10:20:12.445Z"
   },
   {
    "duration": 1201,
    "start_time": "2022-09-14T10:20:12.693Z"
   },
   {
    "duration": 908,
    "start_time": "2022-09-14T10:20:13.900Z"
   },
   {
    "duration": 57,
    "start_time": "2022-09-14T10:20:14.810Z"
   },
   {
    "duration": 133,
    "start_time": "2022-09-14T10:20:14.869Z"
   },
   {
    "duration": 132,
    "start_time": "2022-09-14T10:20:15.006Z"
   },
   {
    "duration": 116,
    "start_time": "2022-09-14T10:20:15.140Z"
   },
   {
    "duration": 67,
    "start_time": "2022-09-14T10:20:15.257Z"
   },
   {
    "duration": 153,
    "start_time": "2022-09-14T10:20:15.337Z"
   },
   {
    "duration": 271,
    "start_time": "2022-09-14T10:20:15.492Z"
   },
   {
    "duration": 4,
    "start_time": "2022-09-14T10:20:15.765Z"
   },
   {
    "duration": 20,
    "start_time": "2022-09-14T10:20:15.905Z"
   },
   {
    "duration": 451,
    "start_time": "2022-09-14T10:20:57.452Z"
   },
   {
    "duration": 6,
    "start_time": "2022-09-14T10:21:02.583Z"
   },
   {
    "duration": 759,
    "start_time": "2022-09-14T10:21:02.834Z"
   },
   {
    "duration": 6,
    "start_time": "2022-09-14T10:21:03.599Z"
   },
   {
    "duration": 20,
    "start_time": "2022-09-14T10:21:03.607Z"
   },
   {
    "duration": 120,
    "start_time": "2022-09-14T10:21:03.629Z"
   },
   {
    "duration": 128,
    "start_time": "2022-09-14T10:21:03.751Z"
   },
   {
    "duration": 1496,
    "start_time": "2022-09-14T10:21:03.881Z"
   },
   {
    "duration": 956,
    "start_time": "2022-09-14T10:21:05.380Z"
   },
   {
    "duration": 45,
    "start_time": "2022-09-14T10:21:06.338Z"
   },
   {
    "duration": 152,
    "start_time": "2022-09-14T10:21:06.385Z"
   },
   {
    "duration": 149,
    "start_time": "2022-09-14T10:21:06.539Z"
   },
   {
    "duration": 230,
    "start_time": "2022-09-14T10:21:06.689Z"
   },
   {
    "duration": 53,
    "start_time": "2022-09-14T10:21:06.921Z"
   },
   {
    "duration": 141,
    "start_time": "2022-09-14T10:21:06.976Z"
   },
   {
    "duration": 264,
    "start_time": "2022-09-14T10:21:07.122Z"
   },
   {
    "duration": 4,
    "start_time": "2022-09-14T10:21:07.389Z"
   },
   {
    "duration": 27,
    "start_time": "2022-09-14T10:21:07.400Z"
   },
   {
    "duration": 2,
    "start_time": "2022-09-14T10:21:26.275Z"
   },
   {
    "duration": 447,
    "start_time": "2022-09-14T10:22:59.023Z"
   },
   {
    "duration": 15,
    "start_time": "2022-09-14T10:23:16.575Z"
   },
   {
    "duration": 448,
    "start_time": "2022-09-14T10:24:27.703Z"
   },
   {
    "duration": 451,
    "start_time": "2022-09-14T10:24:38.537Z"
   },
   {
    "duration": 600,
    "start_time": "2022-09-14T10:24:47.699Z"
   },
   {
    "duration": 22,
    "start_time": "2022-09-14T10:24:56.190Z"
   },
   {
    "duration": 16,
    "start_time": "2022-09-14T10:25:13.422Z"
   },
   {
    "duration": 324,
    "start_time": "2022-09-14T10:26:28.868Z"
   },
   {
    "duration": 10,
    "start_time": "2022-09-14T10:26:55.420Z"
   },
   {
    "duration": 16,
    "start_time": "2022-09-14T10:27:06.247Z"
   },
   {
    "duration": 65,
    "start_time": "2022-09-14T10:27:06.709Z"
   },
   {
    "duration": 10,
    "start_time": "2022-09-14T10:27:07.107Z"
   },
   {
    "duration": 13,
    "start_time": "2022-09-14T10:27:10.778Z"
   },
   {
    "duration": 50,
    "start_time": "2022-09-14T10:27:12.279Z"
   },
   {
    "duration": 54,
    "start_time": "2022-09-14T10:27:12.761Z"
   },
   {
    "duration": 5,
    "start_time": "2022-09-14T10:27:13.144Z"
   },
   {
    "duration": 7,
    "start_time": "2022-09-14T10:27:13.543Z"
   },
   {
    "duration": 3,
    "start_time": "2022-09-14T10:30:42.215Z"
   },
   {
    "duration": 1684,
    "start_time": "2022-09-14T10:55:47.010Z"
   },
   {
    "duration": 876,
    "start_time": "2022-09-14T10:55:48.695Z"
   },
   {
    "duration": 6,
    "start_time": "2022-09-14T10:55:49.573Z"
   },
   {
    "duration": 9,
    "start_time": "2022-09-14T10:55:49.581Z"
   },
   {
    "duration": 149,
    "start_time": "2022-09-14T10:55:49.592Z"
   },
   {
    "duration": 155,
    "start_time": "2022-09-14T10:55:49.743Z"
   },
   {
    "duration": 1384,
    "start_time": "2022-09-14T10:55:49.900Z"
   },
   {
    "duration": 1111,
    "start_time": "2022-09-14T10:55:51.286Z"
   },
   {
    "duration": 62,
    "start_time": "2022-09-14T10:55:52.399Z"
   },
   {
    "duration": 154,
    "start_time": "2022-09-14T10:55:52.463Z"
   },
   {
    "duration": 164,
    "start_time": "2022-09-14T10:55:52.619Z"
   },
   {
    "duration": 84,
    "start_time": "2022-09-14T10:55:52.785Z"
   },
   {
    "duration": 72,
    "start_time": "2022-09-14T10:55:52.871Z"
   },
   {
    "duration": 154,
    "start_time": "2022-09-14T10:55:52.946Z"
   },
   {
    "duration": 269,
    "start_time": "2022-09-14T10:55:53.107Z"
   },
   {
    "duration": 4,
    "start_time": "2022-09-14T10:55:53.378Z"
   },
   {
    "duration": 40,
    "start_time": "2022-09-14T10:55:53.385Z"
   },
   {
    "duration": 8,
    "start_time": "2022-09-14T10:55:53.428Z"
   },
   {
    "duration": 5,
    "start_time": "2022-09-14T10:55:53.439Z"
   },
   {
    "duration": 15,
    "start_time": "2022-09-14T10:55:53.446Z"
   },
   {
    "duration": 99,
    "start_time": "2022-09-14T10:55:53.464Z"
   },
   {
    "duration": 6,
    "start_time": "2022-09-14T10:55:53.565Z"
   },
   {
    "duration": 28,
    "start_time": "2022-09-14T10:55:53.573Z"
   },
   {
    "duration": 162,
    "start_time": "2022-09-14T10:55:53.603Z"
   },
   {
    "duration": 766,
    "start_time": "2022-09-14T10:55:53.767Z"
   },
   {
    "duration": 200,
    "start_time": "2022-09-14T10:55:54.538Z"
   },
   {
    "duration": 7,
    "start_time": "2022-09-14T10:55:54.741Z"
   },
   {
    "duration": 158,
    "start_time": "2022-09-14T10:55:54.749Z"
   },
   {
    "duration": 595,
    "start_time": "2022-09-14T10:55:54.909Z"
   },
   {
    "duration": 1140,
    "start_time": "2022-09-14T10:55:55.505Z"
   },
   {
    "duration": 228,
    "start_time": "2022-09-14T10:55:56.646Z"
   },
   {
    "duration": 13,
    "start_time": "2022-09-14T10:55:56.876Z"
   },
   {
    "duration": 8,
    "start_time": "2022-09-14T10:55:56.901Z"
   },
   {
    "duration": 19,
    "start_time": "2022-09-14T10:55:56.911Z"
   },
   {
    "duration": 396663,
    "start_time": "2022-09-14T10:55:56.932Z"
   },
   {
    "duration": 77551,
    "start_time": "2022-09-14T11:02:33.599Z"
   },
   {
    "duration": 3021,
    "start_time": "2022-09-14T11:03:51.152Z"
   },
   {
    "duration": 9,
    "start_time": "2022-09-14T11:03:54.176Z"
   },
   {
    "duration": 25,
    "start_time": "2022-09-14T11:03:54.189Z"
   },
   {
    "duration": 1573482,
    "start_time": "2022-09-14T11:03:54.216Z"
   },
   {
    "duration": 216981,
    "start_time": "2022-09-14T11:30:07.702Z"
   },
   {
    "duration": 269,
    "start_time": "2022-09-14T11:33:44.685Z"
   },
   {
    "duration": 56,
    "start_time": "2022-09-14T11:33:44.956Z"
   },
   {
    "duration": 27,
    "start_time": "2022-09-14T11:33:45.016Z"
   },
   {
    "duration": 7058670,
    "start_time": "2022-09-14T11:33:45.044Z"
   },
   {
    "duration": 697610,
    "start_time": "2022-09-14T13:31:23.716Z"
   },
   {
    "duration": 1397,
    "start_time": "2022-09-14T13:43:01.327Z"
   },
   {
    "duration": 5,
    "start_time": "2022-09-14T13:43:02.725Z"
   },
   {
    "duration": 71,
    "start_time": "2022-09-14T13:43:02.731Z"
   },
   {
    "duration": 8,
    "start_time": "2022-09-14T13:43:02.804Z"
   },
   {
    "duration": 21,
    "start_time": "2022-09-14T13:43:02.813Z"
   },
   {
    "duration": 817,
    "start_time": "2022-09-14T13:43:02.835Z"
   },
   {
    "duration": 12,
    "start_time": "2022-09-14T13:43:03.653Z"
   },
   {
    "duration": 5,
    "start_time": "2022-09-14T13:43:03.667Z"
   },
   {
    "duration": 8,
    "start_time": "2022-09-14T13:43:03.673Z"
   },
   {
    "duration": 19,
    "start_time": "2022-09-14T17:06:15.107Z"
   },
   {
    "duration": 55,
    "start_time": "2022-09-14T17:11:21.136Z"
   }
  ],
  "kernelspec": {
   "display_name": "Python 3 (ipykernel)",
   "language": "python",
   "name": "python3"
  },
  "language_info": {
   "codemirror_mode": {
    "name": "ipython",
    "version": 3
   },
   "file_extension": ".py",
   "mimetype": "text/x-python",
   "name": "python",
   "nbconvert_exporter": "python",
   "pygments_lexer": "ipython3",
   "version": "3.10.7"
  },
  "toc": {
   "base_numbering": 1,
   "nav_menu": {
    "height": "127.998px",
    "width": "280.996px"
   },
   "number_sections": true,
   "sideBar": true,
   "skip_h1_title": true,
   "title_cell": "Table of Contents",
   "title_sidebar": "Table of Contents",
   "toc_cell": true,
   "toc_position": {
    "height": "calc(100% - 180px)",
    "left": "10px",
    "top": "150px",
    "width": "260px"
   },
   "toc_section_display": true,
   "toc_window_display": true
  }
 },
 "nbformat": 4,
 "nbformat_minor": 2
}
