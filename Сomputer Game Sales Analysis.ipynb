{
 "cells": [
  {
   "cell_type": "markdown",
   "metadata": {},
   "source": [
    "# Сomputer Game Sales Analysis"
   ]
  },
  {
   "cell_type": "markdown",
   "metadata": {},
   "source": [
    "**Description:**\n",
    "Historical data from open sources on sales of computer games from 2006 to 2016, user and expert ratings, genres and platforms are given.\n",
    "    \n",
    "**TASK**: to identify the patterns that determine the success of the game, which will allow you to place a bet on a potentially popular product and plan advertising campaigns.\n",
    "\n",
    "**Key skills and tools:** data preprocessing, exploratory data analysis, data visualization, descriptive statistics, testing of statistical hypotheses; \n",
    "- Pandas, Numpy, "
   ]
  },
  {
   "cell_type": "markdown",
   "metadata": {
    "toc": true
   },
   "source": [
    "<h1>Table of Contents<span class=\"tocSkip\"></span></h1>\n",
    "<div class=\"toc\"><ul class=\"toc-item\"><li><span><a href=\"#Data-exploration-and-preprocessing\" data-toc-modified-id=\"Data-exploration-and-preprocessing-1\"><span class=\"toc-item-num\">1&nbsp;&nbsp;</span>Data exploration and preprocessing</a></span><ul class=\"toc-item\"><li><span><a href=\"#data-loading-and-description\" data-toc-modified-id=\"data-loading-and-description-1.1\"><span class=\"toc-item-num\">1.1&nbsp;&nbsp;</span>data loading and description</a></span></li><li><span><a href=\"#data-preprocessing\" data-toc-modified-id=\"data-preprocessing-1.2\"><span class=\"toc-item-num\">1.2&nbsp;&nbsp;</span>data preprocessing</a></span></li></ul></li><li><span><a href=\"#Exploratory-data-analysis\" data-toc-modified-id=\"Exploratory-data-analysis-2\"><span class=\"toc-item-num\">2&nbsp;&nbsp;</span>Exploratory data analysis</a></span><ul class=\"toc-item\"><li><span><a href=\"#number-of-games-by-year\" data-toc-modified-id=\"number-of-games-by-year-2.1\"><span class=\"toc-item-num\">2.1&nbsp;&nbsp;</span>number of games by year</a></span></li><li><span><a href=\"#sales-by-years-by-platforms\" data-toc-modified-id=\"sales-by-years-by-platforms-2.2\"><span class=\"toc-item-num\">2.2&nbsp;&nbsp;</span>sales by years by platforms</a></span></li><li><span><a href=\"#top-selling-platforms\" data-toc-modified-id=\"top-selling-platforms-2.3\"><span class=\"toc-item-num\">2.3&nbsp;&nbsp;</span>top selling platforms</a></span></li><li><span><a href=\"#impact-of-reviews-on-sales\" data-toc-modified-id=\"impact-of-reviews-on-sales-2.4\"><span class=\"toc-item-num\">2.4&nbsp;&nbsp;</span>impact of reviews on sales</a></span></li><li><span><a href=\"#sales-by-genre\" data-toc-modified-id=\"sales-by-genre-2.5\"><span class=\"toc-item-num\">2.5&nbsp;&nbsp;</span>sales by genre</a></span></li><li><span><a href=\"#sales-by-ESRB-rating\" data-toc-modified-id=\"sales-by-ESRB-rating-2.6\"><span class=\"toc-item-num\">2.6&nbsp;&nbsp;</span>sales by ESRB rating</a></span></li></ul></li><li><span><a href=\"#User-portrait\" data-toc-modified-id=\"User-portrait-3\"><span class=\"toc-item-num\">3&nbsp;&nbsp;</span>User portrait</a></span><ul class=\"toc-item\"><li><span><a href=\"#genre\" data-toc-modified-id=\"genre-3.1\"><span class=\"toc-item-num\">3.1&nbsp;&nbsp;</span>genre</a></span></li><li><span><a href=\"#platform\" data-toc-modified-id=\"platform-3.2\"><span class=\"toc-item-num\">3.2&nbsp;&nbsp;</span>platform</a></span></li><li><span><a href=\"#ESRB-rating\" data-toc-modified-id=\"ESRB-rating-3.3\"><span class=\"toc-item-num\">3.3&nbsp;&nbsp;</span>ESRB rating</a></span></li></ul></li><li><span><a href=\"#Statistical-hypothesis-testing\" data-toc-modified-id=\"Statistical-hypothesis-testing-4\"><span class=\"toc-item-num\">4&nbsp;&nbsp;</span>Statistical hypothesis testing</a></span><ul class=\"toc-item\"><li><span><a href=\"#hypothesis-1\" data-toc-modified-id=\"hypothesis-1-4.1\"><span class=\"toc-item-num\">4.1&nbsp;&nbsp;</span>hypothesis 1</a></span></li><li><span><a href=\"#hypothesis-1\" data-toc-modified-id=\"hypothesis-1-4.2\"><span class=\"toc-item-num\">4.2&nbsp;&nbsp;</span>hypothesis 1</a></span></li></ul></li><li><span><a href=\"#Conclusion\" data-toc-modified-id=\"Conclusion-5\"><span class=\"toc-item-num\">5&nbsp;&nbsp;</span>Conclusion</a></span></li></ul></div>"
   ]
  },
  {
   "cell_type": "markdown",
   "metadata": {},
   "source": [
    "## Data exploration and preprocessing"
   ]
  },
  {
   "cell_type": "code",
   "execution_count": 1,
   "metadata": {},
   "outputs": [],
   "source": [
    "import pandas as pd\n",
    "import numpy as np\n",
    "import math\n",
    "import matplotlib.pyplot as plt\n",
    "%matplotlib inline\n",
    "\n",
    "import seaborn as sns\n",
    "from scipy import stats as st\n",
    "\n",
    "pd.set_option('display.max_columns', None)\n",
    "pd.options.display.float_format = '{:.2f}'.format\n",
    "import warnings\n",
    "warnings.filterwarnings('ignore')"
   ]
  },
  {
   "cell_type": "markdown",
   "metadata": {},
   "source": [
    "### data loading and description"
   ]
  },
  {
   "cell_type": "code",
   "execution_count": 2,
   "metadata": {},
   "outputs": [
    {
     "data": {
      "text/html": [
       "<div>\n",
       "<style scoped>\n",
       "    .dataframe tbody tr th:only-of-type {\n",
       "        vertical-align: middle;\n",
       "    }\n",
       "\n",
       "    .dataframe tbody tr th {\n",
       "        vertical-align: top;\n",
       "    }\n",
       "\n",
       "    .dataframe thead th {\n",
       "        text-align: right;\n",
       "    }\n",
       "</style>\n",
       "<table border=\"1\" class=\"dataframe\">\n",
       "  <thead>\n",
       "    <tr style=\"text-align: right;\">\n",
       "      <th></th>\n",
       "      <th>Name</th>\n",
       "      <th>Platform</th>\n",
       "      <th>Year_of_Release</th>\n",
       "      <th>Genre</th>\n",
       "      <th>NA_sales</th>\n",
       "      <th>EU_sales</th>\n",
       "      <th>JP_sales</th>\n",
       "      <th>Other_sales</th>\n",
       "      <th>Critic_Score</th>\n",
       "      <th>User_Score</th>\n",
       "      <th>Rating</th>\n",
       "    </tr>\n",
       "  </thead>\n",
       "  <tbody>\n",
       "    <tr>\n",
       "      <th>0</th>\n",
       "      <td>Wii Sports</td>\n",
       "      <td>Wii</td>\n",
       "      <td>2006.00</td>\n",
       "      <td>Sports</td>\n",
       "      <td>41.36</td>\n",
       "      <td>28.96</td>\n",
       "      <td>3.77</td>\n",
       "      <td>8.45</td>\n",
       "      <td>76.00</td>\n",
       "      <td>8</td>\n",
       "      <td>E</td>\n",
       "    </tr>\n",
       "    <tr>\n",
       "      <th>1</th>\n",
       "      <td>Super Mario Bros.</td>\n",
       "      <td>NES</td>\n",
       "      <td>1985.00</td>\n",
       "      <td>Platform</td>\n",
       "      <td>29.08</td>\n",
       "      <td>3.58</td>\n",
       "      <td>6.81</td>\n",
       "      <td>0.77</td>\n",
       "      <td>NaN</td>\n",
       "      <td>NaN</td>\n",
       "      <td>NaN</td>\n",
       "    </tr>\n",
       "    <tr>\n",
       "      <th>2</th>\n",
       "      <td>Mario Kart Wii</td>\n",
       "      <td>Wii</td>\n",
       "      <td>2008.00</td>\n",
       "      <td>Racing</td>\n",
       "      <td>15.68</td>\n",
       "      <td>12.76</td>\n",
       "      <td>3.79</td>\n",
       "      <td>3.29</td>\n",
       "      <td>82.00</td>\n",
       "      <td>8.3</td>\n",
       "      <td>E</td>\n",
       "    </tr>\n",
       "    <tr>\n",
       "      <th>3</th>\n",
       "      <td>Wii Sports Resort</td>\n",
       "      <td>Wii</td>\n",
       "      <td>2009.00</td>\n",
       "      <td>Sports</td>\n",
       "      <td>15.61</td>\n",
       "      <td>10.93</td>\n",
       "      <td>3.28</td>\n",
       "      <td>2.95</td>\n",
       "      <td>80.00</td>\n",
       "      <td>8</td>\n",
       "      <td>E</td>\n",
       "    </tr>\n",
       "    <tr>\n",
       "      <th>4</th>\n",
       "      <td>Pokemon Red/Pokemon Blue</td>\n",
       "      <td>GB</td>\n",
       "      <td>1996.00</td>\n",
       "      <td>Role-Playing</td>\n",
       "      <td>11.27</td>\n",
       "      <td>8.89</td>\n",
       "      <td>10.22</td>\n",
       "      <td>1.00</td>\n",
       "      <td>NaN</td>\n",
       "      <td>NaN</td>\n",
       "      <td>NaN</td>\n",
       "    </tr>\n",
       "  </tbody>\n",
       "</table>\n",
       "</div>"
      ],
      "text/plain": [
       "                       Name Platform  Year_of_Release         Genre  NA_sales  \\\n",
       "0                Wii Sports      Wii          2006.00        Sports     41.36   \n",
       "1         Super Mario Bros.      NES          1985.00      Platform     29.08   \n",
       "2            Mario Kart Wii      Wii          2008.00        Racing     15.68   \n",
       "3         Wii Sports Resort      Wii          2009.00        Sports     15.61   \n",
       "4  Pokemon Red/Pokemon Blue       GB          1996.00  Role-Playing     11.27   \n",
       "\n",
       "   EU_sales  JP_sales  Other_sales  Critic_Score User_Score Rating  \n",
       "0     28.96      3.77         8.45         76.00          8      E  \n",
       "1      3.58      6.81         0.77           NaN        NaN    NaN  \n",
       "2     12.76      3.79         3.29         82.00        8.3      E  \n",
       "3     10.93      3.28         2.95         80.00          8      E  \n",
       "4      8.89     10.22         1.00           NaN        NaN    NaN  "
      ]
     },
     "execution_count": 2,
     "metadata": {},
     "output_type": "execute_result"
    }
   ],
   "source": [
    "df = pd.read_csv('data/games.csv', sep=',')\n",
    "df.head()"
   ]
  },
  {
   "cell_type": "markdown",
   "metadata": {},
   "source": [
    "**column description**\n",
    "\n",
    "- `Name` - name of a game\n",
    "- `Platform` - platform of a game\n",
    "- `Year_of_Release` - year of release\n",
    "- `Genre` - genre of a game\n",
    "- `NA_sales` — sales in North America (mln copies)\n",
    "- `EU_sales` — sales in Europe (mln copies)\n",
    "- `JP_sales` — sales in Japan (mln copies)\n",
    "- `Other_sales` — sales in other countries (mln copies) \n",
    "- `Critic_Score` — critics' score (max 100)\n",
    "- `User_Score` — user' score (max 10)\n",
    "- `Rating` — Entertainment Software Rating Board (self-regulatory organization that assigns age and content ratings to consumer video games in the United States and Canada)"
   ]
  },
  {
   "cell_type": "code",
   "execution_count": 3,
   "metadata": {},
   "outputs": [
    {
     "name": "stdout",
     "output_type": "stream",
     "text": [
      "<class 'pandas.core.frame.DataFrame'>\n",
      "RangeIndex: 16715 entries, 0 to 16714\n",
      "Data columns (total 11 columns):\n",
      " #   Column           Non-Null Count  Dtype  \n",
      "---  ------           --------------  -----  \n",
      " 0   Name             16713 non-null  object \n",
      " 1   Platform         16715 non-null  object \n",
      " 2   Year_of_Release  16446 non-null  float64\n",
      " 3   Genre            16713 non-null  object \n",
      " 4   NA_sales         16715 non-null  float64\n",
      " 5   EU_sales         16715 non-null  float64\n",
      " 6   JP_sales         16715 non-null  float64\n",
      " 7   Other_sales      16715 non-null  float64\n",
      " 8   Critic_Score     8137 non-null   float64\n",
      " 9   User_Score       10014 non-null  object \n",
      " 10  Rating           9949 non-null   object \n",
      "dtypes: float64(6), object(5)\n",
      "memory usage: 1.4+ MB\n"
     ]
    }
   ],
   "source": [
    "df.info()\n",
    "# initial number of lines (for future comparison)\n",
    "total_entries = df.shape[0]"
   ]
  },
  {
   "cell_type": "code",
   "execution_count": 4,
   "metadata": {},
   "outputs": [
    {
     "data": {
      "text/html": [
       "<div>\n",
       "<style scoped>\n",
       "    .dataframe tbody tr th:only-of-type {\n",
       "        vertical-align: middle;\n",
       "    }\n",
       "\n",
       "    .dataframe tbody tr th {\n",
       "        vertical-align: top;\n",
       "    }\n",
       "\n",
       "    .dataframe thead th {\n",
       "        text-align: right;\n",
       "    }\n",
       "</style>\n",
       "<table border=\"1\" class=\"dataframe\">\n",
       "  <thead>\n",
       "    <tr style=\"text-align: right;\">\n",
       "      <th></th>\n",
       "      <th>Year_of_Release</th>\n",
       "      <th>NA_sales</th>\n",
       "      <th>EU_sales</th>\n",
       "      <th>JP_sales</th>\n",
       "      <th>Other_sales</th>\n",
       "      <th>Critic_Score</th>\n",
       "    </tr>\n",
       "  </thead>\n",
       "  <tbody>\n",
       "    <tr>\n",
       "      <th>count</th>\n",
       "      <td>16446.00</td>\n",
       "      <td>16715.00</td>\n",
       "      <td>16715.00</td>\n",
       "      <td>16715.00</td>\n",
       "      <td>16715.00</td>\n",
       "      <td>8137.00</td>\n",
       "    </tr>\n",
       "    <tr>\n",
       "      <th>mean</th>\n",
       "      <td>2006.48</td>\n",
       "      <td>0.26</td>\n",
       "      <td>0.15</td>\n",
       "      <td>0.08</td>\n",
       "      <td>0.05</td>\n",
       "      <td>68.97</td>\n",
       "    </tr>\n",
       "    <tr>\n",
       "      <th>std</th>\n",
       "      <td>5.88</td>\n",
       "      <td>0.81</td>\n",
       "      <td>0.50</td>\n",
       "      <td>0.31</td>\n",
       "      <td>0.19</td>\n",
       "      <td>13.94</td>\n",
       "    </tr>\n",
       "    <tr>\n",
       "      <th>min</th>\n",
       "      <td>1980.00</td>\n",
       "      <td>0.00</td>\n",
       "      <td>0.00</td>\n",
       "      <td>0.00</td>\n",
       "      <td>0.00</td>\n",
       "      <td>13.00</td>\n",
       "    </tr>\n",
       "    <tr>\n",
       "      <th>25%</th>\n",
       "      <td>2003.00</td>\n",
       "      <td>0.00</td>\n",
       "      <td>0.00</td>\n",
       "      <td>0.00</td>\n",
       "      <td>0.00</td>\n",
       "      <td>60.00</td>\n",
       "    </tr>\n",
       "    <tr>\n",
       "      <th>50%</th>\n",
       "      <td>2007.00</td>\n",
       "      <td>0.08</td>\n",
       "      <td>0.02</td>\n",
       "      <td>0.00</td>\n",
       "      <td>0.01</td>\n",
       "      <td>71.00</td>\n",
       "    </tr>\n",
       "    <tr>\n",
       "      <th>75%</th>\n",
       "      <td>2010.00</td>\n",
       "      <td>0.24</td>\n",
       "      <td>0.11</td>\n",
       "      <td>0.04</td>\n",
       "      <td>0.03</td>\n",
       "      <td>79.00</td>\n",
       "    </tr>\n",
       "    <tr>\n",
       "      <th>max</th>\n",
       "      <td>2016.00</td>\n",
       "      <td>41.36</td>\n",
       "      <td>28.96</td>\n",
       "      <td>10.22</td>\n",
       "      <td>10.57</td>\n",
       "      <td>98.00</td>\n",
       "    </tr>\n",
       "  </tbody>\n",
       "</table>\n",
       "</div>"
      ],
      "text/plain": [
       "       Year_of_Release  NA_sales  EU_sales  JP_sales  Other_sales  \\\n",
       "count         16446.00  16715.00  16715.00  16715.00     16715.00   \n",
       "mean           2006.48      0.26      0.15      0.08         0.05   \n",
       "std               5.88      0.81      0.50      0.31         0.19   \n",
       "min            1980.00      0.00      0.00      0.00         0.00   \n",
       "25%            2003.00      0.00      0.00      0.00         0.00   \n",
       "50%            2007.00      0.08      0.02      0.00         0.01   \n",
       "75%            2010.00      0.24      0.11      0.04         0.03   \n",
       "max            2016.00     41.36     28.96     10.22        10.57   \n",
       "\n",
       "       Critic_Score  \n",
       "count       8137.00  \n",
       "mean          68.97  \n",
       "std           13.94  \n",
       "min           13.00  \n",
       "25%           60.00  \n",
       "50%           71.00  \n",
       "75%           79.00  \n",
       "max           98.00  "
      ]
     },
     "execution_count": 4,
     "metadata": {},
     "output_type": "execute_result"
    }
   ],
   "source": [
    "# sales data has a high standard deviation compared to the mean, outliers need to be checked\n",
    "df.describe()"
   ]
  },
  {
   "cell_type": "code",
   "execution_count": 5,
   "metadata": {},
   "outputs": [
    {
     "data": {
      "text/plain": [
       "Name               0.01\n",
       "Platform           0.00\n",
       "Year_of_Release    1.61\n",
       "Genre              0.01\n",
       "NA_sales           0.00\n",
       "EU_sales           0.00\n",
       "JP_sales           0.00\n",
       "Other_sales        0.00\n",
       "Critic_Score      51.32\n",
       "User_Score        40.09\n",
       "Rating            40.48\n",
       "dtype: float64"
      ]
     },
     "execution_count": 5,
     "metadata": {},
     "output_type": "execute_result"
    }
   ],
   "source": [
    "# a small number of empty values in the title, year and genre can be removed\n",
    "# the rating and rating data could be supplemented with an average/median, but this would greatly distort the data\n",
    "df.isna().mean() * 100"
   ]
  },
  {
   "cell_type": "code",
   "execution_count": 6,
   "metadata": {},
   "outputs": [
    {
     "data": {
      "text/plain": [
       "0"
      ]
     },
     "execution_count": 6,
     "metadata": {},
     "output_type": "execute_result"
    }
   ],
   "source": [
    "# no obvious duplicates\n",
    "df.duplicated().sum()"
   ]
  },
  {
   "cell_type": "code",
   "execution_count": 7,
   "metadata": {},
   "outputs": [
    {
     "data": {
      "text/html": [
       "<div>\n",
       "<style scoped>\n",
       "    .dataframe tbody tr th:only-of-type {\n",
       "        vertical-align: middle;\n",
       "    }\n",
       "\n",
       "    .dataframe tbody tr th {\n",
       "        vertical-align: top;\n",
       "    }\n",
       "\n",
       "    .dataframe thead th {\n",
       "        text-align: right;\n",
       "    }\n",
       "</style>\n",
       "<table border=\"1\" class=\"dataframe\">\n",
       "  <thead>\n",
       "    <tr style=\"text-align: right;\">\n",
       "      <th></th>\n",
       "      <th>Name</th>\n",
       "      <th>Platform</th>\n",
       "      <th>Year_of_Release</th>\n",
       "      <th>Genre</th>\n",
       "      <th>NA_sales</th>\n",
       "      <th>EU_sales</th>\n",
       "      <th>JP_sales</th>\n",
       "      <th>Other_sales</th>\n",
       "      <th>Critic_Score</th>\n",
       "      <th>User_Score</th>\n",
       "      <th>Rating</th>\n",
       "    </tr>\n",
       "  </thead>\n",
       "  <tbody>\n",
       "    <tr>\n",
       "      <th>1591</th>\n",
       "      <td>Need for Speed: Most Wanted</td>\n",
       "      <td>X360</td>\n",
       "      <td>2005.00</td>\n",
       "      <td>Racing</td>\n",
       "      <td>1.00</td>\n",
       "      <td>0.13</td>\n",
       "      <td>0.02</td>\n",
       "      <td>0.10</td>\n",
       "      <td>83.00</td>\n",
       "      <td>8.5</td>\n",
       "      <td>T</td>\n",
       "    </tr>\n",
       "    <tr>\n",
       "      <th>4127</th>\n",
       "      <td>Sonic the Hedgehog</td>\n",
       "      <td>PS3</td>\n",
       "      <td>NaN</td>\n",
       "      <td>Platform</td>\n",
       "      <td>0.00</td>\n",
       "      <td>0.48</td>\n",
       "      <td>0.00</td>\n",
       "      <td>0.00</td>\n",
       "      <td>43.00</td>\n",
       "      <td>4.1</td>\n",
       "      <td>E10+</td>\n",
       "    </tr>\n",
       "    <tr>\n",
       "      <th>11715</th>\n",
       "      <td>Need for Speed: Most Wanted</td>\n",
       "      <td>PC</td>\n",
       "      <td>2012.00</td>\n",
       "      <td>Racing</td>\n",
       "      <td>0.00</td>\n",
       "      <td>0.06</td>\n",
       "      <td>0.00</td>\n",
       "      <td>0.02</td>\n",
       "      <td>82.00</td>\n",
       "      <td>8.5</td>\n",
       "      <td>T</td>\n",
       "    </tr>\n",
       "    <tr>\n",
       "      <th>14244</th>\n",
       "      <td>NaN</td>\n",
       "      <td>GEN</td>\n",
       "      <td>1993.00</td>\n",
       "      <td>NaN</td>\n",
       "      <td>0.00</td>\n",
       "      <td>0.00</td>\n",
       "      <td>0.03</td>\n",
       "      <td>0.00</td>\n",
       "      <td>NaN</td>\n",
       "      <td>NaN</td>\n",
       "      <td>NaN</td>\n",
       "    </tr>\n",
       "    <tr>\n",
       "      <th>16230</th>\n",
       "      <td>Madden NFL 13</td>\n",
       "      <td>PS3</td>\n",
       "      <td>2012.00</td>\n",
       "      <td>Sports</td>\n",
       "      <td>0.00</td>\n",
       "      <td>0.01</td>\n",
       "      <td>0.00</td>\n",
       "      <td>0.00</td>\n",
       "      <td>83.00</td>\n",
       "      <td>5.5</td>\n",
       "      <td>E</td>\n",
       "    </tr>\n",
       "  </tbody>\n",
       "</table>\n",
       "</div>"
      ],
      "text/plain": [
       "                              Name Platform  Year_of_Release     Genre  \\\n",
       "1591   Need for Speed: Most Wanted     X360          2005.00    Racing   \n",
       "4127            Sonic the Hedgehog      PS3              NaN  Platform   \n",
       "11715  Need for Speed: Most Wanted       PC          2012.00    Racing   \n",
       "14244                          NaN      GEN          1993.00       NaN   \n",
       "16230                Madden NFL 13      PS3          2012.00    Sports   \n",
       "\n",
       "       NA_sales  EU_sales  JP_sales  Other_sales  Critic_Score User_Score  \\\n",
       "1591       1.00      0.13      0.02         0.10         83.00        8.5   \n",
       "4127       0.00      0.48      0.00         0.00         43.00        4.1   \n",
       "11715      0.00      0.06      0.00         0.02         82.00        8.5   \n",
       "14244      0.00      0.00      0.03         0.00           NaN        NaN   \n",
       "16230      0.00      0.01      0.00         0.00         83.00        5.5   \n",
       "\n",
       "      Rating  \n",
       "1591       T  \n",
       "4127    E10+  \n",
       "11715      T  \n",
       "14244    NaN  \n",
       "16230      E  "
      ]
     },
     "execution_count": 7,
     "metadata": {},
     "output_type": "execute_result"
    }
   ],
   "source": [
    "# but we see duplicates in the names with platforms\n",
    "df[df.duplicated(subset=['Name', 'Platform'])]"
   ]
  },
  {
   "cell_type": "markdown",
   "metadata": {},
   "source": [
    "### data preprocessing"
   ]
  },
  {
   "cell_type": "code",
   "execution_count": 8,
   "metadata": {},
   "outputs": [],
   "source": [
    "# transform and add data\n",
    "df.columns = df.columns.str.lower()\n",
    "df.dropna(subset=['name', 'genre', 'year_of_release'], inplace=True)\n",
    "df.drop_duplicates(subset=['name', 'platform'], inplace=True)\n",
    "\n",
    "df['year_of_release'] = df['year_of_release'].astype('int')\n",
    "\n",
    "df['user_score'] = df['user_score'].replace('tbd', np.nan).fillna(-1).astype('float').replace(-1, np.nan)\n",
    "df['critic_score'] = df['critic_score']/10 \n",
    "df['total_sales'] = df[['na_sales','eu_sales','jp_sales','other_sales']].sum(axis='columns')\n",
    "\n",
    "df.insert(8, 'total_sales', df.pop('total_sales'))"
   ]
  },
  {
   "cell_type": "code",
   "execution_count": 9,
   "metadata": {},
   "outputs": [
    {
     "data": {
      "text/plain": [
       "Text(0, 0.5, 'frequency')"
      ]
     },
     "execution_count": 9,
     "metadata": {},
     "output_type": "execute_result"
    },
    {
     "data": {
      "image/png": "[encoded data removed]",
      "text/plain": [
       "<Figure size 1200x400 with 1 Axes>"
      ]
     },
     "metadata": {},
     "output_type": "display_data"
    }
   ],
   "source": [
    "# check outliers in sales data\n",
    "df.na_sales.hist(bins=40, figsize=(12,4), range=(0,0.4), alpha=0.6)\n",
    "df.eu_sales.hist(bins=40, figsize=(12,4), range=(0,0.4), alpha=0.6)\n",
    "df.jp_sales.hist(bins=40, figsize=(12,4), range=(0,0.4), alpha=0.6)\n",
    "df.other_sales.hist(bins=40, figsize=(12,4), range=(0,0.4), alpha=0.6)\n",
    "\n",
    "plt.title('sales in different refions')\n",
    "plt.xlabel('sales')\n",
    "plt.ylabel('frequency')\n",
    "# we see that sales are mostly no more than 0.2 million copies"
   ]
  },
  {
   "cell_type": "code",
   "execution_count": 10,
   "metadata": {},
   "outputs": [
    {
     "data": {
      "text/plain": [
       "0                   Wii Sports\n",
       "1            Super Mario Bros.\n",
       "2               Mario Kart Wii\n",
       "3            Wii Sports Resort\n",
       "4     Pokemon Red/Pokemon Blue\n",
       "5                       Tetris\n",
       "6        New Super Mario Bros.\n",
       "7                     Wii Play\n",
       "8    New Super Mario Bros. Wii\n",
       "9                    Duck Hunt\n",
       "Name: name, dtype: object"
      ]
     },
     "execution_count": 10,
     "metadata": {},
     "output_type": "execute_result"
    }
   ],
   "source": [
    "# let's look at the best-selling ones, these are very popular games, this is not a mistake\n",
    "# so we will not remove such \"outliers\"\n",
    "df[(df['total_sales'] > 10)].sort_values(by='total_sales', ascending=False).head(10).name"
   ]
  },
  {
   "cell_type": "code",
   "execution_count": 11,
   "metadata": {},
   "outputs": [],
   "source": [
    "# replace the empty values \"no rating\" in the rating, as most likely the rating simply does not exist for some games\n",
    "df['rating'] = df['rating'].fillna('no rating')"
   ]
  },
  {
   "cell_type": "code",
   "execution_count": 12,
   "metadata": {},
   "outputs": [
    {
     "name": "stdout",
     "output_type": "stream",
     "text": [
      "-1.64\n"
     ]
    }
   ],
   "source": [
    "# we removed less than 2% of the values, this is an acceptable amount\n",
    "print(round((df.shape[0] / total_entries - 1)*100,2))"
   ]
  },
  {
   "cell_type": "code",
   "execution_count": 13,
   "metadata": {},
   "outputs": [
    {
     "data": {
      "text/html": [
       "<div>\n",
       "<style scoped>\n",
       "    .dataframe tbody tr th:only-of-type {\n",
       "        vertical-align: middle;\n",
       "    }\n",
       "\n",
       "    .dataframe tbody tr th {\n",
       "        vertical-align: top;\n",
       "    }\n",
       "\n",
       "    .dataframe thead th {\n",
       "        text-align: right;\n",
       "    }\n",
       "</style>\n",
       "<table border=\"1\" class=\"dataframe\">\n",
       "  <thead>\n",
       "    <tr style=\"text-align: right;\">\n",
       "      <th></th>\n",
       "      <th>name</th>\n",
       "      <th>platform</th>\n",
       "      <th>year_of_release</th>\n",
       "      <th>genre</th>\n",
       "      <th>na_sales</th>\n",
       "      <th>eu_sales</th>\n",
       "      <th>jp_sales</th>\n",
       "      <th>other_sales</th>\n",
       "      <th>total_sales</th>\n",
       "      <th>critic_score</th>\n",
       "      <th>user_score</th>\n",
       "      <th>rating</th>\n",
       "    </tr>\n",
       "  </thead>\n",
       "  <tbody>\n",
       "    <tr>\n",
       "      <th>1300</th>\n",
       "      <td>Midway Arcade Treasures</td>\n",
       "      <td>PS2</td>\n",
       "      <td>2003</td>\n",
       "      <td>Misc</td>\n",
       "      <td>0.72</td>\n",
       "      <td>0.56</td>\n",
       "      <td>0.00</td>\n",
       "      <td>0.19</td>\n",
       "      <td>1.47</td>\n",
       "      <td>7.60</td>\n",
       "      <td>NaN</td>\n",
       "      <td>T</td>\n",
       "    </tr>\n",
       "    <tr>\n",
       "      <th>5410</th>\n",
       "      <td>Spy Hunter</td>\n",
       "      <td>XB</td>\n",
       "      <td>2002</td>\n",
       "      <td>Racing</td>\n",
       "      <td>0.25</td>\n",
       "      <td>0.07</td>\n",
       "      <td>0.00</td>\n",
       "      <td>0.01</td>\n",
       "      <td>0.33</td>\n",
       "      <td>7.10</td>\n",
       "      <td>NaN</td>\n",
       "      <td>T</td>\n",
       "    </tr>\n",
       "    <tr>\n",
       "      <th>15440</th>\n",
       "      <td>Demolition Company: Gold Edition</td>\n",
       "      <td>PC</td>\n",
       "      <td>2011</td>\n",
       "      <td>Simulation</td>\n",
       "      <td>0.00</td>\n",
       "      <td>0.02</td>\n",
       "      <td>0.00</td>\n",
       "      <td>0.00</td>\n",
       "      <td>0.02</td>\n",
       "      <td>NaN</td>\n",
       "      <td>NaN</td>\n",
       "      <td>no rating</td>\n",
       "    </tr>\n",
       "    <tr>\n",
       "      <th>5060</th>\n",
       "      <td>Paws &amp; Claws: Pampered Pets</td>\n",
       "      <td>DS</td>\n",
       "      <td>2009</td>\n",
       "      <td>Simulation</td>\n",
       "      <td>0.35</td>\n",
       "      <td>0.00</td>\n",
       "      <td>0.00</td>\n",
       "      <td>0.03</td>\n",
       "      <td>0.38</td>\n",
       "      <td>NaN</td>\n",
       "      <td>NaN</td>\n",
       "      <td>no rating</td>\n",
       "    </tr>\n",
       "    <tr>\n",
       "      <th>3764</th>\n",
       "      <td>NASCAR 09</td>\n",
       "      <td>PS2</td>\n",
       "      <td>2008</td>\n",
       "      <td>Racing</td>\n",
       "      <td>0.26</td>\n",
       "      <td>0.20</td>\n",
       "      <td>0.00</td>\n",
       "      <td>0.07</td>\n",
       "      <td>0.53</td>\n",
       "      <td>NaN</td>\n",
       "      <td>7.90</td>\n",
       "      <td>E</td>\n",
       "    </tr>\n",
       "  </tbody>\n",
       "</table>\n",
       "</div>"
      ],
      "text/plain": [
       "                                   name platform  year_of_release       genre  \\\n",
       "1300            Midway Arcade Treasures      PS2             2003        Misc   \n",
       "5410                         Spy Hunter       XB             2002      Racing   \n",
       "15440  Demolition Company: Gold Edition       PC             2011  Simulation   \n",
       "5060        Paws & Claws: Pampered Pets       DS             2009  Simulation   \n",
       "3764                          NASCAR 09      PS2             2008      Racing   \n",
       "\n",
       "       na_sales  eu_sales  jp_sales  other_sales  total_sales  critic_score  \\\n",
       "1300       0.72      0.56      0.00         0.19         1.47          7.60   \n",
       "5410       0.25      0.07      0.00         0.01         0.33          7.10   \n",
       "15440      0.00      0.02      0.00         0.00         0.02           NaN   \n",
       "5060       0.35      0.00      0.00         0.03         0.38           NaN   \n",
       "3764       0.26      0.20      0.00         0.07         0.53           NaN   \n",
       "\n",
       "       user_score     rating  \n",
       "1300          NaN          T  \n",
       "5410          NaN          T  \n",
       "15440         NaN  no rating  \n",
       "5060          NaN  no rating  \n",
       "3764         7.90          E  "
      ]
     },
     "execution_count": 13,
     "metadata": {},
     "output_type": "execute_result"
    }
   ],
   "source": [
    "# check final df\n",
    "df.sample(5)"
   ]
  },
  {
   "cell_type": "markdown",
   "metadata": {},
   "source": [
    "**CONCLUSION**\n",
    "    \n",
    "- data on sales of computer games from 2006 to 2016, user and expert ratings, genres and platforms\n",
    "- column names are reduced to lowercase, lines with gaps in columns 'name', 'year_of_release', 'genre' are removed, duplicates are removed, less than 2% of values ​​are removed in total\n",
    "- 'year_of_release' column cast to int, 'user_score' column cast to float ('tbd' changed to nan)\n",
    "- added column with total sales 'total_sales'\n",
    "- critic_score and user_score data were not filled with mean/median, as this can greatly distort the data, games may be too different in characteristics. empty values ​​are most likely due to the fact that the data was collected manually or simply did not exist, because the game did not attract attention or the ratings were not collected in those years\n",
    "- outliers with the number of sales were not deleted, because this is not an error, but the most popular games, we will leave them for analysis"
   ]
  },
  {
   "cell_type": "markdown",
   "metadata": {},
   "source": [
    "## Exploratory data analysis"
   ]
  },
  {
   "cell_type": "markdown",
   "metadata": {},
   "source": [
    "### number of games by year"
   ]
  },
  {
   "cell_type": "code",
   "execution_count": 14,
   "metadata": {},
   "outputs": [
    {
     "data": {
      "text/html": [
       "<div>\n",
       "<style scoped>\n",
       "    .dataframe tbody tr th:only-of-type {\n",
       "        vertical-align: middle;\n",
       "    }\n",
       "\n",
       "    .dataframe tbody tr th {\n",
       "        vertical-align: top;\n",
       "    }\n",
       "\n",
       "    .dataframe thead th {\n",
       "        text-align: right;\n",
       "    }\n",
       "</style>\n",
       "<table border=\"1\" class=\"dataframe\">\n",
       "  <thead>\n",
       "    <tr style=\"text-align: right;\">\n",
       "      <th></th>\n",
       "      <th>name</th>\n",
       "    </tr>\n",
       "    <tr>\n",
       "      <th>year_of_release</th>\n",
       "      <th></th>\n",
       "    </tr>\n",
       "  </thead>\n",
       "  <tbody>\n",
       "    <tr>\n",
       "      <th>2008</th>\n",
       "      <td>980</td>\n",
       "    </tr>\n",
       "    <tr>\n",
       "      <th>2009</th>\n",
       "      <td>953</td>\n",
       "    </tr>\n",
       "    <tr>\n",
       "      <th>2010</th>\n",
       "      <td>857</td>\n",
       "    </tr>\n",
       "  </tbody>\n",
       "</table>\n",
       "</div>"
      ],
      "text/plain": [
       "                 name\n",
       "year_of_release      \n",
       "2008              980\n",
       "2009              953\n",
       "2010              857"
      ]
     },
     "execution_count": 14,
     "metadata": {},
     "output_type": "execute_result"
    },
    {
     "data": {
      "image/png": "[encoded data removed]",
      "text/plain": [
       "<Figure size 1600x500 with 1 Axes>"
      ]
     },
     "metadata": {},
     "output_type": "display_data"
    }
   ],
   "source": [
    "# prepare a table of titles and games and the year of their release\n",
    "games = df[['name', 'year_of_release', 'rating']].sort_values(by=['name', 'year_of_release'])\n",
    "games.drop_duplicates(subset=['name'], inplace=True)\n",
    "\n",
    "# see how many games were released in different years\n",
    "year_games = pd.pivot_table(games, \n",
    "               index='year_of_release', \n",
    "               values=['name'], \n",
    "               aggfunc='count')\n",
    "\n",
    "plt.figure(figsize=(16,5))\n",
    "sns.lineplot(data=year_games).set(xlabel='year', ylabel='number of games')\n",
    "\n",
    "year_games.sort_values(by='name', ascending=False).head(3)"
   ]
  },
  {
   "cell_type": "markdown",
   "metadata": {},
   "source": [
    "Thanks to the growing popularity and availability of personal computers and the development of the Internet, sales began to grow sharply in the 90s and peaked in 2008-2010 in the region of 1 billion. copies and then began to decline sharply and fell to 0.3 billion due to the consequences of the global crisis in 2008"
   ]
  },
  {
   "cell_type": "markdown",
   "metadata": {},
   "source": [
    "### sales by years by platforms"
   ]
  },
  {
   "cell_type": "code",
   "execution_count": 15,
   "metadata": {},
   "outputs": [
    {
     "data": {
      "text/plain": [
       "Text(0.5, 1.0, 'sales by platform')"
      ]
     },
     "execution_count": 15,
     "metadata": {},
     "output_type": "execute_result"
    },
    {
     "data": {
      "image/png": "[encoded data removed]",
      "text/plain": [
       "<Figure size 1800x700 with 1 Axes>"
      ]
     },
     "metadata": {},
     "output_type": "display_data"
    }
   ],
   "source": [
    "# select the largest platforms\n",
    "top_platform = list(\n",
    "                pd.pivot_table(df, index=['platform'], values='total_sales', aggfunc='sum')\n",
    "                .sort_values(by='total_sales', ascending=False).reset_index().head(10).platform)\n",
    "\n",
    "# let's see how sales have changed on the largest platforms\n",
    "year_platform_sales = pd.pivot_table(df.query('platform in @top_platform and year_of_release > 1995'), \n",
    "               index=['year_of_release', 'platform'], \n",
    "               values='total_sales', \n",
    "               aggfunc='sum').reset_index().sort_values(by='platform')\n",
    "\n",
    "plt.figure(figsize=(18,7))\n",
    "sns.lineplot(data=year_platform_sales\n",
    "             , x=\"year_of_release\", y=\"total_sales\", hue=\"platform\").set(xlabel='year', ylabel='total sales')\n",
    "plt.title('sales by platform')"
   ]
  },
  {
   "cell_type": "code",
   "execution_count": 16,
   "metadata": {},
   "outputs": [
    {
     "data": {
      "text/html": [
       "<div>\n",
       "<style scoped>\n",
       "    .dataframe tbody tr th:only-of-type {\n",
       "        vertical-align: middle;\n",
       "    }\n",
       "\n",
       "    .dataframe tbody tr th {\n",
       "        vertical-align: top;\n",
       "    }\n",
       "\n",
       "    .dataframe thead th {\n",
       "        text-align: right;\n",
       "    }\n",
       "</style>\n",
       "<table border=\"1\" class=\"dataframe\">\n",
       "  <thead>\n",
       "    <tr style=\"text-align: right;\">\n",
       "      <th></th>\n",
       "      <th>name</th>\n",
       "      <th>platform</th>\n",
       "      <th>year_of_release</th>\n",
       "      <th>genre</th>\n",
       "      <th>na_sales</th>\n",
       "      <th>eu_sales</th>\n",
       "      <th>jp_sales</th>\n",
       "      <th>other_sales</th>\n",
       "      <th>total_sales</th>\n",
       "      <th>critic_score</th>\n",
       "      <th>user_score</th>\n",
       "      <th>rating</th>\n",
       "    </tr>\n",
       "  </thead>\n",
       "  <tbody>\n",
       "    <tr>\n",
       "      <th>3</th>\n",
       "      <td>Wii Sports Resort</td>\n",
       "      <td>Wii</td>\n",
       "      <td>2009</td>\n",
       "      <td>Sports</td>\n",
       "      <td>15.61</td>\n",
       "      <td>10.93</td>\n",
       "      <td>3.28</td>\n",
       "      <td>2.95</td>\n",
       "      <td>32.77</td>\n",
       "      <td>8.00</td>\n",
       "      <td>8.00</td>\n",
       "      <td>E</td>\n",
       "    </tr>\n",
       "    <tr>\n",
       "      <th>8</th>\n",
       "      <td>New Super Mario Bros. Wii</td>\n",
       "      <td>Wii</td>\n",
       "      <td>2009</td>\n",
       "      <td>Platform</td>\n",
       "      <td>14.44</td>\n",
       "      <td>6.94</td>\n",
       "      <td>4.70</td>\n",
       "      <td>2.24</td>\n",
       "      <td>28.32</td>\n",
       "      <td>8.70</td>\n",
       "      <td>8.40</td>\n",
       "      <td>E</td>\n",
       "    </tr>\n",
       "    <tr>\n",
       "      <th>15</th>\n",
       "      <td>Wii Fit Plus</td>\n",
       "      <td>Wii</td>\n",
       "      <td>2009</td>\n",
       "      <td>Sports</td>\n",
       "      <td>9.01</td>\n",
       "      <td>8.49</td>\n",
       "      <td>2.53</td>\n",
       "      <td>1.77</td>\n",
       "      <td>21.80</td>\n",
       "      <td>8.00</td>\n",
       "      <td>7.40</td>\n",
       "      <td>E</td>\n",
       "    </tr>\n",
       "    <tr>\n",
       "      <th>103</th>\n",
       "      <td>Just Dance</td>\n",
       "      <td>Wii</td>\n",
       "      <td>2009</td>\n",
       "      <td>Misc</td>\n",
       "      <td>3.48</td>\n",
       "      <td>2.99</td>\n",
       "      <td>0.00</td>\n",
       "      <td>0.73</td>\n",
       "      <td>7.20</td>\n",
       "      <td>4.90</td>\n",
       "      <td>8.00</td>\n",
       "      <td>E10+</td>\n",
       "    </tr>\n",
       "    <tr>\n",
       "      <th>237</th>\n",
       "      <td>Mario &amp; Sonic at the Olympic Winter Games</td>\n",
       "      <td>Wii</td>\n",
       "      <td>2009</td>\n",
       "      <td>Sports</td>\n",
       "      <td>1.87</td>\n",
       "      <td>1.96</td>\n",
       "      <td>0.22</td>\n",
       "      <td>0.48</td>\n",
       "      <td>4.53</td>\n",
       "      <td>NaN</td>\n",
       "      <td>NaN</td>\n",
       "      <td>no rating</td>\n",
       "    </tr>\n",
       "  </tbody>\n",
       "</table>\n",
       "</div>"
      ],
      "text/plain": [
       "                                          name platform  year_of_release  \\\n",
       "3                            Wii Sports Resort      Wii             2009   \n",
       "8                    New Super Mario Bros. Wii      Wii             2009   \n",
       "15                                Wii Fit Plus      Wii             2009   \n",
       "103                                 Just Dance      Wii             2009   \n",
       "237  Mario & Sonic at the Olympic Winter Games      Wii             2009   \n",
       "\n",
       "        genre  na_sales  eu_sales  jp_sales  other_sales  total_sales  \\\n",
       "3      Sports     15.61     10.93      3.28         2.95        32.77   \n",
       "8    Platform     14.44      6.94      4.70         2.24        28.32   \n",
       "15     Sports      9.01      8.49      2.53         1.77        21.80   \n",
       "103      Misc      3.48      2.99      0.00         0.73         7.20   \n",
       "237    Sports      1.87      1.96      0.22         0.48         4.53   \n",
       "\n",
       "     critic_score  user_score     rating  \n",
       "3            8.00        8.00          E  \n",
       "8            8.70        8.40          E  \n",
       "15           8.00        7.40          E  \n",
       "103          4.90        8.00       E10+  \n",
       "237           NaN         NaN  no rating  "
      ]
     },
     "execution_count": 16,
     "metadata": {},
     "output_type": "execute_result"
    }
   ],
   "source": [
    "# what games were released during the years of maximum sales\n",
    "plat = 'Wii'\n",
    "year = 2009\n",
    "df[(df['platform'] == plat) & (df['year_of_release'] == year)].sort_values(by='total_sales', ascending=False).head()"
   ]
  },
  {
   "cell_type": "markdown",
   "metadata": {},
   "source": [
    "- the chart shows that different platforms had their \"golden time\"\n",
    "- average platform duration is about 10 years"
   ]
  },
  {
   "cell_type": "markdown",
   "metadata": {},
   "source": [
    "### top selling platforms"
   ]
  },
  {
   "cell_type": "code",
   "execution_count": 17,
   "metadata": {},
   "outputs": [
    {
     "data": {
      "text/plain": [
       "(2233, 12)"
      ]
     },
     "execution_count": 17,
     "metadata": {},
     "output_type": "execute_result"
    }
   ],
   "source": [
    "# for further analysis, we will take only actual data \n",
    "# after 2013 (after the end of the decline in sales after the peak in 2008-2010)\n",
    "df_actual = df.query('year_of_release >= 2013').reset_index(drop=True)\n",
    "df_actual.shape"
   ]
  },
  {
   "cell_type": "code",
   "execution_count": 18,
   "metadata": {},
   "outputs": [
    {
     "data": {
      "text/plain": [
       "Text(0.5, 1.0, 'sales by platform 2013-2015')"
      ]
     },
     "execution_count": 18,
     "metadata": {},
     "output_type": "execute_result"
    },
    {
     "data": {
      "image/png": "[encoded data removed]",
      "text/plain": [
       "<Figure size 1800x500 with 1 Axes>"
      ]
     },
     "metadata": {},
     "output_type": "display_data"
    }
   ],
   "source": [
    "# let's see the platforms are leading in sales, growing or falling after 2013 (without 2016, as there is little data)\n",
    "year_platform_sales = pd.pivot_table(df_actual[df_actual['year_of_release'] != 2016], \n",
    "               index=['platform', 'year_of_release'], \n",
    "               values='total_sales', \n",
    "               aggfunc='sum').reset_index().sort_values(by='platform')\n",
    "\n",
    "plt.figure(figsize=(18,5))\n",
    "sns.barplot(data=year_platform_sales\n",
    "            , x=\"platform\", y=\"total_sales\", hue=\"year_of_release\").set(xlabel='platform', ylabel='total sales')\n",
    "plt.title('sales by platform 2013-2015')"
   ]
  },
  {
   "cell_type": "markdown",
   "metadata": {},
   "source": [
    "the number of sales is growing only on the PS4 and XOne platforms, on the rest it is declining"
   ]
  },
  {
   "cell_type": "code",
   "execution_count": 19,
   "metadata": {
    "scrolled": true
   },
   "outputs": [
    {
     "data": {
      "text/plain": [
       "Text(0.5, 1.0, 'sales by platform 2013-2015')"
      ]
     },
     "execution_count": 19,
     "metadata": {},
     "output_type": "execute_result"
    },
    {
     "data": {
      "image/png": "[encoded data removed]",
      "text/plain": [
       "<Figure size 1600x800 with 1 Axes>"
      ]
     },
     "metadata": {},
     "output_type": "display_data"
    }
   ],
   "source": [
    "# look at the boxplot\n",
    "plt.figure(figsize=(16,8))\n",
    "sns.boxplot(data=df_actual\n",
    "            , x=\"platform\", y=\"total_sales\").set(xlabel='platform', ylabel='total sales')\n",
    "plt.title('sales by platform 2013-2015')"
   ]
  },
  {
   "cell_type": "markdown",
   "metadata": {},
   "source": [
    "we can see from the graph that almost every platform has its own popular games that make very high sales"
   ]
  },
  {
   "cell_type": "code",
   "execution_count": 20,
   "metadata": {},
   "outputs": [
    {
     "data": {
      "text/plain": [
       "Text(0.5, 1.0, 'sales by platform 2013-2015')"
      ]
     },
     "execution_count": 20,
     "metadata": {},
     "output_type": "execute_result"
    },
    {
     "data": {
      "image/png": "[encoded data removed]",
      "text/plain": [
       "<Figure size 1600x800 with 1 Axes>"
      ]
     },
     "metadata": {},
     "output_type": "display_data"
    }
   ],
   "source": [
    "# remove very popular games and look at the boxplot once again \n",
    "plt.figure(figsize=(16,8))\n",
    "sns.boxplot(data=df_actual[df_actual['total_sales'] < 1]\n",
    "            , x=\"platform\", y=\"total_sales\").set(xlabel='platform', ylabel='total sales')\n",
    "plt.title('sales by platform 2013-2015')"
   ]
  },
  {
   "cell_type": "markdown",
   "metadata": {},
   "source": [
    "we can see from the graph that the top quartile does not exceed global sales of 0.5 million copies, the median lies in the region of 0.1-0.2 million copies"
   ]
  },
  {
   "cell_type": "markdown",
   "metadata": {},
   "source": [
    "### impact of reviews on sales"
   ]
  },
  {
   "cell_type": "code",
   "execution_count": 21,
   "metadata": {},
   "outputs": [],
   "source": [
    "# choose popular and promising platforms that have been growing in recent years: PS4 and XOne\n",
    "df_PS4 = df_actual[df_actual['platform'] == 'PS4']\n",
    "df_XOne = df_actual[df_actual['platform'] == 'XOne']"
   ]
  },
  {
   "cell_type": "code",
   "execution_count": 22,
   "metadata": {},
   "outputs": [
    {
     "data": {
      "text/plain": [
       "total_sales        1.00\n",
       "other_sales        1.00\n",
       "eu_sales           0.96\n",
       "na_sales           0.93\n",
       "jp_sales           0.53\n",
       "critic_score       0.41\n",
       "user_score        -0.03\n",
       "year_of_release   -0.24\n",
       "Name: total_sales, dtype: float64"
      ]
     },
     "execution_count": 22,
     "metadata": {},
     "output_type": "execute_result"
    }
   ],
   "source": [
    "# let's see what correlations there are with overall sales on the PS4 platform\n",
    "df_PS4.corr().total_sales.sort_values(ascending=False)"
   ]
  },
  {
   "cell_type": "code",
   "execution_count": 23,
   "metadata": {},
   "outputs": [
    {
     "data": {
      "text/plain": [
       "total_sales        1.00\n",
       "other_sales        1.00\n",
       "na_sales           0.97\n",
       "eu_sales           0.90\n",
       "jp_sales           0.45\n",
       "critic_score       0.42\n",
       "user_score        -0.07\n",
       "year_of_release   -0.24\n",
       "Name: total_sales, dtype: float64"
      ]
     },
     "execution_count": 23,
     "metadata": {},
     "output_type": "execute_result"
    }
   ],
   "source": [
    "# let's see what correlations there are with overall sales on the XOne platform\n",
    "df_XOne.corr().total_sales.sort_values(ascending=False)"
   ]
  },
  {
   "cell_type": "markdown",
   "metadata": {},
   "source": [
    "- on both platforms, the correlation between total sales and critic reviews is weak - 40% (removing popular games from df or vice versa analyzing only them does not help to find a stronger correlation)\n",
    "- it is interesting that the user rating does not have a correction with sales at all"
   ]
  },
  {
   "cell_type": "markdown",
   "metadata": {},
   "source": [
    "### sales by genre"
   ]
  },
  {
   "cell_type": "code",
   "execution_count": 24,
   "metadata": {},
   "outputs": [
    {
     "data": {
      "text/html": [
       "<div>\n",
       "<style scoped>\n",
       "    .dataframe tbody tr th:only-of-type {\n",
       "        vertical-align: middle;\n",
       "    }\n",
       "\n",
       "    .dataframe tbody tr th {\n",
       "        vertical-align: top;\n",
       "    }\n",
       "\n",
       "    .dataframe thead th {\n",
       "        text-align: right;\n",
       "    }\n",
       "</style>\n",
       "<table border=\"1\" class=\"dataframe\">\n",
       "  <thead>\n",
       "    <tr style=\"text-align: right;\">\n",
       "      <th></th>\n",
       "      <th>genre</th>\n",
       "      <th>total_sales</th>\n",
       "      <th>% sales</th>\n",
       "    </tr>\n",
       "  </thead>\n",
       "  <tbody>\n",
       "    <tr>\n",
       "      <th>8</th>\n",
       "      <td>Shooter</td>\n",
       "      <td>1.25</td>\n",
       "      <td>22.35</td>\n",
       "    </tr>\n",
       "    <tr>\n",
       "      <th>10</th>\n",
       "      <td>Sports</td>\n",
       "      <td>0.70</td>\n",
       "      <td>12.63</td>\n",
       "    </tr>\n",
       "    <tr>\n",
       "      <th>4</th>\n",
       "      <td>Platform</td>\n",
       "      <td>0.58</td>\n",
       "      <td>10.33</td>\n",
       "    </tr>\n",
       "    <tr>\n",
       "      <th>7</th>\n",
       "      <td>Role-Playing</td>\n",
       "      <td>0.50</td>\n",
       "      <td>8.96</td>\n",
       "    </tr>\n",
       "    <tr>\n",
       "      <th>6</th>\n",
       "      <td>Racing</td>\n",
       "      <td>0.47</td>\n",
       "      <td>8.42</td>\n",
       "    </tr>\n",
       "    <tr>\n",
       "      <th>2</th>\n",
       "      <td>Fighting</td>\n",
       "      <td>0.44</td>\n",
       "      <td>7.92</td>\n",
       "    </tr>\n",
       "    <tr>\n",
       "      <th>0</th>\n",
       "      <td>Action</td>\n",
       "      <td>0.42</td>\n",
       "      <td>7.54</td>\n",
       "    </tr>\n",
       "    <tr>\n",
       "      <th>3</th>\n",
       "      <td>Misc</td>\n",
       "      <td>0.41</td>\n",
       "      <td>7.27</td>\n",
       "    </tr>\n",
       "    <tr>\n",
       "      <th>9</th>\n",
       "      <td>Simulation</td>\n",
       "      <td>0.35</td>\n",
       "      <td>6.29</td>\n",
       "    </tr>\n",
       "    <tr>\n",
       "      <th>5</th>\n",
       "      <td>Puzzle</td>\n",
       "      <td>0.19</td>\n",
       "      <td>3.34</td>\n",
       "    </tr>\n",
       "    <tr>\n",
       "      <th>11</th>\n",
       "      <td>Strategy</td>\n",
       "      <td>0.18</td>\n",
       "      <td>3.23</td>\n",
       "    </tr>\n",
       "    <tr>\n",
       "      <th>1</th>\n",
       "      <td>Adventure</td>\n",
       "      <td>0.10</td>\n",
       "      <td>1.73</td>\n",
       "    </tr>\n",
       "  </tbody>\n",
       "</table>\n",
       "</div>"
      ],
      "text/plain": [
       "           genre  total_sales  % sales\n",
       "8        Shooter         1.25    22.35\n",
       "10        Sports         0.70    12.63\n",
       "4       Platform         0.58    10.33\n",
       "7   Role-Playing         0.50     8.96\n",
       "6         Racing         0.47     8.42\n",
       "2       Fighting         0.44     7.92\n",
       "0         Action         0.42     7.54\n",
       "3           Misc         0.41     7.27\n",
       "9     Simulation         0.35     6.29\n",
       "5         Puzzle         0.19     3.34\n",
       "11      Strategy         0.18     3.23\n",
       "1      Adventure         0.10     1.73"
      ]
     },
     "execution_count": 24,
     "metadata": {},
     "output_type": "execute_result"
    },
    {
     "data": {
      "image/png": "[encoded data removed]",
      "text/plain": [
       "<Figure size 1500x500 with 1 Axes>"
      ]
     },
     "metadata": {},
     "output_type": "display_data"
    }
   ],
   "source": [
    "# look at sales by genre\n",
    "genre_sales = pd.pivot_table(df_actual, \n",
    "               index='genre', \n",
    "               values='total_sales', \n",
    "               aggfunc='mean').reset_index().sort_values(by='total_sales', ascending=False)\n",
    "\n",
    "genre_sales['% sales'] = genre_sales['total_sales']/genre_sales['total_sales'].sum()*100\n",
    "\n",
    "plt.figure(figsize=(15,5))\n",
    "sns.barplot(data=genre_sales, x=\"genre\", y=\"total_sales\").set(xlabel='genre', ylabel='total sales mean')\n",
    "plt.title('sales by genre')\n",
    "\n",
    "genre_sales"
   ]
  },
  {
   "cell_type": "markdown",
   "metadata": {},
   "source": [
    "- after 2013, on average, the most popular genres are Shooter and occupy 22% of the market\n",
    "- Puzzle, Strategy, Adventure genres are the least popular and together occupy 8% of the market"
   ]
  },
  {
   "cell_type": "markdown",
   "metadata": {},
   "source": [
    "### sales by ESRB rating"
   ]
  },
  {
   "cell_type": "code",
   "execution_count": 25,
   "metadata": {},
   "outputs": [
    {
     "data": {
      "text/html": [
       "<div>\n",
       "<style scoped>\n",
       "    .dataframe tbody tr th:only-of-type {\n",
       "        vertical-align: middle;\n",
       "    }\n",
       "\n",
       "    .dataframe tbody tr th {\n",
       "        vertical-align: top;\n",
       "    }\n",
       "\n",
       "    .dataframe thead th {\n",
       "        text-align: right;\n",
       "    }\n",
       "</style>\n",
       "<table border=\"1\" class=\"dataframe\">\n",
       "  <thead>\n",
       "    <tr style=\"text-align: right;\">\n",
       "      <th></th>\n",
       "      <th>rating</th>\n",
       "      <th>total_sales</th>\n",
       "      <th>% sales</th>\n",
       "    </tr>\n",
       "  </thead>\n",
       "  <tbody>\n",
       "    <tr>\n",
       "      <th>2</th>\n",
       "      <td>M</td>\n",
       "      <td>371.68</td>\n",
       "      <td>34.08</td>\n",
       "    </tr>\n",
       "    <tr>\n",
       "      <th>4</th>\n",
       "      <td>no rating</td>\n",
       "      <td>276.84</td>\n",
       "      <td>25.38</td>\n",
       "    </tr>\n",
       "    <tr>\n",
       "      <th>0</th>\n",
       "      <td>E</td>\n",
       "      <td>200.16</td>\n",
       "      <td>18.35</td>\n",
       "    </tr>\n",
       "    <tr>\n",
       "      <th>3</th>\n",
       "      <td>T</td>\n",
       "      <td>126.62</td>\n",
       "      <td>11.61</td>\n",
       "    </tr>\n",
       "    <tr>\n",
       "      <th>1</th>\n",
       "      <td>E10+</td>\n",
       "      <td>115.39</td>\n",
       "      <td>10.58</td>\n",
       "    </tr>\n",
       "  </tbody>\n",
       "</table>\n",
       "</div>"
      ],
      "text/plain": [
       "      rating  total_sales  % sales\n",
       "2          M       371.68    34.08\n",
       "4  no rating       276.84    25.38\n",
       "0          E       200.16    18.35\n",
       "3          T       126.62    11.61\n",
       "1       E10+       115.39    10.58"
      ]
     },
     "execution_count": 25,
     "metadata": {},
     "output_type": "execute_result"
    },
    {
     "data": {
      "image/png": "[encoded data removed]",
      "text/plain": [
       "<Figure size 1000x400 with 1 Axes>"
      ]
     },
     "metadata": {},
     "output_type": "display_data"
    }
   ],
   "source": [
    "# consider how many sales with what ratings\n",
    "genre_sales = pd.pivot_table(df_actual, \n",
    "               index='rating', \n",
    "               values='total_sales', \n",
    "               aggfunc='sum').reset_index().sort_values(by='total_sales', ascending=False)\n",
    "\n",
    "genre_sales['% sales'] = genre_sales['total_sales']/genre_sales['total_sales'].sum()*100\n",
    "\n",
    "plt.figure(figsize=(10,4))\n",
    "sns.barplot(data=genre_sales, x=\"rating\", y=\"total_sales\").set(xlabel='rating', ylabel='total sales')\n",
    "plt.title('sales by genre')\n",
    "\n",
    "genre_sales"
   ]
  },
  {
   "cell_type": "markdown",
   "metadata": {},
   "source": [
    "- 34% of M-rated games sold\n",
    "- 25% (which is a lot) of sales without a rating, we will consider in more detail further"
   ]
  },
  {
   "cell_type": "code",
   "execution_count": 26,
   "metadata": {},
   "outputs": [
    {
     "data": {
      "text/html": [
       "<div>\n",
       "<style scoped>\n",
       "    .dataframe tbody tr th:only-of-type {\n",
       "        vertical-align: middle;\n",
       "    }\n",
       "\n",
       "    .dataframe tbody tr th {\n",
       "        vertical-align: top;\n",
       "    }\n",
       "\n",
       "    .dataframe thead th {\n",
       "        text-align: right;\n",
       "    }\n",
       "</style>\n",
       "<table border=\"1\" class=\"dataframe\">\n",
       "  <thead>\n",
       "    <tr style=\"text-align: right;\">\n",
       "      <th></th>\n",
       "      <th>rating</th>\n",
       "      <th>name</th>\n",
       "      <th>%</th>\n",
       "    </tr>\n",
       "  </thead>\n",
       "  <tbody>\n",
       "    <tr>\n",
       "      <th>7</th>\n",
       "      <td>no rating</td>\n",
       "      <td>5569</td>\n",
       "      <td>48.74</td>\n",
       "    </tr>\n",
       "    <tr>\n",
       "      <th>0</th>\n",
       "      <td>E</td>\n",
       "      <td>2489</td>\n",
       "      <td>21.78</td>\n",
       "    </tr>\n",
       "    <tr>\n",
       "      <th>6</th>\n",
       "      <td>T</td>\n",
       "      <td>1812</td>\n",
       "      <td>15.86</td>\n",
       "    </tr>\n",
       "    <tr>\n",
       "      <th>4</th>\n",
       "      <td>M</td>\n",
       "      <td>846</td>\n",
       "      <td>7.40</td>\n",
       "    </tr>\n",
       "    <tr>\n",
       "      <th>1</th>\n",
       "      <td>E10+</td>\n",
       "      <td>701</td>\n",
       "      <td>6.14</td>\n",
       "    </tr>\n",
       "    <tr>\n",
       "      <th>2</th>\n",
       "      <td>EC</td>\n",
       "      <td>5</td>\n",
       "      <td>0.04</td>\n",
       "    </tr>\n",
       "    <tr>\n",
       "      <th>3</th>\n",
       "      <td>K-A</td>\n",
       "      <td>3</td>\n",
       "      <td>0.03</td>\n",
       "    </tr>\n",
       "    <tr>\n",
       "      <th>5</th>\n",
       "      <td>RP</td>\n",
       "      <td>1</td>\n",
       "      <td>0.01</td>\n",
       "    </tr>\n",
       "  </tbody>\n",
       "</table>\n",
       "</div>"
      ],
      "text/plain": [
       "      rating  name     %\n",
       "7  no rating  5569 48.74\n",
       "0          E  2489 21.78\n",
       "6          T  1812 15.86\n",
       "4          M   846  7.40\n",
       "1       E10+   701  6.14\n",
       "2         EC     5  0.04\n",
       "3        K-A     3  0.03\n",
       "5         RP     1  0.01"
      ]
     },
     "execution_count": 26,
     "metadata": {},
     "output_type": "execute_result"
    },
    {
     "data": {
      "image/png": "[encoded data removed]",
      "text/plain": [
       "<Figure size 1000x400 with 1 Axes>"
      ]
     },
     "metadata": {},
     "output_type": "display_data"
    }
   ],
   "source": [
    "# consider how many games with what rating are generally released\n",
    "genre_sales = pd.pivot_table(games, \n",
    "               index='rating', \n",
    "               values='name', \n",
    "               aggfunc='count').reset_index().sort_values(by='name', ascending=False)\n",
    "\n",
    "genre_sales['%'] = genre_sales['name']/genre_sales['name'].sum()*100\n",
    "\n",
    "plt.figure(figsize=(10,4))\n",
    "sns.barplot(data=genre_sales, x=\"rating\", y=\"name\").set(xlabel='rating', ylabel='number of games by rating')\n",
    "plt.title('sales by genre')\n",
    "\n",
    "genre_sales"
   ]
  },
  {
   "cell_type": "markdown",
   "metadata": {},
   "source": [
    "- 49% of all released games are not rated by the ESRB. this rating is created for games in the USA and Canada, so the rest of the games are from other regions and there is no data for them"
   ]
  },
  {
   "cell_type": "markdown",
   "metadata": {},
   "source": [
    "**CONCLUSION**\n",
    "\n",
    "- due to the growing popularity and availability of personal computers and the development of the Internet, in the 90s, a sharp increase in sales began and reached a peak in 2008-2010 in the region of 1 billion. copies and then began to decline sharply due to the consequences of the global crisis in 2008\n",
    "\n",
    "\n",
    "- different platforms at different times had their popularity, for example PS in 1998, PS2 in 2002 and 2004, Wii in 2009, PS3 in 2014\n",
    "- the average duration of the popularity of the platform is about 10 years\n",
    "- after 2013, the number of sales grows only on the PS4 and XOne platforms, on the rest it decreases\n",
    "\n",
    "\n",
    "- each platform has its own popular games that make very high sales (over 1 million copies)\n",
    "- but for less popular games, the top quartile of global sales does not exceed 0.5 million copies, the median lies in the region of 0.1-0.2 million copies\n",
    "\n",
    "\n",
    "- on PS4 and XOne platforms, which are growing after 2013, the correlation between total sales and critical reviews is weak - 40%\n",
    "- it is interesting that the user rating, unlike the ratings of critics, does not have a correction with sales at all\n",
    "\n",
    "\n",
    "\n",
    "- after 2013, on average, the most popular genres are Shooter and occupy 22% of the market\n",
    "- Puzzle, Strategy, Adventure genres are the least popular and together occupy 8% of the market\n",
    "\n",
    "\n",
    "- 34% of M-rated games sold\n",
    "- 49% of released games without ESRB rating (the rating is created for games in the US and Canada, so the rest of the games are from other regions)"
   ]
  },
  {
   "cell_type": "markdown",
   "metadata": {},
   "source": [
    "## User portrait"
   ]
  },
  {
   "cell_type": "markdown",
   "metadata": {},
   "source": [
    "### genre"
   ]
  },
  {
   "cell_type": "code",
   "execution_count": 27,
   "metadata": {},
   "outputs": [
    {
     "data": {
      "text/html": [
       "<div>\n",
       "<style scoped>\n",
       "    .dataframe tbody tr th:only-of-type {\n",
       "        vertical-align: middle;\n",
       "    }\n",
       "\n",
       "    .dataframe tbody tr th {\n",
       "        vertical-align: top;\n",
       "    }\n",
       "\n",
       "    .dataframe thead th {\n",
       "        text-align: right;\n",
       "    }\n",
       "</style>\n",
       "<table border=\"1\" class=\"dataframe\">\n",
       "  <thead>\n",
       "    <tr style=\"text-align: right;\">\n",
       "      <th></th>\n",
       "      <th>eu_sales</th>\n",
       "      <th>jp_sales</th>\n",
       "      <th>na_sales</th>\n",
       "    </tr>\n",
       "    <tr>\n",
       "      <th>genre</th>\n",
       "      <th></th>\n",
       "      <th></th>\n",
       "      <th></th>\n",
       "    </tr>\n",
       "  </thead>\n",
       "  <tbody>\n",
       "    <tr>\n",
       "      <th>Shooter</th>\n",
       "      <td>22.79</td>\n",
       "      <td>4.82</td>\n",
       "      <td>26.68</td>\n",
       "    </tr>\n",
       "    <tr>\n",
       "      <th>Sports</th>\n",
       "      <td>13.72</td>\n",
       "      <td>3.45</td>\n",
       "      <td>13.87</td>\n",
       "    </tr>\n",
       "    <tr>\n",
       "      <th>Platform</th>\n",
       "      <td>10.21</td>\n",
       "      <td>8.83</td>\n",
       "      <td>11.14</td>\n",
       "    </tr>\n",
       "    <tr>\n",
       "      <th>Fighting</th>\n",
       "      <td>5.18</td>\n",
       "      <td>13.05</td>\n",
       "      <td>8.84</td>\n",
       "    </tr>\n",
       "    <tr>\n",
       "      <th>Misc</th>\n",
       "      <td>6.27</td>\n",
       "      <td>8.10</td>\n",
       "      <td>8.06</td>\n",
       "    </tr>\n",
       "    <tr>\n",
       "      <th>Action</th>\n",
       "      <td>7.48</td>\n",
       "      <td>7.21</td>\n",
       "      <td>7.48</td>\n",
       "    </tr>\n",
       "    <tr>\n",
       "      <th>Role-Playing</th>\n",
       "      <td>6.14</td>\n",
       "      <td>23.86</td>\n",
       "      <td>7.22</td>\n",
       "    </tr>\n",
       "  </tbody>\n",
       "</table>\n",
       "</div>"
      ],
      "text/plain": [
       "              eu_sales  jp_sales  na_sales\n",
       "genre                                     \n",
       "Shooter          22.79      4.82     26.68\n",
       "Sports           13.72      3.45     13.87\n",
       "Platform         10.21      8.83     11.14\n",
       "Fighting          5.18     13.05      8.84\n",
       "Misc              6.27      8.10      8.06\n",
       "Action            7.48      7.21      7.48\n",
       "Role-Playing      6.14     23.86      7.22"
      ]
     },
     "execution_count": 27,
     "metadata": {},
     "output_type": "execute_result"
    },
    {
     "data": {
      "image/png": "[encoded data removed]",
      "text/plain": [
       "<Figure size 1800x500 with 1 Axes>"
      ]
     },
     "metadata": {},
     "output_type": "display_data"
    }
   ],
   "source": [
    "# see how popular genres differ by region\n",
    "genre_region = pd.pivot_table(df_actual, \n",
    "               index='genre', \n",
    "               values=['na_sales', 'eu_sales','jp_sales'], \n",
    "               aggfunc='mean').sort_values(by='na_sales', ascending=False)\n",
    "\n",
    "# we will make a percentage to level the difference in the number of sales\n",
    "genre_region['na_sales'] = genre_region['na_sales']/genre_region['na_sales'].sum()*100\n",
    "genre_region['eu_sales'] = genre_region['eu_sales']/genre_region['eu_sales'].sum()*100\n",
    "genre_region['jp_sales'] = genre_region['jp_sales']/genre_region['jp_sales'].sum()*100\n",
    "\n",
    "genre_region.plot(kind='bar', figsize=(18,5))\n",
    "plt.title('genre by region')\n",
    "plt.xlabel('genre')\n",
    "plt.ylabel('sales mean by region')\n",
    "\n",
    "genre_region.head(7)"
   ]
  },
  {
   "cell_type": "markdown",
   "metadata": {},
   "source": [
    "- in terms of genres, users in the NA and EU regions have similar interests - on average, the most popular are Shooter (~22-27%), Sports (~13%)\n",
    "- users of the JP region on average like Role-Playing the most (24%), and vice versa dislike Shooter (5%) and Sports (4%) + like Puzzle (9%) more than in other regions"
   ]
  },
  {
   "cell_type": "markdown",
   "metadata": {},
   "source": [
    "### platform"
   ]
  },
  {
   "cell_type": "code",
   "execution_count": 28,
   "metadata": {},
   "outputs": [
    {
     "data": {
      "text/html": [
       "<div>\n",
       "<style scoped>\n",
       "    .dataframe tbody tr th:only-of-type {\n",
       "        vertical-align: middle;\n",
       "    }\n",
       "\n",
       "    .dataframe tbody tr th {\n",
       "        vertical-align: top;\n",
       "    }\n",
       "\n",
       "    .dataframe thead th {\n",
       "        text-align: right;\n",
       "    }\n",
       "</style>\n",
       "<table border=\"1\" class=\"dataframe\">\n",
       "  <thead>\n",
       "    <tr style=\"text-align: right;\">\n",
       "      <th></th>\n",
       "      <th>eu_sales</th>\n",
       "      <th>jp_sales</th>\n",
       "      <th>na_sales</th>\n",
       "    </tr>\n",
       "    <tr>\n",
       "      <th>platform</th>\n",
       "      <th></th>\n",
       "      <th></th>\n",
       "      <th></th>\n",
       "    </tr>\n",
       "  </thead>\n",
       "  <tbody>\n",
       "    <tr>\n",
       "      <th>PS4</th>\n",
       "      <td>35.97</td>\n",
       "      <td>11.34</td>\n",
       "      <td>24.84</td>\n",
       "    </tr>\n",
       "    <tr>\n",
       "      <th>XOne</th>\n",
       "      <td>13.15</td>\n",
       "      <td>0.24</td>\n",
       "      <td>21.27</td>\n",
       "    </tr>\n",
       "    <tr>\n",
       "      <th>X360</th>\n",
       "      <td>10.84</td>\n",
       "      <td>0.36</td>\n",
       "      <td>18.66</td>\n",
       "    </tr>\n",
       "    <tr>\n",
       "      <th>PS3</th>\n",
       "      <td>17.29</td>\n",
       "      <td>16.59</td>\n",
       "      <td>14.51</td>\n",
       "    </tr>\n",
       "    <tr>\n",
       "      <th>3DS</th>\n",
       "      <td>7.89</td>\n",
       "      <td>48.17</td>\n",
       "      <td>8.73</td>\n",
       "    </tr>\n",
       "  </tbody>\n",
       "</table>\n",
       "</div>"
      ],
      "text/plain": [
       "          eu_sales  jp_sales  na_sales\n",
       "platform                              \n",
       "PS4          35.97     11.34     24.84\n",
       "XOne         13.15      0.24     21.27\n",
       "X360         10.84      0.36     18.66\n",
       "PS3          17.29     16.59     14.51\n",
       "3DS           7.89     48.17      8.73"
      ]
     },
     "execution_count": 28,
     "metadata": {},
     "output_type": "execute_result"
    },
    {
     "data": {
      "image/png": "[encoded data removed]",
      "text/plain": [
       "<Figure size 1800x500 with 1 Axes>"
      ]
     },
     "metadata": {},
     "output_type": "display_data"
    }
   ],
   "source": [
    "# see how platforms differ by region\n",
    "platform_region = pd.pivot_table(df_actual, \n",
    "               index='platform', \n",
    "               values=['na_sales', 'eu_sales','jp_sales'], \n",
    "               aggfunc='sum').sort_values(by='na_sales', ascending=False)\n",
    "\n",
    "# we will make a percentage to level the difference in the number of sales\n",
    "platform_region['na_sales'] = platform_region['na_sales']/platform_region['na_sales'].sum()*100\n",
    "platform_region['eu_sales'] = platform_region['eu_sales']/platform_region['eu_sales'].sum()*100\n",
    "platform_region['jp_sales'] = platform_region['jp_sales']/platform_region['jp_sales'].sum()*100\n",
    "\n",
    "platform_region.plot(kind='bar', figsize=(18,5))\n",
    "plt.title('platform by region')\n",
    "plt.xlabel('platforn')\n",
    "plt.ylabel('sales sum by region')\n",
    "\n",
    "platform_region.head()"
   ]
  },
  {
   "cell_type": "markdown",
   "metadata": {},
   "source": [
    "- PS4, XOne, X360 and PS3 platforms are the most popular in NA and EU regions\n",
    "- 48% of JP users choose 3DS platform and almost never use XOne and X360\n",
    "\n",
    "Nintendo, which produces the 3DS, is a Japanese company, which is why the 3DS platform is so popular in the JP region"
   ]
  },
  {
   "cell_type": "markdown",
   "metadata": {},
   "source": [
    "### ESRB rating"
   ]
  },
  {
   "cell_type": "code",
   "execution_count": 29,
   "metadata": {},
   "outputs": [
    {
     "data": {
      "text/html": [
       "<div>\n",
       "<style scoped>\n",
       "    .dataframe tbody tr th:only-of-type {\n",
       "        vertical-align: middle;\n",
       "    }\n",
       "\n",
       "    .dataframe tbody tr th {\n",
       "        vertical-align: top;\n",
       "    }\n",
       "\n",
       "    .dataframe thead th {\n",
       "        text-align: right;\n",
       "    }\n",
       "</style>\n",
       "<table border=\"1\" class=\"dataframe\">\n",
       "  <thead>\n",
       "    <tr style=\"text-align: right;\">\n",
       "      <th></th>\n",
       "      <th>eu_sales</th>\n",
       "      <th>jp_sales</th>\n",
       "      <th>na_sales</th>\n",
       "    </tr>\n",
       "    <tr>\n",
       "      <th>rating</th>\n",
       "      <th></th>\n",
       "      <th></th>\n",
       "      <th></th>\n",
       "    </tr>\n",
       "  </thead>\n",
       "  <tbody>\n",
       "    <tr>\n",
       "      <th>no rating</th>\n",
       "      <td>20.12</td>\n",
       "      <td>60.41</td>\n",
       "      <td>20.43</td>\n",
       "    </tr>\n",
       "    <tr>\n",
       "      <th>T</th>\n",
       "      <td>10.70</td>\n",
       "      <td>14.63</td>\n",
       "      <td>11.38</td>\n",
       "    </tr>\n",
       "    <tr>\n",
       "      <th>M</th>\n",
       "      <td>37.05</td>\n",
       "      <td>10.02</td>\n",
       "      <td>37.74</td>\n",
       "    </tr>\n",
       "    <tr>\n",
       "      <th>E10+</th>\n",
       "      <td>10.88</td>\n",
       "      <td>4.18</td>\n",
       "      <td>12.39</td>\n",
       "    </tr>\n",
       "    <tr>\n",
       "      <th>E</th>\n",
       "      <td>21.25</td>\n",
       "      <td>10.75</td>\n",
       "      <td>18.06</td>\n",
       "    </tr>\n",
       "  </tbody>\n",
       "</table>\n",
       "</div>"
      ],
      "text/plain": [
       "           eu_sales  jp_sales  na_sales\n",
       "rating                                 \n",
       "no rating     20.12     60.41     20.43\n",
       "T             10.70     14.63     11.38\n",
       "M             37.05     10.02     37.74\n",
       "E10+          10.88      4.18     12.39\n",
       "E             21.25     10.75     18.06"
      ]
     },
     "execution_count": 29,
     "metadata": {},
     "output_type": "execute_result"
    },
    {
     "data": {
      "image/png": "[encoded data removed]",
      "text/plain": [
       "<Figure size 1800x500 with 1 Axes>"
      ]
     },
     "metadata": {},
     "output_type": "display_data"
    }
   ],
   "source": [
    "# see how the ratings differ by region\n",
    "rating_region = pd.pivot_table(df_actual, \n",
    "               index='rating', \n",
    "               values=['na_sales', 'eu_sales','jp_sales'], \n",
    "               aggfunc='sum').sort_values(by='rating', ascending=False)\n",
    "\n",
    "# we will make a percentage to level the difference in the number of sales\n",
    "rating_region['na_sales'] = rating_region['na_sales']/rating_region['na_sales'].sum()*100\n",
    "rating_region['eu_sales'] = rating_region['eu_sales']/rating_region['eu_sales'].sum()*100\n",
    "rating_region['jp_sales'] = rating_region['jp_sales']/rating_region['jp_sales'].sum()*100\n",
    "\n",
    "rating_region.plot(kind='bar', figsize=(18,5))\n",
    "plt.title('platform by region')\n",
    "plt.xlabel('rating ESRB')\n",
    "plt.ylabel('sales sum by region')\n",
    "\n",
    "rating_region"
   ]
  },
  {
   "cell_type": "markdown",
   "metadata": {},
   "source": [
    "- in NA and EU regions, most users choose M rating\n",
    "- in the JP region, most users play games without an ESRB rating (this rating is for the game in the US and Canada, so it's normal that there is no data in Japan)\n",
    "\n",
    "we can conclude that the rating (or lack of it) can affect sales in the region - for Japan it is not important, for NA and EU M is more popular"
   ]
  },
  {
   "cell_type": "markdown",
   "metadata": {},
   "source": [
    "**CONCLUSION**\n",
    "\n",
    "*genre*\n",
    "- in terms of genres, users in the NA and EU regions have similar interests - on average, the most popular are Shooter (~22-27%), Sports (~13%)\n",
    "- users of the JP region on average like Role-Playing the most (24%), and vice versa dislike Shooter (5%) and Sports (4%) + like Puzzle (9%) more than in other regions\n",
    "\n",
    "*platform*\n",
    "- PS4, XOne, X360 and PS3 platforms are the most popular in NA and EU regions\n",
    "- 48% of JP users choose the 3DS platform (because Nintendo, which produces the 3DS, is a Japanese company) and almost never use the XOne and X360\n",
    "\n",
    "*rating*\n",
    "- in NA and EU regions, most users choose M rating\n",
    "- in the JP region, most users play games without an ESRB rating (this rating is for the game in the US and Canada, so it's normal that there is no data in Japan)\n",
    "- we can conclude that the rating (or lack of it) can affect sales in the region - for Japan it is not important, for NA and EU M is more popular"
   ]
  },
  {
   "cell_type": "markdown",
   "metadata": {},
   "source": [
    "## Statistical hypothesis testing"
   ]
  },
  {
   "cell_type": "markdown",
   "metadata": {},
   "source": [
    "- we use ttest_ind to test hypotheses, since we need to test independent samples from two different datasets\n",
    "- we assume that the samples are similar in terms of parameters and variance, so we make the parameter equal_var = True\n",
    "- set alpha to 5%\n",
    "- make a decision to accept or reject the null hypothesis by p-value"
   ]
  },
  {
   "cell_type": "markdown",
   "metadata": {},
   "source": [
    "### hypothesis 1"
   ]
  },
  {
   "cell_type": "markdown",
   "metadata": {},
   "source": [
    "Let's formulate hypotheses:\n",
    "- null hypothesis H0: The average user ratings of the XboxOne and PC platforms are the same\n",
    "- alternative hypothesis H1: The average user ratings of the XboxOne and PC platforms are NOT the same\n",
    "\n",
    "if H0 is rejected, examine one-sided hypotheses"
   ]
  },
  {
   "cell_type": "code",
   "execution_count": 30,
   "metadata": {},
   "outputs": [
    {
     "name": "stdout",
     "output_type": "stream",
     "text": [
      "p-value: 0.14012658403611647\n",
      "mean-value user rating XOne: 6.52\n",
      "mean-value user rating PC: 6.27\n",
      "\n",
      "Failed to reject null hypothesis: Average user ratings of XboxOne and PC platforms are NOT significantly different\n"
     ]
    }
   ],
   "source": [
    "XOne_score = df_actual[df_actual['platform'] == 'XOne'].user_score.reset_index(drop=True).dropna()\n",
    "PC_score = df_actual[df_actual['platform'] == 'PC'].user_score.reset_index(drop=True).dropna()\n",
    "\n",
    "alpha = .05\n",
    "\n",
    "# test the hypothesis that the means of two independent datasets are equal\n",
    "results = st.ttest_ind(XOne_score, PC_score, equal_var = True)\n",
    "\n",
    "print('p-value:', results.pvalue)\n",
    "print('mean-value user rating XOne:', round(XOne_score.mean(),2))\n",
    "print('mean-value user rating PC:', round(PC_score.mean(),2))\n",
    "print()\n",
    "\n",
    "if results.pvalue < alpha:\n",
    "    print(\"Rejecting the Null Hypothesis: The Average User Ratings of the Xbox One and PC Platforms Are Significantly Different\")\n",
    "else:\n",
    "    print(\"Failed to reject null hypothesis: Average user ratings of XboxOne and PC platforms are NOT significantly different\")"
   ]
  },
  {
   "cell_type": "markdown",
   "metadata": {},
   "source": [
    "**conclusion**\n",
    "\n",
    "It was not possible to reject the null hypothesis: The average user ratings of the XboxOne and PC platforms are NOT significantly different, we will not consider a one-sided hypothesis"
   ]
  },
  {
   "cell_type": "markdown",
   "metadata": {},
   "source": [
    "### hypothesis 1"
   ]
  },
  {
   "cell_type": "markdown",
   "metadata": {},
   "source": [
    "formulate hypotheses:\n",
    "- null hypothesis H0: The average user ratings of the Action and Sports genres are the same\n",
    "- alternative hypothesis H1: The average user ratings of the Action and Sports genres are NOT the same\n",
    "\n",
    "if H0 is rejected, examine one-sided hypotheses"
   ]
  },
  {
   "cell_type": "code",
   "execution_count": 31,
   "metadata": {},
   "outputs": [
    {
     "name": "stdout",
     "output_type": "stream",
     "text": [
      "p-value: 1.0517832389140023e-27\n",
      "mean-value genre Action: 6.84\n",
      "mean-value genre Sports: 5.24\n",
      "\n",
      "Rejecting the Null Hypothesis: Average User Ratings for Action and Sports Are Significantly Different\n"
     ]
    }
   ],
   "source": [
    "action = df_actual[df_actual['genre'] == 'Action'].user_score.reset_index(drop=True).dropna()\n",
    "sports = df_actual[df_actual['genre'] == 'Sports'].user_score.reset_index(drop=True).dropna()\n",
    "\n",
    "alpha = .05\n",
    "\n",
    "# test the hypothesis that the means of two independent datasets are equal\n",
    "results = st.ttest_ind(action, sports, equal_var = True)\n",
    "\n",
    "print('p-value:', results.pvalue)\n",
    "print('mean-value genre Action:', round(action.mean(),2))\n",
    "print('mean-value genre Sports:', round(sports.mean(),2))\n",
    "print()\n",
    "\n",
    "if results.pvalue < alpha:\n",
    "    print(\"Rejecting the Null Hypothesis: Average User Ratings for Action and Sports Are Significantly Different\")\n",
    "else:\n",
    "    print(\"We failed to reject the null hypothesis: The average user ratings of the Action and Sports genres are the same and do NOT differ significantly\")"
   ]
  },
  {
   "cell_type": "markdown",
   "metadata": {},
   "source": [
    "**conclusion**\n",
    "\n",
    "It was not possible to reject the null hypothesis: The average user ratings of the Action and Sports genres are the same and do NOT significantly differ, we will not consider the two-tailed hypothesis"
   ]
  },
  {
   "cell_type": "markdown",
   "metadata": {},
   "source": [
    "## Conclusion"
   ]
  },
  {
   "cell_type": "markdown",
   "metadata": {},
   "source": [
    "**Research objective**: to identify patterns that determine the success of the game, which will allow you to place a bet on a potentially popular product and plan advertising campaigns.\n",
    "\n",
    "**data:**\n",
    "    \n",
    "- data on sales of computer games from 2006 to 2016, user and expert ratings, genres and platforms\n",
    "- Column names are reduced to lower case, columns are converted to appropriate type, less than 2% of values ​​are removed\n",
    "- critic_score and user_score data were not filled with mean/median, because this can greatly distort the data, games can be too different in characteristics, based only on the year, platform and genre incorrectly. empty values ​​are most likely due to the fact that the data was collected manually or simply did not exist, because the game did not attract attention or the ratings were not collected in those years\n",
    "- outliers with the number of sales were not deleted, because this is not an error, but the most popular games, left them for analysis"
   ]
  },
  {
   "cell_type": "markdown",
   "metadata": {},
   "source": [
    "**exploratory data analysis:**\n",
    "\n",
    "- due to the growing popularity and availability of personal computers and the development of the Internet, in the 90s, a sharp increase in sales began and reached a peak in 2008-2010 in the region of 1 billion. copies and then began to decline sharply and fell to 0.3 billion due to the consequences of the global crisis in 2008\n",
    "\n",
    "- different platforms at different times had their popularity, for example PS in 1998, PS2 in 2002 and 2004, Wii in 2009, PS3 in 2014\n",
    "- the average duration of the popularity of the platform is about 10 years\n",
    "- after 2013, the number of sales grows only on the PS4 and XOne platforms, on the rest it decreases\n",
    "\n",
    "\n",
    "- each platform has its own popular games that make very high sales (over 1 million copies)\n",
    "- but for less popular games, the top quartile of global sales does not exceed 0.5 million copies, the median lies in the region of 0.1-0.2 million copies\n",
    "\n",
    "\n",
    "- on PS4 and XOne platforms that are growing after 2013, *correlation between total sales and critical reviews is weak* - 40%\n",
    "- it is interesting that the user rating, unlike the ratings of critics, does not have a correction with sales at all\n",
    "\n",
    "\n",
    "- after 2013, on average, the most popular genres are Shooter and occupy 22% of the market\n",
    "- Puzzle, Strategy, Adventure genres are the least popular and together occupy 8% of the market\n",
    "\n",
    "- 34% of M-rated games sold\n",
    "- 49% of all released games without an ESRB rating (the rating is created for games in the US and Canada, so the rest of the games are from other regions)"
   ]
  },
  {
   "cell_type": "markdown",
   "metadata": {},
   "source": [
    "**user portrait:**\n",
    "\n",
    "*genre*\n",
    "- in terms of genres, users in the NA and EU regions have similar interests - on average, the most popular are Shooter (~22-27%), Sports (~13%)\n",
    "- users of the JP region on average like Role-Playing the most (24%), and vice versa dislike Shooter (5%) and Sports (4%) + like Puzzle (9%) more than in other regions\n",
    "\n",
    "*platform*\n",
    "- PS4, XOne, X360 and PS3 platforms are the most popular in NA and EU regions\n",
    "- 48% of JP users choose the 3DS platform (because Nintendo, which produces the 3DS, is a Japanese company) and almost never use the XOne and X360\n",
    "\n",
    "*ESRB rating*\n",
    "- in NA and EU regions, most users choose M rating\n",
    "- in the JP region, most users play games without an ESRB rating (this rating is for games in the US and Canada, so it's normal that there is no data in Japan)\n",
    "- we can conclude that the rating (or lack of it) can affect sales in the region - for Japan it is not important, for NA and EU M is more popular"
   ]
  },
  {
   "cell_type": "markdown",
   "metadata": {},
   "source": [
    "**tested hypotheses**\n",
    "\n",
    "- used functions: ttest_ind (equal_var = True) for two-tailed hypothesis, ttest_1samp for one-tailed hypothesis\n",
    "- alpha = 5%\n",
    "- make a decision to accept or reject the null hypothesis by p-value\n",
    "\n",
    "*Hypothesis 1: The average user ratings of the Xbox One and PC platforms are the same*\n",
    "- one-sided hypothesis: Failed to reject the null hypothesis: The average user ratings of the Xbox One and PC platforms are NOT significantly different\n",
    "\n",
    "*Hypothesis 2: Average user ratings for Action and Sports are the same*\n",
    "- one-sided hypothesis: We failed to reject the null hypothesis: *Average user ratings of the Action and Sports genres are the same, NOT significantly different*"
   ]
  },
  {
   "cell_type": "markdown",
   "metadata": {},
   "source": [
    "**WHAT DEFINES A SUCCESSFUL GAME?**\n",
    "\n",
    "1. Genre (Most Popular Genre - Shooter)\n",
    "2. platform (after 2013, the popularity of PS4 and XOne is growing)\n",
    "3. ESRB rating (34% of M-rated games sold)\n",
    "4. region (for example, in the JP region, half of the users choose the 3DS platform, they prefer the Role-Playing genre and play games without ESRB rating)"
   ]
  }
 ],
 "metadata": {
  "ExecuteTimeLog": [
   {
    "duration": 1256,
    "start_time": "2022-06-14T11:45:57.940Z"
   },
   {
    "duration": 1169,
    "start_time": "2022-06-14T11:46:44.002Z"
   },
   {
    "duration": 44,
    "start_time": "2022-06-14T11:47:11.795Z"
   },
   {
    "duration": 136,
    "start_time": "2022-06-14T11:47:54.198Z"
   },
   {
    "duration": 3,
    "start_time": "2022-06-14T16:32:12.011Z"
   },
   {
    "duration": 39,
    "start_time": "2022-06-14T16:32:28.516Z"
   },
   {
    "duration": 1173,
    "start_time": "2022-06-14T16:36:27.063Z"
   },
   {
    "duration": 190,
    "start_time": "2022-06-14T16:36:28.238Z"
   },
   {
    "duration": 18,
    "start_time": "2022-06-14T16:36:28.430Z"
   },
   {
    "duration": 4,
    "start_time": "2022-06-14T16:42:41.589Z"
   },
   {
    "duration": 19,
    "start_time": "2022-06-14T16:42:44.550Z"
   },
   {
    "duration": 92,
    "start_time": "2022-06-14T16:44:34.489Z"
   },
   {
    "duration": 6,
    "start_time": "2022-06-14T16:44:49.552Z"
   },
   {
    "duration": 15,
    "start_time": "2022-06-14T16:44:52.109Z"
   },
   {
    "duration": 22,
    "start_time": "2022-06-14T16:44:55.489Z"
   },
   {
    "duration": 15,
    "start_time": "2022-06-14T16:45:14.569Z"
   },
   {
    "duration": 16,
    "start_time": "2022-06-14T16:45:15.225Z"
   },
   {
    "duration": 24,
    "start_time": "2022-06-14T16:45:29.344Z"
   },
   {
    "duration": 166,
    "start_time": "2022-06-14T16:46:01.743Z"
   },
   {
    "duration": 12,
    "start_time": "2022-06-14T16:46:29.925Z"
   },
   {
    "duration": 10,
    "start_time": "2022-06-14T16:46:36.522Z"
   },
   {
    "duration": 9,
    "start_time": "2022-06-14T16:47:44.805Z"
   },
   {
    "duration": 61,
    "start_time": "2022-06-14T16:47:50.854Z"
   },
   {
    "duration": 3,
    "start_time": "2022-06-14T16:47:55.027Z"
   },
   {
    "duration": 7,
    "start_time": "2022-06-14T16:47:58.851Z"
   },
   {
    "duration": 7,
    "start_time": "2022-06-14T16:48:13.193Z"
   },
   {
    "duration": 9,
    "start_time": "2022-06-14T16:48:17.286Z"
   },
   {
    "duration": 4,
    "start_time": "2022-06-14T16:48:20.960Z"
   },
   {
    "duration": 16,
    "start_time": "2022-06-14T16:48:22.320Z"
   },
   {
    "duration": 14,
    "start_time": "2022-06-14T16:48:58.113Z"
   },
   {
    "duration": 7,
    "start_time": "2022-06-14T16:49:02.226Z"
   },
   {
    "duration": 12,
    "start_time": "2022-06-14T16:49:23.801Z"
   },
   {
    "duration": 10,
    "start_time": "2022-06-14T16:49:28.931Z"
   },
   {
    "duration": 9,
    "start_time": "2022-06-14T16:49:42.569Z"
   },
   {
    "duration": 8,
    "start_time": "2022-06-14T16:49:47.650Z"
   },
   {
    "duration": 9,
    "start_time": "2022-06-14T16:50:02.839Z"
   },
   {
    "duration": 26,
    "start_time": "2022-06-14T16:50:46.657Z"
   },
   {
    "duration": 29,
    "start_time": "2022-06-14T16:53:00.207Z"
   },
   {
    "duration": 13,
    "start_time": "2022-06-14T16:53:31.638Z"
   },
   {
    "duration": 9,
    "start_time": "2022-06-14T16:54:00.256Z"
   },
   {
    "duration": 24,
    "start_time": "2022-06-14T16:54:13.091Z"
   },
   {
    "duration": 22,
    "start_time": "2022-06-14T16:54:23.313Z"
   },
   {
    "duration": 4,
    "start_time": "2022-06-14T16:54:41.429Z"
   },
   {
    "duration": 18,
    "start_time": "2022-06-14T16:54:43.113Z"
   },
   {
    "duration": 34,
    "start_time": "2022-06-14T16:54:51.087Z"
   },
   {
    "duration": 237,
    "start_time": "2022-06-14T16:55:02.829Z"
   },
   {
    "duration": 27,
    "start_time": "2022-06-14T16:55:17.392Z"
   },
   {
    "duration": 7,
    "start_time": "2022-06-14T16:56:39.176Z"
   },
   {
    "duration": 8,
    "start_time": "2022-06-14T16:57:14.127Z"
   },
   {
    "duration": 7,
    "start_time": "2022-06-14T16:57:20.620Z"
   },
   {
    "duration": 4,
    "start_time": "2022-06-14T16:57:39.648Z"
   },
   {
    "duration": 15,
    "start_time": "2022-06-14T16:57:41.465Z"
   },
   {
    "duration": 4,
    "start_time": "2022-06-14T16:57:43.165Z"
   },
   {
    "duration": 15,
    "start_time": "2022-06-14T16:57:43.737Z"
   },
   {
    "duration": 5,
    "start_time": "2022-06-14T16:59:12.257Z"
   },
   {
    "duration": 21,
    "start_time": "2022-06-14T16:59:19.389Z"
   },
   {
    "duration": 10,
    "start_time": "2022-06-14T16:59:48.787Z"
   },
   {
    "duration": 22,
    "start_time": "2022-06-14T16:59:53.571Z"
   },
   {
    "duration": 6,
    "start_time": "2022-06-14T17:00:15.358Z"
   },
   {
    "duration": 16,
    "start_time": "2022-06-14T17:01:06.233Z"
   },
   {
    "duration": 3,
    "start_time": "2022-06-14T17:02:27.640Z"
   },
   {
    "duration": 14,
    "start_time": "2022-06-14T17:02:30.628Z"
   },
   {
    "duration": 8,
    "start_time": "2022-06-14T17:02:56.527Z"
   },
   {
    "duration": 17,
    "start_time": "2022-06-14T17:03:00.755Z"
   },
   {
    "duration": 3,
    "start_time": "2022-06-14T17:07:10.946Z"
   },
   {
    "duration": 37,
    "start_time": "2022-06-14T17:07:10.950Z"
   },
   {
    "duration": 22,
    "start_time": "2022-06-14T17:07:10.988Z"
   },
   {
    "duration": 43,
    "start_time": "2022-06-14T17:07:11.013Z"
   },
   {
    "duration": 8,
    "start_time": "2022-06-14T17:07:11.058Z"
   },
   {
    "duration": 14,
    "start_time": "2022-06-14T17:07:11.067Z"
   },
   {
    "duration": 3,
    "start_time": "2022-06-14T17:07:11.083Z"
   },
   {
    "duration": 39,
    "start_time": "2022-06-14T17:07:11.087Z"
   },
   {
    "duration": 7,
    "start_time": "2022-06-14T17:07:11.128Z"
   },
   {
    "duration": 10,
    "start_time": "2022-06-14T17:07:11.136Z"
   },
   {
    "duration": 8,
    "start_time": "2022-06-14T17:10:00.461Z"
   },
   {
    "duration": 11,
    "start_time": "2022-06-14T17:10:02.129Z"
   },
   {
    "duration": 96,
    "start_time": "2022-06-14T17:17:59.329Z"
   },
   {
    "duration": 7,
    "start_time": "2022-06-14T17:18:05.836Z"
   },
   {
    "duration": 901,
    "start_time": "2022-06-14T17:18:13.407Z"
   },
   {
    "duration": 55,
    "start_time": "2022-06-14T17:18:14.310Z"
   },
   {
    "duration": 11,
    "start_time": "2022-06-14T17:18:14.367Z"
   },
   {
    "duration": 25,
    "start_time": "2022-06-14T17:18:14.381Z"
   },
   {
    "duration": 8,
    "start_time": "2022-06-14T17:18:14.407Z"
   },
   {
    "duration": 13,
    "start_time": "2022-06-14T17:18:14.416Z"
   },
   {
    "duration": 2,
    "start_time": "2022-06-14T17:18:14.430Z"
   },
   {
    "duration": 8,
    "start_time": "2022-06-14T17:18:14.434Z"
   },
   {
    "duration": 8,
    "start_time": "2022-06-14T17:18:14.444Z"
   },
   {
    "duration": 6,
    "start_time": "2022-06-14T17:18:14.454Z"
   },
   {
    "duration": 45,
    "start_time": "2022-06-14T17:18:14.461Z"
   },
   {
    "duration": 3,
    "start_time": "2022-06-14T17:18:14.507Z"
   },
   {
    "duration": 197,
    "start_time": "2022-06-14T17:20:23.395Z"
   },
   {
    "duration": 158,
    "start_time": "2022-06-14T17:20:44.543Z"
   },
   {
    "duration": 174,
    "start_time": "2022-06-14T17:20:50.550Z"
   },
   {
    "duration": 173,
    "start_time": "2022-06-14T17:20:57.681Z"
   },
   {
    "duration": 310,
    "start_time": "2022-06-14T17:22:41.497Z"
   },
   {
    "duration": 381,
    "start_time": "2022-06-14T17:23:21.204Z"
   },
   {
    "duration": 334,
    "start_time": "2022-06-14T17:24:00.250Z"
   },
   {
    "duration": 338,
    "start_time": "2022-06-14T17:24:12.785Z"
   },
   {
    "duration": 155,
    "start_time": "2022-06-14T17:25:05.934Z"
   },
   {
    "duration": 194,
    "start_time": "2022-06-14T17:25:19.110Z"
   },
   {
    "duration": 258,
    "start_time": "2022-06-14T17:25:26.072Z"
   },
   {
    "duration": 150,
    "start_time": "2022-06-14T17:25:32.613Z"
   },
   {
    "duration": 5,
    "start_time": "2022-06-14T17:26:03.395Z"
   },
   {
    "duration": 10,
    "start_time": "2022-06-14T17:26:38.206Z"
   },
   {
    "duration": 4,
    "start_time": "2022-06-14T17:26:46.576Z"
   },
   {
    "duration": 4,
    "start_time": "2022-06-14T17:26:51.641Z"
   },
   {
    "duration": 14,
    "start_time": "2022-06-14T17:26:57.607Z"
   },
   {
    "duration": 16,
    "start_time": "2022-06-14T17:27:27.276Z"
   },
   {
    "duration": 14,
    "start_time": "2022-06-14T17:28:19.461Z"
   },
   {
    "duration": 354,
    "start_time": "2022-06-14T17:29:22.345Z"
   },
   {
    "duration": 15,
    "start_time": "2022-06-14T17:29:47.629Z"
   },
   {
    "duration": 17,
    "start_time": "2022-06-14T17:29:52.841Z"
   },
   {
    "duration": 12,
    "start_time": "2022-06-14T17:30:44.270Z"
   },
   {
    "duration": 16,
    "start_time": "2022-06-14T17:30:59.739Z"
   },
   {
    "duration": 329,
    "start_time": "2022-06-14T17:31:35.558Z"
   },
   {
    "duration": 602,
    "start_time": "2022-06-14T17:31:56.995Z"
   },
   {
    "duration": 16,
    "start_time": "2022-06-14T17:32:11.841Z"
   },
   {
    "duration": 14,
    "start_time": "2022-06-14T17:32:30.252Z"
   },
   {
    "duration": 12,
    "start_time": "2022-06-14T17:34:36.427Z"
   },
   {
    "duration": 11,
    "start_time": "2022-06-14T17:35:09.081Z"
   },
   {
    "duration": 14,
    "start_time": "2022-06-14T17:35:53.033Z"
   },
   {
    "duration": 151,
    "start_time": "2022-06-14T17:36:41.786Z"
   },
   {
    "duration": 153,
    "start_time": "2022-06-14T17:36:47.827Z"
   },
   {
    "duration": 338,
    "start_time": "2022-06-14T17:38:19.158Z"
   },
   {
    "duration": 289,
    "start_time": "2022-06-14T17:38:34.277Z"
   },
   {
    "duration": 12,
    "start_time": "2022-06-14T17:40:30.856Z"
   },
   {
    "duration": 11,
    "start_time": "2022-06-14T17:40:54.546Z"
   },
   {
    "duration": 10,
    "start_time": "2022-06-14T17:41:56.753Z"
   },
   {
    "duration": 12,
    "start_time": "2022-06-14T17:42:00.930Z"
   },
   {
    "duration": 7,
    "start_time": "2022-06-14T17:42:09.741Z"
   },
   {
    "duration": 14,
    "start_time": "2022-06-14T17:42:26.283Z"
   },
   {
    "duration": 16,
    "start_time": "2022-06-14T17:43:13.938Z"
   },
   {
    "duration": 16,
    "start_time": "2022-06-14T17:43:33.602Z"
   },
   {
    "duration": 7,
    "start_time": "2022-06-14T17:44:49.785Z"
   },
   {
    "duration": 8,
    "start_time": "2022-06-14T17:44:54.234Z"
   },
   {
    "duration": 7,
    "start_time": "2022-06-14T17:45:08.015Z"
   },
   {
    "duration": 11,
    "start_time": "2022-06-14T17:45:12.158Z"
   },
   {
    "duration": 15,
    "start_time": "2022-06-14T17:45:17.928Z"
   },
   {
    "duration": 7,
    "start_time": "2022-06-14T17:45:23.785Z"
   },
   {
    "duration": 7,
    "start_time": "2022-06-14T17:45:27.537Z"
   },
   {
    "duration": 16,
    "start_time": "2022-06-14T17:46:27.338Z"
   },
   {
    "duration": 8,
    "start_time": "2022-06-14T17:47:18.976Z"
   },
   {
    "duration": 11,
    "start_time": "2022-06-14T17:55:21.322Z"
   },
   {
    "duration": 85,
    "start_time": "2022-06-14T17:55:49.072Z"
   },
   {
    "duration": 7,
    "start_time": "2022-06-14T17:56:01.065Z"
   },
   {
    "duration": 7,
    "start_time": "2022-06-14T17:56:06.855Z"
   },
   {
    "duration": 8,
    "start_time": "2022-06-14T17:56:17.912Z"
   },
   {
    "duration": 3,
    "start_time": "2022-06-14T17:56:20.370Z"
   },
   {
    "duration": 13,
    "start_time": "2022-06-14T18:07:28.076Z"
   },
   {
    "duration": 14,
    "start_time": "2022-06-14T18:07:46.759Z"
   },
   {
    "duration": 21,
    "start_time": "2022-06-14T18:07:58.027Z"
   },
   {
    "duration": 15,
    "start_time": "2022-06-14T18:08:56.865Z"
   },
   {
    "duration": 15,
    "start_time": "2022-06-14T18:09:26.542Z"
   },
   {
    "duration": 31,
    "start_time": "2022-06-14T18:10:44.743Z"
   },
   {
    "duration": 19,
    "start_time": "2022-06-14T18:11:06.049Z"
   },
   {
    "duration": 13,
    "start_time": "2022-06-14T18:11:25.562Z"
   },
   {
    "duration": 4,
    "start_time": "2022-06-14T18:11:40.932Z"
   },
   {
    "duration": 7,
    "start_time": "2022-06-14T18:12:01.241Z"
   },
   {
    "duration": 7,
    "start_time": "2022-06-14T18:12:44.310Z"
   },
   {
    "duration": 20,
    "start_time": "2022-06-14T18:13:22.610Z"
   },
   {
    "duration": 26,
    "start_time": "2022-06-14T18:13:32.463Z"
   },
   {
    "duration": 368,
    "start_time": "2022-06-14T18:13:43.031Z"
   },
   {
    "duration": 29,
    "start_time": "2022-06-14T18:13:50.600Z"
   },
   {
    "duration": 31,
    "start_time": "2022-06-14T18:13:56.185Z"
   },
   {
    "duration": 357,
    "start_time": "2022-06-14T18:14:01.265Z"
   },
   {
    "duration": 419,
    "start_time": "2022-06-14T18:15:16.997Z"
   },
   {
    "duration": 1020,
    "start_time": "2022-06-14T18:15:39.734Z"
   },
   {
    "duration": 59,
    "start_time": "2022-06-14T18:15:40.756Z"
   },
   {
    "duration": 19,
    "start_time": "2022-06-14T18:15:40.817Z"
   },
   {
    "duration": 33,
    "start_time": "2022-06-14T18:15:40.838Z"
   },
   {
    "duration": 24,
    "start_time": "2022-06-14T18:15:40.873Z"
   },
   {
    "duration": 17,
    "start_time": "2022-06-14T18:15:40.899Z"
   },
   {
    "duration": 3,
    "start_time": "2022-06-14T18:15:40.918Z"
   },
   {
    "duration": 13,
    "start_time": "2022-06-14T18:15:40.923Z"
   },
   {
    "duration": 8,
    "start_time": "2022-06-14T18:15:40.938Z"
   },
   {
    "duration": 6,
    "start_time": "2022-06-14T18:15:40.947Z"
   },
   {
    "duration": 368,
    "start_time": "2022-06-14T18:15:40.954Z"
   },
   {
    "duration": 7,
    "start_time": "2022-06-14T18:15:41.324Z"
   },
   {
    "duration": 5,
    "start_time": "2022-06-14T18:15:41.332Z"
   },
   {
    "duration": 13,
    "start_time": "2022-06-14T18:15:41.339Z"
   },
   {
    "duration": 16,
    "start_time": "2022-06-14T18:15:41.353Z"
   },
   {
    "duration": 15,
    "start_time": "2022-06-14T18:15:41.392Z"
   },
   {
    "duration": 7,
    "start_time": "2022-06-14T18:15:41.408Z"
   },
   {
    "duration": 482,
    "start_time": "2022-06-14T18:15:41.416Z"
   },
   {
    "duration": 251,
    "start_time": "2022-06-14T18:15:53.195Z"
   },
   {
    "duration": 21,
    "start_time": "2022-06-14T18:16:04.461Z"
   },
   {
    "duration": 18,
    "start_time": "2022-06-14T18:20:28.997Z"
   },
   {
    "duration": 22,
    "start_time": "2022-06-14T18:20:42.618Z"
   },
   {
    "duration": 224,
    "start_time": "2022-06-14T18:20:52.075Z"
   },
   {
    "duration": 219,
    "start_time": "2022-06-14T18:21:04.012Z"
   },
   {
    "duration": 205,
    "start_time": "2022-06-14T18:21:22.800Z"
   },
   {
    "duration": 209,
    "start_time": "2022-06-14T18:22:43.409Z"
   },
   {
    "duration": 272,
    "start_time": "2022-06-14T18:22:56.116Z"
   },
   {
    "duration": 231,
    "start_time": "2022-06-14T18:23:05.391Z"
   },
   {
    "duration": 223,
    "start_time": "2022-06-14T18:23:14.642Z"
   },
   {
    "duration": 168,
    "start_time": "2022-06-14T18:25:05.188Z"
   },
   {
    "duration": 190,
    "start_time": "2022-06-14T18:25:28.778Z"
   },
   {
    "duration": 171,
    "start_time": "2022-06-14T18:25:53.242Z"
   },
   {
    "duration": 206,
    "start_time": "2022-06-14T18:26:12.565Z"
   },
   {
    "duration": 168,
    "start_time": "2022-06-14T18:26:36.066Z"
   },
   {
    "duration": 6,
    "start_time": "2022-06-14T18:33:51.652Z"
   },
   {
    "duration": 17,
    "start_time": "2022-06-14T18:35:02.812Z"
   },
   {
    "duration": 158,
    "start_time": "2022-06-14T18:37:09.629Z"
   },
   {
    "duration": 168,
    "start_time": "2022-06-14T18:37:17.466Z"
   },
   {
    "duration": 19,
    "start_time": "2022-06-14T18:38:25.922Z"
   },
   {
    "duration": 13,
    "start_time": "2022-06-14T18:39:30.487Z"
   },
   {
    "duration": 6,
    "start_time": "2022-06-14T18:41:18.931Z"
   },
   {
    "duration": 9,
    "start_time": "2022-06-14T18:41:25.345Z"
   },
   {
    "duration": 9,
    "start_time": "2022-06-14T18:41:29.897Z"
   },
   {
    "duration": 8,
    "start_time": "2022-06-14T18:41:33.197Z"
   },
   {
    "duration": 437,
    "start_time": "2022-06-14T18:41:40.521Z"
   },
   {
    "duration": 24,
    "start_time": "2022-06-14T18:42:03.377Z"
   },
   {
    "duration": 6,
    "start_time": "2022-06-14T18:42:06.928Z"
   },
   {
    "duration": 6,
    "start_time": "2022-06-14T18:42:12.739Z"
   },
   {
    "duration": 4,
    "start_time": "2022-06-14T18:42:29.307Z"
   },
   {
    "duration": 23,
    "start_time": "2022-06-14T18:42:38.763Z"
   },
   {
    "duration": 5,
    "start_time": "2022-06-14T18:42:42.015Z"
   },
   {
    "duration": 4,
    "start_time": "2022-06-14T18:42:58.724Z"
   },
   {
    "duration": 30,
    "start_time": "2022-06-14T18:43:39.457Z"
   },
   {
    "duration": 4,
    "start_time": "2022-06-14T18:43:43.380Z"
   },
   {
    "duration": 26,
    "start_time": "2022-06-14T18:44:11.164Z"
   },
   {
    "duration": 21,
    "start_time": "2022-06-14T18:44:21.239Z"
   },
   {
    "duration": 25,
    "start_time": "2022-06-14T18:44:28.103Z"
   },
   {
    "duration": 154,
    "start_time": "2022-06-14T18:45:01.945Z"
   },
   {
    "duration": 193,
    "start_time": "2022-06-14T18:45:19.693Z"
   },
   {
    "duration": 10,
    "start_time": "2022-06-14T18:45:33.923Z"
   },
   {
    "duration": 329,
    "start_time": "2022-06-14T18:46:34.182Z"
   },
   {
    "duration": 441,
    "start_time": "2022-06-14T18:46:51.320Z"
   },
   {
    "duration": 335,
    "start_time": "2022-06-14T18:52:24.887Z"
   },
   {
    "duration": 1052,
    "start_time": "2022-06-14T18:53:28.182Z"
   },
   {
    "duration": 57,
    "start_time": "2022-06-14T18:53:29.235Z"
   },
   {
    "duration": 12,
    "start_time": "2022-06-14T18:53:29.294Z"
   },
   {
    "duration": 24,
    "start_time": "2022-06-14T18:53:29.307Z"
   },
   {
    "duration": 9,
    "start_time": "2022-06-14T18:53:29.333Z"
   },
   {
    "duration": 14,
    "start_time": "2022-06-14T18:53:29.343Z"
   },
   {
    "duration": 2,
    "start_time": "2022-06-14T18:53:29.359Z"
   },
   {
    "duration": 10,
    "start_time": "2022-06-14T18:53:29.392Z"
   },
   {
    "duration": 12,
    "start_time": "2022-06-14T18:53:29.404Z"
   },
   {
    "duration": 6,
    "start_time": "2022-06-14T18:53:29.418Z"
   },
   {
    "duration": 310,
    "start_time": "2022-06-14T18:53:29.425Z"
   },
   {
    "duration": 7,
    "start_time": "2022-06-14T18:53:29.737Z"
   },
   {
    "duration": 3,
    "start_time": "2022-06-14T18:53:29.746Z"
   },
   {
    "duration": 12,
    "start_time": "2022-06-14T18:53:29.751Z"
   },
   {
    "duration": 270,
    "start_time": "2022-06-14T18:53:29.764Z"
   },
   {
    "duration": 0,
    "start_time": "2022-06-14T18:53:30.036Z"
   },
   {
    "duration": 0,
    "start_time": "2022-06-14T18:53:30.038Z"
   },
   {
    "duration": 0,
    "start_time": "2022-06-14T18:53:30.039Z"
   },
   {
    "duration": 0,
    "start_time": "2022-06-14T18:53:30.040Z"
   },
   {
    "duration": 0,
    "start_time": "2022-06-14T18:53:30.041Z"
   },
   {
    "duration": 0,
    "start_time": "2022-06-14T18:53:30.042Z"
   },
   {
    "duration": 0,
    "start_time": "2022-06-14T18:53:30.043Z"
   },
   {
    "duration": 985,
    "start_time": "2022-06-14T18:53:52.974Z"
   },
   {
    "duration": 57,
    "start_time": "2022-06-14T18:53:53.961Z"
   },
   {
    "duration": 12,
    "start_time": "2022-06-14T18:53:54.019Z"
   },
   {
    "duration": 22,
    "start_time": "2022-06-14T18:53:54.033Z"
   },
   {
    "duration": 8,
    "start_time": "2022-06-14T18:53:54.056Z"
   },
   {
    "duration": 29,
    "start_time": "2022-06-14T18:53:54.066Z"
   },
   {
    "duration": 3,
    "start_time": "2022-06-14T18:53:54.096Z"
   },
   {
    "duration": 10,
    "start_time": "2022-06-14T18:53:54.100Z"
   },
   {
    "duration": 9,
    "start_time": "2022-06-14T18:53:54.111Z"
   },
   {
    "duration": 9,
    "start_time": "2022-06-14T18:53:54.122Z"
   },
   {
    "duration": 318,
    "start_time": "2022-06-14T18:53:54.132Z"
   },
   {
    "duration": 7,
    "start_time": "2022-06-14T18:53:54.452Z"
   },
   {
    "duration": 4,
    "start_time": "2022-06-14T18:53:54.461Z"
   },
   {
    "duration": 26,
    "start_time": "2022-06-14T18:53:54.466Z"
   },
   {
    "duration": 176,
    "start_time": "2022-06-14T18:53:54.493Z"
   },
   {
    "duration": 2,
    "start_time": "2022-06-14T18:53:54.671Z"
   },
   {
    "duration": 354,
    "start_time": "2022-06-14T18:53:54.675Z"
   },
   {
    "duration": 2,
    "start_time": "2022-06-14T18:53:55.031Z"
   },
   {
    "duration": 20,
    "start_time": "2022-06-14T18:53:55.034Z"
   },
   {
    "duration": 13,
    "start_time": "2022-06-14T18:53:55.056Z"
   },
   {
    "duration": 5,
    "start_time": "2022-06-14T18:53:55.071Z"
   },
   {
    "duration": 208,
    "start_time": "2022-06-14T18:53:55.077Z"
   },
   {
    "duration": 987,
    "start_time": "2022-06-14T18:54:40.890Z"
   },
   {
    "duration": 57,
    "start_time": "2022-06-14T18:54:41.878Z"
   },
   {
    "duration": 12,
    "start_time": "2022-06-14T18:54:41.937Z"
   },
   {
    "duration": 23,
    "start_time": "2022-06-14T18:54:41.950Z"
   },
   {
    "duration": 17,
    "start_time": "2022-06-14T18:54:41.975Z"
   },
   {
    "duration": 14,
    "start_time": "2022-06-14T18:54:41.993Z"
   },
   {
    "duration": 3,
    "start_time": "2022-06-14T18:54:42.009Z"
   },
   {
    "duration": 23,
    "start_time": "2022-06-14T18:54:42.014Z"
   },
   {
    "duration": 12,
    "start_time": "2022-06-14T18:54:42.039Z"
   },
   {
    "duration": 10,
    "start_time": "2022-06-14T18:54:42.052Z"
   },
   {
    "duration": 310,
    "start_time": "2022-06-14T18:54:42.063Z"
   },
   {
    "duration": 17,
    "start_time": "2022-06-14T18:54:42.374Z"
   },
   {
    "duration": 9,
    "start_time": "2022-06-14T18:54:42.393Z"
   },
   {
    "duration": 27,
    "start_time": "2022-06-14T18:54:42.405Z"
   },
   {
    "duration": 184,
    "start_time": "2022-06-14T18:54:42.434Z"
   },
   {
    "duration": 3,
    "start_time": "2022-06-14T18:54:42.619Z"
   },
   {
    "duration": 366,
    "start_time": "2022-06-14T18:54:42.623Z"
   },
   {
    "duration": 3,
    "start_time": "2022-06-14T18:54:42.990Z"
   },
   {
    "duration": 31,
    "start_time": "2022-06-14T18:54:42.994Z"
   },
   {
    "duration": 19,
    "start_time": "2022-06-14T18:54:43.026Z"
   },
   {
    "duration": 5,
    "start_time": "2022-06-14T18:54:43.047Z"
   },
   {
    "duration": 242,
    "start_time": "2022-06-14T18:54:43.054Z"
   },
   {
    "duration": 993,
    "start_time": "2022-06-14T18:55:09.347Z"
   },
   {
    "duration": 57,
    "start_time": "2022-06-14T18:55:10.342Z"
   },
   {
    "duration": 13,
    "start_time": "2022-06-14T18:55:10.400Z"
   },
   {
    "duration": 33,
    "start_time": "2022-06-14T18:55:10.414Z"
   },
   {
    "duration": 9,
    "start_time": "2022-06-14T18:55:10.448Z"
   },
   {
    "duration": 50,
    "start_time": "2022-06-14T18:55:10.458Z"
   },
   {
    "duration": 9,
    "start_time": "2022-06-14T18:55:10.509Z"
   },
   {
    "duration": 21,
    "start_time": "2022-06-14T18:55:10.520Z"
   },
   {
    "duration": 28,
    "start_time": "2022-06-14T18:55:10.543Z"
   },
   {
    "duration": 16,
    "start_time": "2022-06-14T18:55:10.574Z"
   },
   {
    "duration": 349,
    "start_time": "2022-06-14T18:55:10.591Z"
   },
   {
    "duration": 7,
    "start_time": "2022-06-14T18:55:10.941Z"
   },
   {
    "duration": 17,
    "start_time": "2022-06-14T18:55:10.950Z"
   },
   {
    "duration": 30,
    "start_time": "2022-06-14T18:55:10.968Z"
   },
   {
    "duration": 184,
    "start_time": "2022-06-14T18:55:11.000Z"
   },
   {
    "duration": 7,
    "start_time": "2022-06-14T18:55:11.186Z"
   },
   {
    "duration": 343,
    "start_time": "2022-06-14T18:55:11.194Z"
   },
   {
    "duration": 3,
    "start_time": "2022-06-14T18:55:11.538Z"
   },
   {
    "duration": 28,
    "start_time": "2022-06-14T18:55:11.542Z"
   },
   {
    "duration": 19,
    "start_time": "2022-06-14T18:55:11.572Z"
   },
   {
    "duration": 19,
    "start_time": "2022-06-14T18:55:11.592Z"
   },
   {
    "duration": 238,
    "start_time": "2022-06-14T18:55:11.613Z"
   },
   {
    "duration": 318,
    "start_time": "2022-06-14T18:55:29.797Z"
   },
   {
    "duration": 325,
    "start_time": "2022-06-14T18:55:34.911Z"
   },
   {
    "duration": 9,
    "start_time": "2022-06-14T18:55:44.458Z"
   },
   {
    "duration": 395,
    "start_time": "2022-06-14T18:55:54.274Z"
   },
   {
    "duration": 10,
    "start_time": "2022-06-14T18:56:08.116Z"
   },
   {
    "duration": 341,
    "start_time": "2022-06-14T18:56:14.117Z"
   },
   {
    "duration": 290,
    "start_time": "2022-06-14T18:57:05.913Z"
   },
   {
    "duration": 318,
    "start_time": "2022-06-14T18:57:13.595Z"
   },
   {
    "duration": 344,
    "start_time": "2022-06-14T18:57:28.097Z"
   },
   {
    "duration": 306,
    "start_time": "2022-06-14T18:57:34.703Z"
   },
   {
    "duration": 300,
    "start_time": "2022-06-14T18:57:40.604Z"
   },
   {
    "duration": 312,
    "start_time": "2022-06-14T18:57:45.370Z"
   },
   {
    "duration": 306,
    "start_time": "2022-06-14T18:57:50.415Z"
   },
   {
    "duration": 310,
    "start_time": "2022-06-14T18:57:55.084Z"
   },
   {
    "duration": 317,
    "start_time": "2022-06-14T18:58:32.237Z"
   },
   {
    "duration": 995,
    "start_time": "2022-06-14T19:00:12.351Z"
   },
   {
    "duration": 65,
    "start_time": "2022-06-14T19:00:13.348Z"
   },
   {
    "duration": 16,
    "start_time": "2022-06-14T19:00:13.416Z"
   },
   {
    "duration": 60,
    "start_time": "2022-06-14T19:00:13.434Z"
   },
   {
    "duration": 11,
    "start_time": "2022-06-14T19:00:13.496Z"
   },
   {
    "duration": 37,
    "start_time": "2022-06-14T19:00:13.509Z"
   },
   {
    "duration": 4,
    "start_time": "2022-06-14T19:00:13.548Z"
   },
   {
    "duration": 22,
    "start_time": "2022-06-14T19:00:13.553Z"
   },
   {
    "duration": 21,
    "start_time": "2022-06-14T19:00:13.576Z"
   },
   {
    "duration": 17,
    "start_time": "2022-06-14T19:00:13.600Z"
   },
   {
    "duration": 338,
    "start_time": "2022-06-14T19:00:13.619Z"
   },
   {
    "duration": 8,
    "start_time": "2022-06-14T19:00:13.958Z"
   },
   {
    "duration": 5,
    "start_time": "2022-06-14T19:00:13.967Z"
   },
   {
    "duration": 25,
    "start_time": "2022-06-14T19:00:13.973Z"
   },
   {
    "duration": 179,
    "start_time": "2022-06-14T19:00:13.999Z"
   },
   {
    "duration": 16,
    "start_time": "2022-06-14T19:00:14.180Z"
   },
   {
    "duration": 375,
    "start_time": "2022-06-14T19:00:14.198Z"
   },
   {
    "duration": 3,
    "start_time": "2022-06-14T19:00:14.575Z"
   },
   {
    "duration": 34,
    "start_time": "2022-06-14T19:00:14.579Z"
   },
   {
    "duration": 15,
    "start_time": "2022-06-14T19:00:14.614Z"
   },
   {
    "duration": 6,
    "start_time": "2022-06-14T19:00:14.630Z"
   },
   {
    "duration": 223,
    "start_time": "2022-06-14T19:00:14.637Z"
   },
   {
    "duration": 5,
    "start_time": "2022-06-14T19:06:14.974Z"
   },
   {
    "duration": 13,
    "start_time": "2022-06-14T19:06:55.092Z"
   },
   {
    "duration": 16,
    "start_time": "2022-06-14T19:07:13.305Z"
   },
   {
    "duration": 18,
    "start_time": "2022-06-14T19:07:42.788Z"
   },
   {
    "duration": 11,
    "start_time": "2022-06-14T19:07:43.853Z"
   },
   {
    "duration": 1101,
    "start_time": "2022-06-14T19:07:56.322Z"
   },
   {
    "duration": 58,
    "start_time": "2022-06-14T19:07:57.425Z"
   },
   {
    "duration": 13,
    "start_time": "2022-06-14T19:07:57.484Z"
   },
   {
    "duration": 34,
    "start_time": "2022-06-14T19:07:57.500Z"
   },
   {
    "duration": 14,
    "start_time": "2022-06-14T19:07:57.536Z"
   },
   {
    "duration": 46,
    "start_time": "2022-06-14T19:07:57.552Z"
   },
   {
    "duration": 4,
    "start_time": "2022-06-14T19:07:57.600Z"
   },
   {
    "duration": 24,
    "start_time": "2022-06-14T19:07:57.606Z"
   },
   {
    "duration": 18,
    "start_time": "2022-06-14T19:07:57.633Z"
   },
   {
    "duration": 7,
    "start_time": "2022-06-14T19:07:57.654Z"
   },
   {
    "duration": 364,
    "start_time": "2022-06-14T19:07:57.664Z"
   },
   {
    "duration": 8,
    "start_time": "2022-06-14T19:07:58.030Z"
   },
   {
    "duration": 9,
    "start_time": "2022-06-14T19:07:58.040Z"
   },
   {
    "duration": 21,
    "start_time": "2022-06-14T19:07:58.051Z"
   },
   {
    "duration": 239,
    "start_time": "2022-06-14T19:07:58.074Z"
   },
   {
    "duration": 367,
    "start_time": "2022-06-14T19:07:58.314Z"
   },
   {
    "duration": 3,
    "start_time": "2022-06-14T19:07:58.683Z"
   },
   {
    "duration": 18,
    "start_time": "2022-06-14T19:07:58.688Z"
   },
   {
    "duration": 11,
    "start_time": "2022-06-14T19:07:58.707Z"
   },
   {
    "duration": 214,
    "start_time": "2022-06-14T19:07:58.720Z"
   },
   {
    "duration": 14,
    "start_time": "2022-06-14T19:07:58.935Z"
   },
   {
    "duration": 8,
    "start_time": "2022-06-14T19:08:56.297Z"
   },
   {
    "duration": 16,
    "start_time": "2022-06-14T19:09:02.343Z"
   },
   {
    "duration": 16,
    "start_time": "2022-06-14T19:09:18.536Z"
   },
   {
    "duration": 25,
    "start_time": "2022-06-14T19:09:25.293Z"
   },
   {
    "duration": 24,
    "start_time": "2022-06-14T19:09:33.842Z"
   },
   {
    "duration": 107,
    "start_time": "2022-06-14T19:10:12.447Z"
   },
   {
    "duration": 20,
    "start_time": "2022-06-14T19:10:31.078Z"
   },
   {
    "duration": 16,
    "start_time": "2022-06-14T19:10:44.801Z"
   },
   {
    "duration": 15,
    "start_time": "2022-06-14T19:11:03.196Z"
   },
   {
    "duration": 18,
    "start_time": "2022-06-14T19:11:28.835Z"
   },
   {
    "duration": 18,
    "start_time": "2022-06-14T19:11:34.222Z"
   },
   {
    "duration": 33,
    "start_time": "2022-06-14T19:11:49.736Z"
   },
   {
    "duration": 23,
    "start_time": "2022-06-14T19:11:53.723Z"
   },
   {
    "duration": 22,
    "start_time": "2022-06-14T19:12:31.467Z"
   },
   {
    "duration": 18,
    "start_time": "2022-06-14T19:12:45.596Z"
   },
   {
    "duration": 20,
    "start_time": "2022-06-14T19:12:54.308Z"
   },
   {
    "duration": 17,
    "start_time": "2022-06-14T19:12:59.925Z"
   },
   {
    "duration": 5,
    "start_time": "2022-06-14T19:14:12.179Z"
   },
   {
    "duration": 25,
    "start_time": "2022-06-14T19:14:51.221Z"
   },
   {
    "duration": 18,
    "start_time": "2022-06-14T19:15:08.416Z"
   },
   {
    "duration": 23,
    "start_time": "2022-06-14T19:16:13.089Z"
   },
   {
    "duration": 9,
    "start_time": "2022-06-14T19:16:27.689Z"
   },
   {
    "duration": 20,
    "start_time": "2022-06-14T19:16:59.145Z"
   },
   {
    "duration": 13,
    "start_time": "2022-06-14T19:17:10.194Z"
   },
   {
    "duration": 9,
    "start_time": "2022-06-14T19:17:26.486Z"
   },
   {
    "duration": 25,
    "start_time": "2022-06-14T19:17:37.163Z"
   },
   {
    "duration": 160,
    "start_time": "2022-06-14T19:19:26.843Z"
   },
   {
    "duration": 8,
    "start_time": "2022-06-14T19:19:38.637Z"
   },
   {
    "duration": 523,
    "start_time": "2022-06-14T19:20:21.788Z"
   },
   {
    "duration": 327,
    "start_time": "2022-06-14T19:21:26.794Z"
   },
   {
    "duration": 13,
    "start_time": "2022-06-14T19:23:22.732Z"
   },
   {
    "duration": 298,
    "start_time": "2022-06-14T19:23:23.384Z"
   },
   {
    "duration": 7,
    "start_time": "2022-06-14T19:23:56.835Z"
   },
   {
    "duration": 111,
    "start_time": "2022-06-14T19:26:32.314Z"
   },
   {
    "duration": 15,
    "start_time": "2022-06-14T19:26:38.548Z"
   },
   {
    "duration": 28,
    "start_time": "2022-06-14T19:27:34.510Z"
   },
   {
    "duration": 20,
    "start_time": "2022-06-14T19:27:57.412Z"
   },
   {
    "duration": 12,
    "start_time": "2022-06-14T19:28:12.239Z"
   },
   {
    "duration": 14,
    "start_time": "2022-06-14T19:28:28.713Z"
   },
   {
    "duration": 186,
    "start_time": "2022-06-14T19:28:37.640Z"
   },
   {
    "duration": 194,
    "start_time": "2022-06-14T19:29:05.305Z"
   },
   {
    "duration": 257,
    "start_time": "2022-06-14T19:29:30.645Z"
   },
   {
    "duration": 1240,
    "start_time": "2022-06-14T19:38:04.518Z"
   },
   {
    "duration": 71,
    "start_time": "2022-06-14T19:38:05.760Z"
   },
   {
    "duration": 14,
    "start_time": "2022-06-14T19:38:05.832Z"
   },
   {
    "duration": 32,
    "start_time": "2022-06-14T19:38:05.847Z"
   },
   {
    "duration": 19,
    "start_time": "2022-06-14T19:38:05.892Z"
   },
   {
    "duration": 22,
    "start_time": "2022-06-14T19:38:05.919Z"
   },
   {
    "duration": 3,
    "start_time": "2022-06-14T19:38:05.943Z"
   },
   {
    "duration": 12,
    "start_time": "2022-06-14T19:38:05.947Z"
   },
   {
    "duration": 19,
    "start_time": "2022-06-14T19:38:05.961Z"
   },
   {
    "duration": 21,
    "start_time": "2022-06-14T19:38:05.982Z"
   },
   {
    "duration": 505,
    "start_time": "2022-06-14T19:38:06.005Z"
   },
   {
    "duration": 9,
    "start_time": "2022-06-14T19:38:06.511Z"
   },
   {
    "duration": 5,
    "start_time": "2022-06-14T19:38:06.522Z"
   },
   {
    "duration": 18,
    "start_time": "2022-06-14T19:38:06.530Z"
   },
   {
    "duration": 213,
    "start_time": "2022-06-14T19:38:06.549Z"
   },
   {
    "duration": 465,
    "start_time": "2022-06-14T19:38:06.764Z"
   },
   {
    "duration": 10,
    "start_time": "2022-06-14T19:38:07.231Z"
   },
   {
    "duration": 377,
    "start_time": "2022-06-14T19:38:07.243Z"
   },
   {
    "duration": 344,
    "start_time": "2022-06-14T19:38:07.622Z"
   },
   {
    "duration": 199,
    "start_time": "2022-06-14T19:38:07.967Z"
   },
   {
    "duration": 313,
    "start_time": "2022-06-14T20:13:36.929Z"
   },
   {
    "duration": 262,
    "start_time": "2022-06-14T20:13:43.496Z"
   },
   {
    "duration": 198,
    "start_time": "2022-06-14T20:13:45.259Z"
   },
   {
    "duration": 953,
    "start_time": "2022-06-14T20:15:57.404Z"
   },
   {
    "duration": 59,
    "start_time": "2022-06-14T20:15:58.358Z"
   },
   {
    "duration": 13,
    "start_time": "2022-06-14T20:15:58.419Z"
   },
   {
    "duration": 27,
    "start_time": "2022-06-14T20:15:58.433Z"
   },
   {
    "duration": 9,
    "start_time": "2022-06-14T20:15:58.462Z"
   },
   {
    "duration": 14,
    "start_time": "2022-06-14T20:15:58.491Z"
   },
   {
    "duration": 3,
    "start_time": "2022-06-14T20:15:58.506Z"
   },
   {
    "duration": 10,
    "start_time": "2022-06-14T20:15:58.510Z"
   },
   {
    "duration": 10,
    "start_time": "2022-06-14T20:15:58.521Z"
   },
   {
    "duration": 6,
    "start_time": "2022-06-14T20:15:58.532Z"
   },
   {
    "duration": 321,
    "start_time": "2022-06-14T20:15:58.540Z"
   },
   {
    "duration": 6,
    "start_time": "2022-06-14T20:15:58.863Z"
   },
   {
    "duration": 3,
    "start_time": "2022-06-14T20:15:58.870Z"
   },
   {
    "duration": 23,
    "start_time": "2022-06-14T20:15:58.876Z"
   },
   {
    "duration": 175,
    "start_time": "2022-06-14T20:15:58.901Z"
   },
   {
    "duration": 343,
    "start_time": "2022-06-14T20:15:59.078Z"
   },
   {
    "duration": 8,
    "start_time": "2022-06-14T20:15:59.422Z"
   },
   {
    "duration": 264,
    "start_time": "2022-06-14T20:15:59.431Z"
   },
   {
    "duration": 258,
    "start_time": "2022-06-14T20:15:59.697Z"
   },
   {
    "duration": 184,
    "start_time": "2022-06-14T20:15:59.956Z"
   },
   {
    "duration": 214,
    "start_time": "2022-06-14T20:19:31.473Z"
   },
   {
    "duration": 260,
    "start_time": "2022-06-14T20:20:16.527Z"
   },
   {
    "duration": 299,
    "start_time": "2022-06-14T20:21:23.192Z"
   },
   {
    "duration": 52,
    "start_time": "2022-06-15T07:43:29.054Z"
   },
   {
    "duration": 1437,
    "start_time": "2022-06-15T07:43:33.997Z"
   },
   {
    "duration": 129,
    "start_time": "2022-06-15T07:43:35.436Z"
   },
   {
    "duration": 14,
    "start_time": "2022-06-15T07:43:35.567Z"
   },
   {
    "duration": 30,
    "start_time": "2022-06-15T07:43:35.583Z"
   },
   {
    "duration": 20,
    "start_time": "2022-06-15T07:43:35.615Z"
   },
   {
    "duration": 24,
    "start_time": "2022-06-15T07:43:35.637Z"
   },
   {
    "duration": 22,
    "start_time": "2022-06-15T07:43:35.662Z"
   },
   {
    "duration": 12,
    "start_time": "2022-06-15T07:43:35.685Z"
   },
   {
    "duration": 12,
    "start_time": "2022-06-15T07:43:35.699Z"
   },
   {
    "duration": 44,
    "start_time": "2022-06-15T07:43:35.714Z"
   },
   {
    "duration": 414,
    "start_time": "2022-06-15T07:43:35.759Z"
   },
   {
    "duration": 9,
    "start_time": "2022-06-15T07:43:36.175Z"
   },
   {
    "duration": 11,
    "start_time": "2022-06-15T07:43:36.185Z"
   },
   {
    "duration": 19,
    "start_time": "2022-06-15T07:43:36.197Z"
   },
   {
    "duration": 253,
    "start_time": "2022-06-15T07:43:36.227Z"
   },
   {
    "duration": 444,
    "start_time": "2022-06-15T07:43:36.483Z"
   },
   {
    "duration": 26,
    "start_time": "2022-06-15T07:43:36.930Z"
   },
   {
    "duration": 386,
    "start_time": "2022-06-15T07:43:36.958Z"
   },
   {
    "duration": 434,
    "start_time": "2022-06-15T07:43:37.346Z"
   },
   {
    "duration": 118,
    "start_time": "2022-06-15T07:43:37.782Z"
   },
   {
    "duration": 0,
    "start_time": "2022-06-15T07:43:37.902Z"
   },
   {
    "duration": 15,
    "start_time": "2022-06-15T07:45:16.859Z"
   },
   {
    "duration": 392,
    "start_time": "2022-06-15T07:46:50.177Z"
   },
   {
    "duration": 396,
    "start_time": "2022-06-15T07:47:01.309Z"
   },
   {
    "duration": 84,
    "start_time": "2022-06-15T07:53:30.720Z"
   },
   {
    "duration": 355,
    "start_time": "2022-06-15T07:53:37.161Z"
   },
   {
    "duration": 253,
    "start_time": "2022-06-15T07:54:38.596Z"
   },
   {
    "duration": 229,
    "start_time": "2022-06-15T07:54:56.245Z"
   },
   {
    "duration": 287,
    "start_time": "2022-06-15T07:55:19.459Z"
   },
   {
    "duration": 235,
    "start_time": "2022-06-15T07:55:41.661Z"
   },
   {
    "duration": 1129,
    "start_time": "2022-06-15T07:56:57.030Z"
   },
   {
    "duration": 83,
    "start_time": "2022-06-15T07:56:58.161Z"
   },
   {
    "duration": 17,
    "start_time": "2022-06-15T07:56:58.246Z"
   },
   {
    "duration": 32,
    "start_time": "2022-06-15T07:56:58.266Z"
   },
   {
    "duration": 13,
    "start_time": "2022-06-15T07:56:58.300Z"
   },
   {
    "duration": 69,
    "start_time": "2022-06-15T07:56:58.315Z"
   },
   {
    "duration": 7,
    "start_time": "2022-06-15T07:56:58.385Z"
   },
   {
    "duration": 20,
    "start_time": "2022-06-15T07:56:58.393Z"
   },
   {
    "duration": 10,
    "start_time": "2022-06-15T07:56:58.415Z"
   },
   {
    "duration": 23,
    "start_time": "2022-06-15T07:56:58.434Z"
   },
   {
    "duration": 389,
    "start_time": "2022-06-15T07:56:58.459Z"
   },
   {
    "duration": 8,
    "start_time": "2022-06-15T07:56:58.852Z"
   },
   {
    "duration": 4,
    "start_time": "2022-06-15T07:56:58.862Z"
   },
   {
    "duration": 17,
    "start_time": "2022-06-15T07:56:58.867Z"
   },
   {
    "duration": 225,
    "start_time": "2022-06-15T07:56:58.885Z"
   },
   {
    "duration": 440,
    "start_time": "2022-06-15T07:56:59.113Z"
   },
   {
    "duration": 10,
    "start_time": "2022-06-15T07:56:59.555Z"
   },
   {
    "duration": 344,
    "start_time": "2022-06-15T07:56:59.566Z"
   },
   {
    "duration": 412,
    "start_time": "2022-06-15T07:56:59.912Z"
   },
   {
    "duration": 31,
    "start_time": "2022-06-15T07:57:00.325Z"
   },
   {
    "duration": 247,
    "start_time": "2022-06-15T07:57:00.358Z"
   },
   {
    "duration": 235,
    "start_time": "2022-06-15T07:57:21.762Z"
   },
   {
    "duration": 232,
    "start_time": "2022-06-15T07:58:20.109Z"
   },
   {
    "duration": 6,
    "start_time": "2022-06-15T08:00:08.702Z"
   },
   {
    "duration": 239,
    "start_time": "2022-06-15T08:00:12.714Z"
   },
   {
    "duration": 293,
    "start_time": "2022-06-15T08:12:44.562Z"
   },
   {
    "duration": 282,
    "start_time": "2022-06-15T08:14:15.126Z"
   },
   {
    "duration": 282,
    "start_time": "2022-06-15T08:14:29.271Z"
   },
   {
    "duration": 378,
    "start_time": "2022-06-15T08:14:38.137Z"
   },
   {
    "duration": 305,
    "start_time": "2022-06-15T08:24:05.682Z"
   },
   {
    "duration": 272,
    "start_time": "2022-06-15T08:24:15.408Z"
   },
   {
    "duration": 273,
    "start_time": "2022-06-15T08:24:23.698Z"
   },
   {
    "duration": 273,
    "start_time": "2022-06-15T08:24:34.650Z"
   },
   {
    "duration": 361,
    "start_time": "2022-06-15T08:26:52.701Z"
   },
   {
    "duration": 236,
    "start_time": "2022-06-15T08:27:00.227Z"
   },
   {
    "duration": 319,
    "start_time": "2022-06-15T08:27:44.283Z"
   },
   {
    "duration": 201,
    "start_time": "2022-06-15T08:27:58.691Z"
   },
   {
    "duration": 271,
    "start_time": "2022-06-15T08:28:09.287Z"
   },
   {
    "duration": 263,
    "start_time": "2022-06-15T08:28:27.991Z"
   },
   {
    "duration": 238,
    "start_time": "2022-06-15T08:28:41.442Z"
   },
   {
    "duration": 180,
    "start_time": "2022-06-15T08:29:02.448Z"
   },
   {
    "duration": 212,
    "start_time": "2022-06-15T08:29:08.993Z"
   },
   {
    "duration": 261,
    "start_time": "2022-06-15T08:29:23.073Z"
   },
   {
    "duration": 416,
    "start_time": "2022-06-15T08:29:27.383Z"
   },
   {
    "duration": 295,
    "start_time": "2022-06-15T08:29:51.866Z"
   },
   {
    "duration": 297,
    "start_time": "2022-06-15T08:30:01.270Z"
   },
   {
    "duration": 7,
    "start_time": "2022-06-15T08:32:03.587Z"
   },
   {
    "duration": 6,
    "start_time": "2022-06-15T08:32:25.789Z"
   },
   {
    "duration": 7,
    "start_time": "2022-06-15T08:33:12.402Z"
   },
   {
    "duration": 8,
    "start_time": "2022-06-15T08:33:14.186Z"
   },
   {
    "duration": 8,
    "start_time": "2022-06-15T08:33:34.956Z"
   },
   {
    "duration": 7,
    "start_time": "2022-06-15T08:33:35.738Z"
   },
   {
    "duration": 6,
    "start_time": "2022-06-15T08:34:02.773Z"
   },
   {
    "duration": 6,
    "start_time": "2022-06-15T08:36:30.616Z"
   },
   {
    "duration": 8,
    "start_time": "2022-06-15T08:36:31.136Z"
   },
   {
    "duration": 7,
    "start_time": "2022-06-15T08:36:31.897Z"
   },
   {
    "duration": 7,
    "start_time": "2022-06-15T08:37:25.235Z"
   },
   {
    "duration": 7,
    "start_time": "2022-06-15T08:37:51.053Z"
   },
   {
    "duration": 7,
    "start_time": "2022-06-15T08:38:21.376Z"
   },
   {
    "duration": 8,
    "start_time": "2022-06-15T08:38:26.833Z"
   },
   {
    "duration": 101,
    "start_time": "2022-06-15T08:40:17.933Z"
   },
   {
    "duration": 7,
    "start_time": "2022-06-15T08:40:24.675Z"
   },
   {
    "duration": 10,
    "start_time": "2022-06-15T08:40:28.996Z"
   },
   {
    "duration": 7,
    "start_time": "2022-06-15T08:40:48.861Z"
   },
   {
    "duration": 9,
    "start_time": "2022-06-15T08:45:28.899Z"
   },
   {
    "duration": 7,
    "start_time": "2022-06-15T08:45:48.401Z"
   },
   {
    "duration": 7,
    "start_time": "2022-06-15T08:47:01.587Z"
   },
   {
    "duration": 7,
    "start_time": "2022-06-15T08:47:22.946Z"
   },
   {
    "duration": 7,
    "start_time": "2022-06-15T08:47:56.956Z"
   },
   {
    "duration": 11,
    "start_time": "2022-06-15T08:50:10.778Z"
   },
   {
    "duration": 9,
    "start_time": "2022-06-15T08:50:24.038Z"
   },
   {
    "duration": 7,
    "start_time": "2022-06-15T08:50:37.376Z"
   },
   {
    "duration": 1188,
    "start_time": "2022-06-15T08:54:05.499Z"
   },
   {
    "duration": 67,
    "start_time": "2022-06-15T08:54:06.689Z"
   },
   {
    "duration": 15,
    "start_time": "2022-06-15T08:54:06.757Z"
   },
   {
    "duration": 30,
    "start_time": "2022-06-15T08:54:06.774Z"
   },
   {
    "duration": 25,
    "start_time": "2022-06-15T08:54:06.806Z"
   },
   {
    "duration": 20,
    "start_time": "2022-06-15T08:54:06.833Z"
   },
   {
    "duration": 3,
    "start_time": "2022-06-15T08:54:06.855Z"
   },
   {
    "duration": 21,
    "start_time": "2022-06-15T08:54:06.860Z"
   },
   {
    "duration": 16,
    "start_time": "2022-06-15T08:54:06.883Z"
   },
   {
    "duration": 9,
    "start_time": "2022-06-15T08:54:06.901Z"
   },
   {
    "duration": 374,
    "start_time": "2022-06-15T08:54:06.911Z"
   },
   {
    "duration": 9,
    "start_time": "2022-06-15T08:54:07.287Z"
   },
   {
    "duration": 10,
    "start_time": "2022-06-15T08:54:07.297Z"
   },
   {
    "duration": 27,
    "start_time": "2022-06-15T08:54:07.309Z"
   },
   {
    "duration": 228,
    "start_time": "2022-06-15T08:54:07.337Z"
   },
   {
    "duration": 423,
    "start_time": "2022-06-15T08:54:07.566Z"
   },
   {
    "duration": 7,
    "start_time": "2022-06-15T08:54:07.991Z"
   },
   {
    "duration": 323,
    "start_time": "2022-06-15T08:54:08.000Z"
   },
   {
    "duration": 367,
    "start_time": "2022-06-15T08:54:08.325Z"
   },
   {
    "duration": 292,
    "start_time": "2022-06-15T08:54:08.694Z"
   },
   {
    "duration": 6,
    "start_time": "2022-06-15T08:54:08.987Z"
   },
   {
    "duration": 11,
    "start_time": "2022-06-15T08:54:08.994Z"
   },
   {
    "duration": 22,
    "start_time": "2022-06-15T08:54:09.006Z"
   },
   {
    "duration": 212,
    "start_time": "2022-06-15T08:54:09.030Z"
   },
   {
    "duration": 9,
    "start_time": "2022-06-15T08:57:02.229Z"
   },
   {
    "duration": 1160,
    "start_time": "2022-06-15T08:57:33.976Z"
   },
   {
    "duration": 66,
    "start_time": "2022-06-15T08:57:35.138Z"
   },
   {
    "duration": 14,
    "start_time": "2022-06-15T08:57:35.206Z"
   },
   {
    "duration": 36,
    "start_time": "2022-06-15T08:57:35.222Z"
   },
   {
    "duration": 16,
    "start_time": "2022-06-15T08:57:35.262Z"
   },
   {
    "duration": 15,
    "start_time": "2022-06-15T08:57:35.279Z"
   },
   {
    "duration": 3,
    "start_time": "2022-06-15T08:57:35.296Z"
   },
   {
    "duration": 12,
    "start_time": "2022-06-15T08:57:35.326Z"
   },
   {
    "duration": 16,
    "start_time": "2022-06-15T08:57:35.340Z"
   },
   {
    "duration": 13,
    "start_time": "2022-06-15T08:57:35.358Z"
   },
   {
    "duration": 396,
    "start_time": "2022-06-15T08:57:35.372Z"
   },
   {
    "duration": 8,
    "start_time": "2022-06-15T08:57:35.770Z"
   },
   {
    "duration": 4,
    "start_time": "2022-06-15T08:57:35.780Z"
   },
   {
    "duration": 23,
    "start_time": "2022-06-15T08:57:35.787Z"
   },
   {
    "duration": 236,
    "start_time": "2022-06-15T08:57:35.827Z"
   },
   {
    "duration": 475,
    "start_time": "2022-06-15T08:57:36.066Z"
   },
   {
    "duration": 11,
    "start_time": "2022-06-15T08:57:36.544Z"
   },
   {
    "duration": 9,
    "start_time": "2022-06-15T08:57:36.557Z"
   },
   {
    "duration": 349,
    "start_time": "2022-06-15T08:57:36.568Z"
   },
   {
    "duration": 445,
    "start_time": "2022-06-15T08:57:36.919Z"
   },
   {
    "duration": 679,
    "start_time": "2022-06-15T08:57:37.366Z"
   },
   {
    "duration": 5,
    "start_time": "2022-06-15T08:57:38.048Z"
   },
   {
    "duration": 74,
    "start_time": "2022-06-15T08:57:38.055Z"
   },
   {
    "duration": 31,
    "start_time": "2022-06-15T08:57:38.131Z"
   },
   {
    "duration": 496,
    "start_time": "2022-06-15T08:57:38.164Z"
   },
   {
    "duration": 7,
    "start_time": "2022-06-15T08:58:17.751Z"
   },
   {
    "duration": 4,
    "start_time": "2022-06-15T08:58:24.863Z"
   },
   {
    "duration": 93,
    "start_time": "2022-06-15T08:58:24.869Z"
   },
   {
    "duration": 15,
    "start_time": "2022-06-15T08:58:24.964Z"
   },
   {
    "duration": 46,
    "start_time": "2022-06-15T08:58:24.981Z"
   },
   {
    "duration": 14,
    "start_time": "2022-06-15T08:58:25.031Z"
   },
   {
    "duration": 62,
    "start_time": "2022-06-15T08:58:25.047Z"
   },
   {
    "duration": 17,
    "start_time": "2022-06-15T08:58:25.111Z"
   },
   {
    "duration": 27,
    "start_time": "2022-06-15T08:58:25.130Z"
   },
   {
    "duration": 27,
    "start_time": "2022-06-15T08:58:25.159Z"
   },
   {
    "duration": 12,
    "start_time": "2022-06-15T08:58:25.188Z"
   },
   {
    "duration": 369,
    "start_time": "2022-06-15T08:58:25.202Z"
   },
   {
    "duration": 9,
    "start_time": "2022-06-15T08:58:25.572Z"
   },
   {
    "duration": 18,
    "start_time": "2022-06-15T08:58:25.582Z"
   },
   {
    "duration": 22,
    "start_time": "2022-06-15T08:58:25.602Z"
   },
   {
    "duration": 210,
    "start_time": "2022-06-15T08:58:25.626Z"
   },
   {
    "duration": 392,
    "start_time": "2022-06-15T08:58:25.838Z"
   },
   {
    "duration": 9,
    "start_time": "2022-06-15T08:58:29.230Z"
   },
   {
    "duration": 8,
    "start_time": "2022-06-15T08:59:12.126Z"
   },
   {
    "duration": 11,
    "start_time": "2022-06-15T08:59:42.888Z"
   },
   {
    "duration": 9,
    "start_time": "2022-06-15T09:00:28.632Z"
   },
   {
    "duration": 10,
    "start_time": "2022-06-15T09:01:02.964Z"
   },
   {
    "duration": 20,
    "start_time": "2022-06-15T09:02:06.476Z"
   },
   {
    "duration": 19,
    "start_time": "2022-06-15T09:02:23.137Z"
   },
   {
    "duration": 10,
    "start_time": "2022-06-15T09:02:45.036Z"
   },
   {
    "duration": 11,
    "start_time": "2022-06-15T09:02:51.831Z"
   },
   {
    "duration": 11,
    "start_time": "2022-06-15T09:03:01.294Z"
   },
   {
    "duration": 23,
    "start_time": "2022-06-15T09:03:11.366Z"
   },
   {
    "duration": 23,
    "start_time": "2022-06-15T09:03:17.208Z"
   },
   {
    "duration": 21,
    "start_time": "2022-06-15T09:04:00.539Z"
   },
   {
    "duration": 20,
    "start_time": "2022-06-15T09:04:18.629Z"
   },
   {
    "duration": 16,
    "start_time": "2022-06-15T09:04:28.156Z"
   },
   {
    "duration": 15,
    "start_time": "2022-06-15T09:04:38.414Z"
   },
   {
    "duration": 14,
    "start_time": "2022-06-15T09:05:43.078Z"
   },
   {
    "duration": 15,
    "start_time": "2022-06-15T09:06:41.234Z"
   },
   {
    "duration": 15,
    "start_time": "2022-06-15T09:06:55.579Z"
   },
   {
    "duration": 1229,
    "start_time": "2022-06-15T09:12:05.104Z"
   },
   {
    "duration": 72,
    "start_time": "2022-06-15T09:12:06.335Z"
   },
   {
    "duration": 14,
    "start_time": "2022-06-15T09:12:06.409Z"
   },
   {
    "duration": 32,
    "start_time": "2022-06-15T09:12:06.426Z"
   },
   {
    "duration": 11,
    "start_time": "2022-06-15T09:12:06.460Z"
   },
   {
    "duration": 20,
    "start_time": "2022-06-15T09:12:06.472Z"
   },
   {
    "duration": 4,
    "start_time": "2022-06-15T09:12:06.494Z"
   },
   {
    "duration": 43,
    "start_time": "2022-06-15T09:12:06.499Z"
   },
   {
    "duration": 14,
    "start_time": "2022-06-15T09:12:06.544Z"
   },
   {
    "duration": 9,
    "start_time": "2022-06-15T09:12:06.562Z"
   },
   {
    "duration": 410,
    "start_time": "2022-06-15T09:12:06.575Z"
   },
   {
    "duration": 8,
    "start_time": "2022-06-15T09:12:06.986Z"
   },
   {
    "duration": 8,
    "start_time": "2022-06-15T09:12:06.995Z"
   },
   {
    "duration": 37,
    "start_time": "2022-06-15T09:12:07.005Z"
   },
   {
    "duration": 211,
    "start_time": "2022-06-15T09:12:07.045Z"
   },
   {
    "duration": 439,
    "start_time": "2022-06-15T09:12:07.258Z"
   },
   {
    "duration": 15,
    "start_time": "2022-06-15T09:12:07.699Z"
   },
   {
    "duration": 9,
    "start_time": "2022-06-15T09:12:07.716Z"
   },
   {
    "duration": 126,
    "start_time": "2022-06-15T09:12:07.728Z"
   },
   {
    "duration": 0,
    "start_time": "2022-06-15T09:12:07.856Z"
   },
   {
    "duration": 0,
    "start_time": "2022-06-15T09:12:07.858Z"
   },
   {
    "duration": 0,
    "start_time": "2022-06-15T09:12:07.859Z"
   },
   {
    "duration": 0,
    "start_time": "2022-06-15T09:12:07.860Z"
   },
   {
    "duration": 0,
    "start_time": "2022-06-15T09:12:07.861Z"
   },
   {
    "duration": 0,
    "start_time": "2022-06-15T09:12:07.862Z"
   },
   {
    "duration": 7,
    "start_time": "2022-06-15T09:12:47.513Z"
   },
   {
    "duration": 1323,
    "start_time": "2022-06-15T09:13:15.758Z"
   },
   {
    "duration": 77,
    "start_time": "2022-06-15T09:13:17.084Z"
   },
   {
    "duration": 16,
    "start_time": "2022-06-15T09:13:17.163Z"
   },
   {
    "duration": 37,
    "start_time": "2022-06-15T09:13:17.181Z"
   },
   {
    "duration": 24,
    "start_time": "2022-06-15T09:13:17.226Z"
   },
   {
    "duration": 35,
    "start_time": "2022-06-15T09:13:17.251Z"
   },
   {
    "duration": 4,
    "start_time": "2022-06-15T09:13:17.288Z"
   },
   {
    "duration": 16,
    "start_time": "2022-06-15T09:13:17.294Z"
   },
   {
    "duration": 14,
    "start_time": "2022-06-15T09:13:17.312Z"
   },
   {
    "duration": 20,
    "start_time": "2022-06-15T09:13:17.330Z"
   },
   {
    "duration": 396,
    "start_time": "2022-06-15T09:13:17.352Z"
   },
   {
    "duration": 9,
    "start_time": "2022-06-15T09:13:17.750Z"
   },
   {
    "duration": 7,
    "start_time": "2022-06-15T09:13:17.761Z"
   },
   {
    "duration": 18,
    "start_time": "2022-06-15T09:13:17.769Z"
   },
   {
    "duration": 262,
    "start_time": "2022-06-15T09:13:17.789Z"
   },
   {
    "duration": 444,
    "start_time": "2022-06-15T09:13:18.053Z"
   },
   {
    "duration": 20,
    "start_time": "2022-06-15T09:13:18.499Z"
   },
   {
    "duration": 25,
    "start_time": "2022-06-15T09:13:18.521Z"
   },
   {
    "duration": 123,
    "start_time": "2022-06-15T09:13:18.548Z"
   },
   {
    "duration": 0,
    "start_time": "2022-06-15T09:13:18.673Z"
   },
   {
    "duration": 0,
    "start_time": "2022-06-15T09:13:18.674Z"
   },
   {
    "duration": 0,
    "start_time": "2022-06-15T09:13:18.676Z"
   },
   {
    "duration": 0,
    "start_time": "2022-06-15T09:13:18.677Z"
   },
   {
    "duration": 0,
    "start_time": "2022-06-15T09:13:18.679Z"
   },
   {
    "duration": 0,
    "start_time": "2022-06-15T09:13:18.680Z"
   },
   {
    "duration": 18,
    "start_time": "2022-06-15T09:16:18.596Z"
   },
   {
    "duration": 29,
    "start_time": "2022-06-15T09:16:42.446Z"
   },
   {
    "duration": 15,
    "start_time": "2022-06-15T09:16:55.650Z"
   },
   {
    "duration": 17,
    "start_time": "2022-06-15T09:17:58.604Z"
   },
   {
    "duration": 6,
    "start_time": "2022-06-15T09:18:52.960Z"
   },
   {
    "duration": 19,
    "start_time": "2022-06-15T09:18:59.713Z"
   },
   {
    "duration": 15,
    "start_time": "2022-06-15T09:19:05.205Z"
   },
   {
    "duration": 15,
    "start_time": "2022-06-15T09:19:12.047Z"
   },
   {
    "duration": 15,
    "start_time": "2022-06-15T09:31:09.944Z"
   },
   {
    "duration": 17,
    "start_time": "2022-06-15T09:31:23.819Z"
   },
   {
    "duration": 17,
    "start_time": "2022-06-15T09:31:52.986Z"
   },
   {
    "duration": 19,
    "start_time": "2022-06-15T09:32:25.143Z"
   },
   {
    "duration": 20,
    "start_time": "2022-06-15T09:32:41.153Z"
   },
   {
    "duration": 21,
    "start_time": "2022-06-15T09:32:49.890Z"
   },
   {
    "duration": 19,
    "start_time": "2022-06-15T09:33:35.624Z"
   },
   {
    "duration": 12,
    "start_time": "2022-06-15T09:34:02.151Z"
   },
   {
    "duration": 27,
    "start_time": "2022-06-15T09:34:10.891Z"
   },
   {
    "duration": 21,
    "start_time": "2022-06-15T09:35:04.186Z"
   },
   {
    "duration": 21,
    "start_time": "2022-06-15T09:35:50.338Z"
   },
   {
    "duration": 1180,
    "start_time": "2022-06-15T09:36:06.711Z"
   },
   {
    "duration": 74,
    "start_time": "2022-06-15T09:36:07.893Z"
   },
   {
    "duration": 14,
    "start_time": "2022-06-15T09:36:07.969Z"
   },
   {
    "duration": 46,
    "start_time": "2022-06-15T09:36:07.985Z"
   },
   {
    "duration": 13,
    "start_time": "2022-06-15T09:36:08.042Z"
   },
   {
    "duration": 24,
    "start_time": "2022-06-15T09:36:08.056Z"
   },
   {
    "duration": 3,
    "start_time": "2022-06-15T09:36:08.081Z"
   },
   {
    "duration": 19,
    "start_time": "2022-06-15T09:36:08.086Z"
   },
   {
    "duration": 28,
    "start_time": "2022-06-15T09:36:08.108Z"
   },
   {
    "duration": 7,
    "start_time": "2022-06-15T09:36:08.141Z"
   },
   {
    "duration": 414,
    "start_time": "2022-06-15T09:36:08.149Z"
   },
   {
    "duration": 8,
    "start_time": "2022-06-15T09:36:08.565Z"
   },
   {
    "duration": 23,
    "start_time": "2022-06-15T09:36:08.575Z"
   },
   {
    "duration": 42,
    "start_time": "2022-06-15T09:36:08.601Z"
   },
   {
    "duration": 229,
    "start_time": "2022-06-15T09:36:08.645Z"
   },
   {
    "duration": 436,
    "start_time": "2022-06-15T09:36:08.877Z"
   },
   {
    "duration": 23,
    "start_time": "2022-06-15T09:36:09.316Z"
   },
   {
    "duration": 36,
    "start_time": "2022-06-15T09:36:09.341Z"
   },
   {
    "duration": 116,
    "start_time": "2022-06-15T09:36:09.379Z"
   },
   {
    "duration": 0,
    "start_time": "2022-06-15T09:36:09.497Z"
   },
   {
    "duration": 0,
    "start_time": "2022-06-15T09:36:09.499Z"
   },
   {
    "duration": 1,
    "start_time": "2022-06-15T09:36:09.500Z"
   },
   {
    "duration": 0,
    "start_time": "2022-06-15T09:36:09.502Z"
   },
   {
    "duration": 0,
    "start_time": "2022-06-15T09:36:09.504Z"
   },
   {
    "duration": 0,
    "start_time": "2022-06-15T09:36:09.505Z"
   },
   {
    "duration": 1,
    "start_time": "2022-06-15T09:36:09.506Z"
   },
   {
    "duration": 0,
    "start_time": "2022-06-15T09:36:09.508Z"
   },
   {
    "duration": 0,
    "start_time": "2022-06-15T09:36:09.526Z"
   },
   {
    "duration": 0,
    "start_time": "2022-06-15T09:36:09.527Z"
   },
   {
    "duration": 1237,
    "start_time": "2022-06-15T09:36:38.750Z"
   },
   {
    "duration": 78,
    "start_time": "2022-06-15T09:36:39.989Z"
   },
   {
    "duration": 15,
    "start_time": "2022-06-15T09:36:40.069Z"
   },
   {
    "duration": 47,
    "start_time": "2022-06-15T09:36:40.086Z"
   },
   {
    "duration": 18,
    "start_time": "2022-06-15T09:36:40.138Z"
   },
   {
    "duration": 27,
    "start_time": "2022-06-15T09:36:40.158Z"
   },
   {
    "duration": 5,
    "start_time": "2022-06-15T09:36:40.187Z"
   },
   {
    "duration": 50,
    "start_time": "2022-06-15T09:36:40.194Z"
   },
   {
    "duration": 14,
    "start_time": "2022-06-15T09:36:40.246Z"
   },
   {
    "duration": 18,
    "start_time": "2022-06-15T09:36:40.263Z"
   },
   {
    "duration": 478,
    "start_time": "2022-06-15T09:36:40.284Z"
   },
   {
    "duration": 8,
    "start_time": "2022-06-15T09:36:40.764Z"
   },
   {
    "duration": 6,
    "start_time": "2022-06-15T09:36:40.774Z"
   },
   {
    "duration": 45,
    "start_time": "2022-06-15T09:36:40.783Z"
   },
   {
    "duration": 255,
    "start_time": "2022-06-15T09:36:40.837Z"
   },
   {
    "duration": 529,
    "start_time": "2022-06-15T09:36:41.093Z"
   },
   {
    "duration": 29,
    "start_time": "2022-06-15T09:36:41.625Z"
   },
   {
    "duration": 15,
    "start_time": "2022-06-15T09:36:41.656Z"
   },
   {
    "duration": 154,
    "start_time": "2022-06-15T09:36:41.673Z"
   },
   {
    "duration": 0,
    "start_time": "2022-06-15T09:36:41.831Z"
   },
   {
    "duration": 0,
    "start_time": "2022-06-15T09:36:41.832Z"
   },
   {
    "duration": 0,
    "start_time": "2022-06-15T09:36:41.834Z"
   },
   {
    "duration": 0,
    "start_time": "2022-06-15T09:36:41.835Z"
   },
   {
    "duration": 0,
    "start_time": "2022-06-15T09:36:41.836Z"
   },
   {
    "duration": 0,
    "start_time": "2022-06-15T09:36:41.837Z"
   },
   {
    "duration": 0,
    "start_time": "2022-06-15T09:36:41.838Z"
   },
   {
    "duration": 0,
    "start_time": "2022-06-15T09:36:41.839Z"
   },
   {
    "duration": 0,
    "start_time": "2022-06-15T09:36:41.840Z"
   },
   {
    "duration": 0,
    "start_time": "2022-06-15T09:36:41.841Z"
   },
   {
    "duration": 23,
    "start_time": "2022-06-15T09:37:09.586Z"
   },
   {
    "duration": 465,
    "start_time": "2022-06-15T09:37:15.903Z"
   },
   {
    "duration": 531,
    "start_time": "2022-06-15T09:37:23.558Z"
   },
   {
    "duration": 1188,
    "start_time": "2022-06-15T09:37:56.092Z"
   },
   {
    "duration": 78,
    "start_time": "2022-06-15T09:37:57.282Z"
   },
   {
    "duration": 17,
    "start_time": "2022-06-15T09:37:57.362Z"
   },
   {
    "duration": 84,
    "start_time": "2022-06-15T09:37:57.381Z"
   },
   {
    "duration": 13,
    "start_time": "2022-06-15T09:37:57.467Z"
   },
   {
    "duration": 75,
    "start_time": "2022-06-15T09:37:57.482Z"
   },
   {
    "duration": 5,
    "start_time": "2022-06-15T09:37:57.559Z"
   },
   {
    "duration": 18,
    "start_time": "2022-06-15T09:37:57.566Z"
   },
   {
    "duration": 16,
    "start_time": "2022-06-15T09:37:57.586Z"
   },
   {
    "duration": 10,
    "start_time": "2022-06-15T09:37:57.603Z"
   },
   {
    "duration": 447,
    "start_time": "2022-06-15T09:37:57.615Z"
   },
   {
    "duration": 10,
    "start_time": "2022-06-15T09:37:58.064Z"
   },
   {
    "duration": 4,
    "start_time": "2022-06-15T09:37:58.076Z"
   },
   {
    "duration": 23,
    "start_time": "2022-06-15T09:37:58.083Z"
   },
   {
    "duration": 257,
    "start_time": "2022-06-15T09:37:58.108Z"
   },
   {
    "duration": 457,
    "start_time": "2022-06-15T09:37:58.368Z"
   },
   {
    "duration": 24,
    "start_time": "2022-06-15T09:37:58.827Z"
   },
   {
    "duration": 8,
    "start_time": "2022-06-15T09:37:58.853Z"
   },
   {
    "duration": 403,
    "start_time": "2022-06-15T09:37:58.862Z"
   },
   {
    "duration": 111,
    "start_time": "2022-06-15T09:37:59.267Z"
   },
   {
    "duration": 0,
    "start_time": "2022-06-15T09:37:59.379Z"
   },
   {
    "duration": 0,
    "start_time": "2022-06-15T09:37:59.381Z"
   },
   {
    "duration": 0,
    "start_time": "2022-06-15T09:37:59.382Z"
   },
   {
    "duration": 0,
    "start_time": "2022-06-15T09:37:59.383Z"
   },
   {
    "duration": 0,
    "start_time": "2022-06-15T09:37:59.385Z"
   },
   {
    "duration": 0,
    "start_time": "2022-06-15T09:37:59.386Z"
   },
   {
    "duration": 0,
    "start_time": "2022-06-15T09:37:59.387Z"
   },
   {
    "duration": 0,
    "start_time": "2022-06-15T09:37:59.389Z"
   },
   {
    "duration": 0,
    "start_time": "2022-06-15T09:37:59.390Z"
   },
   {
    "duration": 22,
    "start_time": "2022-06-15T09:39:09.623Z"
   },
   {
    "duration": 23,
    "start_time": "2022-06-15T09:39:21.352Z"
   },
   {
    "duration": 532,
    "start_time": "2022-06-15T09:39:29.540Z"
   },
   {
    "duration": 28,
    "start_time": "2022-06-15T09:40:52.614Z"
   },
   {
    "duration": 1374,
    "start_time": "2022-06-15T09:41:04.316Z"
   },
   {
    "duration": 83,
    "start_time": "2022-06-15T09:41:05.693Z"
   },
   {
    "duration": 18,
    "start_time": "2022-06-15T09:41:05.778Z"
   },
   {
    "duration": 52,
    "start_time": "2022-06-15T09:41:05.798Z"
   },
   {
    "duration": 13,
    "start_time": "2022-06-15T09:41:05.852Z"
   },
   {
    "duration": 28,
    "start_time": "2022-06-15T09:41:05.867Z"
   },
   {
    "duration": 5,
    "start_time": "2022-06-15T09:41:05.897Z"
   },
   {
    "duration": 49,
    "start_time": "2022-06-15T09:41:05.904Z"
   },
   {
    "duration": 15,
    "start_time": "2022-06-15T09:41:05.955Z"
   },
   {
    "duration": 79,
    "start_time": "2022-06-15T09:41:05.973Z"
   },
   {
    "duration": 520,
    "start_time": "2022-06-15T09:41:06.053Z"
   },
   {
    "duration": 8,
    "start_time": "2022-06-15T09:41:06.575Z"
   },
   {
    "duration": 5,
    "start_time": "2022-06-15T09:41:06.585Z"
   },
   {
    "duration": 43,
    "start_time": "2022-06-15T09:41:06.592Z"
   },
   {
    "duration": 277,
    "start_time": "2022-06-15T09:41:06.640Z"
   },
   {
    "duration": 458,
    "start_time": "2022-06-15T09:41:06.920Z"
   },
   {
    "duration": 17,
    "start_time": "2022-06-15T09:41:07.380Z"
   },
   {
    "duration": 11,
    "start_time": "2022-06-15T09:41:07.398Z"
   },
   {
    "duration": 135,
    "start_time": "2022-06-15T09:41:07.411Z"
   },
   {
    "duration": 0,
    "start_time": "2022-06-15T09:41:07.548Z"
   },
   {
    "duration": 0,
    "start_time": "2022-06-15T09:41:07.549Z"
   },
   {
    "duration": 0,
    "start_time": "2022-06-15T09:41:07.550Z"
   },
   {
    "duration": 0,
    "start_time": "2022-06-15T09:41:07.552Z"
   },
   {
    "duration": 0,
    "start_time": "2022-06-15T09:41:07.553Z"
   },
   {
    "duration": 0,
    "start_time": "2022-06-15T09:41:07.554Z"
   },
   {
    "duration": 0,
    "start_time": "2022-06-15T09:41:07.555Z"
   },
   {
    "duration": 0,
    "start_time": "2022-06-15T09:41:07.556Z"
   },
   {
    "duration": 0,
    "start_time": "2022-06-15T09:41:07.557Z"
   },
   {
    "duration": 0,
    "start_time": "2022-06-15T09:41:07.558Z"
   },
   {
    "duration": 403,
    "start_time": "2022-06-15T09:42:58.350Z"
   },
   {
    "duration": 469,
    "start_time": "2022-06-15T09:43:04.752Z"
   },
   {
    "duration": 454,
    "start_time": "2022-06-15T09:44:17.591Z"
   },
   {
    "duration": 453,
    "start_time": "2022-06-15T09:44:24.554Z"
   },
   {
    "duration": 24,
    "start_time": "2022-06-15T09:44:29.296Z"
   },
   {
    "duration": 436,
    "start_time": "2022-06-15T09:44:34.454Z"
   },
   {
    "duration": 24,
    "start_time": "2022-06-15T09:44:43.835Z"
   },
   {
    "duration": 5,
    "start_time": "2022-06-15T09:45:00.817Z"
   },
   {
    "duration": 384,
    "start_time": "2022-06-15T09:45:08.214Z"
   },
   {
    "duration": 396,
    "start_time": "2022-06-15T09:45:19.710Z"
   },
   {
    "duration": 493,
    "start_time": "2022-06-15T09:45:35.386Z"
   },
   {
    "duration": 1272,
    "start_time": "2022-06-15T09:45:48.620Z"
   },
   {
    "duration": 75,
    "start_time": "2022-06-15T09:45:49.894Z"
   },
   {
    "duration": 16,
    "start_time": "2022-06-15T09:45:49.971Z"
   },
   {
    "duration": 47,
    "start_time": "2022-06-15T09:45:49.989Z"
   },
   {
    "duration": 18,
    "start_time": "2022-06-15T09:45:50.039Z"
   },
   {
    "duration": 35,
    "start_time": "2022-06-15T09:45:50.059Z"
   },
   {
    "duration": 21,
    "start_time": "2022-06-15T09:45:50.096Z"
   },
   {
    "duration": 43,
    "start_time": "2022-06-15T09:45:50.119Z"
   },
   {
    "duration": 34,
    "start_time": "2022-06-15T09:45:50.164Z"
   },
   {
    "duration": 9,
    "start_time": "2022-06-15T09:45:50.203Z"
   },
   {
    "duration": 474,
    "start_time": "2022-06-15T09:45:50.214Z"
   },
   {
    "duration": 9,
    "start_time": "2022-06-15T09:45:50.689Z"
   },
   {
    "duration": 4,
    "start_time": "2022-06-15T09:45:50.699Z"
   },
   {
    "duration": 37,
    "start_time": "2022-06-15T09:45:50.706Z"
   },
   {
    "duration": 230,
    "start_time": "2022-06-15T09:45:50.746Z"
   },
   {
    "duration": 528,
    "start_time": "2022-06-15T09:45:50.978Z"
   },
   {
    "duration": 21,
    "start_time": "2022-06-15T09:45:51.508Z"
   },
   {
    "duration": 27,
    "start_time": "2022-06-15T09:45:51.532Z"
   },
   {
    "duration": 129,
    "start_time": "2022-06-15T09:45:51.562Z"
   },
   {
    "duration": 0,
    "start_time": "2022-06-15T09:45:51.693Z"
   },
   {
    "duration": 0,
    "start_time": "2022-06-15T09:45:51.695Z"
   },
   {
    "duration": 0,
    "start_time": "2022-06-15T09:45:51.696Z"
   },
   {
    "duration": 0,
    "start_time": "2022-06-15T09:45:51.697Z"
   },
   {
    "duration": 0,
    "start_time": "2022-06-15T09:45:51.699Z"
   },
   {
    "duration": 0,
    "start_time": "2022-06-15T09:45:51.700Z"
   },
   {
    "duration": 0,
    "start_time": "2022-06-15T09:45:51.702Z"
   },
   {
    "duration": 0,
    "start_time": "2022-06-15T09:45:51.703Z"
   },
   {
    "duration": 0,
    "start_time": "2022-06-15T09:45:51.704Z"
   },
   {
    "duration": 0,
    "start_time": "2022-06-15T09:45:51.706Z"
   },
   {
    "duration": 3,
    "start_time": "2022-06-15T09:46:01.122Z"
   },
   {
    "duration": 423,
    "start_time": "2022-06-15T09:46:05.402Z"
   },
   {
    "duration": 17,
    "start_time": "2022-06-15T09:46:06.206Z"
   },
   {
    "duration": 9,
    "start_time": "2022-06-15T09:46:08.003Z"
   },
   {
    "duration": 22,
    "start_time": "2022-06-15T09:46:08.592Z"
   },
   {
    "duration": 22,
    "start_time": "2022-06-15T09:46:17.039Z"
   },
   {
    "duration": 4,
    "start_time": "2022-06-15T09:46:24.043Z"
   },
   {
    "duration": 7,
    "start_time": "2022-06-15T09:47:00.442Z"
   },
   {
    "duration": 1281,
    "start_time": "2022-06-15T09:47:04.257Z"
   },
   {
    "duration": 83,
    "start_time": "2022-06-15T09:47:05.542Z"
   },
   {
    "duration": 21,
    "start_time": "2022-06-15T09:47:05.629Z"
   },
   {
    "duration": 67,
    "start_time": "2022-06-15T09:47:05.653Z"
   },
   {
    "duration": 38,
    "start_time": "2022-06-15T09:47:05.722Z"
   },
   {
    "duration": 103,
    "start_time": "2022-06-15T09:47:05.762Z"
   },
   {
    "duration": 38,
    "start_time": "2022-06-15T09:47:05.867Z"
   },
   {
    "duration": 32,
    "start_time": "2022-06-15T09:47:05.908Z"
   },
   {
    "duration": 41,
    "start_time": "2022-06-15T09:47:05.942Z"
   },
   {
    "duration": 12,
    "start_time": "2022-06-15T09:47:05.986Z"
   },
   {
    "duration": 392,
    "start_time": "2022-06-15T09:47:06.000Z"
   },
   {
    "duration": 10,
    "start_time": "2022-06-15T09:47:06.393Z"
   },
   {
    "duration": 22,
    "start_time": "2022-06-15T09:47:06.404Z"
   },
   {
    "duration": 22,
    "start_time": "2022-06-15T09:47:06.429Z"
   },
   {
    "duration": 251,
    "start_time": "2022-06-15T09:47:06.453Z"
   },
   {
    "duration": 480,
    "start_time": "2022-06-15T09:47:06.706Z"
   },
   {
    "duration": 16,
    "start_time": "2022-06-15T09:47:07.188Z"
   },
   {
    "duration": 13,
    "start_time": "2022-06-15T09:47:07.206Z"
   },
   {
    "duration": 127,
    "start_time": "2022-06-15T09:47:07.221Z"
   },
   {
    "duration": 0,
    "start_time": "2022-06-15T09:47:07.351Z"
   },
   {
    "duration": 0,
    "start_time": "2022-06-15T09:47:07.353Z"
   },
   {
    "duration": 0,
    "start_time": "2022-06-15T09:47:07.354Z"
   },
   {
    "duration": 0,
    "start_time": "2022-06-15T09:47:07.355Z"
   },
   {
    "duration": 0,
    "start_time": "2022-06-15T09:47:07.357Z"
   },
   {
    "duration": 0,
    "start_time": "2022-06-15T09:47:07.359Z"
   },
   {
    "duration": 0,
    "start_time": "2022-06-15T09:47:07.360Z"
   },
   {
    "duration": 0,
    "start_time": "2022-06-15T09:47:07.361Z"
   },
   {
    "duration": 0,
    "start_time": "2022-06-15T09:47:07.362Z"
   },
   {
    "duration": 0,
    "start_time": "2022-06-15T09:47:07.362Z"
   },
   {
    "duration": 22,
    "start_time": "2022-06-15T09:47:26.685Z"
   },
   {
    "duration": 417,
    "start_time": "2022-06-15T09:47:32.890Z"
   },
   {
    "duration": 498,
    "start_time": "2022-06-15T09:47:45.642Z"
   },
   {
    "duration": 10,
    "start_time": "2022-06-15T09:47:47.300Z"
   },
   {
    "duration": 11,
    "start_time": "2022-06-15T09:47:49.647Z"
   },
   {
    "duration": 10,
    "start_time": "2022-06-15T09:48:19.057Z"
   },
   {
    "duration": 33,
    "start_time": "2022-06-15T09:48:19.514Z"
   },
   {
    "duration": 18,
    "start_time": "2022-06-15T09:48:19.962Z"
   },
   {
    "duration": 18,
    "start_time": "2022-06-15T09:48:20.444Z"
   },
   {
    "duration": 253,
    "start_time": "2022-06-15T09:49:55.596Z"
   },
   {
    "duration": 21,
    "start_time": "2022-06-15T09:50:13.343Z"
   },
   {
    "duration": 28,
    "start_time": "2022-06-15T09:51:02.016Z"
   },
   {
    "duration": 275,
    "start_time": "2022-06-15T09:51:09.982Z"
   },
   {
    "duration": 352,
    "start_time": "2022-06-15T09:51:43.981Z"
   },
   {
    "duration": 24,
    "start_time": "2022-06-15T09:52:48.010Z"
   },
   {
    "duration": 18,
    "start_time": "2022-06-15T09:52:58.379Z"
   },
   {
    "duration": 19,
    "start_time": "2022-06-15T09:54:01.277Z"
   },
   {
    "duration": 5,
    "start_time": "2022-06-15T09:54:53.584Z"
   },
   {
    "duration": 65,
    "start_time": "2022-06-15T09:54:57.582Z"
   },
   {
    "duration": 16,
    "start_time": "2022-06-15T09:54:58.445Z"
   },
   {
    "duration": 29,
    "start_time": "2022-06-15T09:54:58.651Z"
   },
   {
    "duration": 15,
    "start_time": "2022-06-15T09:54:59.004Z"
   },
   {
    "duration": 19,
    "start_time": "2022-06-15T09:54:59.433Z"
   },
   {
    "duration": 5,
    "start_time": "2022-06-15T09:54:59.968Z"
   },
   {
    "duration": 10,
    "start_time": "2022-06-15T09:55:00.151Z"
   },
   {
    "duration": 12,
    "start_time": "2022-06-15T09:55:00.354Z"
   },
   {
    "duration": 9,
    "start_time": "2022-06-15T09:55:00.546Z"
   },
   {
    "duration": 443,
    "start_time": "2022-06-15T09:55:00.718Z"
   },
   {
    "duration": 9,
    "start_time": "2022-06-15T09:55:01.164Z"
   },
   {
    "duration": 5,
    "start_time": "2022-06-15T09:55:01.981Z"
   },
   {
    "duration": 13,
    "start_time": "2022-06-15T09:55:02.642Z"
   },
   {
    "duration": 33,
    "start_time": "2022-06-15T09:55:04.521Z"
   },
   {
    "duration": 378,
    "start_time": "2022-06-15T09:55:12.804Z"
   },
   {
    "duration": 468,
    "start_time": "2022-06-15T09:55:15.291Z"
   },
   {
    "duration": 21,
    "start_time": "2022-06-15T09:55:16.956Z"
   },
   {
    "duration": 10,
    "start_time": "2022-06-15T09:55:19.595Z"
   },
   {
    "duration": 375,
    "start_time": "2022-06-15T09:55:20.282Z"
   },
   {
    "duration": 10,
    "start_time": "2022-06-15T09:55:24.307Z"
   },
   {
    "duration": 11,
    "start_time": "2022-06-15T09:55:25.948Z"
   },
   {
    "duration": 5,
    "start_time": "2022-06-15T09:55:27.746Z"
   },
   {
    "duration": 13,
    "start_time": "2022-06-15T09:55:28.226Z"
   },
   {
    "duration": 6,
    "start_time": "2022-06-15T09:55:28.981Z"
   },
   {
    "duration": 24,
    "start_time": "2022-06-15T09:55:30.601Z"
   },
   {
    "duration": 289,
    "start_time": "2022-06-15T09:58:34.050Z"
   },
   {
    "duration": 218,
    "start_time": "2022-06-15T09:58:48.600Z"
   },
   {
    "duration": 314,
    "start_time": "2022-06-15T09:59:23.896Z"
   },
   {
    "duration": 272,
    "start_time": "2022-06-15T10:00:13.804Z"
   },
   {
    "duration": 270,
    "start_time": "2022-06-15T10:00:22.531Z"
   },
   {
    "duration": 294,
    "start_time": "2022-06-15T10:00:37.097Z"
   },
   {
    "duration": 313,
    "start_time": "2022-06-15T10:00:44.486Z"
   },
   {
    "duration": 413,
    "start_time": "2022-06-15T10:00:57.625Z"
   },
   {
    "duration": 23,
    "start_time": "2022-06-15T10:01:21.203Z"
   },
   {
    "duration": 20,
    "start_time": "2022-06-15T10:01:23.775Z"
   },
   {
    "duration": 15,
    "start_time": "2022-06-15T10:01:31.297Z"
   },
   {
    "duration": 287,
    "start_time": "2022-06-15T10:01:33.753Z"
   },
   {
    "duration": 8,
    "start_time": "2022-06-15T10:01:52.064Z"
   },
   {
    "duration": 42,
    "start_time": "2022-06-15T10:03:38.224Z"
   },
   {
    "duration": 13,
    "start_time": "2022-06-15T10:03:42.267Z"
   },
   {
    "duration": 18,
    "start_time": "2022-06-15T10:03:52.476Z"
   },
   {
    "duration": 302,
    "start_time": "2022-06-15T10:04:11.550Z"
   },
   {
    "duration": 275,
    "start_time": "2022-06-15T10:04:22.441Z"
   },
   {
    "duration": 346,
    "start_time": "2022-06-15T10:04:31.651Z"
   },
   {
    "duration": 302,
    "start_time": "2022-06-15T10:05:09.810Z"
   },
   {
    "duration": 329,
    "start_time": "2022-06-15T10:06:18.067Z"
   },
   {
    "duration": 341,
    "start_time": "2022-06-15T10:07:12.246Z"
   },
   {
    "duration": 25,
    "start_time": "2022-06-15T10:07:42.016Z"
   },
   {
    "duration": 302,
    "start_time": "2022-06-15T10:07:47.349Z"
   },
   {
    "duration": 21,
    "start_time": "2022-06-15T10:07:53.907Z"
   },
   {
    "duration": 320,
    "start_time": "2022-06-15T10:08:00.559Z"
   },
   {
    "duration": 343,
    "start_time": "2022-06-15T10:09:42.097Z"
   },
   {
    "duration": 460,
    "start_time": "2022-06-15T10:09:53.759Z"
   },
   {
    "duration": 17,
    "start_time": "2022-06-15T10:11:05.160Z"
   },
   {
    "duration": 229,
    "start_time": "2022-06-15T10:11:36.647Z"
   },
   {
    "duration": 1227,
    "start_time": "2022-06-15T10:14:10.765Z"
   },
   {
    "duration": 78,
    "start_time": "2022-06-15T10:14:11.993Z"
   },
   {
    "duration": 16,
    "start_time": "2022-06-15T10:14:12.073Z"
   },
   {
    "duration": 29,
    "start_time": "2022-06-15T10:14:12.092Z"
   },
   {
    "duration": 15,
    "start_time": "2022-06-15T10:14:12.132Z"
   },
   {
    "duration": 17,
    "start_time": "2022-06-15T10:14:12.149Z"
   },
   {
    "duration": 4,
    "start_time": "2022-06-15T10:14:12.167Z"
   },
   {
    "duration": 14,
    "start_time": "2022-06-15T10:14:12.173Z"
   },
   {
    "duration": 14,
    "start_time": "2022-06-15T10:14:12.189Z"
   },
   {
    "duration": 32,
    "start_time": "2022-06-15T10:14:12.205Z"
   },
   {
    "duration": 407,
    "start_time": "2022-06-15T10:14:12.239Z"
   },
   {
    "duration": 8,
    "start_time": "2022-06-15T10:14:12.648Z"
   },
   {
    "duration": 18,
    "start_time": "2022-06-15T10:14:12.658Z"
   },
   {
    "duration": 15,
    "start_time": "2022-06-15T10:14:12.678Z"
   },
   {
    "duration": 228,
    "start_time": "2022-06-15T10:14:12.695Z"
   },
   {
    "duration": 452,
    "start_time": "2022-06-15T10:14:12.925Z"
   },
   {
    "duration": 16,
    "start_time": "2022-06-15T10:14:13.379Z"
   },
   {
    "duration": 17,
    "start_time": "2022-06-15T10:14:13.396Z"
   },
   {
    "duration": 377,
    "start_time": "2022-06-15T10:14:13.415Z"
   },
   {
    "duration": 109,
    "start_time": "2022-06-15T10:14:13.794Z"
   },
   {
    "duration": 0,
    "start_time": "2022-06-15T10:14:13.905Z"
   },
   {
    "duration": 0,
    "start_time": "2022-06-15T10:14:13.907Z"
   },
   {
    "duration": 0,
    "start_time": "2022-06-15T10:14:13.908Z"
   },
   {
    "duration": 0,
    "start_time": "2022-06-15T10:14:13.909Z"
   },
   {
    "duration": 0,
    "start_time": "2022-06-15T10:14:13.910Z"
   },
   {
    "duration": 0,
    "start_time": "2022-06-15T10:14:13.912Z"
   },
   {
    "duration": 0,
    "start_time": "2022-06-15T10:14:13.913Z"
   },
   {
    "duration": 0,
    "start_time": "2022-06-15T10:14:13.933Z"
   },
   {
    "duration": 0,
    "start_time": "2022-06-15T10:14:13.934Z"
   },
   {
    "duration": 9,
    "start_time": "2022-06-15T10:14:23.498Z"
   },
   {
    "duration": 19,
    "start_time": "2022-06-15T10:14:24.522Z"
   },
   {
    "duration": 6,
    "start_time": "2022-06-15T10:14:26.089Z"
   },
   {
    "duration": 8,
    "start_time": "2022-06-15T10:14:26.701Z"
   },
   {
    "duration": 6,
    "start_time": "2022-06-15T10:14:27.301Z"
   },
   {
    "duration": 1221,
    "start_time": "2022-06-15T10:15:09.642Z"
   },
   {
    "duration": 73,
    "start_time": "2022-06-15T10:15:10.865Z"
   },
   {
    "duration": 18,
    "start_time": "2022-06-15T10:15:10.940Z"
   },
   {
    "duration": 29,
    "start_time": "2022-06-15T10:15:10.960Z"
   },
   {
    "duration": 11,
    "start_time": "2022-06-15T10:15:10.991Z"
   },
   {
    "duration": 47,
    "start_time": "2022-06-15T10:15:11.003Z"
   },
   {
    "duration": 3,
    "start_time": "2022-06-15T10:15:11.052Z"
   },
   {
    "duration": 22,
    "start_time": "2022-06-15T10:15:11.057Z"
   },
   {
    "duration": 14,
    "start_time": "2022-06-15T10:15:11.081Z"
   },
   {
    "duration": 8,
    "start_time": "2022-06-15T10:15:11.096Z"
   },
   {
    "duration": 405,
    "start_time": "2022-06-15T10:15:11.105Z"
   },
   {
    "duration": 18,
    "start_time": "2022-06-15T10:15:11.512Z"
   },
   {
    "duration": 14,
    "start_time": "2022-06-15T10:15:11.533Z"
   },
   {
    "duration": 22,
    "start_time": "2022-06-15T10:15:11.550Z"
   },
   {
    "duration": 237,
    "start_time": "2022-06-15T10:15:11.574Z"
   },
   {
    "duration": 441,
    "start_time": "2022-06-15T10:15:11.813Z"
   },
   {
    "duration": 25,
    "start_time": "2022-06-15T10:15:12.256Z"
   },
   {
    "duration": 15,
    "start_time": "2022-06-15T10:15:12.283Z"
   },
   {
    "duration": 369,
    "start_time": "2022-06-15T10:15:12.300Z"
   },
   {
    "duration": 110,
    "start_time": "2022-06-15T10:15:12.671Z"
   },
   {
    "duration": 0,
    "start_time": "2022-06-15T10:15:12.782Z"
   },
   {
    "duration": 0,
    "start_time": "2022-06-15T10:15:12.783Z"
   },
   {
    "duration": 0,
    "start_time": "2022-06-15T10:15:12.784Z"
   },
   {
    "duration": 0,
    "start_time": "2022-06-15T10:15:12.785Z"
   },
   {
    "duration": 0,
    "start_time": "2022-06-15T10:15:12.786Z"
   },
   {
    "duration": 0,
    "start_time": "2022-06-15T10:15:12.787Z"
   },
   {
    "duration": 0,
    "start_time": "2022-06-15T10:15:12.789Z"
   },
   {
    "duration": 0,
    "start_time": "2022-06-15T10:15:12.790Z"
   },
   {
    "duration": 0,
    "start_time": "2022-06-15T10:15:12.791Z"
   },
   {
    "duration": 4,
    "start_time": "2022-06-15T10:15:26.566Z"
   },
   {
    "duration": 1138,
    "start_time": "2022-06-15T10:15:56.324Z"
   },
   {
    "duration": 68,
    "start_time": "2022-06-15T10:15:57.464Z"
   },
   {
    "duration": 20,
    "start_time": "2022-06-15T10:15:57.534Z"
   },
   {
    "duration": 43,
    "start_time": "2022-06-15T10:15:57.557Z"
   },
   {
    "duration": 11,
    "start_time": "2022-06-15T10:15:57.602Z"
   },
   {
    "duration": 26,
    "start_time": "2022-06-15T10:15:57.614Z"
   },
   {
    "duration": 5,
    "start_time": "2022-06-15T10:15:57.642Z"
   },
   {
    "duration": 12,
    "start_time": "2022-06-15T10:15:57.649Z"
   },
   {
    "duration": 10,
    "start_time": "2022-06-15T10:15:57.662Z"
   },
   {
    "duration": 8,
    "start_time": "2022-06-15T10:15:57.675Z"
   },
   {
    "duration": 391,
    "start_time": "2022-06-15T10:15:57.685Z"
   },
   {
    "duration": 8,
    "start_time": "2022-06-15T10:15:58.078Z"
   },
   {
    "duration": 10,
    "start_time": "2022-06-15T10:15:58.087Z"
   },
   {
    "duration": 15,
    "start_time": "2022-06-15T10:15:58.099Z"
   },
   {
    "duration": 251,
    "start_time": "2022-06-15T10:15:58.116Z"
   },
   {
    "duration": 456,
    "start_time": "2022-06-15T10:15:58.369Z"
   },
   {
    "duration": 24,
    "start_time": "2022-06-15T10:15:58.827Z"
   },
   {
    "duration": 8,
    "start_time": "2022-06-15T10:15:58.853Z"
   },
   {
    "duration": 401,
    "start_time": "2022-06-15T10:15:58.863Z"
   },
   {
    "duration": 466,
    "start_time": "2022-06-15T10:15:59.266Z"
   },
   {
    "duration": 4,
    "start_time": "2022-06-15T10:15:59.742Z"
   },
   {
    "duration": 371,
    "start_time": "2022-06-15T10:15:59.748Z"
   },
   {
    "duration": 6,
    "start_time": "2022-06-15T10:16:00.125Z"
   },
   {
    "duration": 25,
    "start_time": "2022-06-15T10:16:00.132Z"
   },
   {
    "duration": 9,
    "start_time": "2022-06-15T10:16:00.159Z"
   },
   {
    "duration": 276,
    "start_time": "2022-06-15T10:16:00.169Z"
   },
   {
    "duration": 343,
    "start_time": "2022-06-15T10:16:00.447Z"
   },
   {
    "duration": 319,
    "start_time": "2022-06-15T10:16:00.795Z"
   },
   {
    "duration": 270,
    "start_time": "2022-06-15T10:16:01.116Z"
   },
   {
    "duration": 4,
    "start_time": "2022-06-15T10:16:01.389Z"
   },
   {
    "duration": 1204,
    "start_time": "2022-06-15T10:16:23.868Z"
   },
   {
    "duration": 71,
    "start_time": "2022-06-15T10:16:25.074Z"
   },
   {
    "duration": 16,
    "start_time": "2022-06-15T10:16:25.147Z"
   },
   {
    "duration": 34,
    "start_time": "2022-06-15T10:16:25.165Z"
   },
   {
    "duration": 11,
    "start_time": "2022-06-15T10:16:25.201Z"
   },
   {
    "duration": 23,
    "start_time": "2022-06-15T10:16:25.227Z"
   },
   {
    "duration": 11,
    "start_time": "2022-06-15T10:16:25.252Z"
   },
   {
    "duration": 15,
    "start_time": "2022-06-15T10:16:25.265Z"
   },
   {
    "duration": 12,
    "start_time": "2022-06-15T10:16:25.282Z"
   },
   {
    "duration": 13,
    "start_time": "2022-06-15T10:16:25.297Z"
   },
   {
    "duration": 380,
    "start_time": "2022-06-15T10:16:25.311Z"
   },
   {
    "duration": 8,
    "start_time": "2022-06-15T10:16:25.693Z"
   },
   {
    "duration": 7,
    "start_time": "2022-06-15T10:16:25.702Z"
   },
   {
    "duration": 26,
    "start_time": "2022-06-15T10:16:25.710Z"
   },
   {
    "duration": 212,
    "start_time": "2022-06-15T10:16:25.739Z"
   },
   {
    "duration": 416,
    "start_time": "2022-06-15T10:16:25.953Z"
   },
   {
    "duration": 16,
    "start_time": "2022-06-15T10:16:26.371Z"
   },
   {
    "duration": 15,
    "start_time": "2022-06-15T10:16:26.388Z"
   },
   {
    "duration": 369,
    "start_time": "2022-06-15T10:16:26.405Z"
   },
   {
    "duration": 392,
    "start_time": "2022-06-15T10:16:26.776Z"
   },
   {
    "duration": 4,
    "start_time": "2022-06-15T10:16:27.170Z"
   },
   {
    "duration": 318,
    "start_time": "2022-06-15T10:16:27.175Z"
   },
   {
    "duration": 6,
    "start_time": "2022-06-15T10:16:27.494Z"
   },
   {
    "duration": 13,
    "start_time": "2022-06-15T10:16:27.502Z"
   },
   {
    "duration": 40,
    "start_time": "2022-06-15T10:16:27.516Z"
   },
   {
    "duration": 254,
    "start_time": "2022-06-15T10:16:27.558Z"
   },
   {
    "duration": 361,
    "start_time": "2022-06-15T10:16:27.814Z"
   },
   {
    "duration": 313,
    "start_time": "2022-06-15T10:16:28.177Z"
   },
   {
    "duration": 251,
    "start_time": "2022-06-15T10:16:28.492Z"
   },
   {
    "duration": 331,
    "start_time": "2022-06-15T10:17:45.720Z"
   },
   {
    "duration": 306,
    "start_time": "2022-06-15T10:17:47.939Z"
   },
   {
    "duration": 280,
    "start_time": "2022-06-15T10:17:54.264Z"
   },
   {
    "duration": 426,
    "start_time": "2022-06-15T10:21:12.285Z"
   },
   {
    "duration": 9,
    "start_time": "2022-06-15T10:21:20.966Z"
   },
   {
    "duration": 330,
    "start_time": "2022-06-15T10:24:28.067Z"
   },
   {
    "duration": 405,
    "start_time": "2022-06-15T10:24:44.379Z"
   },
   {
    "duration": 296,
    "start_time": "2022-06-15T10:26:45.492Z"
   },
   {
    "duration": 271,
    "start_time": "2022-06-15T10:27:14.522Z"
   },
   {
    "duration": 351,
    "start_time": "2022-06-15T10:30:33.469Z"
   },
   {
    "duration": 304,
    "start_time": "2022-06-15T10:34:29.549Z"
   },
   {
    "duration": 342,
    "start_time": "2022-06-15T10:35:35.312Z"
   },
   {
    "duration": 1266,
    "start_time": "2022-06-15T10:46:58.040Z"
   },
   {
    "duration": 77,
    "start_time": "2022-06-15T10:46:59.308Z"
   },
   {
    "duration": 16,
    "start_time": "2022-06-15T10:46:59.386Z"
   },
   {
    "duration": 42,
    "start_time": "2022-06-15T10:46:59.405Z"
   },
   {
    "duration": 42,
    "start_time": "2022-06-15T10:46:59.452Z"
   },
   {
    "duration": 26,
    "start_time": "2022-06-15T10:46:59.496Z"
   },
   {
    "duration": 11,
    "start_time": "2022-06-15T10:46:59.524Z"
   },
   {
    "duration": 42,
    "start_time": "2022-06-15T10:46:59.537Z"
   },
   {
    "duration": 13,
    "start_time": "2022-06-15T10:46:59.581Z"
   },
   {
    "duration": 11,
    "start_time": "2022-06-15T10:46:59.597Z"
   },
   {
    "duration": 411,
    "start_time": "2022-06-15T10:46:59.609Z"
   },
   {
    "duration": 17,
    "start_time": "2022-06-15T10:47:00.021Z"
   },
   {
    "duration": 33,
    "start_time": "2022-06-15T10:47:00.040Z"
   },
   {
    "duration": 91,
    "start_time": "2022-06-15T10:47:00.075Z"
   },
   {
    "duration": 306,
    "start_time": "2022-06-15T10:47:00.168Z"
   },
   {
    "duration": 455,
    "start_time": "2022-06-15T10:47:00.476Z"
   },
   {
    "duration": 22,
    "start_time": "2022-06-15T10:47:00.934Z"
   },
   {
    "duration": 29,
    "start_time": "2022-06-15T10:47:00.958Z"
   },
   {
    "duration": 377,
    "start_time": "2022-06-15T10:47:00.989Z"
   },
   {
    "duration": 442,
    "start_time": "2022-06-15T10:47:01.368Z"
   },
   {
    "duration": 351,
    "start_time": "2022-06-15T10:47:01.812Z"
   },
   {
    "duration": 5,
    "start_time": "2022-06-15T10:47:02.165Z"
   },
   {
    "duration": 42,
    "start_time": "2022-06-15T10:47:02.172Z"
   },
   {
    "duration": 45,
    "start_time": "2022-06-15T10:47:02.215Z"
   },
   {
    "duration": 289,
    "start_time": "2022-06-15T10:47:02.263Z"
   },
   {
    "duration": 324,
    "start_time": "2022-06-15T10:47:02.554Z"
   },
   {
    "duration": 345,
    "start_time": "2022-06-15T10:47:02.881Z"
   },
   {
    "duration": 227,
    "start_time": "2022-06-15T10:47:03.233Z"
   },
   {
    "duration": 1283,
    "start_time": "2022-06-15T10:47:46.794Z"
   },
   {
    "duration": 77,
    "start_time": "2022-06-15T10:47:48.079Z"
   },
   {
    "duration": 16,
    "start_time": "2022-06-15T10:47:48.158Z"
   },
   {
    "duration": 43,
    "start_time": "2022-06-15T10:47:48.175Z"
   },
   {
    "duration": 47,
    "start_time": "2022-06-15T10:47:48.220Z"
   },
   {
    "duration": 22,
    "start_time": "2022-06-15T10:47:48.269Z"
   },
   {
    "duration": 5,
    "start_time": "2022-06-15T10:47:48.293Z"
   },
   {
    "duration": 18,
    "start_time": "2022-06-15T10:47:48.300Z"
   },
   {
    "duration": 18,
    "start_time": "2022-06-15T10:47:48.320Z"
   },
   {
    "duration": 34,
    "start_time": "2022-06-15T10:47:48.340Z"
   },
   {
    "duration": 434,
    "start_time": "2022-06-15T10:47:48.376Z"
   },
   {
    "duration": 15,
    "start_time": "2022-06-15T10:47:48.812Z"
   },
   {
    "duration": 49,
    "start_time": "2022-06-15T10:47:48.829Z"
   },
   {
    "duration": 31,
    "start_time": "2022-06-15T10:47:48.882Z"
   },
   {
    "duration": 284,
    "start_time": "2022-06-15T10:47:48.914Z"
   },
   {
    "duration": 490,
    "start_time": "2022-06-15T10:47:49.200Z"
   },
   {
    "duration": 17,
    "start_time": "2022-06-15T10:47:49.692Z"
   },
   {
    "duration": 61,
    "start_time": "2022-06-15T10:47:49.711Z"
   },
   {
    "duration": 401,
    "start_time": "2022-06-15T10:47:49.773Z"
   },
   {
    "duration": 429,
    "start_time": "2022-06-15T10:47:50.175Z"
   },
   {
    "duration": 307,
    "start_time": "2022-06-15T10:47:50.605Z"
   },
   {
    "duration": 16,
    "start_time": "2022-06-15T10:47:50.914Z"
   },
   {
    "duration": 47,
    "start_time": "2022-06-15T10:47:50.932Z"
   },
   {
    "duration": 73,
    "start_time": "2022-06-15T10:47:50.981Z"
   },
   {
    "duration": 283,
    "start_time": "2022-06-15T10:47:51.055Z"
   },
   {
    "duration": 339,
    "start_time": "2022-06-15T10:47:51.349Z"
   },
   {
    "duration": 302,
    "start_time": "2022-06-15T10:47:51.690Z"
   },
   {
    "duration": 212,
    "start_time": "2022-06-15T10:47:51.994Z"
   },
   {
    "duration": 20,
    "start_time": "2022-06-15T10:58:01.880Z"
   },
   {
    "duration": 13,
    "start_time": "2022-06-15T10:59:26.748Z"
   },
   {
    "duration": 19,
    "start_time": "2022-06-15T11:00:39.424Z"
   },
   {
    "duration": 111,
    "start_time": "2022-06-15T11:01:39.904Z"
   },
   {
    "duration": 21,
    "start_time": "2022-06-15T11:01:48.123Z"
   },
   {
    "duration": 13,
    "start_time": "2022-06-15T11:02:03.956Z"
   },
   {
    "duration": 24,
    "start_time": "2022-06-15T11:02:18.216Z"
   },
   {
    "duration": 6,
    "start_time": "2022-06-15T11:02:30.251Z"
   },
   {
    "duration": 6,
    "start_time": "2022-06-15T11:02:38.559Z"
   },
   {
    "duration": 22,
    "start_time": "2022-06-15T11:03:00.959Z"
   },
   {
    "duration": 7,
    "start_time": "2022-06-15T11:03:04.940Z"
   },
   {
    "duration": 9,
    "start_time": "2022-06-15T11:03:13.491Z"
   },
   {
    "duration": 12,
    "start_time": "2022-06-15T11:03:29.983Z"
   },
   {
    "duration": 6,
    "start_time": "2022-06-15T11:03:33.707Z"
   },
   {
    "duration": 18,
    "start_time": "2022-06-15T11:03:41.483Z"
   },
   {
    "duration": 14,
    "start_time": "2022-06-15T11:05:57.354Z"
   },
   {
    "duration": 27,
    "start_time": "2022-06-15T11:08:21.451Z"
   },
   {
    "duration": 11,
    "start_time": "2022-06-15T11:08:28.487Z"
   },
   {
    "duration": 12,
    "start_time": "2022-06-15T11:09:33.850Z"
   },
   {
    "duration": 22,
    "start_time": "2022-06-15T11:09:34.341Z"
   },
   {
    "duration": 25,
    "start_time": "2022-06-15T11:10:11.578Z"
   },
   {
    "duration": 268,
    "start_time": "2022-06-15T11:11:33.543Z"
   },
   {
    "duration": 245,
    "start_time": "2022-06-15T11:11:50.256Z"
   },
   {
    "duration": 419,
    "start_time": "2022-06-15T11:11:52.096Z"
   },
   {
    "duration": 242,
    "start_time": "2022-06-15T11:11:53.220Z"
   },
   {
    "duration": 18,
    "start_time": "2022-06-15T11:13:29.857Z"
   },
   {
    "duration": 24,
    "start_time": "2022-06-15T11:14:11.122Z"
   },
   {
    "duration": 14,
    "start_time": "2022-06-15T11:14:48.750Z"
   },
   {
    "duration": 14,
    "start_time": "2022-06-15T11:14:52.884Z"
   },
   {
    "duration": 1206,
    "start_time": "2022-06-15T11:15:26.017Z"
   },
   {
    "duration": 73,
    "start_time": "2022-06-15T11:15:27.226Z"
   },
   {
    "duration": 16,
    "start_time": "2022-06-15T11:15:27.301Z"
   },
   {
    "duration": 32,
    "start_time": "2022-06-15T11:15:27.319Z"
   },
   {
    "duration": 11,
    "start_time": "2022-06-15T11:15:27.354Z"
   },
   {
    "duration": 16,
    "start_time": "2022-06-15T11:15:27.367Z"
   },
   {
    "duration": 4,
    "start_time": "2022-06-15T11:15:27.384Z"
   },
   {
    "duration": 12,
    "start_time": "2022-06-15T11:15:27.389Z"
   },
   {
    "duration": 40,
    "start_time": "2022-06-15T11:15:27.402Z"
   },
   {
    "duration": 8,
    "start_time": "2022-06-15T11:15:27.445Z"
   },
   {
    "duration": 409,
    "start_time": "2022-06-15T11:15:27.455Z"
   },
   {
    "duration": 9,
    "start_time": "2022-06-15T11:15:27.865Z"
   },
   {
    "duration": 4,
    "start_time": "2022-06-15T11:15:27.876Z"
   },
   {
    "duration": 20,
    "start_time": "2022-06-15T11:15:27.881Z"
   },
   {
    "duration": 241,
    "start_time": "2022-06-15T11:15:27.903Z"
   },
   {
    "duration": 451,
    "start_time": "2022-06-15T11:15:28.146Z"
   },
   {
    "duration": 16,
    "start_time": "2022-06-15T11:15:28.599Z"
   },
   {
    "duration": 50,
    "start_time": "2022-06-15T11:15:28.617Z"
   },
   {
    "duration": 342,
    "start_time": "2022-06-15T11:15:28.669Z"
   },
   {
    "duration": 389,
    "start_time": "2022-06-15T11:15:29.013Z"
   },
   {
    "duration": 305,
    "start_time": "2022-06-15T11:15:29.404Z"
   },
   {
    "duration": 6,
    "start_time": "2022-06-15T11:15:29.711Z"
   },
   {
    "duration": 20,
    "start_time": "2022-06-15T11:15:29.726Z"
   },
   {
    "duration": 8,
    "start_time": "2022-06-15T11:15:29.748Z"
   },
   {
    "duration": 246,
    "start_time": "2022-06-15T11:15:29.758Z"
   },
   {
    "duration": 338,
    "start_time": "2022-06-15T11:15:30.006Z"
   },
   {
    "duration": 264,
    "start_time": "2022-06-15T11:15:30.346Z"
   },
   {
    "duration": 182,
    "start_time": "2022-06-15T11:15:30.614Z"
   },
   {
    "duration": 13,
    "start_time": "2022-06-15T11:15:30.799Z"
   },
   {
    "duration": 90,
    "start_time": "2022-06-15T11:15:30.826Z"
   },
   {
    "duration": 48,
    "start_time": "2022-06-15T11:15:30.918Z"
   },
   {
    "duration": 1262,
    "start_time": "2022-06-15T11:17:21.197Z"
   },
   {
    "duration": 83,
    "start_time": "2022-06-15T11:17:22.461Z"
   },
   {
    "duration": 23,
    "start_time": "2022-06-15T11:17:22.552Z"
   },
   {
    "duration": 41,
    "start_time": "2022-06-15T11:17:22.577Z"
   },
   {
    "duration": 28,
    "start_time": "2022-06-15T11:17:22.620Z"
   },
   {
    "duration": 34,
    "start_time": "2022-06-15T11:17:22.650Z"
   },
   {
    "duration": 4,
    "start_time": "2022-06-15T11:17:22.686Z"
   },
   {
    "duration": 26,
    "start_time": "2022-06-15T11:17:22.692Z"
   },
   {
    "duration": 20,
    "start_time": "2022-06-15T11:17:22.720Z"
   },
   {
    "duration": 15,
    "start_time": "2022-06-15T11:17:22.749Z"
   },
   {
    "duration": 436,
    "start_time": "2022-06-15T11:17:22.766Z"
   },
   {
    "duration": 10,
    "start_time": "2022-06-15T11:17:23.204Z"
   },
   {
    "duration": 15,
    "start_time": "2022-06-15T11:17:23.215Z"
   },
   {
    "duration": 67,
    "start_time": "2022-06-15T11:17:23.232Z"
   },
   {
    "duration": 243,
    "start_time": "2022-06-15T11:17:23.301Z"
   },
   {
    "duration": 499,
    "start_time": "2022-06-15T11:17:23.546Z"
   },
   {
    "duration": 16,
    "start_time": "2022-06-15T11:17:24.047Z"
   },
   {
    "duration": 27,
    "start_time": "2022-06-15T11:17:24.066Z"
   },
   {
    "duration": 469,
    "start_time": "2022-06-15T11:17:24.096Z"
   },
   {
    "duration": 526,
    "start_time": "2022-06-15T11:17:24.568Z"
   },
   {
    "duration": 328,
    "start_time": "2022-06-15T11:17:25.096Z"
   },
   {
    "duration": 13,
    "start_time": "2022-06-15T11:17:25.428Z"
   },
   {
    "duration": 17,
    "start_time": "2022-06-15T11:17:25.446Z"
   },
   {
    "duration": 37,
    "start_time": "2022-06-15T11:17:25.465Z"
   },
   {
    "duration": 341,
    "start_time": "2022-06-15T11:17:25.504Z"
   },
   {
    "duration": 310,
    "start_time": "2022-06-15T11:17:25.848Z"
   },
   {
    "duration": 261,
    "start_time": "2022-06-15T11:17:26.160Z"
   },
   {
    "duration": 191,
    "start_time": "2022-06-15T11:17:26.427Z"
   },
   {
    "duration": 25,
    "start_time": "2022-06-15T11:17:26.620Z"
   },
   {
    "duration": 22,
    "start_time": "2022-06-15T11:17:26.647Z"
   },
   {
    "duration": 19,
    "start_time": "2022-06-15T11:17:26.671Z"
   },
   {
    "duration": 15,
    "start_time": "2022-06-15T11:18:08.347Z"
   },
   {
    "duration": 336,
    "start_time": "2022-06-15T11:18:32.600Z"
   },
   {
    "duration": 324,
    "start_time": "2022-06-15T11:18:50.745Z"
   },
   {
    "duration": 327,
    "start_time": "2022-06-15T11:19:00.392Z"
   },
   {
    "duration": 197,
    "start_time": "2022-06-15T11:19:16.982Z"
   },
   {
    "duration": 277,
    "start_time": "2022-06-15T11:19:23.157Z"
   },
   {
    "duration": 359,
    "start_time": "2022-06-15T11:19:35.147Z"
   },
   {
    "duration": 1464,
    "start_time": "2022-06-15T11:19:47.230Z"
   },
   {
    "duration": 82,
    "start_time": "2022-06-15T11:19:48.696Z"
   },
   {
    "duration": 25,
    "start_time": "2022-06-15T11:19:48.780Z"
   },
   {
    "duration": 62,
    "start_time": "2022-06-15T11:19:48.807Z"
   },
   {
    "duration": 40,
    "start_time": "2022-06-15T11:19:48.872Z"
   },
   {
    "duration": 64,
    "start_time": "2022-06-15T11:19:48.915Z"
   },
   {
    "duration": 5,
    "start_time": "2022-06-15T11:19:48.981Z"
   },
   {
    "duration": 55,
    "start_time": "2022-06-15T11:19:48.987Z"
   },
   {
    "duration": 51,
    "start_time": "2022-06-15T11:19:49.048Z"
   },
   {
    "duration": 35,
    "start_time": "2022-06-15T11:19:49.101Z"
   },
   {
    "duration": 555,
    "start_time": "2022-06-15T11:19:49.139Z"
   },
   {
    "duration": 10,
    "start_time": "2022-06-15T11:19:49.697Z"
   },
   {
    "duration": 21,
    "start_time": "2022-06-15T11:19:49.710Z"
   },
   {
    "duration": 53,
    "start_time": "2022-06-15T11:19:49.737Z"
   },
   {
    "duration": 363,
    "start_time": "2022-06-15T11:19:49.792Z"
   },
   {
    "duration": 560,
    "start_time": "2022-06-15T11:19:50.157Z"
   },
   {
    "duration": 36,
    "start_time": "2022-06-15T11:19:50.720Z"
   },
   {
    "duration": 14,
    "start_time": "2022-06-15T11:19:50.758Z"
   },
   {
    "duration": 428,
    "start_time": "2022-06-15T11:19:50.774Z"
   },
   {
    "duration": 491,
    "start_time": "2022-06-15T11:19:51.205Z"
   },
   {
    "duration": 425,
    "start_time": "2022-06-15T11:19:51.699Z"
   },
   {
    "duration": 15,
    "start_time": "2022-06-15T11:19:52.127Z"
   },
   {
    "duration": 32,
    "start_time": "2022-06-15T11:19:52.147Z"
   },
   {
    "duration": 15,
    "start_time": "2022-06-15T11:19:52.181Z"
   },
   {
    "duration": 356,
    "start_time": "2022-06-15T11:19:52.199Z"
   },
   {
    "duration": 467,
    "start_time": "2022-06-15T11:19:52.558Z"
   },
   {
    "duration": 560,
    "start_time": "2022-06-15T11:19:53.027Z"
   },
   {
    "duration": 272,
    "start_time": "2022-06-15T11:19:53.589Z"
   },
   {
    "duration": 26,
    "start_time": "2022-06-15T11:19:53.863Z"
   },
   {
    "duration": 27,
    "start_time": "2022-06-15T11:19:53.892Z"
   },
   {
    "duration": 109,
    "start_time": "2022-06-15T11:19:53.922Z"
   },
   {
    "duration": 3,
    "start_time": "2022-06-15T11:35:18.545Z"
   },
   {
    "duration": 3,
    "start_time": "2022-06-15T11:35:35.611Z"
   },
   {
    "duration": 1335,
    "start_time": "2022-06-15T11:37:00.955Z"
   },
   {
    "duration": 154,
    "start_time": "2022-06-15T11:37:02.292Z"
   },
   {
    "duration": 24,
    "start_time": "2022-06-15T11:37:02.449Z"
   },
   {
    "duration": 78,
    "start_time": "2022-06-15T11:37:02.476Z"
   },
   {
    "duration": 41,
    "start_time": "2022-06-15T11:37:02.556Z"
   },
   {
    "duration": 21,
    "start_time": "2022-06-15T11:37:02.599Z"
   },
   {
    "duration": 37,
    "start_time": "2022-06-15T11:37:02.621Z"
   },
   {
    "duration": 105,
    "start_time": "2022-06-15T11:37:02.660Z"
   },
   {
    "duration": 26,
    "start_time": "2022-06-15T11:37:02.767Z"
   },
   {
    "duration": 60,
    "start_time": "2022-06-15T11:37:02.795Z"
   },
   {
    "duration": 455,
    "start_time": "2022-06-15T11:37:02.857Z"
   },
   {
    "duration": 17,
    "start_time": "2022-06-15T11:37:03.315Z"
   },
   {
    "duration": 26,
    "start_time": "2022-06-15T11:37:03.334Z"
   },
   {
    "duration": 26,
    "start_time": "2022-06-15T11:37:03.364Z"
   },
   {
    "duration": 288,
    "start_time": "2022-06-15T11:37:03.392Z"
   },
   {
    "duration": 503,
    "start_time": "2022-06-15T11:37:03.682Z"
   },
   {
    "duration": 25,
    "start_time": "2022-06-15T11:37:04.188Z"
   },
   {
    "duration": 17,
    "start_time": "2022-06-15T11:37:04.216Z"
   },
   {
    "duration": 429,
    "start_time": "2022-06-15T11:37:04.234Z"
   },
   {
    "duration": 482,
    "start_time": "2022-06-15T11:37:04.666Z"
   },
   {
    "duration": 378,
    "start_time": "2022-06-15T11:37:05.151Z"
   },
   {
    "duration": 7,
    "start_time": "2022-06-15T11:37:05.533Z"
   },
   {
    "duration": 26,
    "start_time": "2022-06-15T11:37:05.541Z"
   },
   {
    "duration": 23,
    "start_time": "2022-06-15T11:37:05.569Z"
   },
   {
    "duration": 504,
    "start_time": "2022-06-15T11:37:05.630Z"
   },
   {
    "duration": 825,
    "start_time": "2022-06-15T11:37:06.137Z"
   },
   {
    "duration": 667,
    "start_time": "2022-06-15T11:37:06.966Z"
   },
   {
    "duration": 331,
    "start_time": "2022-06-15T11:37:07.635Z"
   },
   {
    "duration": 12,
    "start_time": "2022-06-15T11:37:07.969Z"
   },
   {
    "duration": 82,
    "start_time": "2022-06-15T11:37:07.983Z"
   },
   {
    "duration": 20,
    "start_time": "2022-06-15T11:37:08.066Z"
   },
   {
    "duration": 3618,
    "start_time": "2022-06-15T11:42:39.087Z"
   },
   {
    "duration": 222,
    "start_time": "2022-06-15T11:42:42.707Z"
   },
   {
    "duration": 26,
    "start_time": "2022-06-15T11:42:42.933Z"
   },
   {
    "duration": 38,
    "start_time": "2022-06-15T11:42:42.961Z"
   },
   {
    "duration": 13,
    "start_time": "2022-06-15T11:42:43.001Z"
   },
   {
    "duration": 42,
    "start_time": "2022-06-15T11:42:43.016Z"
   },
   {
    "duration": 3,
    "start_time": "2022-06-15T11:42:43.060Z"
   },
   {
    "duration": 20,
    "start_time": "2022-06-15T11:42:43.065Z"
   },
   {
    "duration": 15,
    "start_time": "2022-06-15T11:42:43.087Z"
   },
   {
    "duration": 8,
    "start_time": "2022-06-15T11:42:43.105Z"
   },
   {
    "duration": 562,
    "start_time": "2022-06-15T11:42:43.114Z"
   },
   {
    "duration": 21,
    "start_time": "2022-06-15T11:42:43.678Z"
   },
   {
    "duration": 16,
    "start_time": "2022-06-15T11:42:43.701Z"
   },
   {
    "duration": 73,
    "start_time": "2022-06-15T11:42:43.719Z"
   },
   {
    "duration": 321,
    "start_time": "2022-06-15T11:42:43.795Z"
   },
   {
    "duration": 543,
    "start_time": "2022-06-15T11:42:44.118Z"
   },
   {
    "duration": 18,
    "start_time": "2022-06-15T11:42:44.663Z"
   },
   {
    "duration": 39,
    "start_time": "2022-06-15T11:42:44.683Z"
   },
   {
    "duration": 531,
    "start_time": "2022-06-15T11:42:44.725Z"
   },
   {
    "duration": 390,
    "start_time": "2022-06-15T11:42:45.258Z"
   },
   {
    "duration": 330,
    "start_time": "2022-06-15T11:42:45.649Z"
   },
   {
    "duration": 6,
    "start_time": "2022-06-15T11:42:45.981Z"
   },
   {
    "duration": 20,
    "start_time": "2022-06-15T11:42:45.989Z"
   },
   {
    "duration": 13,
    "start_time": "2022-06-15T11:42:46.011Z"
   },
   {
    "duration": 269,
    "start_time": "2022-06-15T11:42:46.028Z"
   },
   {
    "duration": 379,
    "start_time": "2022-06-15T11:42:46.300Z"
   },
   {
    "duration": 297,
    "start_time": "2022-06-15T11:42:46.681Z"
   },
   {
    "duration": 255,
    "start_time": "2022-06-15T11:42:46.981Z"
   },
   {
    "duration": 23,
    "start_time": "2022-06-15T11:42:47.244Z"
   },
   {
    "duration": 23,
    "start_time": "2022-06-15T11:42:47.268Z"
   },
   {
    "duration": 19,
    "start_time": "2022-06-15T11:42:47.294Z"
   },
   {
    "duration": 124,
    "start_time": "2022-06-15T11:50:45.381Z"
   },
   {
    "duration": 159,
    "start_time": "2022-06-15T11:50:56.677Z"
   },
   {
    "duration": 241,
    "start_time": "2022-06-15T11:51:11.013Z"
   },
   {
    "duration": 1182,
    "start_time": "2022-06-15T11:53:44.481Z"
   },
   {
    "duration": 100,
    "start_time": "2022-06-15T11:53:45.665Z"
   },
   {
    "duration": 14,
    "start_time": "2022-06-15T11:53:45.766Z"
   },
   {
    "duration": 42,
    "start_time": "2022-06-15T11:53:45.782Z"
   },
   {
    "duration": 11,
    "start_time": "2022-06-15T11:53:45.826Z"
   },
   {
    "duration": 36,
    "start_time": "2022-06-15T11:53:45.839Z"
   },
   {
    "duration": 3,
    "start_time": "2022-06-15T11:53:45.877Z"
   },
   {
    "duration": 20,
    "start_time": "2022-06-15T11:53:45.882Z"
   },
   {
    "duration": 19,
    "start_time": "2022-06-15T11:53:45.904Z"
   },
   {
    "duration": 25,
    "start_time": "2022-06-15T11:53:45.926Z"
   },
   {
    "duration": 479,
    "start_time": "2022-06-15T11:53:45.952Z"
   },
   {
    "duration": 8,
    "start_time": "2022-06-15T11:53:46.433Z"
   },
   {
    "duration": 5,
    "start_time": "2022-06-15T11:53:46.443Z"
   },
   {
    "duration": 29,
    "start_time": "2022-06-15T11:53:46.450Z"
   },
   {
    "duration": 215,
    "start_time": "2022-06-15T11:53:46.482Z"
   },
   {
    "duration": 444,
    "start_time": "2022-06-15T11:53:46.698Z"
   },
   {
    "duration": 17,
    "start_time": "2022-06-15T11:53:47.144Z"
   },
   {
    "duration": 8,
    "start_time": "2022-06-15T11:53:47.162Z"
   },
   {
    "duration": 345,
    "start_time": "2022-06-15T11:53:47.171Z"
   },
   {
    "duration": 361,
    "start_time": "2022-06-15T11:53:47.525Z"
   },
   {
    "duration": 287,
    "start_time": "2022-06-15T11:53:47.888Z"
   },
   {
    "duration": 5,
    "start_time": "2022-06-15T11:53:48.177Z"
   },
   {
    "duration": 24,
    "start_time": "2022-06-15T11:53:48.184Z"
   },
   {
    "duration": 8,
    "start_time": "2022-06-15T11:53:48.210Z"
   },
   {
    "duration": 229,
    "start_time": "2022-06-15T11:53:48.220Z"
   },
   {
    "duration": 282,
    "start_time": "2022-06-15T11:53:48.451Z"
   },
   {
    "duration": 256,
    "start_time": "2022-06-15T11:53:48.735Z"
   },
   {
    "duration": 206,
    "start_time": "2022-06-15T11:53:48.994Z"
   },
   {
    "duration": 25,
    "start_time": "2022-06-15T11:53:49.202Z"
   },
   {
    "duration": 11,
    "start_time": "2022-06-15T11:53:49.229Z"
   },
   {
    "duration": 26,
    "start_time": "2022-06-15T11:53:49.242Z"
   },
   {
    "duration": 1082,
    "start_time": "2022-06-15T13:07:20.139Z"
   },
   {
    "duration": 67,
    "start_time": "2022-06-15T13:07:21.223Z"
   },
   {
    "duration": 15,
    "start_time": "2022-06-15T13:07:21.292Z"
   },
   {
    "duration": 40,
    "start_time": "2022-06-15T13:07:21.308Z"
   },
   {
    "duration": 10,
    "start_time": "2022-06-15T13:07:21.351Z"
   },
   {
    "duration": 17,
    "start_time": "2022-06-15T13:07:21.363Z"
   },
   {
    "duration": 3,
    "start_time": "2022-06-15T13:07:21.382Z"
   },
   {
    "duration": 14,
    "start_time": "2022-06-15T13:07:21.386Z"
   },
   {
    "duration": 26,
    "start_time": "2022-06-15T13:07:21.402Z"
   },
   {
    "duration": 7,
    "start_time": "2022-06-15T13:07:21.430Z"
   },
   {
    "duration": 360,
    "start_time": "2022-06-15T13:07:21.438Z"
   },
   {
    "duration": 8,
    "start_time": "2022-06-15T13:07:21.800Z"
   },
   {
    "duration": 15,
    "start_time": "2022-06-15T13:07:21.809Z"
   },
   {
    "duration": 25,
    "start_time": "2022-06-15T13:07:21.826Z"
   },
   {
    "duration": 210,
    "start_time": "2022-06-15T13:07:21.852Z"
   },
   {
    "duration": 356,
    "start_time": "2022-06-15T13:07:22.063Z"
   },
   {
    "duration": 15,
    "start_time": "2022-06-15T13:07:22.421Z"
   },
   {
    "duration": 21,
    "start_time": "2022-06-15T13:07:22.438Z"
   },
   {
    "duration": 408,
    "start_time": "2022-06-15T13:07:22.460Z"
   },
   {
    "duration": 338,
    "start_time": "2022-06-15T13:07:22.869Z"
   },
   {
    "duration": 281,
    "start_time": "2022-06-15T13:07:23.208Z"
   },
   {
    "duration": 5,
    "start_time": "2022-06-15T13:07:23.491Z"
   },
   {
    "duration": 11,
    "start_time": "2022-06-15T13:07:23.497Z"
   },
   {
    "duration": 29,
    "start_time": "2022-06-15T13:07:23.510Z"
   },
   {
    "duration": 194,
    "start_time": "2022-06-15T13:07:23.541Z"
   },
   {
    "duration": 272,
    "start_time": "2022-06-15T13:07:23.736Z"
   },
   {
    "duration": 251,
    "start_time": "2022-06-15T13:07:24.010Z"
   },
   {
    "duration": 186,
    "start_time": "2022-06-15T13:07:24.263Z"
   },
   {
    "duration": 12,
    "start_time": "2022-06-15T13:07:24.451Z"
   },
   {
    "duration": 11,
    "start_time": "2022-06-15T13:07:24.464Z"
   },
   {
    "duration": 13,
    "start_time": "2022-06-15T13:07:24.477Z"
   },
   {
    "duration": 5,
    "start_time": "2022-06-15T13:10:37.823Z"
   },
   {
    "duration": 65,
    "start_time": "2022-06-15T13:10:37.831Z"
   },
   {
    "duration": 13,
    "start_time": "2022-06-15T13:10:37.898Z"
   },
   {
    "duration": 28,
    "start_time": "2022-06-15T13:10:37.912Z"
   },
   {
    "duration": 10,
    "start_time": "2022-06-15T13:10:37.943Z"
   },
   {
    "duration": 19,
    "start_time": "2022-06-15T13:10:37.954Z"
   },
   {
    "duration": 8,
    "start_time": "2022-06-15T13:10:37.975Z"
   },
   {
    "duration": 18,
    "start_time": "2022-06-15T13:10:37.985Z"
   },
   {
    "duration": 9,
    "start_time": "2022-06-15T13:10:38.023Z"
   },
   {
    "duration": 17,
    "start_time": "2022-06-15T13:10:38.033Z"
   },
   {
    "duration": 6,
    "start_time": "2022-06-15T13:12:26.208Z"
   },
   {
    "duration": 73,
    "start_time": "2022-06-15T13:12:26.215Z"
   },
   {
    "duration": 15,
    "start_time": "2022-06-15T13:12:26.290Z"
   },
   {
    "duration": 39,
    "start_time": "2022-06-15T13:12:26.307Z"
   },
   {
    "duration": 9,
    "start_time": "2022-06-15T13:12:26.348Z"
   },
   {
    "duration": 17,
    "start_time": "2022-06-15T13:12:26.359Z"
   },
   {
    "duration": 3,
    "start_time": "2022-06-15T13:12:26.378Z"
   },
   {
    "duration": 15,
    "start_time": "2022-06-15T13:12:26.382Z"
   },
   {
    "duration": 28,
    "start_time": "2022-06-15T13:12:26.398Z"
   },
   {
    "duration": 1280,
    "start_time": "2022-06-15T14:47:38.395Z"
   },
   {
    "duration": 256,
    "start_time": "2022-06-15T14:47:39.677Z"
   },
   {
    "duration": 14,
    "start_time": "2022-06-15T14:47:39.935Z"
   },
   {
    "duration": 25,
    "start_time": "2022-06-15T14:47:39.950Z"
   },
   {
    "duration": 9,
    "start_time": "2022-06-15T14:47:39.977Z"
   },
   {
    "duration": 40,
    "start_time": "2022-06-15T14:47:39.987Z"
   },
   {
    "duration": 3,
    "start_time": "2022-06-15T14:47:40.029Z"
   },
   {
    "duration": 16,
    "start_time": "2022-06-15T14:47:40.033Z"
   },
   {
    "duration": 16,
    "start_time": "2022-06-15T14:47:40.051Z"
   },
   {
    "duration": 6,
    "start_time": "2022-06-15T14:47:40.069Z"
   },
   {
    "duration": 360,
    "start_time": "2022-06-15T14:47:40.076Z"
   },
   {
    "duration": 8,
    "start_time": "2022-06-15T14:47:40.437Z"
   },
   {
    "duration": 11,
    "start_time": "2022-06-15T14:47:40.446Z"
   },
   {
    "duration": 29,
    "start_time": "2022-06-15T14:47:40.460Z"
   },
   {
    "duration": 209,
    "start_time": "2022-06-15T14:47:40.490Z"
   },
   {
    "duration": 383,
    "start_time": "2022-06-15T14:47:40.700Z"
   },
   {
    "duration": 15,
    "start_time": "2022-06-15T14:47:41.084Z"
   },
   {
    "duration": 12,
    "start_time": "2022-06-15T14:47:41.101Z"
   },
   {
    "duration": 303,
    "start_time": "2022-06-15T14:47:41.115Z"
   },
   {
    "duration": 329,
    "start_time": "2022-06-15T14:47:41.420Z"
   },
   {
    "duration": 270,
    "start_time": "2022-06-15T14:47:41.751Z"
   },
   {
    "duration": 5,
    "start_time": "2022-06-15T14:47:42.026Z"
   },
   {
    "duration": 25,
    "start_time": "2022-06-15T14:47:42.033Z"
   },
   {
    "duration": 25,
    "start_time": "2022-06-15T14:47:42.060Z"
   },
   {
    "duration": 198,
    "start_time": "2022-06-15T14:47:42.087Z"
   },
   {
    "duration": 268,
    "start_time": "2022-06-15T14:47:42.286Z"
   },
   {
    "duration": 247,
    "start_time": "2022-06-15T14:47:42.556Z"
   },
   {
    "duration": 182,
    "start_time": "2022-06-15T14:47:42.805Z"
   },
   {
    "duration": 11,
    "start_time": "2022-06-15T14:47:42.989Z"
   },
   {
    "duration": 24,
    "start_time": "2022-06-15T14:47:43.002Z"
   },
   {
    "duration": 25,
    "start_time": "2022-06-15T14:47:43.028Z"
   },
   {
    "duration": 12,
    "start_time": "2022-06-15T14:49:54.781Z"
   },
   {
    "duration": 11,
    "start_time": "2022-06-15T14:50:06.851Z"
   },
   {
    "duration": 19,
    "start_time": "2022-06-15T14:51:14.624Z"
   },
   {
    "duration": 13,
    "start_time": "2022-06-15T14:51:49.949Z"
   },
   {
    "duration": 16,
    "start_time": "2022-06-15T14:52:03.406Z"
   },
   {
    "duration": 13,
    "start_time": "2022-06-15T14:52:21.874Z"
   },
   {
    "duration": 13,
    "start_time": "2022-06-15T14:53:24.359Z"
   },
   {
    "duration": 15,
    "start_time": "2022-06-15T15:00:02.547Z"
   },
   {
    "duration": 17,
    "start_time": "2022-06-15T15:00:29.931Z"
   },
   {
    "duration": 15,
    "start_time": "2022-06-15T15:00:42.503Z"
   },
   {
    "duration": 11,
    "start_time": "2022-06-15T15:00:43.205Z"
   },
   {
    "duration": 6,
    "start_time": "2022-06-15T15:00:50.757Z"
   },
   {
    "duration": 59,
    "start_time": "2022-06-15T15:00:51.618Z"
   },
   {
    "duration": 17,
    "start_time": "2022-06-15T15:00:52.753Z"
   },
   {
    "duration": 27,
    "start_time": "2022-06-15T15:00:53.263Z"
   },
   {
    "duration": 11,
    "start_time": "2022-06-15T15:00:53.999Z"
   },
   {
    "duration": 13,
    "start_time": "2022-06-15T15:01:05.666Z"
   },
   {
    "duration": 97,
    "start_time": "2022-06-15T15:01:06.267Z"
   },
   {
    "duration": 16,
    "start_time": "2022-06-15T15:01:29.651Z"
   },
   {
    "duration": 3,
    "start_time": "2022-06-15T15:03:18.862Z"
   },
   {
    "duration": 16,
    "start_time": "2022-06-15T15:03:19.458Z"
   },
   {
    "duration": 8,
    "start_time": "2022-06-15T15:03:21.912Z"
   },
   {
    "duration": 7,
    "start_time": "2022-06-15T15:04:01.977Z"
   },
   {
    "duration": 5,
    "start_time": "2022-06-15T15:04:11.932Z"
   },
   {
    "duration": 55,
    "start_time": "2022-06-15T15:04:12.158Z"
   },
   {
    "duration": 14,
    "start_time": "2022-06-15T15:04:12.382Z"
   },
   {
    "duration": 25,
    "start_time": "2022-06-15T15:04:12.615Z"
   },
   {
    "duration": 9,
    "start_time": "2022-06-15T15:04:12.864Z"
   },
   {
    "duration": 15,
    "start_time": "2022-06-15T15:04:13.526Z"
   },
   {
    "duration": 14,
    "start_time": "2022-06-15T15:04:13.782Z"
   },
   {
    "duration": 2,
    "start_time": "2022-06-15T15:04:15.272Z"
   },
   {
    "duration": 15,
    "start_time": "2022-06-15T15:04:15.909Z"
   },
   {
    "duration": 11,
    "start_time": "2022-06-15T15:04:19.911Z"
   },
   {
    "duration": 8,
    "start_time": "2022-06-15T15:04:29.431Z"
   },
   {
    "duration": 6,
    "start_time": "2022-06-15T15:04:44.469Z"
   },
   {
    "duration": 5,
    "start_time": "2022-06-15T15:04:50.485Z"
   },
   {
    "duration": 57,
    "start_time": "2022-06-15T15:04:50.761Z"
   },
   {
    "duration": 13,
    "start_time": "2022-06-15T15:04:51.213Z"
   },
   {
    "duration": 26,
    "start_time": "2022-06-15T15:04:51.360Z"
   },
   {
    "duration": 9,
    "start_time": "2022-06-15T15:04:51.481Z"
   },
   {
    "duration": 14,
    "start_time": "2022-06-15T15:04:51.774Z"
   },
   {
    "duration": 14,
    "start_time": "2022-06-15T15:04:52.221Z"
   },
   {
    "duration": 3,
    "start_time": "2022-06-15T15:04:54.186Z"
   },
   {
    "duration": 15,
    "start_time": "2022-06-15T15:04:54.726Z"
   },
   {
    "duration": 9,
    "start_time": "2022-06-15T15:04:58.707Z"
   },
   {
    "duration": 8,
    "start_time": "2022-06-15T15:05:08.672Z"
   },
   {
    "duration": 15,
    "start_time": "2022-06-15T15:05:20.518Z"
   },
   {
    "duration": 7,
    "start_time": "2022-06-15T15:05:33.558Z"
   },
   {
    "duration": 32,
    "start_time": "2022-06-15T15:09:10.366Z"
   },
   {
    "duration": 30,
    "start_time": "2022-06-15T15:09:46.773Z"
   },
   {
    "duration": 25,
    "start_time": "2022-06-15T15:09:55.213Z"
   },
   {
    "duration": 32,
    "start_time": "2022-06-15T15:09:58.105Z"
   },
   {
    "duration": 7,
    "start_time": "2022-06-15T15:10:37.112Z"
   },
   {
    "duration": 8,
    "start_time": "2022-06-15T15:11:04.802Z"
   },
   {
    "duration": 7,
    "start_time": "2022-06-15T15:11:23.622Z"
   },
   {
    "duration": 60,
    "start_time": "2022-06-15T15:11:28.078Z"
   },
   {
    "duration": 425,
    "start_time": "2022-06-15T15:11:39.666Z"
   },
   {
    "duration": 8,
    "start_time": "2022-06-15T15:11:40.321Z"
   },
   {
    "duration": 3,
    "start_time": "2022-06-15T15:11:44.217Z"
   },
   {
    "duration": 11,
    "start_time": "2022-06-15T15:11:45.683Z"
   },
   {
    "duration": 155,
    "start_time": "2022-06-15T15:14:24.892Z"
   },
   {
    "duration": 6,
    "start_time": "2022-06-15T15:15:05.376Z"
   },
   {
    "duration": 168,
    "start_time": "2022-06-15T15:15:25.492Z"
   },
   {
    "duration": 164,
    "start_time": "2022-06-15T15:15:35.329Z"
   },
   {
    "duration": 5,
    "start_time": "2022-06-15T15:18:46.456Z"
   },
   {
    "duration": 3,
    "start_time": "2022-06-15T15:18:47.056Z"
   },
   {
    "duration": 10,
    "start_time": "2022-06-15T15:18:47.651Z"
   },
   {
    "duration": 1004,
    "start_time": "2022-06-15T15:19:35.406Z"
   },
   {
    "duration": 58,
    "start_time": "2022-06-15T15:19:36.412Z"
   },
   {
    "duration": 14,
    "start_time": "2022-06-15T15:19:36.472Z"
   },
   {
    "duration": 24,
    "start_time": "2022-06-15T15:19:36.488Z"
   },
   {
    "duration": 19,
    "start_time": "2022-06-15T15:19:36.513Z"
   },
   {
    "duration": 22,
    "start_time": "2022-06-15T15:19:36.535Z"
   },
   {
    "duration": 21,
    "start_time": "2022-06-15T15:19:36.559Z"
   },
   {
    "duration": 5,
    "start_time": "2022-06-15T15:19:36.581Z"
   },
   {
    "duration": 38,
    "start_time": "2022-06-15T15:19:36.588Z"
   },
   {
    "duration": 13,
    "start_time": "2022-06-15T15:19:36.630Z"
   },
   {
    "duration": 9,
    "start_time": "2022-06-15T15:19:36.645Z"
   },
   {
    "duration": 327,
    "start_time": "2022-06-15T15:19:36.656Z"
   },
   {
    "duration": 8,
    "start_time": "2022-06-15T15:19:36.985Z"
   },
   {
    "duration": 4,
    "start_time": "2022-06-15T15:19:36.995Z"
   },
   {
    "duration": 25,
    "start_time": "2022-06-15T15:19:37.001Z"
   },
   {
    "duration": 16,
    "start_time": "2022-06-15T15:19:37.027Z"
   },
   {
    "duration": 174,
    "start_time": "2022-06-15T15:19:37.044Z"
   },
   {
    "duration": 411,
    "start_time": "2022-06-15T15:19:37.220Z"
   },
   {
    "duration": 15,
    "start_time": "2022-06-15T15:19:37.633Z"
   },
   {
    "duration": 8,
    "start_time": "2022-06-15T15:19:37.650Z"
   },
   {
    "duration": 274,
    "start_time": "2022-06-15T15:19:37.659Z"
   },
   {
    "duration": 306,
    "start_time": "2022-06-15T15:19:37.934Z"
   },
   {
    "duration": 243,
    "start_time": "2022-06-15T15:19:38.242Z"
   },
   {
    "duration": 5,
    "start_time": "2022-06-15T15:19:38.486Z"
   },
   {
    "duration": 12,
    "start_time": "2022-06-15T15:19:38.492Z"
   },
   {
    "duration": 9,
    "start_time": "2022-06-15T15:19:38.505Z"
   },
   {
    "duration": 187,
    "start_time": "2022-06-15T15:19:38.516Z"
   },
   {
    "duration": 304,
    "start_time": "2022-06-15T15:19:38.706Z"
   },
   {
    "duration": 216,
    "start_time": "2022-06-15T15:19:39.011Z"
   },
   {
    "duration": 189,
    "start_time": "2022-06-15T15:19:39.229Z"
   },
   {
    "duration": 6,
    "start_time": "2022-06-15T15:19:39.420Z"
   },
   {
    "duration": 5,
    "start_time": "2022-06-15T15:19:39.428Z"
   },
   {
    "duration": 0,
    "start_time": "2022-06-15T15:19:39.435Z"
   },
   {
    "duration": 0,
    "start_time": "2022-06-15T15:19:39.435Z"
   },
   {
    "duration": 0,
    "start_time": "2022-06-15T15:19:39.437Z"
   },
   {
    "duration": 958,
    "start_time": "2022-06-15T15:19:58.813Z"
   },
   {
    "duration": 59,
    "start_time": "2022-06-15T15:19:59.772Z"
   },
   {
    "duration": 12,
    "start_time": "2022-06-15T15:19:59.832Z"
   },
   {
    "duration": 50,
    "start_time": "2022-06-15T15:19:59.845Z"
   },
   {
    "duration": 9,
    "start_time": "2022-06-15T15:19:59.897Z"
   },
   {
    "duration": 40,
    "start_time": "2022-06-15T15:19:59.907Z"
   },
   {
    "duration": 36,
    "start_time": "2022-06-15T15:19:59.948Z"
   },
   {
    "duration": 17,
    "start_time": "2022-06-15T15:19:59.985Z"
   },
   {
    "duration": 50,
    "start_time": "2022-06-15T15:20:00.003Z"
   },
   {
    "duration": 29,
    "start_time": "2022-06-15T15:20:00.055Z"
   },
   {
    "duration": 26,
    "start_time": "2022-06-15T15:20:00.086Z"
   },
   {
    "duration": 339,
    "start_time": "2022-06-15T15:20:00.113Z"
   },
   {
    "duration": 8,
    "start_time": "2022-06-15T15:20:00.454Z"
   },
   {
    "duration": 12,
    "start_time": "2022-06-15T15:20:00.463Z"
   },
   {
    "duration": 14,
    "start_time": "2022-06-15T15:20:00.477Z"
   },
   {
    "duration": 15,
    "start_time": "2022-06-15T15:20:00.492Z"
   },
   {
    "duration": 187,
    "start_time": "2022-06-15T15:20:00.509Z"
   },
   {
    "duration": 380,
    "start_time": "2022-06-15T15:20:00.698Z"
   },
   {
    "duration": 15,
    "start_time": "2022-06-15T15:20:01.080Z"
   },
   {
    "duration": 31,
    "start_time": "2022-06-15T15:20:01.097Z"
   },
   {
    "duration": 309,
    "start_time": "2022-06-15T15:20:01.129Z"
   },
   {
    "duration": 301,
    "start_time": "2022-06-15T15:20:01.440Z"
   },
   {
    "duration": 282,
    "start_time": "2022-06-15T15:20:01.743Z"
   },
   {
    "duration": 6,
    "start_time": "2022-06-15T15:20:02.027Z"
   },
   {
    "duration": 58,
    "start_time": "2022-06-15T15:20:02.034Z"
   },
   {
    "duration": 54,
    "start_time": "2022-06-15T15:20:02.094Z"
   },
   {
    "duration": 200,
    "start_time": "2022-06-15T15:20:02.150Z"
   },
   {
    "duration": 241,
    "start_time": "2022-06-15T15:20:02.354Z"
   },
   {
    "duration": 224,
    "start_time": "2022-06-15T15:20:02.597Z"
   },
   {
    "duration": 194,
    "start_time": "2022-06-15T15:20:02.822Z"
   },
   {
    "duration": 9,
    "start_time": "2022-06-15T15:20:03.017Z"
   },
   {
    "duration": 62,
    "start_time": "2022-06-15T15:20:03.028Z"
   },
   {
    "duration": 0,
    "start_time": "2022-06-15T15:20:03.091Z"
   },
   {
    "duration": 0,
    "start_time": "2022-06-15T15:20:03.092Z"
   },
   {
    "duration": 0,
    "start_time": "2022-06-15T15:20:03.093Z"
   },
   {
    "duration": 4,
    "start_time": "2022-06-15T15:21:48.395Z"
   },
   {
    "duration": 1002,
    "start_time": "2022-06-15T15:26:33.603Z"
   },
   {
    "duration": 59,
    "start_time": "2022-06-15T15:26:34.606Z"
   },
   {
    "duration": 12,
    "start_time": "2022-06-15T15:26:34.666Z"
   },
   {
    "duration": 26,
    "start_time": "2022-06-15T15:26:34.680Z"
   },
   {
    "duration": 9,
    "start_time": "2022-06-15T15:26:34.707Z"
   },
   {
    "duration": 26,
    "start_time": "2022-06-15T15:26:34.717Z"
   },
   {
    "duration": 22,
    "start_time": "2022-06-15T15:26:34.744Z"
   },
   {
    "duration": 5,
    "start_time": "2022-06-15T15:26:34.767Z"
   },
   {
    "duration": 26,
    "start_time": "2022-06-15T15:26:34.774Z"
   },
   {
    "duration": 11,
    "start_time": "2022-06-15T15:26:34.804Z"
   },
   {
    "duration": 15,
    "start_time": "2022-06-15T15:26:34.817Z"
   },
   {
    "duration": 316,
    "start_time": "2022-06-15T15:26:34.834Z"
   },
   {
    "duration": 6,
    "start_time": "2022-06-15T15:26:35.152Z"
   },
   {
    "duration": 9,
    "start_time": "2022-06-15T15:26:35.160Z"
   },
   {
    "duration": 7,
    "start_time": "2022-06-15T15:26:35.170Z"
   },
   {
    "duration": 20,
    "start_time": "2022-06-15T15:26:35.178Z"
   },
   {
    "duration": 177,
    "start_time": "2022-06-15T15:26:35.199Z"
   },
   {
    "duration": 340,
    "start_time": "2022-06-15T15:26:35.378Z"
   },
   {
    "duration": 13,
    "start_time": "2022-06-15T15:26:35.720Z"
   },
   {
    "duration": 16,
    "start_time": "2022-06-15T15:26:35.734Z"
   },
   {
    "duration": 275,
    "start_time": "2022-06-15T15:26:35.752Z"
   },
   {
    "duration": 296,
    "start_time": "2022-06-15T15:26:36.029Z"
   },
   {
    "duration": 269,
    "start_time": "2022-06-15T15:26:36.327Z"
   },
   {
    "duration": 6,
    "start_time": "2022-06-15T15:26:36.598Z"
   },
   {
    "duration": 20,
    "start_time": "2022-06-15T15:26:36.606Z"
   },
   {
    "duration": 11,
    "start_time": "2022-06-15T15:26:36.628Z"
   },
   {
    "duration": 213,
    "start_time": "2022-06-15T15:26:36.641Z"
   },
   {
    "duration": 237,
    "start_time": "2022-06-15T15:26:36.857Z"
   },
   {
    "duration": 218,
    "start_time": "2022-06-15T15:26:37.095Z"
   },
   {
    "duration": 196,
    "start_time": "2022-06-15T15:26:37.315Z"
   },
   {
    "duration": 13,
    "start_time": "2022-06-15T15:26:37.512Z"
   },
   {
    "duration": 4,
    "start_time": "2022-06-15T15:26:37.527Z"
   },
   {
    "duration": 0,
    "start_time": "2022-06-15T15:26:37.532Z"
   },
   {
    "duration": 0,
    "start_time": "2022-06-15T15:26:37.533Z"
   },
   {
    "duration": 0,
    "start_time": "2022-06-15T15:26:37.534Z"
   },
   {
    "duration": 14,
    "start_time": "2022-06-15T15:34:39.749Z"
   },
   {
    "duration": 9,
    "start_time": "2022-06-15T15:34:59.780Z"
   },
   {
    "duration": 18,
    "start_time": "2022-06-15T15:35:06.511Z"
   },
   {
    "duration": 13,
    "start_time": "2022-06-15T15:35:19.041Z"
   },
   {
    "duration": 12,
    "start_time": "2022-06-15T15:35:32.912Z"
   },
   {
    "duration": 15,
    "start_time": "2022-06-15T15:35:47.507Z"
   },
   {
    "duration": 182,
    "start_time": "2022-06-15T15:37:13.298Z"
   },
   {
    "duration": 173,
    "start_time": "2022-06-15T15:37:32.047Z"
   },
   {
    "duration": 189,
    "start_time": "2022-06-15T15:37:51.022Z"
   },
   {
    "duration": 220,
    "start_time": "2022-06-15T15:41:24.109Z"
   },
   {
    "duration": 145,
    "start_time": "2022-06-15T15:41:41.149Z"
   },
   {
    "duration": 146,
    "start_time": "2022-06-15T15:44:34.615Z"
   },
   {
    "duration": 143,
    "start_time": "2022-06-15T15:45:29.428Z"
   },
   {
    "duration": 133,
    "start_time": "2022-06-15T15:46:45.427Z"
   },
   {
    "duration": 128,
    "start_time": "2022-06-15T15:46:53.107Z"
   },
   {
    "duration": 119,
    "start_time": "2022-06-15T15:46:59.631Z"
   },
   {
    "duration": 32,
    "start_time": "2022-06-15T15:47:13.257Z"
   },
   {
    "duration": 133,
    "start_time": "2022-06-15T15:47:53.982Z"
   },
   {
    "duration": 133,
    "start_time": "2022-06-15T15:48:31.262Z"
   },
   {
    "duration": 129,
    "start_time": "2022-06-15T15:48:38.920Z"
   },
   {
    "duration": 134,
    "start_time": "2022-06-15T15:48:41.383Z"
   },
   {
    "duration": 53,
    "start_time": "2022-06-15T15:53:29.625Z"
   },
   {
    "duration": 1101,
    "start_time": "2022-06-15T15:53:39.109Z"
   },
   {
    "duration": 61,
    "start_time": "2022-06-15T15:53:40.212Z"
   },
   {
    "duration": 19,
    "start_time": "2022-06-15T15:53:40.275Z"
   },
   {
    "duration": 24,
    "start_time": "2022-06-15T15:53:40.296Z"
   },
   {
    "duration": 12,
    "start_time": "2022-06-15T15:53:40.325Z"
   },
   {
    "duration": 30,
    "start_time": "2022-06-15T15:53:40.339Z"
   },
   {
    "duration": 18,
    "start_time": "2022-06-15T15:53:40.371Z"
   },
   {
    "duration": 4,
    "start_time": "2022-06-15T15:53:40.391Z"
   },
   {
    "duration": 36,
    "start_time": "2022-06-15T15:53:40.397Z"
   },
   {
    "duration": 13,
    "start_time": "2022-06-15T15:53:40.436Z"
   },
   {
    "duration": 6,
    "start_time": "2022-06-15T15:53:40.451Z"
   },
   {
    "duration": 329,
    "start_time": "2022-06-15T15:53:40.458Z"
   },
   {
    "duration": 8,
    "start_time": "2022-06-15T15:53:40.789Z"
   },
   {
    "duration": 5,
    "start_time": "2022-06-15T15:53:40.798Z"
   },
   {
    "duration": 23,
    "start_time": "2022-06-15T15:53:40.804Z"
   },
   {
    "duration": 14,
    "start_time": "2022-06-15T15:53:40.829Z"
   },
   {
    "duration": 185,
    "start_time": "2022-06-15T15:53:40.845Z"
   },
   {
    "duration": 383,
    "start_time": "2022-06-15T15:53:41.032Z"
   },
   {
    "duration": 20,
    "start_time": "2022-06-15T15:53:41.417Z"
   },
   {
    "duration": 11,
    "start_time": "2022-06-15T15:53:41.439Z"
   },
   {
    "duration": 291,
    "start_time": "2022-06-15T15:53:41.453Z"
   },
   {
    "duration": 321,
    "start_time": "2022-06-15T15:53:41.746Z"
   },
   {
    "duration": 249,
    "start_time": "2022-06-15T15:53:42.069Z"
   },
   {
    "duration": 5,
    "start_time": "2022-06-15T15:53:42.320Z"
   },
   {
    "duration": 13,
    "start_time": "2022-06-15T15:53:42.327Z"
   },
   {
    "duration": 6,
    "start_time": "2022-06-15T15:53:42.342Z"
   },
   {
    "duration": 217,
    "start_time": "2022-06-15T15:53:42.350Z"
   },
   {
    "duration": 132,
    "start_time": "2022-06-15T15:53:42.571Z"
   },
   {
    "duration": 145,
    "start_time": "2022-06-15T15:53:42.704Z"
   },
   {
    "duration": 5,
    "start_time": "2022-06-15T15:53:42.850Z"
   },
   {
    "duration": 0,
    "start_time": "2022-06-15T15:53:42.857Z"
   },
   {
    "duration": 0,
    "start_time": "2022-06-15T15:53:42.858Z"
   },
   {
    "duration": 0,
    "start_time": "2022-06-15T15:53:42.859Z"
   },
   {
    "duration": 0,
    "start_time": "2022-06-15T15:53:42.860Z"
   },
   {
    "duration": 0,
    "start_time": "2022-06-15T15:53:42.861Z"
   },
   {
    "duration": 0,
    "start_time": "2022-06-15T15:53:42.863Z"
   },
   {
    "duration": 0,
    "start_time": "2022-06-15T15:53:42.864Z"
   },
   {
    "duration": 252,
    "start_time": "2022-06-15T15:56:27.102Z"
   },
   {
    "duration": 252,
    "start_time": "2022-06-15T15:58:05.626Z"
   },
   {
    "duration": 217,
    "start_time": "2022-06-15T15:58:06.265Z"
   },
   {
    "duration": 330,
    "start_time": "2022-06-15T15:58:06.841Z"
   },
   {
    "duration": 16,
    "start_time": "2022-06-15T15:58:07.173Z"
   },
   {
    "duration": 14,
    "start_time": "2022-06-15T15:58:11.233Z"
   },
   {
    "duration": 11,
    "start_time": "2022-06-15T15:58:21.234Z"
   },
   {
    "duration": 8,
    "start_time": "2022-06-15T15:58:25.359Z"
   },
   {
    "duration": 10,
    "start_time": "2022-06-15T15:58:31.911Z"
   },
   {
    "duration": 36,
    "start_time": "2022-06-15T16:36:08.043Z"
   },
   {
    "duration": 59,
    "start_time": "2022-06-15T16:38:12.458Z"
   },
   {
    "duration": 15,
    "start_time": "2022-06-15T16:39:54.571Z"
   },
   {
    "duration": 105,
    "start_time": "2022-06-15T16:40:14.774Z"
   },
   {
    "duration": 18,
    "start_time": "2022-06-15T16:40:31.219Z"
   },
   {
    "duration": 16,
    "start_time": "2022-06-15T16:41:26.295Z"
   },
   {
    "duration": 15,
    "start_time": "2022-06-15T16:41:38.907Z"
   },
   {
    "duration": 7,
    "start_time": "2022-06-15T16:41:59.210Z"
   },
   {
    "duration": 10,
    "start_time": "2022-06-15T16:42:05.469Z"
   },
   {
    "duration": 13,
    "start_time": "2022-06-15T16:42:13.596Z"
   },
   {
    "duration": 10,
    "start_time": "2022-06-15T16:42:49.271Z"
   },
   {
    "duration": 12,
    "start_time": "2022-06-15T16:43:51.851Z"
   },
   {
    "duration": 11,
    "start_time": "2022-06-15T16:44:50.942Z"
   },
   {
    "duration": 36,
    "start_time": "2022-06-15T16:45:13.931Z"
   },
   {
    "duration": 29,
    "start_time": "2022-06-15T16:47:59.660Z"
   },
   {
    "duration": 44,
    "start_time": "2022-06-15T16:48:13.926Z"
   },
   {
    "duration": 177,
    "start_time": "2022-06-15T16:48:28.342Z"
   },
   {
    "duration": 180,
    "start_time": "2022-06-15T16:51:44.357Z"
   },
   {
    "duration": 164,
    "start_time": "2022-06-15T16:51:55.189Z"
   },
   {
    "duration": 184,
    "start_time": "2022-06-15T16:52:05.883Z"
   },
   {
    "duration": 1122,
    "start_time": "2022-06-15T16:54:45.191Z"
   },
   {
    "duration": 63,
    "start_time": "2022-06-15T16:54:46.315Z"
   },
   {
    "duration": 14,
    "start_time": "2022-06-15T16:54:46.380Z"
   },
   {
    "duration": 35,
    "start_time": "2022-06-15T16:54:46.396Z"
   },
   {
    "duration": 10,
    "start_time": "2022-06-15T16:54:46.433Z"
   },
   {
    "duration": 24,
    "start_time": "2022-06-15T16:54:46.446Z"
   },
   {
    "duration": 23,
    "start_time": "2022-06-15T16:54:46.472Z"
   },
   {
    "duration": 20,
    "start_time": "2022-06-15T16:54:46.497Z"
   },
   {
    "duration": 30,
    "start_time": "2022-06-15T16:54:46.526Z"
   },
   {
    "duration": 17,
    "start_time": "2022-06-15T16:54:46.559Z"
   },
   {
    "duration": 20,
    "start_time": "2022-06-15T16:54:46.578Z"
   },
   {
    "duration": 396,
    "start_time": "2022-06-15T16:54:46.600Z"
   },
   {
    "duration": 9,
    "start_time": "2022-06-15T16:54:46.998Z"
   },
   {
    "duration": 19,
    "start_time": "2022-06-15T16:54:47.008Z"
   },
   {
    "duration": 8,
    "start_time": "2022-06-15T16:54:47.029Z"
   },
   {
    "duration": 15,
    "start_time": "2022-06-15T16:54:47.039Z"
   },
   {
    "duration": 10,
    "start_time": "2022-06-15T16:54:47.056Z"
   },
   {
    "duration": 27,
    "start_time": "2022-06-15T16:54:47.068Z"
   },
   {
    "duration": 224,
    "start_time": "2022-06-15T16:54:47.097Z"
   },
   {
    "duration": 450,
    "start_time": "2022-06-15T16:54:47.325Z"
   },
   {
    "duration": 16,
    "start_time": "2022-06-15T16:54:47.777Z"
   },
   {
    "duration": 9,
    "start_time": "2022-06-15T16:54:47.794Z"
   },
   {
    "duration": 324,
    "start_time": "2022-06-15T16:54:47.805Z"
   },
   {
    "duration": 534,
    "start_time": "2022-06-15T16:54:48.130Z"
   },
   {
    "duration": 759,
    "start_time": "2022-06-15T16:54:48.667Z"
   },
   {
    "duration": 6,
    "start_time": "2022-06-15T16:54:49.428Z"
   },
   {
    "duration": 14,
    "start_time": "2022-06-15T16:54:49.436Z"
   },
   {
    "duration": 7,
    "start_time": "2022-06-15T16:54:49.453Z"
   },
   {
    "duration": 404,
    "start_time": "2022-06-15T16:54:49.461Z"
   },
   {
    "duration": 304,
    "start_time": "2022-06-15T16:54:49.867Z"
   },
   {
    "duration": 159,
    "start_time": "2022-06-15T16:54:50.172Z"
   },
   {
    "duration": 274,
    "start_time": "2022-06-15T16:54:50.332Z"
   },
   {
    "duration": 272,
    "start_time": "2022-06-15T16:54:50.608Z"
   },
   {
    "duration": 221,
    "start_time": "2022-06-15T16:54:50.882Z"
   },
   {
    "duration": 23,
    "start_time": "2022-06-15T16:54:51.105Z"
   },
   {
    "duration": 21,
    "start_time": "2022-06-15T16:54:51.130Z"
   },
   {
    "duration": 21,
    "start_time": "2022-06-15T16:54:51.152Z"
   },
   {
    "duration": 294,
    "start_time": "2022-06-15T16:56:12.425Z"
   },
   {
    "duration": 225,
    "start_time": "2022-06-15T16:57:26.451Z"
   },
   {
    "duration": 257,
    "start_time": "2022-06-15T16:57:42.054Z"
   },
   {
    "duration": 372,
    "start_time": "2022-06-15T16:59:05.924Z"
   },
   {
    "duration": 348,
    "start_time": "2022-06-15T16:59:13.025Z"
   },
   {
    "duration": 352,
    "start_time": "2022-06-15T16:59:33.150Z"
   },
   {
    "duration": 527,
    "start_time": "2022-06-15T17:00:09.010Z"
   },
   {
    "duration": 332,
    "start_time": "2022-06-15T17:01:07.150Z"
   },
   {
    "duration": 37,
    "start_time": "2022-06-15T17:02:01.805Z"
   },
   {
    "duration": 420,
    "start_time": "2022-06-15T17:02:09.863Z"
   },
   {
    "duration": 311,
    "start_time": "2022-06-15T17:02:19.170Z"
   },
   {
    "duration": 334,
    "start_time": "2022-06-15T17:02:23.952Z"
   },
   {
    "duration": 402,
    "start_time": "2022-06-15T17:02:32.801Z"
   },
   {
    "duration": 339,
    "start_time": "2022-06-15T17:03:00.503Z"
   },
   {
    "duration": 358,
    "start_time": "2022-06-15T17:03:48.948Z"
   },
   {
    "duration": 224,
    "start_time": "2022-06-15T17:08:52.708Z"
   },
   {
    "duration": 310,
    "start_time": "2022-06-15T17:09:51.148Z"
   },
   {
    "duration": 306,
    "start_time": "2022-06-15T17:10:39.915Z"
   },
   {
    "duration": 266,
    "start_time": "2022-06-15T17:10:58.409Z"
   },
   {
    "duration": 269,
    "start_time": "2022-06-15T17:11:10.466Z"
   },
   {
    "duration": 226,
    "start_time": "2022-06-15T17:11:49.575Z"
   },
   {
    "duration": 225,
    "start_time": "2022-06-15T17:11:55.144Z"
   },
   {
    "duration": 25,
    "start_time": "2022-06-15T17:13:59.960Z"
   },
   {
    "duration": 15,
    "start_time": "2022-06-15T17:14:15.734Z"
   },
   {
    "duration": 22,
    "start_time": "2022-06-15T17:14:28.103Z"
   },
   {
    "duration": 17,
    "start_time": "2022-06-15T17:14:49.108Z"
   },
   {
    "duration": 148,
    "start_time": "2022-06-15T17:15:00.637Z"
   },
   {
    "duration": 163,
    "start_time": "2022-06-15T17:15:16.727Z"
   },
   {
    "duration": 361,
    "start_time": "2022-06-15T17:17:58.637Z"
   },
   {
    "duration": 328,
    "start_time": "2022-06-15T17:18:32.789Z"
   },
   {
    "duration": 536,
    "start_time": "2022-06-15T17:18:42.864Z"
   },
   {
    "duration": 276,
    "start_time": "2022-06-15T17:18:53.384Z"
   },
   {
    "duration": 1154,
    "start_time": "2022-06-15T17:20:10.127Z"
   },
   {
    "duration": 59,
    "start_time": "2022-06-15T17:20:11.283Z"
   },
   {
    "duration": 13,
    "start_time": "2022-06-15T17:20:11.343Z"
   },
   {
    "duration": 24,
    "start_time": "2022-06-15T17:20:11.358Z"
   },
   {
    "duration": 9,
    "start_time": "2022-06-15T17:20:11.383Z"
   },
   {
    "duration": 41,
    "start_time": "2022-06-15T17:20:11.394Z"
   },
   {
    "duration": 13,
    "start_time": "2022-06-15T17:20:11.436Z"
   },
   {
    "duration": 2,
    "start_time": "2022-06-15T17:20:11.450Z"
   },
   {
    "duration": 16,
    "start_time": "2022-06-15T17:20:11.453Z"
   },
   {
    "duration": 10,
    "start_time": "2022-06-15T17:20:11.471Z"
   },
   {
    "duration": 8,
    "start_time": "2022-06-15T17:20:11.482Z"
   },
   {
    "duration": 372,
    "start_time": "2022-06-15T17:20:11.492Z"
   },
   {
    "duration": 7,
    "start_time": "2022-06-15T17:20:11.865Z"
   },
   {
    "duration": 14,
    "start_time": "2022-06-15T17:20:11.873Z"
   },
   {
    "duration": 5,
    "start_time": "2022-06-15T17:20:11.888Z"
   },
   {
    "duration": 11,
    "start_time": "2022-06-15T17:20:11.895Z"
   },
   {
    "duration": 6,
    "start_time": "2022-06-15T17:20:11.925Z"
   },
   {
    "duration": 26,
    "start_time": "2022-06-15T17:20:11.932Z"
   },
   {
    "duration": 204,
    "start_time": "2022-06-15T17:20:11.959Z"
   },
   {
    "duration": 354,
    "start_time": "2022-06-15T17:20:12.164Z"
   },
   {
    "duration": 13,
    "start_time": "2022-06-15T17:20:12.520Z"
   },
   {
    "duration": 6,
    "start_time": "2022-06-15T17:20:12.535Z"
   },
   {
    "duration": 314,
    "start_time": "2022-06-15T17:20:12.542Z"
   },
   {
    "duration": 318,
    "start_time": "2022-06-15T17:20:12.857Z"
   },
   {
    "duration": 258,
    "start_time": "2022-06-15T17:20:13.177Z"
   },
   {
    "duration": 5,
    "start_time": "2022-06-15T17:20:13.437Z"
   },
   {
    "duration": 17,
    "start_time": "2022-06-15T17:20:13.444Z"
   },
   {
    "duration": 23,
    "start_time": "2022-06-15T17:20:13.464Z"
   },
   {
    "duration": 242,
    "start_time": "2022-06-15T17:20:13.489Z"
   },
   {
    "duration": 145,
    "start_time": "2022-06-15T17:20:13.732Z"
   },
   {
    "duration": 169,
    "start_time": "2022-06-15T17:20:13.879Z"
   },
   {
    "duration": 268,
    "start_time": "2022-06-15T17:20:14.049Z"
   },
   {
    "duration": 325,
    "start_time": "2022-06-15T17:20:14.318Z"
   },
   {
    "duration": 231,
    "start_time": "2022-06-15T17:20:14.645Z"
   },
   {
    "duration": 10,
    "start_time": "2022-06-15T17:20:14.877Z"
   },
   {
    "duration": 12,
    "start_time": "2022-06-15T17:20:14.888Z"
   }
  ],
  "kernelspec": {
   "display_name": "Python 3 (ipykernel)",
   "language": "python",
   "name": "python3"
  },
  "language_info": {
   "codemirror_mode": {
    "name": "ipython",
    "version": 3
   },
   "file_extension": ".py",
   "mimetype": "text/x-python",
   "name": "python",
   "nbconvert_exporter": "python",
   "pygments_lexer": "ipython3",
   "version": "3.10.7"
  },
  "toc": {
   "base_numbering": 1,
   "nav_menu": {},
   "number_sections": true,
   "sideBar": true,
   "skip_h1_title": true,
   "title_cell": "Table of Contents",
   "title_sidebar": "Table of Contents",
   "toc_cell": true,
   "toc_position": {
    "height": "calc(100% - 180px)",
    "left": "10px",
    "top": "150px",
    "width": "402.5px"
   },
   "toc_section_display": true,
   "toc_window_display": true
  }
 },
 "nbformat": 4,
 "nbformat_minor": 2
}
